{
 "cells": [
  {
   "cell_type": "markdown",
   "id": "african-museum",
   "metadata": {},
   "source": [
    "# GeoTime Classify Examples\n",
    "\n",
    "All date formats are in the [Unicode Locale Data Markup Language (LDML)](https://unicode.org/reports/tr35/tr35-dates.html#Date_Field_Symbol_Table) format."
   ]
  },
  {
   "cell_type": "code",
   "execution_count": 1,
   "id": "victorian-paragraph",
   "metadata": {},
   "outputs": [],
   "source": [
    "import pandas as pd\n",
    "from IPython.utils import io\n",
    "from geotime_classify import geotime_classify as gc"
   ]
  },
  {
   "cell_type": "code",
   "execution_count": 2,
   "id": "shaped-bidder",
   "metadata": {},
   "outputs": [],
   "source": [
    "GeoTimeClass = gc.GeoTimeClassify(10)"
   ]
  },
  {
   "cell_type": "markdown",
   "id": "hollow-probe",
   "metadata": {},
   "source": [
    "# Example Dataset 1:\n",
    "\n",
    "This dataset contains latitude, longitude and a date.\n",
    "\n",
    "All fields are correctly classified, including zero-padded month and day in the `date` field."
   ]
  },
  {
   "cell_type": "code",
   "execution_count": 5,
   "id": "revised-mainstream",
   "metadata": {},
   "outputs": [
    {
     "data": {
      "text/html": [
       "<div>\n",
       "<style scoped>\n",
       "    .dataframe tbody tr th:only-of-type {\n",
       "        vertical-align: middle;\n",
       "    }\n",
       "\n",
       "    .dataframe tbody tr th {\n",
       "        vertical-align: top;\n",
       "    }\n",
       "\n",
       "    .dataframe thead th {\n",
       "        text-align: right;\n",
       "    }\n",
       "</style>\n",
       "<table border=\"1\" class=\"dataframe\">\n",
       "  <thead>\n",
       "    <tr style=\"text-align: right;\">\n",
       "      <th></th>\n",
       "      <th>latitude</th>\n",
       "      <th>longitude</th>\n",
       "      <th>date</th>\n",
       "      <th>value</th>\n",
       "    </tr>\n",
       "  </thead>\n",
       "  <tbody>\n",
       "    <tr>\n",
       "      <th>95</th>\n",
       "      <td>-76.733088</td>\n",
       "      <td>-174.133691</td>\n",
       "      <td>1993-03-14</td>\n",
       "      <td>41.356871</td>\n",
       "    </tr>\n",
       "    <tr>\n",
       "      <th>96</th>\n",
       "      <td>-40.785599</td>\n",
       "      <td>-91.011154</td>\n",
       "      <td>2020-06-02</td>\n",
       "      <td>28.407152</td>\n",
       "    </tr>\n",
       "    <tr>\n",
       "      <th>97</th>\n",
       "      <td>-72.360866</td>\n",
       "      <td>179.958728</td>\n",
       "      <td>2000-09-13</td>\n",
       "      <td>3.965644</td>\n",
       "    </tr>\n",
       "    <tr>\n",
       "      <th>98</th>\n",
       "      <td>-21.094760</td>\n",
       "      <td>52.549315</td>\n",
       "      <td>1986-07-13</td>\n",
       "      <td>33.240188</td>\n",
       "    </tr>\n",
       "    <tr>\n",
       "      <th>99</th>\n",
       "      <td>-9.961648</td>\n",
       "      <td>104.370319</td>\n",
       "      <td>1971-01-09</td>\n",
       "      <td>47.191888</td>\n",
       "    </tr>\n",
       "  </tbody>\n",
       "</table>\n",
       "</div>"
      ],
      "text/plain": [
       "     latitude   longitude        date      value\n",
       "95 -76.733088 -174.133691  1993-03-14  41.356871\n",
       "96 -40.785599  -91.011154  2020-06-02  28.407152\n",
       "97 -72.360866  179.958728  2000-09-13   3.965644\n",
       "98 -21.094760   52.549315  1986-07-13  33.240188\n",
       "99  -9.961648  104.370319  1971-01-09  47.191888"
      ]
     },
     "execution_count": 5,
     "metadata": {},
     "output_type": "execute_result"
    }
   ],
   "source": [
    "pd.read_csv('example_1.csv').tail()"
   ]
  },
  {
   "cell_type": "code",
   "execution_count": 16,
   "id": "incoming-photograph",
   "metadata": {},
   "outputs": [
    {
     "name": "stdout",
     "output_type": "stream",
     "text": [
      "Start LSTM predictions ...\n",
      "Start geo validation ...\n",
      "Start geo validation ...\n",
      "Start geo validation ...\n"
     ]
    }
   ],
   "source": [
    "c_classified=GeoTimeClass.columns_classified('example_1.csv')"
   ]
  },
  {
   "cell_type": "code",
   "execution_count": 17,
   "id": "suitable-batch",
   "metadata": {},
   "outputs": [
    {
     "name": "stdout",
     "output_type": "stream",
     "text": [
      "latitude: [{'Category': 'Geo', 'type': 'Latitude (number)'}]\n",
      "longitude: [{'Category': 'Geo', 'type': 'Longitude (number)'}]\n",
      "date: [{'Category': 'Date', 'Format': 'y-MM-dd', 'Parser': 'Util', 'DayFirst': False}]\n",
      "value: [{'Category': 'Geo', 'type': 'Latitude (number)'}]\n"
     ]
    }
   ],
   "source": [
    "for c in c_classified:\n",
    "    print(f\"{c['column']}: {c['classification']}\")"
   ]
  },
  {
   "cell_type": "markdown",
   "id": "amazing-mortgage",
   "metadata": {
    "scrolled": true
   },
   "source": [
    "## Format date columns\n",
    "Beyond the predictions we can add standarized date columns by using the add_iso8601_columns function. This doesn't work in every situation but it can be useful.The new column will be named ISO_8601_ plus the index of the column being transformed. In this case the date column is in index 2 for this dataframe. "
   ]
  },
  {
   "cell_type": "code",
   "execution_count": 20,
   "id": "spectacular-passage",
   "metadata": {},
   "outputs": [],
   "source": [
    "\n",
    "with io.capture_output() as captured:\n",
    "    c_classified=GeoTimeClass.add_iso8601_columns('example_1.csv', formats='%s')"
   ]
  },
  {
   "cell_type": "code",
   "execution_count": 21,
   "id": "brilliant-orleans",
   "metadata": {},
   "outputs": [
    {
     "data": {
      "text/html": [
       "<div>\n",
       "<style scoped>\n",
       "    .dataframe tbody tr th:only-of-type {\n",
       "        vertical-align: middle;\n",
       "    }\n",
       "\n",
       "    .dataframe tbody tr th {\n",
       "        vertical-align: top;\n",
       "    }\n",
       "\n",
       "    .dataframe thead th {\n",
       "        text-align: right;\n",
       "    }\n",
       "</style>\n",
       "<table border=\"1\" class=\"dataframe\">\n",
       "  <thead>\n",
       "    <tr style=\"text-align: right;\">\n",
       "      <th></th>\n",
       "      <th>latitude</th>\n",
       "      <th>longitude</th>\n",
       "      <th>date</th>\n",
       "      <th>value</th>\n",
       "      <th>ISO_8601_2</th>\n",
       "    </tr>\n",
       "  </thead>\n",
       "  <tbody>\n",
       "    <tr>\n",
       "      <th>0</th>\n",
       "      <td>-65.202852</td>\n",
       "      <td>-51.321629</td>\n",
       "      <td>1985-01-25</td>\n",
       "      <td>22.439431</td>\n",
       "      <td>475477200</td>\n",
       "    </tr>\n",
       "    <tr>\n",
       "      <th>1</th>\n",
       "      <td>71.084338</td>\n",
       "      <td>80.259661</td>\n",
       "      <td>1996-08-14</td>\n",
       "      <td>31.091719</td>\n",
       "      <td>839995200</td>\n",
       "    </tr>\n",
       "    <tr>\n",
       "      <th>2</th>\n",
       "      <td>-33.661254</td>\n",
       "      <td>3.735232</td>\n",
       "      <td>1987-01-21</td>\n",
       "      <td>47.118235</td>\n",
       "      <td>538203600</td>\n",
       "    </tr>\n",
       "    <tr>\n",
       "      <th>3</th>\n",
       "      <td>-88.514946</td>\n",
       "      <td>-165.692973</td>\n",
       "      <td>2012-04-28</td>\n",
       "      <td>16.431557</td>\n",
       "      <td>1335585600</td>\n",
       "    </tr>\n",
       "    <tr>\n",
       "      <th>4</th>\n",
       "      <td>-81.020485</td>\n",
       "      <td>7.985187</td>\n",
       "      <td>1995-09-14</td>\n",
       "      <td>52.348503</td>\n",
       "      <td>811051200</td>\n",
       "    </tr>\n",
       "  </tbody>\n",
       "</table>\n",
       "</div>"
      ],
      "text/plain": [
       "    latitude   longitude        date      value  ISO_8601_2\n",
       "0 -65.202852  -51.321629  1985-01-25  22.439431   475477200\n",
       "1  71.084338   80.259661  1996-08-14  31.091719   839995200\n",
       "2 -33.661254    3.735232  1987-01-21  47.118235   538203600\n",
       "3 -88.514946 -165.692973  2012-04-28  16.431557  1335585600\n",
       "4 -81.020485    7.985187  1995-09-14  52.348503   811051200"
      ]
     },
     "execution_count": 21,
     "metadata": {},
     "output_type": "execute_result"
    }
   ],
   "source": [
    "c_classified.head()"
   ]
  },
  {
   "cell_type": "markdown",
   "id": "global-deficit",
   "metadata": {},
   "source": [
    "# Example Dataset 2:\n",
    "\n",
    "In this dataset, `latitude` and `longitude` are labelled `y` and `x` respectively, adding a challenge.\n",
    "\n",
    "Additionally, this dataset has `city` and `country` (which is a country code). The `ts` column is a long date.\n",
    "\n",
    "All columns are correctly classified. Note that the date format accounts for the missing zero-padding on the day. \n"
   ]
  },
  {
   "cell_type": "code",
   "execution_count": 22,
   "id": "moved-malpractice",
   "metadata": {},
   "outputs": [
    {
     "data": {
      "text/html": [
       "<div>\n",
       "<style scoped>\n",
       "    .dataframe tbody tr th:only-of-type {\n",
       "        vertical-align: middle;\n",
       "    }\n",
       "\n",
       "    .dataframe tbody tr th {\n",
       "        vertical-align: top;\n",
       "    }\n",
       "\n",
       "    .dataframe thead th {\n",
       "        text-align: right;\n",
       "    }\n",
       "</style>\n",
       "<table border=\"1\" class=\"dataframe\">\n",
       "  <thead>\n",
       "    <tr style=\"text-align: right;\">\n",
       "      <th></th>\n",
       "      <th>y</th>\n",
       "      <th>x</th>\n",
       "      <th>city</th>\n",
       "      <th>country</th>\n",
       "      <th>ts</th>\n",
       "      <th>value</th>\n",
       "    </tr>\n",
       "  </thead>\n",
       "  <tbody>\n",
       "    <tr>\n",
       "      <th>95</th>\n",
       "      <td>-34.88422</td>\n",
       "      <td>150.60036</td>\n",
       "      <td>Nowra</td>\n",
       "      <td>AU</td>\n",
       "      <td>January 24, 2001</td>\n",
       "      <td>6505</td>\n",
       "    </tr>\n",
       "    <tr>\n",
       "      <th>96</th>\n",
       "      <td>51.44889</td>\n",
       "      <td>5.51978</td>\n",
       "      <td>Tongelre</td>\n",
       "      <td>NL</td>\n",
       "      <td>November 28, 1999</td>\n",
       "      <td>3884</td>\n",
       "    </tr>\n",
       "    <tr>\n",
       "      <th>97</th>\n",
       "      <td>45.35000</td>\n",
       "      <td>126.28333</td>\n",
       "      <td>Shuangcheng</td>\n",
       "      <td>CN</td>\n",
       "      <td>November 14, 1999</td>\n",
       "      <td>7885</td>\n",
       "    </tr>\n",
       "    <tr>\n",
       "      <th>98</th>\n",
       "      <td>44.31771</td>\n",
       "      <td>9.32241</td>\n",
       "      <td>Chiavari</td>\n",
       "      <td>IT</td>\n",
       "      <td>December 1, 1979</td>\n",
       "      <td>6175</td>\n",
       "    </tr>\n",
       "    <tr>\n",
       "      <th>99</th>\n",
       "      <td>46.09273</td>\n",
       "      <td>-88.64235</td>\n",
       "      <td>Iron River</td>\n",
       "      <td>US</td>\n",
       "      <td>November 21, 1973</td>\n",
       "      <td>7970</td>\n",
       "    </tr>\n",
       "  </tbody>\n",
       "</table>\n",
       "</div>"
      ],
      "text/plain": [
       "           y          x         city country                 ts  value\n",
       "95 -34.88422  150.60036        Nowra      AU   January 24, 2001   6505\n",
       "96  51.44889    5.51978     Tongelre      NL  November 28, 1999   3884\n",
       "97  45.35000  126.28333  Shuangcheng      CN  November 14, 1999   7885\n",
       "98  44.31771    9.32241     Chiavari      IT   December 1, 1979   6175\n",
       "99  46.09273  -88.64235   Iron River      US  November 21, 1973   7970"
      ]
     },
     "execution_count": 22,
     "metadata": {},
     "output_type": "execute_result"
    }
   ],
   "source": [
    "pd.read_csv('example_2.csv').tail()"
   ]
  },
  {
   "cell_type": "code",
   "execution_count": 23,
   "id": "rubber-moderator",
   "metadata": {
    "scrolled": true
   },
   "outputs": [],
   "source": [
    "with io.capture_output() as captured:\n",
    "    c_classified=GeoTimeClass.columns_classified('example_2.csv')"
   ]
  },
  {
   "cell_type": "code",
   "execution_count": 24,
   "id": "religious-welding",
   "metadata": {
    "scrolled": true
   },
   "outputs": [
    {
     "name": "stdout",
     "output_type": "stream",
     "text": [
      "y: [{'Category': 'Geo', 'type': 'Latitude (number)'}]\n",
      "x: [{'Category': 'Geo', 'type': 'Longitude (number)'}]\n",
      "city: [{'Category': 'City Name'}]\n",
      "country: [{'Category': 'ISO2'}]\n",
      "ts: [{'Category': 'Date', 'Format': 'LLLL d, y', 'Parser': 'Util'}]\n",
      "value: [{'Category': 'None'}]\n"
     ]
    }
   ],
   "source": [
    "for c in c_classified:\n",
    "    print(f\"{c['column']}: {c['classification']}\")"
   ]
  },
  {
   "cell_type": "markdown",
   "id": "approximate-generic",
   "metadata": {},
   "source": [
    "# Example Dataset 3:\n",
    "\n",
    "\n",
    "This dataset has a date related challenge: date is now split across 3 columns (`month`, `day`, `year`). These columns are correctly identified.\n",
    "\n",
    "Additionally a `region` column is introduced and is correctly categorized as `Continent`."
   ]
  },
  {
   "cell_type": "code",
   "execution_count": 25,
   "id": "robust-nepal",
   "metadata": {},
   "outputs": [
    {
     "data": {
      "text/html": [
       "<div>\n",
       "<style scoped>\n",
       "    .dataframe tbody tr th:only-of-type {\n",
       "        vertical-align: middle;\n",
       "    }\n",
       "\n",
       "    .dataframe tbody tr th {\n",
       "        vertical-align: top;\n",
       "    }\n",
       "\n",
       "    .dataframe thead th {\n",
       "        text-align: right;\n",
       "    }\n",
       "</style>\n",
       "<table border=\"1\" class=\"dataframe\">\n",
       "  <thead>\n",
       "    <tr style=\"text-align: right;\">\n",
       "      <th></th>\n",
       "      <th>lat</th>\n",
       "      <th>lng</th>\n",
       "      <th>region</th>\n",
       "      <th>place_name</th>\n",
       "      <th>month</th>\n",
       "      <th>day</th>\n",
       "      <th>year</th>\n",
       "      <th>value</th>\n",
       "    </tr>\n",
       "  </thead>\n",
       "  <tbody>\n",
       "    <tr>\n",
       "      <th>0</th>\n",
       "      <td>17.30858</td>\n",
       "      <td>97.01124</td>\n",
       "      <td>Asia</td>\n",
       "      <td>Yangon</td>\n",
       "      <td>1</td>\n",
       "      <td>22</td>\n",
       "      <td>1997</td>\n",
       "      <td>3660</td>\n",
       "    </tr>\n",
       "    <tr>\n",
       "      <th>1</th>\n",
       "      <td>40.60538</td>\n",
       "      <td>-73.75513</td>\n",
       "      <td>America</td>\n",
       "      <td>New York</td>\n",
       "      <td>11</td>\n",
       "      <td>5</td>\n",
       "      <td>1983</td>\n",
       "      <td>9859</td>\n",
       "    </tr>\n",
       "    <tr>\n",
       "      <th>2</th>\n",
       "      <td>33.41012</td>\n",
       "      <td>-91.06177</td>\n",
       "      <td>America</td>\n",
       "      <td>Chicago</td>\n",
       "      <td>8</td>\n",
       "      <td>21</td>\n",
       "      <td>1982</td>\n",
       "      <td>1906</td>\n",
       "    </tr>\n",
       "    <tr>\n",
       "      <th>3</th>\n",
       "      <td>38.58894</td>\n",
       "      <td>-89.99038</td>\n",
       "      <td>America</td>\n",
       "      <td>Chicago</td>\n",
       "      <td>5</td>\n",
       "      <td>9</td>\n",
       "      <td>1991</td>\n",
       "      <td>2960</td>\n",
       "    </tr>\n",
       "    <tr>\n",
       "      <th>4</th>\n",
       "      <td>51.67822</td>\n",
       "      <td>33.91620</td>\n",
       "      <td>Europe</td>\n",
       "      <td>Kiev</td>\n",
       "      <td>1</td>\n",
       "      <td>20</td>\n",
       "      <td>2010</td>\n",
       "      <td>9377</td>\n",
       "    </tr>\n",
       "  </tbody>\n",
       "</table>\n",
       "</div>"
      ],
      "text/plain": [
       "        lat       lng   region place_name  month  day  year  value\n",
       "0  17.30858  97.01124     Asia     Yangon      1   22  1997   3660\n",
       "1  40.60538 -73.75513  America   New York     11    5  1983   9859\n",
       "2  33.41012 -91.06177  America    Chicago      8   21  1982   1906\n",
       "3  38.58894 -89.99038  America    Chicago      5    9  1991   2960\n",
       "4  51.67822  33.91620   Europe       Kiev      1   20  2010   9377"
      ]
     },
     "execution_count": 25,
     "metadata": {},
     "output_type": "execute_result"
    }
   ],
   "source": [
    "pd.read_csv('example_3.csv').head()"
   ]
  },
  {
   "cell_type": "code",
   "execution_count": 26,
   "id": "racial-electric",
   "metadata": {},
   "outputs": [
    {
     "name": "stdout",
     "output_type": "stream",
     "text": [
      "Start LSTM predictions ...\n",
      "Start geo validation ...\n",
      "Start geo validation ...\n",
      "Start continent validation ...\n",
      "Start country validation ...\n",
      "Start state validation ...\n",
      "Start cities validation ...\n",
      "Start city validation ...\n",
      "Start year validation ...\n"
     ]
    }
   ],
   "source": [
    "preds=GeoTimeClass.columns_classified('example_3.csv')"
   ]
  },
  {
   "cell_type": "code",
   "execution_count": 27,
   "id": "biblical-suspect",
   "metadata": {},
   "outputs": [
    {
     "data": {
      "text/plain": [
       "[{'column': 'lat',\n",
       "  'classification': [{'Category': 'Geo', 'type': 'Latitude (number)'}],\n",
       "  'fuzzyColumn': 'Lat'},\n",
       " {'column': 'lng',\n",
       "  'classification': [{'Category': 'Geo', 'type': 'Longitude (number)'}],\n",
       "  'fuzzyColumn': 'lng'},\n",
       " {'column': 'region',\n",
       "  'classification': [{'Category': 'Continent'}],\n",
       "  'fuzzyColumn': 'Region'},\n",
       " {'column': 'place_name', 'classification': [{'Category': 'City Name'}]},\n",
       " {'column': 'month',\n",
       "  'classification': [{'Category': 'Month Number'}],\n",
       "  'fuzzyColumn': 'Month'},\n",
       " {'column': 'day', 'classification': [{'Category': 'Day Number'}]},\n",
       " {'column': 'year',\n",
       "  'classification': [{'Category': 'Year'}],\n",
       "  'fuzzyColumn': 'Year'},\n",
       " {'column': 'value', 'classification': [{'Category': 'None'}]}]"
      ]
     },
     "execution_count": 27,
     "metadata": {},
     "output_type": "execute_result"
    }
   ],
   "source": [
    "preds"
   ]
  },
  {
   "cell_type": "code",
   "execution_count": null,
   "id": "confirmed-armor",
   "metadata": {
    "scrolled": true
   },
   "outputs": [],
   "source": [
    "with io.capture_output() as captured:\n",
    "    c_classified=GeoTimeClass.columns_classified('example_3.csv')"
   ]
  },
  {
   "cell_type": "code",
   "execution_count": 13,
   "id": "crude-composition",
   "metadata": {},
   "outputs": [],
   "source": [
    "for c in c_classified:\n",
    "    print(f\"{c['column']}: {c['classification']}\")"
   ]
  }
 ],
 "metadata": {
  "kernelspec": {
   "display_name": "Python 3",
   "language": "python",
   "name": "python3"
  },
  "language_info": {
   "codemirror_mode": {
    "name": "ipython",
    "version": 3
   },
   "file_extension": ".py",
   "mimetype": "text/x-python",
   "name": "python",
   "nbconvert_exporter": "python",
   "pygments_lexer": "ipython3",
   "version": "3.8.0"
  }
 },
 "nbformat": 4,
 "nbformat_minor": 5
}
