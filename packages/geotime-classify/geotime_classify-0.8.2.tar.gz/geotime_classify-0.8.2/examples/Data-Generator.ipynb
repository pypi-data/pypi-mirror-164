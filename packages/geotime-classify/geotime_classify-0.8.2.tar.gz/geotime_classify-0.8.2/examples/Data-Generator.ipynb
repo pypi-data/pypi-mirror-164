{
 "cells": [
  {
   "cell_type": "markdown",
   "id": "mental-desperate",
   "metadata": {},
   "source": [
    "# Data Generator for Examples\n",
    "\n",
    "requires `pip install faker`"
   ]
  },
  {
   "cell_type": "code",
   "execution_count": 2,
   "id": "magnetic-advancement",
   "metadata": {},
   "outputs": [],
   "source": [
    "import random\n",
    "import json\n",
    "import pandas as pd\n",
    "from faker import Faker\n",
    "from collections import OrderedDict"
   ]
  },
  {
   "cell_type": "code",
   "execution_count": 46,
   "id": "daily-castle",
   "metadata": {},
   "outputs": [],
   "source": [
    "locales = OrderedDict([\n",
    "    ('en-US', 1)\n",
    "])\n",
    "fake = Faker(locales)\n",
    "f = fake['en_US']"
   ]
  },
  {
   "cell_type": "markdown",
   "id": "sized-consciousness",
   "metadata": {},
   "source": [
    "## Example 1"
   ]
  },
  {
   "cell_type": "code",
   "execution_count": 48,
   "id": "grand-coordinate",
   "metadata": {},
   "outputs": [
    {
     "data": {
      "text/html": [
       "<div>\n",
       "<style scoped>\n",
       "    .dataframe tbody tr th:only-of-type {\n",
       "        vertical-align: middle;\n",
       "    }\n",
       "\n",
       "    .dataframe tbody tr th {\n",
       "        vertical-align: top;\n",
       "    }\n",
       "\n",
       "    .dataframe thead th {\n",
       "        text-align: right;\n",
       "    }\n",
       "</style>\n",
       "<table border=\"1\" class=\"dataframe\">\n",
       "  <thead>\n",
       "    <tr style=\"text-align: right;\">\n",
       "      <th></th>\n",
       "      <th>latitude</th>\n",
       "      <th>longitude</th>\n",
       "      <th>date</th>\n",
       "      <th>value</th>\n",
       "    </tr>\n",
       "  </thead>\n",
       "  <tbody>\n",
       "    <tr>\n",
       "      <th>0</th>\n",
       "      <td>53.220996</td>\n",
       "      <td>136.263142</td>\n",
       "      <td>1996-12-21</td>\n",
       "      <td>0.780757</td>\n",
       "    </tr>\n",
       "    <tr>\n",
       "      <th>1</th>\n",
       "      <td>89.484277</td>\n",
       "      <td>104.904934</td>\n",
       "      <td>1972-12-25</td>\n",
       "      <td>0.464062</td>\n",
       "    </tr>\n",
       "    <tr>\n",
       "      <th>2</th>\n",
       "      <td>10.3750245</td>\n",
       "      <td>137.419205</td>\n",
       "      <td>1986-09-30</td>\n",
       "      <td>0.625654</td>\n",
       "    </tr>\n",
       "    <tr>\n",
       "      <th>3</th>\n",
       "      <td>33.370899</td>\n",
       "      <td>-9.427111</td>\n",
       "      <td>1986-09-24</td>\n",
       "      <td>0.740296</td>\n",
       "    </tr>\n",
       "    <tr>\n",
       "      <th>4</th>\n",
       "      <td>-64.826568</td>\n",
       "      <td>31.074295</td>\n",
       "      <td>1970-06-28</td>\n",
       "      <td>0.885293</td>\n",
       "    </tr>\n",
       "  </tbody>\n",
       "</table>\n",
       "</div>"
      ],
      "text/plain": [
       "     latitude   longitude        date     value\n",
       "0   53.220996  136.263142  1996-12-21  0.780757\n",
       "1   89.484277  104.904934  1972-12-25  0.464062\n",
       "2  10.3750245  137.419205  1986-09-30  0.625654\n",
       "3   33.370899   -9.427111  1986-09-24  0.740296\n",
       "4  -64.826568   31.074295  1970-06-28  0.885293"
      ]
     },
     "execution_count": 48,
     "metadata": {},
     "output_type": "execute_result"
    }
   ],
   "source": [
    "data = []\n",
    "\n",
    "for i in range(100):\n",
    "    obj = dict(latitude=f.latitude(),\n",
    "               longitude=f.longitude(),\n",
    "               date=f.date(),\n",
    "               value=random.random())\n",
    "    data.append(obj)\n",
    "\n",
    "df = pd.DataFrame(data)\n",
    "df.head()"
   ]
  },
  {
   "cell_type": "code",
   "execution_count": 45,
   "id": "sapphire-turner",
   "metadata": {},
   "outputs": [],
   "source": [
    "df.to_csv('example_1.csv', index=False)"
   ]
  },
  {
   "cell_type": "markdown",
   "id": "finite-breathing",
   "metadata": {},
   "source": [
    "## Example 2"
   ]
  },
  {
   "cell_type": "code",
   "execution_count": 44,
   "id": "dental-portrait",
   "metadata": {
    "scrolled": true
   },
   "outputs": [
    {
     "data": {
      "text/html": [
       "<div>\n",
       "<style scoped>\n",
       "    .dataframe tbody tr th:only-of-type {\n",
       "        vertical-align: middle;\n",
       "    }\n",
       "\n",
       "    .dataframe tbody tr th {\n",
       "        vertical-align: top;\n",
       "    }\n",
       "\n",
       "    .dataframe thead th {\n",
       "        text-align: right;\n",
       "    }\n",
       "</style>\n",
       "<table border=\"1\" class=\"dataframe\">\n",
       "  <thead>\n",
       "    <tr style=\"text-align: right;\">\n",
       "      <th></th>\n",
       "      <th>y</th>\n",
       "      <th>x</th>\n",
       "      <th>city</th>\n",
       "      <th>country</th>\n",
       "      <th>ts</th>\n",
       "      <th>value</th>\n",
       "    </tr>\n",
       "  </thead>\n",
       "  <tbody>\n",
       "    <tr>\n",
       "      <th>0</th>\n",
       "      <td>38.96667</td>\n",
       "      <td>-0.18333</td>\n",
       "      <td>Gandia</td>\n",
       "      <td>ES</td>\n",
       "      <td>February 17, 1983</td>\n",
       "      <td>9624</td>\n",
       "    </tr>\n",
       "    <tr>\n",
       "      <th>1</th>\n",
       "      <td>17.06542</td>\n",
       "      <td>-96.72365</td>\n",
       "      <td>Oaxaca</td>\n",
       "      <td>MX</td>\n",
       "      <td>April 7, 1996</td>\n",
       "      <td>8973</td>\n",
       "    </tr>\n",
       "    <tr>\n",
       "      <th>2</th>\n",
       "      <td>59.33333</td>\n",
       "      <td>18.28333</td>\n",
       "      <td>Boo</td>\n",
       "      <td>SE</td>\n",
       "      <td>December 5, 2012</td>\n",
       "      <td>9348</td>\n",
       "    </tr>\n",
       "    <tr>\n",
       "      <th>3</th>\n",
       "      <td>36.20829</td>\n",
       "      <td>-115.98391</td>\n",
       "      <td>Pahrump</td>\n",
       "      <td>US</td>\n",
       "      <td>October 27, 2011</td>\n",
       "      <td>7594</td>\n",
       "    </tr>\n",
       "    <tr>\n",
       "      <th>4</th>\n",
       "      <td>54.03876</td>\n",
       "      <td>43.91385</td>\n",
       "      <td>Kovylkino</td>\n",
       "      <td>RU</td>\n",
       "      <td>July 20, 1998</td>\n",
       "      <td>96</td>\n",
       "    </tr>\n",
       "  </tbody>\n",
       "</table>\n",
       "</div>"
      ],
      "text/plain": [
       "          y           x       city country                 ts  value\n",
       "0  38.96667    -0.18333     Gandia      ES  February 17, 1983   9624\n",
       "1  17.06542   -96.72365     Oaxaca      MX      April 7, 1996   8973\n",
       "2  59.33333    18.28333        Boo      SE   December 5, 2012   9348\n",
       "3  36.20829  -115.98391    Pahrump      US   October 27, 2011   7594\n",
       "4  54.03876    43.91385  Kovylkino      RU      July 20, 1998     96"
      ]
     },
     "execution_count": 44,
     "metadata": {},
     "output_type": "execute_result"
    }
   ],
   "source": [
    "data = []\n",
    "for i in range(100):\n",
    "    loc = f.location_on_land()\n",
    "    obj = dict(y=loc[0],\n",
    "               x=loc[1],\n",
    "               city=loc[2],\n",
    "               country=loc[3],\n",
    "               ts=f.date(pattern='%B %-d, %Y'),\n",
    "               value=round(random.random()*10000))\n",
    "    data.append(obj)\n",
    "    \n",
    "df = pd.DataFrame(data)\n",
    "df.head()    "
   ]
  },
  {
   "cell_type": "code",
   "execution_count": 45,
   "id": "electoral-newfoundland",
   "metadata": {},
   "outputs": [],
   "source": [
    "df.to_csv('example_2.csv', index=False)"
   ]
  },
  {
   "cell_type": "markdown",
   "id": "identical-moses",
   "metadata": {},
   "source": [
    "## Example 3"
   ]
  },
  {
   "cell_type": "code",
   "execution_count": 85,
   "id": "rapid-truth",
   "metadata": {
    "scrolled": true
   },
   "outputs": [
    {
     "data": {
      "text/html": [
       "<div>\n",
       "<style scoped>\n",
       "    .dataframe tbody tr th:only-of-type {\n",
       "        vertical-align: middle;\n",
       "    }\n",
       "\n",
       "    .dataframe tbody tr th {\n",
       "        vertical-align: top;\n",
       "    }\n",
       "\n",
       "    .dataframe thead th {\n",
       "        text-align: right;\n",
       "    }\n",
       "</style>\n",
       "<table border=\"1\" class=\"dataframe\">\n",
       "  <thead>\n",
       "    <tr style=\"text-align: right;\">\n",
       "      <th></th>\n",
       "      <th>lat</th>\n",
       "      <th>lng</th>\n",
       "      <th>region</th>\n",
       "      <th>place_name</th>\n",
       "      <th>month</th>\n",
       "      <th>day</th>\n",
       "      <th>year</th>\n",
       "      <th>value</th>\n",
       "    </tr>\n",
       "  </thead>\n",
       "  <tbody>\n",
       "    <tr>\n",
       "      <th>0</th>\n",
       "      <td>17.30858</td>\n",
       "      <td>97.01124</td>\n",
       "      <td>Asia</td>\n",
       "      <td>Yangon</td>\n",
       "      <td>1</td>\n",
       "      <td>22</td>\n",
       "      <td>1997</td>\n",
       "      <td>3660</td>\n",
       "    </tr>\n",
       "    <tr>\n",
       "      <th>1</th>\n",
       "      <td>40.60538</td>\n",
       "      <td>-73.75513</td>\n",
       "      <td>America</td>\n",
       "      <td>New York</td>\n",
       "      <td>11</td>\n",
       "      <td>05</td>\n",
       "      <td>1983</td>\n",
       "      <td>9859</td>\n",
       "    </tr>\n",
       "    <tr>\n",
       "      <th>2</th>\n",
       "      <td>33.41012</td>\n",
       "      <td>-91.06177</td>\n",
       "      <td>America</td>\n",
       "      <td>Chicago</td>\n",
       "      <td>8</td>\n",
       "      <td>21</td>\n",
       "      <td>1982</td>\n",
       "      <td>1906</td>\n",
       "    </tr>\n",
       "    <tr>\n",
       "      <th>3</th>\n",
       "      <td>38.58894</td>\n",
       "      <td>-89.99038</td>\n",
       "      <td>America</td>\n",
       "      <td>Chicago</td>\n",
       "      <td>5</td>\n",
       "      <td>09</td>\n",
       "      <td>1991</td>\n",
       "      <td>2960</td>\n",
       "    </tr>\n",
       "    <tr>\n",
       "      <th>4</th>\n",
       "      <td>51.67822</td>\n",
       "      <td>33.9162</td>\n",
       "      <td>Europe</td>\n",
       "      <td>Kiev</td>\n",
       "      <td>1</td>\n",
       "      <td>20</td>\n",
       "      <td>2010</td>\n",
       "      <td>9377</td>\n",
       "    </tr>\n",
       "  </tbody>\n",
       "</table>\n",
       "</div>"
      ],
      "text/plain": [
       "        lat        lng   region place_name month day  year  value\n",
       "0  17.30858   97.01124     Asia     Yangon     1  22  1997   3660\n",
       "1  40.60538  -73.75513  America   New York    11  05  1983   9859\n",
       "2  33.41012  -91.06177  America    Chicago     8  21  1982   1906\n",
       "3  38.58894  -89.99038  America    Chicago     5  09  1991   2960\n",
       "4  51.67822    33.9162   Europe       Kiev     1  20  2010   9377"
      ]
     },
     "execution_count": 85,
     "metadata": {},
     "output_type": "execute_result"
    }
   ],
   "source": [
    "data = []\n",
    "for i in range(100):\n",
    "    loc = f.location_on_land()\n",
    "    date=f.date(pattern='%-m-%d-%Y')\n",
    "    obj = dict(lat=loc[0],\n",
    "               lng=loc[1],\n",
    "               region=loc[4].split('/')[0],\n",
    "               place_name=loc[4].split('/')[1].replace('_',' '),\n",
    "               month=date.split('-')[0],\n",
    "               day=date.split('-')[1],               \n",
    "               year=date.split('-')[2],                              \n",
    "               value=round(random.random()*10000))\n",
    "    data.append(obj)\n",
    "    \n",
    "df = pd.DataFrame(data)\n",
    "df.head()    "
   ]
  },
  {
   "cell_type": "code",
   "execution_count": 86,
   "id": "adequate-optimum",
   "metadata": {},
   "outputs": [],
   "source": [
    "df.to_csv('example_3.csv', index=False)"
   ]
  }
 ],
 "metadata": {
  "kernelspec": {
   "display_name": "Python 3",
   "language": "python",
   "name": "python3"
  },
  "language_info": {
   "codemirror_mode": {
    "name": "ipython",
    "version": 3
   },
   "file_extension": ".py",
   "mimetype": "text/x-python",
   "name": "python",
   "nbconvert_exporter": "python",
   "pygments_lexer": "ipython3",
   "version": "3.8.8"
  }
 },
 "nbformat": 4,
 "nbformat_minor": 5
}
