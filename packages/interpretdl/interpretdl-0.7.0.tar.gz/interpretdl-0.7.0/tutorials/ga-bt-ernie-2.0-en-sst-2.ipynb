{
 "cells": [
  {
   "cell_type": "markdown",
   "id": "8347ffcc",
   "metadata": {},
   "source": [
    "# Load the Pretrained Model and the dataset\n",
    "We use ernie-2.0-base-en as the model and SST-2 as the dataset for example. More models can be found in [PaddleNLP Model Zoo](https://paddlenlp.readthedocs.io/zh/latest/model_zoo/index.html#transformer).\n",
    "\n",
    "Obviously, PaddleNLP is needed to run this notebook, which is easy to install:\n",
    "```bash\n",
    "pip install setuptools_scm \n",
    "pip install --upgrade paddlenlp\n",
    "```"
   ]
  },
  {
   "cell_type": "code",
   "execution_count": 1,
   "id": "da04dafd",
   "metadata": {
    "tags": []
   },
   "outputs": [
    {
     "name": "stderr",
     "output_type": "stream",
     "text": [
      "/opt/conda/envs/pp2/lib/python3.7/site-packages/tqdm/auto.py:22: TqdmWarning: IProgress not found. Please update jupyter and ipywidgets. See https://ipywidgets.readthedocs.io/en/stable/user_install.html\n",
      "  from .autonotebook import tqdm as notebook_tqdm\n",
      "\u001b[32m[2022-07-07 13:12:20,838] [    INFO]\u001b[0m - Already cached /root/.paddlenlp/models/ernie-2.0-base-en/ernie_v2_eng_base.pdparams\u001b[0m\n",
      "W0707 13:12:20.840988 125497 gpu_context.cc:278] Please NOTE: device: 0, GPU Compute Capability: 8.0, Driver API Version: 11.2, Runtime API Version: 11.2\n",
      "W0707 13:12:20.846920 125497 gpu_context.cc:306] device: 0, cuDNN Version: 8.1.\n",
      "\u001b[32m[2022-07-07 13:12:29,373] [    INFO]\u001b[0m - Already cached /root/.paddlenlp/models/ernie-2.0-base-en/vocab.txt\u001b[0m\n",
      "\u001b[32m[2022-07-07 13:12:29,405] [    INFO]\u001b[0m - tokenizer config file saved in /root/.paddlenlp/models/ernie-2.0-base-en/tokenizer_config.json\u001b[0m\n",
      "\u001b[32m[2022-07-07 13:12:29,407] [    INFO]\u001b[0m - Special tokens file saved in /root/.paddlenlp/models/ernie-2.0-base-en/special_tokens_map.json\u001b[0m\n"
     ]
    }
   ],
   "source": [
    "import paddle\n",
    "import paddlenlp\n",
    "from paddlenlp.transformers import ErnieTokenizer, ErnieForSequenceClassification\n",
    "\n",
    "MODEL_NAME = \"ernie-2.0-base-en\"\n",
    "\n",
    "model = ErnieForSequenceClassification.from_pretrained(MODEL_NAME, num_classes=2)\n",
    "tokenizer = ErnieTokenizer.from_pretrained(MODEL_NAME)"
   ]
  },
  {
   "cell_type": "code",
   "execution_count": 2,
   "id": "5c1153a1-586e-4a9e-9dbb-993ea4051347",
   "metadata": {},
   "outputs": [],
   "source": [
    "# replace the attention dropout layer with nn.Dropout\n",
    "from assets.utils import layer_replacement\n",
    "model = layer_replacement(model)"
   ]
  },
  {
   "cell_type": "code",
   "execution_count": 3,
   "id": "81628d33",
   "metadata": {},
   "outputs": [],
   "source": [
    "from paddlenlp.datasets import load_dataset\n",
    "train_ds, dev_ds, test_ds = load_dataset(\n",
    "    \"glue\", name='sst-2', splits=[\"train\", \"dev\", \"test\"]\n",
    ")"
   ]
  },
  {
   "cell_type": "markdown",
   "id": "9ade19aa",
   "metadata": {},
   "source": [
    "# Prepare the Model"
   ]
  },
  {
   "cell_type": "markdown",
   "id": "affc4988",
   "metadata": {
    "tags": []
   },
   "source": [
    "## Train the model"
   ]
  },
  {
   "cell_type": "code",
   "execution_count": 5,
   "id": "47563cd5",
   "metadata": {
    "tags": []
   },
   "outputs": [
    {
     "name": "stdout",
     "output_type": "stream",
     "text": [
      "dataset labels: ['0', '1']\n",
      "dataset examples:\n",
      "{'sentence': 'hide new secretions from the parental units ', 'labels': 0}\n",
      "{'sentence': 'contains no wit , only labored gags ', 'labels': 0}\n",
      "{'sentence': 'that loves its characters and communicates something rather beautiful about human nature ', 'labels': 1}\n",
      "{'sentence': 'remains utterly satisfied to remain the same throughout ', 'labels': 0}\n",
      "{'sentence': 'on the worst revenge-of-the-nerds clichés the filmmakers could dredge up ', 'labels': 0}\n",
      "Training Starts:\n",
      "global step 100, epoch: 1, batch: 100, loss: 0.37217, acc: 0.76719\n",
      "global step 200, epoch: 1, batch: 200, loss: 0.32806, acc: 0.82625\n",
      "global step 300, epoch: 1, batch: 300, loss: 0.35646, acc: 0.85000\n",
      "global step 400, epoch: 1, batch: 400, loss: 0.24727, acc: 0.86250\n",
      "global step 500, epoch: 1, batch: 500, loss: 0.11523, acc: 0.87169\n",
      "global step 600, epoch: 1, batch: 600, loss: 0.11323, acc: 0.88021\n",
      "global step 700, epoch: 1, batch: 700, loss: 0.34572, acc: 0.88714\n",
      "global step 800, epoch: 1, batch: 800, loss: 0.20003, acc: 0.89328\n",
      "global step 900, epoch: 1, batch: 900, loss: 0.10630, acc: 0.89767\n",
      "global step 1000, epoch: 1, batch: 1000, loss: 0.07706, acc: 0.90075\n",
      "global step 1100, epoch: 1, batch: 1100, loss: 0.10775, acc: 0.90401\n",
      "global step 1200, epoch: 1, batch: 1200, loss: 0.12749, acc: 0.90664\n",
      "global step 1300, epoch: 1, batch: 1300, loss: 0.15164, acc: 0.90906\n",
      "global step 1400, epoch: 1, batch: 1400, loss: 0.13784, acc: 0.91125\n",
      "global step 1500, epoch: 1, batch: 1500, loss: 0.33565, acc: 0.91281\n",
      "global step 1600, epoch: 1, batch: 1600, loss: 0.14058, acc: 0.91473\n",
      "global step 1700, epoch: 1, batch: 1700, loss: 0.06601, acc: 0.91642\n",
      "global step 1800, epoch: 1, batch: 1800, loss: 0.19161, acc: 0.91823\n",
      "global step 1900, epoch: 1, batch: 1900, loss: 0.08367, acc: 0.91993\n",
      "global step 2000, epoch: 1, batch: 2000, loss: 0.10792, acc: 0.92131\n",
      "global step 2100, epoch: 1, batch: 2100, loss: 0.19951, acc: 0.92277\n",
      "eval loss: 0.18261, accu: 0.93119\n"
     ]
    },
    {
     "name": "stderr",
     "output_type": "stream",
     "text": [
      "\u001b[32m[2022-07-06 19:58:38,642] [    INFO]\u001b[0m - tokenizer config file saved in assets/sst-2-ernie-2.0-en/tokenizer_config.json\u001b[0m\n",
      "\u001b[32m[2022-07-06 19:58:38,646] [    INFO]\u001b[0m - Special tokens file saved in assets/sst-2-ernie-2.0-en/special_tokens_map.json\u001b[0m\n"
     ]
    }
   ],
   "source": [
    "# training the model and save to save_dir\n",
    "# only needs to run once.\n",
    "# total steps ~1700 (1 epoch)\n",
    "\n",
    "from assets.utils import training_model\n",
    "training_model(model, tokenizer, train_ds, dev_ds, save_dir=f'assets/sst-2-ernie-2.0-en')"
   ]
  },
  {
   "cell_type": "markdown",
   "id": "0ab7ab34",
   "metadata": {},
   "source": [
    "## Or Load the trained model"
   ]
  },
  {
   "cell_type": "code",
   "execution_count": 4,
   "id": "71b6f523",
   "metadata": {
    "tags": []
   },
   "outputs": [],
   "source": [
    "# Load the trained model.\n",
    "state_dict = paddle.load(f'assets/sst-2-ernie-2.0-en/model_state.pdparams')\n",
    "model.set_dict(state_dict)"
   ]
  },
  {
   "cell_type": "markdown",
   "id": "4e7ab06a",
   "metadata": {},
   "source": [
    "# Prepare for Interpretations"
   ]
  },
  {
   "cell_type": "code",
   "execution_count": 5,
   "id": "d7ee58f3",
   "metadata": {},
   "outputs": [],
   "source": [
    "import interpretdl as it\n",
    "import numpy as np\n",
    "from assets.utils import convert_example, aggregate_subwords_and_importances\n",
    "from paddlenlp.data import Stack, Tuple, Pad\n",
    "from interpretdl.data_processor.visualizer import VisualizationTextRecord, visualize_text\n",
    "\n",
    "def preprocess_fn(data):\n",
    "    examples = []\n",
    "    \n",
    "    if not isinstance(data, list):\n",
    "        data = [data]\n",
    "    \n",
    "    for text in data:\n",
    "        input_ids, segment_ids = convert_example(\n",
    "            text,\n",
    "            tokenizer,\n",
    "            max_seq_length=128,\n",
    "            is_test=True\n",
    "        )\n",
    "        examples.append((input_ids, segment_ids))\n",
    "\n",
    "    batchify_fn = lambda samples, fn=Tuple(\n",
    "        Pad(axis=0, pad_val=tokenizer.pad_token_id),  # input id\n",
    "        Pad(axis=0, pad_val=tokenizer.pad_token_id),  # segment id\n",
    "    ): fn(samples)\n",
    "    \n",
    "    input_ids, segment_ids = batchify_fn(examples)\n",
    "    return paddle.to_tensor(input_ids, stop_gradient=False), paddle.to_tensor(segment_ids, stop_gradient=False)"
   ]
  },
  {
   "cell_type": "markdown",
   "id": "7b771aa3",
   "metadata": {},
   "source": [
    "## BT Interpreter"
   ]
  },
  {
   "cell_type": "markdown",
   "id": "3451fa50-6ea3-452a-9ac7-1609b81ee689",
   "metadata": {
    "tags": []
   },
   "source": [
    "### Token-wise"
   ]
  },
  {
   "cell_type": "code",
   "execution_count": 6,
   "id": "bf7c7c2b-1f46-4b18-8e45-a16c424e8da8",
   "metadata": {},
   "outputs": [
    {
     "name": "stdout",
     "output_type": "stream",
     "text": [
      "Data: {'text': \"it 's a charming and often affecting journey . \"} \t Lable: positive\n",
      "Data: {'text': 'the movie achieves as great an impact by keeping these thoughts hidden as ... ( quills ) did by showing them . '} \t Lable: positive\n",
      "Data: {'text': 'this one is definitely one to skip , even for horror movie fanatics . '} \t Lable: negative\n",
      "Data: {'text': 'in its best moments , resembles a bad high school production of grease , without benefit of song . '} \t Lable: negative\n"
     ]
    }
   ],
   "source": [
    "from assets.utils import predict\n",
    "\n",
    "data = [\n",
    "    {\"text\": \"it 's a charming and often affecting journey . \"},\n",
    "    {\"text\":'the movie achieves as great an impact by keeping these thoughts hidden as ... ( quills ) did by showing them . '},\n",
    "    {\"text\":'this one is definitely one to skip , even for horror movie fanatics . '},\n",
    "    {\"text\": 'in its best moments , resembles a bad high school production of grease , without benefit of song . '},\n",
    "]\n",
    "\n",
    "label_map = {0: 'negative', 1: 'positive'}\n",
    "\n",
    "batch_size = 32\n",
    "\n",
    "results = predict(\n",
    "    model, data, tokenizer, label_map, batch_size=batch_size)\n",
    "\n",
    "for idx, text in enumerate(data):\n",
    "    print('Data: {} \\t Lable: {}'.format(text, results[idx]))\n",
    "    \n",
    "pred = paddle.nn.functional.softmax(model(*preprocess_fn(data)), axis=1)"
   ]
  },
  {
   "cell_type": "code",
   "execution_count": 7,
   "id": "a333d08f",
   "metadata": {
    "tags": []
   },
   "outputs": [
    {
     "data": {
      "text/html": [
       "<table width: 100%><tr><th>True Label</th><th>Predicted Label (Prob)</th><th>Target Label</th><th>Word Importance</th><tr><td><text style=\"padding-right:2em\"><b>1</b></text></td><td><text style=\"padding-right:2em\"><b>1 (1.00)</b></text></td><td><text style=\"padding-right:2em\"><b>1</b></text></td><td><mark style=\"background-color: hsl(120, 75%, 93%); opacity:1.0;                         line-height:1.75\"><font color=\"black\"> it                        </font></mark><mark style=\"background-color: hsl(120, 75%, 94%); opacity:1.0;                         line-height:1.75\"><font color=\"black\"> '                        </font></mark><mark style=\"background-color: hsl(120, 75%, 91%); opacity:1.0;                         line-height:1.75\"><font color=\"black\"> s                        </font></mark><mark style=\"background-color: hsl(120, 75%, 90%); opacity:1.0;                         line-height:1.75\"><font color=\"black\"> a                        </font></mark><mark style=\"background-color: hsl(120, 75%, 61%); opacity:1.0;                         line-height:1.75\"><font color=\"black\"> charming                        </font></mark><mark style=\"background-color: hsl(120, 75%, 92%); opacity:1.0;                         line-height:1.75\"><font color=\"black\"> and                        </font></mark><mark style=\"background-color: hsl(120, 75%, 86%); opacity:1.0;                         line-height:1.75\"><font color=\"black\"> often                        </font></mark><mark style=\"background-color: hsl(120, 75%, 85%); opacity:1.0;                         line-height:1.75\"><font color=\"black\"> affecting                        </font></mark><mark style=\"background-color: hsl(120, 75%, 94%); opacity:1.0;                         line-height:1.75\"><font color=\"black\"> journey                        </font></mark><mark style=\"background-color: hsl(120, 75%, 93%); opacity:1.0;                         line-height:1.75\"><font color=\"black\"> .                        </font></mark></td><tr><tr><td><text style=\"padding-right:2em\"><b>1</b></text></td><td><text style=\"padding-right:2em\"><b>1 (0.98)</b></text></td><td><text style=\"padding-right:2em\"><b>1</b></text></td><td><mark style=\"background-color: hsl(120, 75%, 83%); opacity:1.0;                         line-height:1.75\"><font color=\"black\"> the                        </font></mark><mark style=\"background-color: hsl(120, 75%, 92%); opacity:1.0;                         line-height:1.75\"><font color=\"black\"> movie                        </font></mark><mark style=\"background-color: hsl(120, 75%, 69%); opacity:1.0;                         line-height:1.75\"><font color=\"black\"> achieves                        </font></mark><mark style=\"background-color: hsl(120, 75%, 88%); opacity:1.0;                         line-height:1.75\"><font color=\"black\"> as                        </font></mark><mark style=\"background-color: hsl(120, 75%, 78%); opacity:1.0;                         line-height:1.75\"><font color=\"black\"> great                        </font></mark><mark style=\"background-color: hsl(120, 75%, 97%); opacity:1.0;                         line-height:1.75\"><font color=\"black\"> an                        </font></mark><mark style=\"background-color: hsl(120, 75%, 91%); opacity:1.0;                         line-height:1.75\"><font color=\"black\"> impact                        </font></mark><mark style=\"background-color: hsl(120, 75%, 87%); opacity:1.0;                         line-height:1.75\"><font color=\"black\"> by                        </font></mark><mark style=\"background-color: hsl(120, 75%, 95%); opacity:1.0;                         line-height:1.75\"><font color=\"black\"> keeping                        </font></mark><mark style=\"background-color: hsl(120, 75%, 99%); opacity:1.0;                         line-height:1.75\"><font color=\"black\"> these                        </font></mark><mark style=\"background-color: hsl(120, 75%, 99%); opacity:1.0;                         line-height:1.75\"><font color=\"black\"> thoughts                        </font></mark><mark style=\"background-color: hsl(120, 75%, 96%); opacity:1.0;                         line-height:1.75\"><font color=\"black\"> hidden                        </font></mark><mark style=\"background-color: hsl(120, 75%, 91%); opacity:1.0;                         line-height:1.75\"><font color=\"black\"> as                        </font></mark><mark style=\"background-color: hsl(120, 75%, 100%); opacity:1.0;                         line-height:1.75\"><font color=\"black\"> .                        </font></mark><mark style=\"background-color: hsl(120, 75%, 100%); opacity:1.0;                         line-height:1.75\"><font color=\"black\"> .                        </font></mark><mark style=\"background-color: hsl(120, 75%, 100%); opacity:1.0;                         line-height:1.75\"><font color=\"black\"> .                        </font></mark><mark style=\"background-color: hsl(120, 75%, 99%); opacity:1.0;                         line-height:1.75\"><font color=\"black\"> (                        </font></mark><mark style=\"background-color: hsl(120, 75%, 99%); opacity:1.0;                         line-height:1.75\"><font color=\"black\"> quills                        </font></mark><mark style=\"background-color: hsl(120, 75%, 99%); opacity:1.0;                         line-height:1.75\"><font color=\"black\"> )                        </font></mark><mark style=\"background-color: hsl(120, 75%, 99%); opacity:1.0;                         line-height:1.75\"><font color=\"black\"> did                        </font></mark><mark style=\"background-color: hsl(120, 75%, 97%); opacity:1.0;                         line-height:1.75\"><font color=\"black\"> by                        </font></mark><mark style=\"background-color: hsl(120, 75%, 98%); opacity:1.0;                         line-height:1.75\"><font color=\"black\"> showing                        </font></mark><mark style=\"background-color: hsl(120, 75%, 100%); opacity:1.0;                         line-height:1.75\"><font color=\"black\"> them                        </font></mark><mark style=\"background-color: hsl(120, 75%, 96%); opacity:1.0;                         line-height:1.75\"><font color=\"black\"> .                        </font></mark></td><tr><tr><td><text style=\"padding-right:2em\"><b>0</b></text></td><td><text style=\"padding-right:2em\"><b>0 (0.95)</b></text></td><td><text style=\"padding-right:2em\"><b>0</b></text></td><td><mark style=\"background-color: hsl(0, 75%, 94%); opacity:1.0;                         line-height:1.75\"><font color=\"black\"> this                        </font></mark><mark style=\"background-color: hsl(0, 75%, 93%); opacity:1.0;                         line-height:1.75\"><font color=\"black\"> one                        </font></mark><mark style=\"background-color: hsl(0, 75%, 90%); opacity:1.0;                         line-height:1.75\"><font color=\"black\"> is                        </font></mark><mark style=\"background-color: hsl(0, 75%, 93%); opacity:1.0;                         line-height:1.75\"><font color=\"black\"> definitely                        </font></mark><mark style=\"background-color: hsl(0, 75%, 89%); opacity:1.0;                         line-height:1.75\"><font color=\"black\"> one                        </font></mark><mark style=\"background-color: hsl(0, 75%, 86%); opacity:1.0;                         line-height:1.75\"><font color=\"black\"> to                        </font></mark><mark style=\"background-color: hsl(0, 75%, 71%); opacity:1.0;                         line-height:1.75\"><font color=\"black\"> skip                        </font></mark><mark style=\"background-color: hsl(0, 75%, 97%); opacity:1.0;                         line-height:1.75\"><font color=\"black\"> ,                        </font></mark><mark style=\"background-color: hsl(0, 75%, 96%); opacity:1.0;                         line-height:1.75\"><font color=\"black\"> even                        </font></mark><mark style=\"background-color: hsl(0, 75%, 95%); opacity:1.0;                         line-height:1.75\"><font color=\"black\"> for                        </font></mark><mark style=\"background-color: hsl(0, 75%, 100%); opacity:1.0;                         line-height:1.75\"><font color=\"black\"> horror                        </font></mark><mark style=\"background-color: hsl(0, 75%, 100%); opacity:1.0;                         line-height:1.75\"><font color=\"black\"> movie                        </font></mark><mark style=\"background-color: hsl(0, 75%, 98%); opacity:1.0;                         line-height:1.75\"><font color=\"black\"> fanatics                        </font></mark><mark style=\"background-color: hsl(0, 75%, 97%); opacity:1.0;                         line-height:1.75\"><font color=\"black\"> .                        </font></mark></td><tr><tr><td><text style=\"padding-right:2em\"><b>0</b></text></td><td><text style=\"padding-right:2em\"><b>0 (1.00)</b></text></td><td><text style=\"padding-right:2em\"><b>0</b></text></td><td><mark style=\"background-color: hsl(0, 75%, 97%); opacity:1.0;                         line-height:1.75\"><font color=\"black\"> in                        </font></mark><mark style=\"background-color: hsl(0, 75%, 95%); opacity:1.0;                         line-height:1.75\"><font color=\"black\"> its                        </font></mark><mark style=\"background-color: hsl(0, 75%, 89%); opacity:1.0;                         line-height:1.75\"><font color=\"black\"> best                        </font></mark><mark style=\"background-color: hsl(0, 75%, 97%); opacity:1.0;                         line-height:1.75\"><font color=\"black\"> moments                        </font></mark><mark style=\"background-color: hsl(0, 75%, 97%); opacity:1.0;                         line-height:1.75\"><font color=\"black\"> ,                        </font></mark><mark style=\"background-color: hsl(0, 75%, 80%); opacity:1.0;                         line-height:1.75\"><font color=\"black\"> resembles                        </font></mark><mark style=\"background-color: hsl(0, 75%, 93%); opacity:1.0;                         line-height:1.75\"><font color=\"black\"> a                        </font></mark><mark style=\"background-color: hsl(0, 75%, 74%); opacity:1.0;                         line-height:1.75\"><font color=\"black\"> bad                        </font></mark><mark style=\"background-color: hsl(0, 75%, 96%); opacity:1.0;                         line-height:1.75\"><font color=\"black\"> high                        </font></mark><mark style=\"background-color: hsl(0, 75%, 94%); opacity:1.0;                         line-height:1.75\"><font color=\"black\"> school                        </font></mark><mark style=\"background-color: hsl(0, 75%, 95%); opacity:1.0;                         line-height:1.75\"><font color=\"black\"> production                        </font></mark><mark style=\"background-color: hsl(0, 75%, 97%); opacity:1.0;                         line-height:1.75\"><font color=\"black\"> of                        </font></mark><mark style=\"background-color: hsl(0, 75%, 96%); opacity:1.0;                         line-height:1.75\"><font color=\"black\"> grease                        </font></mark><mark style=\"background-color: hsl(0, 75%, 98%); opacity:1.0;                         line-height:1.75\"><font color=\"black\"> ,                        </font></mark><mark style=\"background-color: hsl(0, 75%, 91%); opacity:1.0;                         line-height:1.75\"><font color=\"black\"> without                        </font></mark><mark style=\"background-color: hsl(0, 75%, 98%); opacity:1.0;                         line-height:1.75\"><font color=\"black\"> benefit                        </font></mark><mark style=\"background-color: hsl(0, 75%, 99%); opacity:1.0;                         line-height:1.75\"><font color=\"black\"> of                        </font></mark><mark style=\"background-color: hsl(0, 75%, 100%); opacity:1.0;                         line-height:1.75\"><font color=\"black\"> song                        </font></mark><mark style=\"background-color: hsl(0, 75%, 97%); opacity:1.0;                         line-height:1.75\"><font color=\"black\"> .                        </font></mark></td><tr></table>"
      ],
      "text/plain": [
       "<IPython.core.display.HTML object>"
      ]
     },
     "metadata": {},
     "output_type": "display_data"
    }
   ],
   "source": [
    "bt = it.BTNLPInterpreter(model, device='gpu:0')\n",
    "interp_class = [1, 1, 0, 0]\n",
    "true_label = [1, 1, 0, 0]\n",
    "recs = []\n",
    "\n",
    "for idx, sentence in enumerate(data):\n",
    "    subword_importances = bt.interpret(\n",
    "        ap_mode=\"token\",\n",
    "        data=preprocess_fn(sentence),\n",
    "        label=interp_class[idx],\n",
    "        start_layer=9)\n",
    "\n",
    "    subwords = tokenizer.convert_ids_to_tokens(preprocess_fn(sentence)[0][0])[1:-1]\n",
    "    words, word_importances = aggregate_subwords_and_importances(subwords, subword_importances[0])\n",
    "    word_importances = np.array(word_importances) / np.linalg.norm(\n",
    "            word_importances)\n",
    "    \n",
    "    if interp_class[idx] == 0:\n",
    "        word_importances = -word_importances\n",
    "    \n",
    "    recs.append(\n",
    "            VisualizationTextRecord(words, word_importances, true_label[idx],\n",
    "                               np.argmax(pred[idx]), pred[idx, np.argmax(pred[idx])].item(), interp_class[idx])\n",
    "        )\n",
    "\n",
    "visualize_text(recs)\n",
    "# The visualization is not available at github"
   ]
  },
  {
   "cell_type": "markdown",
   "id": "cf2f1c7a-6cfe-4dd3-a281-f60f59139c49",
   "metadata": {
    "tags": []
   },
   "source": [
    "### Head-wise"
   ]
  },
  {
   "cell_type": "code",
   "execution_count": 8,
   "id": "07260e49-ca68-489e-9485-5bf65a4592b6",
   "metadata": {},
   "outputs": [
    {
     "data": {
      "text/html": [
       "<table width: 100%><tr><th>True Label</th><th>Predicted Label (Prob)</th><th>Target Label</th><th>Word Importance</th><tr><td><text style=\"padding-right:2em\"><b>1</b></text></td><td><text style=\"padding-right:2em\"><b>1 (1.00)</b></text></td><td><text style=\"padding-right:2em\"><b>1</b></text></td><td><mark style=\"background-color: hsl(120, 75%, 91%); opacity:1.0;                         line-height:1.75\"><font color=\"black\"> it                        </font></mark><mark style=\"background-color: hsl(120, 75%, 87%); opacity:1.0;                         line-height:1.75\"><font color=\"black\"> '                        </font></mark><mark style=\"background-color: hsl(120, 75%, 89%); opacity:1.0;                         line-height:1.75\"><font color=\"black\"> s                        </font></mark><mark style=\"background-color: hsl(120, 75%, 91%); opacity:1.0;                         line-height:1.75\"><font color=\"black\"> a                        </font></mark><mark style=\"background-color: hsl(120, 75%, 88%); opacity:1.0;                         line-height:1.75\"><font color=\"black\"> charming                        </font></mark><mark style=\"background-color: hsl(120, 75%, 85%); opacity:1.0;                         line-height:1.75\"><font color=\"black\"> and                        </font></mark><mark style=\"background-color: hsl(120, 75%, 83%); opacity:1.0;                         line-height:1.75\"><font color=\"black\"> often                        </font></mark><mark style=\"background-color: hsl(120, 75%, 90%); opacity:1.0;                         line-height:1.75\"><font color=\"black\"> affecting                        </font></mark><mark style=\"background-color: hsl(120, 75%, 95%); opacity:1.0;                         line-height:1.75\"><font color=\"black\"> journey                        </font></mark><mark style=\"background-color: hsl(120, 75%, 67%); opacity:1.0;                         line-height:1.75\"><font color=\"black\"> .                        </font></mark></td><tr><tr><td><text style=\"padding-right:2em\"><b>1</b></text></td><td><text style=\"padding-right:2em\"><b>1 (0.98)</b></text></td><td><text style=\"padding-right:2em\"><b>1</b></text></td><td><mark style=\"background-color: hsl(120, 75%, 90%); opacity:1.0;                         line-height:1.75\"><font color=\"black\"> the                        </font></mark><mark style=\"background-color: hsl(120, 75%, 98%); opacity:1.0;                         line-height:1.75\"><font color=\"black\"> movie                        </font></mark><mark style=\"background-color: hsl(120, 75%, 62%); opacity:1.0;                         line-height:1.75\"><font color=\"black\"> achieves                        </font></mark><mark style=\"background-color: hsl(120, 75%, 86%); opacity:1.0;                         line-height:1.75\"><font color=\"black\"> as                        </font></mark><mark style=\"background-color: hsl(120, 75%, 92%); opacity:1.0;                         line-height:1.75\"><font color=\"black\"> great                        </font></mark><mark style=\"background-color: hsl(120, 75%, 96%); opacity:1.0;                         line-height:1.75\"><font color=\"black\"> an                        </font></mark><mark style=\"background-color: hsl(120, 75%, 97%); opacity:1.0;                         line-height:1.75\"><font color=\"black\"> impact                        </font></mark><mark style=\"background-color: hsl(120, 75%, 86%); opacity:1.0;                         line-height:1.75\"><font color=\"black\"> by                        </font></mark><mark style=\"background-color: hsl(120, 75%, 95%); opacity:1.0;                         line-height:1.75\"><font color=\"black\"> keeping                        </font></mark><mark style=\"background-color: hsl(120, 75%, 99%); opacity:1.0;                         line-height:1.75\"><font color=\"black\"> these                        </font></mark><mark style=\"background-color: hsl(120, 75%, 99%); opacity:1.0;                         line-height:1.75\"><font color=\"black\"> thoughts                        </font></mark><mark style=\"background-color: hsl(120, 75%, 87%); opacity:1.0;                         line-height:1.75\"><font color=\"black\"> hidden                        </font></mark><mark style=\"background-color: hsl(120, 75%, 95%); opacity:1.0;                         line-height:1.75\"><font color=\"black\"> as                        </font></mark><mark style=\"background-color: hsl(120, 75%, 99%); opacity:1.0;                         line-height:1.75\"><font color=\"black\"> .                        </font></mark><mark style=\"background-color: hsl(120, 75%, 99%); opacity:1.0;                         line-height:1.75\"><font color=\"black\"> .                        </font></mark><mark style=\"background-color: hsl(120, 75%, 99%); opacity:1.0;                         line-height:1.75\"><font color=\"black\"> .                        </font></mark><mark style=\"background-color: hsl(120, 75%, 99%); opacity:1.0;                         line-height:1.75\"><font color=\"black\"> (                        </font></mark><mark style=\"background-color: hsl(120, 75%, 95%); opacity:1.0;                         line-height:1.75\"><font color=\"black\"> quills                        </font></mark><mark style=\"background-color: hsl(120, 75%, 97%); opacity:1.0;                         line-height:1.75\"><font color=\"black\"> )                        </font></mark><mark style=\"background-color: hsl(120, 75%, 98%); opacity:1.0;                         line-height:1.75\"><font color=\"black\"> did                        </font></mark><mark style=\"background-color: hsl(120, 75%, 99%); opacity:1.0;                         line-height:1.75\"><font color=\"black\"> by                        </font></mark><mark style=\"background-color: hsl(120, 75%, 98%); opacity:1.0;                         line-height:1.75\"><font color=\"black\"> showing                        </font></mark><mark style=\"background-color: hsl(120, 75%, 100%); opacity:1.0;                         line-height:1.75\"><font color=\"black\"> them                        </font></mark><mark style=\"background-color: hsl(120, 75%, 93%); opacity:1.0;                         line-height:1.75\"><font color=\"black\"> .                        </font></mark></td><tr><tr><td><text style=\"padding-right:2em\"><b>0</b></text></td><td><text style=\"padding-right:2em\"><b>0 (0.95)</b></text></td><td><text style=\"padding-right:2em\"><b>0</b></text></td><td><mark style=\"background-color: hsl(0, 75%, 93%); opacity:1.0;                         line-height:1.75\"><font color=\"black\"> this                        </font></mark><mark style=\"background-color: hsl(0, 75%, 95%); opacity:1.0;                         line-height:1.75\"><font color=\"black\"> one                        </font></mark><mark style=\"background-color: hsl(0, 75%, 86%); opacity:1.0;                         line-height:1.75\"><font color=\"black\"> is                        </font></mark><mark style=\"background-color: hsl(0, 75%, 84%); opacity:1.0;                         line-height:1.75\"><font color=\"black\"> definitely                        </font></mark><mark style=\"background-color: hsl(0, 75%, 89%); opacity:1.0;                         line-height:1.75\"><font color=\"black\"> one                        </font></mark><mark style=\"background-color: hsl(0, 75%, 85%); opacity:1.0;                         line-height:1.75\"><font color=\"black\"> to                        </font></mark><mark style=\"background-color: hsl(0, 75%, 84%); opacity:1.0;                         line-height:1.75\"><font color=\"black\"> skip                        </font></mark><mark style=\"background-color: hsl(0, 75%, 88%); opacity:1.0;                         line-height:1.75\"><font color=\"black\"> ,                        </font></mark><mark style=\"background-color: hsl(0, 75%, 93%); opacity:1.0;                         line-height:1.75\"><font color=\"black\"> even                        </font></mark><mark style=\"background-color: hsl(0, 75%, 94%); opacity:1.0;                         line-height:1.75\"><font color=\"black\"> for                        </font></mark><mark style=\"background-color: hsl(0, 75%, 100%); opacity:1.0;                         line-height:1.75\"><font color=\"black\"> horror                        </font></mark><mark style=\"background-color: hsl(0, 75%, 100%); opacity:1.0;                         line-height:1.75\"><font color=\"black\"> movie                        </font></mark><mark style=\"background-color: hsl(0, 75%, 95%); opacity:1.0;                         line-height:1.75\"><font color=\"black\"> fanatics                        </font></mark><mark style=\"background-color: hsl(0, 75%, 93%); opacity:1.0;                         line-height:1.75\"><font color=\"black\"> .                        </font></mark></td><tr><tr><td><text style=\"padding-right:2em\"><b>0</b></text></td><td><text style=\"padding-right:2em\"><b>0 (1.00)</b></text></td><td><text style=\"padding-right:2em\"><b>0</b></text></td><td><mark style=\"background-color: hsl(0, 75%, 94%); opacity:1.0;                         line-height:1.75\"><font color=\"black\"> in                        </font></mark><mark style=\"background-color: hsl(0, 75%, 95%); opacity:1.0;                         line-height:1.75\"><font color=\"black\"> its                        </font></mark><mark style=\"background-color: hsl(0, 75%, 81%); opacity:1.0;                         line-height:1.75\"><font color=\"black\"> best                        </font></mark><mark style=\"background-color: hsl(0, 75%, 93%); opacity:1.0;                         line-height:1.75\"><font color=\"black\"> moments                        </font></mark><mark style=\"background-color: hsl(0, 75%, 95%); opacity:1.0;                         line-height:1.75\"><font color=\"black\"> ,                        </font></mark><mark style=\"background-color: hsl(0, 75%, 87%); opacity:1.0;                         line-height:1.75\"><font color=\"black\"> resembles                        </font></mark><mark style=\"background-color: hsl(0, 75%, 93%); opacity:1.0;                         line-height:1.75\"><font color=\"black\"> a                        </font></mark><mark style=\"background-color: hsl(0, 75%, 86%); opacity:1.0;                         line-height:1.75\"><font color=\"black\"> bad                        </font></mark><mark style=\"background-color: hsl(0, 75%, 92%); opacity:1.0;                         line-height:1.75\"><font color=\"black\"> high                        </font></mark><mark style=\"background-color: hsl(0, 75%, 91%); opacity:1.0;                         line-height:1.75\"><font color=\"black\"> school                        </font></mark><mark style=\"background-color: hsl(0, 75%, 92%); opacity:1.0;                         line-height:1.75\"><font color=\"black\"> production                        </font></mark><mark style=\"background-color: hsl(0, 75%, 94%); opacity:1.0;                         line-height:1.75\"><font color=\"black\"> of                        </font></mark><mark style=\"background-color: hsl(0, 75%, 93%); opacity:1.0;                         line-height:1.75\"><font color=\"black\"> grease                        </font></mark><mark style=\"background-color: hsl(0, 75%, 94%); opacity:1.0;                         line-height:1.75\"><font color=\"black\"> ,                        </font></mark><mark style=\"background-color: hsl(0, 75%, 89%); opacity:1.0;                         line-height:1.75\"><font color=\"black\"> without                        </font></mark><mark style=\"background-color: hsl(0, 75%, 98%); opacity:1.0;                         line-height:1.75\"><font color=\"black\"> benefit                        </font></mark><mark style=\"background-color: hsl(0, 75%, 98%); opacity:1.0;                         line-height:1.75\"><font color=\"black\"> of                        </font></mark><mark style=\"background-color: hsl(0, 75%, 99%); opacity:1.0;                         line-height:1.75\"><font color=\"black\"> song                        </font></mark><mark style=\"background-color: hsl(0, 75%, 92%); opacity:1.0;                         line-height:1.75\"><font color=\"black\"> .                        </font></mark></td><tr></table>"
      ],
      "text/plain": [
       "<IPython.core.display.HTML object>"
      ]
     },
     "metadata": {},
     "output_type": "display_data"
    }
   ],
   "source": [
    "bt = it.BTNLPInterpreter(model, device='gpu:0')\n",
    "interp_class = [1, 1, 0, 0]\n",
    "true_label = [1, 1, 0, 0]\n",
    "recs = []\n",
    "\n",
    "for idx, sentence in enumerate(data):\n",
    "    subword_importances = bt.interpret(\n",
    "        data=preprocess_fn(sentence),\n",
    "        label=interp_class[idx],\n",
    "        start_layer=11)\n",
    "\n",
    "    subwords = tokenizer.convert_ids_to_tokens(preprocess_fn(sentence)[0][0])[1:-1]\n",
    "    words, word_importances = aggregate_subwords_and_importances(subwords, subword_importances[0])\n",
    "    word_importances = np.array(word_importances) / np.linalg.norm(\n",
    "            word_importances)\n",
    "    \n",
    "    if interp_class[idx] == 0:\n",
    "        word_importances = -word_importances\n",
    "    \n",
    "    recs.append(\n",
    "            VisualizationTextRecord(words, word_importances, true_label[idx],\n",
    "                               np.argmax(pred[idx]), pred[idx, np.argmax(pred[idx])].item(), interp_class[idx])\n",
    "        )\n",
    "\n",
    "visualize_text(recs)\n",
    "# The visualization is not available at github"
   ]
  },
  {
   "cell_type": "markdown",
   "id": "d4795154-b265-4176-9e0e-04d59e9ab070",
   "metadata": {},
   "source": [
    "## GA Interpreter"
   ]
  },
  {
   "cell_type": "code",
   "execution_count": 9,
   "id": "8a780ccb-3442-4c9b-a769-2b6ba7b0e592",
   "metadata": {},
   "outputs": [
    {
     "data": {
      "text/html": [
       "<table width: 100%><tr><th>True Label</th><th>Predicted Label (Prob)</th><th>Target Label</th><th>Word Importance</th><tr><td><text style=\"padding-right:2em\"><b>1</b></text></td><td><text style=\"padding-right:2em\"><b>1 (1.00)</b></text></td><td><text style=\"padding-right:2em\"><b>1</b></text></td><td><mark style=\"background-color: hsl(120, 75%, 85%); opacity:1.0;                         line-height:1.75\"><font color=\"black\"> it                        </font></mark><mark style=\"background-color: hsl(120, 75%, 85%); opacity:1.0;                         line-height:1.75\"><font color=\"black\"> '                        </font></mark><mark style=\"background-color: hsl(120, 75%, 85%); opacity:1.0;                         line-height:1.75\"><font color=\"black\"> s                        </font></mark><mark style=\"background-color: hsl(120, 75%, 86%); opacity:1.0;                         line-height:1.75\"><font color=\"black\"> a                        </font></mark><mark style=\"background-color: hsl(120, 75%, 85%); opacity:1.0;                         line-height:1.75\"><font color=\"black\"> charming                        </font></mark><mark style=\"background-color: hsl(120, 75%, 84%); opacity:1.0;                         line-height:1.75\"><font color=\"black\"> and                        </font></mark><mark style=\"background-color: hsl(120, 75%, 86%); opacity:1.0;                         line-height:1.75\"><font color=\"black\"> often                        </font></mark><mark style=\"background-color: hsl(120, 75%, 84%); opacity:1.0;                         line-height:1.75\"><font color=\"black\"> affecting                        </font></mark><mark style=\"background-color: hsl(120, 75%, 84%); opacity:1.0;                         line-height:1.75\"><font color=\"black\"> journey                        </font></mark><mark style=\"background-color: hsl(120, 75%, 83%); opacity:1.0;                         line-height:1.75\"><font color=\"black\"> .                        </font></mark></td><tr><tr><td><text style=\"padding-right:2em\"><b>1</b></text></td><td><text style=\"padding-right:2em\"><b>1 (0.98)</b></text></td><td><text style=\"padding-right:2em\"><b>1</b></text></td><td><mark style=\"background-color: hsl(120, 75%, 78%); opacity:1.0;                         line-height:1.75\"><font color=\"black\"> the                        </font></mark><mark style=\"background-color: hsl(120, 75%, 97%); opacity:1.0;                         line-height:1.75\"><font color=\"black\"> movie                        </font></mark><mark style=\"background-color: hsl(120, 75%, 77%); opacity:1.0;                         line-height:1.75\"><font color=\"black\"> achieves                        </font></mark><mark style=\"background-color: hsl(120, 75%, 78%); opacity:1.0;                         line-height:1.75\"><font color=\"black\"> as                        </font></mark><mark style=\"background-color: hsl(120, 75%, 82%); opacity:1.0;                         line-height:1.75\"><font color=\"black\"> great                        </font></mark><mark style=\"background-color: hsl(120, 75%, 89%); opacity:1.0;                         line-height:1.75\"><font color=\"black\"> an                        </font></mark><mark style=\"background-color: hsl(120, 75%, 91%); opacity:1.0;                         line-height:1.75\"><font color=\"black\"> impact                        </font></mark><mark style=\"background-color: hsl(120, 75%, 96%); opacity:1.0;                         line-height:1.75\"><font color=\"black\"> by                        </font></mark><mark style=\"background-color: hsl(0, 75%, 100%); opacity:1.0;                         line-height:1.75\"><font color=\"black\"> keeping                        </font></mark><mark style=\"background-color: hsl(0, 75%, 100%); opacity:1.0;                         line-height:1.75\"><font color=\"black\"> these                        </font></mark><mark style=\"background-color: hsl(0, 75%, 100%); opacity:1.0;                         line-height:1.75\"><font color=\"black\"> thoughts                        </font></mark><mark style=\"background-color: hsl(0, 75%, 100%); opacity:1.0;                         line-height:1.75\"><font color=\"black\"> hidden                        </font></mark><mark style=\"background-color: hsl(120, 75%, 99%); opacity:1.0;                         line-height:1.75\"><font color=\"black\"> as                        </font></mark><mark style=\"background-color: hsl(0, 75%, 100%); opacity:1.0;                         line-height:1.75\"><font color=\"black\"> .                        </font></mark><mark style=\"background-color: hsl(0, 75%, 100%); opacity:1.0;                         line-height:1.75\"><font color=\"black\"> .                        </font></mark><mark style=\"background-color: hsl(0, 75%, 100%); opacity:1.0;                         line-height:1.75\"><font color=\"black\"> .                        </font></mark><mark style=\"background-color: hsl(0, 75%, 100%); opacity:1.0;                         line-height:1.75\"><font color=\"black\"> (                        </font></mark><mark style=\"background-color: hsl(0, 75%, 100%); opacity:1.0;                         line-height:1.75\"><font color=\"black\"> quills                        </font></mark><mark style=\"background-color: hsl(0, 75%, 100%); opacity:1.0;                         line-height:1.75\"><font color=\"black\"> )                        </font></mark><mark style=\"background-color: hsl(0, 75%, 100%); opacity:1.0;                         line-height:1.75\"><font color=\"black\"> did                        </font></mark><mark style=\"background-color: hsl(0, 75%, 100%); opacity:1.0;                         line-height:1.75\"><font color=\"black\"> by                        </font></mark><mark style=\"background-color: hsl(0, 75%, 100%); opacity:1.0;                         line-height:1.75\"><font color=\"black\"> showing                        </font></mark><mark style=\"background-color: hsl(0, 75%, 100%); opacity:1.0;                         line-height:1.75\"><font color=\"black\"> them                        </font></mark><mark style=\"background-color: hsl(120, 75%, 83%); opacity:1.0;                         line-height:1.75\"><font color=\"black\"> .                        </font></mark></td><tr><tr><td><text style=\"padding-right:2em\"><b>0</b></text></td><td><text style=\"padding-right:2em\"><b>0 (0.95)</b></text></td><td><text style=\"padding-right:2em\"><b>0</b></text></td><td><mark style=\"background-color: hsl(0, 75%, 92%); opacity:1.0;                         line-height:1.75\"><font color=\"black\"> this                        </font></mark><mark style=\"background-color: hsl(0, 75%, 92%); opacity:1.0;                         line-height:1.75\"><font color=\"black\"> one                        </font></mark><mark style=\"background-color: hsl(0, 75%, 82%); opacity:1.0;                         line-height:1.75\"><font color=\"black\"> is                        </font></mark><mark style=\"background-color: hsl(0, 75%, 89%); opacity:1.0;                         line-height:1.75\"><font color=\"black\"> definitely                        </font></mark><mark style=\"background-color: hsl(0, 75%, 87%); opacity:1.0;                         line-height:1.75\"><font color=\"black\"> one                        </font></mark><mark style=\"background-color: hsl(0, 75%, 85%); opacity:1.0;                         line-height:1.75\"><font color=\"black\"> to                        </font></mark><mark style=\"background-color: hsl(0, 75%, 88%); opacity:1.0;                         line-height:1.75\"><font color=\"black\"> skip                        </font></mark><mark style=\"background-color: hsl(0, 75%, 87%); opacity:1.0;                         line-height:1.75\"><font color=\"black\"> ,                        </font></mark><mark style=\"background-color: hsl(0, 75%, 94%); opacity:1.0;                         line-height:1.75\"><font color=\"black\"> even                        </font></mark><mark style=\"background-color: hsl(0, 75%, 92%); opacity:1.0;                         line-height:1.75\"><font color=\"black\"> for                        </font></mark><mark style=\"background-color: hsl(0, 75%, 100%); opacity:1.0;                         line-height:1.75\"><font color=\"black\"> horror                        </font></mark><mark style=\"background-color: hsl(0, 75%, 100%); opacity:1.0;                         line-height:1.75\"><font color=\"black\"> movie                        </font></mark><mark style=\"background-color: hsl(0, 75%, 98%); opacity:1.0;                         line-height:1.75\"><font color=\"black\"> fanatics                        </font></mark><mark style=\"background-color: hsl(0, 75%, 90%); opacity:1.0;                         line-height:1.75\"><font color=\"black\"> .                        </font></mark></td><tr><tr><td><text style=\"padding-right:2em\"><b>0</b></text></td><td><text style=\"padding-right:2em\"><b>0 (1.00)</b></text></td><td><text style=\"padding-right:2em\"><b>0</b></text></td><td><mark style=\"background-color: hsl(0, 75%, 92%); opacity:1.0;                         line-height:1.75\"><font color=\"black\"> in                        </font></mark><mark style=\"background-color: hsl(0, 75%, 91%); opacity:1.0;                         line-height:1.75\"><font color=\"black\"> its                        </font></mark><mark style=\"background-color: hsl(0, 75%, 94%); opacity:1.0;                         line-height:1.75\"><font color=\"black\"> best                        </font></mark><mark style=\"background-color: hsl(0, 75%, 94%); opacity:1.0;                         line-height:1.75\"><font color=\"black\"> moments                        </font></mark><mark style=\"background-color: hsl(0, 75%, 90%); opacity:1.0;                         line-height:1.75\"><font color=\"black\"> ,                        </font></mark><mark style=\"background-color: hsl(0, 75%, 86%); opacity:1.0;                         line-height:1.75\"><font color=\"black\"> resembles                        </font></mark><mark style=\"background-color: hsl(0, 75%, 88%); opacity:1.0;                         line-height:1.75\"><font color=\"black\"> a                        </font></mark><mark style=\"background-color: hsl(0, 75%, 89%); opacity:1.0;                         line-height:1.75\"><font color=\"black\"> bad                        </font></mark><mark style=\"background-color: hsl(0, 75%, 90%); opacity:1.0;                         line-height:1.75\"><font color=\"black\"> high                        </font></mark><mark style=\"background-color: hsl(0, 75%, 91%); opacity:1.0;                         line-height:1.75\"><font color=\"black\"> school                        </font></mark><mark style=\"background-color: hsl(0, 75%, 94%); opacity:1.0;                         line-height:1.75\"><font color=\"black\"> production                        </font></mark><mark style=\"background-color: hsl(0, 75%, 93%); opacity:1.0;                         line-height:1.75\"><font color=\"black\"> of                        </font></mark><mark style=\"background-color: hsl(0, 75%, 96%); opacity:1.0;                         line-height:1.75\"><font color=\"black\"> grease                        </font></mark><mark style=\"background-color: hsl(0, 75%, 88%); opacity:1.0;                         line-height:1.75\"><font color=\"black\"> ,                        </font></mark><mark style=\"background-color: hsl(0, 75%, 91%); opacity:1.0;                         line-height:1.75\"><font color=\"black\"> without                        </font></mark><mark style=\"background-color: hsl(0, 75%, 98%); opacity:1.0;                         line-height:1.75\"><font color=\"black\"> benefit                        </font></mark><mark style=\"background-color: hsl(0, 75%, 97%); opacity:1.0;                         line-height:1.75\"><font color=\"black\"> of                        </font></mark><mark style=\"background-color: hsl(0, 75%, 99%); opacity:1.0;                         line-height:1.75\"><font color=\"black\"> song                        </font></mark><mark style=\"background-color: hsl(0, 75%, 88%); opacity:1.0;                         line-height:1.75\"><font color=\"black\"> .                        </font></mark></td><tr></table>"
      ],
      "text/plain": [
       "<IPython.core.display.HTML object>"
      ]
     },
     "metadata": {},
     "output_type": "display_data"
    }
   ],
   "source": [
    "bt = it.GANLPInterpreter(model, device='gpu:0')\n",
    "interp_class = [1, 1, 0, 0]\n",
    "true_label = [1, 1, 0, 0]\n",
    "recs = []\n",
    "\n",
    "for idx, sentence in enumerate(data):\n",
    "    subword_importances = bt.interpret(\n",
    "        data=preprocess_fn(sentence),\n",
    "        label=interp_class[idx],\n",
    "        start_layer=11)\n",
    "    subwords = tokenizer.convert_ids_to_tokens(preprocess_fn(sentence)[0][0])[1:-1]\n",
    "    words, word_importances = aggregate_subwords_and_importances(subwords, subword_importances[0])\n",
    "    word_importances = np.array(word_importances) / np.linalg.norm(\n",
    "            word_importances)\n",
    "    \n",
    "    if interp_class[idx] == 0:\n",
    "        word_importances = -word_importances\n",
    "    \n",
    "    recs.append(\n",
    "            VisualizationTextRecord(words, word_importances, true_label[idx],\n",
    "                               np.argmax(pred[idx]), pred[idx, np.argmax(pred[idx])].item(), interp_class[idx])\n",
    "        )\n",
    "\n",
    "visualize_text(recs)"
   ]
  }
 ],
 "metadata": {
  "interpreter": {
   "hash": "a77f6a7464ce9eaa05196aac170c6d9a8812f0d84e7e92f765cacaf98118350b"
  },
  "kernelspec": {
   "display_name": "pp2",
   "language": "python",
   "name": "pp2"
  },
  "language_info": {
   "codemirror_mode": {
    "name": "ipython",
    "version": 3
   },
   "file_extension": ".py",
   "mimetype": "text/x-python",
   "name": "python",
   "nbconvert_exporter": "python",
   "pygments_lexer": "ipython3",
   "version": "3.7.13"
  }
 },
 "nbformat": 4,
 "nbformat_minor": 5
}
