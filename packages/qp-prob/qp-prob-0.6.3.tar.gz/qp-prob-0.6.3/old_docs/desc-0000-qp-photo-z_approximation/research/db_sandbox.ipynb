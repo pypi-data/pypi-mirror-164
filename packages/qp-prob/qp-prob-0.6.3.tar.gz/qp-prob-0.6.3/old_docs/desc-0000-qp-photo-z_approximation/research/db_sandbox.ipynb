{
 "cells": [
  {
   "cell_type": "code",
   "execution_count": 50,
   "metadata": {
    "collapsed": false
   },
   "outputs": [],
   "source": [
    "import os\n",
    "import numpy as np\n",
    "import itertools\n",
    "import pathos\n",
    "from pathos.multiprocessing import ProcessingPool as Pool\n",
    "import matplotlib.pyplot as plt\n",
    "%matplotlib inline\n",
    "\n",
    "import sqlalchemy\n",
    "from sqlalchemy import create_engine\n",
    "from sqlalchemy.ext.declarative import declarative_base\n",
    "from sqlalchemy import MetaData, Column, Table, ForeignKey, UniqueConstraint\n",
    "from sqlalchemy import Integer, String, Float, BLOB\n",
    "from sqlalchemy.orm import relationship\n",
    "from sqlalchemy.orm import sessionmaker\n",
    "\n",
    "import qp"
   ]
  },
  {
   "cell_type": "code",
   "execution_count": 8,
   "metadata": {
    "collapsed": true
   },
   "outputs": [],
   "source": [
    "Base = declarative_base()"
   ]
  },
  {
   "cell_type": "code",
   "execution_count": 9,
   "metadata": {
    "collapsed": false
   },
   "outputs": [],
   "source": [
    "def setup(where):\n",
    "    global parametrizations_table, metaparameters_table, PDFs_table, parameters_table\n",
    "    global engine, metadata\n",
    "#     if not os.path.isfile(where):\n",
    "    engine = create_engine('sqlite:///'+where)\n",
    "    print('making the tables in '+where)\n",
    "    metadata = MetaData(engine)\n",
    "    Base.metadata.create_all(engine)\n",
    "        # rows are parametrizations keyed on parametrization ID\n",
    "        # columns are type of parametrization, number of parameters\n",
    "    parametrizations_table = Table('parametrizations', metadata,\n",
    "                    Column('id', Integer, primary_key=True),\n",
    "                    Column('parametrization', String(8), nullable=False),\n",
    "                    Column('number_metaparameters', Integer, nullable=False)\n",
    "                    )\n",
    "        # rows are metaparameters keyed on metaparameter_set ID\n",
    "        # columns are parametrization ID, metaparameter_set\n",
    "    metaparameters_table = Table('metaparameters', metadata,\n",
    "                        Column('id', Integer, primary_key=True),\n",
    "                        Column('parametrization_id', None, ForeignKey('parametrizations.id')),\n",
    "                        #Column('metaparameter_number', Integer),          \n",
    "                        Column('metaparameter_set', BLOB, unique=True)\n",
    "                        )\n",
    "        # rows are PDFs keyed on PDF ID\n",
    "        # no other columns\n",
    "    PDFs_table = Table('PDFs', metadata,\n",
    "                  Column('id', Integer, primary_key=True)\n",
    "                   )\n",
    "        # rows are parameters keyed on parameter_set ID\n",
    "        # columns are PDF ID, parametrization ID, parameter_set\n",
    "    parameters_table = Table('parameters', metadata,\n",
    "                        Column('id', Integer, primary_key=True),\n",
    "                         Column('PDFs_id', None, ForeignKey('PDFs.id')),\n",
    "                         Column('metaparameters_id', None, ForeignKey('metaparameters.id')),\n",
    "                         #Column('parameter_id', Integer),\n",
    "                        Column('parameter_set', BLOB),\n",
    "                        UniqueConstraint('PDFs_id', 'metaparameters_id')#, name=''),\n",
    "                         )\n",
    "    metadata.create_all()\n",
    "#     else:\n",
    "#         engine = create_engine('sqlite:///'+where)\n",
    "#         print('loading the tables from '+where)\n",
    "#         metadata = MetaData(engine)\n",
    "#         parametrizations_table = Table('parametrizations', metadata, autoload=True)\n",
    "#         metaparameters_table = Table('metaparameters', metadata, autoload=True)\n",
    "#         PDFs_table = Table('PDFs', metadata, autoload=True)\n",
    "#         parameters_table = Table('parameters', metadata, autoload=True)\n",
    "#         metadata.create_all()"
   ]
  },
  {
   "cell_type": "code",
   "execution_count": 10,
   "metadata": {
    "collapsed": false
   },
   "outputs": [
    {
     "name": "stdout",
     "output_type": "stream",
     "text": [
      "making the tables in example.db\n"
     ]
    }
   ],
   "source": [
    "where = 'example.db'\n",
    "setup(where)"
   ]
  },
  {
   "cell_type": "code",
   "execution_count": 11,
   "metadata": {
    "collapsed": false
   },
   "outputs": [],
   "source": [
    "parametrizations = ['samples', 'histogram', 'quantiles']\n",
    "number_parameters = [3, 10, 30, 100]\n",
    "\n",
    "for p in parametrizations:\n",
    "    for n in number_parameters:\n",
    "        ins = parametrizations_table.insert().values(parametrization=p, number_metaparameters=n)  \n",
    "        conn = engine.connect()\n",
    "        result = conn.execute(ins)"
   ]
  },
  {
   "cell_type": "code",
   "execution_count": 12,
   "metadata": {
    "collapsed": false
   },
   "outputs": [
    {
     "name": "stdout",
     "output_type": "stream",
     "text": [
      "(1, u'samples', 3)\n",
      "(2, u'samples', 10)\n",
      "(3, u'samples', 30)\n",
      "(4, u'samples', 100)\n",
      "(5, u'histogram', 3)\n",
      "(6, u'histogram', 10)\n",
      "(7, u'histogram', 30)\n",
      "(8, u'histogram', 100)\n",
      "(9, u'quantiles', 3)\n",
      "(10, u'quantiles', 10)\n",
      "(11, u'quantiles', 30)\n",
      "(12, u'quantiles', 100)\n"
     ]
    }
   ],
   "source": [
    "s = sqlalchemy.sql.select([parametrizations_table])\n",
    "result = conn.execute(s).fetchall()\n",
    "for r in result:\n",
    "    print(r)"
   ]
  },
  {
   "cell_type": "code",
   "execution_count": 14,
   "metadata": {
    "collapsed": true
   },
   "outputs": [],
   "source": [
    "# choose one of these:\n",
    "dataname = 'mg'\n",
    "# dataname = 'ss'\n",
    "\n",
    "if dataname == 'mg':\n",
    "    # Melissa Graham's data\n",
    "    datafilename = 'bpz_euclid_test_10_2.probs'\n",
    "    z_low = 0.01\n",
    "    z_high = 3.51\n",
    "elif dataname == 'ss':\n",
    "    # Sam Schmidt's data\n",
    "    datafilename = 'test_magscat_trainingfile_probs.out'\n",
    "    z_low = 0.005\n",
    "    z_high = 2.11\n",
    "    \n",
    "z = np.arange(z_low, z_high, 0.01, dtype='float')\n",
    "z_range = z_high - z_low\n",
    "delta_z = z_range / len(z)\n",
    "\n",
    "## Warning: reading in the data is slow for Sam Schmidt's dataset!\n",
    "with open(datafilename, 'rb') as data_file:\n",
    "    lines = (line.split(None) for line in data_file)\n",
    "    lines.next()\n",
    "    pdfs = np.array([[float(line[k]) for k in range(1,len(line))] for line in lines])\n",
    "    \n",
    "# print(sys.getsizeof(pdfs))"
   ]
  },
  {
   "cell_type": "code",
   "execution_count": 16,
   "metadata": {
    "collapsed": false
   },
   "outputs": [],
   "source": [
    "s = sqlalchemy.sql.select([parametrizations_table])\n",
    "result = conn.execute(s).fetchall()\n",
    "\n",
    "for r in result:\n",
    "    if r.parametrization == 'quantiles':\n",
    "        quantiles = np.linspace(0., 1., r.number_metaparameters).tostring()\n",
    "        ins = metaparameters_table.insert().prefix_with(\"OR IGNORE\").values(parametrization_id=r.id, metaparameter_set=quantiles)  \n",
    "        conn = engine.connect()\n",
    "        result = conn.execute(ins)\n",
    "    if r.parametrization == 'histogram':\n",
    "        bindif = 1./r.number_metaparameters\n",
    "        binends = np.arange(z_low, z_high+bindif, bindif).tostring()\n",
    "        ins = metaparameters_table.insert().prefix_with(\"OR IGNORE\").values(parametrization_id=r.id, metaparameter_set=binends)  \n",
    "        conn = engine.connect()\n",
    "        result = conn.execute(ins)\n",
    "    if r.parametrization == 'samples':\n",
    "        n = np.array([r.number_metaparameters]).tostring()\n",
    "        ins = metaparameters_table.insert().prefix_with(\"OR IGNORE\").values(parametrization_id=r.id, metaparameter_set=n)  \n",
    "        conn = engine.connect()\n",
    "        result = conn.execute(ins)"
   ]
  },
  {
   "cell_type": "code",
   "execution_count": 17,
   "metadata": {
    "collapsed": false
   },
   "outputs": [
    {
     "name": "stdout",
     "output_type": "stream",
     "text": [
      "(1, 1, '\\x03\\x00\\x00\\x00\\x00\\x00\\x00\\x00')\n",
      "(2, 2, '\\n\\x00\\x00\\x00\\x00\\x00\\x00\\x00')\n",
      "(3, 3, '\\x1e\\x00\\x00\\x00\\x00\\x00\\x00\\x00')\n",
      "(4, 4, 'd\\x00\\x00\\x00\\x00\\x00\\x00\\x00')\n",
      "(5, 5, '{\\x14\\xaeG\\xe1z\\x84?\\xf9\\xc5\\x92_,\\xf9\\xd5?\\xa7\\rt\\xda@\\xa7\\xe5?)\\\\\\x8f\\xc2\\xf5(\\xf0?~\\xb1\\xe4\\x17K~\\xf5?\\xd3\\x06:m\\xa0\\xd3\\xfa?\\x14\\xaeG\\xe1z\\x14\\x00@\\xbeX\\xf2\\x8b%\\xbf\\x02@i\\x03\\x9d6\\xd0i\\x05@\\x14\\xaeG\\xe1z\\x14\\x08@\\xbeX\\xf2\\x8b%\\xbf\\n@i\\x03\\x9d6\\xd0i\\r@')\n",
      "(6, 6, '{\\x14\\xaeG\\xe1z\\x84?)\\\\\\x8f\\xc2\\xf5(\\xbc?\\xe2z\\x14\\xaeG\\xe1\\xca?\\xd8\\xa3p=\\n\\xd7\\xd3?>\\n\\xd7\\xa3p=\\xda?R\\xb8\\x1e\\x85\\xebQ\\xe0?\\x86\\xebQ\\xb8\\x1e\\x85\\x ... (506 characters truncated) ... @H\\xe1z\\x14\\xaeG\\x07@\\x14\\xaeG\\xe1z\\x14\\x08@\\xe1z\\x14\\xaeG\\xe1\\x08@\\xaeG\\xe1z\\x14\\xae\\t@{\\x14\\xaeG\\xe1z\\n@H\\xe1z\\x14\\xaeG\\x0b@\\x14\\xaeG\\xe1z\\x14\\x0c@')\n",
      "(7, 7, '{\\x14\\xaeG\\xe1z\\x84?0\\x96\\xfcb\\xc9/\\xa6?\\xa0\\xd3\\x06:m\\xa0\\xb3?)\\\\\\x8f\\xc2\\xf5(\\xbc?Y\\xf2\\x8b%\\xbfX\\xc2?\\x9d6\\xd0i\\x03\\x9d\\xc6?\\xe2z\\x14\\xaeG\\xe1\\xca ... (2023 characters truncated) ... x14\\xaeG\\xe1z\\n@\\xbfX\\xf2\\x8b%\\xbf\\n@\\x03\\x9d6\\xd0i\\x03\\x0b@G\\xe1z\\x14\\xaeG\\x0b@\\x8b%\\xbfX\\xf2\\x8b\\x0b@\\xd0i\\x03\\x9d6\\xd0\\x0b@\\x14\\xaeG\\xe1z\\x14\\x0c@')\n",
      "(8, 8, '{\\x14\\xaeG\\xe1z\\x84?{\\x14\\xaeG\\xe1z\\x94?\\xb8\\x1e\\x85\\xebQ\\xb8\\x9e?{\\x14\\xaeG\\xe1z\\xa4?\\x9a\\x99\\x99\\x99\\x99\\x99\\xa9?\\xb9\\x1e\\x85\\xebQ\\xb8\\xae?\\xebQ\\xb ... (7492 characters truncated) ... 0b@\\xaeG\\xe1z\\x14\\xae\\x0b@\\xc2\\xf5(\\\\\\x8f\\xc2\\x0b@\\xd7\\xa3p=\\n\\xd7\\x0b@\\xebQ\\xb8\\x1e\\x85\\xeb\\x0b@\\x00\\x00\\x00\\x00\\x00\\x00\\x0c@\\x14\\xaeG\\xe1z\\x14\\x0c@')\n",
      "(9, 9, '\\x00\\x00\\x00\\x00\\x00\\x00\\x00\\x00\\x00\\x00\\x00\\x00\\x00\\x00\\xe0?\\x00\\x00\\x00\\x00\\x00\\x00\\xf0?')\n",
      "(10, 10, '\\x00\\x00\\x00\\x00\\x00\\x00\\x00\\x00\\x1c\\xc7q\\x1c\\xc7q\\xbc?\\x1c\\xc7q\\x1c\\xc7q\\xcc?UUUUUU\\xd5?\\x1c\\xc7q\\x1c\\xc7q\\xdc?r\\x1c\\xc7q\\x1c\\xc7\\xe1?UUUUUU\\xe5?8\\x8e\\xe38\\x8e\\xe3\\xe8?\\x1c\\xc7q\\x1c\\xc7q\\xec?\\x00\\x00\\x00\\x00\\x00\\x00\\xf0?')\n",
      "(11, 11, '\\x00\\x00\\x00\\x00\\x00\\x00\\x00\\x00\\x96{\\x1aa\\xb9\\xa7\\xa1?\\x96{\\x1aa\\xb9\\xa7\\xb1?a\\xb9\\xa7\\x11\\x96{\\xba?\\x96{\\x1aa\\xb9\\xa7\\xc1?|\\x1aa\\xb9\\xa7\\x11\\xc6?a\\ ... (397 characters truncated) ... 9\\xa7\\x11\\x96{\\xea?\\x1aa\\xb9\\xa7\\x11\\x96\\xeb?\\xd4\\x08\\xcb=\\x8d\\xb0\\xec?\\x8d\\xb0\\xdc\\xd3\\x08\\xcb\\xed?FX\\xeei\\x84\\xe5\\xee?\\x00\\x00\\x00\\x00\\x00\\x00\\xf0?')\n",
      "(12, 12, '\\x00\\x00\\x00\\x00\\x00\\x00\\x00\\x00[\\xbfR\\xa0\\xd6\\xaf\\x84?[\\xbfR\\xa0\\xd6\\xaf\\x94?\\x08\\x1f|\\xf0\\xc1\\x07\\x9f?[\\xbfR\\xa0\\xd6\\xaf\\xa4?2ogH\\xcc\\xdb\\xa9?\\x08\\ ... (1784 characters truncated) ... \\xee?\\x0e\\x89y;Cb\\xee?\\x0b\\xd4\\xfa\\x95\\x02\\xb5\\xee?\\x08\\x1f|\\xf0\\xc1\\x07\\xef?\\x06j\\xfdJ\\x81Z\\xef?\\x03\\xb5~\\xa5@\\xad\\xef?\\x00\\x00\\x00\\x00\\x00\\x00\\xf0?')\n"
     ]
    }
   ],
   "source": [
    "s = sqlalchemy.sql.select([metaparameters_table])\n",
    "result = conn.execute(s).fetchall()\n",
    "for r in result:\n",
    "    print(r)"
   ]
  },
  {
   "cell_type": "code",
   "execution_count": 18,
   "metadata": {
    "collapsed": false
   },
   "outputs": [
    {
     "name": "stdout",
     "output_type": "stream",
     "text": [
      "(1, u'samples', 3)\n",
      "(2, u'samples', 10)\n",
      "(3, u'samples', 30)\n",
      "(4, u'samples', 100)\n",
      "(5, u'histogram', 3)\n",
      "(6, u'histogram', 10)\n",
      "(7, u'histogram', 30)\n",
      "(8, u'histogram', 100)\n",
      "(9, u'quantiles', 3)\n",
      "(10, u'quantiles', 10)\n",
      "(11, u'quantiles', 30)\n",
      "(12, u'quantiles', 100)\n",
      "(13, u'gridded', 350)\n"
     ]
    }
   ],
   "source": [
    "(n_pdfs, n_start) = np.shape(pdfs)\n",
    "parametrizations.append('gridded')\n",
    "number_parameters.append(n_start)\n",
    "\n",
    "ins = parametrizations_table.insert().values(parametrization=parametrizations[-1], number_metaparameters=number_parameters[-1])  \n",
    "conn = engine.connect()\n",
    "result = conn.execute(ins)\n",
    "\n",
    "s = sqlalchemy.sql.select([parametrizations_table])\n",
    "result = conn.execute(s).fetchall()\n",
    "for r in result:\n",
    "    print(r)"
   ]
  },
  {
   "cell_type": "code",
   "execution_count": 19,
   "metadata": {
    "collapsed": false
   },
   "outputs": [
    {
     "name": "stdout",
     "output_type": "stream",
     "text": [
      "(1, 1, '\\x03\\x00\\x00\\x00\\x00\\x00\\x00\\x00')\n",
      "(2, 2, '\\n\\x00\\x00\\x00\\x00\\x00\\x00\\x00')\n",
      "(3, 3, '\\x1e\\x00\\x00\\x00\\x00\\x00\\x00\\x00')\n",
      "(4, 4, 'd\\x00\\x00\\x00\\x00\\x00\\x00\\x00')\n",
      "(5, 5, '{\\x14\\xaeG\\xe1z\\x84?\\xf9\\xc5\\x92_,\\xf9\\xd5?\\xa7\\rt\\xda@\\xa7\\xe5?)\\\\\\x8f\\xc2\\xf5(\\xf0?~\\xb1\\xe4\\x17K~\\xf5?\\xd3\\x06:m\\xa0\\xd3\\xfa?\\x14\\xaeG\\xe1z\\x14\\x00@\\xbeX\\xf2\\x8b%\\xbf\\x02@i\\x03\\x9d6\\xd0i\\x05@\\x14\\xaeG\\xe1z\\x14\\x08@\\xbeX\\xf2\\x8b%\\xbf\\n@i\\x03\\x9d6\\xd0i\\r@')\n",
      "(6, 6, '{\\x14\\xaeG\\xe1z\\x84?)\\\\\\x8f\\xc2\\xf5(\\xbc?\\xe2z\\x14\\xaeG\\xe1\\xca?\\xd8\\xa3p=\\n\\xd7\\xd3?>\\n\\xd7\\xa3p=\\xda?R\\xb8\\x1e\\x85\\xebQ\\xe0?\\x86\\xebQ\\xb8\\x1e\\x85\\x ... (506 characters truncated) ... @H\\xe1z\\x14\\xaeG\\x07@\\x14\\xaeG\\xe1z\\x14\\x08@\\xe1z\\x14\\xaeG\\xe1\\x08@\\xaeG\\xe1z\\x14\\xae\\t@{\\x14\\xaeG\\xe1z\\n@H\\xe1z\\x14\\xaeG\\x0b@\\x14\\xaeG\\xe1z\\x14\\x0c@')\n",
      "(7, 7, '{\\x14\\xaeG\\xe1z\\x84?0\\x96\\xfcb\\xc9/\\xa6?\\xa0\\xd3\\x06:m\\xa0\\xb3?)\\\\\\x8f\\xc2\\xf5(\\xbc?Y\\xf2\\x8b%\\xbfX\\xc2?\\x9d6\\xd0i\\x03\\x9d\\xc6?\\xe2z\\x14\\xaeG\\xe1\\xca ... (2023 characters truncated) ... x14\\xaeG\\xe1z\\n@\\xbfX\\xf2\\x8b%\\xbf\\n@\\x03\\x9d6\\xd0i\\x03\\x0b@G\\xe1z\\x14\\xaeG\\x0b@\\x8b%\\xbfX\\xf2\\x8b\\x0b@\\xd0i\\x03\\x9d6\\xd0\\x0b@\\x14\\xaeG\\xe1z\\x14\\x0c@')\n",
      "(8, 8, '{\\x14\\xaeG\\xe1z\\x84?{\\x14\\xaeG\\xe1z\\x94?\\xb8\\x1e\\x85\\xebQ\\xb8\\x9e?{\\x14\\xaeG\\xe1z\\xa4?\\x9a\\x99\\x99\\x99\\x99\\x99\\xa9?\\xb9\\x1e\\x85\\xebQ\\xb8\\xae?\\xebQ\\xb ... (7492 characters truncated) ... 0b@\\xaeG\\xe1z\\x14\\xae\\x0b@\\xc2\\xf5(\\\\\\x8f\\xc2\\x0b@\\xd7\\xa3p=\\n\\xd7\\x0b@\\xebQ\\xb8\\x1e\\x85\\xeb\\x0b@\\x00\\x00\\x00\\x00\\x00\\x00\\x0c@\\x14\\xaeG\\xe1z\\x14\\x0c@')\n",
      "(9, 9, '\\x00\\x00\\x00\\x00\\x00\\x00\\x00\\x00\\x00\\x00\\x00\\x00\\x00\\x00\\xe0?\\x00\\x00\\x00\\x00\\x00\\x00\\xf0?')\n",
      "(10, 10, '\\x00\\x00\\x00\\x00\\x00\\x00\\x00\\x00\\x1c\\xc7q\\x1c\\xc7q\\xbc?\\x1c\\xc7q\\x1c\\xc7q\\xcc?UUUUUU\\xd5?\\x1c\\xc7q\\x1c\\xc7q\\xdc?r\\x1c\\xc7q\\x1c\\xc7\\xe1?UUUUUU\\xe5?8\\x8e\\xe38\\x8e\\xe3\\xe8?\\x1c\\xc7q\\x1c\\xc7q\\xec?\\x00\\x00\\x00\\x00\\x00\\x00\\xf0?')\n",
      "(11, 11, '\\x00\\x00\\x00\\x00\\x00\\x00\\x00\\x00\\x96{\\x1aa\\xb9\\xa7\\xa1?\\x96{\\x1aa\\xb9\\xa7\\xb1?a\\xb9\\xa7\\x11\\x96{\\xba?\\x96{\\x1aa\\xb9\\xa7\\xc1?|\\x1aa\\xb9\\xa7\\x11\\xc6?a\\ ... (397 characters truncated) ... 9\\xa7\\x11\\x96{\\xea?\\x1aa\\xb9\\xa7\\x11\\x96\\xeb?\\xd4\\x08\\xcb=\\x8d\\xb0\\xec?\\x8d\\xb0\\xdc\\xd3\\x08\\xcb\\xed?FX\\xeei\\x84\\xe5\\xee?\\x00\\x00\\x00\\x00\\x00\\x00\\xf0?')\n",
      "(12, 12, '\\x00\\x00\\x00\\x00\\x00\\x00\\x00\\x00[\\xbfR\\xa0\\xd6\\xaf\\x84?[\\xbfR\\xa0\\xd6\\xaf\\x94?\\x08\\x1f|\\xf0\\xc1\\x07\\x9f?[\\xbfR\\xa0\\xd6\\xaf\\xa4?2ogH\\xcc\\xdb\\xa9?\\x08\\ ... (1784 characters truncated) ... \\xee?\\x0e\\x89y;Cb\\xee?\\x0b\\xd4\\xfa\\x95\\x02\\xb5\\xee?\\x08\\x1f|\\xf0\\xc1\\x07\\xef?\\x06j\\xfdJ\\x81Z\\xef?\\x03\\xb5~\\xa5@\\xad\\xef?\\x00\\x00\\x00\\x00\\x00\\x00\\xf0?')\n",
      "(13, 13, '{\\x14\\xaeG\\xe1z\\x84?{\\x14\\xaeG\\xe1z\\x94?\\xb8\\x1e\\x85\\xebQ\\xb8\\x9e?{\\x14\\xaeG\\xe1z\\xa4?\\x9a\\x99\\x99\\x99\\x99\\x99\\xa9?\\xb9\\x1e\\x85\\xebQ\\xb8\\xae?\\xebQ\\xb ... (7469 characters truncated) ... 9\\x99\\x99\\x99\\x99\\x99\\x0b@\\xaeG\\xe1z\\x14\\xae\\x0b@\\xc2\\xf5(\\\\\\x8f\\xc2\\x0b@\\xd7\\xa3p=\\n\\xd7\\x0b@\\xebQ\\xb8\\x1e\\x85\\xeb\\x0b@\\x00\\x00\\x00\\x00\\x00\\x00\\x0c@')\n"
     ]
    }
   ],
   "source": [
    "s = sqlalchemy.sql.select([parametrizations_table]).where(parametrizations_table.c.parametrization=='gridded')\n",
    "result = conn.execute(s).fetchall()\n",
    "\n",
    "for r in result:\n",
    "    ins = metaparameters_table.insert().prefix_with(\"OR IGNORE\").values(parametrization_id=r.id, metaparameter_set=z)  \n",
    "    conn = engine.connect()\n",
    "    result = conn.execute(ins)\n",
    "    \n",
    "s = sqlalchemy.sql.select([metaparameters_table])\n",
    "result = conn.execute(s).fetchall()\n",
    "for r in result:\n",
    "    print(r)"
   ]
  },
  {
   "cell_type": "code",
   "execution_count": 20,
   "metadata": {
    "collapsed": false
   },
   "outputs": [
    {
     "name": "stdout",
     "output_type": "stream",
     "text": [
      "<type 'list'>\n"
     ]
    }
   ],
   "source": [
    "s = sqlalchemy.sql.select([parametrizations_table.c.id, parametrizations_table.c.number_metaparameters]).where(parametrizations_table.c.parametrization=='gridded')\n",
    "latest = conn.execute(s).fetchall()\n",
    "print(type(latest))"
   ]
  },
  {
   "cell_type": "code",
   "execution_count": 21,
   "metadata": {
    "collapsed": false
   },
   "outputs": [
    {
     "name": "stdout",
     "output_type": "stream",
     "text": [
      "(13,)\n",
      "[('{\\x14\\xaeG\\xe1z\\x84?{\\x14\\xaeG\\xe1z\\x94?\\xb8\\x1e\\x85\\xebQ\\xb8\\x9e?{\\x14\\xaeG\\xe1z\\xa4?\\x9a\\x99\\x99\\x99\\x99\\x99\\xa9?\\xb9\\x1e\\x85\\xebQ\\xb8\\xae?\\xebQ\\xb ... (7469 characters truncated) ... 9\\x99\\x99\\x99\\x99\\x99\\x0b@\\xaeG\\xe1z\\x14\\xae\\x0b@\\xc2\\xf5(\\\\\\x8f\\xc2\\x0b@\\xd7\\xa3p=\\n\\xd7\\x0b@\\xebQ\\xb8\\x1e\\x85\\xeb\\x0b@\\x00\\x00\\x00\\x00\\x00\\x00\\x0c@',)]\n",
      "[ 0.01  0.02  0.03  0.04  0.05  0.06  0.07  0.08  0.09  0.1   0.11  0.12\n",
      "  0.13  0.14  0.15  0.16  0.17  0.18  0.19  0.2   0.21  0.22  0.23  0.24\n",
      "  0.25  0.26  0.27  0.28  0.29  0.3   0.31  0.32  0.33  0.34  0.35  0.36\n",
      "  0.37  0.38  0.39  0.4   0.41  0.42  0.43  0.44  0.45  0.46  0.47  0.48\n",
      "  0.49  0.5   0.51  0.52  0.53  0.54  0.55  0.56  0.57  0.58  0.59  0.6\n",
      "  0.61  0.62  0.63  0.64  0.65  0.66  0.67  0.68  0.69  0.7   0.71  0.72\n",
      "  0.73  0.74  0.75  0.76  0.77  0.78  0.79  0.8   0.81  0.82  0.83  0.84\n",
      "  0.85  0.86  0.87  0.88  0.89  0.9   0.91  0.92  0.93  0.94  0.95  0.96\n",
      "  0.97  0.98  0.99  1.    1.01  1.02  1.03  1.04  1.05  1.06  1.07  1.08\n",
      "  1.09  1.1   1.11  1.12  1.13  1.14  1.15  1.16  1.17  1.18  1.19  1.2\n",
      "  1.21  1.22  1.23  1.24  1.25  1.26  1.27  1.28  1.29  1.3   1.31  1.32\n",
      "  1.33  1.34  1.35  1.36  1.37  1.38  1.39  1.4   1.41  1.42  1.43  1.44\n",
      "  1.45  1.46  1.47  1.48  1.49  1.5   1.51  1.52  1.53  1.54  1.55  1.56\n",
      "  1.57  1.58  1.59  1.6   1.61  1.62  1.63  1.64  1.65  1.66  1.67  1.68\n",
      "  1.69  1.7   1.71  1.72  1.73  1.74  1.75  1.76  1.77  1.78  1.79  1.8\n",
      "  1.81  1.82  1.83  1.84  1.85  1.86  1.87  1.88  1.89  1.9   1.91  1.92\n",
      "  1.93  1.94  1.95  1.96  1.97  1.98  1.99  2.    2.01  2.02  2.03  2.04\n",
      "  2.05  2.06  2.07  2.08  2.09  2.1   2.11  2.12  2.13  2.14  2.15  2.16\n",
      "  2.17  2.18  2.19  2.2   2.21  2.22  2.23  2.24  2.25  2.26  2.27  2.28\n",
      "  2.29  2.3   2.31  2.32  2.33  2.34  2.35  2.36  2.37  2.38  2.39  2.4\n",
      "  2.41  2.42  2.43  2.44  2.45  2.46  2.47  2.48  2.49  2.5   2.51  2.52\n",
      "  2.53  2.54  2.55  2.56  2.57  2.58  2.59  2.6   2.61  2.62  2.63  2.64\n",
      "  2.65  2.66  2.67  2.68  2.69  2.7   2.71  2.72  2.73  2.74  2.75  2.76\n",
      "  2.77  2.78  2.79  2.8   2.81  2.82  2.83  2.84  2.85  2.86  2.87  2.88\n",
      "  2.89  2.9   2.91  2.92  2.93  2.94  2.95  2.96  2.97  2.98  2.99  3.\n",
      "  3.01  3.02  3.03  3.04  3.05  3.06  3.07  3.08  3.09  3.1   3.11  3.12\n",
      "  3.13  3.14  3.15  3.16  3.17  3.18  3.19  3.2   3.21  3.22  3.23  3.24\n",
      "  3.25  3.26  3.27  3.28  3.29  3.3   3.31  3.32  3.33  3.34  3.35  3.36\n",
      "  3.37  3.38  3.39  3.4   3.41  3.42  3.43  3.44  3.45  3.46  3.47  3.48\n",
      "  3.49  3.5 ]\n"
     ]
    }
   ],
   "source": [
    "s1 = sqlalchemy.sql.select([parametrizations_table.c.id]).where(parametrizations_table.c.parametrization=='gridded' and parametrizations_table.c.number_metaparameters==n_start)\n",
    "metaparam_index = conn.execute(s1).fetchall()[0]\n",
    "print(metaparam_index)\n",
    "\n",
    "s2 = sqlalchemy.sql.select([metaparameters_table.c.metaparameter_set]).where(metaparameters_table.c.parametrization_id==metaparam_index[0])\n",
    "metaparam_bytes = conn.execute(s2).fetchall()\n",
    "print(metaparam_bytes)\n",
    "in_metaparams = np.fromstring(metaparam_bytes[0][0])\n",
    "print(in_metaparams)"
   ]
  },
  {
   "cell_type": "code",
   "execution_count": 22,
   "metadata": {
    "collapsed": false
   },
   "outputs": [
    {
     "name": "stdout",
     "output_type": "stream",
     "text": [
      "1\n",
      "2\n",
      "3\n",
      "4\n",
      "5\n",
      "6\n",
      "7\n",
      "8\n",
      "9\n",
      "10\n"
     ]
    }
   ],
   "source": [
    "ins = PDFs_table.insert()  \n",
    "conn = engine.connect()\n",
    "result = conn.execute(ins, [{}]*n_pdfs)\n",
    "\n",
    "s = sqlalchemy.sql.select([PDFs_table.c.id])\n",
    "result = conn.execute(s).fetchall()\n",
    "for r in result[:10]:\n",
    "    print(r[0])"
   ]
  },
  {
   "cell_type": "code",
   "execution_count": 23,
   "metadata": {
    "collapsed": false
   },
   "outputs": [
    {
     "name": "stdout",
     "output_type": "stream",
     "text": [
      "(<type 'numpy.ndarray'>, <type 'numpy.ndarray'>, <type 'numpy.int64'>)\n",
      "13\n",
      "100\n"
     ]
    }
   ],
   "source": [
    "s1 = sqlalchemy.sql.select([PDFs_table.c.id])\n",
    "pdf_indices = np.array(conn.execute(s1).fetchall()[:100])\n",
    "print(type(pdf_indices), type(pdf_indices[0]), type(pdf_indices[0][0]))\n",
    "s2 = sqlalchemy.sql.select([metaparameters_table.c.id]).where(metaparameters_table.c.metaparameter_set==in_metaparams.tostring())\n",
    "metaparam_id = conn.execute(s2).fetchall()[0][0]\n",
    "print(metaparam_id)\n",
    "\n",
    "def make_parameter_dicts(i):\n",
    "    new_parameters = {'PDFs_id' : i[0], 'metaparameters_id' : metaparam_id, 'parameter_set' : pdfs[i[0]-1].tostring()}\n",
    "    return new_parameters\n",
    "    \n",
    "pool = Pool(2)\n",
    "parameter_dicts = pool.map(make_parameter_dicts, pdf_indices)\n",
    "print(len(parameter_dicts))\n",
    "\n",
    "# def pdfs_from_file_to_db(i):\n",
    "# #     P = qp.PDF(gridded=(in_metaparams, pdfs[i]), vb=False)\n",
    "#     ins = parameters_table.insert().values(PDFs_id=i[0], metaparameters_id=metaparam_id, parameter_set=pdfs[i].tostring())  \n",
    "#     conn = engine.connect()\n",
    "#     result = conn.execute(ins)\n",
    "\n",
    "# pool = Pool(2)\n",
    "# pool.map(pdfs_from_file_to_db, pdf_indices : "
   ]
  },
  {
   "cell_type": "code",
   "execution_count": 24,
   "metadata": {
    "collapsed": false
   },
   "outputs": [
    {
     "data": {
      "text/plain": [
       "<sqlalchemy.engine.result.ResultProxy at 0x7f2a260459d0>"
      ]
     },
     "execution_count": 24,
     "metadata": {},
     "output_type": "execute_result"
    }
   ],
   "source": [
    "conn = engine.connect()\n",
    "conn.execute(parameters_table.insert(), parameter_dicts)\n",
    "\n",
    "# s = sqlalchemy.sql.select([parameters_table.c.id])\n",
    "# result = conn.execute(s).fetchall()\n",
    "# for r in result[:10]:\n",
    "#     print(r[0])"
   ]
  },
  {
   "cell_type": "code",
   "execution_count": 43,
   "metadata": {
    "collapsed": false
   },
   "outputs": [
    {
     "name": "stdout",
     "output_type": "stream",
     "text": [
      "[1 2 3 4]\n"
     ]
    }
   ],
   "source": [
    "sxi = sqlalchemy.sql.select([metaparameters_table.c.metaparameter_set]).where(metaparameters_table.c.id==metaparam_id)\n",
    "xi = np.fromstring(conn.execute(sxi).fetchall()[0][0])\n",
    "\n",
    "# sy = sqlalchemy.sql.select([parameters_table.c.parameter_set]).where(parameters_table.c.metaparameters_id==metaparam_id)\n",
    "# y = conn.execute(sy).fetchall()\n",
    "\n",
    "sp = sqlalchemy.sql.select([parametrizations_table.c.id]).where(parametrizations_table.c.parametrization=='samples')\n",
    "ps = np.array(conn.execute(sp).fetchall())\n",
    "# for p in ps:\n",
    "#     print p\n",
    "\n",
    "sf = sqlalchemy.sql.select([metaparameters_table.c.id]).where(metaparameters_table.c.parametrization_id.in_(ps[:,0]))\n",
    "fs = np.array(conn.execute(sf).fetchall())[:,0]\n",
    "# for f in fs:\n",
    "#     print f[0]\n",
    "print(fs)"
   ]
  },
  {
   "cell_type": "code",
   "execution_count": 52,
   "metadata": {
    "collapsed": false
   },
   "outputs": [],
   "source": [
    "def gridded_to_samples((i, f)):\n",
    "    print(i, f)\n",
    "    conn = engine.connect()\n",
    "    sxi = sqlalchemy.sql.select([metaparameters_table.c.metaparameter_set]).where(metaparameters_table.c.id==metaparam_id)\n",
    "    xi = np.fromstring(conn.execute(sxi).fetchall()[0][0])\n",
    "    syi = sqlalchemy.sql.select([parameters_table.c.parameter_set]).where(parameters_table.c.metaparameters_id==metaparam_id and parameters_table.c.PDFs_id==i[0])\n",
    "    yi = np.fromstring(conn.execute(syi).fetchall()[0][0])\n",
    "    G = qp.PDF(gridded=(xi, yi))\n",
    "    sxf = sqlalchemy.sql.select([metaparameters_table.c.metaparameter_set]).where(metaparameters_table.c.id==f)\n",
    "    xf = np.fromstring(conn.execute(sxf).fetchall()[0][0], dtype=int)\n",
    "    S = G.sample(N=xf, using='gridded')\n",
    "    ins = parameters_table.insert().prefix_with(\"OR IGNORE\").values(PDFs_id=i[0], metaparameters_id=f, parameter_set=S.tostring())  \n",
    "    result = conn.execute(ins)\n",
    "    return S"
   ]
  },
  {
   "cell_type": "code",
   "execution_count": 53,
   "metadata": {
    "collapsed": false
   },
   "outputs": [],
   "source": [
    "conn = engine.connect()\n",
    "new_pdfs = pool.map(gridded_to_samples, itertools.product(pdf_indices[:100], fs))"
   ]
  },
  {
   "cell_type": "code",
   "execution_count": 54,
   "metadata": {
    "collapsed": false
   },
   "outputs": [
    {
     "name": "stdout",
     "output_type": "stream",
     "text": [
      "[ 0.66867775  0.7138382   0.64518954]\n",
      "[ 0.71852174  0.71004979  0.73212906  0.74416141  0.71642063  0.68372763\n",
      "  0.68642698  0.69862394  0.73726591  0.70540124]\n",
      "[ 0.69798101  0.73117395  0.69263285  0.68966414  0.71044281  0.73829885\n",
      "  0.70313301  0.6628309   0.70279409  0.66158559  0.67158146  0.66408125\n",
      "  0.70739304  0.68323288  0.71007485  0.70990671  0.7271088   0.70970038\n",
      "  0.6620399   0.68422075  0.6650514   0.72758056  0.6631331   0.6999295\n",
      "  0.71335944  0.6696978   0.72905384  0.68247447  0.66620077  0.69392012]\n",
      "[ 0.7069089   0.71184138  0.70071943  0.70753279  0.71146038  0.71647714\n",
      "  0.67890381  0.70846752  0.72449606  0.69060449  0.70658745  0.70780204\n",
      "  0.70399413  0.6835401   0.68608515  0.67440739  0.71612201  0.72077507\n",
      "  0.71860996  0.71752293  0.67652585  0.70229307  0.70096997  0.718839\n",
      "  0.69569901  0.73356887  0.73349896  0.68685665  0.66817465  0.71340672\n",
      "  0.67985999  0.70754323  0.6572879   0.71148023  0.68276459  0.66388681\n",
      "  0.71210975  0.67969109  0.70021317  0.67444639  0.6738235   0.69577829\n",
      "  0.72306715  0.69252021  0.69273998  0.75074376  0.69956806  0.68213824\n",
      "  0.69738768  0.70175158  0.69357971  0.70500174  0.72785104  0.71421928\n",
      "  0.71120821  0.69364076  0.66915501  0.66063988  0.70076102  0.67097012\n",
      "  0.7091298   0.67877785  0.71488946  0.73455141  0.71153071  0.70995727\n",
      "  0.69101717  0.68011346  0.72518953  0.68962502  0.66313122  0.70364851\n",
      "  0.71282955  0.68219291  0.7394766   0.72130506  0.6714054   0.66523903\n",
      "  0.68577762  0.72645102  0.6771987   0.70256941  0.73149619  0.71375635\n",
      "  0.68209716  0.67985049  0.72404724  0.69744078  0.67669575  0.7099658\n",
      "  0.70395309  0.69853849  0.68744306  0.71590006  0.6747831   0.71692485\n",
      "  0.69203129  0.71389465  0.69274327  0.72053379]\n",
      "[ 0.        0.        0.        0.        0.        0.        0.        0.\n",
      "  0.        0.        0.        0.        0.        0.        0.        0.\n",
      "  0.        0.        0.        0.002181  0.007426  0.02071   0.04733\n",
      "  0.08862   0.1359    0.1709    0.176     0.1486    0.1029    0.05839\n",
      "  0.02721   0.01044   0.003345  0.        0.        0.        0.        0.\n",
      "  0.        0.        0.        0.        0.        0.        0.        0.\n",
      "  0.        0.        0.        0.        0.        0.        0.        0.\n",
      "  0.        0.        0.        0.        0.        0.        0.        0.\n",
      "  0.        0.        0.        0.        0.        0.        0.        0.\n",
      "  0.        0.        0.        0.        0.        0.        0.        0.\n",
      "  0.        0.        0.        0.        0.        0.        0.        0.\n",
      "  0.        0.        0.        0.        0.        0.        0.        0.\n",
      "  0.        0.        0.        0.        0.        0.        0.        0.\n",
      "  0.        0.        0.        0.        0.        0.        0.        0.\n",
      "  0.        0.        0.        0.        0.        0.        0.        0.\n",
      "  0.        0.        0.        0.        0.        0.        0.        0.\n",
      "  0.        0.        0.        0.        0.        0.        0.        0.\n",
      "  0.        0.        0.        0.        0.        0.        0.        0.\n",
      "  0.        0.        0.        0.        0.        0.        0.        0.\n",
      "  0.        0.        0.        0.        0.        0.        0.        0.\n",
      "  0.        0.        0.        0.        0.        0.        0.        0.\n",
      "  0.        0.        0.        0.        0.        0.        0.        0.\n",
      "  0.        0.        0.        0.        0.        0.        0.        0.\n",
      "  0.        0.        0.        0.        0.        0.        0.        0.\n",
      "  0.        0.        0.        0.        0.        0.        0.        0.\n",
      "  0.        0.        0.        0.        0.        0.        0.        0.\n",
      "  0.        0.        0.        0.        0.        0.        0.        0.\n",
      "  0.        0.        0.        0.        0.        0.        0.        0.\n",
      "  0.        0.        0.        0.        0.        0.        0.        0.\n",
      "  0.        0.        0.        0.        0.        0.        0.        0.\n",
      "  0.        0.        0.        0.        0.        0.        0.        0.\n",
      "  0.        0.        0.        0.        0.        0.        0.        0.\n",
      "  0.        0.        0.        0.        0.        0.        0.        0.\n",
      "  0.        0.        0.        0.        0.        0.        0.        0.\n",
      "  0.        0.        0.        0.        0.        0.        0.        0.\n",
      "  0.        0.        0.        0.        0.        0.        0.        0.\n",
      "  0.        0.        0.        0.        0.        0.        0.        0.\n",
      "  0.        0.        0.        0.        0.        0.        0.        0.\n",
      "  0.        0.        0.        0.        0.        0.        0.        0.\n",
      "  0.        0.        0.        0.        0.        0.        0.        0.\n",
      "  0.        0.        0.        0.        0.        0.        0.        0.\n",
      "  0.        0.        0.        0.        0.        0.        0.        0.\n",
      "  0.        0.        0.        0.        0.        0.        0.        0.\n",
      "  0.        0.        0.        0.        0.        0.        0.        0.      ]\n"
     ]
    }
   ],
   "source": [
    "s = sqlalchemy.sql.select([parameters_table.c.parameter_set]).where(parameters_table.c.PDFs_id==5)\n",
    "result = conn.execute(s).fetchall()\n",
    "for r in result:\n",
    "    print np.fromstring(r[0])"
   ]
  },
  {
   "cell_type": "code",
   "execution_count": null,
   "metadata": {
    "collapsed": true
   },
   "outputs": [],
   "source": []
  },
  {
   "cell_type": "code",
   "execution_count": null,
   "metadata": {
    "collapsed": true
   },
   "outputs": [],
   "source": []
  },
  {
   "cell_type": "code",
   "execution_count": null,
   "metadata": {
    "collapsed": true
   },
   "outputs": [],
   "source": []
  },
  {
   "cell_type": "code",
   "execution_count": 20,
   "metadata": {
    "collapsed": false
   },
   "outputs": [
    {
     "name": "stdout",
     "output_type": "stream",
     "text": [
      "(1,)\n"
     ]
    }
   ],
   "source": [
    "s = sqlalchemy.sql.select([parameters_table.c.id])\n",
    "parameter_indices = conn.execute(s).fetchall()\n",
    "for p in parameter_indices:\n",
    "    print(p)"
   ]
  },
  {
   "cell_type": "code",
   "execution_count": null,
   "metadata": {
    "collapsed": true
   },
   "outputs": [],
   "source": [
    "for p in range(n_pdfs):\n",
    "    ins = parametrizations_table.insert().values(parameters=pdfs[p].tostring(), number_metaparameters=n)  \n",
    "    conn = engine.connect()\n",
    "    result = conn.execute(ins)"
   ]
  },
  {
   "cell_type": "code",
   "execution_count": 7,
   "metadata": {
    "collapsed": false
   },
   "outputs": [
    {
     "name": "stdout",
     "output_type": "stream",
     "text": [
      "9\n",
      "\u0000\u0000\u0000\u0000\u0000\u0000\u0000\u0000[�R�֯�?[�R�֯�?\b\u001f|��\u0007�?[�R�֯�?2ogH�۩?\b\u001f|��\u0007�?pgH��\u0019�?[�R�֯�?F\u0017]t�E�?2ogH�۹?\u001d",
      "�q\u001c",
      "�q�?\b\u001f|��\u0007�?z;Cb���?pgH��\u0019�?e�M6�d�?[�R�֯�?Q�W\n",
      "���?F\u0017]t�E�?<Cb�ΐ�?2ogH���?'�l��&�?\u001d",
      "�q\u001c",
      "�q�?\u0013�v�ļ�?\b\u001f|��\u0007�?�@�_)�?z;Cb���?u�E\u0017]t�?pgH��\u0019�?j�J�Z��?e�M6�d�?`)P�W\n",
      "�?[�R�֯�?VUUUUU�?Q�W\n",
      "���?L�Z�R��?F\u0017]t�E�?A�_)P��?<Cb�ΐ�?7�d�M6�?2ogH���?-\u0005j�J��?'�l��&�?\"1ogH��?\u001d",
      "�q\u001c",
      "�q�?\u0018]t�E\u0017�?\u0013�v�ļ�?\u000e�y;Cb�?\b\u001f|��\u0007�?\u0003�~�@��?�@�_)�?}��\u0007\u001f|�?z;Cb���?w�ļ�!�?u�E\u0017]t�?r\u001c",
      "�q\u001c",
      "��?pgH��\u0019�?m��&�l�?j�J�Z��?hH��\u0019\u0012�?e�M6�d�?c�ΐ���?`)P�W\n",
      "�?^t�E\u0017]�?[�R�֯�?X\n",
      "���\u0002�?VUUUUU�?S�֯\u0014��?Q�W\n",
      "���?N6�d�M�?L�Z�R��?I��\u0019\u0012��?F\u0017]t�E�?Db�ΐ��?A�_)P��??��\u000f>�?<Cb�ΐ�?9��8���?7�d�M6�?4$��\f",
      "��?2ogH���?/�袋.�?-\u0005j�J��?*P�W\n",
      "��?'�l��&�?%��\f",
      "�y�?\"1ogH��? |��\u0007\u001f�?\u001d",
      "�q\u001c",
      "�q�?\u001b\u0012�v���?\u0018]t�E\u0017�?\u0015��+\u0005j�?\u0013�v�ļ�?\u0010>��\u000f�?\u000e�y;Cb�?\u000b",
      "���\u0002��?\b\u001f|��\u0007�?\u0006j�J�Z�?\u0003�~�@��?\u0000\u0000\u0000\u0000\u0000\u0000�?\n",
      "10\n",
      "\u0000\u0000\u0000\u0000\u0000\u0000\u0000\u0000[�R�֯�?[�R�֯�?\b\u001f|��\u0007�?[�R�֯�?2ogH�۩?\b\u001f|��\u0007�?pgH��\u0019�?[�R�֯�?F\u0017]t�E�?2ogH�۹?\u001d",
      "�q\u001c",
      "�q�?\b\u001f|��\u0007�?z;Cb���?pgH��\u0019�?e�M6�d�?[�R�֯�?Q�W\n",
      "���?F\u0017]t�E�?<Cb�ΐ�?2ogH���?'�l��&�?\u001d",
      "�q\u001c",
      "�q�?\u0013�v�ļ�?\b\u001f|��\u0007�?�@�_)�?z;Cb���?u�E\u0017]t�?pgH��\u0019�?j�J�Z��?e�M6�d�?`)P�W\n",
      "�?[�R�֯�?VUUUUU�?Q�W\n",
      "���?L�Z�R��?F\u0017]t�E�?A�_)P��?<Cb�ΐ�?7�d�M6�?2ogH���?-\u0005j�J��?'�l��&�?\"1ogH��?\u001d",
      "�q\u001c",
      "�q�?\u0018]t�E\u0017�?\u0013�v�ļ�?\u000e�y;Cb�?\b\u001f|��\u0007�?\u0003�~�@��?�@�_)�?}��\u0007\u001f|�?z;Cb���?w�ļ�!�?u�E\u0017]t�?r\u001c",
      "�q\u001c",
      "��?pgH��\u0019�?m��&�l�?j�J�Z��?hH��\u0019\u0012�?e�M6�d�?c�ΐ���?`)P�W\n",
      "�?^t�E\u0017]�?[�R�֯�?X\n",
      "���\u0002�?VUUUUU�?S�֯\u0014��?Q�W\n",
      "���?N6�d�M�?L�Z�R��?I��\u0019\u0012��?F\u0017]t�E�?Db�ΐ��?A�_)P��??��\u000f>�?<Cb�ΐ�?9��8���?7�d�M6�?4$��\f",
      "��?2ogH���?/�袋.�?-\u0005j�J��?*P�W\n",
      "��?'�l��&�?%��\f",
      "�y�?\"1ogH��? |��\u0007\u001f�?\u001d",
      "�q\u001c",
      "�q�?\u001b\u0012�v���?\u0018]t�E\u0017�?\u0015��+\u0005j�?\u0013�v�ļ�?\u0010>��\u000f�?\u000e�y;Cb�?\u000b",
      "���\u0002��?\b\u001f|��\u0007�?\u0006j�J�Z�?\u0003�~�@��?\u0000\u0000\u0000\u0000\u0000\u0000�?\n",
      "11\n",
      "\u0000\u0000\u0000\u0000\u0000\u0000\u0000\u0000[�R�֯�?[�R�֯�?\b\u001f|��\u0007�?[�R�֯�?2ogH�۩?\b\u001f|��\u0007�?pgH��\u0019�?[�R�֯�?F\u0017]t�E�?2ogH�۹?\u001d",
      "�q\u001c",
      "�q�?\b\u001f|��\u0007�?z;Cb���?pgH��\u0019�?e�M6�d�?[�R�֯�?Q�W\n",
      "���?F\u0017]t�E�?<Cb�ΐ�?2ogH���?'�l��&�?\u001d",
      "�q\u001c",
      "�q�?\u0013�v�ļ�?\b\u001f|��\u0007�?�@�_)�?z;Cb���?u�E\u0017]t�?pgH��\u0019�?j�J�Z��?e�M6�d�?`)P�W\n",
      "�?[�R�֯�?VUUUUU�?Q�W\n",
      "���?L�Z�R��?F\u0017]t�E�?A�_)P��?<Cb�ΐ�?7�d�M6�?2ogH���?-\u0005j�J��?'�l��&�?\"1ogH��?\u001d",
      "�q\u001c",
      "�q�?\u0018]t�E\u0017�?\u0013�v�ļ�?\u000e�y;Cb�?\b\u001f|��\u0007�?\u0003�~�@��?�@�_)�?}��\u0007\u001f|�?z;Cb���?w�ļ�!�?u�E\u0017]t�?r\u001c",
      "�q\u001c",
      "��?pgH��\u0019�?m��&�l�?j�J�Z��?hH��\u0019\u0012�?e�M6�d�?c�ΐ���?`)P�W\n",
      "�?^t�E\u0017]�?[�R�֯�?X\n",
      "���\u0002�?VUUUUU�?S�֯\u0014��?Q�W\n",
      "���?N6�d�M�?L�Z�R��?I��\u0019\u0012��?F\u0017]t�E�?Db�ΐ��?A�_)P��??��\u000f>�?<Cb�ΐ�?9��8���?7�d�M6�?4$��\f",
      "��?2ogH���?/�袋.�?-\u0005j�J��?*P�W\n",
      "��?'�l��&�?%��\f",
      "�y�?\"1ogH��? |��\u0007\u001f�?\u001d",
      "�q\u001c",
      "�q�?\u001b\u0012�v���?\u0018]t�E\u0017�?\u0015��+\u0005j�?\u0013�v�ļ�?\u0010>��\u000f�?\u000e�y;Cb�?\u000b",
      "���\u0002��?\b\u001f|��\u0007�?\u0006j�J�Z�?\u0003�~�@��?\u0000\u0000\u0000\u0000\u0000\u0000�?\n",
      "12\n",
      "\u0000\u0000\u0000\u0000\u0000\u0000\u0000\u0000[�R�֯�?[�R�֯�?\b\u001f|��\u0007�?[�R�֯�?2ogH�۩?\b\u001f|��\u0007�?pgH��\u0019�?[�R�֯�?F\u0017]t�E�?2ogH�۹?\u001d",
      "�q\u001c",
      "�q�?\b\u001f|��\u0007�?z;Cb���?pgH��\u0019�?e�M6�d�?[�R�֯�?Q�W\n",
      "���?F\u0017]t�E�?<Cb�ΐ�?2ogH���?'�l��&�?\u001d",
      "�q\u001c",
      "�q�?\u0013�v�ļ�?\b\u001f|��\u0007�?�@�_)�?z;Cb���?u�E\u0017]t�?pgH��\u0019�?j�J�Z��?e�M6�d�?`)P�W\n",
      "�?[�R�֯�?VUUUUU�?Q�W\n",
      "���?L�Z�R��?F\u0017]t�E�?A�_)P��?<Cb�ΐ�?7�d�M6�?2ogH���?-\u0005j�J��?'�l��&�?\"1ogH��?\u001d",
      "�q\u001c",
      "�q�?\u0018]t�E\u0017�?\u0013�v�ļ�?\u000e�y;Cb�?\b\u001f|��\u0007�?\u0003�~�@��?�@�_)�?}��\u0007\u001f|�?z;Cb���?w�ļ�!�?u�E\u0017]t�?r\u001c",
      "�q\u001c",
      "��?pgH��\u0019�?m��&�l�?j�J�Z��?hH��\u0019\u0012�?e�M6�d�?c�ΐ���?`)P�W\n",
      "�?^t�E\u0017]�?[�R�֯�?X\n",
      "���\u0002�?VUUUUU�?S�֯\u0014��?Q�W\n",
      "���?N6�d�M�?L�Z�R��?I��\u0019\u0012��?F\u0017]t�E�?Db�ΐ��?A�_)P��??��\u000f>�?<Cb�ΐ�?9��8���?7�d�M6�?4$��\f",
      "��?2ogH���?/�袋.�?-\u0005j�J��?*P�W\n",
      "��?'�l��&�?%��\f",
      "�y�?\"1ogH��? |��\u0007\u001f�?\u001d",
      "�q\u001c",
      "�q�?\u001b\u0012�v���?\u0018]t�E\u0017�?\u0015��+\u0005j�?\u0013�v�ļ�?\u0010>��\u000f�?\u000e�y;Cb�?\u000b",
      "���\u0002��?\b\u001f|��\u0007�?\u0006j�J�Z�?\u0003�~�@��?\u0000\u0000\u0000\u0000\u0000\u0000�?\n"
     ]
    }
   ],
   "source": [
    "\n",
    "s = sqlalchemy.sql.select([parametrizations_table]).where(parametrizations_table.c.parametrization=='quantiles')\n",
    "result = conn.execute(s)\n",
    "\n",
    "out_place = result.fetchall() \n",
    "for o in out_place:\n",
    "    quantiles = np.linspace(0., 1., r.number_metaparameters).tostring()\n",
    "    ins = metaparameters_table.insert().values(parametrization_id=o.id, metaparameter_set=quantiles)  \n",
    "    conn = engine.connect()\n",
    "    result = conn.execute(ins)\n",
    "    "
   ]
  },
  {
   "cell_type": "code",
   "execution_count": 8,
   "metadata": {
    "collapsed": false
   },
   "outputs": [
    {
     "name": "stdout",
     "output_type": "stream",
     "text": [
      "(1, 9, '\\x00\\x00\\x00\\x00\\x00\\x00\\x00\\x00[\\xbfR\\xa0\\xd6\\xaf\\x84?[\\xbfR\\xa0\\xd6\\xaf\\x94?\\x08\\x1f|\\xf0\\xc1\\x07\\x9f?[\\xbfR\\xa0\\xd6\\xaf\\xa4?2ogH\\xcc\\xdb\\xa9?\\x08\\ ... (1784 characters truncated) ... \\xee?\\x0e\\x89y;Cb\\xee?\\x0b\\xd4\\xfa\\x95\\x02\\xb5\\xee?\\x08\\x1f|\\xf0\\xc1\\x07\\xef?\\x06j\\xfdJ\\x81Z\\xef?\\x03\\xb5~\\xa5@\\xad\\xef?\\x00\\x00\\x00\\x00\\x00\\x00\\xf0?')\n",
      "(2, 10, '\\x00\\x00\\x00\\x00\\x00\\x00\\x00\\x00[\\xbfR\\xa0\\xd6\\xaf\\x84?[\\xbfR\\xa0\\xd6\\xaf\\x94?\\x08\\x1f|\\xf0\\xc1\\x07\\x9f?[\\xbfR\\xa0\\xd6\\xaf\\xa4?2ogH\\xcc\\xdb\\xa9?\\x08\\ ... (1784 characters truncated) ... \\xee?\\x0e\\x89y;Cb\\xee?\\x0b\\xd4\\xfa\\x95\\x02\\xb5\\xee?\\x08\\x1f|\\xf0\\xc1\\x07\\xef?\\x06j\\xfdJ\\x81Z\\xef?\\x03\\xb5~\\xa5@\\xad\\xef?\\x00\\x00\\x00\\x00\\x00\\x00\\xf0?')\n",
      "(3, 11, '\\x00\\x00\\x00\\x00\\x00\\x00\\x00\\x00[\\xbfR\\xa0\\xd6\\xaf\\x84?[\\xbfR\\xa0\\xd6\\xaf\\x94?\\x08\\x1f|\\xf0\\xc1\\x07\\x9f?[\\xbfR\\xa0\\xd6\\xaf\\xa4?2ogH\\xcc\\xdb\\xa9?\\x08\\ ... (1784 characters truncated) ... \\xee?\\x0e\\x89y;Cb\\xee?\\x0b\\xd4\\xfa\\x95\\x02\\xb5\\xee?\\x08\\x1f|\\xf0\\xc1\\x07\\xef?\\x06j\\xfdJ\\x81Z\\xef?\\x03\\xb5~\\xa5@\\xad\\xef?\\x00\\x00\\x00\\x00\\x00\\x00\\xf0?')\n",
      "(4, 12, '\\x00\\x00\\x00\\x00\\x00\\x00\\x00\\x00[\\xbfR\\xa0\\xd6\\xaf\\x84?[\\xbfR\\xa0\\xd6\\xaf\\x94?\\x08\\x1f|\\xf0\\xc1\\x07\\x9f?[\\xbfR\\xa0\\xd6\\xaf\\xa4?2ogH\\xcc\\xdb\\xa9?\\x08\\ ... (1784 characters truncated) ... \\xee?\\x0e\\x89y;Cb\\xee?\\x0b\\xd4\\xfa\\x95\\x02\\xb5\\xee?\\x08\\x1f|\\xf0\\xc1\\x07\\xef?\\x06j\\xfdJ\\x81Z\\xef?\\x03\\xb5~\\xa5@\\xad\\xef?\\x00\\x00\\x00\\x00\\x00\\x00\\xf0?')\n"
     ]
    }
   ],
   "source": [
    "#print(np.fromiter(metaparameters_table.fetchall(), np.ndarray).fromstring())\n",
    "s = sqlalchemy.sql.select([metaparameters_table])\n",
    "result = conn.execute(s)\n",
    "\n",
    "for r in result.fetchall():\n",
    "    print(r)"
   ]
  },
  {
   "cell_type": "code",
   "execution_count": null,
   "metadata": {
    "collapsed": true
   },
   "outputs": [],
   "source": []
  },
  {
   "cell_type": "code",
   "execution_count": null,
   "metadata": {
    "collapsed": false
   },
   "outputs": [],
   "source": [
    "for q in result:\n",
    "    quantiles = np.linspace(re)\n",
    "    ins = metaparameters_table.insert().values(parametrization=p, number_metaparameters=n) \n",
    "    conn = engine.connect()\n",
    "    result = conn.execute(ins)\n",
    "    print(r)"
   ]
  },
  {
   "cell_type": "code",
   "execution_count": null,
   "metadata": {
    "collapsed": true
   },
   "outputs": [],
   "source": [
    "for r in result:\n",
    "    print(r.id)"
   ]
  },
  {
   "cell_type": "code",
   "execution_count": null,
   "metadata": {
    "collapsed": false
   },
   "outputs": [],
   "source": [
    "ps = sqlalchemy.sql.select([parametrizations_table])\n",
    "result = conn.execute(ps)\n",
    "for p in result:\n",
    "    print p"
   ]
  },
  {
   "cell_type": "code",
   "execution_count": null,
   "metadata": {
    "collapsed": true
   },
   "outputs": [],
   "source": []
  },
  {
   "cell_type": "code",
   "execution_count": null,
   "metadata": {
    "collapsed": true
   },
   "outputs": [],
   "source": []
  },
  {
   "cell_type": "code",
   "execution_count": null,
   "metadata": {
    "collapsed": true
   },
   "outputs": [],
   "source": []
  },
  {
   "cell_type": "code",
   "execution_count": null,
   "metadata": {
    "collapsed": true
   },
   "outputs": [],
   "source": [
    "import dataset as ds\n",
    "# help(dataset)"
   ]
  },
  {
   "cell_type": "code",
   "execution_count": null,
   "metadata": {
    "collapsed": false
   },
   "outputs": [],
   "source": [
    "db = ds.connect('postgresql:///example.db')"
   ]
  },
  {
   "cell_type": "code",
   "execution_count": null,
   "metadata": {
    "collapsed": true
   },
   "outputs": [],
   "source": [
    "import peewee as pw\n",
    "help(pw)\n",
    "\n",
    "from peewee import Model, CharField"
   ]
  },
  {
   "cell_type": "code",
   "execution_count": null,
   "metadata": {
    "collapsed": false
   },
   "outputs": [],
   "source": [
    "import playhouse as ph\n",
    "help(ph)\n",
    "from playhouse.postgres_ext import PostgresqlExtDatabase"
   ]
  },
  {
   "cell_type": "code",
   "execution_count": null,
   "metadata": {
    "collapsed": false
   },
   "outputs": [],
   "source": [
    "psql_db = PostgresqlExtDatabase('example', user='postgres')\n",
    "\n",
    "class BaseModel(Model):\n",
    "    class Meta:\n",
    "        database = psql_db\n",
    "\n",
    "# class Galaxy(BaseModel):\n",
    "#     Galaxy_id = pw.PrimaryKey()\n",
    "    \n",
    "# class PDF(BaseModel):\n",
    "#     PDF_id = pw.ForeignKeyField(Galaxy)\n",
    "#     parametrization_id = pw.ForeignKeyField(Parametrization)\n",
    "#     parameters = Array()\n",
    "    \n",
    "class Parametrization(BaseModel):\n",
    "    P_type = CharField()\n",
    "    parameters = ph.postgres_ext.ArrayField(pw.FloatField)"
   ]
  },
  {
   "cell_type": "code",
   "execution_count": null,
   "metadata": {
    "collapsed": false
   },
   "outputs": [],
   "source": [
    "psql_db.connect()"
   ]
  },
  {
   "cell_type": "code",
   "execution_count": null,
   "metadata": {
    "collapsed": true
   },
   "outputs": [],
   "source": [
    "def setup(where):\n",
    "    global parametrizations_table, metaparameters_table, PDFs_table, parameters_table\n",
    "    global engine, metadata\n",
    "    if not os.path.isfile(where):\n",
    "        engine = create_engine('sqlite:///'+where)\n",
    "        print('making the tables in '+where)\n",
    "        metadata = MetaData(engine)\n",
    "        Base.metadata.create_all(engine)\n",
    "        parametrizations_table = Table('parametrizations', metadata,\n",
    "                    Column('id', Integer, primary_key=True),\n",
    "                    Column('parametrization', String(8))\n",
    "                    )\n",
    " \n",
    "        metaparameters_table = Table('metaparameters', metadata,\n",
    "                        Column('id', Integer, primary_key=True),\n",
    "                        Column('parametrization_id', None, ForeignKey('parametrizations.id')),\n",
    "                        Column('metaparameter', ARRAY(Float))                            \n",
    "                        )\n",
    "\n",
    "        PDFs_table = Table('PDFs', metadata,\n",
    "                  Column('id', Integer, primary_key=True)\n",
    "                   )\n",
    "        parameters_table = Table('parameters', metadata,\n",
    "                        Column('id', Integer, primary_key=True),\n",
    "                         Column('PDFs_id', None, ForeignKey('PDFs.id')),\n",
    "                         Column('metaparameters_id', None, ForeignKey('metaparameters.id')),\n",
    "                         Column('parameter', ARRAY(Float)) \n",
    "                         )\n",
    "        metadata.create_all()\n",
    "    else:\n",
    "        engine = create_engine('sqlite:///'+where)\n",
    "        print('loading the tables from '+where)\n",
    "        metadata = MetaData(engine)\n",
    "        parametrizations_table = Table('parametrizations', metadata, autoload=True)\n",
    "        metaparameters_table = Table('metaparameters', metadata, autoload=True)\n",
    "        PDFs_table = Table('PDFs', metadata, autoload=True)\n",
    "        parameters_table = Table('parameters', metadata, autoload=True)\n",
    "        metadata.create_all()"
   ]
  },
  {
   "cell_type": "code",
   "execution_count": null,
   "metadata": {
    "collapsed": true
   },
   "outputs": [],
   "source": []
  },
  {
   "cell_type": "code",
   "execution_count": null,
   "metadata": {
    "collapsed": true
   },
   "outputs": [],
   "source": [
    "from sqlalchemy.dialects import postgresql\n",
    "from sqlalchemy import create_engine\n",
    "from sqlalchemy import MetaData, Column, Table, ForeignKey\n",
    "from sqlalchemy import Integer, String, ARRAY\n",
    " \n",
    "engine = create_engine('postgresql:///home/aimalz/Code/qp/docs/desc-0000-qp-photo-z_approximation/research/ensemble.db',\n",
    "                       echo=True)\n",
    " \n",
    "metadata = MetaData(bind=engine)\n",
    " \n",
    "parametrizations_table = Table('parametrizations', metadata,\n",
    "                    Column('id', Integer, primary_key=True),\n",
    "                    Column('parametrization', String(8)),\n",
    "                    )\n",
    " \n",
    "metaparameters_table = Table('metaparameters', metadata,\n",
    "                        Column('id', Integer, primary_key=True),\n",
    "                        Column('parametrization_id', None, ForeignKey('parametrizations.id')),\n",
    "                        Column('metaparameters', ARRAY(float), nullable=False)                            \n",
    "                        )\n",
    " \n",
    "# create tables in database\n",
    "metadata.create_all()"
   ]
  },
  {
   "cell_type": "code",
   "execution_count": null,
   "metadata": {
    "collapsed": true
   },
   "outputs": [],
   "source": []
  },
  {
   "cell_type": "code",
   "execution_count": null,
   "metadata": {
    "collapsed": false
   },
   "outputs": [],
   "source": [
    "import pandas as pd\n",
    "import numpy as np"
   ]
  },
  {
   "cell_type": "code",
   "execution_count": null,
   "metadata": {
    "collapsed": false
   },
   "outputs": [],
   "source": [
    "test = pd.DataFrame()\n",
    "print(test)"
   ]
  },
  {
   "cell_type": "code",
   "execution_count": null,
   "metadata": {
    "collapsed": false
   },
   "outputs": [],
   "source": [
    "print(test.columns)\n",
    "# print(full_df.columns)"
   ]
  },
  {
   "cell_type": "code",
   "execution_count": null,
   "metadata": {
    "collapsed": false
   },
   "outputs": [],
   "source": [
    "df_columns = ['quantiles', 'histogram', 'samples', 'gridded', 'gmm']\n",
    "test = pd.DataFrame(columns = df_columns)\n",
    "print(type(test.index))"
   ]
  },
  {
   "cell_type": "code",
   "execution_count": null,
   "metadata": {
    "collapsed": false
   },
   "outputs": [],
   "source": [
    "df_columns = ['quantiles', 'histogram', 'samples', 'gridded', 'gmm']\n",
    "data1 = {'quantiles': np.arange(10), 'histogram': np.arange(10)}\n",
    "test_df = pd.DataFrame([data1], index = ['first'])\n",
    "print(test_df.index)"
   ]
  },
  {
   "cell_type": "code",
   "execution_count": null,
   "metadata": {
    "collapsed": false
   },
   "outputs": [],
   "source": [
    "data2 = {'samples': np.arange(10), 'histogram': np.arange(10)}\n",
    "\n",
    "another_df = pd.DataFrame([data2], index = ['second'])\n",
    "combo_df = test_df.append(another_df)\n",
    "print(combo_df.index)"
   ]
  },
  {
   "cell_type": "code",
   "execution_count": null,
   "metadata": {
    "collapsed": false
   },
   "outputs": [],
   "source": [
    "galinds = np.arange(0, 1, 0.1)\n",
    "galnames = [str(ind) for ind in galinds]\n",
    "print(galnames)\n",
    "\n",
    "empty_df = pd.DataFrame(None)#, index = galnames)\n",
    "print(empty_df)"
   ]
  },
  {
   "cell_type": "code",
   "execution_count": null,
   "metadata": {
    "collapsed": false
   },
   "outputs": [],
   "source": [
    "new_galinds = galinds + 0.5\n",
    "new_galnames = [str(ind) for ind in new_galinds]\n",
    "old_df = pd.DataFrame([data1] * 10, index = galnames)\n",
    "#for galname in galnames:\n",
    "new_df = pd.DataFrame([data2] * 10, index = new_galnames)\n",
    "# full_df = pd.concat([old_df, new_df], axis=1)\n",
    "# print(full_df)"
   ]
  },
  {
   "cell_type": "code",
   "execution_count": null,
   "metadata": {
    "collapsed": false
   },
   "outputs": [],
   "source": [
    "# data1pp, data2pp = [], []\n",
    "# for i in range(len(galnames)):\n",
    "#     print(galnames[i])\n",
    "#     td1 = data1\n",
    "#     td1['galname'] = galnames[i]\n",
    "#     data1pp.append(td1)\n",
    "#     td2 = data2\n",
    "#     td2['galname'] = galnames[i]\n",
    "#     data2pp.append(td2)\n",
    "# full_df = pd.DataFrame(data1pp)\n",
    "# print(full_df)\n",
    "# new_df = pd.DataFrame(data2pp)#, index = galnames)\n",
    "# print(new_df)\n",
    "#full_df = pd.merge(old_df, new_df, how = 'outer', on = 'index')\n",
    "full_df = old_df.combine_first(new_df)\n",
    "print(full_df)"
   ]
  },
  {
   "cell_type": "code",
   "execution_count": null,
   "metadata": {
    "collapsed": true
   },
   "outputs": [],
   "source": []
  },
  {
   "cell_type": "code",
   "execution_count": null,
   "metadata": {
    "collapsed": true
   },
   "outputs": [],
   "source": []
  },
  {
   "cell_type": "markdown",
   "metadata": {},
   "source": [
    "The `qp.Ensemble` class should relate a few structures:\n",
    "* Something containing identifiers (immutable) and qp.PDF objects (mutable)\n",
    "* A database of columns of parametrizations and rows of parameters (or None)"
   ]
  },
  {
   "cell_type": "code",
   "execution_count": null,
   "metadata": {
    "collapsed": false
   },
   "outputs": [],
   "source": [
    "#help(parametrizations_table)\n",
    "print(parametrizations_table.metadata)"
   ]
  },
  {
   "cell_type": "code",
   "execution_count": null,
   "metadata": {
    "collapsed": true
   },
   "outputs": [],
   "source": []
  },
  {
   "cell_type": "code",
   "execution_count": null,
   "metadata": {
    "collapsed": false
   },
   "outputs": [],
   "source": [
    "metadata = MetaData()\n",
    "\n",
    "Ensemble = Table('ensemble', metadata,\n",
    "    Column('meta_mixmod', ARRAY(String)),\n",
    "    Column('meta_quantiles', ARRAY(Float)),\n",
    "    Column('meta_histogram', ARRAY(Float)),\n",
    "    Column('meta_gridded', ARRAY(Float)),\n",
    "    Column('meta_samples', ARRAY(Float)))"
   ]
  },
  {
   "cell_type": "code",
   "execution_count": null,
   "metadata": {
    "collapsed": false
   },
   "outputs": [],
   "source": [
    "class Galaxy(Base):\n",
    "    __tablename__ = 'galaxy'\n",
    "    idno = Column(Integer, primary_key=True)\n",
    "    pdf = Column(BLOB)"
   ]
  },
  {
   "cell_type": "code",
   "execution_count": null,
   "metadata": {
    "collapsed": true
   },
   "outputs": [],
   "source": [
    "class Parametrizations(Base):\n",
    "    __tablename__ = 'parametrizations'\n",
    "    idno = Column(Integer, primary_key=True)\n",
    "    mixmod = Column(ARRAY(Float))\n",
    "    quantiles = Column(ARRAY(Float))\n",
    "    histogram = Column(ARRAY(Float))\n",
    "    gridded = Column(ARRAY(Float))\n",
    "    samples = Column(ARRAY(Float))\n",
    "    galaxy = Relationship(Galaxy)"
   ]
  },
  {
   "cell_type": "code",
   "execution_count": null,
   "metadata": {
    "collapsed": true
   },
   "outputs": [],
   "source": []
  },
  {
   "cell_type": "code",
   "execution_count": null,
   "metadata": {
    "collapsed": false
   },
   "outputs": [],
   "source": [
    "testpdf = qp.PDF()"
   ]
  },
  {
   "cell_type": "code",
   "execution_count": null,
   "metadata": {
    "collapsed": true
   },
   "outputs": [],
   "source": []
  },
  {
   "cell_type": "code",
   "execution_count": null,
   "metadata": {
    "collapsed": true
   },
   "outputs": [],
   "source": [
    "help(sqlalchemy)"
   ]
  }
 ],
 "metadata": {
  "kernelspec": {
   "display_name": "Python 2",
   "language": "python",
   "name": "python2"
  },
  "language_info": {
   "codemirror_mode": {
    "name": "ipython",
    "version": 2
   },
   "file_extension": ".py",
   "mimetype": "text/x-python",
   "name": "python",
   "nbconvert_exporter": "python",
   "pygments_lexer": "ipython2",
   "version": "2.7.13"
  }
 },
 "nbformat": 4,
 "nbformat_minor": 2
}
