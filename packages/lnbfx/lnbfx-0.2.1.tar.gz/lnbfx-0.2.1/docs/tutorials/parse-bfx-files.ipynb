{
 "cells": [
  {
   "cell_type": "markdown",
   "metadata": {},
   "source": [
    "# Parse bioinformatics pipeline inputs, outputs, and metadata"
   ]
  },
  {
   "cell_type": "markdown",
   "metadata": {},
   "source": [
    "lnbfx provides utils to identify pipeline inputs, outputs, and metadata for further downstream processing."
   ]
  },
  {
   "cell_type": "code",
   "execution_count": null,
   "metadata": {},
   "outputs": [],
   "source": [
    "from nbproject import header\n",
    "\n",
    "header()"
   ]
  },
  {
   "cell_type": "markdown",
   "metadata": {},
   "source": [
    "## Parsing individual pipeline files"
   ]
  },
  {
   "cell_type": "markdown",
   "metadata": {},
   "source": [
    "Let's pass a path to `parse_bfx_file_type` to tag and identify a pipeline file."
   ]
  },
  {
   "cell_type": "code",
   "execution_count": null,
   "metadata": {},
   "outputs": [],
   "source": [
    "from lnbfx import parse_bfx_file_type\n",
    "\n",
    "bfx_file_type = parse_bfx_file_type(\"../../tests/test-data/SRR4238351_subsamp.fastq.gz\")\n",
    "bfx_file_type"
   ]
  },
  {
   "cell_type": "markdown",
   "metadata": {},
   "source": [
    "lnbfx currently works with the following file types:\n",
    "- `fastq`\n",
    "- `qc_report`\n",
    "- `count_matrix`\n",
    "\n",
    "To request integration with additional file types, please submit an issue or feel free to contribute with your own pull request.\n",
    "\n",
    "ADD LINK HERE"
   ]
  },
  {
   "cell_type": "markdown",
   "metadata": {},
   "source": [
    "## Parsing pipeline dirs"
   ]
  },
  {
   "cell_type": "code",
   "execution_count": null,
   "metadata": {},
   "outputs": [],
   "source": [
    "from lnbfx import get_bfx_files_from_dir\n",
    "\n",
    "bfx_files_in_dir = get_bfx_files_from_dir(\"../../tests/test-data/\")\n",
    "bfx_files_in_dir"
   ]
  }
 ],
 "metadata": {
  "kernelspec": {
   "display_name": "Python 3.9.13 ('py39')",
   "language": "python",
   "name": "python3"
  },
  "language_info": {
   "codemirror_mode": {
    "name": "ipython",
    "version": 3
   },
   "file_extension": ".py",
   "mimetype": "text/x-python",
   "name": "python",
   "nbconvert_exporter": "python",
   "pygments_lexer": "ipython3",
   "version": "3.9.13"
  },
  "nbproject": {
   "id": "r9oEX5p9nAQ2",
   "parent": null,
   "pypackage": null,
   "time_init": "2022-08-18T12:17:33.857564+00:00",
   "version": "draft"
  },
  "vscode": {
   "interpreter": {
    "hash": "ae1fefc8646a06dd2e75004cd934adda7c5727b046986a772e3b44b0ffba9754"
   }
  }
 },
 "nbformat": 4,
 "nbformat_minor": 2
}
