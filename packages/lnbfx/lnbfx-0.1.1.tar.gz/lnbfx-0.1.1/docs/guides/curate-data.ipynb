{
 "cells": [
  {
   "cell_type": "markdown",
   "id": "0a9571ac-9c68-437f-ba51-95d06e283cac",
   "metadata": {},
   "source": [
    "# How to curate data"
   ]
  },
  {
   "cell_type": "markdown",
   "id": "0abfc3c7",
   "metadata": {},
   "source": [
    "```{note}\n",
    "Any guide notebook is automatically run for testing! If a cell fails, the tests will fail! Try changing the assert statement below to observe.\n",
    "\n",
    "Note that task notebooks are neither tested, nor being built!\n",
    "```"
   ]
  },
  {
   "cell_type": "code",
   "execution_count": null,
   "id": "bcc0c374-0224-4935-b862-0b013c624375",
   "metadata": {},
   "outputs": [],
   "source": [
    "assert 1 == 1"
   ]
  }
 ],
 "metadata": {
  "kernelspec": {
   "display_name": "Python 3.10.5 64-bit",
   "language": "python",
   "name": "python3"
  },
  "language_info": {
   "codemirror_mode": {
    "name": "ipython",
    "version": 3
   },
   "file_extension": ".py",
   "mimetype": "text/x-python",
   "name": "python",
   "nbconvert_exporter": "python",
   "pygments_lexer": "ipython3",
   "version": "3.10.4"
  },
  "vscode": {
   "interpreter": {
    "hash": "071e9cc331e43ed75b58328e4b731b5af17b77f76d294581bb2f79d8ab587dba"
   }
  }
 },
 "nbformat": 4,
 "nbformat_minor": 5
}
