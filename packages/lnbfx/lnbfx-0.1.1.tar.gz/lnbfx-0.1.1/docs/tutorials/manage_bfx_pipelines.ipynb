{
 "cells": [
  {
   "cell_type": "markdown",
   "metadata": {},
   "source": [
    "# Create and manage bioinformatics pipelines as data entities"
   ]
  },
  {
   "cell_type": "markdown",
   "metadata": {},
   "source": [
    "lnbfx provides pipeline management functionality through the `BfxPipeline` class."
   ]
  },
  {
   "cell_type": "markdown",
   "metadata": {},
   "source": [
    "You can think of `BfxPipeline` as an entity that:\n",
    "- Maps one-to-one to a pipeline run.\n",
    "- Maps many-to-one to a pipeline.\n",
    "\n",
    "In lnbfx, a pipeline is the equivalent of a versioned pipeline script. A pipeline run is an instance of a pipeline. Examples:\n",
    "- pipeline: [nf-core/rna-seq, version 3.8.1](https://github.com/nf-core/rnaseq)\n",
    "- pipeline run: an execution of nf-core/rna-seq, version 3.8.1"
   ]
  },
  {
   "cell_type": "markdown",
   "metadata": {},
   "source": [
    "## Creating and setting up a pipeline"
   ]
  },
  {
   "cell_type": "markdown",
   "metadata": {},
   "source": [
    "Let's start by creating a pipeline instance."
   ]
  },
  {
   "cell_type": "code",
   "execution_count": null,
   "metadata": {},
   "outputs": [],
   "source": [
    "from lnbfx import BfxRun\n",
    "\n",
    "pipeline_run = BfxRun(\n",
    "    pipeline_id=None,\n",
    "    pipeline_v=\"3.8.1\",\n",
    "    pipeline_name=\"nf-core/rnaseq\",\n",
    "    pipeline_source=\"https://github.com/nf-core/rnaseq\",\n",
    "    pipeline_run_id=None,\n",
    "    pipeline_run_name=\"lamin1\",\n",
    ")"
   ]
  },
  {
   "cell_type": "markdown",
   "metadata": {},
   "source": [
    "`BfxPipeline` provides a clean, ORM-like interface to interact with your database. \n",
    "\n",
    "Let's set up our instance with an engine created from the lnbfx schema."
   ]
  },
  {
   "cell_type": "code",
   "execution_count": null,
   "metadata": {},
   "outputs": [],
   "source": [
    "# from sqlmodel import SQLModel, create_engine\n",
    "# import lnbfx.schema\n",
    "\n",
    "# # set up the database engine with the lnbfx schema\n",
    "# engine = create_engine(\"sqlite:///\")\n",
    "# SQLModel.metadata.create_all(engine)\n",
    "\n",
    "# pipeline_run.engine(engine)"
   ]
  },
  {
   "cell_type": "markdown",
   "metadata": {},
   "source": [
    "## Ingesting a pipeline"
   ]
  },
  {
   "cell_type": "markdown",
   "metadata": {},
   "source": [
    "The ingestion of a `BfxPipeline` is a one-time event. Once ingested, the database entry cannot be updated.\n",
    "\n",
    "`check_and_ingest()` writes pipeline and pipeline run entries in the database if they do not yet exist."
   ]
  },
  {
   "cell_type": "code",
   "execution_count": null,
   "metadata": {},
   "outputs": [],
   "source": [
    "# pipeline_run.set_folder(\".\")\n",
    "# pipeline_run.check_and_ingest()"
   ]
  },
  {
   "cell_type": "markdown",
   "metadata": {},
   "source": [
    "We can now verify that both pipeline and pipeline run entries have been commited to the database."
   ]
  },
  {
   "cell_type": "code",
   "execution_count": null,
   "metadata": {},
   "outputs": [],
   "source": [
    "# pipeline_run.get_pipeline_pk()"
   ]
  },
  {
   "cell_type": "code",
   "execution_count": null,
   "metadata": {},
   "outputs": [],
   "source": [
    "# pipeline_run.get_run_pk()"
   ]
  }
 ],
 "metadata": {
  "kernelspec": {
   "display_name": "Python 3.9.13 ('py39')",
   "language": "python",
   "name": "python3"
  },
  "language_info": {
   "codemirror_mode": {
    "name": "ipython",
    "version": 3
   },
   "file_extension": ".py",
   "mimetype": "text/x-python",
   "name": "python",
   "nbconvert_exporter": "python",
   "pygments_lexer": "ipython3",
   "version": "3.9.13"
  },
  "vscode": {
   "interpreter": {
    "hash": "ae1fefc8646a06dd2e75004cd934adda7c5727b046986a772e3b44b0ffba9754"
   }
  }
 },
 "nbformat": 4,
 "nbformat_minor": 2
}
