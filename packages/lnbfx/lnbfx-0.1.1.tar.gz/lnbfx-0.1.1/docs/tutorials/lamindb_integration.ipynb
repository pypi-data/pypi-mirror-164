{
 "cells": [
  {
   "cell_type": "markdown",
   "metadata": {},
   "source": [
    "# LaminDB Integration"
   ]
  },
  {
   "cell_type": "markdown",
   "metadata": {},
   "source": [
    "The power of lnbfx is fully unleashed when integrated with LaminDB.\n",
    "\n",
    "To leverage lnbfx's functionality through LaminDB, see [Link pipelines](https://lamin.ai/docs/lamindb/tutorials) in the LaminDB docs."
   ]
  },
  {
   "cell_type": "markdown",
   "metadata": {},
   "source": [
    "## Linking LaminDB's `dobject` and `pipeline_run`"
   ]
  },
  {
   "cell_type": "markdown",
   "metadata": {},
   "source": [
    "The `BfxPipeline` class has two methods that enable integration between LaminDB and lnbfx.\n",
    "- `BfxPipeline.link_dobject_to_bfx_file_type`: links LaminDB's `dobject` to its `bfx_file_type`, enabling queriability of a dobject by its bioinformatics file type.\n",
    "- `BfxPipeline.link_core_pipeline_run`: links LaminDB's core `pipeline_run` to `bfx_pipeline_run`, enabling the linking of dobjects to pipeline runs."
   ]
  }
 ],
 "metadata": {
  "kernelspec": {
   "display_name": "Python 3.9.13 64-bit",
   "language": "python",
   "name": "python3"
  },
  "language_info": {
   "codemirror_mode": {
    "name": "ipython",
    "version": 3
   },
   "file_extension": ".py",
   "mimetype": "text/x-python",
   "name": "python",
   "nbconvert_exporter": "python",
   "pygments_lexer": "ipython3",
   "version": "3.9.13"
  },
  "vscode": {
   "interpreter": {
    "hash": "b0fa6594d8f4cbf19f97940f81e996739fb7646882a419484c72d19e05852a7e"
   }
  }
 },
 "nbformat": 4,
 "nbformat_minor": 2
}
