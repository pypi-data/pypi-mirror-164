{
 "cells": [
  {
   "cell_type": "markdown",
   "metadata": {},
   "source": [
    "# Converting an ANN to an SNN\n",
    "\n",
    "This tutorial walks you through how to convert your pre-trained model to a spiking version.\n",
    "Lets start by installing all the necessary packages. "
   ]
  },
  {
   "cell_type": "code",
   "execution_count": null,
   "metadata": {},
   "outputs": [],
   "source": [
    "%pip install --quiet torchvision"
   ]
  },
  {
   "cell_type": "markdown",
   "metadata": {},
   "source": [
    "## Defining an ANN\n",
    "We define a simple convolutional architecture."
   ]
  },
  {
   "cell_type": "code",
   "execution_count": null,
   "metadata": {},
   "outputs": [],
   "source": [
    "import torch.nn as nn\n",
    "\n",
    "ann = nn.Sequential(\n",
    "    nn.Conv2d(1, 20, 5, 1, bias=False),\n",
    "    nn.ReLU(),\n",
    "    nn.AvgPool2d(2, 2),\n",
    "    nn.Conv2d(20, 32, 5, 1, bias=False),\n",
    "    nn.ReLU(),\n",
    "    nn.AvgPool2d(2, 2),\n",
    "    nn.Conv2d(32, 128, 3, 1, bias=False),\n",
    "    nn.ReLU(),\n",
    "    nn.AvgPool2d(2, 2),\n",
    "    nn.Flatten(),\n",
    "    nn.Linear(128, 500, bias=False),\n",
    "    nn.ReLU(),\n",
    "    nn.Linear(500, 10, bias=False),\n",
    ")"
   ]
  },
  {
   "cell_type": "markdown",
   "metadata": {},
   "source": [
    "## Define a custom dataset"
   ]
  },
  {
   "cell_type": "markdown",
   "metadata": {},
   "source": [
    "We'll need to fine-tune our model on our dataset of choice. Here we'll use MNIST. Since we intend to do a spiking neural network simulation, we override this `Dataset` to also *optionally* return a `spike raster` instead of an image. \n",
    "\n",
    "In this implementation of the `Dataset` we use *rate coding* to generate a series of spikes at each pixel of the image proportional to it's gray level."
   ]
  },
  {
   "cell_type": "code",
   "execution_count": null,
   "metadata": {},
   "outputs": [],
   "source": [
    "import torch\n",
    "from torchvision import datasets, transforms\n",
    "\n",
    "\n",
    "class MNIST(datasets.MNIST):\n",
    "    def __init__(self, root, train=True, is_spiking=False, time_window=100):\n",
    "        super().__init__(\n",
    "            root=root, train=train, download=True, transform=transforms.ToTensor()\n",
    "        )\n",
    "        self.is_spiking = is_spiking\n",
    "        self.time_window = time_window\n",
    "\n",
    "    def __getitem__(self, index):\n",
    "        img, target = self.data[index].unsqueeze(0) / 255, self.targets[index]\n",
    "        # img is now a tensor of 1x28x28\n",
    "\n",
    "        if self.is_spiking:\n",
    "            img = (torch.rand(self.time_window, *img.shape) < img).float()\n",
    "\n",
    "        return img, target"
   ]
  },
  {
   "cell_type": "markdown",
   "metadata": {},
   "source": [
    "### Fine-tune the ANN\n",
    "\n",
    "We'll make sure that classification accuracy is high enough with this model on MNIST. Note here that we are not yet using spiking input (`spiking=False`). This is vanilla training for standard image classification."
   ]
  },
  {
   "cell_type": "code",
   "execution_count": null,
   "metadata": {},
   "outputs": [],
   "source": [
    "from torch.utils.data import DataLoader\n",
    "\n",
    "mnist_train = MNIST(\"./data\", train=True, is_spiking=False)\n",
    "train_loader = DataLoader(mnist_train, batch_size=128, shuffle=True)\n",
    "\n",
    "mnist_test = MNIST(\"./data\", train=False, is_spiking=False)\n",
    "test_loader = DataLoader(mnist_test, batch_size=128, shuffle=False)"
   ]
  },
  {
   "cell_type": "markdown",
   "metadata": {},
   "source": [
    "We iterate over our data loader `train_loader` and train our parameters using the `Adam` optimizer with a learning rate of `1e-4`. Since the last layer in our network has no specific activation function defined, `cross_entropy` loss is a good candidate to train our network."
   ]
  },
  {
   "cell_type": "code",
   "execution_count": null,
   "metadata": {},
   "outputs": [],
   "source": [
    "from tqdm.auto import tqdm\n",
    "import torch\n",
    "import torch.nn.functional as F\n",
    "\n",
    "device = \"cuda\" if torch.cuda.is_available() else \"cpu\"\n",
    "\n",
    "ann = ann.to(device)\n",
    "ann.train()\n",
    "\n",
    "optim = torch.optim.Adam(ann.parameters(), lr=1e-3)\n",
    "\n",
    "n_epochs = 2\n",
    "\n",
    "for n in tqdm(range(n_epochs)):\n",
    "    for data, target in iter(train_loader):\n",
    "        data, target = data.to(device), target.to(device)\n",
    "        output = ann(data)\n",
    "        optim.zero_grad()\n",
    "\n",
    "        loss = F.cross_entropy(output, target)\n",
    "        loss.backward()\n",
    "        optim.step()"
   ]
  },
  {
   "cell_type": "code",
   "execution_count": null,
   "metadata": {},
   "outputs": [],
   "source": [
    "correct_predictions = []\n",
    "\n",
    "for data, target in iter(test_loader):\n",
    "    data, target = data.to(device), target.to(device)\n",
    "    output = ann(data)\n",
    "\n",
    "    # get the index of the max log-probability\n",
    "    pred = output.argmax(dim=1, keepdim=True)\n",
    "\n",
    "    # Compute the total correct predictions\n",
    "    correct_predictions.append(pred.eq(target.view_as(pred)))\n",
    "\n",
    "correct_predictions = torch.cat(correct_predictions)\n",
    "print(\n",
    "    f\"Classification accuracy: {correct_predictions.sum().item()/(len(correct_predictions))*100}%\"\n",
    ")"
   ]
  },
  {
   "cell_type": "markdown",
   "metadata": {},
   "source": [
    "Training this model on `MNIST` is fairly straight forward and you should reach accuracies of around `>98%` within a small number of epochs. In the script above we only train for 3 epochs!"
   ]
  },
  {
   "cell_type": "markdown",
   "metadata": {},
   "source": [
    "###  Model conversion to SNN\n",
    "\n",
    "Up until this point we have only operated on images using standard CNN architectures. Now we look at how to build an equivalent spiking convolutional neural network (`SCNN`).\n",
    "\n",
    "`sinabs` has a handy method for this. Given a standard CNN model, the `from_model` method in `sinabs` that converts it into a spiking neural network. It is a *one liner*! "
   ]
  },
  {
   "cell_type": "code",
   "execution_count": null,
   "metadata": {},
   "outputs": [],
   "source": [
    "from sinabs.from_torch import from_model\n",
    "\n",
    "input_shape = (1, 28, 28)\n",
    "\n",
    "sinabs_model = from_model(\n",
    "    ann, input_shape=input_shape, add_spiking_output=True, synops=False\n",
    ")"
   ]
  },
  {
   "cell_type": "markdown",
   "metadata": {},
   "source": [
    "You can see that this method takes two more parameters in addition to the model to be converted.\n",
    "\n",
    "`input_shape` is needed in order to instantiate a SNN with the appropriate number of neurons because unlike traditional CNNs, SNNs are *stateful*.\n",
    "\n",
    "`add_spiking_output` is a boolean flag to specify whether or not to add a spiking layer as the last layer in the network. This ensure that both the input and output to our network are of the form of `spikes`.\n",
    "\n",
    "`synops=True` tells sinabs to include the machinery for calculating synaptic operations, which we'll use later.\n",
    "\n",
    "Let us now look at the generated SCNN. You should see that the only major difference is that the `ReLU` layers are replaced by `SpikingLayer`."
   ]
  },
  {
   "cell_type": "code",
   "execution_count": null,
   "metadata": {},
   "outputs": [],
   "source": [
    "sinabs_model.spiking_model"
   ]
  },
  {
   "cell_type": "markdown",
   "metadata": {},
   "source": [
    "### Model validation in sinabs simulation"
   ]
  },
  {
   "cell_type": "markdown",
   "metadata": {},
   "source": [
    "Lets test our SCNN model to verify whether the network is in fact \"equivalent\" to the CNN model in terms of its performance. As we did previously, we start by defining a data loader (this time it is going to produce spikes, `spiking=True`) and then pass it to our test method."
   ]
  },
  {
   "cell_type": "code",
   "execution_count": null,
   "metadata": {},
   "outputs": [],
   "source": [
    "# Time window per sample\n",
    "time_window = 100  # time steps\n",
    "test_batch_size = 10\n",
    "\n",
    "spike_mnist_test = MNIST(\n",
    "    \"./data\", train=False, is_spiking=True, time_window=time_window\n",
    ")\n",
    "spike_test_loader = DataLoader(\n",
    "    spike_mnist_test, batch_size=test_batch_size, shuffle=True\n",
    ")"
   ]
  },
  {
   "cell_type": "markdown",
   "metadata": {},
   "source": [
    "Since the spiking simulations are significantly slower on a PC, we are going to limit our test to 300 samples here. You can of course test it on the entire 10k samples if you want to verify that it works."
   ]
  },
  {
   "cell_type": "code",
   "execution_count": null,
   "metadata": {},
   "outputs": [],
   "source": [
    "import sinabs.layers as sl\n",
    "\n",
    "correct_predictions = []\n",
    "\n",
    "for data, target in tqdm(spike_test_loader):\n",
    "    data, target = data.to(device), target.to(device)\n",
    "    data = sl.FlattenTime()(data)\n",
    "    with torch.no_grad():\n",
    "        output = sinabs_model(data)\n",
    "        output = output.unflatten(\n",
    "            0, (test_batch_size, output.shape[0] // test_batch_size)\n",
    "        )\n",
    "\n",
    "    # get the index of the max log-probability\n",
    "    pred = output.sum(1).argmax(dim=1, keepdim=True)\n",
    "\n",
    "    # Compute the total correct predictions\n",
    "    correct_predictions.append(pred.eq(target.view_as(pred)))\n",
    "    if len(correct_predictions) * test_batch_size >= 300:\n",
    "        break\n",
    "\n",
    "correct_predictions = torch.cat(correct_predictions)\n",
    "print(\n",
    "    f\"Classification accuracy: {correct_predictions.sum().item()/(len(correct_predictions))*100}%\"\n",
    ")"
   ]
  },
  {
   "cell_type": "markdown",
   "metadata": {},
   "source": [
    "We see that this auto-generated spiking (`sinabs_model`) network's performance is close to that of the `ann`! Yay!\n",
    "\n",
    "You would have noticed a free parameter that was added `time_window`. This is a critical parameter that determines whether or not your SNN is going to work well. The longer `time_window` is, the more spikes we produce as input and the better the performance of the network is going to be. Feel free to experiment with this parameter and see how this changes your network performance."
   ]
  },
  {
   "cell_type": "markdown",
   "metadata": {},
   "source": [
    "### Visualisation of specific example"
   ]
  },
  {
   "cell_type": "code",
   "execution_count": null,
   "metadata": {},
   "outputs": [],
   "source": [
    "# Get one sample from the dataloader\n",
    "img, label = spike_mnist_test[10]"
   ]
  },
  {
   "cell_type": "markdown",
   "metadata": {},
   "source": [
    "Lets visualize this data, just so we know what to expect. We can do this by collapsing the time dimension of the spike raster returned by the dataloader."
   ]
  },
  {
   "cell_type": "code",
   "execution_count": null,
   "metadata": {},
   "outputs": [],
   "source": [
    "import matplotlib.pyplot as plt\n",
    "\n",
    "%matplotlib inline\n",
    "\n",
    "plt.imshow(img.sum(0)[0]);"
   ]
  },
  {
   "cell_type": "markdown",
   "metadata": {},
   "source": [
    "We now take this data (including the time dimension), and pass it to the Sinabs SNN model."
   ]
  },
  {
   "cell_type": "code",
   "execution_count": null,
   "metadata": {},
   "outputs": [],
   "source": [
    "snn_output = sinabs_model(img.to(device))"
   ]
  },
  {
   "cell_type": "markdown",
   "metadata": {},
   "source": [
    "Let us now display the output in time."
   ]
  },
  {
   "cell_type": "code",
   "execution_count": null,
   "metadata": {},
   "outputs": [],
   "source": [
    "import numpy as np\n",
    "\n",
    "plt.pcolormesh(snn_output.T.detach().cpu())\n",
    "\n",
    "plt.ylabel(\"Neuron ID\")\n",
    "plt.yticks(np.arange(10) + 0.5, np.arange(10))\n",
    "plt.xlabel(\"Time\");"
   ]
  },
  {
   "cell_type": "markdown",
   "metadata": {},
   "source": [
    "As you can see, the majority of spikes are emitted by the output neuron corresponding to the digit plotted above, which is a correct inference."
   ]
  },
  {
   "cell_type": "code",
   "execution_count": null,
   "metadata": {},
   "outputs": [],
   "source": []
  }
 ],
 "metadata": {
  "kernelspec": {
   "display_name": "Python 3",
   "language": "python",
   "name": "python3"
  },
  "language_info": {
   "codemirror_mode": {
    "name": "ipython",
    "version": 3
   },
   "file_extension": ".py",
   "mimetype": "text/x-python",
   "name": "python",
   "nbconvert_exporter": "python",
   "pygments_lexer": "ipython3",
   "version": "3.7.11"
  }
 },
 "nbformat": 4,
 "nbformat_minor": 4
}
