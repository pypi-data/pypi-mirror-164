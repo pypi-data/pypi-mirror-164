{
 "cells": [
  {
   "cell_type": "code",
   "execution_count": 1,
   "id": "verbal-spirit",
   "metadata": {
    "execution": {
     "iopub.execute_input": "2021-09-30T04:31:56.083703Z",
     "iopub.status.busy": "2021-09-30T04:31:56.083135Z",
     "iopub.status.idle": "2021-09-30T04:31:56.702577Z",
     "shell.execute_reply": "2021-09-30T04:31:56.703103Z"
    }
   },
   "outputs": [
    {
     "data": {
      "text/plain": [
       "2"
      ]
     },
     "execution_count": 1,
     "metadata": {},
     "output_type": "execute_result"
    }
   ],
   "source": [
    "from cogent3.util.union_dict import UnionDict\n",
    "\n",
    "data = UnionDict(a=2, b={\"c\": 24, \"d\": [25]})\n",
    "data.a"
   ]
  },
  {
   "cell_type": "code",
   "execution_count": 2,
   "id": "improving-hayes",
   "metadata": {
    "execution": {
     "iopub.execute_input": "2021-09-30T04:31:56.707789Z",
     "iopub.status.busy": "2021-09-30T04:31:56.706661Z",
     "iopub.status.idle": "2021-09-30T04:31:56.710454Z",
     "shell.execute_reply": "2021-09-30T04:31:56.710775Z"
    }
   },
   "outputs": [
    {
     "data": {
      "text/plain": [
       "2"
      ]
     },
     "execution_count": 2,
     "metadata": {},
     "output_type": "execute_result"
    }
   ],
   "source": [
    "data[\"a\"]"
   ]
  },
  {
   "cell_type": "code",
   "execution_count": 3,
   "id": "quarterly-cornwall",
   "metadata": {
    "execution": {
     "iopub.execute_input": "2021-09-30T04:31:56.714533Z",
     "iopub.status.busy": "2021-09-30T04:31:56.713691Z",
     "iopub.status.idle": "2021-09-30T04:31:56.716446Z",
     "shell.execute_reply": "2021-09-30T04:31:56.716812Z"
    }
   },
   "outputs": [
    {
     "data": {
      "text/plain": [
       "[25]"
      ]
     },
     "execution_count": 3,
     "metadata": {},
     "output_type": "execute_result"
    }
   ],
   "source": [
    "data.b.d"
   ]
  },
  {
   "cell_type": "code",
   "execution_count": 4,
   "id": "painful-spare",
   "metadata": {
    "execution": {
     "iopub.execute_input": "2021-09-30T04:31:56.720594Z",
     "iopub.status.busy": "2021-09-30T04:31:56.720030Z",
     "iopub.status.idle": "2021-09-30T04:31:56.722043Z",
     "shell.execute_reply": "2021-09-30T04:31:56.722620Z"
    }
   },
   "outputs": [
    {
     "data": {
      "text/plain": [
       "{'c': 24, 'd': 25}"
      ]
     },
     "execution_count": 4,
     "metadata": {},
     "output_type": "execute_result"
    }
   ],
   "source": [
    "from cogent3.util.union_dict import UnionDict\n",
    "\n",
    "data = UnionDict(a=2, b={\"c\": 24, \"d\": [25]})\n",
    "data.b |= {\"d\": 25}\n",
    "data.b"
   ]
  },
  {
   "cell_type": "code",
   "execution_count": 5,
   "id": "antique-maker",
   "metadata": {
    "execution": {
     "iopub.execute_input": "2021-09-30T04:31:56.725626Z",
     "iopub.status.busy": "2021-09-30T04:31:56.724949Z",
     "iopub.status.idle": "2021-09-30T04:31:56.726667Z",
     "shell.execute_reply": "2021-09-30T04:31:56.727001Z"
    }
   },
   "outputs": [],
   "source": [
    "data.b.union({\"d\": [25]})"
   ]
  },
  {
   "cell_type": "code",
   "execution_count": 6,
   "id": "activated-medicaid",
   "metadata": {
    "execution": {
     "iopub.execute_input": "2021-09-30T04:31:56.730463Z",
     "iopub.status.busy": "2021-09-30T04:31:56.729931Z",
     "iopub.status.idle": "2021-09-30T04:31:56.732040Z",
     "shell.execute_reply": "2021-09-30T04:31:56.732479Z"
    }
   },
   "outputs": [
    {
     "data": {
      "text/plain": [
       "{'c': 24, 'd': [25]}"
      ]
     },
     "execution_count": 6,
     "metadata": {},
     "output_type": "execute_result"
    }
   ],
   "source": [
    "data.b\n",
    "{\"c\": 24, \"d\": [25]}"
   ]
  },
  {
   "cell_type": "code",
   "execution_count": 7,
   "id": "powerful-headquarters",
   "metadata": {
    "execution": {
     "iopub.execute_input": "2021-09-30T04:31:56.735610Z",
     "iopub.status.busy": "2021-09-30T04:31:56.735100Z",
     "iopub.status.idle": "2021-09-30T04:31:56.891418Z",
     "shell.execute_reply": "2021-09-30T04:31:56.891773Z"
    }
   },
   "outputs": [
    {
     "ename": "KeyError",
     "evalue": "'k'",
     "output_type": "error",
     "traceback": [
      "\u001b[0;31m---------------------------------------------------------------------------\u001b[0m",
      "\u001b[0;31mKeyError\u001b[0m                                  Traceback (most recent call last)",
      "\u001b[0;32m<ipython-input-7-da404bc5c17b>\u001b[0m in \u001b[0;36m<module>\u001b[0;34m\u001b[0m\n\u001b[1;32m      2\u001b[0m \u001b[0;34m\u001b[0m\u001b[0m\n\u001b[1;32m      3\u001b[0m \u001b[0mdata\u001b[0m \u001b[0;34m=\u001b[0m \u001b[0mUnionDict\u001b[0m\u001b[0;34m(\u001b[0m\u001b[0ma\u001b[0m\u001b[0;34m=\u001b[0m\u001b[0;36m2\u001b[0m\u001b[0;34m,\u001b[0m \u001b[0mb\u001b[0m\u001b[0;34m=\u001b[0m\u001b[0;34m{\u001b[0m\u001b[0;34m\"c\"\u001b[0m\u001b[0;34m:\u001b[0m \u001b[0;36m24\u001b[0m\u001b[0;34m,\u001b[0m \u001b[0;34m\"d\"\u001b[0m\u001b[0;34m:\u001b[0m \u001b[0;34m[\u001b[0m\u001b[0;36m25\u001b[0m\u001b[0;34m]\u001b[0m\u001b[0;34m}\u001b[0m\u001b[0;34m)\u001b[0m\u001b[0;34m\u001b[0m\u001b[0;34m\u001b[0m\u001b[0m\n\u001b[0;32m----> 4\u001b[0;31m \u001b[0mdata\u001b[0m\u001b[0;34m[\u001b[0m\u001b[0;34m\"k\"\u001b[0m\u001b[0;34m]\u001b[0m\u001b[0;34m\u001b[0m\u001b[0;34m\u001b[0m\u001b[0m\n\u001b[0m",
      "\u001b[0;31mKeyError\u001b[0m: 'k'"
     ]
    }
   ],
   "source": [
    "from cogent3.util.union_dict import UnionDict\n",
    "\n",
    "data = UnionDict(a=2, b={\"c\": 24, \"d\": [25]})\n",
    "data[\"k\"]"
   ]
  },
  {
   "cell_type": "code",
   "execution_count": 8,
   "id": "intensive-beijing",
   "metadata": {
    "execution": {
     "iopub.execute_input": "2021-09-30T04:31:56.896139Z",
     "iopub.status.busy": "2021-09-30T04:31:56.894987Z",
     "iopub.status.idle": "2021-09-30T04:31:56.900635Z",
     "shell.execute_reply": "2021-09-30T04:31:56.901119Z"
    }
   },
   "outputs": [
    {
     "ename": "AttributeError",
     "evalue": "'k' not a key or attribute",
     "output_type": "error",
     "traceback": [
      "\u001b[0;31m---------------------------------------------------------------------------\u001b[0m",
      "\u001b[0;31mAttributeError\u001b[0m                            Traceback (most recent call last)",
      "\u001b[0;32m~/repos/Cogent3/src/cogent3/util/union_dict.py\u001b[0m in \u001b[0;36m__getattr__\u001b[0;34m(self, item)\u001b[0m\n\u001b[1;32m     45\u001b[0m         \u001b[0;32mtry\u001b[0m\u001b[0;34m:\u001b[0m\u001b[0;34m\u001b[0m\u001b[0;34m\u001b[0m\u001b[0m\n\u001b[0;32m---> 46\u001b[0;31m             \u001b[0;32mreturn\u001b[0m \u001b[0msuper\u001b[0m\u001b[0;34m(\u001b[0m\u001b[0;34m)\u001b[0m\u001b[0;34m.\u001b[0m\u001b[0m__getattr__\u001b[0m\u001b[0;34m(\u001b[0m\u001b[0mitem\u001b[0m\u001b[0;34m)\u001b[0m\u001b[0;34m\u001b[0m\u001b[0;34m\u001b[0m\u001b[0m\n\u001b[0m\u001b[1;32m     47\u001b[0m         \u001b[0;32mexcept\u001b[0m \u001b[0mAttributeError\u001b[0m\u001b[0;34m:\u001b[0m\u001b[0;34m\u001b[0m\u001b[0;34m\u001b[0m\u001b[0m\n",
      "\u001b[0;31mAttributeError\u001b[0m: 'super' object has no attribute '__getattr__'",
      "\nDuring handling of the above exception, another exception occurred:\n",
      "\u001b[0;31mAttributeError\u001b[0m                            Traceback (most recent call last)",
      "\u001b[0;32m<ipython-input-8-83abd37abe10>\u001b[0m in \u001b[0;36m<module>\u001b[0;34m\u001b[0m\n\u001b[0;32m----> 1\u001b[0;31m \u001b[0mdata\u001b[0m\u001b[0;34m.\u001b[0m\u001b[0mk\u001b[0m\u001b[0;34m\u001b[0m\u001b[0;34m\u001b[0m\u001b[0m\n\u001b[0m",
      "\u001b[0;32m~/repos/Cogent3/src/cogent3/util/union_dict.py\u001b[0m in \u001b[0;36m__getattr__\u001b[0;34m(self, item)\u001b[0m\n\u001b[1;32m     46\u001b[0m             \u001b[0;32mreturn\u001b[0m \u001b[0msuper\u001b[0m\u001b[0;34m(\u001b[0m\u001b[0;34m)\u001b[0m\u001b[0;34m.\u001b[0m\u001b[0m__getattr__\u001b[0m\u001b[0;34m(\u001b[0m\u001b[0mitem\u001b[0m\u001b[0;34m)\u001b[0m\u001b[0;34m\u001b[0m\u001b[0;34m\u001b[0m\u001b[0m\n\u001b[1;32m     47\u001b[0m         \u001b[0;32mexcept\u001b[0m \u001b[0mAttributeError\u001b[0m\u001b[0;34m:\u001b[0m\u001b[0;34m\u001b[0m\u001b[0;34m\u001b[0m\u001b[0m\n\u001b[0;32m---> 48\u001b[0;31m             \u001b[0;32mraise\u001b[0m \u001b[0mAttributeError\u001b[0m\u001b[0;34m(\u001b[0m\u001b[0;34mf\"'{item}' not a key or attribute\"\u001b[0m\u001b[0;34m)\u001b[0m\u001b[0;34m\u001b[0m\u001b[0;34m\u001b[0m\u001b[0m\n\u001b[0m\u001b[1;32m     49\u001b[0m \u001b[0;34m\u001b[0m\u001b[0m\n\u001b[1;32m     50\u001b[0m     \u001b[0;32mdef\u001b[0m \u001b[0m__setattr__\u001b[0m\u001b[0;34m(\u001b[0m\u001b[0mself\u001b[0m\u001b[0;34m,\u001b[0m \u001b[0mkey\u001b[0m\u001b[0;34m,\u001b[0m \u001b[0mvalue\u001b[0m\u001b[0;34m)\u001b[0m\u001b[0;34m:\u001b[0m\u001b[0;34m\u001b[0m\u001b[0;34m\u001b[0m\u001b[0m\n",
      "\u001b[0;31mAttributeError\u001b[0m: 'k' not a key or attribute"
     ]
    }
   ],
   "source": [
    "data.k"
   ]
  },
  {
   "cell_type": "code",
   "execution_count": 9,
   "id": "eastern-distinction",
   "metadata": {
    "execution": {
     "iopub.execute_input": "2021-09-30T04:31:56.904812Z",
     "iopub.status.busy": "2021-09-30T04:31:56.904287Z",
     "iopub.status.idle": "2021-09-30T04:31:56.906140Z",
     "shell.execute_reply": "2021-09-30T04:31:56.906494Z"
    }
   },
   "outputs": [],
   "source": [
    "import numpy\n",
    "\n",
    "def DiffOmega(omega):\n",
    "    def omega_from_S(S):\n",
    "        omega_est = S / (1 - numpy.e ** (-1 * S))\n",
    "        return abs(omega - omega_est) ** 2\n",
    "\n",
    "    return omega_from_S\n",
    "\n",
    "omega = 0.1\n",
    "f = DiffOmega(omega)"
   ]
  },
  {
   "cell_type": "code",
   "execution_count": 10,
   "id": "plain-europe",
   "metadata": {
    "execution": {
     "iopub.execute_input": "2021-09-30T04:31:56.913014Z",
     "iopub.status.busy": "2021-09-30T04:31:56.912301Z",
     "iopub.status.idle": "2021-09-30T04:31:56.914320Z",
     "shell.execute_reply": "2021-09-30T04:31:56.914764Z"
    }
   },
   "outputs": [
    {
     "name": "stdout",
     "output_type": "stream",
     "text": [
      "S=-3.6150\n"
     ]
    }
   ],
   "source": [
    "from cogent3.maths.optimisers import minimise, maximise\n",
    "\n",
    "S = minimise(\n",
    "    f,  # the function\n",
    "    xinit=1.0,  # the initial value\n",
    "    bounds=(-100, 100),  # [lower,upper] bounds for the parameter\n",
    "    local=True,  # just local optimisation, not Simulated Annealing\n",
    "    show_progress=False,\n",
    ")\n",
    "assert 0.0 <= f(S) < 1e-6\n",
    "print(\"S=%.4f\" % S)"
   ]
  },
  {
   "cell_type": "code",
   "execution_count": 11,
   "id": "appreciated-warner",
   "metadata": {
    "execution": {
     "iopub.execute_input": "2021-09-30T04:31:56.917471Z",
     "iopub.status.busy": "2021-09-30T04:31:56.917012Z",
     "iopub.status.idle": "2021-09-30T04:31:56.921620Z",
     "shell.execute_reply": "2021-09-30T04:31:56.921969Z"
    }
   },
   "outputs": [
    {
     "ename": "TypeError",
     "evalue": "'int' object is not iterable",
     "output_type": "error",
     "traceback": [
      "\u001b[0;31m---------------------------------------------------------------------------\u001b[0m",
      "\u001b[0;31mTypeError\u001b[0m                                 Traceback (most recent call last)",
      "\u001b[0;32m<ipython-input-11-ff9de6c6eae0>\u001b[0m in \u001b[0;36m<module>\u001b[0;34m\u001b[0m\n\u001b[1;32m      2\u001b[0m \u001b[0;34m\u001b[0m\u001b[0m\n\u001b[1;32m      3\u001b[0m \u001b[0mmy_var\u001b[0m \u001b[0;34m=\u001b[0m \u001b[0;36m10\u001b[0m\u001b[0;34m\u001b[0m\u001b[0;34m\u001b[0m\u001b[0m\n\u001b[0;32m----> 4\u001b[0;31m \u001b[0;32mfor\u001b[0m \u001b[0mi\u001b[0m \u001b[0;32min\u001b[0m \u001b[0mmy_var\u001b[0m\u001b[0;34m:\u001b[0m\u001b[0;34m\u001b[0m\u001b[0;34m\u001b[0m\u001b[0m\n\u001b[0m\u001b[1;32m      5\u001b[0m     \u001b[0mprint\u001b[0m\u001b[0;34m(\u001b[0m\u001b[0;34m\"will not work\"\u001b[0m\u001b[0;34m)\u001b[0m\u001b[0;34m\u001b[0m\u001b[0;34m\u001b[0m\u001b[0m\n\u001b[1;32m      6\u001b[0m \u001b[0;34m\u001b[0m\u001b[0m\n",
      "\u001b[0;31mTypeError\u001b[0m: 'int' object is not iterable"
     ]
    }
   ],
   "source": [
    "from cogent3.util.misc import iterable\n",
    "\n",
    "my_var = 10\n",
    "for i in my_var:\n",
    "    print(\"will not work\")\n",
    "\n",
    "for i in iterable(my_var):\n",
    "    print(i)"
   ]
  },
  {
   "cell_type": "code",
   "execution_count": 12,
   "id": "elect-nylon",
   "metadata": {
    "execution": {
     "iopub.execute_input": "2021-09-30T04:31:56.925882Z",
     "iopub.status.busy": "2021-09-30T04:31:56.925115Z",
     "iopub.status.idle": "2021-09-30T04:31:56.927803Z",
     "shell.execute_reply": "2021-09-30T04:31:56.928212Z"
    }
   },
   "outputs": [
    {
     "name": "stdout",
     "output_type": "stream",
     "text": [
      " curry(foo,5)\n",
      "== curried from foo ==\n",
      " Some function\n"
     ]
    },
    {
     "data": {
      "text/plain": [
       "15"
      ]
     },
     "execution_count": 12,
     "metadata": {},
     "output_type": "execute_result"
    }
   ],
   "source": [
    "from cogent3.util.misc import curry\n",
    "\n",
    "def foo(x, y):\n",
    "    \"\"\"Some function\"\"\"\n",
    "    return x + y\n",
    "\n",
    "bar = curry(foo, 5)\n",
    "print(bar.__doc__)\n",
    "bar(10)"
   ]
  },
  {
   "cell_type": "code",
   "execution_count": 13,
   "id": "planned-avenue",
   "metadata": {
    "execution": {
     "iopub.execute_input": "2021-09-30T04:31:56.931507Z",
     "iopub.status.busy": "2021-09-30T04:31:56.931038Z",
     "iopub.status.idle": "2021-09-30T04:31:56.933116Z",
     "shell.execute_reply": "2021-09-30T04:31:56.933510Z"
    }
   },
   "outputs": [
    {
     "data": {
      "text/plain": [
       "True"
      ]
     },
     "execution_count": 13,
     "metadata": {},
     "output_type": "execute_result"
    }
   ],
   "source": [
    "from cogent3.util.misc import is_iterable\n",
    "\n",
    "can_iter = [1, 2, 3, 4]\n",
    "cannot_iter = 1.234\n",
    "is_iterable(can_iter)"
   ]
  },
  {
   "cell_type": "code",
   "execution_count": 14,
   "id": "amateur-letter",
   "metadata": {
    "execution": {
     "iopub.execute_input": "2021-09-30T04:31:56.936394Z",
     "iopub.status.busy": "2021-09-30T04:31:56.935914Z",
     "iopub.status.idle": "2021-09-30T04:31:56.938273Z",
     "shell.execute_reply": "2021-09-30T04:31:56.937925Z"
    }
   },
   "outputs": [
    {
     "data": {
      "text/plain": [
       "False"
      ]
     },
     "execution_count": 14,
     "metadata": {},
     "output_type": "execute_result"
    }
   ],
   "source": [
    "is_iterable(cannot_iter)"
   ]
  },
  {
   "cell_type": "code",
   "execution_count": 15,
   "id": "bearing-frank",
   "metadata": {
    "execution": {
     "iopub.execute_input": "2021-09-30T04:31:56.941277Z",
     "iopub.status.busy": "2021-09-30T04:31:56.940788Z",
     "iopub.status.idle": "2021-09-30T04:31:56.942812Z",
     "shell.execute_reply": "2021-09-30T04:31:56.943153Z"
    }
   },
   "outputs": [
    {
     "data": {
      "text/plain": [
       "True"
      ]
     },
     "execution_count": 15,
     "metadata": {},
     "output_type": "execute_result"
    }
   ],
   "source": [
    "from cogent3.util.misc import is_char\n",
    "\n",
    "class foo:\n",
    "    pass\n",
    "\n",
    "is_char(\"a\")"
   ]
  },
  {
   "cell_type": "code",
   "execution_count": 16,
   "id": "emotional-victim",
   "metadata": {
    "execution": {
     "iopub.execute_input": "2021-09-30T04:31:56.945843Z",
     "iopub.status.busy": "2021-09-30T04:31:56.945346Z",
     "iopub.status.idle": "2021-09-30T04:31:56.948325Z",
     "shell.execute_reply": "2021-09-30T04:31:56.948800Z"
    }
   },
   "outputs": [
    {
     "data": {
      "text/plain": [
       "False"
      ]
     },
     "execution_count": 16,
     "metadata": {},
     "output_type": "execute_result"
    }
   ],
   "source": [
    "is_char(\"ab\")"
   ]
  },
  {
   "cell_type": "code",
   "execution_count": 17,
   "id": "moved-beaver",
   "metadata": {
    "execution": {
     "iopub.execute_input": "2021-09-30T04:31:56.951517Z",
     "iopub.status.busy": "2021-09-30T04:31:56.950971Z",
     "iopub.status.idle": "2021-09-30T04:31:56.952988Z",
     "shell.execute_reply": "2021-09-30T04:31:56.953507Z"
    }
   },
   "outputs": [
    {
     "data": {
      "text/plain": [
       "False"
      ]
     },
     "execution_count": 17,
     "metadata": {},
     "output_type": "execute_result"
    }
   ],
   "source": [
    "is_char(foo())"
   ]
  },
  {
   "cell_type": "code",
   "execution_count": 18,
   "id": "dedicated-orbit",
   "metadata": {
    "execution": {
     "iopub.execute_input": "2021-09-30T04:31:56.956496Z",
     "iopub.status.busy": "2021-09-30T04:31:56.955896Z",
     "iopub.status.idle": "2021-09-30T04:31:56.957466Z",
     "shell.execute_reply": "2021-09-30T04:31:56.957804Z"
    }
   },
   "outputs": [],
   "source": [
    "from cogent3.util.misc import recursive_flatten\n",
    "\n",
    "l = [[[[1, 2], \"abcde\"], [5, 6]], [7, 8], [9, 10]]"
   ]
  },
  {
   "cell_type": "code",
   "execution_count": 19,
   "id": "false-stock",
   "metadata": {
    "execution": {
     "iopub.execute_input": "2021-09-30T04:31:56.960714Z",
     "iopub.status.busy": "2021-09-30T04:31:56.960214Z",
     "iopub.status.idle": "2021-09-30T04:31:56.962437Z",
     "shell.execute_reply": "2021-09-30T04:31:56.962877Z"
    }
   },
   "outputs": [
    {
     "data": {
      "text/plain": [
       "[1, 2, 'a', 'b', 'c', 'd', 'e', 5, 6, 7, 8, 9, 10]"
      ]
     },
     "execution_count": 19,
     "metadata": {},
     "output_type": "execute_result"
    }
   ],
   "source": [
    "recursive_flatten(l)"
   ]
  },
  {
   "cell_type": "code",
   "execution_count": 20,
   "id": "involved-amazon",
   "metadata": {
    "execution": {
     "iopub.execute_input": "2021-09-30T04:31:56.966027Z",
     "iopub.status.busy": "2021-09-30T04:31:56.965519Z",
     "iopub.status.idle": "2021-09-30T04:31:56.967562Z",
     "shell.execute_reply": "2021-09-30T04:31:56.967926Z"
    }
   },
   "outputs": [
    {
     "data": {
      "text/plain": [
       "True"
      ]
     },
     "execution_count": 20,
     "metadata": {},
     "output_type": "execute_result"
    }
   ],
   "source": [
    "from cogent3.util.misc import not_list_tuple\n",
    "\n",
    "not_list_tuple(1)"
   ]
  },
  {
   "cell_type": "code",
   "execution_count": 21,
   "id": "national-blake",
   "metadata": {
    "execution": {
     "iopub.execute_input": "2021-09-30T04:31:56.970779Z",
     "iopub.status.busy": "2021-09-30T04:31:56.970205Z",
     "iopub.status.idle": "2021-09-30T04:31:56.972320Z",
     "shell.execute_reply": "2021-09-30T04:31:56.972828Z"
    }
   },
   "outputs": [
    {
     "data": {
      "text/plain": [
       "False"
      ]
     },
     "execution_count": 21,
     "metadata": {},
     "output_type": "execute_result"
    }
   ],
   "source": [
    "not_list_tuple([1])"
   ]
  },
  {
   "cell_type": "code",
   "execution_count": 22,
   "id": "noticed-christopher",
   "metadata": {
    "execution": {
     "iopub.execute_input": "2021-09-30T04:31:56.975409Z",
     "iopub.status.busy": "2021-09-30T04:31:56.974850Z",
     "iopub.status.idle": "2021-09-30T04:31:56.977479Z",
     "shell.execute_reply": "2021-09-30T04:31:56.977863Z"
    }
   },
   "outputs": [
    {
     "data": {
      "text/plain": [
       "True"
      ]
     },
     "execution_count": 22,
     "metadata": {},
     "output_type": "execute_result"
    }
   ],
   "source": [
    "not_list_tuple(\"ab\")"
   ]
  },
  {
   "cell_type": "code",
   "execution_count": 23,
   "id": "lesbian-energy",
   "metadata": {
    "execution": {
     "iopub.execute_input": "2021-09-30T04:31:56.981432Z",
     "iopub.status.busy": "2021-09-30T04:31:56.980769Z",
     "iopub.status.idle": "2021-09-30T04:31:56.983119Z",
     "shell.execute_reply": "2021-09-30T04:31:56.983453Z"
    }
   },
   "outputs": [
    {
     "data": {
      "text/plain": [
       "{'A': 5, 'B': 6, 'C': 7, 'foo': 8, 42: 'life', 'a': 5, 'b': 6, 'c': 7}"
      ]
     },
     "execution_count": 23,
     "metadata": {},
     "output_type": "execute_result"
    }
   ],
   "source": [
    "from cogent3.util.misc import add_lowercase\n",
    "\n",
    "d = {\"A\": 5, \"B\": 6, \"C\": 7, \"foo\": 8, 42: \"life\"}\n",
    "add_lowercase(d)"
   ]
  },
  {
   "cell_type": "code",
   "execution_count": 24,
   "id": "breeding-shoulder",
   "metadata": {
    "execution": {
     "iopub.execute_input": "2021-09-30T04:31:56.986871Z",
     "iopub.status.busy": "2021-09-30T04:31:56.986365Z",
     "iopub.status.idle": "2021-09-30T04:31:56.988916Z",
     "shell.execute_reply": "2021-09-30T04:31:56.988569Z"
    }
   },
   "outputs": [
    {
     "data": {
      "text/plain": [
       "1"
      ]
     },
     "execution_count": 24,
     "metadata": {},
     "output_type": "execute_result"
    }
   ],
   "source": [
    "from cogent3.util.misc import DistanceFromMatrix\n",
    "from numpy import array\n",
    "\n",
    "m = array([[1, 2, 3], [4, 5, 6], [7, 8, 9]])\n",
    "f = DistanceFromMatrix(m)\n",
    "f(0, 0)"
   ]
  },
  {
   "cell_type": "code",
   "execution_count": 25,
   "id": "measured-combination",
   "metadata": {
    "execution": {
     "iopub.execute_input": "2021-09-30T04:31:56.991477Z",
     "iopub.status.busy": "2021-09-30T04:31:56.991009Z",
     "iopub.status.idle": "2021-09-30T04:31:56.993165Z",
     "shell.execute_reply": "2021-09-30T04:31:56.993580Z"
    }
   },
   "outputs": [
    {
     "data": {
      "text/plain": [
       "6"
      ]
     },
     "execution_count": 25,
     "metadata": {},
     "output_type": "execute_result"
    }
   ],
   "source": [
    "f(1, 2)"
   ]
  },
  {
   "cell_type": "code",
   "execution_count": 26,
   "id": "lonely-optimum",
   "metadata": {
    "execution": {
     "iopub.execute_input": "2021-09-30T04:31:56.998359Z",
     "iopub.status.busy": "2021-09-30T04:31:56.997767Z",
     "iopub.status.idle": "2021-09-30T04:31:56.999933Z",
     "shell.execute_reply": "2021-09-30T04:31:57.000268Z"
    }
   },
   "outputs": [
    {
     "data": {
      "text/plain": [
       "True"
      ]
     },
     "execution_count": 26,
     "metadata": {},
     "output_type": "execute_result"
    }
   ],
   "source": [
    "from cogent3.util.misc import ClassChecker\n",
    "\n",
    "class not_okay(object):\n",
    "    pass\n",
    "\n",
    "no = not_okay()\n",
    "\n",
    "class okay(object):\n",
    "    pass\n",
    "\n",
    "o = okay()\n",
    "\n",
    "class my_dict(dict):\n",
    "    pass\n",
    "\n",
    "md = my_dict()\n",
    "cc = ClassChecker(str, okay, dict)\n",
    "o in cc"
   ]
  },
  {
   "cell_type": "code",
   "execution_count": 27,
   "id": "systematic-terrorism",
   "metadata": {
    "execution": {
     "iopub.execute_input": "2021-09-30T04:31:57.003245Z",
     "iopub.status.busy": "2021-09-30T04:31:57.002595Z",
     "iopub.status.idle": "2021-09-30T04:31:57.004939Z",
     "shell.execute_reply": "2021-09-30T04:31:57.005349Z"
    }
   },
   "outputs": [
    {
     "data": {
      "text/plain": [
       "False"
      ]
     },
     "execution_count": 27,
     "metadata": {},
     "output_type": "execute_result"
    }
   ],
   "source": [
    "no in cc"
   ]
  },
  {
   "cell_type": "code",
   "execution_count": 28,
   "id": "disturbed-commissioner",
   "metadata": {
    "execution": {
     "iopub.execute_input": "2021-09-30T04:31:57.008211Z",
     "iopub.status.busy": "2021-09-30T04:31:57.007655Z",
     "iopub.status.idle": "2021-09-30T04:31:57.009857Z",
     "shell.execute_reply": "2021-09-30T04:31:57.010330Z"
    }
   },
   "outputs": [
    {
     "data": {
      "text/plain": [
       "False"
      ]
     },
     "execution_count": 28,
     "metadata": {},
     "output_type": "execute_result"
    }
   ],
   "source": [
    "5 in cc"
   ]
  },
  {
   "cell_type": "code",
   "execution_count": 29,
   "id": "registered-tennessee",
   "metadata": {
    "execution": {
     "iopub.execute_input": "2021-09-30T04:31:57.013276Z",
     "iopub.status.busy": "2021-09-30T04:31:57.012708Z",
     "iopub.status.idle": "2021-09-30T04:31:57.014690Z",
     "shell.execute_reply": "2021-09-30T04:31:57.015109Z"
    }
   },
   "outputs": [
    {
     "data": {
      "text/plain": [
       "True"
      ]
     },
     "execution_count": 29,
     "metadata": {},
     "output_type": "execute_result"
    }
   ],
   "source": [
    "{\"a\": 5} in cc"
   ]
  },
  {
   "cell_type": "code",
   "execution_count": 30,
   "id": "honest-document",
   "metadata": {
    "execution": {
     "iopub.execute_input": "2021-09-30T04:31:57.017690Z",
     "iopub.status.busy": "2021-09-30T04:31:57.017164Z",
     "iopub.status.idle": "2021-09-30T04:31:57.019167Z",
     "shell.execute_reply": "2021-09-30T04:31:57.019667Z"
    }
   },
   "outputs": [
    {
     "data": {
      "text/plain": [
       "True"
      ]
     },
     "execution_count": 30,
     "metadata": {},
     "output_type": "execute_result"
    }
   ],
   "source": [
    "\"asasas\" in cc"
   ]
  },
  {
   "cell_type": "code",
   "execution_count": 31,
   "id": "extensive-guarantee",
   "metadata": {
    "execution": {
     "iopub.execute_input": "2021-09-30T04:31:57.022296Z",
     "iopub.status.busy": "2021-09-30T04:31:57.021796Z",
     "iopub.status.idle": "2021-09-30T04:31:57.023629Z",
     "shell.execute_reply": "2021-09-30T04:31:57.024018Z"
    }
   },
   "outputs": [
    {
     "data": {
      "text/plain": [
       "True"
      ]
     },
     "execution_count": 31,
     "metadata": {},
     "output_type": "execute_result"
    }
   ],
   "source": [
    "md in cc"
   ]
  },
  {
   "cell_type": "code",
   "execution_count": 32,
   "id": "cutting-mobility",
   "metadata": {
    "execution": {
     "iopub.execute_input": "2021-09-30T04:31:57.027894Z",
     "iopub.status.busy": "2021-09-30T04:31:57.027330Z",
     "iopub.status.idle": "2021-09-30T04:31:57.029451Z",
     "shell.execute_reply": "2021-09-30T04:31:57.029853Z"
    }
   },
   "outputs": [
    {
     "data": {
      "text/plain": [
       "3"
      ]
     },
     "execution_count": 32,
     "metadata": {},
     "output_type": "execute_result"
    }
   ],
   "source": [
    "from cogent3.util.misc import Delegator\n",
    "\n",
    "class ListAndString(list, Delegator):\n",
    "    def __init__(self, items, string):\n",
    "        Delegator.__init__(self, string)\n",
    "        for i in items:\n",
    "            self.append(i)\n",
    "\n",
    "ls = ListAndString([1, 2, 3], \"ab_cd\")\n",
    "len(ls)"
   ]
  },
  {
   "cell_type": "code",
   "execution_count": 33,
   "id": "enormous-spare",
   "metadata": {
    "execution": {
     "iopub.execute_input": "2021-09-30T04:31:57.032582Z",
     "iopub.status.busy": "2021-09-30T04:31:57.032062Z",
     "iopub.status.idle": "2021-09-30T04:31:57.033856Z",
     "shell.execute_reply": "2021-09-30T04:31:57.034246Z"
    }
   },
   "outputs": [
    {
     "data": {
      "text/plain": [
       "1"
      ]
     },
     "execution_count": 33,
     "metadata": {},
     "output_type": "execute_result"
    }
   ],
   "source": [
    "ls[0]"
   ]
  },
  {
   "cell_type": "code",
   "execution_count": 34,
   "id": "conditional-giant",
   "metadata": {
    "execution": {
     "iopub.execute_input": "2021-09-30T04:31:57.036709Z",
     "iopub.status.busy": "2021-09-30T04:31:57.036192Z",
     "iopub.status.idle": "2021-09-30T04:31:57.038220Z",
     "shell.execute_reply": "2021-09-30T04:31:57.038607Z"
    }
   },
   "outputs": [
    {
     "data": {
      "text/plain": [
       "'AB_CD'"
      ]
     },
     "execution_count": 34,
     "metadata": {},
     "output_type": "execute_result"
    }
   ],
   "source": [
    "ls.upper()"
   ]
  },
  {
   "cell_type": "code",
   "execution_count": 35,
   "id": "latin-damages",
   "metadata": {
    "execution": {
     "iopub.execute_input": "2021-09-30T04:31:57.041335Z",
     "iopub.status.busy": "2021-09-30T04:31:57.040728Z",
     "iopub.status.idle": "2021-09-30T04:31:57.042890Z",
     "shell.execute_reply": "2021-09-30T04:31:57.043384Z"
    }
   },
   "outputs": [
    {
     "data": {
      "text/plain": [
       "['ab', 'cd']"
      ]
     },
     "execution_count": 35,
     "metadata": {},
     "output_type": "execute_result"
    }
   ],
   "source": [
    "ls.split(\"_\")"
   ]
  },
  {
   "cell_type": "code",
   "execution_count": 36,
   "id": "final-recycling",
   "metadata": {
    "execution": {
     "iopub.execute_input": "2021-09-30T04:31:57.046212Z",
     "iopub.status.busy": "2021-09-30T04:31:57.045704Z",
     "iopub.status.idle": "2021-09-30T04:31:57.047984Z",
     "shell.execute_reply": "2021-09-30T04:31:57.048373Z"
    }
   },
   "outputs": [
    {
     "data": {
      "text/plain": [
       "<cogent3.util.misc.FunctionWrapper at 0x7fcfe08aefa0>"
      ]
     },
     "execution_count": 36,
     "metadata": {},
     "output_type": "execute_result"
    }
   ],
   "source": [
    "from cogent3.util.misc import FunctionWrapper\n",
    "\n",
    "f = FunctionWrapper(str)\n",
    "f"
   ]
  },
  {
   "cell_type": "code",
   "execution_count": 37,
   "id": "disciplinary-hostel",
   "metadata": {
    "execution": {
     "iopub.execute_input": "2021-09-30T04:31:57.050947Z",
     "iopub.status.busy": "2021-09-30T04:31:57.050480Z",
     "iopub.status.idle": "2021-09-30T04:31:57.052559Z",
     "shell.execute_reply": "2021-09-30T04:31:57.052950Z"
    }
   },
   "outputs": [
    {
     "data": {
      "text/plain": [
       "'123'"
      ]
     },
     "execution_count": 37,
     "metadata": {},
     "output_type": "execute_result"
    }
   ],
   "source": [
    "f(123)"
   ]
  },
  {
   "cell_type": "code",
   "execution_count": 38,
   "id": "compatible-chile",
   "metadata": {
    "execution": {
     "iopub.execute_input": "2021-09-30T04:31:57.056143Z",
     "iopub.status.busy": "2021-09-30T04:31:57.055629Z",
     "iopub.status.idle": "2021-09-30T04:31:57.057654Z",
     "shell.execute_reply": "2021-09-30T04:31:57.057985Z"
    }
   },
   "outputs": [
    {
     "data": {
      "text/plain": [
       "{'a': 1, 'b': 2, 'c': 3}"
      ]
     },
     "execution_count": 38,
     "metadata": {},
     "output_type": "execute_result"
    }
   ],
   "source": [
    "from cogent3.util.misc import ConstrainedDict\n",
    "\n",
    "d = ConstrainedDict({\"a\": 1, \"b\": 2, \"c\": 3}, constraint=\"abc\")\n",
    "d"
   ]
  },
  {
   "cell_type": "code",
   "execution_count": 39,
   "id": "charged-picking",
   "metadata": {
    "execution": {
     "iopub.execute_input": "2021-09-30T04:31:57.060323Z",
     "iopub.status.busy": "2021-09-30T04:31:57.059857Z",
     "iopub.status.idle": "2021-09-30T04:31:57.065761Z",
     "shell.execute_reply": "2021-09-30T04:31:57.066268Z"
    }
   },
   "outputs": [
    {
     "ename": "ConstraintError",
     "evalue": "Item 'd' not in constraint 'abc'",
     "output_type": "error",
     "traceback": [
      "\u001b[0;31m---------------------------------------------------------------------------\u001b[0m",
      "\u001b[0;31mConstraintError\u001b[0m                           Traceback (most recent call last)",
      "\u001b[0;32m<ipython-input-39-3718f5e31c87>\u001b[0m in \u001b[0;36m<module>\u001b[0;34m\u001b[0m\n\u001b[0;32m----> 1\u001b[0;31m \u001b[0md\u001b[0m\u001b[0;34m[\u001b[0m\u001b[0;34m\"d\"\u001b[0m\u001b[0;34m]\u001b[0m \u001b[0;34m=\u001b[0m \u001b[0;36m5\u001b[0m\u001b[0;34m\u001b[0m\u001b[0;34m\u001b[0m\u001b[0m\n\u001b[0m",
      "\u001b[0;32m~/repos/Cogent3/src/cogent3/util/misc.py\u001b[0m in \u001b[0;36m__setitem__\u001b[0;34m(self, key, value)\u001b[0m\n\u001b[1;32m    924\u001b[0m         \u001b[0;34m\"\"\"Sets self[key] to value if value in constraint.\"\"\"\u001b[0m\u001b[0;34m\u001b[0m\u001b[0;34m\u001b[0m\u001b[0m\n\u001b[1;32m    925\u001b[0m         \u001b[0;32mif\u001b[0m \u001b[0;32mnot\u001b[0m \u001b[0mself\u001b[0m\u001b[0;34m.\u001b[0m\u001b[0mitem_is_valid\u001b[0m\u001b[0;34m(\u001b[0m\u001b[0mkey\u001b[0m\u001b[0;34m)\u001b[0m\u001b[0;34m:\u001b[0m\u001b[0;34m\u001b[0m\u001b[0;34m\u001b[0m\u001b[0m\n\u001b[0;32m--> 926\u001b[0;31m             raise ConstraintError(\n\u001b[0m\u001b[1;32m    927\u001b[0m                 \u001b[0;34m\"Item '%s' not in constraint '%s'\"\u001b[0m \u001b[0;34m%\u001b[0m \u001b[0;34m(\u001b[0m\u001b[0mkey\u001b[0m\u001b[0;34m,\u001b[0m \u001b[0mself\u001b[0m\u001b[0;34m.\u001b[0m\u001b[0mconstraint\u001b[0m\u001b[0;34m)\u001b[0m\u001b[0;34m\u001b[0m\u001b[0;34m\u001b[0m\u001b[0m\n\u001b[1;32m    928\u001b[0m             )\n",
      "\u001b[0;31mConstraintError\u001b[0m: Item 'd' not in constraint 'abc'"
     ]
    }
   ],
   "source": [
    "d[\"d\"] = 5"
   ]
  }
 ],
 "metadata": {
  "kernelspec": {
   "display_name": "Python 3",
   "language": "python",
   "name": "python3"
  },
  "language_info": {
   "codemirror_mode": {
    "name": "ipython",
    "version": 3
   },
   "file_extension": ".py",
   "mimetype": "text/x-python",
   "name": "python",
   "nbconvert_exporter": "python",
   "pygments_lexer": "ipython3",
   "version": "3.9.0"
  }
 },
 "nbformat": 4,
 "nbformat_minor": 5
}