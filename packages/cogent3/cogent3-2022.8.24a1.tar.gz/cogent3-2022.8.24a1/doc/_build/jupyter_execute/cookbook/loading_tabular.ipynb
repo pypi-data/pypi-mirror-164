{
 "cells": [
  {
   "cell_type": "code",
   "execution_count": 1,
   "id": "improved-transcript",
   "metadata": {
    "execution": {
     "iopub.execute_input": "2021-09-30T04:31:39.435442Z",
     "iopub.status.busy": "2021-09-30T04:31:39.434780Z",
     "iopub.status.idle": "2021-09-30T04:31:39.699861Z",
     "shell.execute_reply": "2021-09-30T04:31:39.700226Z"
    }
   },
   "outputs": [],
   "source": [
    "import set_working_directory"
   ]
  },
  {
   "cell_type": "code",
   "execution_count": 2,
   "id": "multiple-matter",
   "metadata": {
    "execution": {
     "iopub.execute_input": "2021-09-30T04:31:39.703580Z",
     "iopub.status.busy": "2021-09-30T04:31:39.703038Z",
     "iopub.status.idle": "2021-09-30T04:31:40.276580Z",
     "shell.execute_reply": "2021-09-30T04:31:40.277095Z"
    }
   },
   "outputs": [
    {
     "data": {
      "text/html": [
       "\n",
       "<div class=\"c3table\">\n",
       "\n",
       "<style>\n",
       ".c3table table {margin: 10px 0;}\n",
       ".c3table tr:last-child {border-bottom: 1px solid #000;} \n",
       ".c3table tr > th {text-align: left; padding: 0 5px;}\n",
       ".c3table tr > td {text-align: left; padding: 5px;}\n",
       ".c3table tr:nth-child(even) {background: #f7f7f7 !important;}\n",
       ".c3table .ellipsis {background: rgba(0, 0, 0, .01);}\n",
       ".c3table .index {background: rgba(161, 195, 209, 0.0); margin: 10px; font-weight: 600;}\n",
       ".c3table .head_cell {background: rgba(161, 195, 209, 0.75); font-weight: bold; text-align: center;}\n",
       ".c3table caption {color: rgb(250, 250, 250); background: rgba(30, 140, 200, 1); padding: 3px; white-space: nowrap; caption-side: top;}\n",
       ".c3table .cell_title {font-weight: bold;}\n",
       ".c3col_left { text-align: left !important; display: block;}\n",
       ".c3col_right { text-align: right !important; display: block;}\n",
       ".c3col_center { text-align: center !important; display: block;}\n",
       "</style>\n",
       "\n",
       "<table>\n",
       "\n",
       "<thead class=\"head_cell\">\n",
       "<th>Locus</th><th>Region</th><th>Ratio</th>\n",
       "</thead>\n",
       "<tbody>\n",
       "<tr><td><span class=\"c3col_left\">NP_003077</span></td><td><span class=\"c3col_left\">Con</span></td><td><span class=\"c3col_right\">2.5386</span></td></tr>\n",
       "<tr><td><span class=\"c3col_left\">NP_004893</span></td><td><span class=\"c3col_left\">Con</span></td><td><span class=\"c3col_right\">121351.4264</span></td></tr>\n",
       "<tr><td><span class=\"c3col_left\">NP_005079</span></td><td><span class=\"c3col_left\">Con</span></td><td><span class=\"c3col_right\">9516594.9789</span></td></tr>\n",
       "<tr><td><span class=\"c3col_left\">NP_005500</span></td><td><span class=\"c3col_left\">NonCon</span></td><td><span class=\"c3col_right\">0.0000</span></td></tr>\n",
       "<tr><td><span class=\"c3col_left\">NP_055852</span></td><td><span class=\"c3col_left\">NonCon</span></td><td><span class=\"c3col_right\">10933217.7090</span></td></tr>\n",
       "</tbody>\n",
       "</table>\n",
       "<p>\n",
       "5 rows x 3 columns</p>\n",
       "</div>"
      ],
      "text/plain": [
       "====================================\n",
       "Locus        Region            Ratio\n",
       "------------------------------------\n",
       "NP_003077    Con              2.5386\n",
       "NP_004893    Con         121351.4264\n",
       "NP_005079    Con        9516594.9789\n",
       "NP_005500    NonCon           0.0000\n",
       "NP_055852    NonCon    10933217.7090\n",
       "------------------------------------\n",
       "\n",
       "5 rows x 3 columns"
      ]
     },
     "execution_count": 2,
     "metadata": {},
     "output_type": "execute_result"
    }
   ],
   "source": [
    "from cogent3 import load_table\n",
    "\n",
    "table = load_table(\"data/stats.tsv\")\n",
    "table"
   ]
  },
  {
   "cell_type": "code",
   "execution_count": 3,
   "id": "charming-parliament",
   "metadata": {
    "execution": {
     "iopub.execute_input": "2021-09-30T04:31:40.280648Z",
     "iopub.status.busy": "2021-09-30T04:31:40.280045Z",
     "iopub.status.idle": "2021-09-30T04:31:40.284014Z",
     "shell.execute_reply": "2021-09-30T04:31:40.284558Z"
    }
   },
   "outputs": [
    {
     "data": {
      "text/html": [
       "\n",
       "<div class=\"c3table\">\n",
       "\n",
       "<style>\n",
       ".c3table table {margin: 10px 0;}\n",
       ".c3table tr:last-child {border-bottom: 1px solid #000;} \n",
       ".c3table tr > th {text-align: left; padding: 0 5px;}\n",
       ".c3table tr > td {text-align: left; padding: 5px;}\n",
       ".c3table tr:nth-child(even) {background: #f7f7f7 !important;}\n",
       ".c3table .ellipsis {background: rgba(0, 0, 0, .01);}\n",
       ".c3table .index {background: rgba(161, 195, 209, 0.0); margin: 10px; font-weight: 600;}\n",
       ".c3table .head_cell {background: rgba(161, 195, 209, 0.75); font-weight: bold; text-align: center;}\n",
       ".c3table caption {color: rgb(250, 250, 250); background: rgba(30, 140, 200, 1); padding: 3px; white-space: nowrap; caption-side: top;}\n",
       ".c3table .cell_title {font-weight: bold;}\n",
       ".c3col_left { text-align: left !important; display: block;}\n",
       ".c3col_right { text-align: right !important; display: block;}\n",
       ".c3col_center { text-align: center !important; display: block;}\n",
       "</style>\n",
       "\n",
       "<table>\n",
       "\n",
       "<thead class=\"head_cell\">\n",
       "<th>Locus</th><th>Region</th><th>Ratio</th>\n",
       "</thead>\n",
       "<tbody>\n",
       "<tr><td><span class=\"c3col_left\">NP_003077</span></td><td><span class=\"c3col_left\">Con</span></td><td><span class=\"c3col_right\">2.5386</span></td></tr>\n",
       "<tr><td><span class=\"c3col_left\">NP_004893</span></td><td><span class=\"c3col_left\">Con</span></td><td><span class=\"c3col_right\">121351.4264</span></td></tr>\n",
       "<tr><td><span class=\"c3col_left\">NP_005079</span></td><td><span class=\"c3col_left\">Con</span></td><td><span class=\"c3col_right\">9516594.9789</span></td></tr>\n",
       "<tr><td><span class=\"c3col_left\">NP_005500</span></td><td><span class=\"c3col_left\">NonCon</span></td><td><span class=\"c3col_right\">0.0000</span></td></tr>\n",
       "<tr><td><span class=\"c3col_left\">NP_055852</span></td><td><span class=\"c3col_left\">NonCon</span></td><td><span class=\"c3col_right\">10933217.7090</span></td></tr>\n",
       "</tbody>\n",
       "</table>\n",
       "<p>\n",
       "5 rows x 3 columns</p>\n",
       "</div>"
      ],
      "text/plain": [
       "====================================\n",
       "Locus        Region            Ratio\n",
       "------------------------------------\n",
       "NP_003077    Con              2.5386\n",
       "NP_004893    Con         121351.4264\n",
       "NP_005079    Con        9516594.9789\n",
       "NP_005500    NonCon           0.0000\n",
       "NP_055852    NonCon    10933217.7090\n",
       "------------------------------------\n",
       "\n",
       "5 rows x 3 columns"
      ]
     },
     "execution_count": 3,
     "metadata": {},
     "output_type": "execute_result"
    }
   ],
   "source": [
    "from cogent3 import load_table\n",
    "\n",
    "table = load_table(\"data/stats.tsv\", sep=\"\\t\")\n",
    "table"
   ]
  },
  {
   "cell_type": "code",
   "execution_count": 4,
   "id": "acceptable-criminal",
   "metadata": {
    "execution": {
     "iopub.execute_input": "2021-09-30T04:31:40.287703Z",
     "iopub.status.busy": "2021-09-30T04:31:40.287241Z",
     "iopub.status.idle": "2021-09-30T04:31:40.290563Z",
     "shell.execute_reply": "2021-09-30T04:31:40.290886Z"
    }
   },
   "outputs": [
    {
     "data": {
      "text/plain": [
       "[['chr1',\n",
       "  '29214',\n",
       "  '29566',\n",
       "  'chr1.1',\n",
       "  '626',\n",
       "  '.',\n",
       "  '0.0724',\n",
       "  '3.9',\n",
       "  '-1',\n",
       "  '159'],\n",
       " ['chr1',\n",
       "  '89933',\n",
       "  '90118',\n",
       "  'chr1.2',\n",
       "  '511',\n",
       "  '.',\n",
       "  '0.0313',\n",
       "  '1.59',\n",
       "  '-1',\n",
       "  '94'],\n",
       " ['chr1',\n",
       "  '545979',\n",
       "  '546193',\n",
       "  'chr1.3',\n",
       "  '543',\n",
       "  '.',\n",
       "  '0.0428',\n",
       "  '2.23',\n",
       "  '-1',\n",
       "  '100'],\n",
       " ['chr1',\n",
       "  '713797',\n",
       "  '714639',\n",
       "  'chr1.4',\n",
       "  '1000',\n",
       "  '.',\n",
       "  '0.3215',\n",
       "  '16.0',\n",
       "  '-1',\n",
       "  '380']]"
      ]
     },
     "execution_count": 4,
     "metadata": {},
     "output_type": "execute_result"
    }
   ],
   "source": [
    "from cogent3.parse.table import load_delimited\n",
    "\n",
    "header, rows, title, legend = load_delimited(\"data/CerebellumDukeDNaseSeq.pk\", header=False, sep=\"\\t\")\n",
    "rows[:4]"
   ]
  },
  {
   "cell_type": "code",
   "execution_count": 5,
   "id": "banner-bracket",
   "metadata": {
    "execution": {
     "iopub.execute_input": "2021-09-30T04:31:40.295061Z",
     "iopub.status.busy": "2021-09-30T04:31:40.294511Z",
     "iopub.status.idle": "2021-09-30T04:31:40.297163Z",
     "shell.execute_reply": "2021-09-30T04:31:40.296816Z"
    }
   },
   "outputs": [
    {
     "data": {
      "text/plain": [
       "[['chr1',\n",
       "  '29214',\n",
       "  '29566',\n",
       "  'chr1.1',\n",
       "  '626',\n",
       "  '.',\n",
       "  '0.0724',\n",
       "  '3.9',\n",
       "  '-1',\n",
       "  '159'],\n",
       " ['chr1',\n",
       "  '89933',\n",
       "  '90118',\n",
       "  'chr1.2',\n",
       "  '511',\n",
       "  '.',\n",
       "  '0.0313',\n",
       "  '1.59',\n",
       "  '-1',\n",
       "  '94'],\n",
       " ['chr1',\n",
       "  '545979',\n",
       "  '546193',\n",
       "  'chr1.3',\n",
       "  '543',\n",
       "  '.',\n",
       "  '0.0428',\n",
       "  '2.23',\n",
       "  '-1',\n",
       "  '100'],\n",
       " ['chr1',\n",
       "  '713797',\n",
       "  '714639',\n",
       "  'chr1.4',\n",
       "  '1000',\n",
       "  '.',\n",
       "  '0.3215',\n",
       "  '16.0',\n",
       "  '-1',\n",
       "  '380']]"
      ]
     },
     "execution_count": 5,
     "metadata": {},
     "output_type": "execute_result"
    }
   ],
   "source": [
    "from cogent3.parse.table import FilteringParser\n",
    "\n",
    "reader = FilteringParser(with_header=False, sep=\"\\t\")\n",
    "rows = list(reader(\"data/CerebellumDukeDNaseSeq.pk\"))\n",
    "rows[:4]"
   ]
  },
  {
   "cell_type": "code",
   "execution_count": 6,
   "id": "strategic-mitchell",
   "metadata": {
    "execution": {
     "iopub.execute_input": "2021-09-30T04:31:40.299950Z",
     "iopub.status.busy": "2021-09-30T04:31:40.299451Z",
     "iopub.status.idle": "2021-09-30T04:31:40.303185Z",
     "shell.execute_reply": "2021-09-30T04:31:40.303556Z"
    }
   },
   "outputs": [
    {
     "data": {
      "text/html": [
       "\n",
       "<div class=\"c3table\">\n",
       "\n",
       "<style>\n",
       ".c3table table {margin: 10px 0;}\n",
       ".c3table tr:last-child {border-bottom: 1px solid #000;} \n",
       ".c3table tr > th {text-align: left; padding: 0 5px;}\n",
       ".c3table tr > td {text-align: left; padding: 5px;}\n",
       ".c3table tr:nth-child(even) {background: #f7f7f7 !important;}\n",
       ".c3table .ellipsis {background: rgba(0, 0, 0, .01);}\n",
       ".c3table .index {background: rgba(161, 195, 209, 0.0); margin: 10px; font-weight: 600;}\n",
       ".c3table .head_cell {background: rgba(161, 195, 209, 0.75); font-weight: bold; text-align: center;}\n",
       ".c3table caption {color: rgb(250, 250, 250); background: rgba(30, 140, 200, 1); padding: 3px; white-space: nowrap; caption-side: top;}\n",
       ".c3table .cell_title {font-weight: bold;}\n",
       ".c3col_left { text-align: left !important; display: block;}\n",
       ".c3col_right { text-align: right !important; display: block;}\n",
       ".c3col_center { text-align: center !important; display: block;}\n",
       "</style>\n",
       "\n",
       "<table>\n",
       "\n",
       "<thead class=\"head_cell\">\n",
       "<th>Locus</th><th>Region</th><th>Ratio</th>\n",
       "</thead>\n",
       "<tbody>\n",
       "<tr><td><span class=\"c3col_left\">NP_003077</span></td><td><span class=\"c3col_left\">Con</span></td><td><span class=\"c3col_right\">2.5386</span></td></tr>\n",
       "<tr><td><span class=\"c3col_left\">NP_004893</span></td><td><span class=\"c3col_left\">Con</span></td><td><span class=\"c3col_right\">121351.4264</span></td></tr>\n",
       "</tbody>\n",
       "</table>\n",
       "<p>\n",
       "2 rows x 3 columns</p>\n",
       "</div>"
      ],
      "text/plain": [
       "==================================\n",
       "Locus        Region          Ratio\n",
       "----------------------------------\n",
       "NP_003077    Con            2.5386\n",
       "NP_004893    Con       121351.4264\n",
       "----------------------------------\n",
       "\n",
       "2 rows x 3 columns"
      ]
     },
     "execution_count": 6,
     "metadata": {},
     "output_type": "execute_result"
    }
   ],
   "source": [
    "from cogent3 import load_table\n",
    "\n",
    "table = load_table(\"data/stats.tsv\", limit=2)\n",
    "table"
   ]
  },
  {
   "cell_type": "code",
   "execution_count": 7,
   "id": "relative-treasurer",
   "metadata": {
    "execution": {
     "iopub.execute_input": "2021-09-30T04:31:40.306848Z",
     "iopub.status.busy": "2021-09-30T04:31:40.306393Z",
     "iopub.status.idle": "2021-09-30T04:31:40.310662Z",
     "shell.execute_reply": "2021-09-30T04:31:40.311113Z"
    }
   },
   "outputs": [
    {
     "data": {
      "text/html": [
       "\n",
       "<div class=\"c3table\">\n",
       "\n",
       "<style>\n",
       ".c3table table {margin: 10px 0;}\n",
       ".c3table tr:last-child {border-bottom: 1px solid #000;} \n",
       ".c3table tr > th {text-align: left; padding: 0 5px;}\n",
       ".c3table tr > td {text-align: left; padding: 5px;}\n",
       ".c3table tr:nth-child(even) {background: #f7f7f7 !important;}\n",
       ".c3table .ellipsis {background: rgba(0, 0, 0, .01);}\n",
       ".c3table .index {background: rgba(161, 195, 209, 0.0); margin: 10px; font-weight: 600;}\n",
       ".c3table .head_cell {background: rgba(161, 195, 209, 0.75); font-weight: bold; text-align: center;}\n",
       ".c3table caption {color: rgb(250, 250, 250); background: rgba(30, 140, 200, 1); padding: 3px; white-space: nowrap; caption-side: top;}\n",
       ".c3table .cell_title {font-weight: bold;}\n",
       ".c3col_left { text-align: left !important; display: block;}\n",
       ".c3col_right { text-align: right !important; display: block;}\n",
       ".c3col_center { text-align: center !important; display: block;}\n",
       "</style>\n",
       "\n",
       "<table>\n",
       "\n",
       "<thead class=\"head_cell\">\n",
       "<th>Locus</th><th>Region</th><th>Ratio</th>\n",
       "</thead>\n",
       "<tbody>\n",
       "<tr><td><span class=\"c3col_left\">NP_003077</span></td><td><span class=\"c3col_left\">Con</span></td><td><span class=\"c3col_right\">2.5</span></td></tr>\n",
       "<tr><td><span class=\"c3col_left\">NP_005500</span></td><td><span class=\"c3col_left\">NonCon</span></td><td><span class=\"c3col_right\">0.0</span></td></tr>\n",
       "</tbody>\n",
       "</table>\n",
       "<p>\n",
       "2 rows x 3 columns</p>\n",
       "</div>"
      ],
      "text/plain": [
       "============================\n",
       "Locus        Region    Ratio\n",
       "----------------------------\n",
       "NP_003077    Con         2.5\n",
       "NP_005500    NonCon      0.0\n",
       "----------------------------\n",
       "\n",
       "2 rows x 3 columns"
      ]
     },
     "execution_count": 7,
     "metadata": {},
     "output_type": "execute_result"
    }
   ],
   "source": [
    "from cogent3.parse.table import FilteringParser\n",
    "\n",
    "reader = FilteringParser(\n",
    "    lambda line: float(line[2]) <= 10, with_header=True, sep=\"\\t\"\n",
    ")\n",
    "table = load_table(\"data/stats.tsv\", reader=reader, digits=1)\n",
    "table"
   ]
  },
  {
   "cell_type": "code",
   "execution_count": 8,
   "id": "romance-headline",
   "metadata": {
    "execution": {
     "iopub.execute_input": "2021-09-30T04:31:40.314238Z",
     "iopub.status.busy": "2021-09-30T04:31:40.313792Z",
     "iopub.status.idle": "2021-09-30T04:31:40.317688Z",
     "shell.execute_reply": "2021-09-30T04:31:40.318090Z"
    }
   },
   "outputs": [
    {
     "data": {
      "text/html": [
       "\n",
       "<div class=\"c3table\">\n",
       "\n",
       "<style>\n",
       ".c3table table {margin: 10px 0;}\n",
       ".c3table tr:last-child {border-bottom: 1px solid #000;} \n",
       ".c3table tr > th {text-align: left; padding: 0 5px;}\n",
       ".c3table tr > td {text-align: left; padding: 5px;}\n",
       ".c3table tr:nth-child(even) {background: #f7f7f7 !important;}\n",
       ".c3table .ellipsis {background: rgba(0, 0, 0, .01);}\n",
       ".c3table .index {background: rgba(161, 195, 209, 0.0); margin: 10px; font-weight: 600;}\n",
       ".c3table .head_cell {background: rgba(161, 195, 209, 0.75); font-weight: bold; text-align: center;}\n",
       ".c3table caption {color: rgb(250, 250, 250); background: rgba(30, 140, 200, 1); padding: 3px; white-space: nowrap; caption-side: top;}\n",
       ".c3table .cell_title {font-weight: bold;}\n",
       ".c3col_left { text-align: left !important; display: block;}\n",
       ".c3col_right { text-align: right !important; display: block;}\n",
       ".c3col_center { text-align: center !important; display: block;}\n",
       "</style>\n",
       "\n",
       "<table>\n",
       "\n",
       "<thead class=\"head_cell\">\n",
       "<th>Locus</th><th>Region</th><th>Ratio</th>\n",
       "</thead>\n",
       "<tbody>\n",
       "<tr><td><span class=\"c3col_left\">NP_004893</span></td><td><span class=\"c3col_left\">Con</span></td><td><span class=\"c3col_right\">121351.4</span></td></tr>\n",
       "<tr><td><span class=\"c3col_left\">NP_005079</span></td><td><span class=\"c3col_left\">Con</span></td><td><span class=\"c3col_right\">9516595.0</span></td></tr>\n",
       "<tr><td><span class=\"c3col_left\">NP_055852</span></td><td><span class=\"c3col_left\">NonCon</span></td><td><span class=\"c3col_right\">10933217.7</span></td></tr>\n",
       "</tbody>\n",
       "</table>\n",
       "<p>\n",
       "3 rows x 3 columns</p>\n",
       "</div>"
      ],
      "text/plain": [
       "=================================\n",
       "Locus        Region         Ratio\n",
       "---------------------------------\n",
       "NP_004893    Con         121351.4\n",
       "NP_005079    Con        9516595.0\n",
       "NP_055852    NonCon    10933217.7\n",
       "---------------------------------\n",
       "\n",
       "3 rows x 3 columns"
      ]
     },
     "execution_count": 8,
     "metadata": {},
     "output_type": "execute_result"
    }
   ],
   "source": [
    "reader = FilteringParser(\n",
    "    lambda line: float(line[2]) <= 10, with_header=True, sep=\"\\t\", negate=True\n",
    ")\n",
    "table = load_table(\"data/stats.tsv\", reader=reader, digits=1)\n",
    "table"
   ]
  },
  {
   "cell_type": "code",
   "execution_count": 9,
   "id": "configured-fight",
   "metadata": {
    "execution": {
     "iopub.execute_input": "2021-09-30T04:31:40.321811Z",
     "iopub.status.busy": "2021-09-30T04:31:40.320928Z",
     "iopub.status.idle": "2021-09-30T04:31:40.324764Z",
     "shell.execute_reply": "2021-09-30T04:31:40.325182Z"
    }
   },
   "outputs": [
    {
     "data": {
      "text/html": [
       "\n",
       "<div class=\"c3table\">\n",
       "\n",
       "<style>\n",
       ".c3table table {margin: 10px 0;}\n",
       ".c3table tr:last-child {border-bottom: 1px solid #000;} \n",
       ".c3table tr > th {text-align: left; padding: 0 5px;}\n",
       ".c3table tr > td {text-align: left; padding: 5px;}\n",
       ".c3table tr:nth-child(even) {background: #f7f7f7 !important;}\n",
       ".c3table .ellipsis {background: rgba(0, 0, 0, .01);}\n",
       ".c3table .index {background: rgba(161, 195, 209, 0.0); margin: 10px; font-weight: 600;}\n",
       ".c3table .head_cell {background: rgba(161, 195, 209, 0.75); font-weight: bold; text-align: center;}\n",
       ".c3table caption {color: rgb(250, 250, 250); background: rgba(30, 140, 200, 1); padding: 3px; white-space: nowrap; caption-side: top;}\n",
       ".c3table .cell_title {font-weight: bold;}\n",
       ".c3col_left { text-align: left !important; display: block;}\n",
       ".c3col_right { text-align: right !important; display: block;}\n",
       ".c3col_center { text-align: center !important; display: block;}\n",
       "</style>\n",
       "\n",
       "<table>\n",
       "\n",
       "<thead class=\"head_cell\">\n",
       "<th>Locus</th><th>Ratio</th>\n",
       "</thead>\n",
       "<tbody>\n",
       "<tr><td><span class=\"c3col_left\">NP_003077</span></td><td><span class=\"c3col_right\">2.5386</span></td></tr>\n",
       "<tr><td><span class=\"c3col_left\">NP_004893</span></td><td><span class=\"c3col_right\">121351.4264</span></td></tr>\n",
       "<tr><td><span class=\"c3col_left\">NP_005079</span></td><td><span class=\"c3col_right\">9516594.9789</span></td></tr>\n",
       "<tr><td><span class=\"c3col_left\">NP_005500</span></td><td><span class=\"c3col_right\">0.0000</span></td></tr>\n",
       "<tr><td><span class=\"c3col_left\">NP_055852</span></td><td><span class=\"c3col_right\">10933217.7090</span></td></tr>\n",
       "</tbody>\n",
       "</table>\n",
       "<p>\n",
       "5 rows x 2 columns</p>\n",
       "</div>"
      ],
      "text/plain": [
       "==========================\n",
       "Locus                Ratio\n",
       "--------------------------\n",
       "NP_003077           2.5386\n",
       "NP_004893      121351.4264\n",
       "NP_005079     9516594.9789\n",
       "NP_005500           0.0000\n",
       "NP_055852    10933217.7090\n",
       "--------------------------\n",
       "\n",
       "5 rows x 2 columns"
      ]
     },
     "execution_count": 9,
     "metadata": {},
     "output_type": "execute_result"
    }
   ],
   "source": [
    "from cogent3.parse.table import FilteringParser\n",
    "\n",
    "reader = FilteringParser(columns=[\"Locus\", \"Ratio\"], with_header=True, sep=\"\\t\")\n",
    "table = load_table(\"data/stats.tsv\", reader=reader)\n",
    "table"
   ]
  },
  {
   "cell_type": "code",
   "execution_count": 10,
   "id": "continental-lincoln",
   "metadata": {
    "execution": {
     "iopub.execute_input": "2021-09-30T04:31:40.328056Z",
     "iopub.status.busy": "2021-09-30T04:31:40.327598Z",
     "iopub.status.idle": "2021-09-30T04:31:40.330899Z",
     "shell.execute_reply": "2021-09-30T04:31:40.331222Z"
    }
   },
   "outputs": [
    {
     "data": {
      "text/html": [
       "\n",
       "<div class=\"c3table\">\n",
       "\n",
       "<style>\n",
       ".c3table table {margin: 10px 0;}\n",
       ".c3table tr:last-child {border-bottom: 1px solid #000;} \n",
       ".c3table tr > th {text-align: left; padding: 0 5px;}\n",
       ".c3table tr > td {text-align: left; padding: 5px;}\n",
       ".c3table tr:nth-child(even) {background: #f7f7f7 !important;}\n",
       ".c3table .ellipsis {background: rgba(0, 0, 0, .01);}\n",
       ".c3table .index {background: rgba(161, 195, 209, 0.0); margin: 10px; font-weight: 600;}\n",
       ".c3table .head_cell {background: rgba(161, 195, 209, 0.75); font-weight: bold; text-align: center;}\n",
       ".c3table caption {color: rgb(250, 250, 250); background: rgba(30, 140, 200, 1); padding: 3px; white-space: nowrap; caption-side: top;}\n",
       ".c3table .cell_title {font-weight: bold;}\n",
       ".c3col_left { text-align: left !important; display: block;}\n",
       ".c3col_right { text-align: right !important; display: block;}\n",
       ".c3col_center { text-align: center !important; display: block;}\n",
       "</style>\n",
       "\n",
       "<table>\n",
       "\n",
       "<thead class=\"head_cell\">\n",
       "<th>Locus</th><th>Ratio</th>\n",
       "</thead>\n",
       "<tbody>\n",
       "<tr><td><span class=\"c3col_left\">NP_003077</span></td><td><span class=\"c3col_right\">2.5386</span></td></tr>\n",
       "<tr><td><span class=\"c3col_left\">NP_004893</span></td><td><span class=\"c3col_right\">121351.4264</span></td></tr>\n",
       "<tr><td><span class=\"c3col_left\">NP_005079</span></td><td><span class=\"c3col_right\">9516594.9789</span></td></tr>\n",
       "<tr><td><span class=\"c3col_left\">NP_005500</span></td><td><span class=\"c3col_right\">0.0000</span></td></tr>\n",
       "<tr><td><span class=\"c3col_left\">NP_055852</span></td><td><span class=\"c3col_right\">10933217.7090</span></td></tr>\n",
       "</tbody>\n",
       "</table>\n",
       "<p>\n",
       "5 rows x 2 columns</p>\n",
       "</div>"
      ],
      "text/plain": [
       "==========================\n",
       "Locus                Ratio\n",
       "--------------------------\n",
       "NP_003077           2.5386\n",
       "NP_004893      121351.4264\n",
       "NP_005079     9516594.9789\n",
       "NP_005500           0.0000\n",
       "NP_055852    10933217.7090\n",
       "--------------------------\n",
       "\n",
       "5 rows x 2 columns"
      ]
     },
     "execution_count": 10,
     "metadata": {},
     "output_type": "execute_result"
    }
   ],
   "source": [
    "from cogent3.parse.table import FilteringParser\n",
    "\n",
    "reader = FilteringParser(columns=[0, -1], with_header=True, sep=\"\\t\")\n",
    "table = load_table(\"data/stats.tsv\", reader=reader)\n",
    "table"
   ]
  },
  {
   "cell_type": "code",
   "execution_count": 11,
   "id": "aerial-investigator",
   "metadata": {
    "execution": {
     "iopub.execute_input": "2021-09-30T04:31:40.333973Z",
     "iopub.status.busy": "2021-09-30T04:31:40.333446Z",
     "iopub.status.idle": "2021-09-30T04:31:40.335262Z",
     "shell.execute_reply": "2021-09-30T04:31:40.335588Z"
    }
   },
   "outputs": [],
   "source": [
    "from cogent3.parse.table import FilteringParser\n",
    "\n",
    "reader = FilteringParser(with_header=True, sep=\"\\t\")\n",
    "data = list(reader(\"data/stats.tsv\"))"
   ]
  },
  {
   "cell_type": "code",
   "execution_count": 12,
   "id": "aware-material",
   "metadata": {
    "execution": {
     "iopub.execute_input": "2021-09-30T04:31:40.338258Z",
     "iopub.status.busy": "2021-09-30T04:31:40.337792Z",
     "iopub.status.idle": "2021-09-30T04:31:40.339516Z",
     "shell.execute_reply": "2021-09-30T04:31:40.339978Z"
    }
   },
   "outputs": [
    {
     "data": {
      "text/plain": [
       "[['Locus', 'Region', 'Ratio'], ['NP_003077', 'Con', '2.5386013224378985']]"
      ]
     },
     "execution_count": 12,
     "metadata": {},
     "output_type": "execute_result"
    }
   ],
   "source": [
    "data[:2]"
   ]
  },
  {
   "cell_type": "code",
   "execution_count": 13,
   "id": "excellent-producer",
   "metadata": {
    "execution": {
     "iopub.execute_input": "2021-09-30T04:31:40.344057Z",
     "iopub.status.busy": "2021-09-30T04:31:40.343477Z",
     "iopub.status.idle": "2021-09-30T04:31:40.345598Z",
     "shell.execute_reply": "2021-09-30T04:31:40.345919Z"
    }
   },
   "outputs": [
    {
     "data": {
      "text/html": [
       "\n",
       "<div class=\"c3table\">\n",
       "\n",
       "<style>\n",
       ".c3table table {margin: 10px 0;}\n",
       ".c3table tr:last-child {border-bottom: 1px solid #000;} \n",
       ".c3table tr > th {text-align: left; padding: 0 5px;}\n",
       ".c3table tr > td {text-align: left; padding: 5px;}\n",
       ".c3table tr:nth-child(even) {background: #f7f7f7 !important;}\n",
       ".c3table .ellipsis {background: rgba(0, 0, 0, .01);}\n",
       ".c3table .index {background: rgba(161, 195, 209, 0.0); margin: 10px; font-weight: 600;}\n",
       ".c3table .head_cell {background: rgba(161, 195, 209, 0.75); font-weight: bold; text-align: center;}\n",
       ".c3table caption {color: rgb(250, 250, 250); background: rgba(30, 140, 200, 1); padding: 3px; white-space: nowrap; caption-side: top;}\n",
       ".c3table .cell_title {font-weight: bold;}\n",
       ".c3col_left { text-align: left !important; display: block;}\n",
       ".c3col_right { text-align: right !important; display: block;}\n",
       ".c3col_center { text-align: center !important; display: block;}\n",
       "</style>\n",
       "\n",
       "<table>\n",
       "\n",
       "<thead class=\"head_cell\">\n",
       "<th>A</th><th>B</th><th>C</th>\n",
       "</thead>\n",
       "<tbody>\n",
       "<tr><td><span class=\"c3col_right\">0</span></td><td><span class=\"c3col_right\">1</span></td><td><span class=\"c3col_right\">2</span></td></tr>\n",
       "<tr><td><span class=\"c3col_right\">3</span></td><td><span class=\"c3col_right\">4</span></td><td><span class=\"c3col_right\">5</span></td></tr>\n",
       "<tr><td><span class=\"c3col_right\">6</span></td><td><span class=\"c3col_right\">7</span></td><td><span class=\"c3col_right\">8</span></td></tr>\n",
       "<tr><td><span class=\"c3col_right\">9</span></td><td><span class=\"c3col_right\">10</span></td><td><span class=\"c3col_right\">11</span></td></tr>\n",
       "</tbody>\n",
       "</table>\n",
       "<p>\n",
       "4 rows x 3 columns</p>\n",
       "</div>"
      ],
      "text/plain": [
       "=============\n",
       "A     B     C\n",
       "-------------\n",
       "0     1     2\n",
       "3     4     5\n",
       "6     7     8\n",
       "9    10    11\n",
       "-------------\n",
       "\n",
       "4 rows x 3 columns"
      ]
     },
     "execution_count": 13,
     "metadata": {},
     "output_type": "execute_result"
    }
   ],
   "source": [
    "from cogent3 import make_table\n",
    "\n",
    "header = [\"A\", \"B\", \"C\"]\n",
    "rows = [range(3), range(3, 6), range(6, 9), range(9, 12)]\n",
    "table = make_table(header=[\"A\", \"B\", \"C\"], data=rows)\n",
    "table"
   ]
  },
  {
   "cell_type": "code",
   "execution_count": 14,
   "id": "fossil-float",
   "metadata": {
    "execution": {
     "iopub.execute_input": "2021-09-30T04:31:40.350154Z",
     "iopub.status.busy": "2021-09-30T04:31:40.349569Z",
     "iopub.status.idle": "2021-09-30T04:31:40.351875Z",
     "shell.execute_reply": "2021-09-30T04:31:40.352269Z"
    }
   },
   "outputs": [
    {
     "data": {
      "text/html": [
       "\n",
       "<div class=\"c3table\">\n",
       "\n",
       "<style>\n",
       ".c3table table {margin: 10px 0;}\n",
       ".c3table tr:last-child {border-bottom: 1px solid #000;} \n",
       ".c3table tr > th {text-align: left; padding: 0 5px;}\n",
       ".c3table tr > td {text-align: left; padding: 5px;}\n",
       ".c3table tr:nth-child(even) {background: #f7f7f7 !important;}\n",
       ".c3table .ellipsis {background: rgba(0, 0, 0, .01);}\n",
       ".c3table .index {background: rgba(161, 195, 209, 0.0); margin: 10px; font-weight: 600;}\n",
       ".c3table .head_cell {background: rgba(161, 195, 209, 0.75); font-weight: bold; text-align: center;}\n",
       ".c3table caption {color: rgb(250, 250, 250); background: rgba(30, 140, 200, 1); padding: 3px; white-space: nowrap; caption-side: top;}\n",
       ".c3table .cell_title {font-weight: bold;}\n",
       ".c3col_left { text-align: left !important; display: block;}\n",
       ".c3col_right { text-align: right !important; display: block;}\n",
       ".c3col_center { text-align: center !important; display: block;}\n",
       "</style>\n",
       "\n",
       "<table>\n",
       "\n",
       "<thead class=\"head_cell\">\n",
       "<th>A</th><th>B</th><th>C</th>\n",
       "</thead>\n",
       "<tbody>\n",
       "<tr><td><span class=\"c3col_right\">0</span></td><td><span class=\"c3col_right\">1</span></td><td><span class=\"c3col_right\">2</span></td></tr>\n",
       "<tr><td><span class=\"c3col_right\">3</span></td><td><span class=\"c3col_right\">4</span></td><td><span class=\"c3col_right\">5</span></td></tr>\n",
       "<tr><td><span class=\"c3col_right\">6</span></td><td><span class=\"c3col_right\">7</span></td><td><span class=\"c3col_right\">8</span></td></tr>\n",
       "</tbody>\n",
       "</table>\n",
       "<p>\n",
       "3 rows x 3 columns</p>\n",
       "</div>"
      ],
      "text/plain": [
       "===========\n",
       "A    B    C\n",
       "-----------\n",
       "0    1    2\n",
       "3    4    5\n",
       "6    7    8\n",
       "-----------\n",
       "\n",
       "3 rows x 3 columns"
      ]
     },
     "execution_count": 14,
     "metadata": {},
     "output_type": "execute_result"
    }
   ],
   "source": [
    "from cogent3 import make_table\n",
    "\n",
    "data = dict(A=[0, 3, 6], B=[1, 4, 7], C=[2, 5, 8])\n",
    "table = make_table(data=data)\n",
    "table"
   ]
  },
  {
   "cell_type": "code",
   "execution_count": 15,
   "id": "convertible-joyce",
   "metadata": {
    "execution": {
     "iopub.execute_input": "2021-09-30T04:31:40.355691Z",
     "iopub.status.busy": "2021-09-30T04:31:40.355138Z",
     "iopub.status.idle": "2021-09-30T04:31:40.357261Z",
     "shell.execute_reply": "2021-09-30T04:31:40.357584Z"
    }
   },
   "outputs": [
    {
     "data": {
      "text/html": [
       "\n",
       "<div class=\"c3table\">\n",
       "\n",
       "<style>\n",
       ".c3table table {margin: 10px 0;}\n",
       ".c3table tr:last-child {border-bottom: 1px solid #000;} \n",
       ".c3table tr > th {text-align: left; padding: 0 5px;}\n",
       ".c3table tr > td {text-align: left; padding: 5px;}\n",
       ".c3table tr:nth-child(even) {background: #f7f7f7 !important;}\n",
       ".c3table .ellipsis {background: rgba(0, 0, 0, .01);}\n",
       ".c3table .index {background: rgba(161, 195, 209, 0.0); margin: 10px; font-weight: 600;}\n",
       ".c3table .head_cell {background: rgba(161, 195, 209, 0.75); font-weight: bold; text-align: center;}\n",
       ".c3table caption {color: rgb(250, 250, 250); background: rgba(30, 140, 200, 1); padding: 3px; white-space: nowrap; caption-side: top;}\n",
       ".c3table .cell_title {font-weight: bold;}\n",
       ".c3col_left { text-align: left !important; display: block;}\n",
       ".c3col_right { text-align: right !important; display: block;}\n",
       ".c3col_center { text-align: center !important; display: block;}\n",
       "</style>\n",
       "\n",
       "<table>\n",
       "\n",
       "<thead class=\"head_cell\">\n",
       "<th>C</th><th>A</th><th>B</th>\n",
       "</thead>\n",
       "<tbody>\n",
       "<tr><td><span class=\"c3col_right\">2</span></td><td><span class=\"c3col_right\">0</span></td><td><span class=\"c3col_right\">1</span></td></tr>\n",
       "<tr><td><span class=\"c3col_right\">5</span></td><td><span class=\"c3col_right\">3</span></td><td><span class=\"c3col_right\">4</span></td></tr>\n",
       "<tr><td><span class=\"c3col_right\">8</span></td><td><span class=\"c3col_right\">6</span></td><td><span class=\"c3col_right\">7</span></td></tr>\n",
       "</tbody>\n",
       "</table>\n",
       "<p>\n",
       "3 rows x 3 columns</p>\n",
       "</div>"
      ],
      "text/plain": [
       "===========\n",
       "C    A    B\n",
       "-----------\n",
       "2    0    1\n",
       "5    3    4\n",
       "8    6    7\n",
       "-----------\n",
       "\n",
       "3 rows x 3 columns"
      ]
     },
     "execution_count": 15,
     "metadata": {},
     "output_type": "execute_result"
    }
   ],
   "source": [
    "table = make_table(header=[\"C\", \"A\", \"B\"], data=data)\n",
    "table"
   ]
  },
  {
   "cell_type": "code",
   "execution_count": 16,
   "id": "herbal-retail",
   "metadata": {
    "execution": {
     "iopub.execute_input": "2021-09-30T04:31:40.360129Z",
     "iopub.status.busy": "2021-09-30T04:31:40.359670Z",
     "iopub.status.idle": "2021-09-30T04:31:40.363050Z",
     "shell.execute_reply": "2021-09-30T04:31:40.363436Z"
    }
   },
   "outputs": [
    {
     "data": {
      "text/html": [
       "\n",
       "<div class=\"c3table\">\n",
       "\n",
       "<style>\n",
       ".c3table table {margin: 10px 0;}\n",
       ".c3table tr:last-child {border-bottom: 1px solid #000;} \n",
       ".c3table tr > th {text-align: left; padding: 0 5px;}\n",
       ".c3table tr > td {text-align: left; padding: 5px;}\n",
       ".c3table tr:nth-child(even) {background: #f7f7f7 !important;}\n",
       ".c3table .ellipsis {background: rgba(0, 0, 0, .01);}\n",
       ".c3table .index {background: rgba(161, 195, 209, 0.25); margin: 10px; font-weight: 600;}\n",
       ".c3table .head_cell {background: rgba(161, 195, 209, 0.75); font-weight: bold; text-align: center;}\n",
       ".c3table caption {color: rgb(250, 250, 250); background: rgba(30, 140, 200, 1); padding: 3px; white-space: nowrap; caption-side: top;}\n",
       ".c3table .cell_title {font-weight: bold;}\n",
       ".c3col_left { text-align: left !important; display: block;}\n",
       ".c3col_right { text-align: right !important; display: block;}\n",
       ".c3col_center { text-align: center !important; display: block;}\n",
       "</style>\n",
       "\n",
       "<table>\n",
       "\n",
       "<thead class=\"head_cell\">\n",
       "<th>Locus</th><th>Region</th><th>Ratio</th>\n",
       "</thead>\n",
       "<tbody>\n",
       "<tr><td class=\"index\"><span class=\"c3col_left\">NP_055852</span></td><td><span class=\"c3col_left\">NonCon</span></td><td><span class=\"c3col_right\">10933217.7090</span></td></tr>\n",
       "</tbody>\n",
       "</table>\n",
       "<p>\n",
       "1 rows x 3 columns</p>\n",
       "</div>"
      ],
      "text/plain": [
       "====================================\n",
       "Locus        Region            Ratio\n",
       "------------------------------------\n",
       "NP_055852    NonCon    10933217.7090\n",
       "------------------------------------\n",
       "\n",
       "1 rows x 3 columns"
      ]
     },
     "execution_count": 16,
     "metadata": {},
     "output_type": "execute_result"
    }
   ],
   "source": [
    "table = load_table(\"data/stats.tsv\", index_name=\"Locus\")\n",
    "table[\"NP_055852\"]"
   ]
  },
  {
   "cell_type": "code",
   "execution_count": 17,
   "id": "integrated-trance",
   "metadata": {
    "execution": {
     "iopub.execute_input": "2021-09-30T04:31:40.366097Z",
     "iopub.status.busy": "2021-09-30T04:31:40.365512Z",
     "iopub.status.idle": "2021-09-30T04:31:40.367707Z",
     "shell.execute_reply": "2021-09-30T04:31:40.368026Z"
    }
   },
   "outputs": [
    {
     "data": {
      "text/plain": [
       "'NonCon'"
      ]
     },
     "execution_count": 17,
     "metadata": {},
     "output_type": "execute_result"
    }
   ],
   "source": [
    "table[\"NP_055852\", \"Region\"]"
   ]
  },
  {
   "cell_type": "code",
   "execution_count": 18,
   "id": "about-hughes",
   "metadata": {
    "execution": {
     "iopub.execute_input": "2021-09-30T04:31:40.370963Z",
     "iopub.status.busy": "2021-09-30T04:31:40.370491Z",
     "iopub.status.idle": "2021-09-30T04:31:40.572788Z",
     "shell.execute_reply": "2021-09-30T04:31:40.573246Z"
    }
   },
   "outputs": [
    {
     "data": {
      "text/html": [
       "\n",
       "<div class=\"c3table\">\n",
       "\n",
       "<style>\n",
       ".c3table table {margin: 10px 0;}\n",
       ".c3table tr:last-child {border-bottom: 1px solid #000;} \n",
       ".c3table tr > th {text-align: left; padding: 0 5px;}\n",
       ".c3table tr > td {text-align: left; padding: 5px;}\n",
       ".c3table tr:nth-child(even) {background: #f7f7f7 !important;}\n",
       ".c3table .ellipsis {background: rgba(0, 0, 0, .01);}\n",
       ".c3table .index {background: rgba(161, 195, 209, 0.0); margin: 10px; font-weight: 600;}\n",
       ".c3table .head_cell {background: rgba(161, 195, 209, 0.75); font-weight: bold; text-align: center;}\n",
       ".c3table caption {color: rgb(250, 250, 250); background: rgba(30, 140, 200, 1); padding: 3px; white-space: nowrap; caption-side: top;}\n",
       ".c3table .cell_title {font-weight: bold;}\n",
       ".c3col_left { text-align: left !important; display: block;}\n",
       ".c3col_right { text-align: right !important; display: block;}\n",
       ".c3col_center { text-align: center !important; display: block;}\n",
       "</style>\n",
       "\n",
       "<table>\n",
       "\n",
       "<thead class=\"head_cell\">\n",
       "<th>a</th><th>b</th>\n",
       "</thead>\n",
       "<tbody>\n",
       "<tr><td><span class=\"c3col_right\">0</span></td><td><span class=\"c3col_left\">a</span></td></tr>\n",
       "<tr><td><span class=\"c3col_right\">3</span></td><td><span class=\"c3col_left\">c</span></td></tr>\n",
       "</tbody>\n",
       "</table>\n",
       "<p>\n",
       "2 rows x 2 columns</p>\n",
       "</div>"
      ],
      "text/plain": [
       "======\n",
       "a    b\n",
       "------\n",
       "0    a\n",
       "3    c\n",
       "------\n",
       "\n",
       "2 rows x 2 columns"
      ]
     },
     "execution_count": 18,
     "metadata": {},
     "output_type": "execute_result"
    }
   ],
   "source": [
    "from pandas import DataFrame\n",
    "\n",
    "from cogent3 import make_table\n",
    "\n",
    "data = dict(a=[0, 3], b=[\"a\", \"c\"])\n",
    "df = DataFrame(data=data)\n",
    "table = make_table(data_frame=df)\n",
    "table"
   ]
  },
  {
   "cell_type": "code",
   "execution_count": 19,
   "id": "primary-december",
   "metadata": {
    "execution": {
     "iopub.execute_input": "2021-09-30T04:31:40.577559Z",
     "iopub.status.busy": "2021-09-30T04:31:40.576954Z",
     "iopub.status.idle": "2021-09-30T04:31:40.579180Z",
     "shell.execute_reply": "2021-09-30T04:31:40.579641Z"
    }
   },
   "outputs": [
    {
     "data": {
      "text/html": [
       "\n",
       "<div class=\"c3table\">\n",
       "\n",
       "<style>\n",
       ".c3table table {margin: 10px 0;}\n",
       ".c3table tr:last-child {border-bottom: 1px solid #000;} \n",
       ".c3table tr > th {text-align: left; padding: 0 5px;}\n",
       ".c3table tr > td {text-align: left; padding: 5px;}\n",
       ".c3table tr:nth-child(even) {background: #f7f7f7 !important;}\n",
       ".c3table .ellipsis {background: rgba(0, 0, 0, .01);}\n",
       ".c3table .index {background: rgba(161, 195, 209, 0.0); margin: 10px; font-weight: 600;}\n",
       ".c3table .head_cell {background: rgba(161, 195, 209, 0.75); font-weight: bold; text-align: center;}\n",
       ".c3table caption {color: rgb(250, 250, 250); background: rgba(30, 140, 200, 1); padding: 3px; white-space: nowrap; caption-side: top;}\n",
       ".c3table .cell_title {font-weight: bold;}\n",
       ".c3col_left { text-align: left !important; display: block;}\n",
       ".c3col_right { text-align: right !important; display: block;}\n",
       ".c3col_center { text-align: center !important; display: block;}\n",
       "</style>\n",
       "\n",
       "<table>\n",
       "\n",
       "<thead class=\"head_cell\">\n",
       "<th>a</th><th>b</th>\n",
       "</thead>\n",
       "<tbody>\n",
       "<tr><td><span class=\"c3col_right\">0</span></td><td><span class=\"c3col_left\">a</span></td></tr>\n",
       "<tr><td><span class=\"c3col_right\">3</span></td><td><span class=\"c3col_left\">c</span></td></tr>\n",
       "</tbody>\n",
       "</table>\n",
       "<p>\n",
       "2 rows x 2 columns</p>\n",
       "</div>"
      ],
      "text/plain": [
       "======\n",
       "a    b\n",
       "------\n",
       "0    a\n",
       "3    c\n",
       "------\n",
       "\n",
       "2 rows x 2 columns"
      ]
     },
     "execution_count": 19,
     "metadata": {},
     "output_type": "execute_result"
    }
   ],
   "source": [
    "from cogent3 import make_table\n",
    "\n",
    "table = make_table(header=[\"a\", \"b\"], data=[[0, \"a\"], [3, \"c\"]])\n",
    "table"
   ]
  },
  {
   "cell_type": "code",
   "execution_count": 20,
   "id": "convinced-commonwealth",
   "metadata": {
    "execution": {
     "iopub.execute_input": "2021-09-30T04:31:40.583680Z",
     "iopub.status.busy": "2021-09-30T04:31:40.583126Z",
     "iopub.status.idle": "2021-09-30T04:31:40.585299Z",
     "shell.execute_reply": "2021-09-30T04:31:40.585742Z"
    }
   },
   "outputs": [
    {
     "data": {
      "text/html": [
       "\n",
       "<div class=\"c3table\">\n",
       "\n",
       "<style>\n",
       ".c3table table {margin: 10px 0;}\n",
       ".c3table tr:last-child {border-bottom: 1px solid #000;} \n",
       ".c3table tr > th {text-align: left; padding: 0 5px;}\n",
       ".c3table tr > td {text-align: left; padding: 5px;}\n",
       ".c3table tr:nth-child(even) {background: #f7f7f7 !important;}\n",
       ".c3table .ellipsis {background: rgba(0, 0, 0, .01);}\n",
       ".c3table .index {background: rgba(161, 195, 209, 0.0); margin: 10px; font-weight: 600;}\n",
       ".c3table .head_cell {background: rgba(161, 195, 209, 0.75); font-weight: bold; text-align: center;}\n",
       ".c3table caption {color: rgb(250, 250, 250); background: rgba(30, 140, 200, 1); padding: 3px; white-space: nowrap; caption-side: top;}\n",
       ".c3table .cell_title {font-weight: bold;}\n",
       ".c3col_left { text-align: left !important; display: block;}\n",
       ".c3col_right { text-align: right !important; display: block;}\n",
       ".c3col_center { text-align: center !important; display: block;}\n",
       "</style>\n",
       "\n",
       "<table>\n",
       "\n",
       "<thead class=\"head_cell\">\n",
       "<th>a</th><th>b</th>\n",
       "</thead>\n",
       "<tbody>\n",
       "<tr><td><span class=\"c3col_right\">0</span></td><td><span class=\"c3col_left\">a</span></td></tr>\n",
       "<tr><td><span class=\"c3col_right\">3</span></td><td><span class=\"c3col_left\">c</span></td></tr>\n",
       "</tbody>\n",
       "</table>\n",
       "<p>\n",
       "2 rows x 2 columns</p>\n",
       "</div>"
      ],
      "text/plain": [
       "======\n",
       "a    b\n",
       "------\n",
       "0    a\n",
       "3    c\n",
       "------\n",
       "\n",
       "2 rows x 2 columns"
      ]
     },
     "execution_count": 20,
     "metadata": {},
     "output_type": "execute_result"
    }
   ],
   "source": [
    "from cogent3 import make_table\n",
    "\n",
    "data = dict(a=[0, 3], b=[\"a\", \"c\"])\n",
    "table = make_table(data=data)\n",
    "table"
   ]
  },
  {
   "cell_type": "code",
   "execution_count": 21,
   "id": "impossible-station",
   "metadata": {
    "execution": {
     "iopub.execute_input": "2021-09-30T04:31:40.590854Z",
     "iopub.status.busy": "2021-09-30T04:31:40.590254Z",
     "iopub.status.idle": "2021-09-30T04:31:40.592566Z",
     "shell.execute_reply": "2021-09-30T04:31:40.593157Z"
    }
   },
   "outputs": [
    {
     "data": {
      "text/html": [
       "\n",
       "<div class=\"c3table\">\n",
       "\n",
       "<style>\n",
       ".c3table table {margin: 10px 0;}\n",
       ".c3table tr:last-child {border-bottom: 1px solid #000;} \n",
       ".c3table tr > th {text-align: left; padding: 0 5px;}\n",
       ".c3table tr > td {text-align: left; padding: 5px;}\n",
       ".c3table tr:nth-child(even) {background: #f7f7f7 !important;}\n",
       ".c3table .ellipsis {background: rgba(0, 0, 0, .01);}\n",
       ".c3table .index {background: rgba(161, 195, 209, 0.0); margin: 10px; font-weight: 600;}\n",
       ".c3table .head_cell {background: rgba(161, 195, 209, 0.75); font-weight: bold; text-align: center;}\n",
       ".c3table caption {color: rgb(250, 250, 250); background: rgba(30, 140, 200, 1); padding: 3px; white-space: nowrap; caption-side: top;}\n",
       ".c3table .cell_title {font-weight: bold;}\n",
       ".c3col_left { text-align: left !important; display: block;}\n",
       ".c3col_right { text-align: right !important; display: block;}\n",
       ".c3col_center { text-align: center !important; display: block;}\n",
       "</style>\n",
       "\n",
       "<table>\n",
       "\n",
       "<thead class=\"head_cell\">\n",
       "<th>edge.parent</th><th>x</th><th>length</th>\n",
       "</thead>\n",
       "<tbody>\n",
       "<tr><td><span class=\"c3col_left\">root</span></td><td><span class=\"c3col_right\">1.0000</span></td><td><span class=\"c3col_right\">4.0000</span></td></tr>\n",
       "<tr><td><span class=\"c3col_left\">root</span></td><td><span class=\"c3col_right\">1.0000</span></td><td><span class=\"c3col_right\">4.0000</span></td></tr>\n",
       "<tr><td><span class=\"c3col_left\">root</span></td><td><span class=\"c3col_right\">1.0000</span></td><td><span class=\"c3col_right\">4.0000</span></td></tr>\n",
       "<tr><td><span class=\"c3col_left\">edge.0</span></td><td><span class=\"c3col_right\">1.0000</span></td><td><span class=\"c3col_right\">4.0000</span></td></tr>\n",
       "</tbody>\n",
       "</table>\n",
       "<p>\n",
       "4 rows x 3 columns</p>\n",
       "</div>"
      ],
      "text/plain": [
       "===============================\n",
       "edge.parent         x    length\n",
       "-------------------------------\n",
       "root           1.0000    4.0000\n",
       "root           1.0000    4.0000\n",
       "root           1.0000    4.0000\n",
       "edge.0         1.0000    4.0000\n",
       "-------------------------------\n",
       "\n",
       "4 rows x 3 columns"
      ]
     },
     "execution_count": 21,
     "metadata": {},
     "output_type": "execute_result"
    }
   ],
   "source": [
    "from cogent3 import make_table\n",
    "\n",
    "d2D = {\n",
    "    \"edge.parent\": {\n",
    "        \"NineBande\": \"root\",\n",
    "        \"edge.1\": \"root\",\n",
    "        \"DogFaced\": \"root\",\n",
    "        \"Human\": \"edge.0\",\n",
    "    },\n",
    "    \"x\": {\n",
    "        \"NineBande\": 1.0,\n",
    "        \"edge.1\": 1.0,\n",
    "        \"DogFaced\": 1.0,\n",
    "        \"Human\": 1.0,\n",
    "    },\n",
    "    \"length\": {\n",
    "        \"NineBande\": 4.0,\n",
    "        \"edge.1\": 4.0,\n",
    "        \"DogFaced\": 4.0,\n",
    "        \"Human\": 4.0,\n",
    "    },\n",
    "}\n",
    "table = make_table(\n",
    "    data=d2D,\n",
    ")\n",
    "table"
   ]
  },
  {
   "cell_type": "code",
   "execution_count": 22,
   "id": "accepted-director",
   "metadata": {
    "execution": {
     "iopub.execute_input": "2021-09-30T04:31:40.597365Z",
     "iopub.status.busy": "2021-09-30T04:31:40.596771Z",
     "iopub.status.idle": "2021-09-30T04:31:40.599054Z",
     "shell.execute_reply": "2021-09-30T04:31:40.599506Z"
    }
   },
   "outputs": [
    {
     "data": {
      "text/html": [
       "\n",
       "<div class=\"c3table\">\n",
       "\n",
       "<style>\n",
       ".c3table table {margin: 10px 0;}\n",
       ".c3table tr:last-child {border-bottom: 1px solid #000;} \n",
       ".c3table tr > th {text-align: left; padding: 0 5px;}\n",
       ".c3table tr > td {text-align: left; padding: 5px;}\n",
       ".c3table tr:nth-child(even) {background: #f7f7f7 !important;}\n",
       ".c3table .ellipsis {background: rgba(0, 0, 0, .01);}\n",
       ".c3table .index {background: rgba(161, 195, 209, 0.0); margin: 10px; font-weight: 600;}\n",
       ".c3table .head_cell {background: rgba(161, 195, 209, 0.75); font-weight: bold; text-align: center;}\n",
       ".c3table caption {color: rgb(250, 250, 250); background: rgba(30, 140, 200, 1); padding: 3px; white-space: nowrap; caption-side: top;}\n",
       ".c3table .cell_title {font-weight: bold;}\n",
       ".c3col_left { text-align: left !important; display: block;}\n",
       ".c3col_right { text-align: right !important; display: block;}\n",
       ".c3col_center { text-align: center !important; display: block;}\n",
       "</style>\n",
       "\n",
       "<table>\n",
       "\n",
       "<thead class=\"head_cell\">\n",
       "<th>abcd</th><th>data</th>\n",
       "</thead>\n",
       "<tbody>\n",
       "<tr><td><span class=\"c3col_left\">range(1, 6)</span></td><td><span class=\"c3col_left\">0</span></td></tr>\n",
       "<tr><td><span class=\"c3col_left\">x</span></td><td><span class=\"c3col_left\">5.0</span></td></tr>\n",
       "<tr><td><span class=\"c3col_left\">y</span></td><td><span class=\"c3col_left\">None</span></td></tr>\n",
       "</tbody>\n",
       "</table>\n",
       "<p>\n",
       "3 rows x 2 columns</p>\n",
       "</div>"
      ],
      "text/plain": [
       "===================\n",
       "abcd           data\n",
       "-------------------\n",
       "range(1, 6)    0   \n",
       "x              5.0 \n",
       "y              None\n",
       "-------------------\n",
       "\n",
       "3 rows x 2 columns"
      ]
     },
     "execution_count": 22,
     "metadata": {},
     "output_type": "execute_result"
    }
   ],
   "source": [
    "from cogent3 import make_table\n",
    "\n",
    "table = make_table(\n",
    "    header=[\"abcd\", \"data\"],\n",
    "    data=[[range(1, 6), \"0\"], [\"x\", 5.0], [\"y\", None]],\n",
    "    missing_data=\"*\",\n",
    "    digits=1,\n",
    ")\n",
    "table"
   ]
  },
  {
   "cell_type": "code",
   "execution_count": 23,
   "id": "following-facility",
   "metadata": {
    "execution": {
     "iopub.execute_input": "2021-09-30T04:31:40.602581Z",
     "iopub.status.busy": "2021-09-30T04:31:40.602015Z",
     "iopub.status.idle": "2021-09-30T04:31:40.604286Z",
     "shell.execute_reply": "2021-09-30T04:31:40.604668Z"
    }
   },
   "outputs": [
    {
     "data": {
      "text/html": [
       "<p>\n",
       "0 rows x 0 columns</p>"
      ],
      "text/plain": [
       "0 rows x 0 columns"
      ]
     },
     "execution_count": 23,
     "metadata": {},
     "output_type": "execute_result"
    }
   ],
   "source": [
    "from cogent3 import make_table\n",
    "\n",
    "table = make_table()\n",
    "table"
   ]
  }
 ],
 "metadata": {
  "kernelspec": {
   "display_name": "Python 3",
   "language": "python",
   "name": "python3"
  },
  "language_info": {
   "codemirror_mode": {
    "name": "ipython",
    "version": 3
   },
   "file_extension": ".py",
   "mimetype": "text/x-python",
   "name": "python",
   "nbconvert_exporter": "python",
   "pygments_lexer": "ipython3",
   "version": "3.9.0"
  }
 },
 "nbformat": 4,
 "nbformat_minor": 5
}