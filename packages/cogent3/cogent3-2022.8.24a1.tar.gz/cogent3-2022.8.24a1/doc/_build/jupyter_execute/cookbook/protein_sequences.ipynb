{
 "cells": [
  {
   "cell_type": "code",
   "execution_count": 1,
   "id": "unauthorized-surge",
   "metadata": {
    "execution": {
     "iopub.execute_input": "2021-09-30T04:31:44.137726Z",
     "iopub.status.busy": "2021-09-30T04:31:44.137060Z",
     "iopub.status.idle": "2021-09-30T04:31:44.405618Z",
     "shell.execute_reply": "2021-09-30T04:31:44.406032Z"
    }
   },
   "outputs": [],
   "source": [
    "import set_working_directory"
   ]
  },
  {
   "cell_type": "code",
   "execution_count": 2,
   "id": "administrative-packing",
   "metadata": {
    "execution": {
     "iopub.execute_input": "2021-09-30T04:31:44.409746Z",
     "iopub.status.busy": "2021-09-30T04:31:44.409095Z",
     "iopub.status.idle": "2021-09-30T04:31:44.998887Z",
     "shell.execute_reply": "2021-09-30T04:31:44.999305Z"
    }
   },
   "outputs": [
    {
     "data": {
      "text/plain": [
       "'THISISAPRQTEIN'"
      ]
     },
     "execution_count": 2,
     "metadata": {},
     "output_type": "execute_result"
    }
   ],
   "source": [
    "from cogent3 import PROTEIN\n",
    "\n",
    "p = PROTEIN.make_seq(\"THISISAPRQTEIN\", \"myProtein\")\n",
    "type(p)\n",
    "str(p)"
   ]
  },
  {
   "cell_type": "code",
   "execution_count": 3,
   "id": "lasting-devon",
   "metadata": {
    "execution": {
     "iopub.execute_input": "2021-09-30T04:31:45.003330Z",
     "iopub.status.busy": "2021-09-30T04:31:45.002660Z",
     "iopub.status.idle": "2021-09-30T04:31:45.005615Z",
     "shell.execute_reply": "2021-09-30T04:31:45.006043Z"
    }
   },
   "outputs": [
    {
     "data": {
      "text/plain": [
       "'FAN'"
      ]
     },
     "execution_count": 3,
     "metadata": {},
     "output_type": "execute_result"
    }
   ],
   "source": [
    "from cogent3.core.genetic_code import DEFAULT as standard_code\n",
    "\n",
    "standard_code.translate(\"TTTGCAAAC\")"
   ]
  },
  {
   "cell_type": "code",
   "execution_count": 4,
   "id": "cooked-expansion",
   "metadata": {
    "execution": {
     "iopub.execute_input": "2021-09-30T04:31:45.009846Z",
     "iopub.status.busy": "2021-09-30T04:31:45.008994Z",
     "iopub.status.idle": "2021-09-30T04:31:45.012363Z",
     "shell.execute_reply": "2021-09-30T04:31:45.012746Z"
    }
   },
   "outputs": [],
   "source": [
    "from cogent3 import load_aligned_seqs\n",
    "\n",
    "seq = load_aligned_seqs(\"data/abglobin_aa.phylip\", moltype=\"protein\")"
   ]
  }
 ],
 "metadata": {
  "kernelspec": {
   "display_name": "Python 3",
   "language": "python",
   "name": "python3"
  },
  "language_info": {
   "codemirror_mode": {
    "name": "ipython",
    "version": 3
   },
   "file_extension": ".py",
   "mimetype": "text/x-python",
   "name": "python",
   "nbconvert_exporter": "python",
   "pygments_lexer": "ipython3",
   "version": "3.9.0"
  }
 },
 "nbformat": 4,
 "nbformat_minor": 5
}