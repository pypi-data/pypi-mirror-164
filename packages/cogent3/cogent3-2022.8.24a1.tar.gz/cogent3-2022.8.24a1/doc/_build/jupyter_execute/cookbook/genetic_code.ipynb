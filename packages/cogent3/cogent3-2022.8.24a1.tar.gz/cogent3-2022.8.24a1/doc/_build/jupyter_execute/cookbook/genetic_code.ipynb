{
 "cells": [
  {
   "cell_type": "code",
   "execution_count": 1,
   "id": "adapted-defeat",
   "metadata": {
    "execution": {
     "iopub.execute_input": "2021-09-30T04:31:33.260988Z",
     "iopub.status.busy": "2021-09-30T04:31:33.260263Z",
     "iopub.status.idle": "2021-09-30T04:31:33.849221Z",
     "shell.execute_reply": "2021-09-30T04:31:33.849673Z"
    }
   },
   "outputs": [
    {
     "data": {
      "text/plain": [
       "'FAN'"
      ]
     },
     "execution_count": 1,
     "metadata": {},
     "output_type": "execute_result"
    }
   ],
   "source": [
    "from cogent3 import get_code\n",
    "\n",
    "standard_code = get_code(1)\n",
    "standard_code.translate(\"TTTGCAAAC\")"
   ]
  },
  {
   "cell_type": "code",
   "execution_count": 2,
   "id": "judicial-prisoner",
   "metadata": {
    "execution": {
     "iopub.execute_input": "2021-09-30T04:31:33.854139Z",
     "iopub.status.busy": "2021-09-30T04:31:33.853499Z",
     "iopub.status.idle": "2021-09-30T04:31:33.856315Z",
     "shell.execute_reply": "2021-09-30T04:31:33.856888Z"
    }
   },
   "outputs": [
    {
     "name": "stdout",
     "output_type": "stream",
     "text": [
      "['MLT*', 'C*HK', 'ANI', 'FMLA', 'LC*H', 'YVS']\n"
     ]
    }
   ],
   "source": [
    "from cogent3 import make_seq, get_code\n",
    "\n",
    "standard_code = get_code(1)\n",
    "seq = make_seq(\"ATGCTAACATAAA\", moltype=\"dna\")\n",
    "translations = standard_code.sixframes(seq)\n",
    "print(translations)"
   ]
  },
  {
   "cell_type": "code",
   "execution_count": 3,
   "id": "encouraging-senegal",
   "metadata": {
    "execution": {
     "iopub.execute_input": "2021-09-30T04:31:33.861452Z",
     "iopub.status.busy": "2021-09-30T04:31:33.860569Z",
     "iopub.status.idle": "2021-09-30T04:31:33.864090Z",
     "shell.execute_reply": "2021-09-30T04:31:33.864476Z"
    }
   },
   "outputs": [
    {
     "data": {
      "text/html": [
       "<style>\n",
       ".c3seq td { border: none !important; text-align: left !important; }\n",
       ".c3seq tr:not(.num_row) td span {margin: 0 2px;}\n",
       ".c3seq tr:nth-child(even) {background: #f7f7f7;}\n",
       ".c3seq .num_row {background-color:rgba(161, 195, 209, 0.5) !important; border-top: solid 1px black; }\n",
       ".c3seq .label { font-size: 12pt ; text-align: right !important; color: black !important; padding: 0 4px; }\n",
       ".c3seq .T_dna{font-family: \"Lucida Console\",monospace !important; font-size: 12pt !important; color: blue; }\n",
       ".c3seq .C_dna{font-family: \"Lucida Console\",monospace !important; font-size: 12pt !important; color: black; }\n",
       ".c3seq .A_dna{font-family: \"Lucida Console\",monospace !important; font-size: 12pt !important; color: #FF0102; }\n",
       ".c3seq .G_dna{font-family: \"Lucida Console\",monospace !important; font-size: 12pt !important; color: green; }\n",
       ".c3seq .terminal_ambig_dna{font-family: \"Lucida Console\",monospace !important; font-size: 12pt !important; color: gray; }\n",
       ".c3seq .ambig_dna{font-family: \"Lucida Console\",monospace !important; font-size: 12pt !important; color: gray; }\n",
       "</style>\n",
       "<div class=\"c3seq\">\n",
       "<table>\n",
       "<tr class=\"num_row\"><td></td><td><b>0</b></td></tr>\n",
       "<tr><td class=\"label\">None</td><td><span class=\"T_dna\">T</span><span class=\"A_dna\">A</span><span class=\"A_dna\">A</span></td></tr>\n",
       "</table>\n",
       "<p><i>3 DnaSequence</i></p>\n",
       "</div>"
      ],
      "text/plain": [
       "DnaSequence(TAA)"
      ]
     },
     "execution_count": 3,
     "metadata": {},
     "output_type": "execute_result"
    }
   ],
   "source": [
    "from cogent3 import make_seq, get_code\n",
    "\n",
    "standard_code = get_code(1)\n",
    "seq = make_seq(\"ATGCTAACATAAA\", moltype=\"dna\")\n",
    "stops_frame1 = standard_code.get_stop_indices(seq, start=0)\n",
    "stops_frame1\n",
    "stop_index = stops_frame1[0]\n",
    "seq[stop_index : stop_index + 3]"
   ]
  },
  {
   "cell_type": "code",
   "execution_count": 4,
   "id": "fundamental-armor",
   "metadata": {
    "execution": {
     "iopub.execute_input": "2021-09-30T04:31:33.867652Z",
     "iopub.status.busy": "2021-09-30T04:31:33.867083Z",
     "iopub.status.idle": "2021-09-30T04:31:33.869653Z",
     "shell.execute_reply": "2021-09-30T04:31:33.870017Z"
    }
   },
   "outputs": [
    {
     "data": {
      "text/plain": [
       "'F'"
      ]
     },
     "execution_count": 4,
     "metadata": {},
     "output_type": "execute_result"
    }
   ],
   "source": [
    "from cogent3 import make_seq, get_code\n",
    "\n",
    "standard_code = get_code(1)\n",
    "standard_code[\"TTT\"]"
   ]
  },
  {
   "cell_type": "code",
   "execution_count": 5,
   "id": "furnished-eleven",
   "metadata": {
    "execution": {
     "iopub.execute_input": "2021-09-30T04:31:33.873726Z",
     "iopub.status.busy": "2021-09-30T04:31:33.872885Z",
     "iopub.status.idle": "2021-09-30T04:31:33.875514Z",
     "shell.execute_reply": "2021-09-30T04:31:33.875904Z"
    }
   },
   "outputs": [
    {
     "data": {
      "text/plain": [
       "['GCT', 'GCC', 'GCA', 'GCG']"
      ]
     },
     "execution_count": 5,
     "metadata": {},
     "output_type": "execute_result"
    }
   ],
   "source": [
    "standard_code[\"A\"]"
   ]
  },
  {
   "cell_type": "code",
   "execution_count": 6,
   "id": "formal-individual",
   "metadata": {
    "execution": {
     "iopub.execute_input": "2021-09-30T04:31:33.879514Z",
     "iopub.status.busy": "2021-09-30T04:31:33.878722Z",
     "iopub.status.idle": "2021-09-30T04:31:33.881455Z",
     "shell.execute_reply": "2021-09-30T04:31:33.881789Z"
    }
   },
   "outputs": [
    {
     "data": {
      "text/plain": [
       "'F'"
      ]
     },
     "execution_count": 6,
     "metadata": {},
     "output_type": "execute_result"
    }
   ],
   "source": [
    "from cogent3 import get_code\n",
    "\n",
    "standard_code = get_code(1)\n",
    "standard_code[\"TTT\"]"
   ]
  },
  {
   "cell_type": "code",
   "execution_count": 7,
   "id": "spread-sperm",
   "metadata": {
    "execution": {
     "iopub.execute_input": "2021-09-30T04:31:33.884999Z",
     "iopub.status.busy": "2021-09-30T04:31:33.884453Z",
     "iopub.status.idle": "2021-09-30T04:31:33.886522Z",
     "shell.execute_reply": "2021-09-30T04:31:33.886906Z"
    }
   },
   "outputs": [
    {
     "data": {
      "text/plain": [
       "['GCT', 'GCC', 'GCA', 'GCG']"
      ]
     },
     "execution_count": 7,
     "metadata": {},
     "output_type": "execute_result"
    }
   ],
   "source": [
    "from cogent3 import get_code\n",
    "\n",
    "standard_code = get_code(1)\n",
    "standard_code[\"A\"]"
   ]
  },
  {
   "cell_type": "code",
   "execution_count": 8,
   "id": "juvenile-latex",
   "metadata": {
    "execution": {
     "iopub.execute_input": "2021-09-30T04:31:33.890371Z",
     "iopub.status.busy": "2021-09-30T04:31:33.889762Z",
     "iopub.status.idle": "2021-09-30T04:31:33.891939Z",
     "shell.execute_reply": "2021-09-30T04:31:33.892326Z"
    }
   },
   "outputs": [
    {
     "data": {
      "text/plain": [
       "['GCT', 'GCC', 'GCA', 'GCG', 'TGT', 'TGC']"
      ]
     },
     "execution_count": 8,
     "metadata": {},
     "output_type": "execute_result"
    }
   ],
   "source": [
    "targets = [\"A\", \"C\"]\n",
    "codons = [standard_code[aa] for aa in targets]\n",
    "codons\n",
    "flat_list = sum(codons, [])\n",
    "flat_list"
   ]
  },
  {
   "cell_type": "code",
   "execution_count": 9,
   "id": "restricted-analysis",
   "metadata": {
    "execution": {
     "iopub.execute_input": "2021-09-30T04:31:33.895852Z",
     "iopub.status.busy": "2021-09-30T04:31:33.895294Z",
     "iopub.status.idle": "2021-09-30T04:31:33.897308Z",
     "shell.execute_reply": "2021-09-30T04:31:33.897652Z"
    }
   },
   "outputs": [
    {
     "data": {
      "text/plain": [
       "61"
      ]
     },
     "execution_count": 9,
     "metadata": {},
     "output_type": "execute_result"
    }
   ],
   "source": [
    "from cogent3 import make_seq\n",
    "\n",
    "my_seq = make_seq(\"AGTACACTGGTT\", moltype=\"dna\")\n",
    "sorted(my_seq.codon_alphabet())\n",
    "len(my_seq.codon_alphabet())"
   ]
  },
  {
   "cell_type": "code",
   "execution_count": 10,
   "id": "physical-rover",
   "metadata": {
    "execution": {
     "iopub.execute_input": "2021-09-30T04:31:33.900990Z",
     "iopub.status.busy": "2021-09-30T04:31:33.900414Z",
     "iopub.status.idle": "2021-09-30T04:31:33.902404Z",
     "shell.execute_reply": "2021-09-30T04:31:33.902790Z"
    }
   },
   "outputs": [
    {
     "name": "stdout",
     "output_type": "stream",
     "text": [
      "['ATG', 'CAC', 'TGG', 'TAA']\n"
     ]
    }
   ],
   "source": [
    "from cogent3 import make_seq\n",
    "\n",
    "my_seq = make_seq(\"ATGCACTGGTAA\", name=\"my_gene\", moltype=\"dna\")\n",
    "codons = my_seq.get_in_motif_size(3)\n",
    "print(codons)"
   ]
  },
  {
   "cell_type": "code",
   "execution_count": 11,
   "id": "distinct-residence",
   "metadata": {
    "execution": {
     "iopub.execute_input": "2021-09-30T04:31:33.906472Z",
     "iopub.status.busy": "2021-09-30T04:31:33.905829Z",
     "iopub.status.idle": "2021-09-30T04:31:34.053930Z",
     "shell.execute_reply": "2021-09-30T04:31:34.054285Z"
    }
   },
   "outputs": [
    {
     "ename": "AlphabetError",
     "evalue": "TAA",
     "output_type": "error",
     "traceback": [
      "\u001b[0;31m---------------------------------------------------------------------------\u001b[0m",
      "\u001b[0;31mAlphabetError\u001b[0m                             Traceback (most recent call last)",
      "\u001b[0;32m<ipython-input-11-78926fb55d34>\u001b[0m in \u001b[0;36m<module>\u001b[0;34m\u001b[0m\n\u001b[0;32m----> 1\u001b[0;31m \u001b[0mpep\u001b[0m \u001b[0;34m=\u001b[0m \u001b[0mmy_seq\u001b[0m\u001b[0;34m.\u001b[0m\u001b[0mget_translation\u001b[0m\u001b[0;34m(\u001b[0m\u001b[0;34m)\u001b[0m\u001b[0;34m\u001b[0m\u001b[0;34m\u001b[0m\u001b[0m\n\u001b[0m",
      "\u001b[0;32m~/repos/Cogent3/src/cogent3/core/sequence.py\u001b[0m in \u001b[0;36mget_translation\u001b[0;34m(self, gc, incomplete_ok)\u001b[0m\n\u001b[1;32m   1298\u001b[0m             \u001b[0morig_codon\u001b[0m \u001b[0;34m=\u001b[0m \u001b[0mself\u001b[0m\u001b[0;34m.\u001b[0m\u001b[0m_seq\u001b[0m\u001b[0;34m[\u001b[0m\u001b[0mposn\u001b[0m \u001b[0;34m:\u001b[0m \u001b[0mposn\u001b[0m \u001b[0;34m+\u001b[0m \u001b[0;36m3\u001b[0m\u001b[0;34m]\u001b[0m\u001b[0;34m\u001b[0m\u001b[0;34m\u001b[0m\u001b[0m\n\u001b[1;32m   1299\u001b[0m             \u001b[0;32mtry\u001b[0m\u001b[0;34m:\u001b[0m\u001b[0;34m\u001b[0m\u001b[0;34m\u001b[0m\u001b[0m\n\u001b[0;32m-> 1300\u001b[0;31m                 \u001b[0mresolved\u001b[0m \u001b[0;34m=\u001b[0m \u001b[0mcodon_alphabet\u001b[0m\u001b[0;34m.\u001b[0m\u001b[0mresolve_ambiguity\u001b[0m\u001b[0;34m(\u001b[0m\u001b[0morig_codon\u001b[0m\u001b[0;34m)\u001b[0m\u001b[0;34m\u001b[0m\u001b[0;34m\u001b[0m\u001b[0m\n\u001b[0m\u001b[1;32m   1301\u001b[0m             \u001b[0;32mexcept\u001b[0m \u001b[0mAlphabetError\u001b[0m\u001b[0;34m:\u001b[0m\u001b[0;34m\u001b[0m\u001b[0;34m\u001b[0m\u001b[0m\n\u001b[1;32m   1302\u001b[0m                 \u001b[0;32mif\u001b[0m \u001b[0;32mnot\u001b[0m \u001b[0mincomplete_ok\u001b[0m \u001b[0;32mor\u001b[0m \u001b[0;34m\"-\"\u001b[0m \u001b[0;32mnot\u001b[0m \u001b[0;32min\u001b[0m \u001b[0morig_codon\u001b[0m\u001b[0;34m:\u001b[0m\u001b[0;34m\u001b[0m\u001b[0;34m\u001b[0m\u001b[0m\n",
      "\u001b[0;32m~/repos/Cogent3/src/cogent3/core/alphabet.py\u001b[0m in \u001b[0;36mresolve_ambiguity\u001b[0;34m(self, ambig_motif)\u001b[0m\n\u001b[1;32m    721\u001b[0m \u001b[0;34m\u001b[0m\u001b[0m\n\u001b[1;32m    722\u001b[0m         \u001b[0;32mif\u001b[0m \u001b[0;32mnot\u001b[0m \u001b[0mmotif_set\u001b[0m\u001b[0;34m:\u001b[0m\u001b[0;34m\u001b[0m\u001b[0;34m\u001b[0m\u001b[0m\n\u001b[0;32m--> 723\u001b[0;31m             \u001b[0;32mraise\u001b[0m \u001b[0mAlphabetError\u001b[0m\u001b[0;34m(\u001b[0m\u001b[0mambig_motif\u001b[0m\u001b[0;34m)\u001b[0m\u001b[0;34m\u001b[0m\u001b[0;34m\u001b[0m\u001b[0m\n\u001b[0m\u001b[1;32m    724\u001b[0m \u001b[0;34m\u001b[0m\u001b[0m\n\u001b[1;32m    725\u001b[0m         \u001b[0;32mreturn\u001b[0m \u001b[0mtuple\u001b[0m\u001b[0;34m(\u001b[0m\u001b[0mmotif_set\u001b[0m\u001b[0;34m)\u001b[0m\u001b[0;34m\u001b[0m\u001b[0;34m\u001b[0m\u001b[0m\n",
      "\u001b[0;31mAlphabetError\u001b[0m: TAA"
     ]
    }
   ],
   "source": [
    "pep = my_seq.get_translation()"
   ]
  },
  {
   "cell_type": "code",
   "execution_count": 12,
   "id": "cellular-treasurer",
   "metadata": {
    "execution": {
     "iopub.execute_input": "2021-09-30T04:31:34.058677Z",
     "iopub.status.busy": "2021-09-30T04:31:34.058115Z",
     "iopub.status.idle": "2021-09-30T04:31:34.060512Z",
     "shell.execute_reply": "2021-09-30T04:31:34.060867Z"
    }
   },
   "outputs": [
    {
     "name": "stdout",
     "output_type": "stream",
     "text": [
      ">my_gene\n",
      "MHW\n",
      "\n",
      "<class 'cogent3.core.sequence.ProteinSequence'>\n"
     ]
    }
   ],
   "source": [
    "from cogent3 import make_seq\n",
    "\n",
    "my_seq = make_seq(\"ATGCACTGGTAA\", name=\"my_gene\", moltype=\"dna\")\n",
    "seq = my_seq.trim_stop_codon()\n",
    "pep = seq.get_translation()\n",
    "print(pep.to_fasta())\n",
    "print(type(pep))"
   ]
  },
  {
   "cell_type": "code",
   "execution_count": 13,
   "id": "simple-mountain",
   "metadata": {
    "execution": {
     "iopub.execute_input": "2021-09-30T04:31:34.064653Z",
     "iopub.status.busy": "2021-09-30T04:31:34.063980Z",
     "iopub.status.idle": "2021-09-30T04:31:34.066938Z",
     "shell.execute_reply": "2021-09-30T04:31:34.066564Z"
    }
   },
   "outputs": [
    {
     "name": "stdout",
     "output_type": "stream",
     "text": [
      ">my_gene\n",
      "QMY\n",
      "\n"
     ]
    }
   ],
   "source": [
    "from cogent3 import make_seq\n",
    "\n",
    "my_seq = make_seq(\"CAAATGTATTAA\", name=\"my_gene\", moltype=\"dna\")\n",
    "pep = my_seq[:-3].get_translation()\n",
    "print(pep.to_fasta())"
   ]
  }
 ],
 "metadata": {
  "kernelspec": {
   "display_name": "Python 3",
   "language": "python",
   "name": "python3"
  },
  "language_info": {
   "codemirror_mode": {
    "name": "ipython",
    "version": 3
   },
   "file_extension": ".py",
   "mimetype": "text/x-python",
   "name": "python",
   "nbconvert_exporter": "python",
   "pygments_lexer": "ipython3",
   "version": "3.9.0"
  }
 },
 "nbformat": 4,
 "nbformat_minor": 5
}