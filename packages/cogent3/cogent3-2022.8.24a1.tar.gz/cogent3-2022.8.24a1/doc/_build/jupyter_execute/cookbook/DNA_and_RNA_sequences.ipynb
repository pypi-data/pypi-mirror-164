{
 "cells": [
  {
   "cell_type": "code",
   "execution_count": 1,
   "id": "stretch-cause",
   "metadata": {
    "execution": {
     "iopub.execute_input": "2021-09-30T04:31:00.454813Z",
     "iopub.status.busy": "2021-09-30T04:31:00.454047Z",
     "iopub.status.idle": "2021-09-30T04:31:01.057475Z",
     "shell.execute_reply": "2021-09-30T04:31:01.057835Z"
    }
   },
   "outputs": [
    {
     "name": "stdout",
     "output_type": "stream",
     "text": [
      "AGTACACTGGT\n"
     ]
    },
    {
     "data": {
      "text/plain": [
       "'AGTACACTGGT'"
      ]
     },
     "execution_count": 1,
     "metadata": {},
     "output_type": "execute_result"
    }
   ],
   "source": [
    "from cogent3 import DNA\n",
    "\n",
    "my_seq = DNA.make_seq(\"AGTACACTGGT\")\n",
    "my_seq\n",
    "print(my_seq)\n",
    "str(my_seq)"
   ]
  },
  {
   "cell_type": "code",
   "execution_count": 2,
   "id": "future-barcelona",
   "metadata": {
    "execution": {
     "iopub.execute_input": "2021-09-30T04:31:01.061126Z",
     "iopub.status.busy": "2021-09-30T04:31:01.060546Z",
     "iopub.status.idle": "2021-09-30T04:31:01.062200Z",
     "shell.execute_reply": "2021-09-30T04:31:01.062551Z"
    }
   },
   "outputs": [],
   "source": [
    "from cogent3 import RNA\n",
    "\n",
    "rnaseq = RNA.make_seq(\"ACGUACGUACGUACGU\")"
   ]
  },
  {
   "cell_type": "code",
   "execution_count": 3,
   "id": "flexible-logic",
   "metadata": {
    "execution": {
     "iopub.execute_input": "2021-09-30T04:31:01.066151Z",
     "iopub.status.busy": "2021-09-30T04:31:01.065457Z",
     "iopub.status.idle": "2021-09-30T04:31:01.067596Z",
     "shell.execute_reply": "2021-09-30T04:31:01.067964Z"
    }
   },
   "outputs": [
    {
     "name": "stdout",
     "output_type": "stream",
     "text": [
      ">0\n",
      "AGTACACTGGT\n",
      "\n"
     ]
    }
   ],
   "source": [
    "from cogent3 import DNA\n",
    "\n",
    "my_seq = DNA.make_seq(\"AGTACACTGGT\")\n",
    "print(my_seq.to_fasta())"
   ]
  },
  {
   "cell_type": "code",
   "execution_count": 4,
   "id": "three-somewhere",
   "metadata": {
    "execution": {
     "iopub.execute_input": "2021-09-30T04:31:01.071366Z",
     "iopub.status.busy": "2021-09-30T04:31:01.070824Z",
     "iopub.status.idle": "2021-09-30T04:31:01.073024Z",
     "shell.execute_reply": "2021-09-30T04:31:01.073435Z"
    }
   },
   "outputs": [
    {
     "data": {
      "text/plain": [
       "'>0\\nACGUACGUACGUACGU\\n'"
      ]
     },
     "execution_count": 4,
     "metadata": {},
     "output_type": "execute_result"
    }
   ],
   "source": [
    "from cogent3 import RNA\n",
    "\n",
    "rnaseq = RNA.make_seq(\"ACGUACGUACGUACGU\")\n",
    "rnaseq.to_fasta()"
   ]
  },
  {
   "cell_type": "code",
   "execution_count": 5,
   "id": "freelance-airplane",
   "metadata": {
    "execution": {
     "iopub.execute_input": "2021-09-30T04:31:01.077381Z",
     "iopub.status.busy": "2021-09-30T04:31:01.076693Z",
     "iopub.status.idle": "2021-09-30T04:31:01.079126Z",
     "shell.execute_reply": "2021-09-30T04:31:01.079529Z"
    }
   },
   "outputs": [
    {
     "data": {
      "text/plain": [
       "cogent3.core.sequence.DnaSequence"
      ]
     },
     "execution_count": 5,
     "metadata": {},
     "output_type": "execute_result"
    }
   ],
   "source": [
    "from cogent3 import make_seq\n",
    "\n",
    "my_seq = make_seq(\"AGTACACTGGT\", \"my_gene\", moltype=\"dna\")\n",
    "my_seq\n",
    "type(my_seq)"
   ]
  },
  {
   "cell_type": "code",
   "execution_count": 6,
   "id": "south-chess",
   "metadata": {
    "execution": {
     "iopub.execute_input": "2021-09-30T04:31:01.083093Z",
     "iopub.status.busy": "2021-09-30T04:31:01.082493Z",
     "iopub.status.idle": "2021-09-30T04:31:01.085015Z",
     "shell.execute_reply": "2021-09-30T04:31:01.084483Z"
    }
   },
   "outputs": [
    {
     "name": "stdout",
     "output_type": "stream",
     "text": [
      ">my_gene\n",
      "AGTACACTGGT\n",
      "\n"
     ]
    }
   ],
   "source": [
    "from cogent3 import make_seq\n",
    "\n",
    "my_seq = make_seq(\"AGTACACTGGT\", moltype=\"dna\")\n",
    "my_seq.name = \"my_gene\"\n",
    "print(my_seq.to_fasta())"
   ]
  },
  {
   "cell_type": "code",
   "execution_count": 7,
   "id": "hairy-basis",
   "metadata": {
    "execution": {
     "iopub.execute_input": "2021-09-30T04:31:01.088175Z",
     "iopub.status.busy": "2021-09-30T04:31:01.087578Z",
     "iopub.status.idle": "2021-09-30T04:31:01.089681Z",
     "shell.execute_reply": "2021-09-30T04:31:01.090063Z"
    }
   },
   "outputs": [
    {
     "name": "stdout",
     "output_type": "stream",
     "text": [
      "TCATGTGACCA\n"
     ]
    }
   ],
   "source": [
    "from cogent3 import DNA\n",
    "\n",
    "my_seq = DNA.make_seq(\"AGTACACTGGT\")\n",
    "print(my_seq.complement())"
   ]
  },
  {
   "cell_type": "code",
   "execution_count": 8,
   "id": "joined-johns",
   "metadata": {
    "execution": {
     "iopub.execute_input": "2021-09-30T04:31:01.093294Z",
     "iopub.status.busy": "2021-09-30T04:31:01.092727Z",
     "iopub.status.idle": "2021-09-30T04:31:01.094696Z",
     "shell.execute_reply": "2021-09-30T04:31:01.095282Z"
    }
   },
   "outputs": [
    {
     "name": "stdout",
     "output_type": "stream",
     "text": [
      "ACCAGTGTACT\n"
     ]
    }
   ],
   "source": [
    "print(my_seq.rc())"
   ]
  },
  {
   "cell_type": "code",
   "execution_count": 9,
   "id": "interracial-shell",
   "metadata": {
    "execution": {
     "iopub.execute_input": "2021-09-30T04:31:01.098255Z",
     "iopub.status.busy": "2021-09-30T04:31:01.097673Z",
     "iopub.status.idle": "2021-09-30T04:31:01.099484Z",
     "shell.execute_reply": "2021-09-30T04:31:01.100042Z"
    }
   },
   "outputs": [
    {
     "name": "stdout",
     "output_type": "stream",
     "text": [
      "ACCAGTGTACT\n"
     ]
    }
   ],
   "source": [
    "print(my_seq.rc())"
   ]
  },
  {
   "cell_type": "code",
   "execution_count": 10,
   "id": "military-continuity",
   "metadata": {
    "execution": {
     "iopub.execute_input": "2021-09-30T04:31:01.103793Z",
     "iopub.status.busy": "2021-09-30T04:31:01.103226Z",
     "iopub.status.idle": "2021-09-30T04:31:01.105229Z",
     "shell.execute_reply": "2021-09-30T04:31:01.105632Z"
    }
   },
   "outputs": [
    {
     "name": "stdout",
     "output_type": "stream",
     "text": [
      ">protein-X\n",
      "AWESQME\n",
      "\n"
     ]
    }
   ],
   "source": [
    "from cogent3 import DNA\n",
    "\n",
    "my_seq = DNA.make_seq(\"GCTTGGGAAAGTCAAATGGAA\", \"protein-X\")\n",
    "pep = my_seq.get_translation()\n",
    "type(pep)\n",
    "print(pep.to_fasta())"
   ]
  },
  {
   "cell_type": "code",
   "execution_count": 11,
   "id": "attractive-period",
   "metadata": {
    "execution": {
     "iopub.execute_input": "2021-09-30T04:31:01.108790Z",
     "iopub.status.busy": "2021-09-30T04:31:01.108211Z",
     "iopub.status.idle": "2021-09-30T04:31:01.110467Z",
     "shell.execute_reply": "2021-09-30T04:31:01.110909Z"
    }
   },
   "outputs": [
    {
     "name": "stdout",
     "output_type": "stream",
     "text": [
      "ACGUACGUACGUACGU\n"
     ]
    }
   ],
   "source": [
    "from cogent3 import DNA\n",
    "\n",
    "my_seq = DNA.make_seq(\"ACGTACGTACGTACGT\")\n",
    "print(my_seq.to_rna())"
   ]
  },
  {
   "cell_type": "code",
   "execution_count": 12,
   "id": "painful-mirror",
   "metadata": {
    "execution": {
     "iopub.execute_input": "2021-09-30T04:31:01.114794Z",
     "iopub.status.busy": "2021-09-30T04:31:01.114251Z",
     "iopub.status.idle": "2021-09-30T04:31:01.116217Z",
     "shell.execute_reply": "2021-09-30T04:31:01.116661Z"
    }
   },
   "outputs": [
    {
     "name": "stdout",
     "output_type": "stream",
     "text": [
      "ACGTACGTACGTACGT\n"
     ]
    }
   ],
   "source": [
    "from cogent3 import RNA\n",
    "\n",
    "rnaseq = RNA.make_seq(\"ACGUACGUACGUACGU\")\n",
    "print(rnaseq.to_dna())"
   ]
  },
  {
   "cell_type": "code",
   "execution_count": 13,
   "id": "pending-canadian",
   "metadata": {
    "execution": {
     "iopub.execute_input": "2021-09-30T04:31:01.120317Z",
     "iopub.status.busy": "2021-09-30T04:31:01.119759Z",
     "iopub.status.idle": "2021-09-30T04:31:01.121924Z",
     "shell.execute_reply": "2021-09-30T04:31:01.122310Z"
    }
   },
   "outputs": [
    {
     "data": {
      "text/plain": [
       "True"
      ]
     },
     "execution_count": 13,
     "metadata": {},
     "output_type": "execute_result"
    }
   ],
   "source": [
    "from cogent3 import DNA\n",
    "\n",
    "a = DNA.make_seq(\"AGTACACTGGT\")\n",
    "a.can_pair(a.complement())\n",
    "a.can_pair(a.rc())"
   ]
  },
  {
   "cell_type": "code",
   "execution_count": 14,
   "id": "hairy-vienna",
   "metadata": {
    "execution": {
     "iopub.execute_input": "2021-09-30T04:31:01.126398Z",
     "iopub.status.busy": "2021-09-30T04:31:01.125618Z",
     "iopub.status.idle": "2021-09-30T04:31:01.128562Z",
     "shell.execute_reply": "2021-09-30T04:31:01.128956Z"
    }
   },
   "outputs": [
    {
     "data": {
      "text/plain": [
       "'AGTACACTGGTCTGAC'"
      ]
     },
     "execution_count": 14,
     "metadata": {},
     "output_type": "execute_result"
    }
   ],
   "source": [
    "from cogent3 import DNA\n",
    "\n",
    "my_seq = DNA.make_seq(\"AGTACACTGGT\")\n",
    "extra_seq = DNA.make_seq(\"CTGAC\")\n",
    "long_seq = my_seq + extra_seq\n",
    "long_seq\n",
    "str(long_seq)"
   ]
  },
  {
   "cell_type": "code",
   "execution_count": 15,
   "id": "interesting-finish",
   "metadata": {
    "execution": {
     "iopub.execute_input": "2021-09-30T04:31:01.132928Z",
     "iopub.status.busy": "2021-09-30T04:31:01.132248Z",
     "iopub.status.idle": "2021-09-30T04:31:01.134746Z",
     "shell.execute_reply": "2021-09-30T04:31:01.135324Z"
    }
   },
   "outputs": [
    {
     "data": {
      "text/html": [
       "<style>\n",
       ".c3seq td { border: none !important; text-align: left !important; }\n",
       ".c3seq tr:not(.num_row) td span {margin: 0 2px;}\n",
       ".c3seq tr:nth-child(even) {background: #f7f7f7;}\n",
       ".c3seq .num_row {background-color:rgba(161, 195, 209, 0.5) !important; border-top: solid 1px black; }\n",
       ".c3seq .label { font-size: 12pt ; text-align: right !important; color: black !important; padding: 0 4px; }\n",
       ".c3seq .T_dna{font-family: \"Lucida Console\",monospace !important; font-size: 12pt !important; color: blue; }\n",
       ".c3seq .C_dna{font-family: \"Lucida Console\",monospace !important; font-size: 12pt !important; color: black; }\n",
       ".c3seq .A_dna{font-family: \"Lucida Console\",monospace !important; font-size: 12pt !important; color: #FF0102; }\n",
       ".c3seq .G_dna{font-family: \"Lucida Console\",monospace !important; font-size: 12pt !important; color: green; }\n",
       ".c3seq .terminal_ambig_dna{font-family: \"Lucida Console\",monospace !important; font-size: 12pt !important; color: gray; }\n",
       ".c3seq .ambig_dna{font-family: \"Lucida Console\",monospace !important; font-size: 12pt !important; color: gray; }\n",
       "</style>\n",
       "<div class=\"c3seq\">\n",
       "<table>\n",
       "<tr class=\"num_row\"><td></td><td><b>0</b></td></tr>\n",
       "<tr><td class=\"label\">None</td><td><span class=\"G_dna\">G</span><span class=\"T_dna\">T</span><span class=\"A_dna\">A</span><span class=\"C_dna\">C</span><span class=\"A_dna\">A</span></td></tr>\n",
       "</table>\n",
       "<p><i>5 DnaSequence</i></p>\n",
       "</div>"
      ],
      "text/plain": [
       "DnaSequence(GTACA)"
      ]
     },
     "execution_count": 15,
     "metadata": {},
     "output_type": "execute_result"
    }
   ],
   "source": [
    "my_seq[1:6]"
   ]
  },
  {
   "cell_type": "code",
   "execution_count": 16,
   "id": "sapphire-mambo",
   "metadata": {
    "execution": {
     "iopub.execute_input": "2021-09-30T04:31:01.138656Z",
     "iopub.status.busy": "2021-09-30T04:31:01.138117Z",
     "iopub.status.idle": "2021-09-30T04:31:01.139964Z",
     "shell.execute_reply": "2021-09-30T04:31:01.140599Z"
    }
   },
   "outputs": [],
   "source": [
    "from cogent3 import DNA\n",
    "\n",
    "seq = DNA.make_array_seq(\"ATGATGATGATG\")\n",
    "pos3 = seq[2::3]\n",
    "assert str(pos3) == \"GGGG\""
   ]
  },
  {
   "cell_type": "code",
   "execution_count": 17,
   "id": "continental-prairie",
   "metadata": {
    "execution": {
     "iopub.execute_input": "2021-09-30T04:31:01.144615Z",
     "iopub.status.busy": "2021-09-30T04:31:01.144062Z",
     "iopub.status.idle": "2021-09-30T04:31:01.145763Z",
     "shell.execute_reply": "2021-09-30T04:31:01.146133Z"
    }
   },
   "outputs": [],
   "source": [
    "from cogent3 import DNA\n",
    "\n",
    "seq = DNA.make_seq(\"ATGATGATGATG\")\n",
    "indices = [(i, i + 2) for i in range(len(seq))[::3]]\n",
    "pos12 = seq.add_feature(\"pos12\", \"pos12\", indices)\n",
    "pos12 = pos12.get_slice()\n",
    "assert str(pos12) == \"ATATATAT\""
   ]
  },
  {
   "cell_type": "code",
   "execution_count": 18,
   "id": "noble-sacramento",
   "metadata": {
    "execution": {
     "iopub.execute_input": "2021-09-30T04:31:01.149550Z",
     "iopub.status.busy": "2021-09-30T04:31:01.148913Z",
     "iopub.status.idle": "2021-09-30T04:31:01.150935Z",
     "shell.execute_reply": "2021-09-30T04:31:01.151343Z"
    }
   },
   "outputs": [
    {
     "name": "stdout",
     "output_type": "stream",
     "text": [
      "AUUAUGCUAUUAU\n"
     ]
    }
   ],
   "source": [
    "from cogent3 import RNA\n",
    "\n",
    "s = RNA.make_seq(\"--AUUAUGCUAU-UAu--\")\n",
    "print(s.degap())"
   ]
  }
 ],
 "metadata": {
  "kernelspec": {
   "display_name": "Python 3",
   "language": "python",
   "name": "python3"
  },
  "language_info": {
   "codemirror_mode": {
    "name": "ipython",
    "version": 3
   },
   "file_extension": ".py",
   "mimetype": "text/x-python",
   "name": "python",
   "nbconvert_exporter": "python",
   "pygments_lexer": "ipython3",
   "version": "3.9.0"
  }
 },
 "nbformat": 4,
 "nbformat_minor": 5
}