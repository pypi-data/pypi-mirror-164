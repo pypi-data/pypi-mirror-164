{
 "cells": [
  {
   "cell_type": "code",
   "execution_count": 1,
   "id": "future-duplicate",
   "metadata": {
    "execution": {
     "iopub.execute_input": "2021-09-30T04:31:09.681191Z",
     "iopub.status.busy": "2021-09-30T04:31:09.680547Z",
     "iopub.status.idle": "2021-09-30T04:31:09.947993Z",
     "shell.execute_reply": "2021-09-30T04:31:09.948396Z"
    }
   },
   "outputs": [],
   "source": [
    "import set_working_directory"
   ]
  },
  {
   "cell_type": "code",
   "execution_count": 2,
   "id": "ranging-quarterly",
   "metadata": {
    "execution": {
     "iopub.execute_input": "2021-09-30T04:31:09.952150Z",
     "iopub.status.busy": "2021-09-30T04:31:09.951599Z",
     "iopub.status.idle": "2021-09-30T04:31:10.507940Z",
     "shell.execute_reply": "2021-09-30T04:31:10.508373Z"
    }
   },
   "outputs": [
    {
     "name": "stdout",
     "output_type": "stream",
     "text": [
      "AE006468\n"
     ]
    }
   ],
   "source": [
    "from cogent3.parse.genbank import RichGenbankParser\n",
    "\n",
    "parser = RichGenbankParser(open(\"data/ST_genome_part.gb\"))\n",
    "for accession, seq in parser:\n",
    "    print(accession)"
   ]
  },
  {
   "cell_type": "code",
   "execution_count": 3,
   "id": "latest-desperate",
   "metadata": {
    "execution": {
     "iopub.execute_input": "2021-09-30T04:31:10.511941Z",
     "iopub.status.busy": "2021-09-30T04:31:10.511306Z",
     "iopub.status.idle": "2021-09-30T04:31:10.513590Z",
     "shell.execute_reply": "2021-09-30T04:31:10.513984Z"
    }
   },
   "outputs": [
    {
     "name": "stdout",
     "output_type": "stream",
     "text": [
      "[CDS \"thrL\" at [189:255]/10020, CDS \"thrA\" at [336:2799]/10020, CDS \"thrB\" at [2800:3730]/10020, CDS \"thrC\" at [3733:5020]/10020, CDS \"yaaA\" at [5887:5113]/10020, CDS \"yaaJ\" at [7396:5965]/10020, CDS \"talB\" at [7664:8618]/10020, CDS \"mog\" at [8728:9319]/10020, CDS \"yaaH\" at [9942:9375]/10020]\n"
     ]
    }
   ],
   "source": [
    "cds = seq.get_annotations_matching(\"CDS\")\n",
    "print(cds)"
   ]
  },
  {
   "cell_type": "code",
   "execution_count": 4,
   "id": "alike-sheriff",
   "metadata": {
    "execution": {
     "iopub.execute_input": "2021-09-30T04:31:10.518636Z",
     "iopub.status.busy": "2021-09-30T04:31:10.518048Z",
     "iopub.status.idle": "2021-09-30T04:31:10.524028Z",
     "shell.execute_reply": "2021-09-30T04:31:10.524524Z"
    }
   },
   "outputs": [
    {
     "name": "stdout",
     "output_type": "stream",
     "text": [
      "[CDS \"STM0001\" at [189:255]/10020, CDS \"STM0002\" at [336:2799]/10020, CDS \"STM0003\" at [2800:3730]/10020, CDS \"STM0004\" at [3733:5020]/10020, CDS \"STM0005\" at [5887:5113]/10020, CDS \"STM0006\" at [7396:5965]/10020, CDS \"STM0007\" at [7664:8618]/10020, CDS \"STM0008\" at [8728:9319]/10020, CDS \"STM0009\" at [9942:9375]/10020]\n"
     ]
    }
   ],
   "source": [
    "from cogent3.core.annotation import Feature\n",
    "\n",
    "def add_annotation(seq, feature, spans):\n",
    "    type_ = feature[\"type\"]\n",
    "    if type_ != \"CDS\":\n",
    "        return\n",
    "    name = feature.get(\"locus_tag\", None)\n",
    "    if name and not isinstance(name, str):\n",
    "        name = \" \".join(name)\n",
    "    seq.add_annotation(Feature, type_, name, spans)\n",
    "\n",
    "parser = RichGenbankParser(\n",
    "    open(\"data/ST_genome_part.gb\"), add_annotation=add_annotation\n",
    ")\n",
    "for accession, seq in parser:  # just reading one accession,sequence\n",
    "    break\n",
    "genes = seq.get_annotations_matching(\"CDS\")\n",
    "print(genes)"
   ]
  },
  {
   "cell_type": "code",
   "execution_count": 5,
   "id": "southern-worker",
   "metadata": {
    "execution": {
     "iopub.execute_input": "2021-09-30T04:31:10.530067Z",
     "iopub.status.busy": "2021-09-30T04:31:10.529262Z",
     "iopub.status.idle": "2021-09-30T04:31:10.531723Z",
     "shell.execute_reply": "2021-09-30T04:31:10.532092Z"
    }
   },
   "outputs": [
    {
     "name": "stdout",
     "output_type": "stream",
     "text": [
      "CCCCC\n",
      "TTTTTAAAAA\n",
      "CCC\n"
     ]
    }
   ],
   "source": [
    "from cogent3 import DNA\n",
    "from cogent3.core.annotation import Feature\n",
    "\n",
    "s1 = DNA.make_seq(\n",
    "    \"AAGAAGAAGACCCCCAAAAAAAAAA\" \"TTTTTTTTTTAAAAAGGGAACCCT\", name=\"seq1\"\n",
    ")\n",
    "print(s1[10:15])  # this will be exon 1\n",
    "print(s1[30:40])  # this will be exon 2\n",
    "print(s1[45:48])  # this will be exon 3\n",
    "s2 = DNA.make_seq(\"CGAAACGTTT\", name=\"seq2\")\n",
    "s3 = DNA.make_seq(\"CGAAACGTTT\", name=\"seq3\")"
   ]
  },
  {
   "cell_type": "code",
   "execution_count": 6,
   "id": "native-smith",
   "metadata": {
    "execution": {
     "iopub.execute_input": "2021-09-30T04:31:10.535750Z",
     "iopub.status.busy": "2021-09-30T04:31:10.535287Z",
     "iopub.status.idle": "2021-09-30T04:31:10.536883Z",
     "shell.execute_reply": "2021-09-30T04:31:10.537200Z"
    }
   },
   "outputs": [],
   "source": [
    "from cogent3 import DNA\n",
    "from cogent3.core.annotation import Feature\n",
    "\n",
    "s1 = DNA.make_seq(\n",
    "    \"AAGAAGAAGACCCCCAAAAAAAAAA\" \"TTTTTTTTTTAAAAAGGGAACCCT\", name=\"seq1\"\n",
    ")\n",
    "exon1 = s1.add_annotation(Feature, \"exon\", \"A\", [(10, 15)])\n",
    "exon2 = s1.add_annotation(Feature, \"exon\", \"B\", [(30, 40)])"
   ]
  },
  {
   "cell_type": "code",
   "execution_count": 7,
   "id": "organizational-supplement",
   "metadata": {
    "execution": {
     "iopub.execute_input": "2021-09-30T04:31:10.540088Z",
     "iopub.status.busy": "2021-09-30T04:31:10.539597Z",
     "iopub.status.idle": "2021-09-30T04:31:10.541254Z",
     "shell.execute_reply": "2021-09-30T04:31:10.541593Z"
    }
   },
   "outputs": [],
   "source": [
    "from cogent3 import DNA\n",
    "\n",
    "s1 = DNA.make_seq(\n",
    "    \"AAGAAGAAGACCCCCAAAAAAAAAA\" \"TTTTTTTTTTAAAAAGGGAACCCT\", name=\"seq1\"\n",
    ")\n",
    "exon3 = s1.add_feature(\"exon\", \"C\", [(45, 48)])"
   ]
  },
  {
   "cell_type": "code",
   "execution_count": 8,
   "id": "fatty-intensity",
   "metadata": {
    "execution": {
     "iopub.execute_input": "2021-09-30T04:31:10.545492Z",
     "iopub.status.busy": "2021-09-30T04:31:10.544949Z",
     "iopub.status.idle": "2021-09-30T04:31:10.546681Z",
     "shell.execute_reply": "2021-09-30T04:31:10.547045Z"
    }
   },
   "outputs": [],
   "source": [
    "from cogent3 import DNA\n",
    "\n",
    "s2 = DNA.make_seq(\"CGAAACGTTT\", name=\"seq2\")\n",
    "cpgs_series = s2.add_feature(\"cpgsite\", \"cpg\", [(0, 2), (5, 7)])\n",
    "s3 = DNA.make_seq(\"CGAAACGTTT\", name=\"seq3\")\n",
    "cpg1 = s3.add_feature(\"cpgsite\", \"cpg\", [(0, 2)])\n",
    "cpg2 = s3.add_feature(\"cpgsite\", \"cpg\", [(5, 7)])"
   ]
  },
  {
   "cell_type": "code",
   "execution_count": 9,
   "id": "covered-blind",
   "metadata": {
    "execution": {
     "iopub.execute_input": "2021-09-30T04:31:10.550838Z",
     "iopub.status.busy": "2021-09-30T04:31:10.550234Z",
     "iopub.status.idle": "2021-09-30T04:31:10.551979Z",
     "shell.execute_reply": "2021-09-30T04:31:10.552295Z"
    }
   },
   "outputs": [],
   "source": [
    "from cogent3 import DNA\n",
    "\n",
    "s1 = DNA.make_seq(\n",
    "    \"AAGAAGAAGACCCCCAAAAAAAAAA\" \"TTTTTTTTTTAAAAAGGGAACCCT\", name=\"seq1\"\n",
    ")\n",
    "exon1 = s1.add_feature(\"exon\", \"A\", [(10, 15)])\n",
    "exon2 = s1.add_feature(\"exon\", \"B\", [(30, 40)])\n",
    "exon3 = s1.add_feature(\"exon\", \"C\", [(45, 48)])\n",
    "cds = s1.get_region_covering_all([exon1, exon2, exon3])"
   ]
  },
  {
   "cell_type": "code",
   "execution_count": 10,
   "id": "better-playlist",
   "metadata": {
    "execution": {
     "iopub.execute_input": "2021-09-30T04:31:10.559775Z",
     "iopub.status.busy": "2021-09-30T04:31:10.559147Z",
     "iopub.status.idle": "2021-09-30T04:31:10.561481Z",
     "shell.execute_reply": "2021-09-30T04:31:10.561867Z"
    }
   },
   "outputs": [
    {
     "data": {
      "text/plain": [
       "[(10, 15), (30, 40), (45, 48)]"
      ]
     },
     "execution_count": 10,
     "metadata": {},
     "output_type": "execute_result"
    }
   ],
   "source": [
    "cds.get_coordinates()"
   ]
  },
  {
   "cell_type": "code",
   "execution_count": 11,
   "id": "dramatic-mission",
   "metadata": {
    "execution": {
     "iopub.execute_input": "2021-09-30T04:31:10.564781Z",
     "iopub.status.busy": "2021-09-30T04:31:10.564219Z",
     "iopub.status.idle": "2021-09-30T04:31:10.566873Z",
     "shell.execute_reply": "2021-09-30T04:31:10.567258Z"
    }
   },
   "outputs": [
    {
     "data": {
      "text/plain": [
       "region \"not exon\" at [0:10, 15:30, 40:45, 48:49]/49"
      ]
     },
     "execution_count": 11,
     "metadata": {},
     "output_type": "execute_result"
    }
   ],
   "source": [
    "not_cds = cds.get_shadow()\n",
    "not_cds"
   ]
  },
  {
   "cell_type": "code",
   "execution_count": 12,
   "id": "alternate-marking",
   "metadata": {
    "execution": {
     "iopub.execute_input": "2021-09-30T04:31:10.569780Z",
     "iopub.status.busy": "2021-09-30T04:31:10.569317Z",
     "iopub.status.idle": "2021-09-30T04:31:10.571341Z",
     "shell.execute_reply": "2021-09-30T04:31:10.571720Z"
    }
   },
   "outputs": [
    {
     "data": {
      "text/plain": [
       "region \"exon\" at [10:15, 30:40, 45:48]/49"
      ]
     },
     "execution_count": 12,
     "metadata": {},
     "output_type": "execute_result"
    }
   ],
   "source": [
    "cds"
   ]
  },
  {
   "cell_type": "code",
   "execution_count": 13,
   "id": "motivated-pioneer",
   "metadata": {
    "execution": {
     "iopub.execute_input": "2021-09-30T04:31:10.575045Z",
     "iopub.status.busy": "2021-09-30T04:31:10.574587Z",
     "iopub.status.idle": "2021-09-30T04:31:10.576553Z",
     "shell.execute_reply": "2021-09-30T04:31:10.576881Z"
    }
   },
   "outputs": [],
   "source": [
    "from cogent3 import make_aligned_seqs\n",
    "\n",
    "aln1 = make_aligned_seqs(\n",
    "    data=[[\"x\", \"-AAACCCCCA\"], [\"y\", \"TTTT--TTTT\"]], array_align=False\n",
    ")\n",
    "seq_exon = aln1.get_seq(\"x\").add_feature(\"exon\", \"A\", [(3, 8)])"
   ]
  },
  {
   "cell_type": "code",
   "execution_count": 14,
   "id": "unique-photograph",
   "metadata": {
    "execution": {
     "iopub.execute_input": "2021-09-30T04:31:10.580034Z",
     "iopub.status.busy": "2021-09-30T04:31:10.579566Z",
     "iopub.status.idle": "2021-09-30T04:31:10.581122Z",
     "shell.execute_reply": "2021-09-30T04:31:10.581616Z"
    }
   },
   "outputs": [],
   "source": [
    "from cogent3.core.annotation import Variable\n",
    "\n",
    "red_data = aln1.add_annotation(\n",
    "    Variable, \"redline\", \"align\", [((0, 15), 1), ((15, 30), 2), ((30, 45), 3)]\n",
    ")"
   ]
  },
  {
   "cell_type": "code",
   "execution_count": 15,
   "id": "manufactured-trunk",
   "metadata": {
    "execution": {
     "iopub.execute_input": "2021-09-30T04:31:10.585788Z",
     "iopub.status.busy": "2021-09-30T04:31:10.585225Z",
     "iopub.status.idle": "2021-09-30T04:31:10.587315Z",
     "shell.execute_reply": "2021-09-30T04:31:10.587640Z"
    }
   },
   "outputs": [
    {
     "data": {
      "text/html": [
       "<style>\n",
       ".c3seq td { border: none !important; text-align: left !important; }\n",
       ".c3seq tr:not(.num_row) td span {margin: 0 2px;}\n",
       ".c3seq tr:nth-child(even) {background: #f7f7f7;}\n",
       ".c3seq .num_row {background-color:rgba(161, 195, 209, 0.5) !important; border-top: solid 1px black; }\n",
       ".c3seq .label { font-size: 12pt ; text-align: right !important; color: black !important; padding: 0 4px; }\n",
       ".c3seq .T_dna{font-family: \"Lucida Console\",monospace !important; font-size: 12pt !important; color: blue; }\n",
       ".c3seq .C_dna{font-family: \"Lucida Console\",monospace !important; font-size: 12pt !important; color: black; }\n",
       ".c3seq .A_dna{font-family: \"Lucida Console\",monospace !important; font-size: 12pt !important; color: #FF0102; }\n",
       ".c3seq .G_dna{font-family: \"Lucida Console\",monospace !important; font-size: 12pt !important; color: green; }\n",
       ".c3seq .terminal_ambig_dna{font-family: \"Lucida Console\",monospace !important; font-size: 12pt !important; color: gray; }\n",
       ".c3seq .ambig_dna{font-family: \"Lucida Console\",monospace !important; font-size: 12pt !important; color: gray; }\n",
       "</style>\n",
       "<div class=\"c3seq\">\n",
       "<table>\n",
       "<tr class=\"num_row\"><td></td><td><b>0</b></td></tr>\n",
       "<tr><td class=\"label\">seq1</td><td><span class=\"C_dna\">C</span><span class=\"C_dna\">C</span><span class=\"C_dna\">C</span><span class=\"C_dna\">C</span><span class=\"C_dna\">C</span></td></tr>\n",
       "</table>\n",
       "<p><i>5 DnaSequence</i></p>\n",
       "</div>"
      ],
      "text/plain": [
       "DnaSequence(CCCCC)"
      ]
     },
     "execution_count": 15,
     "metadata": {},
     "output_type": "execute_result"
    }
   ],
   "source": [
    "from cogent3 import DNA\n",
    "\n",
    "s1 = DNA.make_seq(\n",
    "    \"AAGAAGAAGACCCCCAAAAAAAAAA\" \"TTTTTTTTTTAAAAAGGGAACCCT\", name=\"seq1\"\n",
    ")\n",
    "exon1 = s1.add_feature(\"exon\", \"A\", [(10, 15)])\n",
    "exon2 = s1.add_feature(\"exon\", \"B\", [(30, 40)])\n",
    "s1[exon1]\n",
    "s1[10:15]"
   ]
  },
  {
   "cell_type": "code",
   "execution_count": 16,
   "id": "superb-layer",
   "metadata": {
    "execution": {
     "iopub.execute_input": "2021-09-30T04:31:10.590435Z",
     "iopub.status.busy": "2021-09-30T04:31:10.589957Z",
     "iopub.status.idle": "2021-09-30T04:31:10.592272Z",
     "shell.execute_reply": "2021-09-30T04:31:10.592593Z"
    }
   },
   "outputs": [
    {
     "data": {
      "text/html": [
       "<style>\n",
       ".c3seq td { border: none !important; text-align: left !important; }\n",
       ".c3seq tr:not(.num_row) td span {margin: 0 2px;}\n",
       ".c3seq tr:nth-child(even) {background: #f7f7f7;}\n",
       ".c3seq .num_row {background-color:rgba(161, 195, 209, 0.5) !important; border-top: solid 1px black; }\n",
       ".c3seq .label { font-size: 12pt ; text-align: right !important; color: black !important; padding: 0 4px; }\n",
       ".c3seq .T_dna{font-family: \"Lucida Console\",monospace !important; font-size: 12pt !important; color: blue; }\n",
       ".c3seq .C_dna{font-family: \"Lucida Console\",monospace !important; font-size: 12pt !important; color: black; }\n",
       ".c3seq .A_dna{font-family: \"Lucida Console\",monospace !important; font-size: 12pt !important; color: #FF0102; }\n",
       ".c3seq .G_dna{font-family: \"Lucida Console\",monospace !important; font-size: 12pt !important; color: green; }\n",
       ".c3seq .terminal_ambig_dna{font-family: \"Lucida Console\",monospace !important; font-size: 12pt !important; color: gray; }\n",
       ".c3seq .ambig_dna{font-family: \"Lucida Console\",monospace !important; font-size: 12pt !important; color: gray; }\n",
       "</style>\n",
       "<div class=\"c3seq\">\n",
       "<table>\n",
       "<tr class=\"num_row\"><td></td><td><b>0</b></td></tr>\n",
       "<tr><td class=\"label\">seq1</td><td><span class=\"T_dna\">T</span><span class=\"T_dna\">T</span><span class=\"T_dna\">T</span><span class=\"T_dna\">T</span><span class=\"T_dna\">T</span><span class=\"A_dna\">A</span><span class=\"A_dna\">A</span><span class=\"A_dna\">A</span><span class=\"A_dna\">A</span><span class=\"A_dna\">A</span></td></tr>\n",
       "</table>\n",
       "<p><i>10 DnaSequence</i></p>\n",
       "</div>"
      ],
      "text/plain": [
       "DnaSequence(TTTTTAAAAA)"
      ]
     },
     "execution_count": 16,
     "metadata": {},
     "output_type": "execute_result"
    }
   ],
   "source": [
    "s1[exon2]\n",
    "exon2.get_slice()"
   ]
  },
  {
   "cell_type": "code",
   "execution_count": 17,
   "id": "substantial-lebanon",
   "metadata": {
    "execution": {
     "iopub.execute_input": "2021-09-30T04:31:10.596833Z",
     "iopub.status.busy": "2021-09-30T04:31:10.596364Z",
     "iopub.status.idle": "2021-09-30T04:31:10.598127Z",
     "shell.execute_reply": "2021-09-30T04:31:10.598450Z"
    }
   },
   "outputs": [
    {
     "name": "stdout",
     "output_type": "stream",
     "text": [
      "CCCCCTTTTTAAAAACCC\n",
      "CCCCCTTTTTAAAAACCC\n"
     ]
    }
   ],
   "source": [
    "from cogent3 import DNA\n",
    "\n",
    "s1 = DNA.make_seq(\n",
    "    \"AAGAAGAAGACCCCCAAAAAAAAAA\" \"TTTTTTTTTTAAAAAGGGAACCCT\", name=\"seq1\"\n",
    ")\n",
    "exon1 = s1.add_feature(\"exon\", \"A\", [(10, 15)])\n",
    "exon2 = s1.add_feature(\"exon\", \"B\", [(30, 40)])\n",
    "exon3 = s1.add_feature(\"exon\", \"C\", [(45, 48)])\n",
    "cds = s1.get_region_covering_all([exon1, exon2, exon3])\n",
    "print(s1[cds])\n",
    "print(s1[exon1, exon2, exon3])"
   ]
  },
  {
   "cell_type": "code",
   "execution_count": 18,
   "id": "clear-ranking",
   "metadata": {
    "execution": {
     "iopub.execute_input": "2021-09-30T04:31:10.602386Z",
     "iopub.status.busy": "2021-09-30T04:31:10.601723Z",
     "iopub.status.idle": "2021-09-30T04:31:10.603701Z",
     "shell.execute_reply": "2021-09-30T04:31:10.604071Z"
    }
   },
   "outputs": [
    {
     "name": "stdout",
     "output_type": "stream",
     "text": [
      "AAGAAGAAGACCCCCAAAAAAAAAATTTTTTTTTTAAAAAGGGAACCCT\n",
      "CCCCCTTTTTAAAAACCC\n",
      "TTTTTAAAAA\n",
      "CCC\n",
      "CCCCCCCCTTTTTAAAAA\n"
     ]
    }
   ],
   "source": [
    "print(s1)\n",
    "print(s1[exon1, exon2, exon3])\n",
    "print(s1[exon2])\n",
    "print(s1[exon3])\n",
    "print(s1[exon1, exon3, exon2])"
   ]
  },
  {
   "cell_type": "code",
   "execution_count": 19,
   "id": "fewer-berry",
   "metadata": {
    "execution": {
     "iopub.execute_input": "2021-09-30T04:31:10.606600Z",
     "iopub.status.busy": "2021-09-30T04:31:10.606066Z",
     "iopub.status.idle": "2021-09-30T04:31:10.755143Z",
     "shell.execute_reply": "2021-09-30T04:31:10.755543Z"
    }
   },
   "outputs": [
    {
     "ename": "ValueError",
     "evalue": "Uninvertable. Overlap: 9 < 10",
     "output_type": "error",
     "traceback": [
      "\u001b[0;31m---------------------------------------------------------------------------\u001b[0m",
      "\u001b[0;31mValueError\u001b[0m                                Traceback (most recent call last)",
      "\u001b[0;32m<ipython-input-19-973ffb8e58c5>\u001b[0m in \u001b[0;36m<module>\u001b[0;34m\u001b[0m\n\u001b[0;32m----> 1\u001b[0;31m \u001b[0ms1\u001b[0m\u001b[0;34m[\u001b[0m\u001b[0;36m1\u001b[0m\u001b[0;34m:\u001b[0m\u001b[0;36m10\u001b[0m\u001b[0;34m,\u001b[0m \u001b[0;36m9\u001b[0m\u001b[0;34m:\u001b[0m\u001b[0;36m15\u001b[0m\u001b[0;34m]\u001b[0m\u001b[0;34m\u001b[0m\u001b[0;34m\u001b[0m\u001b[0m\n\u001b[0m\u001b[1;32m      2\u001b[0m \u001b[0ms1\u001b[0m\u001b[0;34m[\u001b[0m\u001b[0mexon1\u001b[0m\u001b[0;34m,\u001b[0m \u001b[0mexon1\u001b[0m\u001b[0;34m]\u001b[0m\u001b[0;34m\u001b[0m\u001b[0;34m\u001b[0m\u001b[0m\n",
      "\u001b[0;32m~/repos/Cogent3/src/cogent3/core/annotation.py\u001b[0m in \u001b[0;36m__getitem__\u001b[0;34m(self, index)\u001b[0m\n\u001b[1;32m     88\u001b[0m         \u001b[0mmap\u001b[0m \u001b[0;34m=\u001b[0m \u001b[0mself\u001b[0m\u001b[0;34m.\u001b[0m\u001b[0m_as_map\u001b[0m\u001b[0;34m(\u001b[0m\u001b[0mindex\u001b[0m\u001b[0;34m)\u001b[0m\u001b[0;34m\u001b[0m\u001b[0;34m\u001b[0m\u001b[0m\n\u001b[1;32m     89\u001b[0m         \u001b[0mnew\u001b[0m \u001b[0;34m=\u001b[0m \u001b[0mself\u001b[0m\u001b[0;34m.\u001b[0m\u001b[0m_mapped\u001b[0m\u001b[0;34m(\u001b[0m\u001b[0mmap\u001b[0m\u001b[0;34m)\u001b[0m\u001b[0;34m\u001b[0m\u001b[0;34m\u001b[0m\u001b[0m\n\u001b[0;32m---> 90\u001b[0;31m         \u001b[0msliced_annots\u001b[0m \u001b[0;34m=\u001b[0m \u001b[0mself\u001b[0m\u001b[0;34m.\u001b[0m\u001b[0m_sliced_annotations\u001b[0m\u001b[0;34m(\u001b[0m\u001b[0mnew\u001b[0m\u001b[0;34m,\u001b[0m \u001b[0mmap\u001b[0m\u001b[0;34m)\u001b[0m\u001b[0;34m\u001b[0m\u001b[0;34m\u001b[0m\u001b[0m\n\u001b[0m\u001b[1;32m     91\u001b[0m         \u001b[0mnew\u001b[0m\u001b[0;34m.\u001b[0m\u001b[0mattach_annotations\u001b[0m\u001b[0;34m(\u001b[0m\u001b[0msliced_annots\u001b[0m\u001b[0;34m)\u001b[0m\u001b[0;34m\u001b[0m\u001b[0;34m\u001b[0m\u001b[0m\n\u001b[1;32m     92\u001b[0m         \u001b[0;32mif\u001b[0m \u001b[0mhasattr\u001b[0m\u001b[0;34m(\u001b[0m\u001b[0mself\u001b[0m\u001b[0;34m,\u001b[0m \u001b[0;34m\"_repr_policy\"\u001b[0m\u001b[0;34m)\u001b[0m\u001b[0;34m:\u001b[0m\u001b[0;34m\u001b[0m\u001b[0;34m\u001b[0m\u001b[0m\n",
      "\u001b[0;32m~/repos/Cogent3/src/cogent3/core/annotation.py\u001b[0m in \u001b[0;36m_sliced_annotations\u001b[0;34m(self, new, slice)\u001b[0m\n\u001b[1;32m     34\u001b[0m             \u001b[0mslicemap\u001b[0m \u001b[0;34m=\u001b[0m \u001b[0mself\u001b[0m\u001b[0;34m.\u001b[0m\u001b[0m_as_map\u001b[0m\u001b[0;34m(\u001b[0m\u001b[0mslice\u001b[0m\u001b[0;34m)\u001b[0m\u001b[0;34m\u001b[0m\u001b[0;34m\u001b[0m\u001b[0m\n\u001b[1;32m     35\u001b[0m             \u001b[0;31m# try:\u001b[0m\u001b[0;34m\u001b[0m\u001b[0;34m\u001b[0m\u001b[0;34m\u001b[0m\u001b[0m\n\u001b[0;32m---> 36\u001b[0;31m             \u001b[0mnewmap\u001b[0m \u001b[0;34m=\u001b[0m \u001b[0mslicemap\u001b[0m\u001b[0;34m.\u001b[0m\u001b[0minverse\u001b[0m\u001b[0;34m(\u001b[0m\u001b[0;34m)\u001b[0m\u001b[0;34m\u001b[0m\u001b[0;34m\u001b[0m\u001b[0m\n\u001b[0m\u001b[1;32m     37\u001b[0m             \u001b[0;31m# except ValueError, detail:\u001b[0m\u001b[0;34m\u001b[0m\u001b[0;34m\u001b[0m\u001b[0;34m\u001b[0m\u001b[0m\n\u001b[1;32m     38\u001b[0m             \u001b[0;31m#    print \"Annotations dropped because %s\" % detail\u001b[0m\u001b[0;34m\u001b[0m\u001b[0;34m\u001b[0m\u001b[0;34m\u001b[0m\u001b[0m\n",
      "\u001b[0;32m~/repos/Cogent3/src/cogent3/core/location.py\u001b[0m in \u001b[0;36minverse\u001b[0;34m(self)\u001b[0m\n\u001b[1;32m    757\u001b[0m     \u001b[0;32mdef\u001b[0m \u001b[0minverse\u001b[0m\u001b[0;34m(\u001b[0m\u001b[0mself\u001b[0m\u001b[0;34m)\u001b[0m\u001b[0;34m:\u001b[0m\u001b[0;34m\u001b[0m\u001b[0;34m\u001b[0m\u001b[0m\n\u001b[1;32m    758\u001b[0m         \u001b[0;32mif\u001b[0m \u001b[0mself\u001b[0m\u001b[0;34m.\u001b[0m\u001b[0m__inverse\u001b[0m \u001b[0;32mis\u001b[0m \u001b[0;32mNone\u001b[0m\u001b[0;34m:\u001b[0m\u001b[0;34m\u001b[0m\u001b[0;34m\u001b[0m\u001b[0m\n\u001b[0;32m--> 759\u001b[0;31m             \u001b[0mself\u001b[0m\u001b[0;34m.\u001b[0m\u001b[0m__inverse\u001b[0m \u001b[0;34m=\u001b[0m \u001b[0mself\u001b[0m\u001b[0;34m.\u001b[0m\u001b[0m_inverse\u001b[0m\u001b[0;34m(\u001b[0m\u001b[0;34m)\u001b[0m\u001b[0;34m\u001b[0m\u001b[0;34m\u001b[0m\u001b[0m\n\u001b[0m\u001b[1;32m    760\u001b[0m         \u001b[0;32mreturn\u001b[0m \u001b[0mself\u001b[0m\u001b[0;34m.\u001b[0m\u001b[0m__inverse\u001b[0m\u001b[0;34m\u001b[0m\u001b[0;34m\u001b[0m\u001b[0m\n\u001b[1;32m    761\u001b[0m \u001b[0;34m\u001b[0m\u001b[0m\n",
      "\u001b[0;32m~/repos/Cogent3/src/cogent3/core/location.py\u001b[0m in \u001b[0;36m_inverse\u001b[0;34m(self)\u001b[0m\n\u001b[1;32m    782\u001b[0m                 \u001b[0mnew_spans\u001b[0m\u001b[0;34m.\u001b[0m\u001b[0mappend\u001b[0m\u001b[0;34m(\u001b[0m\u001b[0mLostSpan\u001b[0m\u001b[0;34m(\u001b[0m\u001b[0mlo\u001b[0m \u001b[0;34m-\u001b[0m \u001b[0mlast_hi\u001b[0m\u001b[0;34m)\u001b[0m\u001b[0;34m)\u001b[0m\u001b[0;34m\u001b[0m\u001b[0;34m\u001b[0m\u001b[0m\n\u001b[1;32m    783\u001b[0m             \u001b[0;32melif\u001b[0m \u001b[0mlo\u001b[0m \u001b[0;34m<\u001b[0m \u001b[0mlast_hi\u001b[0m\u001b[0;34m:\u001b[0m\u001b[0;34m\u001b[0m\u001b[0;34m\u001b[0m\u001b[0m\n\u001b[0;32m--> 784\u001b[0;31m                 \u001b[0;32mraise\u001b[0m \u001b[0mValueError\u001b[0m\u001b[0;34m(\u001b[0m\u001b[0;34m\"Uninvertable. Overlap: %s < %s\"\u001b[0m \u001b[0;34m%\u001b[0m \u001b[0;34m(\u001b[0m\u001b[0mlo\u001b[0m\u001b[0;34m,\u001b[0m \u001b[0mlast_hi\u001b[0m\u001b[0;34m)\u001b[0m\u001b[0;34m)\u001b[0m\u001b[0;34m\u001b[0m\u001b[0;34m\u001b[0m\u001b[0m\n\u001b[0m\u001b[1;32m    785\u001b[0m             \u001b[0mnew_spans\u001b[0m\u001b[0;34m.\u001b[0m\u001b[0mappend\u001b[0m\u001b[0;34m(\u001b[0m\u001b[0mSpan\u001b[0m\u001b[0;34m(\u001b[0m\u001b[0mstart\u001b[0m\u001b[0;34m,\u001b[0m \u001b[0mend\u001b[0m\u001b[0;34m,\u001b[0m \u001b[0mreverse\u001b[0m\u001b[0;34m=\u001b[0m\u001b[0mstart\u001b[0m \u001b[0;34m>\u001b[0m \u001b[0mend\u001b[0m\u001b[0;34m)\u001b[0m\u001b[0;34m)\u001b[0m\u001b[0;34m\u001b[0m\u001b[0;34m\u001b[0m\u001b[0m\n\u001b[1;32m    786\u001b[0m             \u001b[0mlast_hi\u001b[0m \u001b[0;34m=\u001b[0m \u001b[0mhi\u001b[0m\u001b[0;34m\u001b[0m\u001b[0;34m\u001b[0m\u001b[0m\n",
      "\u001b[0;31mValueError\u001b[0m: Uninvertable. Overlap: 9 < 10"
     ]
    }
   ],
   "source": [
    "s1[1:10, 9:15]\n",
    "s1[exon1, exon1]"
   ]
  },
  {
   "cell_type": "code",
   "execution_count": 20,
   "id": "hairy-stupid",
   "metadata": {
    "execution": {
     "iopub.execute_input": "2021-09-30T04:31:10.758910Z",
     "iopub.status.busy": "2021-09-30T04:31:10.758401Z",
     "iopub.status.idle": "2021-09-30T04:31:10.760552Z",
     "shell.execute_reply": "2021-09-30T04:31:10.760881Z"
    }
   },
   "outputs": [
    {
     "name": "stdout",
     "output_type": "stream",
     "text": [
      "CCC\n"
     ]
    }
   ],
   "source": [
    "print(s1.get_region_covering_all([exon3, exon3]).get_slice())"
   ]
  },
  {
   "cell_type": "code",
   "execution_count": 21,
   "id": "sized-occasion",
   "metadata": {
    "execution": {
     "iopub.execute_input": "2021-09-30T04:31:10.764219Z",
     "iopub.status.busy": "2021-09-30T04:31:10.763660Z",
     "iopub.status.idle": "2021-09-30T04:31:10.766169Z",
     "shell.execute_reply": "2021-09-30T04:31:10.766565Z"
    }
   },
   "outputs": [
    {
     "name": "stdout",
     "output_type": "stream",
     "text": [
      "TTTTTAAAAA\n",
      "TTT\n",
      "AAA\n"
     ]
    }
   ],
   "source": [
    "print(s1[exon2])\n",
    "ex2_start = exon2[0:3]\n",
    "print(s1[ex2_start])\n",
    "ex2_end = exon2[-3:]\n",
    "print(s1[ex2_end])"
   ]
  },
  {
   "cell_type": "code",
   "execution_count": 22,
   "id": "confidential-quilt",
   "metadata": {
    "execution": {
     "iopub.execute_input": "2021-09-30T04:31:10.769579Z",
     "iopub.status.busy": "2021-09-30T04:31:10.769065Z",
     "iopub.status.idle": "2021-09-30T04:31:10.775931Z",
     "shell.execute_reply": "2021-09-30T04:31:10.776385Z"
    }
   },
   "outputs": [
    {
     "ename": "ValueError",
     "evalue": "Can't map exon \"A\" at [3:8]/9 onto 2 x 10 text alignment: x[-AAACCCCCA], y[TTTT--TTTT] via []",
     "output_type": "error",
     "traceback": [
      "\u001b[0;31m---------------------------------------------------------------------------\u001b[0m",
      "\u001b[0;31mValueError\u001b[0m                                Traceback (most recent call last)",
      "\u001b[0;32m<ipython-input-22-bbe05c8843eb>\u001b[0m in \u001b[0;36m<module>\u001b[0;34m\u001b[0m\n\u001b[0;32m----> 1\u001b[0;31m \u001b[0maln1\u001b[0m\u001b[0;34m[\u001b[0m\u001b[0mseq_exon\u001b[0m\u001b[0;34m]\u001b[0m\u001b[0;34m\u001b[0m\u001b[0;34m\u001b[0m\u001b[0m\n\u001b[0m",
      "\u001b[0;32m~/repos/Cogent3/src/cogent3/core/annotation.py\u001b[0m in \u001b[0;36m__getitem__\u001b[0;34m(self, index)\u001b[0m\n\u001b[1;32m     86\u001b[0m \u001b[0;34m\u001b[0m\u001b[0m\n\u001b[1;32m     87\u001b[0m     \u001b[0;32mdef\u001b[0m \u001b[0m__getitem__\u001b[0m\u001b[0;34m(\u001b[0m\u001b[0mself\u001b[0m\u001b[0;34m,\u001b[0m \u001b[0mindex\u001b[0m\u001b[0;34m)\u001b[0m\u001b[0;34m:\u001b[0m\u001b[0;34m\u001b[0m\u001b[0;34m\u001b[0m\u001b[0m\n\u001b[0;32m---> 88\u001b[0;31m         \u001b[0mmap\u001b[0m \u001b[0;34m=\u001b[0m \u001b[0mself\u001b[0m\u001b[0;34m.\u001b[0m\u001b[0m_as_map\u001b[0m\u001b[0;34m(\u001b[0m\u001b[0mindex\u001b[0m\u001b[0;34m)\u001b[0m\u001b[0;34m\u001b[0m\u001b[0;34m\u001b[0m\u001b[0m\n\u001b[0m\u001b[1;32m     89\u001b[0m         \u001b[0mnew\u001b[0m \u001b[0;34m=\u001b[0m \u001b[0mself\u001b[0m\u001b[0;34m.\u001b[0m\u001b[0m_mapped\u001b[0m\u001b[0;34m(\u001b[0m\u001b[0mmap\u001b[0m\u001b[0;34m)\u001b[0m\u001b[0;34m\u001b[0m\u001b[0;34m\u001b[0m\u001b[0m\n\u001b[1;32m     90\u001b[0m         \u001b[0msliced_annots\u001b[0m \u001b[0;34m=\u001b[0m \u001b[0mself\u001b[0m\u001b[0;34m.\u001b[0m\u001b[0m_sliced_annotations\u001b[0m\u001b[0;34m(\u001b[0m\u001b[0mnew\u001b[0m\u001b[0;34m,\u001b[0m \u001b[0mmap\u001b[0m\u001b[0;34m)\u001b[0m\u001b[0;34m\u001b[0m\u001b[0;34m\u001b[0m\u001b[0m\n",
      "\u001b[0;32m~/repos/Cogent3/src/cogent3/core/annotation.py\u001b[0m in \u001b[0;36m_as_map\u001b[0;34m(self, index)\u001b[0m\n\u001b[1;32m     76\u001b[0m                 \u001b[0mbase\u001b[0m \u001b[0;34m=\u001b[0m \u001b[0mbase\u001b[0m\u001b[0;34m.\u001b[0m\u001b[0mparent\u001b[0m\u001b[0;34m\u001b[0m\u001b[0;34m\u001b[0m\u001b[0m\n\u001b[1;32m     77\u001b[0m             \u001b[0;32mif\u001b[0m \u001b[0mbase\u001b[0m \u001b[0;32mis\u001b[0m \u001b[0;32mnot\u001b[0m \u001b[0mself\u001b[0m\u001b[0;34m:\u001b[0m\u001b[0;34m\u001b[0m\u001b[0;34m\u001b[0m\u001b[0m\n\u001b[0;32m---> 78\u001b[0;31m                 raise ValueError(\n\u001b[0m\u001b[1;32m     79\u001b[0m                     \u001b[0;34m\"Can't map %s onto %s via %s\"\u001b[0m \u001b[0;34m%\u001b[0m \u001b[0;34m(\u001b[0m\u001b[0mindex\u001b[0m\u001b[0;34m,\u001b[0m \u001b[0mrepr\u001b[0m\u001b[0;34m(\u001b[0m\u001b[0mself\u001b[0m\u001b[0;34m)\u001b[0m\u001b[0;34m,\u001b[0m \u001b[0mcontainers\u001b[0m\u001b[0;34m)\u001b[0m\u001b[0;34m\u001b[0m\u001b[0;34m\u001b[0m\u001b[0m\n\u001b[1;32m     80\u001b[0m                 )\n",
      "\u001b[0;31mValueError\u001b[0m: Can't map exon \"A\" at [3:8]/9 onto 2 x 10 text alignment: x[-AAACCCCCA], y[TTTT--TTTT] via []"
     ]
    }
   ],
   "source": [
    "aln1[seq_exon]"
   ]
  },
  {
   "cell_type": "code",
   "execution_count": 23,
   "id": "textile-dinner",
   "metadata": {
    "execution": {
     "iopub.execute_input": "2021-09-30T04:31:10.781147Z",
     "iopub.status.busy": "2021-09-30T04:31:10.780517Z",
     "iopub.status.idle": "2021-09-30T04:31:10.782844Z",
     "shell.execute_reply": "2021-09-30T04:31:10.783209Z"
    }
   },
   "outputs": [
    {
     "data": {
      "text/plain": [
       "[exon \"A\" at [4:9]/10]"
      ]
     },
     "execution_count": 23,
     "metadata": {},
     "output_type": "execute_result"
    }
   ],
   "source": [
    "aln2 = make_aligned_seqs(\n",
    "    data=[[\"x\", \"-AAAAAAAAA\"], [\"y\", \"TTTT--TTTT\"]], array_align=False\n",
    ")\n",
    "seq = DNA.make_seq(\"CCCCCCCCCCCCCCCCCCCC\", \"x\")\n",
    "match_exon = seq.add_feature(\"exon\", \"A\", [(3, 8)])\n",
    "aln2.get_seq(\"x\").copy_annotations(seq)\n",
    "copied = list(aln2.get_annotations_from_seq(\"x\", \"exon\"))\n",
    "copied"
   ]
  },
  {
   "cell_type": "code",
   "execution_count": 24,
   "id": "funded-angel",
   "metadata": {
    "execution": {
     "iopub.execute_input": "2021-09-30T04:31:10.788014Z",
     "iopub.status.busy": "2021-09-30T04:31:10.787505Z",
     "iopub.status.idle": "2021-09-30T04:31:10.789715Z",
     "shell.execute_reply": "2021-09-30T04:31:10.790034Z"
    }
   },
   "outputs": [
    {
     "data": {
      "text/html": [
       "<style>\n",
       ".c3align td { border: none !important; text-align: left !important; }\n",
       ".c3align tr:not(.num_row) td span {margin: 0 2px;}\n",
       ".c3align tr:nth-child(even) {background: #f7f7f7;}\n",
       ".c3align .num_row {background-color:rgba(161, 195, 209, 0.5) !important; border-top: solid 1px black; }\n",
       ".c3align .label { font-size: 12pt ; text-align: right !important; color: black !important; padding: 0 4px; display: table-cell !important; font-weight: normal !important; }\n",
       ".c3align .a_text{font-family: \"Lucida Console\",monospace !important; font-size: 12pt !important; color: black; }\n",
       ".c3align .b_text{font-family: \"Lucida Console\",monospace !important; font-size: 12pt !important; color: black; }\n",
       ".c3align .c_text{font-family: \"Lucida Console\",monospace !important; font-size: 12pt !important; color: black; }\n",
       ".c3align .d_text{font-family: \"Lucida Console\",monospace !important; font-size: 12pt !important; color: black; }\n",
       ".c3align .e_text{font-family: \"Lucida Console\",monospace !important; font-size: 12pt !important; color: black; }\n",
       ".c3align .f_text{font-family: \"Lucida Console\",monospace !important; font-size: 12pt !important; color: black; }\n",
       ".c3align .g_text{font-family: \"Lucida Console\",monospace !important; font-size: 12pt !important; color: black; }\n",
       ".c3align .h_text{font-family: \"Lucida Console\",monospace !important; font-size: 12pt !important; color: black; }\n",
       ".c3align .i_text{font-family: \"Lucida Console\",monospace !important; font-size: 12pt !important; color: black; }\n",
       ".c3align .j_text{font-family: \"Lucida Console\",monospace !important; font-size: 12pt !important; color: black; }\n",
       ".c3align .k_text{font-family: \"Lucida Console\",monospace !important; font-size: 12pt !important; color: black; }\n",
       ".c3align .l_text{font-family: \"Lucida Console\",monospace !important; font-size: 12pt !important; color: black; }\n",
       ".c3align .m_text{font-family: \"Lucida Console\",monospace !important; font-size: 12pt !important; color: black; }\n",
       ".c3align .n_text{font-family: \"Lucida Console\",monospace !important; font-size: 12pt !important; color: black; }\n",
       ".c3align .o_text{font-family: \"Lucida Console\",monospace !important; font-size: 12pt !important; color: black; }\n",
       ".c3align .p_text{font-family: \"Lucida Console\",monospace !important; font-size: 12pt !important; color: black; }\n",
       ".c3align .q_text{font-family: \"Lucida Console\",monospace !important; font-size: 12pt !important; color: black; }\n",
       ".c3align .r_text{font-family: \"Lucida Console\",monospace !important; font-size: 12pt !important; color: black; }\n",
       ".c3align .s_text{font-family: \"Lucida Console\",monospace !important; font-size: 12pt !important; color: black; }\n",
       ".c3align .t_text{font-family: \"Lucida Console\",monospace !important; font-size: 12pt !important; color: black; }\n",
       ".c3align .u_text{font-family: \"Lucida Console\",monospace !important; font-size: 12pt !important; color: black; }\n",
       ".c3align .v_text{font-family: \"Lucida Console\",monospace !important; font-size: 12pt !important; color: black; }\n",
       ".c3align .w_text{font-family: \"Lucida Console\",monospace !important; font-size: 12pt !important; color: black; }\n",
       ".c3align .x_text{font-family: \"Lucida Console\",monospace !important; font-size: 12pt !important; color: black; }\n",
       ".c3align .y_text{font-family: \"Lucida Console\",monospace !important; font-size: 12pt !important; color: black; }\n",
       ".c3align .z_text{font-family: \"Lucida Console\",monospace !important; font-size: 12pt !important; color: black; }\n",
       ".c3align .A_text{font-family: \"Lucida Console\",monospace !important; font-size: 12pt !important; color: black; }\n",
       ".c3align .B_text{font-family: \"Lucida Console\",monospace !important; font-size: 12pt !important; color: black; }\n",
       ".c3align .C_text{font-family: \"Lucida Console\",monospace !important; font-size: 12pt !important; color: black; }\n",
       ".c3align .D_text{font-family: \"Lucida Console\",monospace !important; font-size: 12pt !important; color: black; }\n",
       ".c3align .E_text{font-family: \"Lucida Console\",monospace !important; font-size: 12pt !important; color: black; }\n",
       ".c3align .F_text{font-family: \"Lucida Console\",monospace !important; font-size: 12pt !important; color: black; }\n",
       ".c3align .G_text{font-family: \"Lucida Console\",monospace !important; font-size: 12pt !important; color: black; }\n",
       ".c3align .H_text{font-family: \"Lucida Console\",monospace !important; font-size: 12pt !important; color: black; }\n",
       ".c3align .I_text{font-family: \"Lucida Console\",monospace !important; font-size: 12pt !important; color: black; }\n",
       ".c3align .J_text{font-family: \"Lucida Console\",monospace !important; font-size: 12pt !important; color: black; }\n",
       ".c3align .K_text{font-family: \"Lucida Console\",monospace !important; font-size: 12pt !important; color: black; }\n",
       ".c3align .L_text{font-family: \"Lucida Console\",monospace !important; font-size: 12pt !important; color: black; }\n",
       ".c3align .M_text{font-family: \"Lucida Console\",monospace !important; font-size: 12pt !important; color: black; }\n",
       ".c3align .N_text{font-family: \"Lucida Console\",monospace !important; font-size: 12pt !important; color: black; }\n",
       ".c3align .O_text{font-family: \"Lucida Console\",monospace !important; font-size: 12pt !important; color: black; }\n",
       ".c3align .P_text{font-family: \"Lucida Console\",monospace !important; font-size: 12pt !important; color: black; }\n",
       ".c3align .Q_text{font-family: \"Lucida Console\",monospace !important; font-size: 12pt !important; color: black; }\n",
       ".c3align .R_text{font-family: \"Lucida Console\",monospace !important; font-size: 12pt !important; color: black; }\n",
       ".c3align .S_text{font-family: \"Lucida Console\",monospace !important; font-size: 12pt !important; color: black; }\n",
       ".c3align .T_text{font-family: \"Lucida Console\",monospace !important; font-size: 12pt !important; color: black; }\n",
       ".c3align .U_text{font-family: \"Lucida Console\",monospace !important; font-size: 12pt !important; color: black; }\n",
       ".c3align .V_text{font-family: \"Lucida Console\",monospace !important; font-size: 12pt !important; color: black; }\n",
       ".c3align .W_text{font-family: \"Lucida Console\",monospace !important; font-size: 12pt !important; color: black; }\n",
       ".c3align .X_text{font-family: \"Lucida Console\",monospace !important; font-size: 12pt !important; color: black; }\n",
       ".c3align .Y_text{font-family: \"Lucida Console\",monospace !important; font-size: 12pt !important; color: black; }\n",
       ".c3align .Z_text{font-family: \"Lucida Console\",monospace !important; font-size: 12pt !important; color: black; }\n",
       ".c3align .terminal_ambig_text{font-family: \"Lucida Console\",monospace !important; font-size: 12pt !important; color: black; }\n",
       ".c3align .ambig_text{font-family: \"Lucida Console\",monospace !important; font-size: 12pt !important; color: black; }\n",
       "</style>\n",
       "<div class=\"c3align\">\n",
       "<table>\n",
       "<tr class=\"num_row\"><td></td><td><b>0</b></td></tr>\n",
       "<tr><td class=\"label\">x</td><td><span class=\"terminal_ambig_text\">-</span><span class=\"terminal_ambig_text\">-</span><span class=\"terminal_ambig_text\">-</span><span class=\"terminal_ambig_text\">-</span></td></tr>\n",
       "<tr><td class=\"label\">y</td><td><span class=\"terminal_ambig_text\">.</span><span class=\"terminal_ambig_text\">.</span><span class=\"terminal_ambig_text\">.</span><span class=\"terminal_ambig_text\">.</span></td></tr>\n",
       "</table>\n",
       "<p><i>2 x 4 text alignment</i></p>\n",
       "</div>"
      ],
      "text/plain": [
       "2 x 4 text alignment: x[----], y[----]"
      ]
     },
     "execution_count": 24,
     "metadata": {},
     "output_type": "execute_result"
    }
   ],
   "source": [
    "aln2 = make_aligned_seqs(data=[[\"x\", \"-AAAA\"], [\"y\", \"TTTTT\"]], array_align=False)\n",
    "seq = DNA.make_seq(\"CCCCCCCCCCCCCCCCCCCC\", \"x\")\n",
    "match_exon = seq.add_feature(\"exon\", \"A\", [(5, 8)])\n",
    "aln2.get_seq(\"x\").copy_annotations(seq)\n",
    "copied = list(aln2.get_annotations_from_seq(\"x\", \"exon\"))\n",
    "copied\n",
    "copied[0].get_slice()"
   ]
  },
  {
   "cell_type": "code",
   "execution_count": 25,
   "id": "located-bennett",
   "metadata": {
    "execution": {
     "iopub.execute_input": "2021-09-30T04:31:10.794067Z",
     "iopub.status.busy": "2021-09-30T04:31:10.793521Z",
     "iopub.status.idle": "2021-09-30T04:31:10.795889Z",
     "shell.execute_reply": "2021-09-30T04:31:10.795553Z"
    }
   },
   "outputs": [
    {
     "data": {
      "text/plain": [
       "[exon \"A\" at [7:10]/10]"
      ]
     },
     "execution_count": 25,
     "metadata": {},
     "output_type": "execute_result"
    }
   ],
   "source": [
    "# new test\n",
    "aln2 = make_aligned_seqs(\n",
    "    data=[[\"x\", \"-AAAAAAAAA\"], [\"y\", \"TTTT--TTTT\"]], array_align=False\n",
    ")\n",
    "seq = DNA.make_seq(\"CCCCCCCCCCCCCCCCCCCC\", \"x\")\n",
    "match_exon = seq.add_feature(\"exon\", \"A\", [(5, 8)])\n",
    "aln2.get_seq(\"y\").copy_annotations(seq)\n",
    "copied = list(aln2.get_annotations_from_seq(\"y\", \"exon\"))\n",
    "copied"
   ]
  },
  {
   "cell_type": "code",
   "execution_count": 26,
   "id": "wooden-forest",
   "metadata": {
    "execution": {
     "iopub.execute_input": "2021-09-30T04:31:10.800432Z",
     "iopub.status.busy": "2021-09-30T04:31:10.799760Z",
     "iopub.status.idle": "2021-09-30T04:31:10.802104Z",
     "shell.execute_reply": "2021-09-30T04:31:10.802482Z"
    }
   },
   "outputs": [
    {
     "data": {
      "text/plain": [
       "[repeat \"A\" at [10:10, -6-]/10]"
      ]
     },
     "execution_count": 26,
     "metadata": {},
     "output_type": "execute_result"
    }
   ],
   "source": [
    "aln2 = make_aligned_seqs(\n",
    "    data=[[\"x\", \"-AAAAAAAAA\"], [\"y\", \"TTTT--TTTT\"]], array_align=False\n",
    ")\n",
    "diff_len_seq = DNA.make_seq(\"CCCCCCCCCCCCCCCCCCCCCCCCCCCC\", \"x\")\n",
    "nonmatch = diff_len_seq.add_feature(\"repeat\", \"A\", [(12, 14)])\n",
    "aln2.get_seq(\"y\").copy_annotations(diff_len_seq)\n",
    "copied = list(aln2.get_annotations_from_seq(\"y\", \"repeat\"))\n",
    "copied"
   ]
  },
  {
   "cell_type": "code",
   "execution_count": 27,
   "id": "usual-marshall",
   "metadata": {
    "execution": {
     "iopub.execute_input": "2021-09-30T04:31:10.805373Z",
     "iopub.status.busy": "2021-09-30T04:31:10.804907Z",
     "iopub.status.idle": "2021-09-30T04:31:10.806601Z",
     "shell.execute_reply": "2021-09-30T04:31:10.806978Z"
    }
   },
   "outputs": [
    {
     "name": "stdout",
     "output_type": "stream",
     "text": [
      ">x\n",
      "CCCCC\n",
      ">y\n",
      "--TTT\n",
      "\n"
     ]
    }
   ],
   "source": [
    "aln_exon = aln1.get_annotations_from_any_seq(\"exon\")\n",
    "print(aln1[aln_exon])"
   ]
  },
  {
   "cell_type": "code",
   "execution_count": 28,
   "id": "natural-sheet",
   "metadata": {
    "execution": {
     "iopub.execute_input": "2021-09-30T04:31:10.810078Z",
     "iopub.status.busy": "2021-09-30T04:31:10.809619Z",
     "iopub.status.idle": "2021-09-30T04:31:10.817718Z",
     "shell.execute_reply": "2021-09-30T04:31:10.818255Z"
    }
   },
   "outputs": [
    {
     "name": "stdout",
     "output_type": "stream",
     "text": [
      "CGCG\n"
     ]
    },
    {
     "ename": "ValueError",
     "evalue": "Can't map cpgsite \"cpg\" at [0:2]/10 onto DnaSequence(CGAAACGTTT) via []",
     "output_type": "error",
     "traceback": [
      "\u001b[0;31m---------------------------------------------------------------------------\u001b[0m",
      "\u001b[0;31mValueError\u001b[0m                                Traceback (most recent call last)",
      "\u001b[0;32m<ipython-input-28-91f7e6a5ce69>\u001b[0m in \u001b[0;36m<module>\u001b[0;34m\u001b[0m\n\u001b[1;32m      2\u001b[0m \u001b[0mprint\u001b[0m\u001b[0;34m(\u001b[0m\u001b[0ms2\u001b[0m\u001b[0;34m[\u001b[0m\u001b[0mcpgsite2\u001b[0m\u001b[0;34m]\u001b[0m\u001b[0;34m)\u001b[0m\u001b[0;34m\u001b[0m\u001b[0;34m\u001b[0m\u001b[0m\n\u001b[1;32m      3\u001b[0m \u001b[0mcpgsite3\u001b[0m \u001b[0;34m=\u001b[0m \u001b[0ms3\u001b[0m\u001b[0;34m.\u001b[0m\u001b[0mget_annotations_matching\u001b[0m\u001b[0;34m(\u001b[0m\u001b[0;34m\"cpgsite\"\u001b[0m\u001b[0;34m)\u001b[0m\u001b[0;34m\u001b[0m\u001b[0;34m\u001b[0m\u001b[0m\n\u001b[0;32m----> 4\u001b[0;31m \u001b[0ms2\u001b[0m\u001b[0;34m[\u001b[0m\u001b[0mcpgsite3\u001b[0m\u001b[0;34m]\u001b[0m\u001b[0;34m\u001b[0m\u001b[0;34m\u001b[0m\u001b[0m\n\u001b[0m",
      "\u001b[0;32m~/repos/Cogent3/src/cogent3/core/annotation.py\u001b[0m in \u001b[0;36m__getitem__\u001b[0;34m(self, index)\u001b[0m\n\u001b[1;32m     86\u001b[0m \u001b[0;34m\u001b[0m\u001b[0m\n\u001b[1;32m     87\u001b[0m     \u001b[0;32mdef\u001b[0m \u001b[0m__getitem__\u001b[0m\u001b[0;34m(\u001b[0m\u001b[0mself\u001b[0m\u001b[0;34m,\u001b[0m \u001b[0mindex\u001b[0m\u001b[0;34m)\u001b[0m\u001b[0;34m:\u001b[0m\u001b[0;34m\u001b[0m\u001b[0;34m\u001b[0m\u001b[0m\n\u001b[0;32m---> 88\u001b[0;31m         \u001b[0mmap\u001b[0m \u001b[0;34m=\u001b[0m \u001b[0mself\u001b[0m\u001b[0;34m.\u001b[0m\u001b[0m_as_map\u001b[0m\u001b[0;34m(\u001b[0m\u001b[0mindex\u001b[0m\u001b[0;34m)\u001b[0m\u001b[0;34m\u001b[0m\u001b[0;34m\u001b[0m\u001b[0m\n\u001b[0m\u001b[1;32m     89\u001b[0m         \u001b[0mnew\u001b[0m \u001b[0;34m=\u001b[0m \u001b[0mself\u001b[0m\u001b[0;34m.\u001b[0m\u001b[0m_mapped\u001b[0m\u001b[0;34m(\u001b[0m\u001b[0mmap\u001b[0m\u001b[0;34m)\u001b[0m\u001b[0;34m\u001b[0m\u001b[0;34m\u001b[0m\u001b[0m\n\u001b[1;32m     90\u001b[0m         \u001b[0msliced_annots\u001b[0m \u001b[0;34m=\u001b[0m \u001b[0mself\u001b[0m\u001b[0;34m.\u001b[0m\u001b[0m_sliced_annotations\u001b[0m\u001b[0;34m(\u001b[0m\u001b[0mnew\u001b[0m\u001b[0;34m,\u001b[0m \u001b[0mmap\u001b[0m\u001b[0;34m)\u001b[0m\u001b[0;34m\u001b[0m\u001b[0;34m\u001b[0m\u001b[0m\n",
      "\u001b[0;32m~/repos/Cogent3/src/cogent3/core/annotation.py\u001b[0m in \u001b[0;36m_as_map\u001b[0;34m(self, index)\u001b[0m\n\u001b[1;32m     65\u001b[0m             \u001b[0mspans\u001b[0m \u001b[0;34m=\u001b[0m \u001b[0;34m[\u001b[0m\u001b[0;34m]\u001b[0m\u001b[0;34m\u001b[0m\u001b[0;34m\u001b[0m\u001b[0m\n\u001b[1;32m     66\u001b[0m             \u001b[0;32mfor\u001b[0m \u001b[0mi\u001b[0m \u001b[0;32min\u001b[0m \u001b[0mindex\u001b[0m\u001b[0;34m:\u001b[0m\u001b[0;34m\u001b[0m\u001b[0;34m\u001b[0m\u001b[0m\n\u001b[0;32m---> 67\u001b[0;31m                 \u001b[0mspans\u001b[0m\u001b[0;34m.\u001b[0m\u001b[0mextend\u001b[0m\u001b[0;34m(\u001b[0m\u001b[0mself\u001b[0m\u001b[0;34m.\u001b[0m\u001b[0m_as_map\u001b[0m\u001b[0;34m(\u001b[0m\u001b[0mi\u001b[0m\u001b[0;34m)\u001b[0m\u001b[0;34m.\u001b[0m\u001b[0mspans\u001b[0m\u001b[0;34m)\u001b[0m\u001b[0;34m\u001b[0m\u001b[0;34m\u001b[0m\u001b[0m\n\u001b[0m\u001b[1;32m     68\u001b[0m             \u001b[0mmap\u001b[0m \u001b[0;34m=\u001b[0m \u001b[0mMap\u001b[0m\u001b[0;34m(\u001b[0m\u001b[0mspans\u001b[0m\u001b[0;34m=\u001b[0m\u001b[0mspans\u001b[0m\u001b[0;34m,\u001b[0m \u001b[0mparent_length\u001b[0m\u001b[0;34m=\u001b[0m\u001b[0mlen\u001b[0m\u001b[0;34m(\u001b[0m\u001b[0mself\u001b[0m\u001b[0;34m)\u001b[0m\u001b[0;34m)\u001b[0m\u001b[0;34m\u001b[0m\u001b[0;34m\u001b[0m\u001b[0m\n\u001b[1;32m     69\u001b[0m         \u001b[0;32melif\u001b[0m \u001b[0misinstance\u001b[0m\u001b[0;34m(\u001b[0m\u001b[0mindex\u001b[0m\u001b[0;34m,\u001b[0m \u001b[0m_Feature\u001b[0m\u001b[0;34m)\u001b[0m\u001b[0;34m:\u001b[0m\u001b[0;34m\u001b[0m\u001b[0;34m\u001b[0m\u001b[0m\n",
      "\u001b[0;32m~/repos/Cogent3/src/cogent3/core/annotation.py\u001b[0m in \u001b[0;36m_as_map\u001b[0;34m(self, index)\u001b[0m\n\u001b[1;32m     76\u001b[0m                 \u001b[0mbase\u001b[0m \u001b[0;34m=\u001b[0m \u001b[0mbase\u001b[0m\u001b[0;34m.\u001b[0m\u001b[0mparent\u001b[0m\u001b[0;34m\u001b[0m\u001b[0;34m\u001b[0m\u001b[0m\n\u001b[1;32m     77\u001b[0m             \u001b[0;32mif\u001b[0m \u001b[0mbase\u001b[0m \u001b[0;32mis\u001b[0m \u001b[0;32mnot\u001b[0m \u001b[0mself\u001b[0m\u001b[0;34m:\u001b[0m\u001b[0;34m\u001b[0m\u001b[0;34m\u001b[0m\u001b[0m\n\u001b[0;32m---> 78\u001b[0;31m                 raise ValueError(\n\u001b[0m\u001b[1;32m     79\u001b[0m                     \u001b[0;34m\"Can't map %s onto %s via %s\"\u001b[0m \u001b[0;34m%\u001b[0m \u001b[0;34m(\u001b[0m\u001b[0mindex\u001b[0m\u001b[0;34m,\u001b[0m \u001b[0mrepr\u001b[0m\u001b[0;34m(\u001b[0m\u001b[0mself\u001b[0m\u001b[0;34m)\u001b[0m\u001b[0;34m,\u001b[0m \u001b[0mcontainers\u001b[0m\u001b[0;34m)\u001b[0m\u001b[0;34m\u001b[0m\u001b[0;34m\u001b[0m\u001b[0m\n\u001b[1;32m     80\u001b[0m                 )\n",
      "\u001b[0;31mValueError\u001b[0m: Can't map cpgsite \"cpg\" at [0:2]/10 onto DnaSequence(CGAAACGTTT) via []"
     ]
    }
   ],
   "source": [
    "cpgsite2 = s2.get_annotations_matching(\"cpgsite\")\n",
    "print(s2[cpgsite2])\n",
    "cpgsite3 = s3.get_annotations_matching(\"cpgsite\")\n",
    "s2[cpgsite3]"
   ]
  },
  {
   "cell_type": "code",
   "execution_count": 29,
   "id": "usual-tracker",
   "metadata": {
    "execution": {
     "iopub.execute_input": "2021-09-30T04:31:10.821650Z",
     "iopub.status.busy": "2021-09-30T04:31:10.820974Z",
     "iopub.status.idle": "2021-09-30T04:31:10.823929Z",
     "shell.execute_reply": "2021-09-30T04:31:10.823578Z"
    }
   },
   "outputs": [
    {
     "data": {
      "text/html": [
       "<style>\n",
       ".c3seq td { border: none !important; text-align: left !important; }\n",
       ".c3seq tr:not(.num_row) td span {margin: 0 2px;}\n",
       ".c3seq tr:nth-child(even) {background: #f7f7f7;}\n",
       ".c3seq .num_row {background-color:rgba(161, 195, 209, 0.5) !important; border-top: solid 1px black; }\n",
       ".c3seq .label { font-size: 12pt ; text-align: right !important; color: black !important; padding: 0 4px; }\n",
       ".c3seq .T_dna{font-family: \"Lucida Console\",monospace !important; font-size: 12pt !important; color: blue; }\n",
       ".c3seq .C_dna{font-family: \"Lucida Console\",monospace !important; font-size: 12pt !important; color: black; }\n",
       ".c3seq .A_dna{font-family: \"Lucida Console\",monospace !important; font-size: 12pt !important; color: #FF0102; }\n",
       ".c3seq .G_dna{font-family: \"Lucida Console\",monospace !important; font-size: 12pt !important; color: green; }\n",
       ".c3seq .terminal_ambig_dna{font-family: \"Lucida Console\",monospace !important; font-size: 12pt !important; color: gray; }\n",
       ".c3seq .ambig_dna{font-family: \"Lucida Console\",monospace !important; font-size: 12pt !important; color: gray; }\n",
       "</style>\n",
       "<div class=\"c3seq\">\n",
       "<table>\n",
       "</table>\n",
       "<p><i>0 DnaSequence</i></p>\n",
       "</div>"
      ],
      "text/plain": [
       "DnaSequence()"
      ]
     },
     "execution_count": 29,
     "metadata": {},
     "output_type": "execute_result"
    }
   ],
   "source": [
    "# this test is new\n",
    "dont_exist = s2.get_annotations_matching(\"dont_exist\")\n",
    "dont_exist\n",
    "s2[dont_exist]"
   ]
  },
  {
   "cell_type": "code",
   "execution_count": 30,
   "id": "incredible-momentum",
   "metadata": {
    "execution": {
     "iopub.execute_input": "2021-09-30T04:31:10.828616Z",
     "iopub.status.busy": "2021-09-30T04:31:10.828135Z",
     "iopub.status.idle": "2021-09-30T04:31:10.830350Z",
     "shell.execute_reply": "2021-09-30T04:31:10.829980Z"
    }
   },
   "outputs": [
    {
     "name": "stdout",
     "output_type": "stream",
     "text": [
      "CCCC\n",
      "[exon \"ex1\" at [0:1, 2:5]/10]\n",
      ">x\n",
      "CCCC\n",
      ">y\n",
      "----\n",
      "\n"
     ]
    }
   ],
   "source": [
    "aln3 = make_aligned_seqs(\n",
    "    data=[[\"x\", \"C-CCCAAAAA\"], [\"y\", \"-T----TTTT\"]], array_align=False\n",
    ")\n",
    "exon = aln3.get_seq(\"x\").add_feature(\"exon\", \"ex1\", [(0, 4)])\n",
    "print(exon.get_slice())\n",
    "aln_exons = list(aln3.get_annotations_from_seq(\"x\", \"exon\"))\n",
    "print(aln_exons)\n",
    "print(aln3[aln_exons])"
   ]
  },
  {
   "cell_type": "code",
   "execution_count": 31,
   "id": "rough-virtue",
   "metadata": {
    "execution": {
     "iopub.execute_input": "2021-09-30T04:31:10.833404Z",
     "iopub.status.busy": "2021-09-30T04:31:10.832748Z",
     "iopub.status.idle": "2021-09-30T04:31:10.834794Z",
     "shell.execute_reply": "2021-09-30T04:31:10.835182Z"
    }
   },
   "outputs": [
    {
     "name": "stdout",
     "output_type": "stream",
     "text": [
      ">x\n",
      "C-CCC\n",
      ">y\n",
      "-T---\n",
      "\n"
     ]
    }
   ],
   "source": [
    "unified = aln_exons[0].as_one_span()\n",
    "print(aln3[unified])"
   ]
  },
  {
   "cell_type": "code",
   "execution_count": 32,
   "id": "crude-catering",
   "metadata": {
    "execution": {
     "iopub.execute_input": "2021-09-30T04:31:10.839451Z",
     "iopub.status.busy": "2021-09-30T04:31:10.838871Z",
     "iopub.status.idle": "2021-09-30T04:31:10.840894Z",
     "shell.execute_reply": "2021-09-30T04:31:10.841265Z"
    }
   },
   "outputs": [
    {
     "name": "stdout",
     "output_type": "stream",
     "text": [
      "AAAAAAAAAAAAA\n",
      "CCTTTAAAAAAAAAATTTTTTTTTTGGGGG\n",
      "AAAAAAAAAAAAA\n"
     ]
    }
   ],
   "source": [
    "plus = DNA.make_seq(\"CCCCCAAAAAAAAAATTTTTTTTTTAAAGG\")\n",
    "plus_rpt = plus.add_feature(\"blah\", \"a\", [(5, 15), (25, 28)])\n",
    "print(plus[plus_rpt])\n",
    "minus = plus.rc()\n",
    "print(minus)\n",
    "minus_rpt = minus.get_annotations_matching(\"blah\")\n",
    "print(minus[minus_rpt])"
   ]
  },
  {
   "cell_type": "code",
   "execution_count": 33,
   "id": "rocky-sucking",
   "metadata": {
    "execution": {
     "iopub.execute_input": "2021-09-30T04:31:10.844573Z",
     "iopub.status.busy": "2021-09-30T04:31:10.844029Z",
     "iopub.status.idle": "2021-09-30T04:31:10.849008Z",
     "shell.execute_reply": "2021-09-30T04:31:10.849348Z"
    }
   },
   "outputs": [
    {
     "name": "stdout",
     "output_type": "stream",
     "text": [
      "CAAGACAGACAAATAAAAATGACAGAGTACACAACATCC??????????????????????????????????????????????????????????????????CGCGTACAGGAAACACAGAAAAAAGCCCGCACCTGAACAGTGCGGGCTTTTTTTTCGACCAGAGATCACGAGGTAACAACC????????????????????????????????????????????????????????????????\n"
     ]
    }
   ],
   "source": [
    "from cogent3.parse.genbank import RichGenbankParser\n",
    "\n",
    "parser = RichGenbankParser(open(\"data/ST_genome_part.gb\"))\n",
    "seq = [seq for accession, seq in parser][0]\n",
    "no_cds = seq.with_masked_annotations(\"CDS\")\n",
    "print(no_cds[150:400])"
   ]
  },
  {
   "cell_type": "code",
   "execution_count": 34,
   "id": "thorough-anaheim",
   "metadata": {
    "execution": {
     "iopub.execute_input": "2021-09-30T04:31:10.853126Z",
     "iopub.status.busy": "2021-09-30T04:31:10.852664Z",
     "iopub.status.idle": "2021-09-30T04:31:10.854480Z",
     "shell.execute_reply": "2021-09-30T04:31:10.854797Z"
    }
   },
   "outputs": [
    {
     "name": "stdout",
     "output_type": "stream",
     "text": [
      ">x\n",
      "?-???AAAAAGGGAA\n",
      ">y\n",
      "-T----TTTTG-GTT\n",
      "\n"
     ]
    }
   ],
   "source": [
    "from cogent3 import make_aligned_seqs\n",
    "\n",
    "aln = make_aligned_seqs(\n",
    "    data=[[\"x\", \"C-CCCAAAAAGGGAA\"], [\"y\", \"-T----TTTTG-GTT\"]],\n",
    "    moltype=\"dna\",\n",
    "    array_align=False,\n",
    ")\n",
    "exon = aln.get_seq(\"x\").add_feature(\"exon\", \"norwegian\", [(0, 4)])\n",
    "print(aln.with_masked_annotations(\"exon\", mask_char=\"?\"))"
   ]
  },
  {
   "cell_type": "code",
   "execution_count": 35,
   "id": "million-stomach",
   "metadata": {
    "execution": {
     "iopub.execute_input": "2021-09-30T04:31:10.857688Z",
     "iopub.status.busy": "2021-09-30T04:31:10.857222Z",
     "iopub.status.idle": "2021-09-30T04:31:10.859081Z",
     "shell.execute_reply": "2021-09-30T04:31:10.859459Z"
    }
   },
   "outputs": [
    {
     "name": "stdout",
     "output_type": "stream",
     "text": [
      ">x\n",
      "TTCCCTTTTTGGG-G\n",
      ">y\n",
      "AAC-CAAAA----A-\n",
      "\n",
      ">x\n",
      "TTCCCTTTTT???-?\n",
      ">y\n",
      "AAC-CAAAA----A-\n",
      "\n"
     ]
    }
   ],
   "source": [
    "rc = aln.rc()\n",
    "print(rc)\n",
    "print(rc.with_masked_annotations(\"exon\", mask_char=\"?\"))"
   ]
  },
  {
   "cell_type": "code",
   "execution_count": 36,
   "id": "sporting-civilization",
   "metadata": {
    "execution": {
     "iopub.execute_input": "2021-09-30T04:31:10.863886Z",
     "iopub.status.busy": "2021-09-30T04:31:10.863377Z",
     "iopub.status.idle": "2021-09-30T04:31:10.865312Z",
     "shell.execute_reply": "2021-09-30T04:31:10.865684Z"
    }
   },
   "outputs": [
    {
     "name": "stdout",
     "output_type": "stream",
     "text": [
      "CCCC??????????\n",
      "??????????GGGG\n",
      "CCCC?????GGG??\n",
      "??CCC?????GGGG\n"
     ]
    }
   ],
   "source": [
    "from cogent3 import DNA\n",
    "\n",
    "s = DNA.make_seq(\"CCCCAAAAAGGGAA\", \"x\")\n",
    "exon = s.add_feature(\"exon\", \"norwegian\", [(0, 4)])\n",
    "rpt = s.add_feature(\"repeat\", \"norwegian\", [(9, 12)])\n",
    "rc = s.rc()\n",
    "print(s.with_masked_annotations(\"exon\", shadow=True))\n",
    "print(rc.with_masked_annotations(\"exon\", shadow=True))\n",
    "print(s.with_masked_annotations([\"exon\", \"repeat\"], shadow=True))\n",
    "print(rc.with_masked_annotations([\"exon\", \"repeat\"], shadow=True))"
   ]
  },
  {
   "cell_type": "code",
   "execution_count": 37,
   "id": "contemporary-procurement",
   "metadata": {
    "execution": {
     "iopub.execute_input": "2021-09-30T04:31:10.870024Z",
     "iopub.status.busy": "2021-09-30T04:31:10.869518Z",
     "iopub.status.idle": "2021-09-30T04:31:10.871911Z",
     "shell.execute_reply": "2021-09-30T04:31:10.872234Z"
    }
   },
   "outputs": [
    {
     "data": {
      "text/plain": [
       "[cds \"cds1\" at [0:12]/27, cds \"cds2\" at [15:24]/27]"
      ]
     },
     "execution_count": 37,
     "metadata": {},
     "output_type": "execute_result"
    }
   ],
   "source": [
    "from cogent3 import DNA\n",
    "\n",
    "s = DNA.make_seq(\"ATGACCCTGTAAAAAATGTGTTAACCC\", name=\"a\")\n",
    "cds1 = s.add_feature(\"cds\", \"cds1\", [(0, 12)])\n",
    "cds2 = s.add_feature(\"cds\", \"cds2\", [(15, 24)])\n",
    "all_cds = s.get_annotations_matching(\"cds\")\n",
    "all_cds"
   ]
  },
  {
   "cell_type": "code",
   "execution_count": 38,
   "id": "rapid-airplane",
   "metadata": {
    "execution": {
     "iopub.execute_input": "2021-09-30T04:31:10.875476Z",
     "iopub.status.busy": "2021-09-30T04:31:10.875017Z",
     "iopub.status.idle": "2021-09-30T04:31:10.881945Z",
     "shell.execute_reply": "2021-09-30T04:31:10.881595Z"
    }
   },
   "outputs": [
    {
     "data": {
      "text/html": [
       "<style>\n",
       ".c3seq td { border: none !important; text-align: left !important; }\n",
       ".c3seq tr:not(.num_row) td span {margin: 0 2px;}\n",
       ".c3seq tr:nth-child(even) {background: #f7f7f7;}\n",
       ".c3seq .num_row {background-color:rgba(161, 195, 209, 0.5) !important; border-top: solid 1px black; }\n",
       ".c3seq .label { font-size: 12pt ; text-align: right !important; color: black !important; padding: 0 4px; }\n",
       ".c3seq .T_dna{font-family: \"Lucida Console\",monospace !important; font-size: 12pt !important; color: blue; }\n",
       ".c3seq .C_dna{font-family: \"Lucida Console\",monospace !important; font-size: 12pt !important; color: black; }\n",
       ".c3seq .A_dna{font-family: \"Lucida Console\",monospace !important; font-size: 12pt !important; color: #FF0102; }\n",
       ".c3seq .G_dna{font-family: \"Lucida Console\",monospace !important; font-size: 12pt !important; color: green; }\n",
       ".c3seq .terminal_ambig_dna{font-family: \"Lucida Console\",monospace !important; font-size: 12pt !important; color: gray; }\n",
       ".c3seq .ambig_dna{font-family: \"Lucida Console\",monospace !important; font-size: 12pt !important; color: gray; }\n",
       "</style>\n",
       "<div class=\"c3seq\">\n",
       "<table>\n",
       "<tr class=\"num_row\"><td></td><td><b>0</b></td></tr>\n",
       "<tr><td class=\"label\">AE006468</td><td><span class=\"A_dna\">A</span><span class=\"G_dna\">G</span><span class=\"A_dna\">A</span><span class=\"G_dna\">G</span><span class=\"A_dna\">A</span><span class=\"T_dna\">T</span><span class=\"T_dna\">T</span><span class=\"A_dna\">A</span><span class=\"C_dna\">C</span><span class=\"G_dna\">G</span><span class=\"T_dna\">T</span><span class=\"C_dna\">C</span><span class=\"T_dna\">T</span><span class=\"G_dna\">G</span><span class=\"G_dna\">G</span><span class=\"T_dna\">T</span><span class=\"T_dna\">T</span><span class=\"G_dna\">G</span><span class=\"C_dna\">C</span><span class=\"A_dna\">A</span><span class=\"A_dna\">A</span><span class=\"G_dna\">G</span><span class=\"A_dna\">A</span><span class=\"G_dna\">G</span><span class=\"A_dna\">A</span><span class=\"T_dna\">T</span><span class=\"C_dna\">C</span><span class=\"A_dna\">A</span><span class=\"T_dna\">T</span><span class=\"G_dna\">G</span><span class=\"A_dna\">A</span><span class=\"C_dna\">C</span><span class=\"A_dna\">A</span><span class=\"G_dna\">G</span><span class=\"G_dna\">G</span><span class=\"G_dna\">G</span><span class=\"G_dna\">G</span><span class=\"G_dna\">G</span><span class=\"A_dna\">A</span><span class=\"A_dna\">A</span><span class=\"T_dna\">T</span><span class=\"T_dna\">T</span><span class=\"G_dna\">G</span><span class=\"G_dna\">G</span><span class=\"T_dna\">T</span><span class=\"T_dna\">T</span><span class=\"G_dna\">G</span><span class=\"A_dna\">A</span><span class=\"A_dna\">A</span><span class=\"A_dna\">A</span><span class=\"A_dna\">A</span><span class=\"T_dna\">T</span><span class=\"A_dna\">A</span><span class=\"A_dna\">A</span><span class=\"A_dna\">A</span><span class=\"T_dna\">T</span><span class=\"A_dna\">A</span><span class=\"T_dna\">T</span><span class=\"A_dna\">A</span><span class=\"T_dna\">T</span></td></tr>\n",
       "</table>\n",
       "<p><i>957 (truncated to 60) DnaSequence</i></p>\n",
       "</div>"
      ],
      "text/plain": [
       "DnaSequence(AGAGATT... 957)"
      ]
     },
     "execution_count": 38,
     "metadata": {},
     "output_type": "execute_result"
    }
   ],
   "source": [
    "from cogent3.parse.genbank import RichGenbankParser\n",
    "\n",
    "parser = RichGenbankParser(open(\"data/ST_genome_part.gb\"))\n",
    "seq = [seq for accession, seq in parser][0]\n",
    "all_cds = seq.get_annotations_matching(\"CDS\")\n",
    "coding_seqs = seq.get_region_covering_all(all_cds)\n",
    "coding_seqs\n",
    "coding_seqs.get_slice()\n",
    "noncoding_seqs = coding_seqs.get_shadow()\n",
    "noncoding_seqs\n",
    "noncoding_seqs.get_slice()"
   ]
  },
  {
   "cell_type": "code",
   "execution_count": 39,
   "id": "encouraging-district",
   "metadata": {
    "execution": {
     "iopub.execute_input": "2021-09-30T04:31:10.886234Z",
     "iopub.status.busy": "2021-09-30T04:31:10.885764Z",
     "iopub.status.idle": "2021-09-30T04:31:10.888405Z",
     "shell.execute_reply": "2021-09-30T04:31:10.888096Z"
    }
   },
   "outputs": [
    {
     "name": "stdout",
     "output_type": "stream",
     "text": [
      ">x\n",
      "-AAAAAAAAA\n",
      ">y\n",
      "TTTT--TTTT\n",
      "\n"
     ]
    },
    {
     "data": {
      "text/plain": [
       "[exon \"1\" at [4:9]/10]"
      ]
     },
     "execution_count": 39,
     "metadata": {},
     "output_type": "execute_result"
    }
   ],
   "source": [
    "from cogent3 import make_aligned_seqs\n",
    "\n",
    "aln = make_aligned_seqs(\n",
    "    data=[[\"x\", \"-AAAAAAAAA\"], [\"y\", \"TTTT--TTTT\"]], array_align=False\n",
    ")\n",
    "print(aln)\n",
    "exon = aln.get_seq(\"x\").add_feature(\"exon\", \"1\", [(3, 8)])\n",
    "aln_exons = aln.get_annotations_from_seq(\"x\", \"exon\")\n",
    "aln_exons = aln.get_annotations_from_any_seq(\"exon\")\n",
    "aln_exons"
   ]
  },
  {
   "cell_type": "code",
   "execution_count": 40,
   "id": "diverse-effectiveness",
   "metadata": {
    "execution": {
     "iopub.execute_input": "2021-09-30T04:31:10.891697Z",
     "iopub.status.busy": "2021-09-30T04:31:10.891220Z",
     "iopub.status.idle": "2021-09-30T04:31:10.892897Z",
     "shell.execute_reply": "2021-09-30T04:31:10.893280Z"
    }
   },
   "outputs": [],
   "source": [
    "from cogent3 import DNA\n",
    "\n",
    "seq = DNA.make_seq(\"aaaccggttt\" * 10)\n",
    "v = seq.add_feature(\"exon\", \"exon\", [(20, 35)])\n",
    "v = seq.add_feature(\"repeat_unit\", \"repeat_unit\", [(39, 49)])\n",
    "v = seq.add_feature(\"repeat_unit\", \"rep2\", [(49, 60)])"
   ]
  },
  {
   "cell_type": "code",
   "execution_count": 41,
   "id": "seeing-plymouth",
   "metadata": {
    "execution": {
     "iopub.execute_input": "2021-09-30T04:31:10.896301Z",
     "iopub.status.busy": "2021-09-30T04:31:10.895797Z",
     "iopub.status.idle": "2021-09-30T04:31:10.897542Z",
     "shell.execute_reply": "2021-09-30T04:31:10.897867Z"
    }
   },
   "outputs": [],
   "source": [
    "from cogent3.util.misc import remove_files\n",
    "\n",
    "remove_files([\"annotated_%d.png\" % i for i in range(1, 4)], error_on_missing=False)"
   ]
  }
 ],
 "metadata": {
  "kernelspec": {
   "display_name": "Python 3",
   "language": "python",
   "name": "python3"
  },
  "language_info": {
   "codemirror_mode": {
    "name": "ipython",
    "version": 3
   },
   "file_extension": ".py",
   "mimetype": "text/x-python",
   "name": "python",
   "nbconvert_exporter": "python",
   "pygments_lexer": "ipython3",
   "version": "3.9.0"
  }
 },
 "nbformat": 4,
 "nbformat_minor": 5
}