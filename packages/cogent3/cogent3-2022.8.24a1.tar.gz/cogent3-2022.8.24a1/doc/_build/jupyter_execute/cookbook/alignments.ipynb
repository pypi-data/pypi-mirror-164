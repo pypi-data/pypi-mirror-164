{
 "cells": [
  {
   "cell_type": "code",
   "execution_count": 1,
   "id": "coordinated-rates",
   "metadata": {
    "execution": {
     "iopub.execute_input": "2021-09-30T04:31:02.408653Z",
     "iopub.status.busy": "2021-09-30T04:31:02.407920Z",
     "iopub.status.idle": "2021-09-30T04:31:02.730457Z",
     "shell.execute_reply": "2021-09-30T04:31:02.730881Z"
    }
   },
   "outputs": [],
   "source": [
    "import set_working_directory"
   ]
  },
  {
   "cell_type": "code",
   "execution_count": 2,
   "id": "outside-network",
   "metadata": {
    "execution": {
     "iopub.execute_input": "2021-09-30T04:31:02.735147Z",
     "iopub.status.busy": "2021-09-30T04:31:02.734535Z",
     "iopub.status.idle": "2021-09-30T04:31:03.362815Z",
     "shell.execute_reply": "2021-09-30T04:31:03.363268Z"
    }
   },
   "outputs": [
    {
     "name": "stdout",
     "output_type": "stream",
     "text": [
      "<class 'cogent3.core.alignment.ArrayAlignment'>\n",
      "<class 'cogent3.core.alignment.SequenceCollection'>\n"
     ]
    }
   ],
   "source": [
    "from cogent3 import make_aligned_seqs, make_unaligned_seqs\n",
    "\n",
    "dna = {\"seq1\": \"ATGACC\", \"seq2\": \"ATCGCC\"}\n",
    "seqs = make_aligned_seqs(data=dna, moltype=\"dna\")\n",
    "print(type(seqs))\n",
    "seqs = make_unaligned_seqs(dna, moltype=\"dna\")\n",
    "print(type(seqs))"
   ]
  },
  {
   "cell_type": "code",
   "execution_count": 3,
   "id": "turned-murray",
   "metadata": {
    "execution": {
     "iopub.execute_input": "2021-09-30T04:31:03.367948Z",
     "iopub.status.busy": "2021-09-30T04:31:03.366965Z",
     "iopub.status.idle": "2021-09-30T04:31:03.370759Z",
     "shell.execute_reply": "2021-09-30T04:31:03.371398Z"
    }
   },
   "outputs": [
    {
     "name": "stdout",
     "output_type": "stream",
     "text": [
      "<class 'cogent3.core.alignment.ArrayAlignment'>\n",
      ">seq1\n",
      "ATGACC\n",
      ">seq2\n",
      "ATCGCC\n",
      "\n"
     ]
    }
   ],
   "source": [
    "from cogent3 import make_aligned_seqs\n",
    "\n",
    "dna = {\"seq1\": \"ATGACC\", \"seq2\": \"ATCGCC\"}\n",
    "seqs = make_aligned_seqs(data=dna, moltype=\"dna\", array_align=True)\n",
    "print(type(seqs))\n",
    "print(seqs)"
   ]
  },
  {
   "cell_type": "code",
   "execution_count": 4,
   "id": "tender-pocket",
   "metadata": {
    "execution": {
     "iopub.execute_input": "2021-09-30T04:31:03.376640Z",
     "iopub.status.busy": "2021-09-30T04:31:03.375567Z",
     "iopub.status.idle": "2021-09-30T04:31:03.380145Z",
     "shell.execute_reply": "2021-09-30T04:31:03.380736Z"
    }
   },
   "outputs": [
    {
     "name": "stdout",
     "output_type": "stream",
     "text": [
      ">NineBande\n",
      "GCAAGGCGCCAACAGAGCAGATGGGCTGAAAGTAAGGAAACATGTAATGATAGGCAGACT\n",
      ">Mouse\n",
      "GCAGTGAGCCAGCAGAGCAGATGGGCTGCAAGTAAAGGAACATGTAACGACAGGCAGGTT\n",
      ">Human\n",
      "GCAAGGAGCCAACATAACAGATGGGCTGGAAGTAAGGAAACATGTAATGATAGGCGGACT\n",
      ">HowlerMon\n",
      "GCAAGGAGCCAACATAACAGATGGGCTGAAAGTGAGGAAACATGTAATGATAGGCAGACT\n",
      ">DogFaced\n",
      "GCAAGGAGCCAGCAGAACAGATGGGTTGAAACTAAGGAAACATGTAATGATAGGCAGACT\n",
      "\n"
     ]
    }
   ],
   "source": [
    "from cogent3 import load_unaligned_seqs\n",
    "\n",
    "seqs = load_unaligned_seqs(\"data/test.paml\")\n",
    "print(seqs)"
   ]
  },
  {
   "cell_type": "code",
   "execution_count": 5,
   "id": "gothic-delhi",
   "metadata": {
    "execution": {
     "iopub.execute_input": "2021-09-30T04:31:03.385719Z",
     "iopub.status.busy": "2021-09-30T04:31:03.385085Z",
     "iopub.status.idle": "2021-09-30T04:31:03.387631Z",
     "shell.execute_reply": "2021-09-30T04:31:03.388038Z"
    }
   },
   "outputs": [
    {
     "name": "stdout",
     "output_type": "stream",
     "text": [
      ">seq1\n",
      "ATGAA------\n",
      ">seq2\n",
      "ATG-AGTGATG\n",
      ">seq3\n",
      "AT--AG-GATG\n",
      "\n",
      ">seq1\n",
      "ATGAA------\n",
      ">seq2\n",
      "ATG-AGTGATG\n",
      ">seq3\n",
      "AT--AG-GATG\n",
      ">seq0\n",
      "ATG-AGT-AGG\n",
      ">seq4\n",
      "ATGCC------\n",
      "\n"
     ]
    }
   ],
   "source": [
    "from cogent3 import make_aligned_seqs\n",
    "\n",
    "aln = make_aligned_seqs(\n",
    "    [(\"seq1\", \"ATGAA------\"), (\"seq2\", \"ATG-AGTGATG\"), (\"seq3\", \"AT--AG-GATG\")],\n",
    "    moltype=\"dna\",\n",
    ")\n",
    "print(aln)\n",
    "new_seqs = make_aligned_seqs(\n",
    "    [(\"seq0\", \"ATG-AGT-AGG\"), (\"seq4\", \"ATGCC------\")], moltype=\"dna\"\n",
    ")\n",
    "new_aln = aln.add_seqs(new_seqs)\n",
    "print(new_aln)"
   ]
  },
  {
   "cell_type": "code",
   "execution_count": 6,
   "id": "decreased-kitty",
   "metadata": {
    "execution": {
     "iopub.execute_input": "2021-09-30T04:31:03.394057Z",
     "iopub.status.busy": "2021-09-30T04:31:03.393082Z",
     "iopub.status.idle": "2021-09-30T04:31:03.395596Z",
     "shell.execute_reply": "2021-09-30T04:31:03.395963Z"
    }
   },
   "outputs": [
    {
     "name": "stdout",
     "output_type": "stream",
     "text": [
      ">seq1\n",
      "ATGAA------\n",
      ">seq0\n",
      "ATG-AGT-AGG\n",
      ">seq4\n",
      "ATGCC------\n",
      ">seq2\n",
      "ATG-AGTGATG\n",
      ">seq3\n",
      "AT--AG-GATG\n",
      "\n",
      ">seq1\n",
      "ATGAA------\n",
      ">seq2\n",
      "ATG-AGTGATG\n",
      ">seq0\n",
      "ATG-AGT-AGG\n",
      ">seq4\n",
      "ATGCC------\n",
      ">seq3\n",
      "AT--AG-GATG\n",
      "\n"
     ]
    }
   ],
   "source": [
    "new_aln = aln.add_seqs(new_seqs, before_name=\"seq2\")\n",
    "print(new_aln)\n",
    "new_aln = aln.add_seqs(new_seqs, after_name=\"seq2\")\n",
    "print(new_aln)"
   ]
  },
  {
   "cell_type": "code",
   "execution_count": 7,
   "id": "received-point",
   "metadata": {
    "execution": {
     "iopub.execute_input": "2021-09-30T04:31:03.402228Z",
     "iopub.status.busy": "2021-09-30T04:31:03.401605Z",
     "iopub.status.idle": "2021-09-30T04:31:03.403976Z",
     "shell.execute_reply": "2021-09-30T04:31:03.404363Z"
    }
   },
   "outputs": [
    {
     "name": "stdout",
     "output_type": "stream",
     "text": [
      ">seq1\n",
      "ATGAA------\n",
      ">seq2\n",
      "ATG-AGTGATG\n",
      ">seq3\n",
      "AT--AG-GATG\n",
      ">seq0\n",
      "AT--G--AGCG\n",
      ">seq4\n",
      "AT--GC-TGGG\n",
      "\n"
     ]
    }
   ],
   "source": [
    "from cogent3 import make_aligned_seqs\n",
    "\n",
    "aln = make_aligned_seqs(\n",
    "    [(\"seq1\", \"ATGAA------\"), (\"seq2\", \"ATG-AGTGATG\"), (\"seq3\", \"AT--AG-GATG\")],\n",
    "    moltype=\"dna\",\n",
    ")\n",
    "ref_aln = make_aligned_seqs(\n",
    "    [(\"seq3\", \"ATAGGATG\"), (\"seq0\", \"ATG-AGCG\"), (\"seq4\", \"ATGCTGGG\")],\n",
    "    moltype=\"dna\",\n",
    ")\n",
    "new_aln = aln.add_from_ref_aln(ref_aln)\n",
    "print(new_aln)"
   ]
  },
  {
   "cell_type": "code",
   "execution_count": 8,
   "id": "handmade-minutes",
   "metadata": {
    "execution": {
     "iopub.execute_input": "2021-09-30T04:31:03.408238Z",
     "iopub.status.busy": "2021-09-30T04:31:03.407681Z",
     "iopub.status.idle": "2021-09-30T04:31:03.409631Z",
     "shell.execute_reply": "2021-09-30T04:31:03.410152Z"
    }
   },
   "outputs": [
    {
     "name": "stdout",
     "output_type": "stream",
     "text": [
      ">seq1\n",
      "ATGAATG\n",
      ">seq2\n",
      "ATG-AAT\n",
      ">seq3\n",
      "AT--AAT\n",
      "\n"
     ]
    }
   ],
   "source": [
    "from cogent3 import make_aligned_seqs\n",
    "\n",
    "aln = make_aligned_seqs(\n",
    "    [(\"seq1\", \"ATGAA---TG-\"), (\"seq2\", \"ATG-AGTGATG\"), (\"seq3\", \"AT--AG-GATG\")],\n",
    "    moltype=\"dna\",\n",
    ")\n",
    "new_aln = aln.get_degapped_relative_to(\"seq1\")\n",
    "print(new_aln)"
   ]
  },
  {
   "cell_type": "code",
   "execution_count": 9,
   "id": "blond-accident",
   "metadata": {
    "execution": {
     "iopub.execute_input": "2021-09-30T04:31:03.419956Z",
     "iopub.status.busy": "2021-09-30T04:31:03.419152Z",
     "iopub.status.idle": "2021-09-30T04:31:03.422381Z",
     "shell.execute_reply": "2021-09-30T04:31:03.422846Z"
    }
   },
   "outputs": [
    {
     "data": {
      "text/plain": [
       "False"
      ]
     },
     "execution_count": 9,
     "metadata": {},
     "output_type": "execute_result"
    }
   ],
   "source": [
    "from cogent3 import make_aligned_seqs\n",
    "\n",
    "aln = make_aligned_seqs(\n",
    "    [(\"seq1\", \"ATGAA------\"), (\"seq2\", \"ATG-AGTGATG\"), (\"seq3\", \"AT--AG-GATG\")],\n",
    "    moltype=\"dna\",\n",
    "    array_align=False,\n",
    ")\n",
    "seq = aln.get_seq(\"seq1\")\n",
    "seq.name\n",
    "type(seq)\n",
    "seq.is_gapped()"
   ]
  },
  {
   "cell_type": "code",
   "execution_count": 10,
   "id": "banner-slave",
   "metadata": {
    "execution": {
     "iopub.execute_input": "2021-09-30T04:31:03.426681Z",
     "iopub.status.busy": "2021-09-30T04:31:03.425993Z",
     "iopub.status.idle": "2021-09-30T04:31:03.428328Z",
     "shell.execute_reply": "2021-09-30T04:31:03.428723Z"
    }
   },
   "outputs": [
    {
     "name": "stdout",
     "output_type": "stream",
     "text": [
      "ATGAA------\n"
     ]
    }
   ],
   "source": [
    "seq = aln.get_gapped_seq(\"seq1\")\n",
    "seq.is_gapped()\n",
    "print(seq)"
   ]
  },
  {
   "cell_type": "code",
   "execution_count": 11,
   "id": "integral-exhibit",
   "metadata": {
    "execution": {
     "iopub.execute_input": "2021-09-30T04:31:03.432446Z",
     "iopub.status.busy": "2021-09-30T04:31:03.431737Z",
     "iopub.status.idle": "2021-09-30T04:31:03.434249Z",
     "shell.execute_reply": "2021-09-30T04:31:03.434654Z"
    }
   },
   "outputs": [
    {
     "data": {
      "text/plain": [
       "['seq1', 'seq2', 'seq3']"
      ]
     },
     "execution_count": 11,
     "metadata": {},
     "output_type": "execute_result"
    }
   ],
   "source": [
    "aln.names\n",
    "aln.names"
   ]
  },
  {
   "cell_type": "code",
   "execution_count": 12,
   "id": "impossible-kruger",
   "metadata": {
    "execution": {
     "iopub.execute_input": "2021-09-30T04:31:03.438910Z",
     "iopub.status.busy": "2021-09-30T04:31:03.438301Z",
     "iopub.status.idle": "2021-09-30T04:31:03.445051Z",
     "shell.execute_reply": "2021-09-30T04:31:03.445498Z"
    }
   },
   "outputs": [
    {
     "name": "stdout",
     "output_type": "stream",
     "text": [
      "TGTGGCACAAATACTCATGCCAGC\n"
     ]
    }
   ],
   "source": [
    "from cogent3 import load_unaligned_seqs, load_aligned_seqs\n",
    "\n",
    "fn = \"data/long_testseqs.fasta\"\n",
    "seqs = load_unaligned_seqs(fn, moltype=\"dna\")\n",
    "my_seq = seqs.seqs[0]\n",
    "my_seq[:24]\n",
    "str(my_seq[:24])\n",
    "type(my_seq)\n",
    "aln = load_aligned_seqs(fn, moltype=\"dna\")\n",
    "aln.seqs[0][:24]\n",
    "print(aln.seqs[0][:24])"
   ]
  },
  {
   "cell_type": "code",
   "execution_count": 13,
   "id": "velvet-strength",
   "metadata": {
    "execution": {
     "iopub.execute_input": "2021-09-30T04:31:03.449320Z",
     "iopub.status.busy": "2021-09-30T04:31:03.448702Z",
     "iopub.status.idle": "2021-09-30T04:31:03.452614Z",
     "shell.execute_reply": "2021-09-30T04:31:03.453010Z"
    }
   },
   "outputs": [
    {
     "data": {
      "text/plain": [
       "['Human', 'HowlerMon']"
      ]
     },
     "execution_count": 13,
     "metadata": {},
     "output_type": "execute_result"
    }
   ],
   "source": [
    "from cogent3 import load_aligned_seqs\n",
    "\n",
    "aln = load_aligned_seqs(\"data/test.paml\", moltype=\"dna\")\n",
    "aln.names\n",
    "new = aln.take_seqs([\"Human\", \"HowlerMon\"])\n",
    "new.names"
   ]
  },
  {
   "cell_type": "code",
   "execution_count": 14,
   "id": "beginning-serum",
   "metadata": {
    "execution": {
     "iopub.execute_input": "2021-09-30T04:31:03.457013Z",
     "iopub.status.busy": "2021-09-30T04:31:03.456422Z",
     "iopub.status.idle": "2021-09-30T04:31:03.460733Z",
     "shell.execute_reply": "2021-09-30T04:31:03.461190Z"
    }
   },
   "outputs": [
    {
     "data": {
      "text/plain": [
       "True"
      ]
     },
     "execution_count": 14,
     "metadata": {},
     "output_type": "execute_result"
    }
   ],
   "source": [
    "from cogent3 import load_aligned_seqs\n",
    "\n",
    "aln = load_aligned_seqs(\"data/test.paml\", array_align=False, moltype=\"dna\")\n",
    "seq = aln.get_seq(\"Human\")\n",
    "new = aln.take_seqs([\"Human\", \"HowlerMon\"])\n",
    "id(new.get_seq(\"Human\")) == id(aln.get_seq(\"Human\"))"
   ]
  },
  {
   "cell_type": "code",
   "execution_count": 15,
   "id": "smaller-cabin",
   "metadata": {
    "execution": {
     "iopub.execute_input": "2021-09-30T04:31:03.464845Z",
     "iopub.status.busy": "2021-09-30T04:31:03.464202Z",
     "iopub.status.idle": "2021-09-30T04:31:03.467452Z",
     "shell.execute_reply": "2021-09-30T04:31:03.467925Z"
    }
   },
   "outputs": [],
   "source": [
    "from cogent3 import load_unaligned_seqs\n",
    "from cogent3.core.alignment import Alignment\n",
    "\n",
    "seq = load_unaligned_seqs(\"data/test.paml\")\n",
    "aln = Alignment(seq)\n",
    "fasta_1 = seq\n",
    "fasta_2 = aln\n",
    "assert fasta_1 == fasta_2"
   ]
  },
  {
   "cell_type": "code",
   "execution_count": 16,
   "id": "interior-noise",
   "metadata": {
    "execution": {
     "iopub.execute_input": "2021-09-30T04:31:03.473542Z",
     "iopub.status.busy": "2021-09-30T04:31:03.472866Z",
     "iopub.status.idle": "2021-09-30T04:31:03.475645Z",
     "shell.execute_reply": "2021-09-30T04:31:03.476059Z"
    }
   },
   "outputs": [
    {
     "data": {
      "text/html": [
       "<style>\n",
       ".c3align td { border: none !important; text-align: left !important; }\n",
       ".c3align tr:not(.num_row) td span {margin: 0 2px;}\n",
       ".c3align tr:nth-child(even) {background: #f7f7f7;}\n",
       ".c3align .num_row {background-color:rgba(161, 195, 209, 0.5) !important; border-top: solid 1px black; }\n",
       ".c3align .label { font-size: 12pt ; text-align: right !important; color: black !important; padding: 0 4px; display: table-cell !important; font-weight: normal !important; }\n",
       ".c3align .T_dna{font-family: \"Lucida Console\",monospace !important; font-size: 12pt !important; color: blue; }\n",
       ".c3align .C_dna{font-family: \"Lucida Console\",monospace !important; font-size: 12pt !important; color: black; }\n",
       ".c3align .A_dna{font-family: \"Lucida Console\",monospace !important; font-size: 12pt !important; color: #FF0102; }\n",
       ".c3align .G_dna{font-family: \"Lucida Console\",monospace !important; font-size: 12pt !important; color: green; }\n",
       ".c3align .terminal_ambig_dna{font-family: \"Lucida Console\",monospace !important; font-size: 12pt !important; color: gray; }\n",
       ".c3align .ambig_dna{font-family: \"Lucida Console\",monospace !important; font-size: 12pt !important; color: gray; }\n",
       "</style>\n",
       "<div class=\"c3align\">\n",
       "<table>\n",
       "<tr class=\"num_row\"><td></td><td><b>0</b></td></tr>\n",
       "<tr><td class=\"label\">b</td><td><span class=\"C_dna\">C</span><span class=\"C_dna\">C</span><span class=\"T_dna\">T</span><span class=\"G_dna\">G</span><span class=\"G_dna\">G</span><span class=\"G_dna\">G</span></td></tr>\n",
       "<tr><td class=\"label\">a</td><td><span class=\"A_dna\">A</span><span class=\"C_dna\">.</span><span class=\"G_dna\">G</span><span class=\"ambig_dna\">-</span><span class=\"ambig_dna\">-</span><span class=\"ambig_dna\">-</span></td></tr>\n",
       "</table>\n",
       "<p><i>2 x 6 dna alignment</i></p>\n",
       "</div>"
      ],
      "text/plain": [
       "2 x 6 dna alignment: a[ACG---], b[CCTGGG]"
      ]
     },
     "execution_count": 16,
     "metadata": {},
     "output_type": "execute_result"
    }
   ],
   "source": [
    "from cogent3 import make_aligned_seqs\n",
    "\n",
    "data = [(\"a\", \"ACG---\"), (\"b\", \"CCTGGG\")]\n",
    "aln = make_aligned_seqs(data=data)\n",
    "dna = aln.to_dna()\n",
    "dna"
   ]
  },
  {
   "cell_type": "code",
   "execution_count": 17,
   "id": "civilian-typing",
   "metadata": {
    "execution": {
     "iopub.execute_input": "2021-09-30T04:31:03.481936Z",
     "iopub.status.busy": "2021-09-30T04:31:03.481156Z",
     "iopub.status.idle": "2021-09-30T04:31:03.484002Z",
     "shell.execute_reply": "2021-09-30T04:31:03.484403Z"
    }
   },
   "outputs": [
    {
     "data": {
      "text/html": [
       "<style>\n",
       ".c3align td { border: none !important; text-align: left !important; }\n",
       ".c3align tr:not(.num_row) td span {margin: 0 2px;}\n",
       ".c3align tr:nth-child(even) {background: #f7f7f7;}\n",
       ".c3align .num_row {background-color:rgba(161, 195, 209, 0.5) !important; border-top: solid 1px black; }\n",
       ".c3align .label { font-size: 12pt ; text-align: right !important; color: black !important; padding: 0 4px; display: table-cell !important; font-weight: normal !important; }\n",
       ".c3align .U_rna{font-family: \"Lucida Console\",monospace !important; font-size: 12pt !important; color: blue; }\n",
       ".c3align .C_rna{font-family: \"Lucida Console\",monospace !important; font-size: 12pt !important; color: black; }\n",
       ".c3align .A_rna{font-family: \"Lucida Console\",monospace !important; font-size: 12pt !important; color: #FF0102; }\n",
       ".c3align .G_rna{font-family: \"Lucida Console\",monospace !important; font-size: 12pt !important; color: green; }\n",
       ".c3align .terminal_ambig_rna{font-family: \"Lucida Console\",monospace !important; font-size: 12pt !important; color: gray; }\n",
       ".c3align .ambig_rna{font-family: \"Lucida Console\",monospace !important; font-size: 12pt !important; color: gray; }\n",
       "</style>\n",
       "<div class=\"c3align\">\n",
       "<table>\n",
       "<tr class=\"num_row\"><td></td><td><b>0</b></td></tr>\n",
       "<tr><td class=\"label\">b</td><td><span class=\"C_rna\">C</span><span class=\"C_rna\">C</span><span class=\"U_rna\">U</span><span class=\"G_rna\">G</span><span class=\"G_rna\">G</span><span class=\"G_rna\">G</span></td></tr>\n",
       "<tr><td class=\"label\">a</td><td><span class=\"A_rna\">A</span><span class=\"C_rna\">.</span><span class=\"G_rna\">G</span><span class=\"ambig_rna\">-</span><span class=\"ambig_rna\">-</span><span class=\"ambig_rna\">-</span></td></tr>\n",
       "</table>\n",
       "<p><i>2 x 6 rna alignment</i></p>\n",
       "</div>"
      ],
      "text/plain": [
       "2 x 6 rna alignment: a[ACG---], b[CCUGGG]"
      ]
     },
     "execution_count": 17,
     "metadata": {},
     "output_type": "execute_result"
    }
   ],
   "source": [
    "from cogent3 import make_aligned_seqs\n",
    "\n",
    "data = [(\"a\", \"ACG---\"), (\"b\", \"CCUGGG\")]\n",
    "aln = make_aligned_seqs(data=data)\n",
    "rna = aln.to_rna()\n",
    "rna"
   ]
  },
  {
   "cell_type": "code",
   "execution_count": 18,
   "id": "looking-halloween",
   "metadata": {
    "execution": {
     "iopub.execute_input": "2021-09-30T04:31:03.489836Z",
     "iopub.status.busy": "2021-09-30T04:31:03.489120Z",
     "iopub.status.idle": "2021-09-30T04:31:03.491909Z",
     "shell.execute_reply": "2021-09-30T04:31:03.492383Z"
    }
   },
   "outputs": [
    {
     "data": {
      "text/html": [
       "<style>\n",
       ".c3align td { border: none !important; text-align: left !important; }\n",
       ".c3align tr:not(.num_row) td span {margin: 0 2px;}\n",
       ".c3align tr:nth-child(even) {background: #f7f7f7;}\n",
       ".c3align .num_row {background-color:rgba(161, 195, 209, 0.5) !important; border-top: solid 1px black; }\n",
       ".c3align .label { font-size: 12pt ; text-align: right !important; color: black !important; padding: 0 4px; display: table-cell !important; font-weight: normal !important; }\n",
       ".c3align .A_protein{font-family: \"Lucida Console\",monospace !important; font-size: 12pt !important; color: #009999; }\n",
       ".c3align .C_protein{font-family: \"Lucida Console\",monospace !important; font-size: 12pt !important; color: orange; }\n",
       ".c3align .D_protein{font-family: \"Lucida Console\",monospace !important; font-size: 12pt !important; color: blue; }\n",
       ".c3align .E_protein{font-family: \"Lucida Console\",monospace !important; font-size: 12pt !important; color: blue; }\n",
       ".c3align .F_protein{font-family: \"Lucida Console\",monospace !important; font-size: 12pt !important; color: #ff6600; }\n",
       ".c3align .G_protein{font-family: \"Lucida Console\",monospace !important; font-size: 12pt !important; color: #009999; }\n",
       ".c3align .H_protein{font-family: \"Lucida Console\",monospace !important; font-size: 12pt !important; color: #FF0102; }\n",
       ".c3align .I_protein{font-family: \"Lucida Console\",monospace !important; font-size: 12pt !important; color: #009999; }\n",
       ".c3align .K_protein{font-family: \"Lucida Console\",monospace !important; font-size: 12pt !important; color: #FF0102; }\n",
       ".c3align .L_protein{font-family: \"Lucida Console\",monospace !important; font-size: 12pt !important; color: #009999; }\n",
       ".c3align .M_protein{font-family: \"Lucida Console\",monospace !important; font-size: 12pt !important; color: orange; }\n",
       ".c3align .N_protein{font-family: \"Lucida Console\",monospace !important; font-size: 12pt !important; color: #993300; }\n",
       ".c3align .P_protein{font-family: \"Lucida Console\",monospace !important; font-size: 12pt !important; color: #cc0099; }\n",
       ".c3align .Q_protein{font-family: \"Lucida Console\",monospace !important; font-size: 12pt !important; color: #993300; }\n",
       ".c3align .R_protein{font-family: \"Lucida Console\",monospace !important; font-size: 12pt !important; color: #FF0102; }\n",
       ".c3align .S_protein{font-family: \"Lucida Console\",monospace !important; font-size: 12pt !important; color: #009900; }\n",
       ".c3align .T_protein{font-family: \"Lucida Console\",monospace !important; font-size: 12pt !important; color: #009900; }\n",
       ".c3align .U_protein{font-family: \"Lucida Console\",monospace !important; font-size: 12pt !important; color: gray; }\n",
       ".c3align .V_protein{font-family: \"Lucida Console\",monospace !important; font-size: 12pt !important; color: #009999; }\n",
       ".c3align .W_protein{font-family: \"Lucida Console\",monospace !important; font-size: 12pt !important; color: #ff6600; }\n",
       ".c3align .Y_protein{font-family: \"Lucida Console\",monospace !important; font-size: 12pt !important; color: #ff6600; }\n",
       ".c3align .terminal_ambig_protein{font-family: \"Lucida Console\",monospace !important; font-size: 12pt !important; color: gray; }\n",
       ".c3align .ambig_protein{font-family: \"Lucida Console\",monospace !important; font-size: 12pt !important; color: gray; }\n",
       "</style>\n",
       "<div class=\"c3align\">\n",
       "<table>\n",
       "<tr class=\"num_row\"><td></td><td><b>0</b></td></tr>\n",
       "<tr><td class=\"label\">x</td><td><span class=\"T_protein\">T</span><span class=\"Y_protein\">Y</span><span class=\"V_protein\">V</span></td></tr>\n",
       "<tr><td class=\"label\">y</td><td><span class=\"T_protein\">.</span><span class=\"E_protein\">E</span><span class=\"ambig_protein\">-</span></td></tr>\n",
       "</table>\n",
       "<p><i>2 x 3 protein alignment</i></p>\n",
       "</div>"
      ],
      "text/plain": [
       "2 x 3 protein alignment: x[TYV], y[TE-]"
      ]
     },
     "execution_count": 18,
     "metadata": {},
     "output_type": "execute_result"
    }
   ],
   "source": [
    "from cogent3 import make_aligned_seqs\n",
    "\n",
    "data = [(\"x\", \"TYV\"), (\"y\", \"TE-\")]\n",
    "aln = make_aligned_seqs(data=data)\n",
    "prot = aln.to_protein()\n",
    "prot"
   ]
  },
  {
   "cell_type": "code",
   "execution_count": 19,
   "id": "cordless-recipe",
   "metadata": {
    "execution": {
     "iopub.execute_input": "2021-09-30T04:31:03.495955Z",
     "iopub.status.busy": "2021-09-30T04:31:03.495336Z",
     "iopub.status.idle": "2021-09-30T04:31:03.499561Z",
     "shell.execute_reply": "2021-09-30T04:31:03.500082Z"
    }
   },
   "outputs": [
    {
     "name": "stdout",
     "output_type": "stream",
     "text": [
      "<class 'cogent3.core.alignment.SequenceCollection'>\n"
     ]
    }
   ],
   "source": [
    "from cogent3 import load_aligned_seqs\n",
    "\n",
    "aln = load_aligned_seqs(\"data/primate_cdx2_promoter.fasta\")\n",
    "degapped = aln.degap()\n",
    "print(type(degapped))"
   ]
  },
  {
   "cell_type": "code",
   "execution_count": 20,
   "id": "compound-notification",
   "metadata": {
    "execution": {
     "iopub.execute_input": "2021-09-30T04:31:03.504248Z",
     "iopub.status.busy": "2021-09-30T04:31:03.503619Z",
     "iopub.status.idle": "2021-09-30T04:31:03.506415Z",
     "shell.execute_reply": "2021-09-30T04:31:03.506898Z"
    }
   },
   "outputs": [],
   "source": [
    "from cogent3 import make_aligned_seqs\n",
    "\n",
    "dna = {\"seq1\": \"ATGACC\", \"seq2\": \"ATCGCC\"}\n",
    "aln = make_aligned_seqs(data=dna, moltype=\"dna\")\n",
    "aln.write(\"sample.fasta\")"
   ]
  },
  {
   "cell_type": "code",
   "execution_count": 21,
   "id": "patient-associate",
   "metadata": {
    "execution": {
     "iopub.execute_input": "2021-09-30T04:31:03.510211Z",
     "iopub.status.busy": "2021-09-30T04:31:03.509575Z",
     "iopub.status.idle": "2021-09-30T04:31:03.512491Z",
     "shell.execute_reply": "2021-09-30T04:31:03.512891Z"
    }
   },
   "outputs": [],
   "source": [
    "aln.write(\"sample\", format=\"fasta\")"
   ]
  },
  {
   "cell_type": "code",
   "execution_count": 22,
   "id": "dangerous-president",
   "metadata": {
    "execution": {
     "iopub.execute_input": "2021-09-30T04:31:03.516330Z",
     "iopub.status.busy": "2021-09-30T04:31:03.515673Z",
     "iopub.status.idle": "2021-09-30T04:31:03.517665Z",
     "shell.execute_reply": "2021-09-30T04:31:03.518178Z"
    }
   },
   "outputs": [],
   "source": [
    "from cogent3.util.misc import remove_files\n",
    "\n",
    "remove_files([\"sample\", \"sample.fasta\"], error_on_missing=False)"
   ]
  },
  {
   "cell_type": "code",
   "execution_count": 23,
   "id": "compact-bishop",
   "metadata": {
    "execution": {
     "iopub.execute_input": "2021-09-30T04:31:03.521737Z",
     "iopub.status.busy": "2021-09-30T04:31:03.521110Z",
     "iopub.status.idle": "2021-09-30T04:31:03.526645Z",
     "shell.execute_reply": "2021-09-30T04:31:03.527075Z"
    }
   },
   "outputs": [],
   "source": [
    "from cogent3 import load_aligned_seqs\n",
    "from cogent3.core.alignment import Alignment\n",
    "\n",
    "seq = load_aligned_seqs(\"data/long_testseqs.fasta\")\n",
    "aln = Alignment(seq)\n",
    "fasta_align = aln"
   ]
  },
  {
   "cell_type": "code",
   "execution_count": 24,
   "id": "motivated-praise",
   "metadata": {
    "execution": {
     "iopub.execute_input": "2021-09-30T04:31:03.530872Z",
     "iopub.status.busy": "2021-09-30T04:31:03.530210Z",
     "iopub.status.idle": "2021-09-30T04:31:03.534782Z",
     "shell.execute_reply": "2021-09-30T04:31:03.535234Z"
    }
   },
   "outputs": [
    {
     "name": "stdout",
     "output_type": "stream",
     "text": [
      "5  60\n",
      "NineBande GCAAGGCGCCAACAGAGCAGATGGGCTGAAAGTAAGGAAACATGTAATGATAGGCAGACT\n",
      "Mouse     GCAGTGAGCCAGCAGAGCAGATGGGCTGCAAGTAAAGGAACATGTAACGACAGGCAGGTT\n",
      "Human     GCAAGGAGCCAACATAACAGATGGGCTGGAAGTAAGGAAACATGTAATGATAGGCGGACT\n",
      "HowlerMon GCAAGGAGCCAACATAACAGATGGGCTGAAAGTGAGGAAACATGTAATGATAGGCAGACT\n",
      "DogFaced  GCAAGGAGCCAGCAGAACAGATGGGTTGAAACTAAGGAAACATGTAATGATAGGCAGACT\n",
      "\n"
     ]
    }
   ],
   "source": [
    "from cogent3 import load_aligned_seqs\n",
    "from cogent3.core.alignment import Alignment\n",
    "\n",
    "seq = load_aligned_seqs(\"data/test.paml\")\n",
    "aln = Alignment(seq)\n",
    "got = aln.to_phylip()\n",
    "print(got)"
   ]
  },
  {
   "cell_type": "code",
   "execution_count": 25,
   "id": "serial-bristol",
   "metadata": {
    "execution": {
     "iopub.execute_input": "2021-09-30T04:31:03.538968Z",
     "iopub.status.busy": "2021-09-30T04:31:03.538336Z",
     "iopub.status.idle": "2021-09-30T04:31:03.541495Z",
     "shell.execute_reply": "2021-09-30T04:31:03.541995Z"
    }
   },
   "outputs": [],
   "source": [
    "from cogent3 import load_aligned_seqs\n",
    "from cogent3.core.alignment import Alignment\n",
    "\n",
    "seq = load_aligned_seqs(\"data/test.paml\")\n",
    "aln = Alignment(seq)\n",
    "string_list = aln.to_dict().values()"
   ]
  },
  {
   "cell_type": "code",
   "execution_count": 26,
   "id": "greenhouse-breeding",
   "metadata": {
    "execution": {
     "iopub.execute_input": "2021-09-30T04:31:03.545516Z",
     "iopub.status.busy": "2021-09-30T04:31:03.544946Z",
     "iopub.status.idle": "2021-09-30T04:31:03.550002Z",
     "shell.execute_reply": "2021-09-30T04:31:03.550502Z"
    }
   },
   "outputs": [
    {
     "name": "stdout",
     "output_type": "stream",
     "text": [
      ">Human\n",
      "TGTGGCACAAATACTCATGCCAGC\n",
      ">HowlerMon\n",
      "TGTGGCACAAATACTCATGCCAGC\n",
      ">Mouse\n",
      "TGTGGCACAGATGCTCATGCCAGC\n",
      ">NineBande\n",
      "TGTGGCACAAATACTCATGCCAAC\n",
      ">DogFaced\n",
      "TGTGGCACAAATACTCATGCCAAC\n",
      "\n"
     ]
    }
   ],
   "source": [
    "from cogent3 import load_aligned_seqs\n",
    "\n",
    "fn = \"data/long_testseqs.fasta\"\n",
    "aln = load_aligned_seqs(fn, moltype=\"dna\")\n",
    "print(aln[:24])"
   ]
  },
  {
   "cell_type": "code",
   "execution_count": 27,
   "id": "heavy-italy",
   "metadata": {
    "execution": {
     "iopub.execute_input": "2021-09-30T04:31:03.554183Z",
     "iopub.status.busy": "2021-09-30T04:31:03.553594Z",
     "iopub.status.idle": "2021-09-30T04:31:03.745192Z",
     "shell.execute_reply": "2021-09-30T04:31:03.745850Z"
    }
   },
   "outputs": [
    {
     "ename": "TypeError",
     "evalue": "'SequenceCollection' object is not subscriptable",
     "output_type": "error",
     "traceback": [
      "\u001b[0;31m---------------------------------------------------------------------------\u001b[0m",
      "\u001b[0;31mTypeError\u001b[0m                                 Traceback (most recent call last)",
      "\u001b[0;32m<ipython-input-27-703957846d13>\u001b[0m in \u001b[0;36m<module>\u001b[0;34m\u001b[0m\n\u001b[1;32m      3\u001b[0m \u001b[0mfn\u001b[0m \u001b[0;34m=\u001b[0m \u001b[0;34m\"data/long_testseqs.fasta\"\u001b[0m\u001b[0;34m\u001b[0m\u001b[0;34m\u001b[0m\u001b[0m\n\u001b[1;32m      4\u001b[0m \u001b[0mseqs\u001b[0m \u001b[0;34m=\u001b[0m \u001b[0mload_unaligned_seqs\u001b[0m\u001b[0;34m(\u001b[0m\u001b[0mfn\u001b[0m\u001b[0;34m)\u001b[0m\u001b[0;34m\u001b[0m\u001b[0;34m\u001b[0m\u001b[0m\n\u001b[0;32m----> 5\u001b[0;31m \u001b[0mprint\u001b[0m\u001b[0;34m(\u001b[0m\u001b[0mseqs\u001b[0m\u001b[0;34m[\u001b[0m\u001b[0;34m:\u001b[0m\u001b[0;36m24\u001b[0m\u001b[0;34m]\u001b[0m\u001b[0;34m)\u001b[0m\u001b[0;34m\u001b[0m\u001b[0;34m\u001b[0m\u001b[0m\n\u001b[0m",
      "\u001b[0;31mTypeError\u001b[0m: 'SequenceCollection' object is not subscriptable"
     ]
    }
   ],
   "source": [
    "from cogent3 import load_unaligned_seqs\n",
    "\n",
    "fn = \"data/long_testseqs.fasta\"\n",
    "seqs = load_unaligned_seqs(fn)\n",
    "print(seqs[:24])"
   ]
  },
  {
   "cell_type": "code",
   "execution_count": 28,
   "id": "surgical-charter",
   "metadata": {
    "execution": {
     "iopub.execute_input": "2021-09-30T04:31:03.749219Z",
     "iopub.status.busy": "2021-09-30T04:31:03.748625Z",
     "iopub.status.idle": "2021-09-30T04:31:03.751324Z",
     "shell.execute_reply": "2021-09-30T04:31:03.751697Z"
    }
   },
   "outputs": [],
   "source": [
    "from cogent3 import load_aligned_seqs\n",
    "\n",
    "seq = load_aligned_seqs(\"data/test.paml\")\n",
    "column_four = aln[3]"
   ]
  },
  {
   "cell_type": "code",
   "execution_count": 29,
   "id": "orange-medline",
   "metadata": {
    "execution": {
     "iopub.execute_input": "2021-09-30T04:31:03.754936Z",
     "iopub.status.busy": "2021-09-30T04:31:03.754316Z",
     "iopub.status.idle": "2021-09-30T04:31:03.759107Z",
     "shell.execute_reply": "2021-09-30T04:31:03.759528Z"
    }
   },
   "outputs": [],
   "source": [
    "from cogent3 import load_aligned_seqs\n",
    "\n",
    "aln = load_aligned_seqs(\"data/long_testseqs.fasta\")\n",
    "region = aln[50:70]"
   ]
  },
  {
   "cell_type": "code",
   "execution_count": 30,
   "id": "alternate-seating",
   "metadata": {
    "execution": {
     "iopub.execute_input": "2021-09-30T04:31:03.763058Z",
     "iopub.status.busy": "2021-09-30T04:31:03.762472Z",
     "iopub.status.idle": "2021-09-30T04:31:03.767725Z",
     "shell.execute_reply": "2021-09-30T04:31:03.768563Z"
    }
   },
   "outputs": [
    {
     "data": {
      "text/plain": [
       "[[ByteSequence(A), ByteSequence(A), ByteSequence(A)],\n",
       " [ByteSequence(T), ByteSequence(-), ByteSequence(-)]]"
      ]
     },
     "execution_count": 30,
     "metadata": {},
     "output_type": "execute_result"
    }
   ],
   "source": [
    "from cogent3 import load_aligned_seqs\n",
    "\n",
    "aln = load_aligned_seqs(\"data/primate_cdx2_promoter.fasta\")\n",
    "col = aln[113:115].iter_positions()\n",
    "type(col)\n",
    "list(col)"
   ]
  },
  {
   "cell_type": "code",
   "execution_count": 31,
   "id": "modern-connectivity",
   "metadata": {
    "execution": {
     "iopub.execute_input": "2021-09-30T04:31:03.774674Z",
     "iopub.status.busy": "2021-09-30T04:31:03.773940Z",
     "iopub.status.idle": "2021-09-30T04:31:03.776483Z",
     "shell.execute_reply": "2021-09-30T04:31:03.777111Z"
    }
   },
   "outputs": [
    {
     "name": "stdout",
     "output_type": "stream",
     "text": [
      ">seq1\n",
      "GGG-\n",
      ">seq2\n",
      "GGGG\n",
      "\n"
     ]
    }
   ],
   "source": [
    "from cogent3 import make_aligned_seqs\n",
    "\n",
    "aln = make_aligned_seqs(\n",
    "    data={\"seq1\": \"ATGATGATG---\", \"seq2\": \"ATGATGATGATG\"}, array_align=False\n",
    ")\n",
    "list(range(len(aln))[2::3])\n",
    "indices = [(i, i + 1) for i in range(len(aln))[2::3]]\n",
    "indices\n",
    "pos3 = aln.add_feature(\"pos3\", \"pos3\", indices)\n",
    "pos3 = pos3.get_slice()\n",
    "print(pos3)"
   ]
  },
  {
   "cell_type": "code",
   "execution_count": 32,
   "id": "little-print",
   "metadata": {
    "execution": {
     "iopub.execute_input": "2021-09-30T04:31:03.781533Z",
     "iopub.status.busy": "2021-09-30T04:31:03.780806Z",
     "iopub.status.idle": "2021-09-30T04:31:03.783454Z",
     "shell.execute_reply": "2021-09-30T04:31:03.783867Z"
    }
   },
   "outputs": [
    {
     "name": "stdout",
     "output_type": "stream",
     "text": [
      ">seq1\n",
      "GGG-\n",
      ">seq2\n",
      "GGGG\n",
      "\n"
     ]
    }
   ],
   "source": [
    "from cogent3 import make_aligned_seqs\n",
    "\n",
    "aln = make_aligned_seqs(\n",
    "    data={\"seq1\": \"ATGATGATG---\", \"seq2\": \"ATGATGATGATG\"}, array_align=True\n",
    ")\n",
    "pos3 = aln[2::3]\n",
    "print(pos3)"
   ]
  },
  {
   "cell_type": "code",
   "execution_count": 33,
   "id": "median-parcel",
   "metadata": {
    "execution": {
     "iopub.execute_input": "2021-09-30T04:31:03.788115Z",
     "iopub.status.busy": "2021-09-30T04:31:03.787533Z",
     "iopub.status.idle": "2021-09-30T04:31:03.789420Z",
     "shell.execute_reply": "2021-09-30T04:31:03.790017Z"
    }
   },
   "outputs": [
    {
     "name": "stdout",
     "output_type": "stream",
     "text": [
      ">seq1\n",
      "ACG---\n",
      ">seq2\n",
      "ACGACA\n",
      ">seq3\n",
      "ACGCAA\n",
      "\n"
     ]
    }
   ],
   "source": [
    "from cogent3 import make_aligned_seqs\n",
    "\n",
    "aln = make_aligned_seqs(\n",
    "    data={\"seq1\": \"ACGTAA---\", \"seq2\": \"ACGACA---\", \"seq3\": \"ACGCAATGA\"},\n",
    "    moltype=\"dna\",\n",
    ")\n",
    "new = aln.trim_stop_codons()\n",
    "print(new)"
   ]
  },
  {
   "cell_type": "code",
   "execution_count": 34,
   "id": "hollow-venice",
   "metadata": {
    "execution": {
     "iopub.execute_input": "2021-09-30T04:31:03.794488Z",
     "iopub.status.busy": "2021-09-30T04:31:03.793770Z",
     "iopub.status.idle": "2021-09-30T04:31:03.796010Z",
     "shell.execute_reply": "2021-09-30T04:31:03.796477Z"
    }
   },
   "outputs": [
    {
     "name": "stdout",
     "output_type": "stream",
     "text": [
      ">seq1\n",
      "ACG---\n",
      ">seq2\n",
      "ACGAC-\n",
      ">seq3\n",
      "ACGCAA\n",
      "\n"
     ]
    }
   ],
   "source": [
    "aln = make_aligned_seqs(\n",
    "    data={\n",
    "        \"seq1\": \"ACGTAA---\",\n",
    "        \"seq2\": \"ACGAC----\",  # terminal codon incomplete\n",
    "        \"seq3\": \"ACGCAATGA\",\n",
    "    },\n",
    "    moltype=\"dna\",\n",
    ")\n",
    "new = aln.trim_stop_codons(allow_partial=True)\n",
    "print(new)"
   ]
  },
  {
   "cell_type": "code",
   "execution_count": 35,
   "id": "hourly-compromise",
   "metadata": {
    "execution": {
     "iopub.execute_input": "2021-09-30T04:31:03.800379Z",
     "iopub.status.busy": "2021-09-30T04:31:03.799818Z",
     "iopub.status.idle": "2021-09-30T04:31:03.801800Z",
     "shell.execute_reply": "2021-09-30T04:31:03.802208Z"
    }
   },
   "outputs": [],
   "source": [
    "from cogent3 import make_aligned_seqs\n",
    "\n",
    "aln = make_aligned_seqs(\n",
    "    data=[\n",
    "        (\"seq1\", \"ATGAAGGTG---\"),\n",
    "        (\"seq2\", \"ATGAAGGTGATG\"),\n",
    "        (\"seq3\", \"ATGAAGGNGATG\"),\n",
    "    ],\n",
    "    moltype=\"dna\",\n",
    ")"
   ]
  },
  {
   "cell_type": "code",
   "execution_count": 36,
   "id": "given-clarity",
   "metadata": {
    "execution": {
     "iopub.execute_input": "2021-09-30T04:31:03.805894Z",
     "iopub.status.busy": "2021-09-30T04:31:03.805241Z",
     "iopub.status.idle": "2021-09-30T04:31:03.807443Z",
     "shell.execute_reply": "2021-09-30T04:31:03.807994Z"
    }
   },
   "outputs": [
    {
     "name": "stdout",
     "output_type": "stream",
     "text": [
      ">seq1\n",
      "ATGAAGGG\n",
      ">seq2\n",
      "ATGAAGGG\n",
      ">seq3\n",
      "ATGAAGGG\n",
      "\n"
     ]
    }
   ],
   "source": [
    "nucs = aln.no_degenerates()\n",
    "print(nucs)"
   ]
  },
  {
   "cell_type": "code",
   "execution_count": 37,
   "id": "literary-dream",
   "metadata": {
    "execution": {
     "iopub.execute_input": "2021-09-30T04:31:03.811570Z",
     "iopub.status.busy": "2021-09-30T04:31:03.810961Z",
     "iopub.status.idle": "2021-09-30T04:31:03.813158Z",
     "shell.execute_reply": "2021-09-30T04:31:03.813550Z"
    }
   },
   "outputs": [
    {
     "name": "stdout",
     "output_type": "stream",
     "text": [
      ">seq1\n",
      "ATGAAG\n",
      ">seq2\n",
      "ATGAAG\n",
      ">seq3\n",
      "ATGAAG\n",
      "\n"
     ]
    }
   ],
   "source": [
    "trinucs = aln.no_degenerates(motif_length=3)\n",
    "print(trinucs)"
   ]
  },
  {
   "cell_type": "code",
   "execution_count": 38,
   "id": "accessible-cartoon",
   "metadata": {
    "execution": {
     "iopub.execute_input": "2021-09-30T04:31:03.817079Z",
     "iopub.status.busy": "2021-09-30T04:31:03.816460Z",
     "iopub.status.idle": "2021-09-30T04:31:04.051836Z",
     "shell.execute_reply": "2021-09-30T04:31:04.052234Z"
    }
   },
   "outputs": [
    {
     "name": "stdout",
     "output_type": "stream",
     "text": [
      ">Human\n",
      "AAGCAAAACT\n",
      ">HowlerMon\n",
      "AAGCAAGACT\n",
      ">Mouse\n",
      "GGGCCCAGCT\n",
      ">NineBande\n",
      "AAATAAAACT\n",
      ">DogFaced\n",
      "AAACAAAATA\n",
      "\n"
     ]
    }
   ],
   "source": [
    "from cogent3 import load_aligned_seqs\n",
    "\n",
    "aln = load_aligned_seqs(\"data/long_testseqs.fasta\")\n",
    "pos = aln.variable_positions()\n",
    "just_variable_aln = aln.take_positions(pos)\n",
    "print(just_variable_aln[:10])"
   ]
  },
  {
   "cell_type": "code",
   "execution_count": 39,
   "id": "social-bridal",
   "metadata": {
    "execution": {
     "iopub.execute_input": "2021-09-30T04:31:04.055977Z",
     "iopub.status.busy": "2021-09-30T04:31:04.055317Z",
     "iopub.status.idle": "2021-09-30T04:31:04.335755Z",
     "shell.execute_reply": "2021-09-30T04:31:04.336151Z"
    }
   },
   "outputs": [
    {
     "name": "stdout",
     "output_type": "stream",
     "text": [
      ">Human\n",
      "TGTGGCACAA\n",
      ">HowlerMon\n",
      "TGTGGCACAA\n",
      ">Mouse\n",
      "TGTGGCACAA\n",
      ">NineBande\n",
      "TGTGGCACAA\n",
      ">DogFaced\n",
      "TGTGGCACAA\n",
      "\n"
     ]
    }
   ],
   "source": [
    "from cogent3 import load_aligned_seqs\n",
    "\n",
    "aln = load_aligned_seqs(\"data/long_testseqs.fasta\")\n",
    "pos = aln.variable_positions()\n",
    "just_constant_aln = aln.take_positions(pos, negate=True)\n",
    "print(just_constant_aln[:10])"
   ]
  },
  {
   "cell_type": "code",
   "execution_count": 40,
   "id": "passing-puppy",
   "metadata": {
    "execution": {
     "iopub.execute_input": "2021-09-30T04:31:04.339620Z",
     "iopub.status.busy": "2021-09-30T04:31:04.339065Z",
     "iopub.status.idle": "2021-09-30T04:31:04.350171Z",
     "shell.execute_reply": "2021-09-30T04:31:04.350574Z"
    }
   },
   "outputs": [
    {
     "name": "stdout",
     "output_type": "stream",
     "text": [
      ">Human\n",
      "AAGCAAAAC\n",
      ">HowlerMon\n",
      "AAGCAAGAC\n",
      ">Mouse\n",
      "GGGCCCAGC\n",
      ">NineBande\n",
      "AAATAAAAC\n",
      ">DogFaced\n",
      "AAACAAAAT\n",
      "\n"
     ]
    }
   ],
   "source": [
    "from cogent3 import load_aligned_seqs\n",
    "\n",
    "aln = load_aligned_seqs(\"data/long_testseqs.fasta\")\n",
    "variable_codons = aln.filtered(\n",
    "    lambda x: len(set(map(tuple, x))) > 1, motif_length=3\n",
    ")\n",
    "print(just_variable_aln[:9])"
   ]
  },
  {
   "cell_type": "code",
   "execution_count": 41,
   "id": "agreed-cartridge",
   "metadata": {
    "execution": {
     "iopub.execute_input": "2021-09-30T04:31:04.357925Z",
     "iopub.status.busy": "2021-09-30T04:31:04.357295Z",
     "iopub.status.idle": "2021-09-30T04:31:04.359688Z",
     "shell.execute_reply": "2021-09-30T04:31:04.360104Z"
    }
   },
   "outputs": [
    {
     "name": "stdout",
     "output_type": "stream",
     "text": [
      ">Human\n",
      "AAGCAAAAC\n",
      ">HowlerMon\n",
      "AAGCAAGAC\n",
      ">Mouse\n",
      "GGGCCCAGC\n",
      ">NineBande\n",
      "AAATAAAAC\n",
      ">DogFaced\n",
      "AAACAAAAT\n",
      "\n"
     ]
    }
   ],
   "source": [
    "aln = aln.to_type(array_align=False)\n",
    "variable_codons = aln.filtered(lambda x: len(set(\"\".join(x))) > 1, motif_length=3)\n",
    "print(just_variable_aln[:9])"
   ]
  },
  {
   "cell_type": "code",
   "execution_count": 42,
   "id": "sitting-national",
   "metadata": {
    "execution": {
     "iopub.execute_input": "2021-09-30T04:31:04.363098Z",
     "iopub.status.busy": "2021-09-30T04:31:04.362566Z",
     "iopub.status.idle": "2021-09-30T04:31:04.374718Z",
     "shell.execute_reply": "2021-09-30T04:31:04.375053Z"
    }
   },
   "outputs": [
    {
     "data": {
      "text/html": [
       "<style>\n",
       ".c3align td { border: none !important; text-align: left !important; }\n",
       ".c3align tr:not(.num_row) td span {margin: 0 2px;}\n",
       ".c3align tr:nth-child(even) {background: #f7f7f7;}\n",
       ".c3align .num_row {background-color:rgba(161, 195, 209, 0.5) !important; border-top: solid 1px black; }\n",
       ".c3align .label { font-size: 12pt ; text-align: right !important; color: black !important; padding: 0 4px; display: table-cell !important; font-weight: normal !important; }\n",
       ".c3align .\u0000_bytes{font-family: \"Lucida Console\",monospace !important; font-size: 12pt !important; color: black; }\n",
       ".c3align .\u0001_bytes{font-family: \"Lucida Console\",monospace !important; font-size: 12pt !important; color: black; }\n",
       ".c3align .\u0002_bytes{font-family: \"Lucida Console\",monospace !important; font-size: 12pt !important; color: black; }\n",
       ".c3align .\u0003_bytes{font-family: \"Lucida Console\",monospace !important; font-size: 12pt !important; color: black; }\n",
       ".c3align .\u0004_bytes{font-family: \"Lucida Console\",monospace !important; font-size: 12pt !important; color: black; }\n",
       ".c3align .\u0005_bytes{font-family: \"Lucida Console\",monospace !important; font-size: 12pt !important; color: black; }\n",
       ".c3align .\u0006_bytes{font-family: \"Lucida Console\",monospace !important; font-size: 12pt !important; color: black; }\n",
       ".c3align .\u0007_bytes{font-family: \"Lucida Console\",monospace !important; font-size: 12pt !important; color: black; }\n",
       ".c3align .\b_bytes{font-family: \"Lucida Console\",monospace !important; font-size: 12pt !important; color: black; }\n",
       ".c3align .\t_bytes{font-family: \"Lucida Console\",monospace !important; font-size: 12pt !important; color: black; }\n",
       ".c3align .\n",
       "_bytes{font-family: \"Lucida Console\",monospace !important; font-size: 12pt !important; color: black; }\n",
       ".c3align .\u000b",
       "_bytes{font-family: \"Lucida Console\",monospace !important; font-size: 12pt !important; color: black; }\n",
       ".c3align .\f",
       "_bytes{font-family: \"Lucida Console\",monospace !important; font-size: 12pt !important; color: black; }\n",
       ".c3align .\r",
       "_bytes{font-family: \"Lucida Console\",monospace !important; font-size: 12pt !important; color: black; }\n",
       ".c3align .\u000e_bytes{font-family: \"Lucida Console\",monospace !important; font-size: 12pt !important; color: black; }\n",
       ".c3align .\u000f_bytes{font-family: \"Lucida Console\",monospace !important; font-size: 12pt !important; color: black; }\n",
       ".c3align .\u0010_bytes{font-family: \"Lucida Console\",monospace !important; font-size: 12pt !important; color: black; }\n",
       ".c3align .\u0011_bytes{font-family: \"Lucida Console\",monospace !important; font-size: 12pt !important; color: black; }\n",
       ".c3align .\u0012_bytes{font-family: \"Lucida Console\",monospace !important; font-size: 12pt !important; color: black; }\n",
       ".c3align .\u0013_bytes{font-family: \"Lucida Console\",monospace !important; font-size: 12pt !important; color: black; }\n",
       ".c3align .\u0014_bytes{font-family: \"Lucida Console\",monospace !important; font-size: 12pt !important; color: black; }\n",
       ".c3align .\u0015_bytes{font-family: \"Lucida Console\",monospace !important; font-size: 12pt !important; color: black; }\n",
       ".c3align .\u0016_bytes{font-family: \"Lucida Console\",monospace !important; font-size: 12pt !important; color: black; }\n",
       ".c3align .\u0017_bytes{font-family: \"Lucida Console\",monospace !important; font-size: 12pt !important; color: black; }\n",
       ".c3align .\u0018_bytes{font-family: \"Lucida Console\",monospace !important; font-size: 12pt !important; color: black; }\n",
       ".c3align .\u0019_bytes{font-family: \"Lucida Console\",monospace !important; font-size: 12pt !important; color: black; }\n",
       ".c3align .\u001a_bytes{font-family: \"Lucida Console\",monospace !important; font-size: 12pt !important; color: black; }\n",
       ".c3align .\u001b_bytes{font-family: \"Lucida Console\",monospace !important; font-size: 12pt !important; color: black; }\n",
       ".c3align .\u001c",
       "_bytes{font-family: \"Lucida Console\",monospace !important; font-size: 12pt !important; color: black; }\n",
       ".c3align .\u001d",
       "_bytes{font-family: \"Lucida Console\",monospace !important; font-size: 12pt !important; color: black; }\n",
       ".c3align .\u001e",
       "_bytes{font-family: \"Lucida Console\",monospace !important; font-size: 12pt !important; color: black; }\n",
       ".c3align .\u001f_bytes{font-family: \"Lucida Console\",monospace !important; font-size: 12pt !important; color: black; }\n",
       ".c3align . _bytes{font-family: \"Lucida Console\",monospace !important; font-size: 12pt !important; color: black; }\n",
       ".c3align .!_bytes{font-family: \"Lucida Console\",monospace !important; font-size: 12pt !important; color: black; }\n",
       ".c3align .\"_bytes{font-family: \"Lucida Console\",monospace !important; font-size: 12pt !important; color: black; }\n",
       ".c3align .#_bytes{font-family: \"Lucida Console\",monospace !important; font-size: 12pt !important; color: black; }\n",
       ".c3align .$_bytes{font-family: \"Lucida Console\",monospace !important; font-size: 12pt !important; color: black; }\n",
       ".c3align .%_bytes{font-family: \"Lucida Console\",monospace !important; font-size: 12pt !important; color: black; }\n",
       ".c3align .&_bytes{font-family: \"Lucida Console\",monospace !important; font-size: 12pt !important; color: black; }\n",
       ".c3align .'_bytes{font-family: \"Lucida Console\",monospace !important; font-size: 12pt !important; color: black; }\n",
       ".c3align .(_bytes{font-family: \"Lucida Console\",monospace !important; font-size: 12pt !important; color: black; }\n",
       ".c3align .)_bytes{font-family: \"Lucida Console\",monospace !important; font-size: 12pt !important; color: black; }\n",
       ".c3align .*_bytes{font-family: \"Lucida Console\",monospace !important; font-size: 12pt !important; color: black; }\n",
       ".c3align .+_bytes{font-family: \"Lucida Console\",monospace !important; font-size: 12pt !important; color: black; }\n",
       ".c3align .,_bytes{font-family: \"Lucida Console\",monospace !important; font-size: 12pt !important; color: black; }\n",
       ".c3align .-_bytes{font-family: \"Lucida Console\",monospace !important; font-size: 12pt !important; color: black; }\n",
       ".c3align .._bytes{font-family: \"Lucida Console\",monospace !important; font-size: 12pt !important; color: black; }\n",
       ".c3align ./_bytes{font-family: \"Lucida Console\",monospace !important; font-size: 12pt !important; color: black; }\n",
       ".c3align .0_bytes{font-family: \"Lucida Console\",monospace !important; font-size: 12pt !important; color: black; }\n",
       ".c3align .1_bytes{font-family: \"Lucida Console\",monospace !important; font-size: 12pt !important; color: black; }\n",
       ".c3align .2_bytes{font-family: \"Lucida Console\",monospace !important; font-size: 12pt !important; color: black; }\n",
       ".c3align .3_bytes{font-family: \"Lucida Console\",monospace !important; font-size: 12pt !important; color: black; }\n",
       ".c3align .4_bytes{font-family: \"Lucida Console\",monospace !important; font-size: 12pt !important; color: black; }\n",
       ".c3align .5_bytes{font-family: \"Lucida Console\",monospace !important; font-size: 12pt !important; color: black; }\n",
       ".c3align .6_bytes{font-family: \"Lucida Console\",monospace !important; font-size: 12pt !important; color: black; }\n",
       ".c3align .7_bytes{font-family: \"Lucida Console\",monospace !important; font-size: 12pt !important; color: black; }\n",
       ".c3align .8_bytes{font-family: \"Lucida Console\",monospace !important; font-size: 12pt !important; color: black; }\n",
       ".c3align .9_bytes{font-family: \"Lucida Console\",monospace !important; font-size: 12pt !important; color: black; }\n",
       ".c3align .:_bytes{font-family: \"Lucida Console\",monospace !important; font-size: 12pt !important; color: black; }\n",
       ".c3align .;_bytes{font-family: \"Lucida Console\",monospace !important; font-size: 12pt !important; color: black; }\n",
       ".c3align .<_bytes{font-family: \"Lucida Console\",monospace !important; font-size: 12pt !important; color: black; }\n",
       ".c3align .=_bytes{font-family: \"Lucida Console\",monospace !important; font-size: 12pt !important; color: black; }\n",
       ".c3align .>_bytes{font-family: \"Lucida Console\",monospace !important; font-size: 12pt !important; color: black; }\n",
       ".c3align .?_bytes{font-family: \"Lucida Console\",monospace !important; font-size: 12pt !important; color: black; }\n",
       ".c3align .@_bytes{font-family: \"Lucida Console\",monospace !important; font-size: 12pt !important; color: black; }\n",
       ".c3align .A_bytes{font-family: \"Lucida Console\",monospace !important; font-size: 12pt !important; color: black; }\n",
       ".c3align .B_bytes{font-family: \"Lucida Console\",monospace !important; font-size: 12pt !important; color: black; }\n",
       ".c3align .C_bytes{font-family: \"Lucida Console\",monospace !important; font-size: 12pt !important; color: black; }\n",
       ".c3align .D_bytes{font-family: \"Lucida Console\",monospace !important; font-size: 12pt !important; color: black; }\n",
       ".c3align .E_bytes{font-family: \"Lucida Console\",monospace !important; font-size: 12pt !important; color: black; }\n",
       ".c3align .F_bytes{font-family: \"Lucida Console\",monospace !important; font-size: 12pt !important; color: black; }\n",
       ".c3align .G_bytes{font-family: \"Lucida Console\",monospace !important; font-size: 12pt !important; color: black; }\n",
       ".c3align .H_bytes{font-family: \"Lucida Console\",monospace !important; font-size: 12pt !important; color: black; }\n",
       ".c3align .I_bytes{font-family: \"Lucida Console\",monospace !important; font-size: 12pt !important; color: black; }\n",
       ".c3align .J_bytes{font-family: \"Lucida Console\",monospace !important; font-size: 12pt !important; color: black; }\n",
       ".c3align .K_bytes{font-family: \"Lucida Console\",monospace !important; font-size: 12pt !important; color: black; }\n",
       ".c3align .L_bytes{font-family: \"Lucida Console\",monospace !important; font-size: 12pt !important; color: black; }\n",
       ".c3align .M_bytes{font-family: \"Lucida Console\",monospace !important; font-size: 12pt !important; color: black; }\n",
       ".c3align .N_bytes{font-family: \"Lucida Console\",monospace !important; font-size: 12pt !important; color: black; }\n",
       ".c3align .O_bytes{font-family: \"Lucida Console\",monospace !important; font-size: 12pt !important; color: black; }\n",
       ".c3align .P_bytes{font-family: \"Lucida Console\",monospace !important; font-size: 12pt !important; color: black; }\n",
       ".c3align .Q_bytes{font-family: \"Lucida Console\",monospace !important; font-size: 12pt !important; color: black; }\n",
       ".c3align .R_bytes{font-family: \"Lucida Console\",monospace !important; font-size: 12pt !important; color: black; }\n",
       ".c3align .S_bytes{font-family: \"Lucida Console\",monospace !important; font-size: 12pt !important; color: black; }\n",
       ".c3align .T_bytes{font-family: \"Lucida Console\",monospace !important; font-size: 12pt !important; color: black; }\n",
       ".c3align .U_bytes{font-family: \"Lucida Console\",monospace !important; font-size: 12pt !important; color: black; }\n",
       ".c3align .V_bytes{font-family: \"Lucida Console\",monospace !important; font-size: 12pt !important; color: black; }\n",
       ".c3align .W_bytes{font-family: \"Lucida Console\",monospace !important; font-size: 12pt !important; color: black; }\n",
       ".c3align .X_bytes{font-family: \"Lucida Console\",monospace !important; font-size: 12pt !important; color: black; }\n",
       ".c3align .Y_bytes{font-family: \"Lucida Console\",monospace !important; font-size: 12pt !important; color: black; }\n",
       ".c3align .Z_bytes{font-family: \"Lucida Console\",monospace !important; font-size: 12pt !important; color: black; }\n",
       ".c3align .[_bytes{font-family: \"Lucida Console\",monospace !important; font-size: 12pt !important; color: black; }\n",
       ".c3align .\\_bytes{font-family: \"Lucida Console\",monospace !important; font-size: 12pt !important; color: black; }\n",
       ".c3align .]_bytes{font-family: \"Lucida Console\",monospace !important; font-size: 12pt !important; color: black; }\n",
       ".c3align .^_bytes{font-family: \"Lucida Console\",monospace !important; font-size: 12pt !important; color: black; }\n",
       ".c3align .__bytes{font-family: \"Lucida Console\",monospace !important; font-size: 12pt !important; color: black; }\n",
       ".c3align .`_bytes{font-family: \"Lucida Console\",monospace !important; font-size: 12pt !important; color: black; }\n",
       ".c3align .a_bytes{font-family: \"Lucida Console\",monospace !important; font-size: 12pt !important; color: black; }\n",
       ".c3align .b_bytes{font-family: \"Lucida Console\",monospace !important; font-size: 12pt !important; color: black; }\n",
       ".c3align .c_bytes{font-family: \"Lucida Console\",monospace !important; font-size: 12pt !important; color: black; }\n",
       ".c3align .d_bytes{font-family: \"Lucida Console\",monospace !important; font-size: 12pt !important; color: black; }\n",
       ".c3align .e_bytes{font-family: \"Lucida Console\",monospace !important; font-size: 12pt !important; color: black; }\n",
       ".c3align .f_bytes{font-family: \"Lucida Console\",monospace !important; font-size: 12pt !important; color: black; }\n",
       ".c3align .g_bytes{font-family: \"Lucida Console\",monospace !important; font-size: 12pt !important; color: black; }\n",
       ".c3align .h_bytes{font-family: \"Lucida Console\",monospace !important; font-size: 12pt !important; color: black; }\n",
       ".c3align .i_bytes{font-family: \"Lucida Console\",monospace !important; font-size: 12pt !important; color: black; }\n",
       ".c3align .j_bytes{font-family: \"Lucida Console\",monospace !important; font-size: 12pt !important; color: black; }\n",
       ".c3align .k_bytes{font-family: \"Lucida Console\",monospace !important; font-size: 12pt !important; color: black; }\n",
       ".c3align .l_bytes{font-family: \"Lucida Console\",monospace !important; font-size: 12pt !important; color: black; }\n",
       ".c3align .m_bytes{font-family: \"Lucida Console\",monospace !important; font-size: 12pt !important; color: black; }\n",
       ".c3align .n_bytes{font-family: \"Lucida Console\",monospace !important; font-size: 12pt !important; color: black; }\n",
       ".c3align .o_bytes{font-family: \"Lucida Console\",monospace !important; font-size: 12pt !important; color: black; }\n",
       ".c3align .p_bytes{font-family: \"Lucida Console\",monospace !important; font-size: 12pt !important; color: black; }\n",
       ".c3align .q_bytes{font-family: \"Lucida Console\",monospace !important; font-size: 12pt !important; color: black; }\n",
       ".c3align .r_bytes{font-family: \"Lucida Console\",monospace !important; font-size: 12pt !important; color: black; }\n",
       ".c3align .s_bytes{font-family: \"Lucida Console\",monospace !important; font-size: 12pt !important; color: black; }\n",
       ".c3align .t_bytes{font-family: \"Lucida Console\",monospace !important; font-size: 12pt !important; color: black; }\n",
       ".c3align .u_bytes{font-family: \"Lucida Console\",monospace !important; font-size: 12pt !important; color: black; }\n",
       ".c3align .v_bytes{font-family: \"Lucida Console\",monospace !important; font-size: 12pt !important; color: black; }\n",
       ".c3align .w_bytes{font-family: \"Lucida Console\",monospace !important; font-size: 12pt !important; color: black; }\n",
       ".c3align .x_bytes{font-family: \"Lucida Console\",monospace !important; font-size: 12pt !important; color: black; }\n",
       ".c3align .y_bytes{font-family: \"Lucida Console\",monospace !important; font-size: 12pt !important; color: black; }\n",
       ".c3align .z_bytes{font-family: \"Lucida Console\",monospace !important; font-size: 12pt !important; color: black; }\n",
       ".c3align .{_bytes{font-family: \"Lucida Console\",monospace !important; font-size: 12pt !important; color: black; }\n",
       ".c3align .|_bytes{font-family: \"Lucida Console\",monospace !important; font-size: 12pt !important; color: black; }\n",
       ".c3align .}_bytes{font-family: \"Lucida Console\",monospace !important; font-size: 12pt !important; color: black; }\n",
       ".c3align .~_bytes{font-family: \"Lucida Console\",monospace !important; font-size: 12pt !important; color: black; }\n",
       ".c3align ._bytes{font-family: \"Lucida Console\",monospace !important; font-size: 12pt !important; color: black; }\n",
       ".c3align ._bytes{font-family: \"Lucida Console\",monospace !important; font-size: 12pt !important; color: black; }\n",
       ".c3align ._bytes{font-family: \"Lucida Console\",monospace !important; font-size: 12pt !important; color: black; }\n",
       ".c3align ._bytes{font-family: \"Lucida Console\",monospace !important; font-size: 12pt !important; color: black; }\n",
       ".c3align ._bytes{font-family: \"Lucida Console\",monospace !important; font-size: 12pt !important; color: black; }\n",
       ".c3align ._bytes{font-family: \"Lucida Console\",monospace !important; font-size: 12pt !important; color: black; }\n",
       ".c3align .",
       "_bytes{font-family: \"Lucida Console\",monospace !important; font-size: 12pt !important; color: black; }\n",
       ".c3align ._bytes{font-family: \"Lucida Console\",monospace !important; font-size: 12pt !important; color: black; }\n",
       ".c3align ._bytes{font-family: \"Lucida Console\",monospace !important; font-size: 12pt !important; color: black; }\n",
       ".c3align ._bytes{font-family: \"Lucida Console\",monospace !important; font-size: 12pt !important; color: black; }\n",
       ".c3align ._bytes{font-family: \"Lucida Console\",monospace !important; font-size: 12pt !important; color: black; }\n",
       ".c3align ._bytes{font-family: \"Lucida Console\",monospace !important; font-size: 12pt !important; color: black; }\n",
       ".c3align ._bytes{font-family: \"Lucida Console\",monospace !important; font-size: 12pt !important; color: black; }\n",
       ".c3align ._bytes{font-family: \"Lucida Console\",monospace !important; font-size: 12pt !important; color: black; }\n",
       ".c3align ._bytes{font-family: \"Lucida Console\",monospace !important; font-size: 12pt !important; color: black; }\n",
       ".c3align ._bytes{font-family: \"Lucida Console\",monospace !important; font-size: 12pt !important; color: black; }\n",
       ".c3align ._bytes{font-family: \"Lucida Console\",monospace !important; font-size: 12pt !important; color: black; }\n",
       ".c3align ._bytes{font-family: \"Lucida Console\",monospace !important; font-size: 12pt !important; color: black; }\n",
       ".c3align ._bytes{font-family: \"Lucida Console\",monospace !important; font-size: 12pt !important; color: black; }\n",
       ".c3align ._bytes{font-family: \"Lucida Console\",monospace !important; font-size: 12pt !important; color: black; }\n",
       ".c3align ._bytes{font-family: \"Lucida Console\",monospace !important; font-size: 12pt !important; color: black; }\n",
       ".c3align ._bytes{font-family: \"Lucida Console\",monospace !important; font-size: 12pt !important; color: black; }\n",
       ".c3align ._bytes{font-family: \"Lucida Console\",monospace !important; font-size: 12pt !important; color: black; }\n",
       ".c3align ._bytes{font-family: \"Lucida Console\",monospace !important; font-size: 12pt !important; color: black; }\n",
       ".c3align ._bytes{font-family: \"Lucida Console\",monospace !important; font-size: 12pt !important; color: black; }\n",
       ".c3align ._bytes{font-family: \"Lucida Console\",monospace !important; font-size: 12pt !important; color: black; }\n",
       ".c3align ._bytes{font-family: \"Lucida Console\",monospace !important; font-size: 12pt !important; color: black; }\n",
       ".c3align ._bytes{font-family: \"Lucida Console\",monospace !important; font-size: 12pt !important; color: black; }\n",
       ".c3align ._bytes{font-family: \"Lucida Console\",monospace !important; font-size: 12pt !important; color: black; }\n",
       ".c3align ._bytes{font-family: \"Lucida Console\",monospace !important; font-size: 12pt !important; color: black; }\n",
       ".c3align ._bytes{font-family: \"Lucida Console\",monospace !important; font-size: 12pt !important; color: black; }\n",
       ".c3align ._bytes{font-family: \"Lucida Console\",monospace !important; font-size: 12pt !important; color: black; }\n",
       ".c3align ._bytes{font-family: \"Lucida Console\",monospace !important; font-size: 12pt !important; color: black; }\n",
       ".c3align . _bytes{font-family: \"Lucida Console\",monospace !important; font-size: 12pt !important; color: black; }\n",
       ".c3align .¡_bytes{font-family: \"Lucida Console\",monospace !important; font-size: 12pt !important; color: black; }\n",
       ".c3align .¢_bytes{font-family: \"Lucida Console\",monospace !important; font-size: 12pt !important; color: black; }\n",
       ".c3align .£_bytes{font-family: \"Lucida Console\",monospace !important; font-size: 12pt !important; color: black; }\n",
       ".c3align .¤_bytes{font-family: \"Lucida Console\",monospace !important; font-size: 12pt !important; color: black; }\n",
       ".c3align .¥_bytes{font-family: \"Lucida Console\",monospace !important; font-size: 12pt !important; color: black; }\n",
       ".c3align .¦_bytes{font-family: \"Lucida Console\",monospace !important; font-size: 12pt !important; color: black; }\n",
       ".c3align .§_bytes{font-family: \"Lucida Console\",monospace !important; font-size: 12pt !important; color: black; }\n",
       ".c3align .¨_bytes{font-family: \"Lucida Console\",monospace !important; font-size: 12pt !important; color: black; }\n",
       ".c3align .©_bytes{font-family: \"Lucida Console\",monospace !important; font-size: 12pt !important; color: black; }\n",
       ".c3align .ª_bytes{font-family: \"Lucida Console\",monospace !important; font-size: 12pt !important; color: black; }\n",
       ".c3align .«_bytes{font-family: \"Lucida Console\",monospace !important; font-size: 12pt !important; color: black; }\n",
       ".c3align .¬_bytes{font-family: \"Lucida Console\",monospace !important; font-size: 12pt !important; color: black; }\n",
       ".c3align .­_bytes{font-family: \"Lucida Console\",monospace !important; font-size: 12pt !important; color: black; }\n",
       ".c3align .®_bytes{font-family: \"Lucida Console\",monospace !important; font-size: 12pt !important; color: black; }\n",
       ".c3align .¯_bytes{font-family: \"Lucida Console\",monospace !important; font-size: 12pt !important; color: black; }\n",
       ".c3align .°_bytes{font-family: \"Lucida Console\",monospace !important; font-size: 12pt !important; color: black; }\n",
       ".c3align .±_bytes{font-family: \"Lucida Console\",monospace !important; font-size: 12pt !important; color: black; }\n",
       ".c3align .²_bytes{font-family: \"Lucida Console\",monospace !important; font-size: 12pt !important; color: black; }\n",
       ".c3align .³_bytes{font-family: \"Lucida Console\",monospace !important; font-size: 12pt !important; color: black; }\n",
       ".c3align .´_bytes{font-family: \"Lucida Console\",monospace !important; font-size: 12pt !important; color: black; }\n",
       ".c3align .µ_bytes{font-family: \"Lucida Console\",monospace !important; font-size: 12pt !important; color: black; }\n",
       ".c3align .¶_bytes{font-family: \"Lucida Console\",monospace !important; font-size: 12pt !important; color: black; }\n",
       ".c3align .·_bytes{font-family: \"Lucida Console\",monospace !important; font-size: 12pt !important; color: black; }\n",
       ".c3align .¸_bytes{font-family: \"Lucida Console\",monospace !important; font-size: 12pt !important; color: black; }\n",
       ".c3align .¹_bytes{font-family: \"Lucida Console\",monospace !important; font-size: 12pt !important; color: black; }\n",
       ".c3align .º_bytes{font-family: \"Lucida Console\",monospace !important; font-size: 12pt !important; color: black; }\n",
       ".c3align .»_bytes{font-family: \"Lucida Console\",monospace !important; font-size: 12pt !important; color: black; }\n",
       ".c3align .¼_bytes{font-family: \"Lucida Console\",monospace !important; font-size: 12pt !important; color: black; }\n",
       ".c3align .½_bytes{font-family: \"Lucida Console\",monospace !important; font-size: 12pt !important; color: black; }\n",
       ".c3align .¾_bytes{font-family: \"Lucida Console\",monospace !important; font-size: 12pt !important; color: black; }\n",
       ".c3align .¿_bytes{font-family: \"Lucida Console\",monospace !important; font-size: 12pt !important; color: black; }\n",
       ".c3align .À_bytes{font-family: \"Lucida Console\",monospace !important; font-size: 12pt !important; color: black; }\n",
       ".c3align .Á_bytes{font-family: \"Lucida Console\",monospace !important; font-size: 12pt !important; color: black; }\n",
       ".c3align .Â_bytes{font-family: \"Lucida Console\",monospace !important; font-size: 12pt !important; color: black; }\n",
       ".c3align .Ã_bytes{font-family: \"Lucida Console\",monospace !important; font-size: 12pt !important; color: black; }\n",
       ".c3align .Ä_bytes{font-family: \"Lucida Console\",monospace !important; font-size: 12pt !important; color: black; }\n",
       ".c3align .Å_bytes{font-family: \"Lucida Console\",monospace !important; font-size: 12pt !important; color: black; }\n",
       ".c3align .Æ_bytes{font-family: \"Lucida Console\",monospace !important; font-size: 12pt !important; color: black; }\n",
       ".c3align .Ç_bytes{font-family: \"Lucida Console\",monospace !important; font-size: 12pt !important; color: black; }\n",
       ".c3align .È_bytes{font-family: \"Lucida Console\",monospace !important; font-size: 12pt !important; color: black; }\n",
       ".c3align .É_bytes{font-family: \"Lucida Console\",monospace !important; font-size: 12pt !important; color: black; }\n",
       ".c3align .Ê_bytes{font-family: \"Lucida Console\",monospace !important; font-size: 12pt !important; color: black; }\n",
       ".c3align .Ë_bytes{font-family: \"Lucida Console\",monospace !important; font-size: 12pt !important; color: black; }\n",
       ".c3align .Ì_bytes{font-family: \"Lucida Console\",monospace !important; font-size: 12pt !important; color: black; }\n",
       ".c3align .Í_bytes{font-family: \"Lucida Console\",monospace !important; font-size: 12pt !important; color: black; }\n",
       ".c3align .Î_bytes{font-family: \"Lucida Console\",monospace !important; font-size: 12pt !important; color: black; }\n",
       ".c3align .Ï_bytes{font-family: \"Lucida Console\",monospace !important; font-size: 12pt !important; color: black; }\n",
       ".c3align .Ð_bytes{font-family: \"Lucida Console\",monospace !important; font-size: 12pt !important; color: black; }\n",
       ".c3align .Ñ_bytes{font-family: \"Lucida Console\",monospace !important; font-size: 12pt !important; color: black; }\n",
       ".c3align .Ò_bytes{font-family: \"Lucida Console\",monospace !important; font-size: 12pt !important; color: black; }\n",
       ".c3align .Ó_bytes{font-family: \"Lucida Console\",monospace !important; font-size: 12pt !important; color: black; }\n",
       ".c3align .Ô_bytes{font-family: \"Lucida Console\",monospace !important; font-size: 12pt !important; color: black; }\n",
       ".c3align .Õ_bytes{font-family: \"Lucida Console\",monospace !important; font-size: 12pt !important; color: black; }\n",
       ".c3align .Ö_bytes{font-family: \"Lucida Console\",monospace !important; font-size: 12pt !important; color: black; }\n",
       ".c3align .×_bytes{font-family: \"Lucida Console\",monospace !important; font-size: 12pt !important; color: black; }\n",
       ".c3align .Ø_bytes{font-family: \"Lucida Console\",monospace !important; font-size: 12pt !important; color: black; }\n",
       ".c3align .Ù_bytes{font-family: \"Lucida Console\",monospace !important; font-size: 12pt !important; color: black; }\n",
       ".c3align .Ú_bytes{font-family: \"Lucida Console\",monospace !important; font-size: 12pt !important; color: black; }\n",
       ".c3align .Û_bytes{font-family: \"Lucida Console\",monospace !important; font-size: 12pt !important; color: black; }\n",
       ".c3align .Ü_bytes{font-family: \"Lucida Console\",monospace !important; font-size: 12pt !important; color: black; }\n",
       ".c3align .Ý_bytes{font-family: \"Lucida Console\",monospace !important; font-size: 12pt !important; color: black; }\n",
       ".c3align .Þ_bytes{font-family: \"Lucida Console\",monospace !important; font-size: 12pt !important; color: black; }\n",
       ".c3align .ß_bytes{font-family: \"Lucida Console\",monospace !important; font-size: 12pt !important; color: black; }\n",
       ".c3align .à_bytes{font-family: \"Lucida Console\",monospace !important; font-size: 12pt !important; color: black; }\n",
       ".c3align .á_bytes{font-family: \"Lucida Console\",monospace !important; font-size: 12pt !important; color: black; }\n",
       ".c3align .â_bytes{font-family: \"Lucida Console\",monospace !important; font-size: 12pt !important; color: black; }\n",
       ".c3align .ã_bytes{font-family: \"Lucida Console\",monospace !important; font-size: 12pt !important; color: black; }\n",
       ".c3align .ä_bytes{font-family: \"Lucida Console\",monospace !important; font-size: 12pt !important; color: black; }\n",
       ".c3align .å_bytes{font-family: \"Lucida Console\",monospace !important; font-size: 12pt !important; color: black; }\n",
       ".c3align .æ_bytes{font-family: \"Lucida Console\",monospace !important; font-size: 12pt !important; color: black; }\n",
       ".c3align .ç_bytes{font-family: \"Lucida Console\",monospace !important; font-size: 12pt !important; color: black; }\n",
       ".c3align .è_bytes{font-family: \"Lucida Console\",monospace !important; font-size: 12pt !important; color: black; }\n",
       ".c3align .é_bytes{font-family: \"Lucida Console\",monospace !important; font-size: 12pt !important; color: black; }\n",
       ".c3align .ê_bytes{font-family: \"Lucida Console\",monospace !important; font-size: 12pt !important; color: black; }\n",
       ".c3align .ë_bytes{font-family: \"Lucida Console\",monospace !important; font-size: 12pt !important; color: black; }\n",
       ".c3align .ì_bytes{font-family: \"Lucida Console\",monospace !important; font-size: 12pt !important; color: black; }\n",
       ".c3align .í_bytes{font-family: \"Lucida Console\",monospace !important; font-size: 12pt !important; color: black; }\n",
       ".c3align .î_bytes{font-family: \"Lucida Console\",monospace !important; font-size: 12pt !important; color: black; }\n",
       ".c3align .ï_bytes{font-family: \"Lucida Console\",monospace !important; font-size: 12pt !important; color: black; }\n",
       ".c3align .ð_bytes{font-family: \"Lucida Console\",monospace !important; font-size: 12pt !important; color: black; }\n",
       ".c3align .ñ_bytes{font-family: \"Lucida Console\",monospace !important; font-size: 12pt !important; color: black; }\n",
       ".c3align .ò_bytes{font-family: \"Lucida Console\",monospace !important; font-size: 12pt !important; color: black; }\n",
       ".c3align .ó_bytes{font-family: \"Lucida Console\",monospace !important; font-size: 12pt !important; color: black; }\n",
       ".c3align .ô_bytes{font-family: \"Lucida Console\",monospace !important; font-size: 12pt !important; color: black; }\n",
       ".c3align .õ_bytes{font-family: \"Lucida Console\",monospace !important; font-size: 12pt !important; color: black; }\n",
       ".c3align .ö_bytes{font-family: \"Lucida Console\",monospace !important; font-size: 12pt !important; color: black; }\n",
       ".c3align .÷_bytes{font-family: \"Lucida Console\",monospace !important; font-size: 12pt !important; color: black; }\n",
       ".c3align .ø_bytes{font-family: \"Lucida Console\",monospace !important; font-size: 12pt !important; color: black; }\n",
       ".c3align .ù_bytes{font-family: \"Lucida Console\",monospace !important; font-size: 12pt !important; color: black; }\n",
       ".c3align .ú_bytes{font-family: \"Lucida Console\",monospace !important; font-size: 12pt !important; color: black; }\n",
       ".c3align .û_bytes{font-family: \"Lucida Console\",monospace !important; font-size: 12pt !important; color: black; }\n",
       ".c3align .ü_bytes{font-family: \"Lucida Console\",monospace !important; font-size: 12pt !important; color: black; }\n",
       ".c3align .ý_bytes{font-family: \"Lucida Console\",monospace !important; font-size: 12pt !important; color: black; }\n",
       ".c3align .þ_bytes{font-family: \"Lucida Console\",monospace !important; font-size: 12pt !important; color: black; }\n",
       ".c3align .ÿ_bytes{font-family: \"Lucida Console\",monospace !important; font-size: 12pt !important; color: black; }\n",
       ".c3align .terminal_ambig_bytes{font-family: \"Lucida Console\",monospace !important; font-size: 12pt !important; color: black; }\n",
       ".c3align .ambig_bytes{font-family: \"Lucida Console\",monospace !important; font-size: 12pt !important; color: black; }\n",
       "</style>\n",
       "<div class=\"c3align\">\n",
       "<table>\n",
       "<tr class=\"num_row\"><td></td><td><b>0</b></td></tr>\n",
       "<tr><td class=\"label\">Human</td><td><span class=\"T_bytes\">T</span><span class=\"G_bytes\">G</span><span class=\"T_bytes\">T</span><span class=\"G_bytes\">G</span><span class=\"G_bytes\">G</span><span class=\"C_bytes\">C</span><span class=\"A_bytes\">A</span><span class=\"C_bytes\">C</span><span class=\"A_bytes\">A</span><span class=\"A_bytes\">A</span><span class=\"A_bytes\">A</span><span class=\"T_bytes\">T</span><span class=\"A_bytes\">A</span><span class=\"C_bytes\">C</span><span class=\"T_bytes\">T</span><span class=\"C_bytes\">C</span><span class=\"A_bytes\">A</span><span class=\"T_bytes\">T</span><span class=\"G_bytes\">G</span><span class=\"C_bytes\">C</span><span class=\"C_bytes\">C</span><span class=\"A_bytes\">A</span><span class=\"G_bytes\">G</span><span class=\"C_bytes\">C</span><span class=\"T_bytes\">T</span><span class=\"C_bytes\">C</span><span class=\"A_bytes\">A</span><span class=\"T_bytes\">T</span><span class=\"T_bytes\">T</span><span class=\"A_bytes\">A</span><span class=\"C_bytes\">C</span><span class=\"A_bytes\">A</span><span class=\"G_bytes\">G</span><span class=\"C_bytes\">C</span><span class=\"A_bytes\">A</span><span class=\"T_bytes\">T</span><span class=\"G_bytes\">G</span><span class=\"A_bytes\">A</span><span class=\"G_bytes\">G</span><span class=\"A_bytes\">A</span><span class=\"A_bytes\">A</span><span class=\"C_bytes\">C</span><span class=\"A_bytes\">A</span><span class=\"G_bytes\">G</span><span class=\"C_bytes\">C</span><span class=\"A_bytes\">A</span><span class=\"G_bytes\">G</span><span class=\"T_bytes\">T</span><span class=\"T_bytes\">T</span><span class=\"T_bytes\">T</span><span class=\"A_bytes\">A</span><span class=\"T_bytes\">T</span><span class=\"T_bytes\">T</span><span class=\"A_bytes\">A</span><span class=\"C_bytes\">C</span><span class=\"T_bytes\">T</span><span class=\"C_bytes\">C</span><span class=\"A_bytes\">A</span><span class=\"C_bytes\">C</span><span class=\"T_bytes\">T</span></td></tr>\n",
       "<tr><td class=\"label\">Mouse</td><td><span class=\"T_bytes\">.</span><span class=\"G_bytes\">.</span><span class=\"T_bytes\">.</span><span class=\"G_bytes\">.</span><span class=\"G_bytes\">.</span><span class=\"C_bytes\">.</span><span class=\"A_bytes\">.</span><span class=\"C_bytes\">.</span><span class=\"A_bytes\">.</span><span class=\"G_bytes\">G</span><span class=\"A_bytes\">.</span><span class=\"T_bytes\">.</span><span class=\"G_bytes\">G</span><span class=\"C_bytes\">.</span><span class=\"T_bytes\">.</span><span class=\"C_bytes\">.</span><span class=\"A_bytes\">.</span><span class=\"T_bytes\">.</span><span class=\"G_bytes\">.</span><span class=\"C_bytes\">.</span><span class=\"C_bytes\">.</span><span class=\"A_bytes\">.</span><span class=\"G_bytes\">.</span><span class=\"C_bytes\">.</span><span class=\"T_bytes\">.</span><span class=\"C_bytes\">.</span><span class=\"A_bytes\">.</span><span class=\"T_bytes\">.</span><span class=\"T_bytes\">.</span><span class=\"A_bytes\">.</span><span class=\"C_bytes\">.</span><span class=\"A_bytes\">.</span><span class=\"G_bytes\">.</span><span class=\"C_bytes\">.</span><span class=\"C_bytes\">C</span><span class=\"T_bytes\">.</span><span class=\"G_bytes\">.</span><span class=\"A_bytes\">.</span><span class=\"G_bytes\">.</span><span class=\"A_bytes\">.</span><span class=\"C_bytes\">C</span><span class=\"C_bytes\">.</span><span class=\"A_bytes\">.</span><span class=\"G_bytes\">.</span><span class=\"C_bytes\">.</span><span class=\"A_bytes\">.</span><span class=\"G_bytes\">.</span><span class=\"T_bytes\">.</span><span class=\"T_bytes\">.</span><span class=\"T_bytes\">.</span><span class=\"A_bytes\">.</span><span class=\"T_bytes\">.</span><span class=\"T_bytes\">.</span><span class=\"G_bytes\">G</span><span class=\"C_bytes\">.</span><span class=\"T_bytes\">.</span><span class=\"C_bytes\">.</span><span class=\"A_bytes\">.</span><span class=\"T_bytes\">T</span><span class=\"T_bytes\">.</span></td></tr>\n",
       "</table>\n",
       "<p><i>2 x 2532 (truncated to 2 x 60) bytes alignment</i></p>\n",
       "</div>"
      ],
      "text/plain": [
       "2 x 2532 bytes alignment: Human[TGTGGCACAAA...], Mouse[TGTGGCACAGA...]"
      ]
     },
     "execution_count": 42,
     "metadata": {},
     "output_type": "execute_result"
    }
   ],
   "source": [
    "from cogent3 import load_aligned_seqs\n",
    "\n",
    "aln = load_aligned_seqs(\"data/long_testseqs.fasta\")\n",
    "aln.take_seqs([\"Human\", \"Mouse\"])"
   ]
  },
  {
   "cell_type": "code",
   "execution_count": 43,
   "id": "opening-affair",
   "metadata": {
    "execution": {
     "iopub.execute_input": "2021-09-30T04:31:04.380870Z",
     "iopub.status.busy": "2021-09-30T04:31:04.380082Z",
     "iopub.status.idle": "2021-09-30T04:31:04.390714Z",
     "shell.execute_reply": "2021-09-30T04:31:04.391068Z"
    }
   },
   "outputs": [
    {
     "data": {
      "text/html": [
       "<style>\n",
       ".c3align td { border: none !important; text-align: left !important; }\n",
       ".c3align tr:not(.num_row) td span {margin: 0 2px;}\n",
       ".c3align tr:nth-child(even) {background: #f7f7f7;}\n",
       ".c3align .num_row {background-color:rgba(161, 195, 209, 0.5) !important; border-top: solid 1px black; }\n",
       ".c3align .label { font-size: 12pt ; text-align: right !important; color: black !important; padding: 0 4px; display: table-cell !important; font-weight: normal !important; }\n",
       ".c3align .\u0000_bytes{font-family: \"Lucida Console\",monospace !important; font-size: 12pt !important; color: black; }\n",
       ".c3align .\u0001_bytes{font-family: \"Lucida Console\",monospace !important; font-size: 12pt !important; color: black; }\n",
       ".c3align .\u0002_bytes{font-family: \"Lucida Console\",monospace !important; font-size: 12pt !important; color: black; }\n",
       ".c3align .\u0003_bytes{font-family: \"Lucida Console\",monospace !important; font-size: 12pt !important; color: black; }\n",
       ".c3align .\u0004_bytes{font-family: \"Lucida Console\",monospace !important; font-size: 12pt !important; color: black; }\n",
       ".c3align .\u0005_bytes{font-family: \"Lucida Console\",monospace !important; font-size: 12pt !important; color: black; }\n",
       ".c3align .\u0006_bytes{font-family: \"Lucida Console\",monospace !important; font-size: 12pt !important; color: black; }\n",
       ".c3align .\u0007_bytes{font-family: \"Lucida Console\",monospace !important; font-size: 12pt !important; color: black; }\n",
       ".c3align .\b_bytes{font-family: \"Lucida Console\",monospace !important; font-size: 12pt !important; color: black; }\n",
       ".c3align .\t_bytes{font-family: \"Lucida Console\",monospace !important; font-size: 12pt !important; color: black; }\n",
       ".c3align .\n",
       "_bytes{font-family: \"Lucida Console\",monospace !important; font-size: 12pt !important; color: black; }\n",
       ".c3align .\u000b",
       "_bytes{font-family: \"Lucida Console\",monospace !important; font-size: 12pt !important; color: black; }\n",
       ".c3align .\f",
       "_bytes{font-family: \"Lucida Console\",monospace !important; font-size: 12pt !important; color: black; }\n",
       ".c3align .\r",
       "_bytes{font-family: \"Lucida Console\",monospace !important; font-size: 12pt !important; color: black; }\n",
       ".c3align .\u000e_bytes{font-family: \"Lucida Console\",monospace !important; font-size: 12pt !important; color: black; }\n",
       ".c3align .\u000f_bytes{font-family: \"Lucida Console\",monospace !important; font-size: 12pt !important; color: black; }\n",
       ".c3align .\u0010_bytes{font-family: \"Lucida Console\",monospace !important; font-size: 12pt !important; color: black; }\n",
       ".c3align .\u0011_bytes{font-family: \"Lucida Console\",monospace !important; font-size: 12pt !important; color: black; }\n",
       ".c3align .\u0012_bytes{font-family: \"Lucida Console\",monospace !important; font-size: 12pt !important; color: black; }\n",
       ".c3align .\u0013_bytes{font-family: \"Lucida Console\",monospace !important; font-size: 12pt !important; color: black; }\n",
       ".c3align .\u0014_bytes{font-family: \"Lucida Console\",monospace !important; font-size: 12pt !important; color: black; }\n",
       ".c3align .\u0015_bytes{font-family: \"Lucida Console\",monospace !important; font-size: 12pt !important; color: black; }\n",
       ".c3align .\u0016_bytes{font-family: \"Lucida Console\",monospace !important; font-size: 12pt !important; color: black; }\n",
       ".c3align .\u0017_bytes{font-family: \"Lucida Console\",monospace !important; font-size: 12pt !important; color: black; }\n",
       ".c3align .\u0018_bytes{font-family: \"Lucida Console\",monospace !important; font-size: 12pt !important; color: black; }\n",
       ".c3align .\u0019_bytes{font-family: \"Lucida Console\",monospace !important; font-size: 12pt !important; color: black; }\n",
       ".c3align .\u001a_bytes{font-family: \"Lucida Console\",monospace !important; font-size: 12pt !important; color: black; }\n",
       ".c3align .\u001b_bytes{font-family: \"Lucida Console\",monospace !important; font-size: 12pt !important; color: black; }\n",
       ".c3align .\u001c",
       "_bytes{font-family: \"Lucida Console\",monospace !important; font-size: 12pt !important; color: black; }\n",
       ".c3align .\u001d",
       "_bytes{font-family: \"Lucida Console\",monospace !important; font-size: 12pt !important; color: black; }\n",
       ".c3align .\u001e",
       "_bytes{font-family: \"Lucida Console\",monospace !important; font-size: 12pt !important; color: black; }\n",
       ".c3align .\u001f_bytes{font-family: \"Lucida Console\",monospace !important; font-size: 12pt !important; color: black; }\n",
       ".c3align . _bytes{font-family: \"Lucida Console\",monospace !important; font-size: 12pt !important; color: black; }\n",
       ".c3align .!_bytes{font-family: \"Lucida Console\",monospace !important; font-size: 12pt !important; color: black; }\n",
       ".c3align .\"_bytes{font-family: \"Lucida Console\",monospace !important; font-size: 12pt !important; color: black; }\n",
       ".c3align .#_bytes{font-family: \"Lucida Console\",monospace !important; font-size: 12pt !important; color: black; }\n",
       ".c3align .$_bytes{font-family: \"Lucida Console\",monospace !important; font-size: 12pt !important; color: black; }\n",
       ".c3align .%_bytes{font-family: \"Lucida Console\",monospace !important; font-size: 12pt !important; color: black; }\n",
       ".c3align .&_bytes{font-family: \"Lucida Console\",monospace !important; font-size: 12pt !important; color: black; }\n",
       ".c3align .'_bytes{font-family: \"Lucida Console\",monospace !important; font-size: 12pt !important; color: black; }\n",
       ".c3align .(_bytes{font-family: \"Lucida Console\",monospace !important; font-size: 12pt !important; color: black; }\n",
       ".c3align .)_bytes{font-family: \"Lucida Console\",monospace !important; font-size: 12pt !important; color: black; }\n",
       ".c3align .*_bytes{font-family: \"Lucida Console\",monospace !important; font-size: 12pt !important; color: black; }\n",
       ".c3align .+_bytes{font-family: \"Lucida Console\",monospace !important; font-size: 12pt !important; color: black; }\n",
       ".c3align .,_bytes{font-family: \"Lucida Console\",monospace !important; font-size: 12pt !important; color: black; }\n",
       ".c3align .-_bytes{font-family: \"Lucida Console\",monospace !important; font-size: 12pt !important; color: black; }\n",
       ".c3align .._bytes{font-family: \"Lucida Console\",monospace !important; font-size: 12pt !important; color: black; }\n",
       ".c3align ./_bytes{font-family: \"Lucida Console\",monospace !important; font-size: 12pt !important; color: black; }\n",
       ".c3align .0_bytes{font-family: \"Lucida Console\",monospace !important; font-size: 12pt !important; color: black; }\n",
       ".c3align .1_bytes{font-family: \"Lucida Console\",monospace !important; font-size: 12pt !important; color: black; }\n",
       ".c3align .2_bytes{font-family: \"Lucida Console\",monospace !important; font-size: 12pt !important; color: black; }\n",
       ".c3align .3_bytes{font-family: \"Lucida Console\",monospace !important; font-size: 12pt !important; color: black; }\n",
       ".c3align .4_bytes{font-family: \"Lucida Console\",monospace !important; font-size: 12pt !important; color: black; }\n",
       ".c3align .5_bytes{font-family: \"Lucida Console\",monospace !important; font-size: 12pt !important; color: black; }\n",
       ".c3align .6_bytes{font-family: \"Lucida Console\",monospace !important; font-size: 12pt !important; color: black; }\n",
       ".c3align .7_bytes{font-family: \"Lucida Console\",monospace !important; font-size: 12pt !important; color: black; }\n",
       ".c3align .8_bytes{font-family: \"Lucida Console\",monospace !important; font-size: 12pt !important; color: black; }\n",
       ".c3align .9_bytes{font-family: \"Lucida Console\",monospace !important; font-size: 12pt !important; color: black; }\n",
       ".c3align .:_bytes{font-family: \"Lucida Console\",monospace !important; font-size: 12pt !important; color: black; }\n",
       ".c3align .;_bytes{font-family: \"Lucida Console\",monospace !important; font-size: 12pt !important; color: black; }\n",
       ".c3align .<_bytes{font-family: \"Lucida Console\",monospace !important; font-size: 12pt !important; color: black; }\n",
       ".c3align .=_bytes{font-family: \"Lucida Console\",monospace !important; font-size: 12pt !important; color: black; }\n",
       ".c3align .>_bytes{font-family: \"Lucida Console\",monospace !important; font-size: 12pt !important; color: black; }\n",
       ".c3align .?_bytes{font-family: \"Lucida Console\",monospace !important; font-size: 12pt !important; color: black; }\n",
       ".c3align .@_bytes{font-family: \"Lucida Console\",monospace !important; font-size: 12pt !important; color: black; }\n",
       ".c3align .A_bytes{font-family: \"Lucida Console\",monospace !important; font-size: 12pt !important; color: black; }\n",
       ".c3align .B_bytes{font-family: \"Lucida Console\",monospace !important; font-size: 12pt !important; color: black; }\n",
       ".c3align .C_bytes{font-family: \"Lucida Console\",monospace !important; font-size: 12pt !important; color: black; }\n",
       ".c3align .D_bytes{font-family: \"Lucida Console\",monospace !important; font-size: 12pt !important; color: black; }\n",
       ".c3align .E_bytes{font-family: \"Lucida Console\",monospace !important; font-size: 12pt !important; color: black; }\n",
       ".c3align .F_bytes{font-family: \"Lucida Console\",monospace !important; font-size: 12pt !important; color: black; }\n",
       ".c3align .G_bytes{font-family: \"Lucida Console\",monospace !important; font-size: 12pt !important; color: black; }\n",
       ".c3align .H_bytes{font-family: \"Lucida Console\",monospace !important; font-size: 12pt !important; color: black; }\n",
       ".c3align .I_bytes{font-family: \"Lucida Console\",monospace !important; font-size: 12pt !important; color: black; }\n",
       ".c3align .J_bytes{font-family: \"Lucida Console\",monospace !important; font-size: 12pt !important; color: black; }\n",
       ".c3align .K_bytes{font-family: \"Lucida Console\",monospace !important; font-size: 12pt !important; color: black; }\n",
       ".c3align .L_bytes{font-family: \"Lucida Console\",monospace !important; font-size: 12pt !important; color: black; }\n",
       ".c3align .M_bytes{font-family: \"Lucida Console\",monospace !important; font-size: 12pt !important; color: black; }\n",
       ".c3align .N_bytes{font-family: \"Lucida Console\",monospace !important; font-size: 12pt !important; color: black; }\n",
       ".c3align .O_bytes{font-family: \"Lucida Console\",monospace !important; font-size: 12pt !important; color: black; }\n",
       ".c3align .P_bytes{font-family: \"Lucida Console\",monospace !important; font-size: 12pt !important; color: black; }\n",
       ".c3align .Q_bytes{font-family: \"Lucida Console\",monospace !important; font-size: 12pt !important; color: black; }\n",
       ".c3align .R_bytes{font-family: \"Lucida Console\",monospace !important; font-size: 12pt !important; color: black; }\n",
       ".c3align .S_bytes{font-family: \"Lucida Console\",monospace !important; font-size: 12pt !important; color: black; }\n",
       ".c3align .T_bytes{font-family: \"Lucida Console\",monospace !important; font-size: 12pt !important; color: black; }\n",
       ".c3align .U_bytes{font-family: \"Lucida Console\",monospace !important; font-size: 12pt !important; color: black; }\n",
       ".c3align .V_bytes{font-family: \"Lucida Console\",monospace !important; font-size: 12pt !important; color: black; }\n",
       ".c3align .W_bytes{font-family: \"Lucida Console\",monospace !important; font-size: 12pt !important; color: black; }\n",
       ".c3align .X_bytes{font-family: \"Lucida Console\",monospace !important; font-size: 12pt !important; color: black; }\n",
       ".c3align .Y_bytes{font-family: \"Lucida Console\",monospace !important; font-size: 12pt !important; color: black; }\n",
       ".c3align .Z_bytes{font-family: \"Lucida Console\",monospace !important; font-size: 12pt !important; color: black; }\n",
       ".c3align .[_bytes{font-family: \"Lucida Console\",monospace !important; font-size: 12pt !important; color: black; }\n",
       ".c3align .\\_bytes{font-family: \"Lucida Console\",monospace !important; font-size: 12pt !important; color: black; }\n",
       ".c3align .]_bytes{font-family: \"Lucida Console\",monospace !important; font-size: 12pt !important; color: black; }\n",
       ".c3align .^_bytes{font-family: \"Lucida Console\",monospace !important; font-size: 12pt !important; color: black; }\n",
       ".c3align .__bytes{font-family: \"Lucida Console\",monospace !important; font-size: 12pt !important; color: black; }\n",
       ".c3align .`_bytes{font-family: \"Lucida Console\",monospace !important; font-size: 12pt !important; color: black; }\n",
       ".c3align .a_bytes{font-family: \"Lucida Console\",monospace !important; font-size: 12pt !important; color: black; }\n",
       ".c3align .b_bytes{font-family: \"Lucida Console\",monospace !important; font-size: 12pt !important; color: black; }\n",
       ".c3align .c_bytes{font-family: \"Lucida Console\",monospace !important; font-size: 12pt !important; color: black; }\n",
       ".c3align .d_bytes{font-family: \"Lucida Console\",monospace !important; font-size: 12pt !important; color: black; }\n",
       ".c3align .e_bytes{font-family: \"Lucida Console\",monospace !important; font-size: 12pt !important; color: black; }\n",
       ".c3align .f_bytes{font-family: \"Lucida Console\",monospace !important; font-size: 12pt !important; color: black; }\n",
       ".c3align .g_bytes{font-family: \"Lucida Console\",monospace !important; font-size: 12pt !important; color: black; }\n",
       ".c3align .h_bytes{font-family: \"Lucida Console\",monospace !important; font-size: 12pt !important; color: black; }\n",
       ".c3align .i_bytes{font-family: \"Lucida Console\",monospace !important; font-size: 12pt !important; color: black; }\n",
       ".c3align .j_bytes{font-family: \"Lucida Console\",monospace !important; font-size: 12pt !important; color: black; }\n",
       ".c3align .k_bytes{font-family: \"Lucida Console\",monospace !important; font-size: 12pt !important; color: black; }\n",
       ".c3align .l_bytes{font-family: \"Lucida Console\",monospace !important; font-size: 12pt !important; color: black; }\n",
       ".c3align .m_bytes{font-family: \"Lucida Console\",monospace !important; font-size: 12pt !important; color: black; }\n",
       ".c3align .n_bytes{font-family: \"Lucida Console\",monospace !important; font-size: 12pt !important; color: black; }\n",
       ".c3align .o_bytes{font-family: \"Lucida Console\",monospace !important; font-size: 12pt !important; color: black; }\n",
       ".c3align .p_bytes{font-family: \"Lucida Console\",monospace !important; font-size: 12pt !important; color: black; }\n",
       ".c3align .q_bytes{font-family: \"Lucida Console\",monospace !important; font-size: 12pt !important; color: black; }\n",
       ".c3align .r_bytes{font-family: \"Lucida Console\",monospace !important; font-size: 12pt !important; color: black; }\n",
       ".c3align .s_bytes{font-family: \"Lucida Console\",monospace !important; font-size: 12pt !important; color: black; }\n",
       ".c3align .t_bytes{font-family: \"Lucida Console\",monospace !important; font-size: 12pt !important; color: black; }\n",
       ".c3align .u_bytes{font-family: \"Lucida Console\",monospace !important; font-size: 12pt !important; color: black; }\n",
       ".c3align .v_bytes{font-family: \"Lucida Console\",monospace !important; font-size: 12pt !important; color: black; }\n",
       ".c3align .w_bytes{font-family: \"Lucida Console\",monospace !important; font-size: 12pt !important; color: black; }\n",
       ".c3align .x_bytes{font-family: \"Lucida Console\",monospace !important; font-size: 12pt !important; color: black; }\n",
       ".c3align .y_bytes{font-family: \"Lucida Console\",monospace !important; font-size: 12pt !important; color: black; }\n",
       ".c3align .z_bytes{font-family: \"Lucida Console\",monospace !important; font-size: 12pt !important; color: black; }\n",
       ".c3align .{_bytes{font-family: \"Lucida Console\",monospace !important; font-size: 12pt !important; color: black; }\n",
       ".c3align .|_bytes{font-family: \"Lucida Console\",monospace !important; font-size: 12pt !important; color: black; }\n",
       ".c3align .}_bytes{font-family: \"Lucida Console\",monospace !important; font-size: 12pt !important; color: black; }\n",
       ".c3align .~_bytes{font-family: \"Lucida Console\",monospace !important; font-size: 12pt !important; color: black; }\n",
       ".c3align ._bytes{font-family: \"Lucida Console\",monospace !important; font-size: 12pt !important; color: black; }\n",
       ".c3align ._bytes{font-family: \"Lucida Console\",monospace !important; font-size: 12pt !important; color: black; }\n",
       ".c3align ._bytes{font-family: \"Lucida Console\",monospace !important; font-size: 12pt !important; color: black; }\n",
       ".c3align ._bytes{font-family: \"Lucida Console\",monospace !important; font-size: 12pt !important; color: black; }\n",
       ".c3align ._bytes{font-family: \"Lucida Console\",monospace !important; font-size: 12pt !important; color: black; }\n",
       ".c3align ._bytes{font-family: \"Lucida Console\",monospace !important; font-size: 12pt !important; color: black; }\n",
       ".c3align .",
       "_bytes{font-family: \"Lucida Console\",monospace !important; font-size: 12pt !important; color: black; }\n",
       ".c3align ._bytes{font-family: \"Lucida Console\",monospace !important; font-size: 12pt !important; color: black; }\n",
       ".c3align ._bytes{font-family: \"Lucida Console\",monospace !important; font-size: 12pt !important; color: black; }\n",
       ".c3align ._bytes{font-family: \"Lucida Console\",monospace !important; font-size: 12pt !important; color: black; }\n",
       ".c3align ._bytes{font-family: \"Lucida Console\",monospace !important; font-size: 12pt !important; color: black; }\n",
       ".c3align ._bytes{font-family: \"Lucida Console\",monospace !important; font-size: 12pt !important; color: black; }\n",
       ".c3align ._bytes{font-family: \"Lucida Console\",monospace !important; font-size: 12pt !important; color: black; }\n",
       ".c3align ._bytes{font-family: \"Lucida Console\",monospace !important; font-size: 12pt !important; color: black; }\n",
       ".c3align ._bytes{font-family: \"Lucida Console\",monospace !important; font-size: 12pt !important; color: black; }\n",
       ".c3align ._bytes{font-family: \"Lucida Console\",monospace !important; font-size: 12pt !important; color: black; }\n",
       ".c3align ._bytes{font-family: \"Lucida Console\",monospace !important; font-size: 12pt !important; color: black; }\n",
       ".c3align ._bytes{font-family: \"Lucida Console\",monospace !important; font-size: 12pt !important; color: black; }\n",
       ".c3align ._bytes{font-family: \"Lucida Console\",monospace !important; font-size: 12pt !important; color: black; }\n",
       ".c3align ._bytes{font-family: \"Lucida Console\",monospace !important; font-size: 12pt !important; color: black; }\n",
       ".c3align ._bytes{font-family: \"Lucida Console\",monospace !important; font-size: 12pt !important; color: black; }\n",
       ".c3align ._bytes{font-family: \"Lucida Console\",monospace !important; font-size: 12pt !important; color: black; }\n",
       ".c3align ._bytes{font-family: \"Lucida Console\",monospace !important; font-size: 12pt !important; color: black; }\n",
       ".c3align ._bytes{font-family: \"Lucida Console\",monospace !important; font-size: 12pt !important; color: black; }\n",
       ".c3align ._bytes{font-family: \"Lucida Console\",monospace !important; font-size: 12pt !important; color: black; }\n",
       ".c3align ._bytes{font-family: \"Lucida Console\",monospace !important; font-size: 12pt !important; color: black; }\n",
       ".c3align ._bytes{font-family: \"Lucida Console\",monospace !important; font-size: 12pt !important; color: black; }\n",
       ".c3align ._bytes{font-family: \"Lucida Console\",monospace !important; font-size: 12pt !important; color: black; }\n",
       ".c3align ._bytes{font-family: \"Lucida Console\",monospace !important; font-size: 12pt !important; color: black; }\n",
       ".c3align ._bytes{font-family: \"Lucida Console\",monospace !important; font-size: 12pt !important; color: black; }\n",
       ".c3align ._bytes{font-family: \"Lucida Console\",monospace !important; font-size: 12pt !important; color: black; }\n",
       ".c3align ._bytes{font-family: \"Lucida Console\",monospace !important; font-size: 12pt !important; color: black; }\n",
       ".c3align ._bytes{font-family: \"Lucida Console\",monospace !important; font-size: 12pt !important; color: black; }\n",
       ".c3align . _bytes{font-family: \"Lucida Console\",monospace !important; font-size: 12pt !important; color: black; }\n",
       ".c3align .¡_bytes{font-family: \"Lucida Console\",monospace !important; font-size: 12pt !important; color: black; }\n",
       ".c3align .¢_bytes{font-family: \"Lucida Console\",monospace !important; font-size: 12pt !important; color: black; }\n",
       ".c3align .£_bytes{font-family: \"Lucida Console\",monospace !important; font-size: 12pt !important; color: black; }\n",
       ".c3align .¤_bytes{font-family: \"Lucida Console\",monospace !important; font-size: 12pt !important; color: black; }\n",
       ".c3align .¥_bytes{font-family: \"Lucida Console\",monospace !important; font-size: 12pt !important; color: black; }\n",
       ".c3align .¦_bytes{font-family: \"Lucida Console\",monospace !important; font-size: 12pt !important; color: black; }\n",
       ".c3align .§_bytes{font-family: \"Lucida Console\",monospace !important; font-size: 12pt !important; color: black; }\n",
       ".c3align .¨_bytes{font-family: \"Lucida Console\",monospace !important; font-size: 12pt !important; color: black; }\n",
       ".c3align .©_bytes{font-family: \"Lucida Console\",monospace !important; font-size: 12pt !important; color: black; }\n",
       ".c3align .ª_bytes{font-family: \"Lucida Console\",monospace !important; font-size: 12pt !important; color: black; }\n",
       ".c3align .«_bytes{font-family: \"Lucida Console\",monospace !important; font-size: 12pt !important; color: black; }\n",
       ".c3align .¬_bytes{font-family: \"Lucida Console\",monospace !important; font-size: 12pt !important; color: black; }\n",
       ".c3align .­_bytes{font-family: \"Lucida Console\",monospace !important; font-size: 12pt !important; color: black; }\n",
       ".c3align .®_bytes{font-family: \"Lucida Console\",monospace !important; font-size: 12pt !important; color: black; }\n",
       ".c3align .¯_bytes{font-family: \"Lucida Console\",monospace !important; font-size: 12pt !important; color: black; }\n",
       ".c3align .°_bytes{font-family: \"Lucida Console\",monospace !important; font-size: 12pt !important; color: black; }\n",
       ".c3align .±_bytes{font-family: \"Lucida Console\",monospace !important; font-size: 12pt !important; color: black; }\n",
       ".c3align .²_bytes{font-family: \"Lucida Console\",monospace !important; font-size: 12pt !important; color: black; }\n",
       ".c3align .³_bytes{font-family: \"Lucida Console\",monospace !important; font-size: 12pt !important; color: black; }\n",
       ".c3align .´_bytes{font-family: \"Lucida Console\",monospace !important; font-size: 12pt !important; color: black; }\n",
       ".c3align .µ_bytes{font-family: \"Lucida Console\",monospace !important; font-size: 12pt !important; color: black; }\n",
       ".c3align .¶_bytes{font-family: \"Lucida Console\",monospace !important; font-size: 12pt !important; color: black; }\n",
       ".c3align .·_bytes{font-family: \"Lucida Console\",monospace !important; font-size: 12pt !important; color: black; }\n",
       ".c3align .¸_bytes{font-family: \"Lucida Console\",monospace !important; font-size: 12pt !important; color: black; }\n",
       ".c3align .¹_bytes{font-family: \"Lucida Console\",monospace !important; font-size: 12pt !important; color: black; }\n",
       ".c3align .º_bytes{font-family: \"Lucida Console\",monospace !important; font-size: 12pt !important; color: black; }\n",
       ".c3align .»_bytes{font-family: \"Lucida Console\",monospace !important; font-size: 12pt !important; color: black; }\n",
       ".c3align .¼_bytes{font-family: \"Lucida Console\",monospace !important; font-size: 12pt !important; color: black; }\n",
       ".c3align .½_bytes{font-family: \"Lucida Console\",monospace !important; font-size: 12pt !important; color: black; }\n",
       ".c3align .¾_bytes{font-family: \"Lucida Console\",monospace !important; font-size: 12pt !important; color: black; }\n",
       ".c3align .¿_bytes{font-family: \"Lucida Console\",monospace !important; font-size: 12pt !important; color: black; }\n",
       ".c3align .À_bytes{font-family: \"Lucida Console\",monospace !important; font-size: 12pt !important; color: black; }\n",
       ".c3align .Á_bytes{font-family: \"Lucida Console\",monospace !important; font-size: 12pt !important; color: black; }\n",
       ".c3align .Â_bytes{font-family: \"Lucida Console\",monospace !important; font-size: 12pt !important; color: black; }\n",
       ".c3align .Ã_bytes{font-family: \"Lucida Console\",monospace !important; font-size: 12pt !important; color: black; }\n",
       ".c3align .Ä_bytes{font-family: \"Lucida Console\",monospace !important; font-size: 12pt !important; color: black; }\n",
       ".c3align .Å_bytes{font-family: \"Lucida Console\",monospace !important; font-size: 12pt !important; color: black; }\n",
       ".c3align .Æ_bytes{font-family: \"Lucida Console\",monospace !important; font-size: 12pt !important; color: black; }\n",
       ".c3align .Ç_bytes{font-family: \"Lucida Console\",monospace !important; font-size: 12pt !important; color: black; }\n",
       ".c3align .È_bytes{font-family: \"Lucida Console\",monospace !important; font-size: 12pt !important; color: black; }\n",
       ".c3align .É_bytes{font-family: \"Lucida Console\",monospace !important; font-size: 12pt !important; color: black; }\n",
       ".c3align .Ê_bytes{font-family: \"Lucida Console\",monospace !important; font-size: 12pt !important; color: black; }\n",
       ".c3align .Ë_bytes{font-family: \"Lucida Console\",monospace !important; font-size: 12pt !important; color: black; }\n",
       ".c3align .Ì_bytes{font-family: \"Lucida Console\",monospace !important; font-size: 12pt !important; color: black; }\n",
       ".c3align .Í_bytes{font-family: \"Lucida Console\",monospace !important; font-size: 12pt !important; color: black; }\n",
       ".c3align .Î_bytes{font-family: \"Lucida Console\",monospace !important; font-size: 12pt !important; color: black; }\n",
       ".c3align .Ï_bytes{font-family: \"Lucida Console\",monospace !important; font-size: 12pt !important; color: black; }\n",
       ".c3align .Ð_bytes{font-family: \"Lucida Console\",monospace !important; font-size: 12pt !important; color: black; }\n",
       ".c3align .Ñ_bytes{font-family: \"Lucida Console\",monospace !important; font-size: 12pt !important; color: black; }\n",
       ".c3align .Ò_bytes{font-family: \"Lucida Console\",monospace !important; font-size: 12pt !important; color: black; }\n",
       ".c3align .Ó_bytes{font-family: \"Lucida Console\",monospace !important; font-size: 12pt !important; color: black; }\n",
       ".c3align .Ô_bytes{font-family: \"Lucida Console\",monospace !important; font-size: 12pt !important; color: black; }\n",
       ".c3align .Õ_bytes{font-family: \"Lucida Console\",monospace !important; font-size: 12pt !important; color: black; }\n",
       ".c3align .Ö_bytes{font-family: \"Lucida Console\",monospace !important; font-size: 12pt !important; color: black; }\n",
       ".c3align .×_bytes{font-family: \"Lucida Console\",monospace !important; font-size: 12pt !important; color: black; }\n",
       ".c3align .Ø_bytes{font-family: \"Lucida Console\",monospace !important; font-size: 12pt !important; color: black; }\n",
       ".c3align .Ù_bytes{font-family: \"Lucida Console\",monospace !important; font-size: 12pt !important; color: black; }\n",
       ".c3align .Ú_bytes{font-family: \"Lucida Console\",monospace !important; font-size: 12pt !important; color: black; }\n",
       ".c3align .Û_bytes{font-family: \"Lucida Console\",monospace !important; font-size: 12pt !important; color: black; }\n",
       ".c3align .Ü_bytes{font-family: \"Lucida Console\",monospace !important; font-size: 12pt !important; color: black; }\n",
       ".c3align .Ý_bytes{font-family: \"Lucida Console\",monospace !important; font-size: 12pt !important; color: black; }\n",
       ".c3align .Þ_bytes{font-family: \"Lucida Console\",monospace !important; font-size: 12pt !important; color: black; }\n",
       ".c3align .ß_bytes{font-family: \"Lucida Console\",monospace !important; font-size: 12pt !important; color: black; }\n",
       ".c3align .à_bytes{font-family: \"Lucida Console\",monospace !important; font-size: 12pt !important; color: black; }\n",
       ".c3align .á_bytes{font-family: \"Lucida Console\",monospace !important; font-size: 12pt !important; color: black; }\n",
       ".c3align .â_bytes{font-family: \"Lucida Console\",monospace !important; font-size: 12pt !important; color: black; }\n",
       ".c3align .ã_bytes{font-family: \"Lucida Console\",monospace !important; font-size: 12pt !important; color: black; }\n",
       ".c3align .ä_bytes{font-family: \"Lucida Console\",monospace !important; font-size: 12pt !important; color: black; }\n",
       ".c3align .å_bytes{font-family: \"Lucida Console\",monospace !important; font-size: 12pt !important; color: black; }\n",
       ".c3align .æ_bytes{font-family: \"Lucida Console\",monospace !important; font-size: 12pt !important; color: black; }\n",
       ".c3align .ç_bytes{font-family: \"Lucida Console\",monospace !important; font-size: 12pt !important; color: black; }\n",
       ".c3align .è_bytes{font-family: \"Lucida Console\",monospace !important; font-size: 12pt !important; color: black; }\n",
       ".c3align .é_bytes{font-family: \"Lucida Console\",monospace !important; font-size: 12pt !important; color: black; }\n",
       ".c3align .ê_bytes{font-family: \"Lucida Console\",monospace !important; font-size: 12pt !important; color: black; }\n",
       ".c3align .ë_bytes{font-family: \"Lucida Console\",monospace !important; font-size: 12pt !important; color: black; }\n",
       ".c3align .ì_bytes{font-family: \"Lucida Console\",monospace !important; font-size: 12pt !important; color: black; }\n",
       ".c3align .í_bytes{font-family: \"Lucida Console\",monospace !important; font-size: 12pt !important; color: black; }\n",
       ".c3align .î_bytes{font-family: \"Lucida Console\",monospace !important; font-size: 12pt !important; color: black; }\n",
       ".c3align .ï_bytes{font-family: \"Lucida Console\",monospace !important; font-size: 12pt !important; color: black; }\n",
       ".c3align .ð_bytes{font-family: \"Lucida Console\",monospace !important; font-size: 12pt !important; color: black; }\n",
       ".c3align .ñ_bytes{font-family: \"Lucida Console\",monospace !important; font-size: 12pt !important; color: black; }\n",
       ".c3align .ò_bytes{font-family: \"Lucida Console\",monospace !important; font-size: 12pt !important; color: black; }\n",
       ".c3align .ó_bytes{font-family: \"Lucida Console\",monospace !important; font-size: 12pt !important; color: black; }\n",
       ".c3align .ô_bytes{font-family: \"Lucida Console\",monospace !important; font-size: 12pt !important; color: black; }\n",
       ".c3align .õ_bytes{font-family: \"Lucida Console\",monospace !important; font-size: 12pt !important; color: black; }\n",
       ".c3align .ö_bytes{font-family: \"Lucida Console\",monospace !important; font-size: 12pt !important; color: black; }\n",
       ".c3align .÷_bytes{font-family: \"Lucida Console\",monospace !important; font-size: 12pt !important; color: black; }\n",
       ".c3align .ø_bytes{font-family: \"Lucida Console\",monospace !important; font-size: 12pt !important; color: black; }\n",
       ".c3align .ù_bytes{font-family: \"Lucida Console\",monospace !important; font-size: 12pt !important; color: black; }\n",
       ".c3align .ú_bytes{font-family: \"Lucida Console\",monospace !important; font-size: 12pt !important; color: black; }\n",
       ".c3align .û_bytes{font-family: \"Lucida Console\",monospace !important; font-size: 12pt !important; color: black; }\n",
       ".c3align .ü_bytes{font-family: \"Lucida Console\",monospace !important; font-size: 12pt !important; color: black; }\n",
       ".c3align .ý_bytes{font-family: \"Lucida Console\",monospace !important; font-size: 12pt !important; color: black; }\n",
       ".c3align .þ_bytes{font-family: \"Lucida Console\",monospace !important; font-size: 12pt !important; color: black; }\n",
       ".c3align .ÿ_bytes{font-family: \"Lucida Console\",monospace !important; font-size: 12pt !important; color: black; }\n",
       ".c3align .terminal_ambig_bytes{font-family: \"Lucida Console\",monospace !important; font-size: 12pt !important; color: black; }\n",
       ".c3align .ambig_bytes{font-family: \"Lucida Console\",monospace !important; font-size: 12pt !important; color: black; }\n",
       "</style>\n",
       "<div class=\"c3align\">\n",
       "<table>\n",
       "<tr class=\"num_row\"><td></td><td><b>0</b></td></tr>\n",
       "<tr><td class=\"label\">DogFaced</td><td><span class=\"T_bytes\">T</span><span class=\"G_bytes\">G</span><span class=\"T_bytes\">T</span><span class=\"G_bytes\">G</span><span class=\"G_bytes\">G</span><span class=\"C_bytes\">C</span><span class=\"A_bytes\">A</span><span class=\"C_bytes\">C</span><span class=\"A_bytes\">A</span><span class=\"A_bytes\">A</span><span class=\"A_bytes\">A</span><span class=\"T_bytes\">T</span><span class=\"A_bytes\">A</span><span class=\"C_bytes\">C</span><span class=\"T_bytes\">T</span><span class=\"C_bytes\">C</span><span class=\"A_bytes\">A</span><span class=\"T_bytes\">T</span><span class=\"G_bytes\">G</span><span class=\"C_bytes\">C</span><span class=\"C_bytes\">C</span><span class=\"A_bytes\">A</span><span class=\"A_bytes\">A</span><span class=\"C_bytes\">C</span><span class=\"T_bytes\">T</span><span class=\"C_bytes\">C</span><span class=\"A_bytes\">A</span><span class=\"T_bytes\">T</span><span class=\"T_bytes\">T</span><span class=\"A_bytes\">A</span><span class=\"C_bytes\">C</span><span class=\"A_bytes\">A</span><span class=\"G_bytes\">G</span><span class=\"C_bytes\">C</span><span class=\"A_bytes\">A</span><span class=\"T_bytes\">T</span><span class=\"G_bytes\">G</span><span class=\"A_bytes\">A</span><span class=\"G_bytes\">G</span><span class=\"A_bytes\">A</span><span class=\"A_bytes\">A</span><span class=\"C_bytes\">C</span><span class=\"A_bytes\">A</span><span class=\"G_bytes\">G</span><span class=\"C_bytes\">C</span><span class=\"A_bytes\">A</span><span class=\"G_bytes\">G</span><span class=\"T_bytes\">T</span><span class=\"T_bytes\">T</span><span class=\"T_bytes\">T</span><span class=\"A_bytes\">A</span><span class=\"T_bytes\">T</span><span class=\"T_bytes\">T</span><span class=\"A_bytes\">A</span><span class=\"T_bytes\">T</span><span class=\"A_bytes\">A</span><span class=\"C_bytes\">C</span><span class=\"A_bytes\">A</span><span class=\"C_bytes\">C</span><span class=\"T_bytes\">T</span></td></tr>\n",
       "<tr><td class=\"label\">HowlerMon</td><td><span class=\"T_bytes\">.</span><span class=\"G_bytes\">.</span><span class=\"T_bytes\">.</span><span class=\"G_bytes\">.</span><span class=\"G_bytes\">.</span><span class=\"C_bytes\">.</span><span class=\"A_bytes\">.</span><span class=\"C_bytes\">.</span><span class=\"A_bytes\">.</span><span class=\"A_bytes\">.</span><span class=\"A_bytes\">.</span><span class=\"T_bytes\">.</span><span class=\"A_bytes\">.</span><span class=\"C_bytes\">.</span><span class=\"T_bytes\">.</span><span class=\"C_bytes\">.</span><span class=\"A_bytes\">.</span><span class=\"T_bytes\">.</span><span class=\"G_bytes\">.</span><span class=\"C_bytes\">.</span><span class=\"C_bytes\">.</span><span class=\"A_bytes\">.</span><span class=\"G_bytes\">G</span><span class=\"C_bytes\">.</span><span class=\"T_bytes\">.</span><span class=\"C_bytes\">.</span><span class=\"A_bytes\">.</span><span class=\"T_bytes\">.</span><span class=\"T_bytes\">.</span><span class=\"A_bytes\">.</span><span class=\"C_bytes\">.</span><span class=\"A_bytes\">.</span><span class=\"G_bytes\">.</span><span class=\"C_bytes\">.</span><span class=\"A_bytes\">.</span><span class=\"T_bytes\">.</span><span class=\"G_bytes\">.</span><span class=\"A_bytes\">.</span><span class=\"G_bytes\">.</span><span class=\"A_bytes\">.</span><span class=\"A_bytes\">.</span><span class=\"C_bytes\">.</span><span class=\"A_bytes\">.</span><span class=\"G_bytes\">.</span><span class=\"C_bytes\">.</span><span class=\"A_bytes\">.</span><span class=\"G_bytes\">.</span><span class=\"T_bytes\">.</span><span class=\"T_bytes\">.</span><span class=\"T_bytes\">.</span><span class=\"G_bytes\">G</span><span class=\"T_bytes\">.</span><span class=\"T_bytes\">.</span><span class=\"A_bytes\">.</span><span class=\"C_bytes\">C</span><span class=\"T_bytes\">T</span><span class=\"C_bytes\">.</span><span class=\"A_bytes\">.</span><span class=\"C_bytes\">.</span><span class=\"T_bytes\">.</span></td></tr>\n",
       "<tr><td class=\"label\">NineBande</td><td><span class=\"T_bytes\">.</span><span class=\"G_bytes\">.</span><span class=\"T_bytes\">.</span><span class=\"G_bytes\">.</span><span class=\"G_bytes\">.</span><span class=\"C_bytes\">.</span><span class=\"A_bytes\">.</span><span class=\"C_bytes\">.</span><span class=\"A_bytes\">.</span><span class=\"A_bytes\">.</span><span class=\"A_bytes\">.</span><span class=\"T_bytes\">.</span><span class=\"A_bytes\">.</span><span class=\"C_bytes\">.</span><span class=\"T_bytes\">.</span><span class=\"C_bytes\">.</span><span class=\"A_bytes\">.</span><span class=\"T_bytes\">.</span><span class=\"G_bytes\">.</span><span class=\"C_bytes\">.</span><span class=\"C_bytes\">.</span><span class=\"A_bytes\">.</span><span class=\"A_bytes\">.</span><span class=\"C_bytes\">.</span><span class=\"T_bytes\">.</span><span class=\"T_bytes\">T</span><span class=\"A_bytes\">.</span><span class=\"T_bytes\">.</span><span class=\"T_bytes\">.</span><span class=\"A_bytes\">.</span><span class=\"C_bytes\">.</span><span class=\"A_bytes\">.</span><span class=\"G_bytes\">.</span><span class=\"C_bytes\">.</span><span class=\"A_bytes\">.</span><span class=\"T_bytes\">.</span><span class=\"G_bytes\">.</span><span class=\"A_bytes\">.</span><span class=\"G_bytes\">.</span><span class=\"A_bytes\">.</span><span class=\"A_bytes\">.</span><span class=\"C_bytes\">.</span><span class=\"A_bytes\">.</span><span class=\"G_bytes\">.</span><span class=\"C_bytes\">.</span><span class=\"A_bytes\">.</span><span class=\"G_bytes\">.</span><span class=\"T_bytes\">.</span><span class=\"T_bytes\">.</span><span class=\"T_bytes\">.</span><span class=\"A_bytes\">.</span><span class=\"T_bytes\">.</span><span class=\"T_bytes\">.</span><span class=\"A_bytes\">.</span><span class=\"C_bytes\">C</span><span class=\"T_bytes\">T</span><span class=\"C_bytes\">.</span><span class=\"A_bytes\">.</span><span class=\"C_bytes\">.</span><span class=\"T_bytes\">.</span></td></tr>\n",
       "</table>\n",
       "<p><i>3 x 2532 (truncated to 3 x 60) bytes alignment</i></p>\n",
       "</div>"
      ],
      "text/plain": [
       "3 x 2532 bytes alignment: HowlerMon[TGTGGCACAAA...], NineBande[TGTGGCACAAA...], DogFaced[TGTGGCACAAA...]"
      ]
     },
     "execution_count": 43,
     "metadata": {},
     "output_type": "execute_result"
    }
   ],
   "source": [
    "aln.take_seqs([\"Human\", \"Mouse\"], negate=True)"
   ]
  },
  {
   "cell_type": "code",
   "execution_count": 44,
   "id": "healthy-soundtrack",
   "metadata": {
    "execution": {
     "iopub.execute_input": "2021-09-30T04:31:04.396796Z",
     "iopub.status.busy": "2021-09-30T04:31:04.396015Z",
     "iopub.status.idle": "2021-09-30T04:31:04.398922Z",
     "shell.execute_reply": "2021-09-30T04:31:04.399403Z"
    }
   },
   "outputs": [
    {
     "data": {
      "text/html": [
       "<style>\n",
       ".c3align td { border: none !important; text-align: left !important; }\n",
       ".c3align tr:not(.num_row) td span {margin: 0 2px;}\n",
       ".c3align tr:nth-child(even) {background: #f7f7f7;}\n",
       ".c3align .num_row {background-color:rgba(161, 195, 209, 0.5) !important; border-top: solid 1px black; }\n",
       ".c3align .label { font-size: 12pt ; text-align: right !important; color: black !important; padding: 0 4px; display: table-cell !important; font-weight: normal !important; }\n",
       ".c3align .T_dna{font-family: \"Lucida Console\",monospace !important; font-size: 12pt !important; color: blue; }\n",
       ".c3align .C_dna{font-family: \"Lucida Console\",monospace !important; font-size: 12pt !important; color: black; }\n",
       ".c3align .A_dna{font-family: \"Lucida Console\",monospace !important; font-size: 12pt !important; color: #FF0102; }\n",
       ".c3align .G_dna{font-family: \"Lucida Console\",monospace !important; font-size: 12pt !important; color: green; }\n",
       ".c3align .terminal_ambig_dna{font-family: \"Lucida Console\",monospace !important; font-size: 12pt !important; color: gray; }\n",
       ".c3align .ambig_dna{font-family: \"Lucida Console\",monospace !important; font-size: 12pt !important; color: gray; }\n",
       "</style>\n",
       "<div class=\"c3align\">\n",
       "<table>\n",
       "<tr class=\"num_row\"><td></td><td><b>0</b></td></tr>\n",
       "<tr><td class=\"label\">seq2</td><td><span class=\"A_dna\">A</span><span class=\"T_dna\">T</span><span class=\"G_dna\">G</span><span class=\"A_dna\">A</span><span class=\"A_dna\">A</span><span class=\"G_dna\">G</span><span class=\"G_dna\">G</span><span class=\"T_dna\">T</span><span class=\"G_dna\">G</span><span class=\"A_dna\">A</span><span class=\"T_dna\">T</span><span class=\"G_dna\">G</span></td></tr>\n",
       "<tr><td class=\"label\">seq1</td><td><span class=\"A_dna\">.</span><span class=\"T_dna\">.</span><span class=\"G_dna\">.</span><span class=\"A_dna\">.</span><span class=\"A_dna\">.</span><span class=\"G_dna\">.</span><span class=\"G_dna\">.</span><span class=\"T_dna\">.</span><span class=\"G_dna\">.</span><span class=\"ambig_dna\">-</span><span class=\"ambig_dna\">-</span><span class=\"ambig_dna\">-</span></td></tr>\n",
       "</table>\n",
       "<p><i>2 x 12 dna alignment</i></p>\n",
       "</div>"
      ],
      "text/plain": [
       "2 x 12 dna alignment: seq1[ATGAAGGTG--...], seq2[ATGAAGGTGAT...]"
      ]
     },
     "execution_count": 44,
     "metadata": {},
     "output_type": "execute_result"
    }
   ],
   "source": [
    "from cogent3 import make_aligned_seqs\n",
    "\n",
    "aln = make_aligned_seqs(\n",
    "    data=[\n",
    "        (\"seq1\", \"ATGAAGGTG---\"),\n",
    "        (\"seq2\", \"ATGAAGGTGATG\"),\n",
    "        (\"seq3\", \"ATGAAGGNGATG\"),\n",
    "    ],\n",
    "    moltype=\"dna\",\n",
    ")\n",
    "\n",
    "def no_N_chars(s):\n",
    "    return \"N\" not in s\n",
    "\n",
    "aln.take_seqs_if(no_N_chars)"
   ]
  },
  {
   "cell_type": "code",
   "execution_count": 45,
   "id": "manual-scanner",
   "metadata": {
    "execution": {
     "iopub.execute_input": "2021-09-30T04:31:04.403268Z",
     "iopub.status.busy": "2021-09-30T04:31:04.402630Z",
     "iopub.status.idle": "2021-09-30T04:31:04.405356Z",
     "shell.execute_reply": "2021-09-30T04:31:04.405729Z"
    }
   },
   "outputs": [
    {
     "data": {
      "text/html": [
       "<style>\n",
       ".c3align td { border: none !important; text-align: left !important; }\n",
       ".c3align tr:not(.num_row) td span {margin: 0 2px;}\n",
       ".c3align tr:nth-child(even) {background: #f7f7f7;}\n",
       ".c3align .num_row {background-color:rgba(161, 195, 209, 0.5) !important; border-top: solid 1px black; }\n",
       ".c3align .label { font-size: 12pt ; text-align: right !important; color: black !important; padding: 0 4px; display: table-cell !important; font-weight: normal !important; }\n",
       ".c3align .T_dna{font-family: \"Lucida Console\",monospace !important; font-size: 12pt !important; color: blue; }\n",
       ".c3align .C_dna{font-family: \"Lucida Console\",monospace !important; font-size: 12pt !important; color: black; }\n",
       ".c3align .A_dna{font-family: \"Lucida Console\",monospace !important; font-size: 12pt !important; color: #FF0102; }\n",
       ".c3align .G_dna{font-family: \"Lucida Console\",monospace !important; font-size: 12pt !important; color: green; }\n",
       ".c3align .terminal_ambig_dna{font-family: \"Lucida Console\",monospace !important; font-size: 12pt !important; color: gray; }\n",
       ".c3align .ambig_dna{font-family: \"Lucida Console\",monospace !important; font-size: 12pt !important; color: gray; }\n",
       "</style>\n",
       "<div class=\"c3align\">\n",
       "<table>\n",
       "<tr class=\"num_row\"><td></td><td><b>0</b></td></tr>\n",
       "<tr><td class=\"label\">seq3</td><td><span class=\"A_dna\">A</span><span class=\"T_dna\">T</span><span class=\"G_dna\">G</span><span class=\"A_dna\">A</span><span class=\"A_dna\">A</span><span class=\"G_dna\">G</span><span class=\"G_dna\">G</span><span class=\"ambig_dna\">N</span><span class=\"G_dna\">G</span><span class=\"A_dna\">A</span><span class=\"T_dna\">T</span><span class=\"G_dna\">G</span></td></tr>\n",
       "</table>\n",
       "<p><i>1 x 12 dna alignment</i></p>\n",
       "</div>"
      ],
      "text/plain": [
       "1 x 12 dna alignment: seq3[ATGAAGGNGAT...]"
      ]
     },
     "execution_count": 45,
     "metadata": {},
     "output_type": "execute_result"
    }
   ],
   "source": [
    "aln.take_seqs_if(no_N_chars, negate=True)"
   ]
  },
  {
   "cell_type": "code",
   "execution_count": 46,
   "id": "identical-packaging",
   "metadata": {
    "execution": {
     "iopub.execute_input": "2021-09-30T04:31:04.415262Z",
     "iopub.status.busy": "2021-09-30T04:31:04.414704Z",
     "iopub.status.idle": "2021-09-30T04:31:04.417193Z",
     "shell.execute_reply": "2021-09-30T04:31:04.417649Z"
    }
   },
   "outputs": [
    {
     "name": "stdout",
     "output_type": "stream",
     "text": [
      "==================\n",
      " A    C     G    T\n",
      "------------------\n",
      "11    0    14    7\n",
      "------------------\n",
      "============================================================================================================================================================================================================================================================================================================================================================================================================================================================\n",
      "AAA    AAC    AAG    AAT    ACA    ACC    ACG    ACT    AGA    AGC    AGG    AGT    ATA    ATC    ATG    ATT    CAA    CAC    CAG    CAT    CCA    CCC    CCG    CCT    CGA    CGC    CGG    CGT    CTA    CTC    CTG    CTT    GAA    GAC    GAG    GAT    GCA    GCC    GCG    GCT    GGA    GGC    GGG    GGT    GTA    GTC    GTG    GTT    TAA    TAC    TAG    TAT    TCA    TCC    TCG    TCT    TGA    TGC    TGG    TGT    TTA    TTC    TTG    TTT\n",
      "------------------------------------------------------------------------------------------------------------------------------------------------------------------------------------------------------------------------------------------------------------------------------------------------------------------------------------------------------------------------------------------------------------------------------------------------------------\n",
      "  0      0      3      0      0      0      0      0      0      0      0      0      0      0      5      0      0      0      0      0      0      0      0      0      0      0      0      0      0      0      0      0      0      0      0      0      0      0      0      0      0      0      0      0      0      0      2      0      0      0      0      0      0      0      0      0      0      0      0      0      0      0      0      0\n",
      "------------------------------------------------------------------------------------------------------------------------------------------------------------------------------------------------------------------------------------------------------------------------------------------------------------------------------------------------------------------------------------------------------------------------------------------------------------\n",
      "=======================\n",
      " A    C     G    N    T\n",
      "-----------------------\n",
      "11    0    14    1    7\n",
      "-----------------------\n"
     ]
    }
   ],
   "source": [
    "from cogent3 import make_aligned_seqs\n",
    "\n",
    "aln = make_aligned_seqs(\n",
    "    data=[\n",
    "        (\"seq1\", \"ATGAAGGTG---\"),\n",
    "        (\"seq2\", \"ATGAAGGTGATG\"),\n",
    "        (\"seq3\", \"ATGAAGGNGATG\"),\n",
    "    ],\n",
    "    moltype=\"dna\",\n",
    ")\n",
    "counts = aln.counts()\n",
    "print(counts)\n",
    "counts = aln.counts(motif_length=3)\n",
    "print(counts)\n",
    "counts = aln.counts(include_ambiguity=True)\n",
    "print(counts)"
   ]
  },
  {
   "cell_type": "code",
   "execution_count": 47,
   "id": "moving-institute",
   "metadata": {
    "execution": {
     "iopub.execute_input": "2021-09-30T04:31:04.420905Z",
     "iopub.status.busy": "2021-09-30T04:31:04.420367Z",
     "iopub.status.idle": "2021-09-30T04:31:04.424467Z",
     "shell.execute_reply": "2021-09-30T04:31:04.424870Z"
    }
   },
   "outputs": [
    {
     "name": "stdout",
     "output_type": "stream",
     "text": [
      "{'T': 0.25520602569782896, 'C': 0.25808595480726626, 'A': 0.24390784226849802, 'G': 0.24280017722640673}\n"
     ]
    }
   ],
   "source": [
    "from cogent3 import load_aligned_seqs\n",
    "\n",
    "aln = load_aligned_seqs(\"data/primate_cdx2_promoter.fasta\", moltype=\"dna\")\n",
    "motif_probs = aln.get_motif_probs()\n",
    "print(motif_probs)"
   ]
  },
  {
   "cell_type": "code",
   "execution_count": 48,
   "id": "balanced-hungary",
   "metadata": {
    "execution": {
     "iopub.execute_input": "2021-09-30T04:31:04.431143Z",
     "iopub.status.busy": "2021-09-30T04:31:04.430523Z",
     "iopub.status.idle": "2021-09-30T04:31:04.466792Z",
     "shell.execute_reply": "2021-09-30T04:31:04.467151Z"
    }
   },
   "outputs": [
    {
     "name": "stdout",
     "output_type": "stream",
     "text": [
      "CAG  0.037\n",
      "CCT  0.034\n",
      "CGC  0.030\n",
      "TCT  0.029\n",
      "GCC  0.028\n",
      "AAC  0.028\n",
      "AAA  0.027\n",
      "AAG  0.027\n",
      "GGG  0.026\n",
      "CCC  0.025\n",
      "TAA  0.025\n",
      "CTT  0.024\n",
      "TTC  0.024\n",
      "GAG  0.024\n",
      "TGT  0.023\n",
      "CTG  0.023\n",
      "CTC  0.021\n",
      "GGA  0.021\n",
      "TTT  0.020\n",
      "GGT  0.019\n",
      "CAA  0.019\n",
      "AGT  0.019\n",
      "TCC  0.019\n",
      "GAA  0.019\n",
      "ATT  0.018\n",
      "TAG  0.017\n",
      "AAT  0.017\n",
      "TTG  0.017\n",
      "TCA  0.015\n",
      "TGG  0.015\n",
      "TGC  0.015\n",
      "GTT  0.014\n",
      "GGC  0.014\n",
      "CAT  0.013\n",
      "GTA  0.013\n",
      "TGA  0.013\n",
      "ATA  0.012\n",
      "AGA  0.012\n",
      "CAC  0.011\n",
      "TTA  0.011\n",
      "CCA  0.011\n",
      "GCT  0.011\n",
      "GAT  0.011\n",
      "GCA  0.011\n",
      "CCG  0.011\n",
      "TAC  0.010\n",
      "GAC  0.009\n",
      "AGC  0.009\n",
      "ATC  0.008\n",
      "GTC  0.008\n",
      "CGG  0.008\n",
      "AGG  0.008\n",
      "ACT  0.007\n",
      "ACG  0.007\n",
      "CGT  0.007\n",
      "GCG  0.007\n",
      "GTG  0.006\n",
      "TAT  0.005\n",
      "ATG  0.005\n",
      "TCG  0.005\n",
      "ACC  0.005\n",
      "CGA  0.005\n",
      "CTA  0.003\n",
      "ACA  0.002\n"
     ]
    }
   ],
   "source": [
    "from cogent3 import load_aligned_seqs, DNA\n",
    "\n",
    "trinuc_alphabet = DNA.alphabet.get_word_alphabet(3)\n",
    "aln = load_aligned_seqs(\"data/primate_cdx2_promoter.fasta\", moltype=\"dna\")\n",
    "motif_probs = aln.get_motif_probs(alphabet=trinuc_alphabet)\n",
    "for m in sorted(motif_probs, key=lambda x: motif_probs[x], reverse=True):\n",
    "    print(\"%s  %.3f\" % (m, motif_probs[m]))"
   ]
  },
  {
   "cell_type": "code",
   "execution_count": 49,
   "id": "mounted-gospel",
   "metadata": {
    "execution": {
     "iopub.execute_input": "2021-09-30T04:31:04.472808Z",
     "iopub.status.busy": "2021-09-30T04:31:04.471904Z",
     "iopub.status.idle": "2021-09-30T04:31:04.474133Z",
     "shell.execute_reply": "2021-09-30T04:31:04.474538Z"
    }
   },
   "outputs": [],
   "source": [
    "aln = make_aligned_seqs(data=[(\"a\", \"AACAAC\"), (\"b\", \"AAGAAG\")], moltype=\"dna\")\n",
    "motif_probs = aln.get_motif_probs()\n",
    "assert motif_probs[\"T\"] == 0.0\n",
    "motif_probs = aln.get_motif_probs(pseudocount=1e-6)\n",
    "assert 0 < motif_probs[\"T\"] <= 1e-6"
   ]
  },
  {
   "cell_type": "code",
   "execution_count": 50,
   "id": "lonely-actor",
   "metadata": {
    "execution": {
     "iopub.execute_input": "2021-09-30T04:31:04.478817Z",
     "iopub.status.busy": "2021-09-30T04:31:04.478314Z",
     "iopub.status.idle": "2021-09-30T04:31:04.480091Z",
     "shell.execute_reply": "2021-09-30T04:31:04.480436Z"
    }
   },
   "outputs": [],
   "source": [
    "seqs = [(\"a\", \"AACGTAAG\"), (\"b\", \"AACGTAAG\")]\n",
    "aln = make_aligned_seqs(data=seqs, moltype=\"dna\")\n",
    "dinuc_alphabet = DNA.alphabet.get_word_alphabet(2)\n",
    "motif_probs = aln.get_motif_probs(alphabet=dinuc_alphabet)\n",
    "assert motif_probs[\"AA\"] == 0.25"
   ]
  },
  {
   "cell_type": "code",
   "execution_count": 51,
   "id": "virgin-stand",
   "metadata": {
    "execution": {
     "iopub.execute_input": "2021-09-30T04:31:04.484660Z",
     "iopub.status.busy": "2021-09-30T04:31:04.484085Z",
     "iopub.status.idle": "2021-09-30T04:31:04.486386Z",
     "shell.execute_reply": "2021-09-30T04:31:04.486885Z"
    }
   },
   "outputs": [
    {
     "data": {
      "text/plain": [
       "2"
      ]
     },
     "execution_count": 51,
     "metadata": {},
     "output_type": "execute_result"
    }
   ],
   "source": [
    "seqs = [(\"my_seq\", \"AAAGTAAG\")]\n",
    "aln = make_aligned_seqs(data=seqs, moltype=\"dna\")\n",
    "my_seq = aln.get_seq(\"my_seq\")\n",
    "my_seq.count(\"AA\")\n",
    "\"AAA\".count(\"AA\")\n",
    "\"AAAA\".count(\"AA\")"
   ]
  },
  {
   "cell_type": "code",
   "execution_count": 52,
   "id": "super-research",
   "metadata": {
    "execution": {
     "iopub.execute_input": "2021-09-30T04:31:04.491226Z",
     "iopub.status.busy": "2021-09-30T04:31:04.490618Z",
     "iopub.status.idle": "2021-09-30T04:31:04.493057Z",
     "shell.execute_reply": "2021-09-30T04:31:04.493469Z"
    }
   },
   "outputs": [
    {
     "data": {
      "text/plain": [
       "3"
      ]
     },
     "execution_count": 52,
     "metadata": {},
     "output_type": "execute_result"
    }
   ],
   "source": [
    "from cogent3 import make_seq\n",
    "\n",
    "seq = make_seq(moltype=\"dna\", seq=\"AAAGTAAG\")\n",
    "seq\n",
    "di_nucs = [seq[i : i + 2] for i in range(len(seq) - 1)]\n",
    "sum([nn == \"AA\" for nn in di_nucs])"
   ]
  },
  {
   "cell_type": "code",
   "execution_count": 53,
   "id": "social-egyptian",
   "metadata": {
    "execution": {
     "iopub.execute_input": "2021-09-30T04:31:04.497281Z",
     "iopub.status.busy": "2021-09-30T04:31:04.496728Z",
     "iopub.status.idle": "2021-09-30T04:31:04.501603Z",
     "shell.execute_reply": "2021-09-30T04:31:04.501994Z"
    }
   },
   "outputs": [
    {
     "data": {
      "text/plain": [
       "[ByteSequence(-), ByteSequence(-)]"
      ]
     },
     "execution_count": 53,
     "metadata": {},
     "output_type": "execute_result"
    }
   ],
   "source": [
    "from cogent3 import load_aligned_seqs\n",
    "\n",
    "aln = load_aligned_seqs(\"data/primate_cdx2_promoter.fasta\")\n",
    "col = aln[113:115].iter_positions()\n",
    "c1, c2 = list(col)\n",
    "c1, c2\n",
    "list(filter(lambda x: x == \"-\", c1))\n",
    "list(filter(lambda x: x == \"-\", c2))"
   ]
  },
  {
   "cell_type": "code",
   "execution_count": 54,
   "id": "specialized-disaster",
   "metadata": {
    "execution": {
     "iopub.execute_input": "2021-09-30T04:31:04.505674Z",
     "iopub.status.busy": "2021-09-30T04:31:04.505139Z",
     "iopub.status.idle": "2021-09-30T04:31:04.511457Z",
     "shell.execute_reply": "2021-09-30T04:31:04.511873Z"
    }
   },
   "outputs": [
    {
     "name": "stdout",
     "output_type": "stream",
     "text": [
      "0.0\n",
      "0.6666666666666666\n",
      "0.0\n",
      "0.0\n",
      "0.0\n",
      "0.0\n",
      "0.0\n",
      "0.0\n",
      "0.0\n",
      "0.0\n",
      "0.0\n",
      "0.0\n",
      "0.0\n",
      "0.0\n",
      "0.0\n",
      "0.0\n",
      "0.0\n",
      "0.0\n",
      "0.0\n",
      "0.0\n",
      "0.0\n",
      "0.0\n",
      "0.0\n",
      "0.0\n",
      "0.0\n",
      "0.0\n",
      "0.0\n",
      "0.0\n",
      "0.0\n",
      "0.0\n",
      "0.0\n",
      "0.0\n",
      "0.0\n",
      "0.0\n",
      "0.0\n",
      "0.0\n",
      "0.0\n"
     ]
    }
   ],
   "source": [
    "from cogent3 import load_aligned_seqs\n",
    "\n",
    "aln = load_aligned_seqs(\"data/primate_cdx2_promoter.fasta\")\n",
    "for column in aln[113:150].iter_positions():\n",
    "    ungapped = list(filter(lambda x: x == \"-\", column))\n",
    "    gap_fraction = len(ungapped) * 1.0 / len(column)\n",
    "    print(gap_fraction)"
   ]
  },
  {
   "cell_type": "code",
   "execution_count": 55,
   "id": "operating-address",
   "metadata": {
    "execution": {
     "iopub.execute_input": "2021-09-30T04:31:04.515666Z",
     "iopub.status.busy": "2021-09-30T04:31:04.515077Z",
     "iopub.status.idle": "2021-09-30T04:31:04.516776Z",
     "shell.execute_reply": "2021-09-30T04:31:04.517139Z"
    }
   },
   "outputs": [],
   "source": [
    "from cogent3 import make_aligned_seqs\n",
    "\n",
    "aln = make_aligned_seqs(\n",
    "    data=[\n",
    "        (\"seq1\", \"ATGAAGG-TG--\"),\n",
    "        (\"seq2\", \"ATG-AGGTGATG\"),\n",
    "        (\"seq3\", \"ATGAAG--GATG\"),\n",
    "    ],\n",
    "    moltype=\"dna\",\n",
    ")\n",
    "seq_to_aln_map = aln.get_gapped_seq(\"seq1\").gap_maps()[0]"
   ]
  },
  {
   "cell_type": "code",
   "execution_count": 56,
   "id": "mental-maker",
   "metadata": {
    "execution": {
     "iopub.execute_input": "2021-09-30T04:31:04.520168Z",
     "iopub.status.busy": "2021-09-30T04:31:04.519613Z",
     "iopub.status.idle": "2021-09-30T04:31:04.521711Z",
     "shell.execute_reply": "2021-09-30T04:31:04.522047Z"
    }
   },
   "outputs": [
    {
     "data": {
      "text/plain": [
       "9"
      ]
     },
     "execution_count": 56,
     "metadata": {},
     "output_type": "execute_result"
    }
   ],
   "source": [
    "seq_to_aln_map[3]\n",
    "seq_to_aln_map[8]"
   ]
  },
  {
   "cell_type": "code",
   "execution_count": 57,
   "id": "future-perception",
   "metadata": {
    "execution": {
     "iopub.execute_input": "2021-09-30T04:31:04.525109Z",
     "iopub.status.busy": "2021-09-30T04:31:04.524577Z",
     "iopub.status.idle": "2021-09-30T04:31:04.526787Z",
     "shell.execute_reply": "2021-09-30T04:31:04.527222Z"
    }
   },
   "outputs": [
    {
     "data": {
      "text/plain": [
       "7"
      ]
     },
     "execution_count": 57,
     "metadata": {},
     "output_type": "execute_result"
    }
   ],
   "source": [
    "aln_to_seq_map = aln.get_gapped_seq(\"seq1\").gap_maps()[1]\n",
    "aln_to_seq_map[3]\n",
    "aln_to_seq_map[8]"
   ]
  },
  {
   "cell_type": "code",
   "execution_count": 58,
   "id": "joined-wisdom",
   "metadata": {
    "execution": {
     "iopub.execute_input": "2021-09-30T04:31:04.529774Z",
     "iopub.status.busy": "2021-09-30T04:31:04.529290Z",
     "iopub.status.idle": "2021-09-30T04:31:04.534230Z",
     "shell.execute_reply": "2021-09-30T04:31:04.534718Z"
    }
   },
   "outputs": [
    {
     "ename": "KeyError",
     "evalue": "7",
     "output_type": "error",
     "traceback": [
      "\u001b[0;31m---------------------------------------------------------------------------\u001b[0m",
      "\u001b[0;31mKeyError\u001b[0m                                  Traceback (most recent call last)",
      "\u001b[0;32m<ipython-input-58-76706f04c62d>\u001b[0m in \u001b[0;36m<module>\u001b[0;34m\u001b[0m\n\u001b[0;32m----> 1\u001b[0;31m \u001b[0mseq_pos\u001b[0m \u001b[0;34m=\u001b[0m \u001b[0maln_to_seq_map\u001b[0m\u001b[0;34m[\u001b[0m\u001b[0;36m7\u001b[0m\u001b[0;34m]\u001b[0m\u001b[0;34m\u001b[0m\u001b[0;34m\u001b[0m\u001b[0m\n\u001b[0m",
      "\u001b[0;31mKeyError\u001b[0m: 7"
     ]
    }
   ],
   "source": [
    "seq_pos = aln_to_seq_map[7]"
   ]
  },
  {
   "cell_type": "code",
   "execution_count": 59,
   "id": "novel-biodiversity",
   "metadata": {
    "execution": {
     "iopub.execute_input": "2021-09-30T04:31:04.538344Z",
     "iopub.status.busy": "2021-09-30T04:31:04.537773Z",
     "iopub.status.idle": "2021-09-30T04:31:04.539615Z",
     "shell.execute_reply": "2021-09-30T04:31:04.539952Z"
    }
   },
   "outputs": [
    {
     "name": "stdout",
     "output_type": "stream",
     "text": [
      ">seq2\n",
      "ATG-AGTGATG\n",
      ">seq3\n",
      "AT--AG-GATG\n",
      "\n"
     ]
    }
   ],
   "source": [
    "aln = make_aligned_seqs(\n",
    "    data=[\n",
    "        (\"seq1\", \"ATGAA---TG-\"),\n",
    "        (\"seq2\", \"ATG-AGTGATG\"),\n",
    "        (\"seq3\", \"AT--AG-GATG\"),\n",
    "    ],\n",
    "    moltype=\"dna\",\n",
    ")\n",
    "print(aln.omit_gap_runs(2))"
   ]
  },
  {
   "cell_type": "code",
   "execution_count": 60,
   "id": "careful-darwin",
   "metadata": {
    "execution": {
     "iopub.execute_input": "2021-09-30T04:31:04.543621Z",
     "iopub.status.busy": "2021-09-30T04:31:04.543050Z",
     "iopub.status.idle": "2021-09-30T04:31:04.544891Z",
     "shell.execute_reply": "2021-09-30T04:31:04.545243Z"
    }
   },
   "outputs": [
    {
     "name": "stdout",
     "output_type": "stream",
     "text": [
      ">seq1\n",
      "ATGA--TG-\n",
      ">seq2\n",
      "ATGAGGATG\n",
      ">seq3\n",
      "AT-AGGATG\n",
      "\n"
     ]
    }
   ],
   "source": [
    "aln = make_aligned_seqs(\n",
    "    data=[\n",
    "        (\"seq1\", \"ATGAA---TG-\"),\n",
    "        (\"seq2\", \"ATG-AGTGATG\"),\n",
    "        (\"seq3\", \"AT--AG-GATG\"),\n",
    "    ],\n",
    "    moltype=\"dna\",\n",
    ")\n",
    "print(aln.omit_gap_pos(0.40))"
   ]
  },
  {
   "cell_type": "code",
   "execution_count": 61,
   "id": "portable-basketball",
   "metadata": {
    "execution": {
     "iopub.execute_input": "2021-09-30T04:31:04.548755Z",
     "iopub.status.busy": "2021-09-30T04:31:04.548191Z",
     "iopub.status.idle": "2021-09-30T04:31:04.550153Z",
     "shell.execute_reply": "2021-09-30T04:31:04.550554Z"
    }
   },
   "outputs": [
    {
     "name": "stdout",
     "output_type": "stream",
     "text": [
      ">seq2\n",
      "ATG-AGTGATG\n",
      ">seq3\n",
      "AT--AG-GATG\n",
      "\n"
     ]
    }
   ],
   "source": [
    "aln = make_aligned_seqs(\n",
    "    data=[\n",
    "        (\"seq1\", \"ATGAA------\"),\n",
    "        (\"seq2\", \"ATG-AGTGATG\"),\n",
    "        (\"seq3\", \"AT--AG-GATG\"),\n",
    "    ],\n",
    "    moltype=\"dna\",\n",
    ")\n",
    "filtered_aln = aln.omit_gap_seqs(0.50)\n",
    "print(filtered_aln)"
   ]
  },
  {
   "cell_type": "code",
   "execution_count": 62,
   "id": "fifty-clearing",
   "metadata": {
    "execution": {
     "iopub.execute_input": "2021-09-30T04:31:04.553615Z",
     "iopub.status.busy": "2021-09-30T04:31:04.553137Z",
     "iopub.status.idle": "2021-09-30T04:31:04.554993Z",
     "shell.execute_reply": "2021-09-30T04:31:04.555365Z"
    }
   },
   "outputs": [
    {
     "name": "stdout",
     "output_type": "stream",
     "text": [
      ">seq2\n",
      "ATGAGTGATG\n",
      ">seq3\n",
      "AT-AG-GATG\n",
      "\n"
     ]
    }
   ],
   "source": [
    "print(filtered_aln.omit_gap_pos())"
   ]
  }
 ],
 "metadata": {
  "kernelspec": {
   "display_name": "Python 3",
   "language": "python",
   "name": "python3"
  },
  "language_info": {
   "codemirror_mode": {
    "name": "ipython",
    "version": 3
   },
   "file_extension": ".py",
   "mimetype": "text/x-python",
   "name": "python",
   "nbconvert_exporter": "python",
   "pygments_lexer": "ipython3",
   "version": "3.9.0"
  }
 },
 "nbformat": 4,
 "nbformat_minor": 5
}