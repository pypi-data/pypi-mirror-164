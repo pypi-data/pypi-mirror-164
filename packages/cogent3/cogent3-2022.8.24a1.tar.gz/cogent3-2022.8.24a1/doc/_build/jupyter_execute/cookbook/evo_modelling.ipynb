{
 "cells": [
  {
   "cell_type": "code",
   "execution_count": 1,
   "id": "abandoned-input",
   "metadata": {
    "execution": {
     "iopub.execute_input": "2021-09-30T04:31:21.147806Z",
     "iopub.status.busy": "2021-09-30T04:31:21.147194Z",
     "iopub.status.idle": "2021-09-30T04:31:21.429107Z",
     "shell.execute_reply": "2021-09-30T04:31:21.429503Z"
    }
   },
   "outputs": [],
   "source": [
    "import set_working_directory"
   ]
  },
  {
   "cell_type": "code",
   "execution_count": 2,
   "id": "apart-bench",
   "metadata": {
    "execution": {
     "iopub.execute_input": "2021-09-30T04:31:21.432557Z",
     "iopub.status.busy": "2021-09-30T04:31:21.432012Z",
     "iopub.status.idle": "2021-09-30T04:31:22.011865Z",
     "shell.execute_reply": "2021-09-30T04:31:22.012285Z"
    }
   },
   "outputs": [
    {
     "data": {
      "text/html": [
       "\n",
       "<div class=\"c3table\">\n",
       "\n",
       "<style>\n",
       ".c3table table {margin: 10px 0;}\n",
       ".c3table tr:last-child {border-bottom: 1px solid #000;} \n",
       ".c3table tr > th {text-align: left; padding: 0 5px;}\n",
       ".c3table tr > td {text-align: left; padding: 5px;}\n",
       ".c3table tr:nth-child(even) {background: #f7f7f7 !important;}\n",
       ".c3table .ellipsis {background: rgba(0, 0, 0, .01);}\n",
       ".c3table .index {background: rgba(161, 195, 209, 0.0); margin: 10px; font-weight: 600;}\n",
       ".c3table .head_cell {background: rgba(161, 195, 209, 0.75); font-weight: bold; text-align: center;}\n",
       ".c3table caption {color: rgb(250, 250, 250); background: rgba(30, 140, 200, 1); padding: 3px; white-space: nowrap; caption-side: top;}\n",
       ".c3table .cell_title {font-weight: bold;}\n",
       ".c3col_left { text-align: left !important; display: block;}\n",
       ".c3col_right { text-align: right !important; display: block;}\n",
       ".c3col_center { text-align: center !important; display: block;}\n",
       "</style>\n",
       "\n",
       "<table>\n",
       "\n",
       "<caption>\n",
       "<span class=\"cell_title\">Specify a model using 'Abbreviation' (case sensitive).</span>\n",
       "</caption>\n",
       "<thead class=\"head_cell\">\n",
       "<th>Model Type</th><th>Abbreviation</th><th>Description</th>\n",
       "</thead>\n",
       "<tbody>\n",
       "<tr><td><span class=\"c3col_left\">nucleotide</span></td><td><span class=\"c3col_left\">JC69</span></td><td><span class=\"c3col_left\">Jukes and Cantor's 1969 model</span></td></tr>\n",
       "<tr><td><span class=\"c3col_left\">nucleotide</span></td><td><span class=\"c3col_left\">K80</span></td><td><span class=\"c3col_left\">Kimura 1980</span></td></tr>\n",
       "<tr><td><span class=\"c3col_left\">nucleotide</span></td><td><span class=\"c3col_left\">F81</span></td><td><span class=\"c3col_left\">Felsenstein's 1981 model</span></td></tr>\n",
       "<tr><td><span class=\"c3col_left\">nucleotide</span></td><td><span class=\"c3col_left\">HKY85</span></td><td><span class=\"c3col_left\">Hasegawa, Kishino and Yano 1985 model</span></td></tr>\n",
       "<tr><td><span class=\"c3col_left\">nucleotide</span></td><td><span class=\"c3col_left\">TN93</span></td><td><span class=\"c3col_left\">Tamura and Nei 1993 model</span></td></tr>\n",
       "<tr><td><span class=\"c3col_left\">nucleotide</span></td><td><span class=\"c3col_left\">GTR</span></td><td><span class=\"c3col_left\">General Time Reversible nucleotide substitution model.</span></td></tr>\n",
       "<tr><td><span class=\"c3col_left\">nucleotide</span></td><td><span class=\"c3col_left\">ssGN</span></td><td><span class=\"c3col_left\">strand-symmetric general Markov nucleotide (non-stationary, non-reversible). Kaehler, 2017, Journal of Theoretical Biology 420: 144–51</span></td></tr>\n",
       "<tr><td><span class=\"c3col_left\">nucleotide</span></td><td><span class=\"c3col_left\">GN</span></td><td><span class=\"c3col_left\">General Markov Nucleotide (non-stationary, non-reversible). Kaehler, Yap, Zhang, Huttley, 2015, Sys Biol 64 (2): 281–93</span></td></tr>\n",
       "<tr><td><span class=\"c3col_left\">nucleotide</span></td><td><span class=\"c3col_left\">BH</span></td><td><span class=\"c3col_left\">Barry and Hartigan Discrete Time substitution model Barry and Hartigan 1987. Biometrics 43: 261–76.</span></td></tr>\n",
       "<tr><td><span class=\"c3col_left\">nucleotide</span></td><td><span class=\"c3col_left\">DT</span></td><td><span class=\"c3col_left\">Discrete Time substitution model (non-stationary, non-reversible). motif_length=2 makes this a dinucleotide model, motif_length=3 a trinucleotide model.</span></td></tr>\n",
       "<tr><td><span class=\"c3col_left\">codon</span></td><td><span class=\"c3col_left\">CNFGTR</span></td><td><span class=\"c3col_left\">Conditional nucleotide frequency codon substitution model, GTR variant (with params analagous to the nucleotide GTR model). Yap, Lindsay, Easteal and Huttley, 2010, Mol Biol Evol 27: 726-734</span></td></tr>\n",
       "<tr><td><span class=\"c3col_left\">codon</span></td><td><span class=\"c3col_left\">CNFHKY</span></td><td><span class=\"c3col_left\">Conditional nucleotide frequency codon substitution model, HKY variant (with kappa, the ratio of transitions to transversions) Yap, Lindsay, Easteal and Huttley, 2010, Mol Biol Evol 27: 726-734</span></td></tr>\n",
       "<tr><td><span class=\"c3col_left\">codon</span></td><td><span class=\"c3col_left\">MG94HKY</span></td><td><span class=\"c3col_left\">Muse and Gaut 1994 codon substitution model, HKY variant (with kappa, the ratio of transitions to transversions) Muse and Gaut, 1994, Mol Biol Evol, 11, 715-24</span></td></tr>\n",
       "<tr><td><span class=\"c3col_left\">codon</span></td><td><span class=\"c3col_left\">MG94GTR</span></td><td><span class=\"c3col_left\">Muse and Gaut 1994 codon substitution model, GTR variant (with params analagous to the nucleotide GTR model) Muse and Gaut, 1994, Mol Biol Evol, 11, 715-24</span></td></tr>\n",
       "<tr><td><span class=\"c3col_left\">codon</span></td><td><span class=\"c3col_left\">GY94</span></td><td><span class=\"c3col_left\">Goldman and Yang 1994 codon substitution model. N Goldman and Z Yang, 1994, Mol Biol Evol, 11(5):725-36.</span></td></tr>\n",
       "<tr><td><span class=\"c3col_left\">codon</span></td><td><span class=\"c3col_left\">Y98</span></td><td><span class=\"c3col_left\">Yang's 1998 substitution model, a derivative of the GY94. Z Yang, 1998, Mol Biol Evol, 15(5):568-73</span></td></tr>\n",
       "<tr><td><span class=\"c3col_left\">codon</span></td><td><span class=\"c3col_left\">H04G</span></td><td><span class=\"c3col_left\">Huttley 2004 CpG substitution model. Includes a term for substitutions to or from CpG's. GA Huttley, 2004, Mol Biol Evol, 21(9):1760-8</span></td></tr>\n",
       "<tr><td><span class=\"c3col_left\">codon</span></td><td><span class=\"c3col_left\">H04GK</span></td><td><span class=\"c3col_left\">Huttley 2004 CpG substitution model. Includes a term for transition substitutions to or from CpG's. GA Huttley, 2004, Mol Biol Evol, 21(9):1760-8</span></td></tr>\n",
       "<tr><td><span class=\"c3col_left\">codon</span></td><td><span class=\"c3col_left\">H04GGK</span></td><td><span class=\"c3col_left\">Huttley 2004 CpG substitution model. Includes a general term for substitutions to or from CpG's and an adjustment for CpG transitions. GA Huttley, 2004, Mol Biol Evol, 21(9):1760-8</span></td></tr>\n",
       "<tr><td><span class=\"c3col_left\">codon</span></td><td><span class=\"c3col_left\">GNC</span></td><td><span class=\"c3col_left\">General Nucleotide Codon, a non-reversible codon model. Kaehler, Yap, Huttley, 2017, Gen Biol Evol 9(1): 134–49</span></td></tr>\n",
       "<tr><td><span class=\"c3col_left\">protein</span></td><td><span class=\"c3col_left\">DSO78</span></td><td><span class=\"c3col_left\">Dayhoff et al 1978 empirical protein model Dayhoff, MO, Schwartz RM, and Orcutt, BC. 1978 A model of evolutionary change in proteins. Pp. 345-352. Atlas of protein sequence and structure, Vol 5, Suppl. 3. National Biomedical Research Foundation, Washington D. C Matrix imported from PAML dayhoff.dat file</span></td></tr>\n",
       "<tr><td><span class=\"c3col_left\">protein</span></td><td><span class=\"c3col_left\">AH96</span></td><td><span class=\"c3col_left\">Adachi and Hasegawa 1996 empirical model for mitochondrial proteins. Adachi J, Hasegawa M. Model of amino acid substitution in proteins encoded by mitochondrial DNA. J Mol Evol. 1996 Apr;42(4):459-68. Matrix imported from PAML mtREV24.dat file</span></td></tr>\n",
       "<tr><td><span class=\"c3col_left\">protein</span></td><td><span class=\"c3col_left\">AH96_mtmammals</span></td><td><span class=\"c3col_left\">Adachi and Hasegawa 1996 empirical model for mammalian mitochondrial proteins. Adachi J, Hasegawa M. Model of amino acid substitution in proteins encoded by mitochondrial DNA. J Mol Evol. 1996 Apr;42(4):459-68. Matrix imported from PAML mtmam.dat file</span></td></tr>\n",
       "<tr><td><span class=\"c3col_left\">protein</span></td><td><span class=\"c3col_left\">JTT92</span></td><td><span class=\"c3col_left\">Jones, Taylor and Thornton 1992 empirical protein model Jones DT, Taylor WR, Thornton JM. The rapid generation of mutation data matrices from protein sequences. Comput Appl Biosci. 1992 Jun;8(3):275-82. Matrix imported from PAML jones.dat file</span></td></tr>\n",
       "<tr><td><span class=\"c3col_left\">protein</span></td><td><span class=\"c3col_left\">WG01</span></td><td><span class=\"c3col_left\">Whelan and Goldman 2001 empirical model for globular proteins. Whelan S, Goldman N. A general empirical model of protein evolution derived from multiple protein families using a maximum-likelihood approach. Mol Biol Evol. 2001 May;18(5):691-9. Matrix imported from PAML wag.dat file</span></td></tr>\n",
       "</tbody>\n",
       "</table>\n",
       "<p>\n",
       "25 rows x 3 columns</p>\n",
       "</div>"
      ],
      "text/plain": [
       "Specify a model using 'Abbreviation' (case sensitive).\n",
       "================================================================================================================================================================================================================================================================================================================================================\n",
       "Model Type    Abbreviation      Description                                                                                                                                                                                                                                                                                                     \n",
       "------------------------------------------------------------------------------------------------------------------------------------------------------------------------------------------------------------------------------------------------------------------------------------------------------------------------------------------------\n",
       "nucleotide    JC69              Jukes and Cantor's 1969 model                                                                                                                                                                                                                                                                                   \n",
       "nucleotide    K80               Kimura 1980                                                                                                                                                                                                                                                                                                     \n",
       "nucleotide    F81               Felsenstein's 1981 model                                                                                                                                                                                                                                                                                        \n",
       "nucleotide    HKY85             Hasegawa, Kishino and Yano 1985 model                                                                                                                                                                                                                                                                           \n",
       "nucleotide    TN93              Tamura and Nei 1993 model                                                                                                                                                                                                                                                                                       \n",
       "nucleotide    GTR               General Time Reversible nucleotide substitution model.                                                                                                                                                                                                                                                          \n",
       "nucleotide    ssGN              strand-symmetric general Markov nucleotide (non-stationary, non-reversible). Kaehler, 2017, Journal of Theoretical Biology 420: 144–51                                                                                                                                                                          \n",
       "nucleotide    GN                General Markov Nucleotide (non-stationary, non-reversible). Kaehler, Yap, Zhang, Huttley, 2015, Sys Biol 64 (2): 281–93                                                                                                                                                                                         \n",
       "nucleotide    BH                Barry and Hartigan Discrete Time substitution model Barry and Hartigan 1987. Biometrics 43: 261–76.                                                                                                                                                                                                             \n",
       "nucleotide    DT                Discrete Time substitution model (non-stationary, non-reversible). motif_length=2 makes this a dinucleotide model, motif_length=3 a trinucleotide model.                                                                                                                                                        \n",
       "codon         CNFGTR            Conditional nucleotide frequency codon substitution model, GTR variant (with params analagous to the nucleotide GTR model). Yap, Lindsay, Easteal and Huttley, 2010, Mol Biol Evol 27: 726-734                                                                                                                  \n",
       "codon         CNFHKY            Conditional nucleotide frequency codon substitution model, HKY variant (with kappa, the ratio of transitions to transversions) Yap, Lindsay, Easteal and Huttley, 2010, Mol Biol Evol 27: 726-734                                                                                                               \n",
       "codon         MG94HKY           Muse and Gaut 1994 codon substitution model, HKY variant (with kappa, the ratio of transitions to transversions) Muse and Gaut, 1994, Mol Biol Evol, 11, 715-24                                                                                                                                                 \n",
       "codon         MG94GTR           Muse and Gaut 1994 codon substitution model, GTR variant (with params analagous to the nucleotide GTR model) Muse and Gaut, 1994, Mol Biol Evol, 11, 715-24                                                                                                                                                     \n",
       "codon         GY94              Goldman and Yang 1994 codon substitution model. N Goldman and Z Yang, 1994, Mol Biol Evol, 11(5):725-36.                                                                                                                                                                                                        \n",
       "codon         Y98               Yang's 1998 substitution model, a derivative of the GY94. Z Yang, 1998, Mol Biol Evol, 15(5):568-73                                                                                                                                                                                                             \n",
       "codon         H04G              Huttley 2004 CpG substitution model. Includes a term for substitutions to or from CpG's. GA Huttley, 2004, Mol Biol Evol, 21(9):1760-8                                                                                                                                                                          \n",
       "codon         H04GK             Huttley 2004 CpG substitution model. Includes a term for transition substitutions to or from CpG's. GA Huttley, 2004, Mol Biol Evol, 21(9):1760-8                                                                                                                                                               \n",
       "codon         H04GGK            Huttley 2004 CpG substitution model. Includes a general term for substitutions to or from CpG's and an adjustment for CpG transitions. GA Huttley, 2004, Mol Biol Evol, 21(9):1760-8                                                                                                                            \n",
       "codon         GNC               General Nucleotide Codon, a non-reversible codon model. Kaehler, Yap, Huttley, 2017, Gen Biol Evol 9(1): 134–49                                                                                                                                                                                                 \n",
       "protein       DSO78             Dayhoff et al 1978 empirical protein model Dayhoff, MO, Schwartz RM, and Orcutt, BC. 1978 A model of evolutionary change in proteins. Pp. 345-352. Atlas of protein sequence and structure, Vol 5, Suppl. 3. National Biomedical Research Foundation, Washington D. C Matrix imported from PAML dayhoff.dat file\n",
       "protein       AH96              Adachi and Hasegawa 1996 empirical model for mitochondrial proteins. Adachi J, Hasegawa M. Model of amino acid substitution in proteins encoded by mitochondrial DNA. J Mol Evol. 1996 Apr;42(4):459-68. Matrix imported from PAML mtREV24.dat file                                                             \n",
       "protein       AH96_mtmammals    Adachi and Hasegawa 1996 empirical model for mammalian mitochondrial proteins. Adachi J, Hasegawa M. Model of amino acid substitution in proteins encoded by mitochondrial DNA. J Mol Evol. 1996 Apr;42(4):459-68. Matrix imported from PAML mtmam.dat file                                                     \n",
       "protein       JTT92             Jones, Taylor and Thornton 1992 empirical protein model Jones DT, Taylor WR, Thornton JM. The rapid generation of mutation data matrices from protein sequences. Comput Appl Biosci. 1992 Jun;8(3):275-82. Matrix imported from PAML jones.dat file                                                             \n",
       "protein       WG01              Whelan and Goldman 2001 empirical model for globular proteins. Whelan S, Goldman N. A general empirical model of protein evolution derived from multiple protein families using a maximum-likelihood approach. Mol Biol Evol. 2001 May;18(5):691-9. Matrix imported from PAML wag.dat file                      \n",
       "------------------------------------------------------------------------------------------------------------------------------------------------------------------------------------------------------------------------------------------------------------------------------------------------------------------------------------------------\n",
       "\n",
       "25 rows x 3 columns"
      ]
     },
     "execution_count": 2,
     "metadata": {},
     "output_type": "execute_result"
    }
   ],
   "source": [
    "from cogent3 import available_models\n",
    "\n",
    "available_models()"
   ]
  },
  {
   "cell_type": "code",
   "execution_count": 3,
   "id": "synthetic-modern",
   "metadata": {
    "execution": {
     "iopub.execute_input": "2021-09-30T04:31:22.016138Z",
     "iopub.status.busy": "2021-09-30T04:31:22.015495Z",
     "iopub.status.idle": "2021-09-30T04:31:22.018027Z",
     "shell.execute_reply": "2021-09-30T04:31:22.018465Z"
    }
   },
   "outputs": [
    {
     "name": "stdout",
     "output_type": "stream",
     "text": [
      "\n",
      "TimeReversibleNucleotide ( name = 'HKY85'; type = 'None'; params = ['kappa']; number of motifs = 4; motifs = ['T', 'C', 'A', 'G'])\n",
      "\n"
     ]
    }
   ],
   "source": [
    "from cogent3.evolve.models import get_model\n",
    "\n",
    "hky = get_model(\"HKY85\")\n",
    "print(hky)"
   ]
  },
  {
   "cell_type": "code",
   "execution_count": 4,
   "id": "adjacent-allah",
   "metadata": {
    "execution": {
     "iopub.execute_input": "2021-09-30T04:31:22.024131Z",
     "iopub.status.busy": "2021-09-30T04:31:22.023151Z",
     "iopub.status.idle": "2021-09-30T04:31:22.026809Z",
     "shell.execute_reply": "2021-09-30T04:31:22.027139Z"
    }
   },
   "outputs": [
    {
     "name": "stdout",
     "output_type": "stream",
     "text": [
      "\n",
      "TimeReversibleNucleotide ( name = 'GTR'; type = 'None'; params = ['A/C', 'A/G', 'A/T', 'C/G', 'C/T']; number of motifs = 4; motifs = ['T', 'C', 'A', 'G'])\n",
      "\n"
     ]
    }
   ],
   "source": [
    "from cogent3.evolve.models import get_model\n",
    "\n",
    "sub_mod = get_model(\"GTR\", with_rate=True, distribution=\"gamma\")\n",
    "print(sub_mod)"
   ]
  },
  {
   "cell_type": "code",
   "execution_count": 5,
   "id": "medieval-girlfriend",
   "metadata": {
    "execution": {
     "iopub.execute_input": "2021-09-30T04:31:22.059994Z",
     "iopub.status.busy": "2021-09-30T04:31:22.056789Z",
     "iopub.status.idle": "2021-09-30T04:31:22.707635Z",
     "shell.execute_reply": "2021-09-30T04:31:22.708158Z"
    }
   },
   "outputs": [
    {
     "name": "stdout",
     "output_type": "stream",
     "text": [
      "\n",
      "TimeReversibleCodon ( name = 'CNFGTR'; type = 'None'; params = ['A/C', 'A/G', 'A/T', 'C/G', 'C/T', 'omega']; number of motifs = 61; motifs = ['TTT', 'TTC', 'TTA', 'TTG', 'TCT', 'TCC', 'TCA', 'TCG', 'TAT', 'TAC', 'TGT', 'TGC', 'TGG', 'CTT', 'CTC', 'CTA', 'CTG', 'CCT', 'CCC', 'CCA', 'CCG', 'CAT', 'CAC', 'CAA', 'CAG', 'CGT', 'CGC', 'CGA', 'CGG', 'ATT', 'ATC', 'ATA', 'ATG', 'ACT', 'ACC', 'ACA', 'ACG', 'AAT', 'AAC', 'AAA', 'AAG', 'AGT', 'AGC', 'AGA', 'AGG', 'GTT', 'GTC', 'GTA', 'GTG', 'GCT', 'GCC', 'GCA', 'GCG', 'GAT', 'GAC', 'GAA', 'GAG', 'GGT', 'GGC', 'GGA', 'GGG'])\n",
      "\n"
     ]
    }
   ],
   "source": [
    "from cogent3.evolve.models import get_model\n",
    "\n",
    "sub_mod = get_model(\"CNFGTR\", with_rate=True, distribution=\"gamma\")\n",
    "print(sub_mod)"
   ]
  },
  {
   "cell_type": "code",
   "execution_count": 6,
   "id": "respiratory-dryer",
   "metadata": {
    "execution": {
     "iopub.execute_input": "2021-09-30T04:31:22.712385Z",
     "iopub.status.busy": "2021-09-30T04:31:22.711780Z",
     "iopub.status.idle": "2021-09-30T04:31:22.714402Z",
     "shell.execute_reply": "2021-09-30T04:31:22.713977Z"
    }
   },
   "outputs": [
    {
     "name": "stdout",
     "output_type": "stream",
     "text": [
      "\n",
      "Empirical ( name = 'JTT92'; type = 'None'; number of motifs = 20; motifs = ['A', 'C', 'D', 'E', 'F', 'G', 'H', 'I', 'K', 'L', 'M', 'N', 'P', 'Q', 'R', 'S', 'T', 'V', 'W', 'Y'])\n",
      "\n"
     ]
    }
   ],
   "source": [
    "from cogent3.evolve.models import get_model\n",
    "\n",
    "sub_mod = get_model(\"JTT92\", with_rate=True, distribution=\"gamma\")\n",
    "print(sub_mod)"
   ]
  },
  {
   "cell_type": "code",
   "execution_count": 7,
   "id": "controlled-hierarchy",
   "metadata": {
    "execution": {
     "iopub.execute_input": "2021-09-30T04:31:22.720428Z",
     "iopub.status.busy": "2021-09-30T04:31:22.719724Z",
     "iopub.status.idle": "2021-09-30T04:31:22.721810Z",
     "shell.execute_reply": "2021-09-30T04:31:22.722253Z"
    }
   },
   "outputs": [],
   "source": [
    "from cogent3 import make_tree\n",
    "from cogent3.evolve.models import get_model\n",
    "\n",
    "sub_mod = get_model(\"F81\")\n",
    "tree = make_tree(\"(a,b,(c,d))\")\n",
    "lf = sub_mod.make_likelihood_function(tree)"
   ]
  },
  {
   "cell_type": "code",
   "execution_count": 8,
   "id": "suited-consideration",
   "metadata": {
    "execution": {
     "iopub.execute_input": "2021-09-30T04:31:22.730943Z",
     "iopub.status.busy": "2021-09-30T04:31:22.730305Z",
     "iopub.status.idle": "2021-09-30T04:31:22.743710Z",
     "shell.execute_reply": "2021-09-30T04:31:22.744137Z"
    }
   },
   "outputs": [],
   "source": [
    "from cogent3 import make_tree, make_aligned_seqs\n",
    "from cogent3.evolve.models import get_model\n",
    "\n",
    "sub_mod = get_model(\"F81\")\n",
    "tree = make_tree(\"(a,b,(c,d))\")\n",
    "lf = sub_mod.make_likelihood_function(tree)\n",
    "aln = make_aligned_seqs(\n",
    "    [(\"a\", \"ACGT\"), (\"b\", \"AC-T\"), (\"c\", \"ACGT\"), (\"d\", \"AC-T\")]\n",
    ")\n",
    "lf.set_alignment(aln)"
   ]
  },
  {
   "cell_type": "code",
   "execution_count": 9,
   "id": "vital-preference",
   "metadata": {
    "execution": {
     "iopub.execute_input": "2021-09-30T04:31:22.747674Z",
     "iopub.status.busy": "2021-09-30T04:31:22.747040Z",
     "iopub.status.idle": "2021-09-30T04:31:22.750207Z",
     "shell.execute_reply": "2021-09-30T04:31:22.750843Z"
    }
   },
   "outputs": [
    {
     "name": "stdout",
     "output_type": "stream",
     "text": [
      "          /-Galago\n",
      "         |\n",
      "-root----|--HowlerMon\n",
      "         |\n",
      "         |          /-Rhesus\n",
      "          \\edge.3--|\n",
      "                   |          /-Orangutan\n",
      "                    \\edge.2--|\n",
      "                             |          /-Gorilla\n",
      "                              \\edge.1--|\n",
      "                                       |          /-Human\n",
      "                                        \\edge.0--|\n",
      "                                                  \\-Chimpanzee\n"
     ]
    }
   ],
   "source": [
    "from cogent3 import load_tree\n",
    "from cogent3.evolve.models import get_model\n",
    "\n",
    "tree = load_tree(\"data/primate_brca1.tree\")\n",
    "print(tree.ascii_art())"
   ]
  },
  {
   "cell_type": "code",
   "execution_count": 10,
   "id": "roman-manner",
   "metadata": {
    "execution": {
     "iopub.execute_input": "2021-09-30T04:31:22.768963Z",
     "iopub.status.busy": "2021-09-30T04:31:22.757265Z",
     "iopub.status.idle": "2021-09-30T04:31:23.353229Z",
     "shell.execute_reply": "2021-09-30T04:31:23.352708Z"
    }
   },
   "outputs": [],
   "source": [
    "sm = get_model(\"CNFGTR\")\n",
    "lf = sm.make_likelihood_function(tree, digits=2)\n",
    "lf.set_param_rule(\n",
    "    \"omega\",\n",
    "    tip_names=[\"Human\", \"Orangutan\"],\n",
    "    outgroup_name=\"Galago\",\n",
    "    clade=True,\n",
    "    init=0.5,\n",
    ")"
   ]
  },
  {
   "cell_type": "code",
   "execution_count": 11,
   "id": "colored-perth",
   "metadata": {
    "execution": {
     "iopub.execute_input": "2021-09-30T04:31:23.367931Z",
     "iopub.status.busy": "2021-09-30T04:31:23.367130Z",
     "iopub.status.idle": "2021-09-30T04:31:23.370492Z",
     "shell.execute_reply": "2021-09-30T04:31:23.370934Z"
    }
   },
   "outputs": [
    {
     "data": {
      "text/html": [
       "<h4>CNFGTR</h4>\n",
       "\n",
       "<p>number of free parameters = 78</p>\n",
       "\n",
       "<div class=\"c3table\">\n",
       "\n",
       "<style>\n",
       ".c3table table {margin: 10px 0;}\n",
       ".c3table tr:last-child {border-bottom: 1px solid #000;} \n",
       ".c3table tr > th {text-align: left; padding: 0 5px;}\n",
       ".c3table tr > td {text-align: left; padding: 5px;}\n",
       ".c3table tr:nth-child(even) {background: #f7f7f7 !important;}\n",
       ".c3table .ellipsis {background: rgba(0, 0, 0, .01);}\n",
       ".c3table .index {background: rgba(161, 195, 209, 0.0); margin: 10px; font-weight: 600;}\n",
       ".c3table .head_cell {background: rgba(161, 195, 209, 0.75); font-weight: bold; text-align: center;}\n",
       ".c3table caption {color: rgb(250, 250, 250); background: rgba(30, 140, 200, 1); padding: 3px; white-space: nowrap; caption-side: top;}\n",
       ".c3table .cell_title {font-weight: bold;}\n",
       ".c3col_left { text-align: left !important; display: block;}\n",
       ".c3col_right { text-align: right !important; display: block;}\n",
       ".c3col_center { text-align: center !important; display: block;}\n",
       "</style>\n",
       "\n",
       "<table>\n",
       "\n",
       "<caption>\n",
       "<span class=\"cell_title\">Global params</span>\n",
       "</caption>\n",
       "<thead class=\"head_cell\">\n",
       "<th>A/C</th><th>A/G</th><th>A/T</th><th>C/G</th><th>C/T</th>\n",
       "</thead>\n",
       "<tbody>\n",
       "<tr><td><span class=\"c3col_right\">1.00</span></td><td><span class=\"c3col_right\">1.00</span></td><td><span class=\"c3col_right\">1.00</span></td><td><span class=\"c3col_right\">1.00</span></td><td><span class=\"c3col_right\">1.00</span></td></tr>\n",
       "</tbody>\n",
       "</table>\n",
       "\n",
       "</div>\n",
       "\n",
       "<div class=\"c3table\">\n",
       "\n",
       "<style>\n",
       ".c3table table {margin: 10px 0;}\n",
       ".c3table tr:last-child {border-bottom: 1px solid #000;} \n",
       ".c3table tr > th {text-align: left; padding: 0 5px;}\n",
       ".c3table tr > td {text-align: left; padding: 5px;}\n",
       ".c3table tr:nth-child(even) {background: #f7f7f7 !important;}\n",
       ".c3table .ellipsis {background: rgba(0, 0, 0, .01);}\n",
       ".c3table .index {background: rgba(161, 195, 209, 0.0); margin: 10px; font-weight: 600;}\n",
       ".c3table .head_cell {background: rgba(161, 195, 209, 0.75); font-weight: bold; text-align: center;}\n",
       ".c3table caption {color: rgb(250, 250, 250); background: rgba(30, 140, 200, 1); padding: 3px; white-space: nowrap; caption-side: top;}\n",
       ".c3table .cell_title {font-weight: bold;}\n",
       ".c3col_left { text-align: left !important; display: block;}\n",
       ".c3col_right { text-align: right !important; display: block;}\n",
       ".c3col_center { text-align: center !important; display: block;}\n",
       "</style>\n",
       "\n",
       "<table>\n",
       "\n",
       "<caption>\n",
       "<span class=\"cell_title\">Edge params</span>\n",
       "</caption>\n",
       "<thead class=\"head_cell\">\n",
       "<th>edge</th><th>parent</th><th>length</th><th>omega</th>\n",
       "</thead>\n",
       "<tbody>\n",
       "<tr><td><span class=\"c3col_left\">Galago</span></td><td><span class=\"c3col_left\">root</span></td><td><span class=\"c3col_right\">1.00</span></td><td><span class=\"c3col_right\">1.00</span></td></tr>\n",
       "<tr><td><span class=\"c3col_left\">HowlerMon</span></td><td><span class=\"c3col_left\">root</span></td><td><span class=\"c3col_right\">1.00</span></td><td><span class=\"c3col_right\">1.00</span></td></tr>\n",
       "<tr><td><span class=\"c3col_left\">Rhesus</span></td><td><span class=\"c3col_left\">edge.3</span></td><td><span class=\"c3col_right\">1.00</span></td><td><span class=\"c3col_right\">1.00</span></td></tr>\n",
       "<tr><td><span class=\"c3col_left\">Orangutan</span></td><td><span class=\"c3col_left\">edge.2</span></td><td><span class=\"c3col_right\">1.00</span></td><td><span class=\"c3col_right\">0.50</span></td></tr>\n",
       "<tr><td><span class=\"c3col_left\">Gorilla</span></td><td><span class=\"c3col_left\">edge.1</span></td><td><span class=\"c3col_right\">1.00</span></td><td><span class=\"c3col_right\">0.50</span></td></tr>\n",
       "<tr><td><span class=\"c3col_left\">Human</span></td><td><span class=\"c3col_left\">edge.0</span></td><td><span class=\"c3col_right\">1.00</span></td><td><span class=\"c3col_right\">0.50</span></td></tr>\n",
       "<tr><td><span class=\"c3col_left\">Chimpanzee</span></td><td><span class=\"c3col_left\">edge.0</span></td><td><span class=\"c3col_right\">1.00</span></td><td><span class=\"c3col_right\">0.50</span></td></tr>\n",
       "<tr><td><span class=\"c3col_left\">edge.0</span></td><td><span class=\"c3col_left\">edge.1</span></td><td><span class=\"c3col_right\">1.00</span></td><td><span class=\"c3col_right\">0.50</span></td></tr>\n",
       "<tr><td><span class=\"c3col_left\">edge.1</span></td><td><span class=\"c3col_left\">edge.2</span></td><td><span class=\"c3col_right\">1.00</span></td><td><span class=\"c3col_right\">0.50</span></td></tr>\n",
       "<tr><td><span class=\"c3col_left\">edge.2</span></td><td><span class=\"c3col_left\">edge.3</span></td><td><span class=\"c3col_right\">1.00</span></td><td><span class=\"c3col_right\">1.00</span></td></tr>\n",
       "<tr><td><span class=\"c3col_left\">edge.3</span></td><td><span class=\"c3col_left\">root</span></td><td><span class=\"c3col_right\">1.00</span></td><td><span class=\"c3col_right\">1.00</span></td></tr>\n",
       "</tbody>\n",
       "</table>\n",
       "\n",
       "</div>\n",
       "\n",
       "<div class=\"c3table\">\n",
       "\n",
       "<style>\n",
       ".c3table table {margin: 10px 0;}\n",
       ".c3table tr:last-child {border-bottom: 1px solid #000;} \n",
       ".c3table tr > th {text-align: left; padding: 0 5px;}\n",
       ".c3table tr > td {text-align: left; padding: 5px;}\n",
       ".c3table tr:nth-child(even) {background: #f7f7f7 !important;}\n",
       ".c3table .ellipsis {background: rgba(0, 0, 0, .01);}\n",
       ".c3table .index {background: rgba(161, 195, 209, 0.0); margin: 10px; font-weight: 600;}\n",
       ".c3table .head_cell {background: rgba(161, 195, 209, 0.75); font-weight: bold; text-align: center;}\n",
       ".c3table caption {color: rgb(250, 250, 250); background: rgba(30, 140, 200, 1); padding: 3px; white-space: nowrap; caption-side: top;}\n",
       ".c3table .cell_title {font-weight: bold;}\n",
       ".c3col_left { text-align: left !important; display: block;}\n",
       ".c3col_right { text-align: right !important; display: block;}\n",
       ".c3col_center { text-align: center !important; display: block;}\n",
       "</style>\n",
       "\n",
       "<table>\n",
       "\n",
       "<caption>\n",
       "<span class=\"cell_title\">Motif params</span>\n",
       "</caption>\n",
       "<thead class=\"head_cell\">\n",
       "<th>AAA</th><th>AAC</th><th>AAG</th><th>AAT</th><th>ACA</th><th>ACC</th><th>ACG</th><th>ACT</th><th>AGA</th><th>AGC</th><th>AGG</th><th>AGT</th><th>ATA</th>\n",
       "</thead>\n",
       "<tbody>\n",
       "<tr><td><span class=\"c3col_right\">0.02</span></td><td><span class=\"c3col_right\">0.02</span></td><td><span class=\"c3col_right\">0.02</span></td><td><span class=\"c3col_right\">0.02</span></td><td><span class=\"c3col_right\">0.02</span></td><td><span class=\"c3col_right\">0.02</span></td><td><span class=\"c3col_right\">0.02</span></td><td><span class=\"c3col_right\">0.02</span></td><td><span class=\"c3col_right\">0.02</span></td><td><span class=\"c3col_right\">0.02</span></td><td><span class=\"c3col_right\">0.02</span></td><td><span class=\"c3col_right\">0.02</span></td><td><span class=\"c3col_right\">0.02</span></td></tr>\n",
       "</tbody>\n",
       "</table>\n",
       "\n",
       "<table>\n",
       "\n",
       "<caption>\n",
       "<span class=\"cell_title\">continuation</span>\n",
       "</caption>\n",
       "<thead class=\"head_cell\">\n",
       "<th>ATC</th><th>ATG</th><th>ATT</th><th>CAA</th><th>CAC</th><th>CAG</th><th>CAT</th><th>CCA</th><th>CCC</th><th>CCG</th><th>CCT</th><th>CGA</th><th>CGC</th>\n",
       "</thead>\n",
       "<tbody>\n",
       "<tr><td><span class=\"c3col_right\">0.02</span></td><td><span class=\"c3col_right\">0.02</span></td><td><span class=\"c3col_right\">0.02</span></td><td><span class=\"c3col_right\">0.02</span></td><td><span class=\"c3col_right\">0.02</span></td><td><span class=\"c3col_right\">0.02</span></td><td><span class=\"c3col_right\">0.02</span></td><td><span class=\"c3col_right\">0.02</span></td><td><span class=\"c3col_right\">0.02</span></td><td><span class=\"c3col_right\">0.02</span></td><td><span class=\"c3col_right\">0.02</span></td><td><span class=\"c3col_right\">0.02</span></td><td><span class=\"c3col_right\">0.02</span></td></tr>\n",
       "</tbody>\n",
       "</table>\n",
       "\n",
       "<table>\n",
       "\n",
       "<caption>\n",
       "<span class=\"cell_title\">continuation</span>\n",
       "</caption>\n",
       "<thead class=\"head_cell\">\n",
       "<th>CGG</th><th>CGT</th><th>CTA</th><th>CTC</th><th>CTG</th><th>CTT</th><th>GAA</th><th>GAC</th><th>GAG</th><th>GAT</th><th>GCA</th><th>GCC</th><th>GCG</th>\n",
       "</thead>\n",
       "<tbody>\n",
       "<tr><td><span class=\"c3col_right\">0.02</span></td><td><span class=\"c3col_right\">0.02</span></td><td><span class=\"c3col_right\">0.02</span></td><td><span class=\"c3col_right\">0.02</span></td><td><span class=\"c3col_right\">0.02</span></td><td><span class=\"c3col_right\">0.02</span></td><td><span class=\"c3col_right\">0.02</span></td><td><span class=\"c3col_right\">0.02</span></td><td><span class=\"c3col_right\">0.02</span></td><td><span class=\"c3col_right\">0.02</span></td><td><span class=\"c3col_right\">0.02</span></td><td><span class=\"c3col_right\">0.02</span></td><td><span class=\"c3col_right\">0.02</span></td></tr>\n",
       "</tbody>\n",
       "</table>\n",
       "\n",
       "<table>\n",
       "\n",
       "<caption>\n",
       "<span class=\"cell_title\">continuation</span>\n",
       "</caption>\n",
       "<thead class=\"head_cell\">\n",
       "<th>GCT</th><th>GGA</th><th>GGC</th><th>GGG</th><th>GGT</th><th>GTA</th><th>GTC</th><th>GTG</th><th>GTT</th><th>TAC</th><th>TAT</th><th>TCA</th><th>TCC</th>\n",
       "</thead>\n",
       "<tbody>\n",
       "<tr><td><span class=\"c3col_right\">0.02</span></td><td><span class=\"c3col_right\">0.02</span></td><td><span class=\"c3col_right\">0.02</span></td><td><span class=\"c3col_right\">0.02</span></td><td><span class=\"c3col_right\">0.02</span></td><td><span class=\"c3col_right\">0.02</span></td><td><span class=\"c3col_right\">0.02</span></td><td><span class=\"c3col_right\">0.02</span></td><td><span class=\"c3col_right\">0.02</span></td><td><span class=\"c3col_right\">0.02</span></td><td><span class=\"c3col_right\">0.02</span></td><td><span class=\"c3col_right\">0.02</span></td><td><span class=\"c3col_right\">0.02</span></td></tr>\n",
       "</tbody>\n",
       "</table>\n",
       "\n",
       "<table>\n",
       "\n",
       "<caption>\n",
       "<span class=\"cell_title\">continuation</span>\n",
       "</caption>\n",
       "<thead class=\"head_cell\">\n",
       "<th>TCG</th><th>TCT</th><th>TGC</th><th>TGG</th><th>TGT</th><th>TTA</th><th>TTC</th><th>TTG</th><th>TTT</th>\n",
       "</thead>\n",
       "<tbody>\n",
       "<tr><td><span class=\"c3col_right\">0.02</span></td><td><span class=\"c3col_right\">0.02</span></td><td><span class=\"c3col_right\">0.02</span></td><td><span class=\"c3col_right\">0.02</span></td><td><span class=\"c3col_right\">0.02</span></td><td><span class=\"c3col_right\">0.02</span></td><td><span class=\"c3col_right\">0.02</span></td><td><span class=\"c3col_right\">0.02</span></td><td><span class=\"c3col_right\">0.02</span></td></tr>\n",
       "</tbody>\n",
       "</table>\n",
       "\n",
       "</div>"
      ],
      "text/plain": [
       "CNFGTR\n",
       "number of free parameters = 78\n",
       "====================================\n",
       " A/C     A/G     A/T     C/G     C/T\n",
       "------------------------------------\n",
       "1.00    1.00    1.00    1.00    1.00\n",
       "------------------------------------\n",
       "=======================================\n",
       "edge          parent    length    omega\n",
       "---------------------------------------\n",
       "Galago        root        1.00     1.00\n",
       "HowlerMon     root        1.00     1.00\n",
       "Rhesus        edge.3      1.00     1.00\n",
       "Orangutan     edge.2      1.00     0.50\n",
       "Gorilla       edge.1      1.00     0.50\n",
       "Human         edge.0      1.00     0.50\n",
       "Chimpanzee    edge.0      1.00     0.50\n",
       "edge.0        edge.1      1.00     0.50\n",
       "edge.1        edge.2      1.00     0.50\n",
       "edge.2        edge.3      1.00     1.00\n",
       "edge.3        root        1.00     1.00\n",
       "---------------------------------------\n",
       "============================================================================\n",
       " AAA     AAC     AAG     AAT     ACA     ACC     ACG     ACT     AGA     AGC\n",
       "----------------------------------------------------------------------------\n",
       "0.02    0.02    0.02    0.02    0.02    0.02    0.02    0.02    0.02    0.02\n",
       "----------------------------------------------------------------------------\n",
       "\n",
       "continued: \n",
       "============================================================================\n",
       " AGG     AGT     ATA     ATC     ATG     ATT     CAA     CAC     CAG     CAT\n",
       "----------------------------------------------------------------------------\n",
       "0.02    0.02    0.02    0.02    0.02    0.02    0.02    0.02    0.02    0.02\n",
       "----------------------------------------------------------------------------\n",
       "\n",
       "continued: \n",
       "============================================================================\n",
       " CCA     CCC     CCG     CCT     CGA     CGC     CGG     CGT     CTA     CTC\n",
       "----------------------------------------------------------------------------\n",
       "0.02    0.02    0.02    0.02    0.02    0.02    0.02    0.02    0.02    0.02\n",
       "----------------------------------------------------------------------------\n",
       "\n",
       "continued: \n",
       "============================================================================\n",
       " CTG     CTT     GAA     GAC     GAG     GAT     GCA     GCC     GCG     GCT\n",
       "----------------------------------------------------------------------------\n",
       "0.02    0.02    0.02    0.02    0.02    0.02    0.02    0.02    0.02    0.02\n",
       "----------------------------------------------------------------------------\n",
       "\n",
       "continued: \n",
       "============================================================================\n",
       " GGA     GGC     GGG     GGT     GTA     GTC     GTG     GTT     TAC     TAT\n",
       "----------------------------------------------------------------------------\n",
       "0.02    0.02    0.02    0.02    0.02    0.02    0.02    0.02    0.02    0.02\n",
       "----------------------------------------------------------------------------\n",
       "\n",
       "continued: \n",
       "============================================================================\n",
       " TCA     TCC     TCG     TCT     TGC     TGG     TGT     TTA     TTC     TTG\n",
       "----------------------------------------------------------------------------\n",
       "0.02    0.02    0.02    0.02    0.02    0.02    0.02    0.02    0.02    0.02\n",
       "----------------------------------------------------------------------------\n",
       "\n",
       "continued: \n",
       "====\n",
       " TTT\n",
       "----\n",
       "0.02\n",
       "----"
      ]
     },
     "execution_count": 11,
     "metadata": {},
     "output_type": "execute_result"
    }
   ],
   "source": [
    "lf"
   ]
  },
  {
   "cell_type": "code",
   "execution_count": 12,
   "id": "controlled-cabinet",
   "metadata": {
    "execution": {
     "iopub.execute_input": "2021-09-30T04:31:23.375337Z",
     "iopub.status.busy": "2021-09-30T04:31:23.374649Z",
     "iopub.status.idle": "2021-09-30T04:31:23.964855Z",
     "shell.execute_reply": "2021-09-30T04:31:23.965389Z"
    }
   },
   "outputs": [],
   "source": [
    "from cogent3 import load_tree\n",
    "from cogent3.evolve.models import get_model\n",
    "\n",
    "tree = load_tree(\"data/primate_brca1.tree\")\n",
    "sm = get_model(\"CNFGTR\")\n",
    "lf = sm.make_likelihood_function(tree, digits=2)\n",
    "lf.set_param_rule(\"omega\", is_constant=True)"
   ]
  },
  {
   "cell_type": "code",
   "execution_count": 13,
   "id": "proof-board",
   "metadata": {
    "execution": {
     "iopub.execute_input": "2021-09-30T04:31:23.969576Z",
     "iopub.status.busy": "2021-09-30T04:31:23.968794Z",
     "iopub.status.idle": "2021-09-30T04:31:24.552549Z",
     "shell.execute_reply": "2021-09-30T04:31:24.553007Z"
    }
   },
   "outputs": [],
   "source": [
    "from cogent3 import load_tree\n",
    "from cogent3.evolve.models import get_model\n",
    "\n",
    "tree = load_tree(\"data/primate_brca1.tree\")\n",
    "sm = get_model(\"CNFGTR\")\n",
    "lf = sm.make_likelihood_function(tree, digits=2)\n",
    "lf.set_param_rule(\"omega\", init=0.1)"
   ]
  },
  {
   "cell_type": "code",
   "execution_count": 14,
   "id": "personalized-cambridge",
   "metadata": {
    "execution": {
     "iopub.execute_input": "2021-09-30T04:31:24.557317Z",
     "iopub.status.busy": "2021-09-30T04:31:24.556476Z",
     "iopub.status.idle": "2021-09-30T04:31:25.137486Z",
     "shell.execute_reply": "2021-09-30T04:31:25.138091Z"
    }
   },
   "outputs": [],
   "source": [
    "from cogent3 import load_tree\n",
    "from cogent3.evolve.models import get_model\n",
    "\n",
    "tree = load_tree(\"data/primate_brca1.tree\")\n",
    "sm = get_model(\"CNFGTR\")\n",
    "lf = sm.make_likelihood_function(tree, digits=2)\n",
    "lf.set_param_rule(\"omega\", init=0.1, lower=1e-9, upper=20.0)"
   ]
  },
  {
   "cell_type": "code",
   "execution_count": 15,
   "id": "welcome-cloud",
   "metadata": {
    "execution": {
     "iopub.execute_input": "2021-09-30T04:31:25.141957Z",
     "iopub.status.busy": "2021-09-30T04:31:25.141304Z",
     "iopub.status.idle": "2021-09-30T04:31:25.146927Z",
     "shell.execute_reply": "2021-09-30T04:31:25.147406Z"
    }
   },
   "outputs": [],
   "source": [
    "from cogent3 import load_tree\n",
    "from cogent3.evolve.models import get_model\n",
    "\n",
    "tree = load_tree(\"data/primate_brca1.tree\")\n",
    "sm = get_model(\"F81\")\n",
    "lf = sm.make_likelihood_function(tree)\n",
    "lf.set_param_rule(\"length\", upper=1.0)"
   ]
  },
  {
   "cell_type": "code",
   "execution_count": 16,
   "id": "black-constitution",
   "metadata": {
    "execution": {
     "iopub.execute_input": "2021-09-30T04:31:25.152114Z",
     "iopub.status.busy": "2021-09-30T04:31:25.151460Z",
     "iopub.status.idle": "2021-09-30T04:31:25.163604Z",
     "shell.execute_reply": "2021-09-30T04:31:25.163145Z"
    }
   },
   "outputs": [],
   "source": [
    "from cogent3 import load_tree\n",
    "from cogent3.evolve.models import get_model\n",
    "\n",
    "sm = get_model(\"GTR\", with_rate=True, distribution=\"gamma\")\n",
    "tree = load_tree(\"data/primate_brca1.tree\")\n",
    "lf = sm.make_likelihood_function(tree, bins=4, digits=2)\n",
    "lf.set_param_rule(\"bprobs\", is_constant=True)"
   ]
  },
  {
   "cell_type": "code",
   "execution_count": 17,
   "id": "seven-concentrate",
   "metadata": {
    "execution": {
     "iopub.execute_input": "2021-09-30T04:31:25.167959Z",
     "iopub.status.busy": "2021-09-30T04:31:25.167363Z",
     "iopub.status.idle": "2021-09-30T04:31:25.180044Z",
     "shell.execute_reply": "2021-09-30T04:31:25.180506Z"
    }
   },
   "outputs": [],
   "source": [
    "from cogent3 import load_tree\n",
    "from cogent3.evolve.models import get_model\n",
    "\n",
    "sm = get_model(\"GTR\", with_rate=True, distribution=\"gamma\")\n",
    "tree = load_tree(\"data/primate_brca1.tree\")\n",
    "lf = sm.make_likelihood_function(tree, bins=4, sites_independent=False, digits=2)\n",
    "lf.set_param_rule(\"bprobs\", is_constant=True)"
   ]
  },
  {
   "cell_type": "code",
   "execution_count": 18,
   "id": "white-auditor",
   "metadata": {
    "execution": {
     "iopub.execute_input": "2021-09-30T04:31:25.184634Z",
     "iopub.status.busy": "2021-09-30T04:31:25.184032Z",
     "iopub.status.idle": "2021-09-30T04:31:25.376246Z",
     "shell.execute_reply": "2021-09-30T04:31:25.376940Z"
    }
   },
   "outputs": [],
   "source": [
    "from cogent3 import load_tree, load_aligned_seqs\n",
    "from cogent3.evolve.models import get_model\n",
    "\n",
    "tree = load_tree(\"data/primate_brca1.tree\")\n",
    "aln = load_aligned_seqs(\"data/primate_brca1.fasta\")\n",
    "sm = get_model(\"F81\")\n",
    "lf = sm.make_likelihood_function(tree, digits=3, space=2)\n",
    "lf.set_alignment(aln)\n",
    "lf.optimise(show_progress=False)"
   ]
  },
  {
   "cell_type": "code",
   "execution_count": 19,
   "id": "spatial-carry",
   "metadata": {
    "execution": {
     "iopub.execute_input": "2021-09-30T04:31:25.396393Z",
     "iopub.status.busy": "2021-09-30T04:31:25.383625Z",
     "iopub.status.idle": "2021-09-30T04:31:25.525579Z",
     "shell.execute_reply": "2021-09-30T04:31:25.526131Z"
    }
   },
   "outputs": [],
   "source": [
    "lf.optimise(local=True, max_restarts=5, show_progress=False)"
   ]
  },
  {
   "cell_type": "code",
   "execution_count": 20,
   "id": "lesser-ambassador",
   "metadata": {
    "execution": {
     "iopub.execute_input": "2021-09-30T04:31:25.554077Z",
     "iopub.status.busy": "2021-09-30T04:31:25.534471Z",
     "iopub.status.idle": "2021-09-30T04:31:27.548643Z",
     "shell.execute_reply": "2021-09-30T04:31:27.549086Z"
    }
   },
   "outputs": [],
   "source": [
    "lf.optimise(local=False, global_tolerance=1.0, show_progress=False)"
   ]
  },
  {
   "cell_type": "code",
   "execution_count": 21,
   "id": "imposed-glossary",
   "metadata": {
    "execution": {
     "iopub.execute_input": "2021-09-30T04:31:27.557025Z",
     "iopub.status.busy": "2021-09-30T04:31:27.555051Z",
     "iopub.status.idle": "2021-09-30T04:31:27.665476Z",
     "shell.execute_reply": "2021-09-30T04:31:27.665936Z"
    }
   },
   "outputs": [],
   "source": [
    "lf.optimise(show_progress=False, max_restarts=5, tolerance=1e-8)"
   ]
  },
  {
   "cell_type": "code",
   "execution_count": 22,
   "id": "western-revolution",
   "metadata": {
    "execution": {
     "iopub.execute_input": "2021-09-30T04:31:27.670549Z",
     "iopub.status.busy": "2021-09-30T04:31:27.669986Z",
     "iopub.status.idle": "2021-09-30T04:31:27.743025Z",
     "shell.execute_reply": "2021-09-30T04:31:27.743543Z"
    }
   },
   "outputs": [
    {
     "name": "stdout",
     "output_type": "stream",
     "text": [
      "FORCED EXIT from optimiser after 10 evaluations\n"
     ]
    }
   ],
   "source": [
    "from cogent3 import load_tree, load_aligned_seqs\n",
    "from cogent3.evolve.models import get_model\n",
    "\n",
    "tree = load_tree(\"data/primate_brca1.tree\")\n",
    "aln = load_aligned_seqs(\"data/primate_brca1.fasta\")\n",
    "sm = get_model(\"F81\")\n",
    "lf = sm.make_likelihood_function(tree, digits=3, space=2)\n",
    "lf.set_alignment(aln)\n",
    "try:\n",
    "    lf.optimise(\n",
    "        show_progress=False,\n",
    "        limit_action=\"raise\",\n",
    "        max_evaluations=10,\n",
    "        return_calculator=True,\n",
    "    )\n",
    "except ArithmeticError as err:\n",
    "    print(err)"
   ]
  },
  {
   "cell_type": "code",
   "execution_count": 23,
   "id": "loaded-location",
   "metadata": {
    "execution": {
     "iopub.execute_input": "2021-09-30T04:31:27.748947Z",
     "iopub.status.busy": "2021-09-30T04:31:27.748285Z",
     "iopub.status.idle": "2021-09-30T04:31:28.536652Z",
     "shell.execute_reply": "2021-09-30T04:31:28.537193Z"
    }
   },
   "outputs": [
    {
     "data": {
      "text/html": [
       "<h4>GTR</h4>\n",
       "<p>log-likelihood = -6992.7690</p>\n",
       "<p>number of free parameters = 16</p>\n",
       "\n",
       "<div class=\"c3table\">\n",
       "\n",
       "<style>\n",
       ".c3table table {margin: 10px 0;}\n",
       ".c3table tr:last-child {border-bottom: 1px solid #000;} \n",
       ".c3table tr > th {text-align: left; padding: 0 5px;}\n",
       ".c3table tr > td {text-align: left; padding: 5px;}\n",
       ".c3table tr:nth-child(even) {background: #f7f7f7 !important;}\n",
       ".c3table .ellipsis {background: rgba(0, 0, 0, .01);}\n",
       ".c3table .index {background: rgba(161, 195, 209, 0.0); margin: 10px; font-weight: 600;}\n",
       ".c3table .head_cell {background: rgba(161, 195, 209, 0.75); font-weight: bold; text-align: center;}\n",
       ".c3table caption {color: rgb(250, 250, 250); background: rgba(30, 140, 200, 1); padding: 3px; white-space: nowrap; caption-side: top;}\n",
       ".c3table .cell_title {font-weight: bold;}\n",
       ".c3col_left { text-align: left !important; display: block;}\n",
       ".c3col_right { text-align: right !important; display: block;}\n",
       ".c3col_center { text-align: center !important; display: block;}\n",
       "</style>\n",
       "\n",
       "<table>\n",
       "\n",
       "<caption>\n",
       "<span class=\"cell_title\">Global params</span>\n",
       "</caption>\n",
       "<thead class=\"head_cell\">\n",
       "<th>A/C</th><th>A/G</th><th>A/T</th><th>C/G</th><th>C/T</th>\n",
       "</thead>\n",
       "<tbody>\n",
       "<tr><td><span class=\"c3col_right\">1.2316</span></td><td><span class=\"c3col_right\">5.2534</span></td><td><span class=\"c3col_right\">0.9585</span></td><td><span class=\"c3col_right\">2.3159</span></td><td><span class=\"c3col_right\">5.9700</span></td></tr>\n",
       "</tbody>\n",
       "</table>\n",
       "\n",
       "</div>\n",
       "\n",
       "<div class=\"c3table\">\n",
       "\n",
       "<style>\n",
       ".c3table table {margin: 10px 0;}\n",
       ".c3table tr:last-child {border-bottom: 1px solid #000;} \n",
       ".c3table tr > th {text-align: left; padding: 0 5px;}\n",
       ".c3table tr > td {text-align: left; padding: 5px;}\n",
       ".c3table tr:nth-child(even) {background: #f7f7f7 !important;}\n",
       ".c3table .ellipsis {background: rgba(0, 0, 0, .01);}\n",
       ".c3table .index {background: rgba(161, 195, 209, 0.0); margin: 10px; font-weight: 600;}\n",
       ".c3table .head_cell {background: rgba(161, 195, 209, 0.75); font-weight: bold; text-align: center;}\n",
       ".c3table caption {color: rgb(250, 250, 250); background: rgba(30, 140, 200, 1); padding: 3px; white-space: nowrap; caption-side: top;}\n",
       ".c3table .cell_title {font-weight: bold;}\n",
       ".c3col_left { text-align: left !important; display: block;}\n",
       ".c3col_right { text-align: right !important; display: block;}\n",
       ".c3col_center { text-align: center !important; display: block;}\n",
       "</style>\n",
       "\n",
       "<table>\n",
       "\n",
       "<caption>\n",
       "<span class=\"cell_title\">Edge params</span>\n",
       "</caption>\n",
       "<thead class=\"head_cell\">\n",
       "<th>edge</th><th>parent</th><th>length</th>\n",
       "</thead>\n",
       "<tbody>\n",
       "<tr><td><span class=\"c3col_left\">Galago</span></td><td><span class=\"c3col_left\">root</span></td><td><span class=\"c3col_right\">0.1731</span></td></tr>\n",
       "<tr><td><span class=\"c3col_left\">HowlerMon</span></td><td><span class=\"c3col_left\">root</span></td><td><span class=\"c3col_right\">0.0449</span></td></tr>\n",
       "<tr><td><span class=\"c3col_left\">Rhesus</span></td><td><span class=\"c3col_left\">edge.3</span></td><td><span class=\"c3col_right\">0.0216</span></td></tr>\n",
       "<tr><td><span class=\"c3col_left\">Orangutan</span></td><td><span class=\"c3col_left\">edge.2</span></td><td><span class=\"c3col_right\">0.0077</span></td></tr>\n",
       "<tr><td><span class=\"c3col_left\">Gorilla</span></td><td><span class=\"c3col_left\">edge.1</span></td><td><span class=\"c3col_right\">0.0025</span></td></tr>\n",
       "<tr><td><span class=\"c3col_left\">Human</span></td><td><span class=\"c3col_left\">edge.0</span></td><td><span class=\"c3col_right\">0.0061</span></td></tr>\n",
       "<tr><td><span class=\"c3col_left\">Chimpanzee</span></td><td><span class=\"c3col_left\">edge.0</span></td><td><span class=\"c3col_right\">0.0028</span></td></tr>\n",
       "<tr><td><span class=\"c3col_left\">edge.0</span></td><td><span class=\"c3col_left\">edge.1</span></td><td><span class=\"c3col_right\">0.0000</span></td></tr>\n",
       "<tr><td><span class=\"c3col_left\">edge.1</span></td><td><span class=\"c3col_left\">edge.2</span></td><td><span class=\"c3col_right\">0.0034</span></td></tr>\n",
       "<tr><td><span class=\"c3col_left\">edge.2</span></td><td><span class=\"c3col_left\">edge.3</span></td><td><span class=\"c3col_right\">0.0120</span></td></tr>\n",
       "<tr><td><span class=\"c3col_left\">edge.3</span></td><td><span class=\"c3col_left\">root</span></td><td><span class=\"c3col_right\">0.0076</span></td></tr>\n",
       "</tbody>\n",
       "</table>\n",
       "\n",
       "</div>\n",
       "\n",
       "<div class=\"c3table\">\n",
       "\n",
       "<style>\n",
       ".c3table table {margin: 10px 0;}\n",
       ".c3table tr:last-child {border-bottom: 1px solid #000;} \n",
       ".c3table tr > th {text-align: left; padding: 0 5px;}\n",
       ".c3table tr > td {text-align: left; padding: 5px;}\n",
       ".c3table tr:nth-child(even) {background: #f7f7f7 !important;}\n",
       ".c3table .ellipsis {background: rgba(0, 0, 0, .01);}\n",
       ".c3table .index {background: rgba(161, 195, 209, 0.0); margin: 10px; font-weight: 600;}\n",
       ".c3table .head_cell {background: rgba(161, 195, 209, 0.75); font-weight: bold; text-align: center;}\n",
       ".c3table caption {color: rgb(250, 250, 250); background: rgba(30, 140, 200, 1); padding: 3px; white-space: nowrap; caption-side: top;}\n",
       ".c3table .cell_title {font-weight: bold;}\n",
       ".c3col_left { text-align: left !important; display: block;}\n",
       ".c3col_right { text-align: right !important; display: block;}\n",
       ".c3col_center { text-align: center !important; display: block;}\n",
       "</style>\n",
       "\n",
       "<table>\n",
       "\n",
       "<caption>\n",
       "<span class=\"cell_title\">Motif params</span>\n",
       "</caption>\n",
       "<thead class=\"head_cell\">\n",
       "<th>A</th><th>C</th><th>G</th><th>T</th>\n",
       "</thead>\n",
       "<tbody>\n",
       "<tr><td><span class=\"c3col_right\">0.3757</span></td><td><span class=\"c3col_right\">0.1742</span></td><td><span class=\"c3col_right\">0.2095</span></td><td><span class=\"c3col_right\">0.2406</span></td></tr>\n",
       "</tbody>\n",
       "</table>\n",
       "\n",
       "</div>"
      ],
      "text/plain": [
       "GTR\n",
       "log-likelihood = -6992.7690\n",
       "number of free parameters = 16\n",
       "==============================================\n",
       "   A/C       A/G       A/T       C/G       C/T\n",
       "----------------------------------------------\n",
       "1.2316    5.2534    0.9585    2.3159    5.9700\n",
       "----------------------------------------------\n",
       "==============================\n",
       "edge          parent    length\n",
       "------------------------------\n",
       "Galago        root      0.1731\n",
       "HowlerMon     root      0.0449\n",
       "Rhesus        edge.3    0.0216\n",
       "Orangutan     edge.2    0.0077\n",
       "Gorilla       edge.1    0.0025\n",
       "Human         edge.0    0.0061\n",
       "Chimpanzee    edge.0    0.0028\n",
       "edge.0        edge.1    0.0000\n",
       "edge.1        edge.2    0.0034\n",
       "edge.2        edge.3    0.0120\n",
       "edge.3        root      0.0076\n",
       "------------------------------\n",
       "====================================\n",
       "     A         C         G         T\n",
       "------------------------------------\n",
       "0.3757    0.1742    0.2095    0.2406\n",
       "------------------------------------"
      ]
     },
     "execution_count": 23,
     "metadata": {},
     "output_type": "execute_result"
    }
   ],
   "source": [
    "from cogent3 import load_tree, load_aligned_seqs\n",
    "from cogent3.evolve.models import get_model\n",
    "\n",
    "sm = get_model(\"GTR\")\n",
    "tree = load_tree(\"data/primate_brca1.tree\")\n",
    "lf = sm.make_likelihood_function(tree)\n",
    "aln = load_aligned_seqs(\"data/primate_brca1.fasta\")\n",
    "lf.set_alignment(aln)\n",
    "lf.optimise(local=True, show_progress=False)\n",
    "lf"
   ]
  },
  {
   "cell_type": "code",
   "execution_count": 24,
   "id": "intermediate-treasurer",
   "metadata": {
    "execution": {
     "iopub.execute_input": "2021-09-30T04:31:28.541017Z",
     "iopub.status.busy": "2021-09-30T04:31:28.540364Z",
     "iopub.status.idle": "2021-09-30T04:31:28.542878Z",
     "shell.execute_reply": "2021-09-30T04:31:28.543270Z"
    }
   },
   "outputs": [
    {
     "data": {
      "text/plain": [
       "-6992.768994254359"
      ]
     },
     "execution_count": 24,
     "metadata": {},
     "output_type": "execute_result"
    }
   ],
   "source": [
    "lnL = lf.lnL\n",
    "lnL"
   ]
  },
  {
   "cell_type": "code",
   "execution_count": 25,
   "id": "trying-tampa",
   "metadata": {
    "execution": {
     "iopub.execute_input": "2021-09-30T04:31:28.546469Z",
     "iopub.status.busy": "2021-09-30T04:31:28.545773Z",
     "iopub.status.idle": "2021-09-30T04:31:28.548346Z",
     "shell.execute_reply": "2021-09-30T04:31:28.548942Z"
    }
   },
   "outputs": [
    {
     "data": {
      "text/plain": [
       "16"
      ]
     },
     "execution_count": 25,
     "metadata": {},
     "output_type": "execute_result"
    }
   ],
   "source": [
    "nfp = lf.nfp\n",
    "nfp"
   ]
  },
  {
   "cell_type": "code",
   "execution_count": 26,
   "id": "dress-czech",
   "metadata": {
    "execution": {
     "iopub.execute_input": "2021-09-30T04:31:28.552117Z",
     "iopub.status.busy": "2021-09-30T04:31:28.551539Z",
     "iopub.status.idle": "2021-09-30T04:31:28.554056Z",
     "shell.execute_reply": "2021-09-30T04:31:28.554466Z"
    }
   },
   "outputs": [
    {
     "data": {
      "text/plain": [
       "14017.537988508719"
      ]
     },
     "execution_count": 26,
     "metadata": {},
     "output_type": "execute_result"
    }
   ],
   "source": [
    "lf.get_aic()"
   ]
  },
  {
   "cell_type": "code",
   "execution_count": 27,
   "id": "affiliated-implementation",
   "metadata": {
    "execution": {
     "iopub.execute_input": "2021-09-30T04:31:28.557957Z",
     "iopub.status.busy": "2021-09-30T04:31:28.557349Z",
     "iopub.status.idle": "2021-09-30T04:31:28.560071Z",
     "shell.execute_reply": "2021-09-30T04:31:28.560555Z"
    }
   },
   "outputs": [
    {
     "data": {
      "text/plain": [
       "14017.732482609541"
      ]
     },
     "execution_count": 27,
     "metadata": {},
     "output_type": "execute_result"
    }
   ],
   "source": [
    "lf.get_aic(second_order=True)"
   ]
  },
  {
   "cell_type": "code",
   "execution_count": 28,
   "id": "moving-better",
   "metadata": {
    "execution": {
     "iopub.execute_input": "2021-09-30T04:31:28.563842Z",
     "iopub.status.busy": "2021-09-30T04:31:28.563115Z",
     "iopub.status.idle": "2021-09-30T04:31:28.566046Z",
     "shell.execute_reply": "2021-09-30T04:31:28.565535Z"
    }
   },
   "outputs": [
    {
     "data": {
      "text/plain": [
       "14112.615784311509"
      ]
     },
     "execution_count": 28,
     "metadata": {},
     "output_type": "execute_result"
    }
   ],
   "source": [
    "lf.get_bic()"
   ]
  },
  {
   "cell_type": "code",
   "execution_count": 29,
   "id": "starting-desert",
   "metadata": {
    "execution": {
     "iopub.execute_input": "2021-09-30T04:31:28.569376Z",
     "iopub.status.busy": "2021-09-30T04:31:28.568732Z",
     "iopub.status.idle": "2021-09-30T04:31:28.571228Z",
     "shell.execute_reply": "2021-09-30T04:31:28.571632Z"
    }
   },
   "outputs": [
    {
     "data": {
      "text/plain": [
       "5.253427222418745"
      ]
     },
     "execution_count": 29,
     "metadata": {},
     "output_type": "execute_result"
    }
   ],
   "source": [
    "a_g = lf.get_param_value(\"A/G\")\n",
    "a_g"
   ]
  },
  {
   "cell_type": "code",
   "execution_count": 30,
   "id": "earlier-people",
   "metadata": {
    "execution": {
     "iopub.execute_input": "2021-09-30T04:31:28.575014Z",
     "iopub.status.busy": "2021-09-30T04:31:28.574387Z",
     "iopub.status.idle": "2021-09-30T04:31:28.576875Z",
     "shell.execute_reply": "2021-09-30T04:31:28.577284Z"
    }
   },
   "outputs": [
    {
     "data": {
      "text/plain": [
       "0.006060124812429323"
      ]
     },
     "execution_count": 30,
     "metadata": {},
     "output_type": "execute_result"
    }
   ],
   "source": [
    "human = lf.get_param_value(\"length\", \"Human\")\n",
    "human"
   ]
  },
  {
   "cell_type": "code",
   "execution_count": 31,
   "id": "celtic-remainder",
   "metadata": {
    "execution": {
     "iopub.execute_input": "2021-09-30T04:31:28.581437Z",
     "iopub.status.busy": "2021-09-30T04:31:28.580762Z",
     "iopub.status.idle": "2021-09-30T04:31:28.583283Z",
     "shell.execute_reply": "2021-09-30T04:31:28.583717Z"
    }
   },
   "outputs": [
    {
     "data": {
      "text/html": [
       "\n",
       "<div class=\"c3table\">\n",
       "\n",
       "<style>\n",
       ".c3table table {margin: 10px 0;}\n",
       ".c3table tr:last-child {border-bottom: 1px solid #000;} \n",
       ".c3table tr > th {text-align: left; padding: 0 5px;}\n",
       ".c3table tr > td {text-align: left; padding: 5px;}\n",
       ".c3table tr:nth-child(even) {background: #f7f7f7 !important;}\n",
       ".c3table .ellipsis {background: rgba(0, 0, 0, .01);}\n",
       ".c3table .index {background: rgba(161, 195, 209, 0.0); margin: 10px; font-weight: 600;}\n",
       ".c3table .head_cell {background: rgba(161, 195, 209, 0.75); font-weight: bold; text-align: center;}\n",
       ".c3table caption {color: rgb(250, 250, 250); background: rgba(30, 140, 200, 1); padding: 3px; white-space: nowrap; caption-side: top;}\n",
       ".c3table .cell_title {font-weight: bold;}\n",
       ".c3col_left { text-align: left !important; display: block;}\n",
       ".c3col_right { text-align: right !important; display: block;}\n",
       ".c3col_center { text-align: center !important; display: block;}\n",
       "</style>\n",
       "\n",
       "<table>\n",
       "\n",
       "<thead class=\"head_cell\">\n",
       "<th>T</th><th>C</th><th>A</th><th>G</th>\n",
       "</thead>\n",
       "<tbody>\n",
       "<tr><td><span class=\"c3col_right\">0.2406</span></td><td><span class=\"c3col_right\">0.1742</span></td><td><span class=\"c3col_right\">0.3757</span></td><td><span class=\"c3col_right\">0.2095</span></td></tr>\n",
       "</tbody>\n",
       "</table>\n",
       "\n",
       "</div>"
      ],
      "text/plain": [
       "====================================\n",
       "     T         C         A         G\n",
       "------------------------------------\n",
       "0.2406    0.1742    0.3757    0.2095\n",
       "------------------------------------"
      ]
     },
     "execution_count": 31,
     "metadata": {},
     "output_type": "execute_result"
    }
   ],
   "source": [
    "mprobs = lf.get_motif_probs()\n",
    "mprobs"
   ]
  },
  {
   "cell_type": "code",
   "execution_count": 32,
   "id": "informative-folder",
   "metadata": {
    "execution": {
     "iopub.execute_input": "2021-09-30T04:31:28.588427Z",
     "iopub.status.busy": "2021-09-30T04:31:28.587753Z",
     "iopub.status.idle": "2021-09-30T04:31:28.590157Z",
     "shell.execute_reply": "2021-09-30T04:31:28.590570Z"
    }
   },
   "outputs": [
    {
     "data": {
      "text/html": [
       "\n",
       "<div class=\"c3table\">\n",
       "\n",
       "<style>\n",
       ".c3table table {margin: 10px 0;}\n",
       ".c3table tr:last-child {border-bottom: 1px solid #000;} \n",
       ".c3table tr > th {text-align: left; padding: 0 5px;}\n",
       ".c3table tr > td {text-align: left; padding: 5px;}\n",
       ".c3table tr:nth-child(even) {background: #f7f7f7 !important;}\n",
       ".c3table .ellipsis {background: rgba(0, 0, 0, .01);}\n",
       ".c3table .index {background: rgba(161, 195, 209, 0.0); margin: 10px; font-weight: 600;}\n",
       ".c3table .head_cell {background: rgba(161, 195, 209, 0.75); font-weight: bold; text-align: center;}\n",
       ".c3table caption {color: rgb(250, 250, 250); background: rgba(30, 140, 200, 1); padding: 3px; white-space: nowrap; caption-side: top;}\n",
       ".c3table .cell_title {font-weight: bold;}\n",
       ".c3col_left { text-align: left !important; display: block;}\n",
       ".c3col_right { text-align: right !important; display: block;}\n",
       ".c3col_center { text-align: center !important; display: block;}\n",
       "</style>\n",
       "\n",
       "<table>\n",
       "\n",
       "<caption>\n",
       "<span class=\"cell_title\">global params</span>\n",
       "</caption>\n",
       "<thead class=\"head_cell\">\n",
       "<th>A/C</th><th>A/G</th><th>A/T</th><th>C/G</th><th>C/T</th>\n",
       "</thead>\n",
       "<tbody>\n",
       "<tr><td><span class=\"c3col_right\">1.2316</span></td><td><span class=\"c3col_right\">5.2534</span></td><td><span class=\"c3col_right\">0.9585</span></td><td><span class=\"c3col_right\">2.3159</span></td><td><span class=\"c3col_right\">5.9700</span></td></tr>\n",
       "</tbody>\n",
       "</table>\n",
       "<p>\n",
       "1 rows x 5 columns</p>\n",
       "</div>"
      ],
      "text/plain": [
       "global params\n",
       "==============================================\n",
       "   A/C       A/G       A/T       C/G       C/T\n",
       "----------------------------------------------\n",
       "1.2316    5.2534    0.9585    2.3159    5.9700\n",
       "----------------------------------------------\n",
       "\n",
       "1 rows x 5 columns"
      ]
     },
     "execution_count": 32,
     "metadata": {},
     "output_type": "execute_result"
    }
   ],
   "source": [
    "tables = lf.get_statistics(with_motif_probs=True, with_titles=True)\n",
    "tables[0]  # just displaying the first"
   ]
  },
  {
   "cell_type": "code",
   "execution_count": 33,
   "id": "metallic-population",
   "metadata": {
    "execution": {
     "iopub.execute_input": "2021-09-30T04:31:28.594797Z",
     "iopub.status.busy": "2021-09-30T04:31:28.594215Z",
     "iopub.status.idle": "2021-09-30T04:31:28.777552Z",
     "shell.execute_reply": "2021-09-30T04:31:28.778347Z"
    }
   },
   "outputs": [
    {
     "data": {
      "text/html": [
       "<h4>Null Hypothesis</h4>\n",
       "<p>log-likelihood = -7177.4403</p>\n",
       "<p>number of free parameters = 10</p>\n",
       "\n",
       "<div class=\"c3table\">\n",
       "\n",
       "<style>\n",
       ".c3table table {margin: 10px 0;}\n",
       ".c3table tr:last-child {border-bottom: 1px solid #000;} \n",
       ".c3table tr > th {text-align: left; padding: 0 5px;}\n",
       ".c3table tr > td {text-align: left; padding: 5px;}\n",
       ".c3table tr:nth-child(even) {background: #f7f7f7 !important;}\n",
       ".c3table .ellipsis {background: rgba(0, 0, 0, .01);}\n",
       ".c3table .index {background: rgba(161, 195, 209, 0.0); margin: 10px; font-weight: 600;}\n",
       ".c3table .head_cell {background: rgba(161, 195, 209, 0.75); font-weight: bold; text-align: center;}\n",
       ".c3table caption {color: rgb(250, 250, 250); background: rgba(30, 140, 200, 1); padding: 3px; white-space: nowrap; caption-side: top;}\n",
       ".c3table .cell_title {font-weight: bold;}\n",
       ".c3col_left { text-align: left !important; display: block;}\n",
       ".c3col_right { text-align: right !important; display: block;}\n",
       ".c3col_center { text-align: center !important; display: block;}\n",
       "</style>\n",
       "\n",
       "<table>\n",
       "\n",
       "<caption>\n",
       "<span class=\"cell_title\">Edge params</span>\n",
       "</caption>\n",
       "<thead class=\"head_cell\">\n",
       "<th>edge</th><th>parent</th><th>length</th>\n",
       "</thead>\n",
       "<tbody>\n",
       "<tr><td><span class=\"c3col_left\">Galago</span></td><td><span class=\"c3col_left\">root</span></td><td><span class=\"c3col_right\">0.167</span></td></tr>\n",
       "<tr><td><span class=\"c3col_left\">HowlerMon</span></td><td><span class=\"c3col_left\">root</span></td><td><span class=\"c3col_right\">0.044</span></td></tr>\n",
       "<tr><td><span class=\"c3col_left\">Rhesus</span></td><td><span class=\"c3col_left\">edge.3</span></td><td><span class=\"c3col_right\">0.021</span></td></tr>\n",
       "<tr><td><span class=\"c3col_left\">Orangutan</span></td><td><span class=\"c3col_left\">edge.2</span></td><td><span class=\"c3col_right\">0.008</span></td></tr>\n",
       "<tr><td><span class=\"c3col_left\">Gorilla</span></td><td><span class=\"c3col_left\">edge.1</span></td><td><span class=\"c3col_right\">0.002</span></td></tr>\n",
       "<tr><td><span class=\"c3col_left\">Human</span></td><td><span class=\"c3col_left\">edge.0</span></td><td><span class=\"c3col_right\">0.004</span></td></tr>\n",
       "<tr><td><span class=\"c3col_left\">Chimpanzee</span></td><td><span class=\"c3col_left\">edge.0</span></td><td><span class=\"c3col_right\">0.004</span></td></tr>\n",
       "<tr><td><span class=\"c3col_left\">edge.0</span></td><td><span class=\"c3col_left\">edge.1</span></td><td><span class=\"c3col_right\">0.000</span></td></tr>\n",
       "<tr><td><span class=\"c3col_left\">edge.1</span></td><td><span class=\"c3col_left\">edge.2</span></td><td><span class=\"c3col_right\">0.003</span></td></tr>\n",
       "<tr><td><span class=\"c3col_left\">edge.2</span></td><td><span class=\"c3col_left\">edge.3</span></td><td><span class=\"c3col_right\">0.012</span></td></tr>\n",
       "<tr><td><span class=\"c3col_left\">edge.3</span></td><td><span class=\"c3col_left\">root</span></td><td><span class=\"c3col_right\">0.009</span></td></tr>\n",
       "</tbody>\n",
       "</table>\n",
       "\n",
       "</div>\n",
       "\n",
       "<div class=\"c3table\">\n",
       "\n",
       "<style>\n",
       ".c3table table {margin: 10px 0;}\n",
       ".c3table tr:last-child {border-bottom: 1px solid #000;} \n",
       ".c3table tr > th {text-align: left; padding: 0 5px;}\n",
       ".c3table tr > td {text-align: left; padding: 5px;}\n",
       ".c3table tr:nth-child(even) {background: #f7f7f7 !important;}\n",
       ".c3table .ellipsis {background: rgba(0, 0, 0, .01);}\n",
       ".c3table .index {background: rgba(161, 195, 209, 0.0); margin: 10px; font-weight: 600;}\n",
       ".c3table .head_cell {background: rgba(161, 195, 209, 0.75); font-weight: bold; text-align: center;}\n",
       ".c3table caption {color: rgb(250, 250, 250); background: rgba(30, 140, 200, 1); padding: 3px; white-space: nowrap; caption-side: top;}\n",
       ".c3table .cell_title {font-weight: bold;}\n",
       ".c3col_left { text-align: left !important; display: block;}\n",
       ".c3col_right { text-align: right !important; display: block;}\n",
       ".c3col_center { text-align: center !important; display: block;}\n",
       "</style>\n",
       "\n",
       "<table>\n",
       "\n",
       "<caption>\n",
       "<span class=\"cell_title\">Motif params</span>\n",
       "</caption>\n",
       "<thead class=\"head_cell\">\n",
       "<th>A</th><th>C</th><th>G</th><th>T</th>\n",
       "</thead>\n",
       "<tbody>\n",
       "<tr><td><span class=\"c3col_right\">0.376</span></td><td><span class=\"c3col_right\">0.174</span></td><td><span class=\"c3col_right\">0.209</span></td><td><span class=\"c3col_right\">0.241</span></td></tr>\n",
       "</tbody>\n",
       "</table>\n",
       "\n",
       "</div>"
      ],
      "text/plain": [
       "Null Hypothesis\n",
       "log-likelihood = -7177.4403\n",
       "number of free parameters = 10\n",
       "==========================\n",
       "edge        parent  length\n",
       "--------------------------\n",
       "Galago      root     0.167\n",
       "HowlerMon   root     0.044\n",
       "Rhesus      edge.3   0.021\n",
       "Orangutan   edge.2   0.008\n",
       "Gorilla     edge.1   0.002\n",
       "Human       edge.0   0.004\n",
       "Chimpanzee  edge.0   0.004\n",
       "edge.0      edge.1   0.000\n",
       "edge.1      edge.2   0.003\n",
       "edge.2      edge.3   0.012\n",
       "edge.3      root     0.009\n",
       "--------------------------\n",
       "==========================\n",
       "    A      C      G      T\n",
       "--------------------------\n",
       "0.376  0.174  0.209  0.241\n",
       "--------------------------"
      ]
     },
     "execution_count": 33,
     "metadata": {},
     "output_type": "execute_result"
    }
   ],
   "source": [
    "from cogent3 import load_tree, load_aligned_seqs\n",
    "from cogent3.evolve.models import get_model\n",
    "\n",
    "tree = load_tree(\"data/primate_brca1.tree\")\n",
    "aln = load_aligned_seqs(\"data/primate_brca1.fasta\")\n",
    "sm = get_model(\"F81\")\n",
    "lf = sm.make_likelihood_function(tree, digits=3, space=2)\n",
    "lf.set_alignment(aln)\n",
    "lf.set_param_rule(\n",
    "    \"length\",\n",
    "    tip_names=[\"Human\", \"Chimpanzee\"],\n",
    "    outgroup_name=\"Galago\",\n",
    "    clade=True,\n",
    "    is_independent=False,\n",
    ")\n",
    "lf.set_name(\"Null Hypothesis\")\n",
    "lf.optimise(local=True, show_progress=False)\n",
    "null_lnL = lf.lnL\n",
    "null_nfp = lf.nfp\n",
    "lf"
   ]
  },
  {
   "cell_type": "code",
   "execution_count": 34,
   "id": "upper-zealand",
   "metadata": {
    "execution": {
     "iopub.execute_input": "2021-09-30T04:31:28.796697Z",
     "iopub.status.busy": "2021-09-30T04:31:28.786683Z",
     "iopub.status.idle": "2021-09-30T04:31:28.922783Z",
     "shell.execute_reply": "2021-09-30T04:31:28.923445Z"
    }
   },
   "outputs": [
    {
     "data": {
      "text/html": [
       "<h4>Alt Hypothesis</h4>\n",
       "<p>log-likelihood = -7175.7756</p>\n",
       "<p>number of free parameters = 11</p>\n",
       "\n",
       "<div class=\"c3table\">\n",
       "\n",
       "<style>\n",
       ".c3table table {margin: 10px 0;}\n",
       ".c3table tr:last-child {border-bottom: 1px solid #000;} \n",
       ".c3table tr > th {text-align: left; padding: 0 5px;}\n",
       ".c3table tr > td {text-align: left; padding: 5px;}\n",
       ".c3table tr:nth-child(even) {background: #f7f7f7 !important;}\n",
       ".c3table .ellipsis {background: rgba(0, 0, 0, .01);}\n",
       ".c3table .index {background: rgba(161, 195, 209, 0.0); margin: 10px; font-weight: 600;}\n",
       ".c3table .head_cell {background: rgba(161, 195, 209, 0.75); font-weight: bold; text-align: center;}\n",
       ".c3table caption {color: rgb(250, 250, 250); background: rgba(30, 140, 200, 1); padding: 3px; white-space: nowrap; caption-side: top;}\n",
       ".c3table .cell_title {font-weight: bold;}\n",
       ".c3col_left { text-align: left !important; display: block;}\n",
       ".c3col_right { text-align: right !important; display: block;}\n",
       ".c3col_center { text-align: center !important; display: block;}\n",
       "</style>\n",
       "\n",
       "<table>\n",
       "\n",
       "<caption>\n",
       "<span class=\"cell_title\">Edge params</span>\n",
       "</caption>\n",
       "<thead class=\"head_cell\">\n",
       "<th>edge</th><th>parent</th><th>length</th>\n",
       "</thead>\n",
       "<tbody>\n",
       "<tr><td><span class=\"c3col_left\">Galago</span></td><td><span class=\"c3col_left\">root</span></td><td><span class=\"c3col_right\">0.167</span></td></tr>\n",
       "<tr><td><span class=\"c3col_left\">HowlerMon</span></td><td><span class=\"c3col_left\">root</span></td><td><span class=\"c3col_right\">0.044</span></td></tr>\n",
       "<tr><td><span class=\"c3col_left\">Rhesus</span></td><td><span class=\"c3col_left\">edge.3</span></td><td><span class=\"c3col_right\">0.021</span></td></tr>\n",
       "<tr><td><span class=\"c3col_left\">Orangutan</span></td><td><span class=\"c3col_left\">edge.2</span></td><td><span class=\"c3col_right\">0.008</span></td></tr>\n",
       "<tr><td><span class=\"c3col_left\">Gorilla</span></td><td><span class=\"c3col_left\">edge.1</span></td><td><span class=\"c3col_right\">0.002</span></td></tr>\n",
       "<tr><td><span class=\"c3col_left\">Human</span></td><td><span class=\"c3col_left\">edge.0</span></td><td><span class=\"c3col_right\">0.006</span></td></tr>\n",
       "<tr><td><span class=\"c3col_left\">Chimpanzee</span></td><td><span class=\"c3col_left\">edge.0</span></td><td><span class=\"c3col_right\">0.003</span></td></tr>\n",
       "<tr><td><span class=\"c3col_left\">edge.0</span></td><td><span class=\"c3col_left\">edge.1</span></td><td><span class=\"c3col_right\">0.000</span></td></tr>\n",
       "<tr><td><span class=\"c3col_left\">edge.1</span></td><td><span class=\"c3col_left\">edge.2</span></td><td><span class=\"c3col_right\">0.003</span></td></tr>\n",
       "<tr><td><span class=\"c3col_left\">edge.2</span></td><td><span class=\"c3col_left\">edge.3</span></td><td><span class=\"c3col_right\">0.012</span></td></tr>\n",
       "<tr><td><span class=\"c3col_left\">edge.3</span></td><td><span class=\"c3col_left\">root</span></td><td><span class=\"c3col_right\">0.009</span></td></tr>\n",
       "</tbody>\n",
       "</table>\n",
       "\n",
       "</div>\n",
       "\n",
       "<div class=\"c3table\">\n",
       "\n",
       "<style>\n",
       ".c3table table {margin: 10px 0;}\n",
       ".c3table tr:last-child {border-bottom: 1px solid #000;} \n",
       ".c3table tr > th {text-align: left; padding: 0 5px;}\n",
       ".c3table tr > td {text-align: left; padding: 5px;}\n",
       ".c3table tr:nth-child(even) {background: #f7f7f7 !important;}\n",
       ".c3table .ellipsis {background: rgba(0, 0, 0, .01);}\n",
       ".c3table .index {background: rgba(161, 195, 209, 0.0); margin: 10px; font-weight: 600;}\n",
       ".c3table .head_cell {background: rgba(161, 195, 209, 0.75); font-weight: bold; text-align: center;}\n",
       ".c3table caption {color: rgb(250, 250, 250); background: rgba(30, 140, 200, 1); padding: 3px; white-space: nowrap; caption-side: top;}\n",
       ".c3table .cell_title {font-weight: bold;}\n",
       ".c3col_left { text-align: left !important; display: block;}\n",
       ".c3col_right { text-align: right !important; display: block;}\n",
       ".c3col_center { text-align: center !important; display: block;}\n",
       "</style>\n",
       "\n",
       "<table>\n",
       "\n",
       "<caption>\n",
       "<span class=\"cell_title\">Motif params</span>\n",
       "</caption>\n",
       "<thead class=\"head_cell\">\n",
       "<th>A</th><th>C</th><th>G</th><th>T</th>\n",
       "</thead>\n",
       "<tbody>\n",
       "<tr><td><span class=\"c3col_right\">0.376</span></td><td><span class=\"c3col_right\">0.174</span></td><td><span class=\"c3col_right\">0.209</span></td><td><span class=\"c3col_right\">0.241</span></td></tr>\n",
       "</tbody>\n",
       "</table>\n",
       "\n",
       "</div>"
      ],
      "text/plain": [
       "Alt Hypothesis\n",
       "log-likelihood = -7175.7756\n",
       "number of free parameters = 11\n",
       "==========================\n",
       "edge        parent  length\n",
       "--------------------------\n",
       "Galago      root     0.167\n",
       "HowlerMon   root     0.044\n",
       "Rhesus      edge.3   0.021\n",
       "Orangutan   edge.2   0.008\n",
       "Gorilla     edge.1   0.002\n",
       "Human       edge.0   0.006\n",
       "Chimpanzee  edge.0   0.003\n",
       "edge.0      edge.1   0.000\n",
       "edge.1      edge.2   0.003\n",
       "edge.2      edge.3   0.012\n",
       "edge.3      root     0.009\n",
       "--------------------------\n",
       "==========================\n",
       "    A      C      G      T\n",
       "--------------------------\n",
       "0.376  0.174  0.209  0.241\n",
       "--------------------------"
      ]
     },
     "execution_count": 34,
     "metadata": {},
     "output_type": "execute_result"
    }
   ],
   "source": [
    "lf.set_param_rule(\"length\", is_independent=True)\n",
    "lf.set_name(\"Alt Hypothesis\")\n",
    "lf.optimise(local=True, show_progress=False)\n",
    "alt_lnL = lf.lnL\n",
    "alt_nfp = lf.nfp\n",
    "lf"
   ]
  },
  {
   "cell_type": "code",
   "execution_count": 35,
   "id": "artificial-elite",
   "metadata": {
    "execution": {
     "iopub.execute_input": "2021-09-30T04:31:28.928143Z",
     "iopub.status.busy": "2021-09-30T04:31:28.927526Z",
     "iopub.status.idle": "2021-09-30T04:31:28.929783Z",
     "shell.execute_reply": "2021-09-30T04:31:28.930252Z"
    }
   },
   "outputs": [
    {
     "name": "stdout",
     "output_type": "stream",
     "text": [
      "LR=3.3294 ; df=1; p=1.0000\n"
     ]
    }
   ],
   "source": [
    "from cogent3.maths.stats import chisqprob\n",
    "\n",
    "LR = 2 * (alt_lnL - null_lnL)  # the likelihood ratio statistic\n",
    "df = alt_nfp - null_nfp  # the test degrees of freedom\n",
    "p = chisqprob(LR, df)\n",
    "print(f\"LR={LR:.4f} ; df={df}; p={df:.4f}\")"
   ]
  },
  {
   "cell_type": "code",
   "execution_count": 36,
   "id": "structured-extra",
   "metadata": {
    "execution": {
     "iopub.execute_input": "2021-09-30T04:31:28.934509Z",
     "iopub.status.busy": "2021-09-30T04:31:28.933906Z",
     "iopub.status.idle": "2021-09-30T04:31:29.577551Z",
     "shell.execute_reply": "2021-09-30T04:31:29.577944Z"
    }
   },
   "outputs": [
    {
     "data": {
      "text/html": [
       "<style>\n",
       ".c3align td { border: none !important; text-align: left !important; }\n",
       ".c3align tr:not(.num_row) td span {margin: 0 2px;}\n",
       ".c3align tr:nth-child(even) {background: #f7f7f7;}\n",
       ".c3align .num_row {background-color:rgba(161, 195, 209, 0.5) !important; border-top: solid 1px black; }\n",
       ".c3align .label { font-size: 12pt ; text-align: right !important; color: black !important; padding: 0 4px; display: table-cell !important; font-weight: normal !important; }\n",
       ".c3align .T_dna{font-family: \"Lucida Console\",monospace !important; font-size: 12pt !important; color: blue; }\n",
       ".c3align .C_dna{font-family: \"Lucida Console\",monospace !important; font-size: 12pt !important; color: black; }\n",
       ".c3align .A_dna{font-family: \"Lucida Console\",monospace !important; font-size: 12pt !important; color: #FF0102; }\n",
       ".c3align .G_dna{font-family: \"Lucida Console\",monospace !important; font-size: 12pt !important; color: green; }\n",
       ".c3align .terminal_ambig_dna{font-family: \"Lucida Console\",monospace !important; font-size: 12pt !important; color: gray; }\n",
       ".c3align .ambig_dna{font-family: \"Lucida Console\",monospace !important; font-size: 12pt !important; color: gray; }\n",
       "</style>\n",
       "<div class=\"c3align\">\n",
       "<table>\n",
       "<tr class=\"num_row\"><td></td><td><b>0</b></td></tr>\n",
       "<tr><td class=\"label\">Chimpanzee</td><td><span class=\"T_dna\">T</span><span class=\"A_dna\">A</span><span class=\"G_dna\">G</span><span class=\"A_dna\">A</span><span class=\"A_dna\">A</span><span class=\"C_dna\">C</span><span class=\"A_dna\">A</span><span class=\"T_dna\">T</span><span class=\"A_dna\">A</span><span class=\"T_dna\">T</span><span class=\"G_dna\">G</span><span class=\"A_dna\">A</span><span class=\"A_dna\">A</span><span class=\"A_dna\">A</span><span class=\"C_dna\">C</span><span class=\"A_dna\">A</span><span class=\"A_dna\">A</span><span class=\"A_dna\">A</span><span class=\"A_dna\">A</span><span class=\"T_dna\">T</span><span class=\"C_dna\">C</span><span class=\"A_dna\">A</span><span class=\"A_dna\">A</span><span class=\"A_dna\">A</span><span class=\"T_dna\">T</span><span class=\"A_dna\">A</span><span class=\"A_dna\">A</span><span class=\"C_dna\">C</span><span class=\"A_dna\">A</span><span class=\"A_dna\">A</span><span class=\"A_dna\">A</span><span class=\"C_dna\">C</span><span class=\"C_dna\">C</span><span class=\"C_dna\">C</span><span class=\"G_dna\">G</span><span class=\"C_dna\">C</span><span class=\"A_dna\">A</span><span class=\"T_dna\">T</span><span class=\"A_dna\">A</span><span class=\"C_dna\">C</span><span class=\"C_dna\">C</span><span class=\"A_dna\">A</span><span class=\"C_dna\">C</span><span class=\"A_dna\">A</span><span class=\"G_dna\">G</span><span class=\"T_dna\">T</span><span class=\"C_dna\">C</span><span class=\"A_dna\">A</span><span class=\"A_dna\">A</span><span class=\"A_dna\">A</span><span class=\"G_dna\">G</span><span class=\"A_dna\">A</span><span class=\"G_dna\">G</span><span class=\"T_dna\">T</span><span class=\"G_dna\">G</span><span class=\"T_dna\">T</span><span class=\"T_dna\">T</span><span class=\"G_dna\">G</span><span class=\"T_dna\">T</span><span class=\"A_dna\">A</span></td></tr>\n",
       "<tr><td class=\"label\">Galago</td><td><span class=\"T_dna\">.</span><span class=\"G_dna\">G</span><span class=\"G_dna\">.</span><span class=\"A_dna\">.</span><span class=\"A_dna\">.</span><span class=\"C_dna\">.</span><span class=\"A_dna\">.</span><span class=\"T_dna\">.</span><span class=\"A_dna\">.</span><span class=\"T_dna\">.</span><span class=\"G_dna\">.</span><span class=\"A_dna\">.</span><span class=\"A_dna\">.</span><span class=\"A_dna\">.</span><span class=\"C_dna\">.</span><span class=\"A_dna\">.</span><span class=\"A_dna\">.</span><span class=\"A_dna\">.</span><span class=\"A_dna\">.</span><span class=\"T_dna\">.</span><span class=\"C_dna\">.</span><span class=\"A_dna\">.</span><span class=\"A_dna\">.</span><span class=\"A_dna\">.</span><span class=\"T_dna\">.</span><span class=\"T_dna\">T</span><span class=\"G_dna\">G</span><span class=\"C_dna\">.</span><span class=\"A_dna\">.</span><span class=\"A_dna\">.</span><span class=\"A_dna\">.</span><span class=\"A_dna\">A</span><span class=\"C_dna\">.</span><span class=\"C_dna\">.</span><span class=\"G_dna\">.</span><span class=\"T_dna\">T</span><span class=\"A_dna\">.</span><span class=\"A_dna\">A</span><span class=\"A_dna\">.</span><span class=\"C_dna\">.</span><span class=\"C_dna\">.</span><span class=\"A_dna\">.</span><span class=\"C_dna\">.</span><span class=\"A_dna\">.</span><span class=\"A_dna\">A</span><span class=\"T_dna\">.</span><span class=\"C_dna\">.</span><span class=\"A_dna\">.</span><span class=\"G_dna\">G</span><span class=\"A_dna\">.</span><span class=\"G_dna\">.</span><span class=\"A_dna\">.</span><span class=\"G_dna\">.</span><span class=\"T_dna\">.</span><span class=\"G_dna\">.</span><span class=\"T_dna\">.</span><span class=\"A_dna\">A</span><span class=\"G_dna\">.</span><span class=\"G_dna\">G</span><span class=\"A_dna\">.</span></td></tr>\n",
       "<tr><td class=\"label\">Gorilla</td><td><span class=\"T_dna\">.</span><span class=\"A_dna\">.</span><span class=\"G_dna\">.</span><span class=\"A_dna\">.</span><span class=\"A_dna\">.</span><span class=\"C_dna\">.</span><span class=\"A_dna\">.</span><span class=\"T_dna\">.</span><span class=\"A_dna\">.</span><span class=\"T_dna\">.</span><span class=\"G_dna\">.</span><span class=\"A_dna\">.</span><span class=\"A_dna\">.</span><span class=\"A_dna\">.</span><span class=\"C_dna\">.</span><span class=\"A_dna\">.</span><span class=\"A_dna\">.</span><span class=\"A_dna\">.</span><span class=\"A_dna\">.</span><span class=\"T_dna\">.</span><span class=\"C_dna\">.</span><span class=\"A_dna\">.</span><span class=\"A_dna\">.</span><span class=\"A_dna\">.</span><span class=\"T_dna\">.</span><span class=\"A_dna\">.</span><span class=\"A_dna\">.</span><span class=\"C_dna\">.</span><span class=\"A_dna\">.</span><span class=\"A_dna\">.</span><span class=\"A_dna\">.</span><span class=\"C_dna\">.</span><span class=\"C_dna\">.</span><span class=\"C_dna\">.</span><span class=\"G_dna\">.</span><span class=\"C_dna\">.</span><span class=\"A_dna\">.</span><span class=\"T_dna\">.</span><span class=\"A_dna\">.</span><span class=\"C_dna\">.</span><span class=\"C_dna\">.</span><span class=\"A_dna\">.</span><span class=\"C_dna\">.</span><span class=\"A_dna\">.</span><span class=\"G_dna\">.</span><span class=\"T_dna\">.</span><span class=\"C_dna\">.</span><span class=\"A_dna\">.</span><span class=\"A_dna\">.</span><span class=\"A_dna\">.</span><span class=\"G_dna\">.</span><span class=\"A_dna\">.</span><span class=\"G_dna\">.</span><span class=\"T_dna\">.</span><span class=\"G_dna\">.</span><span class=\"T_dna\">.</span><span class=\"T_dna\">.</span><span class=\"G_dna\">.</span><span class=\"T_dna\">.</span><span class=\"A_dna\">.</span></td></tr>\n",
       "<tr><td class=\"label\">HowlerMon</td><td><span class=\"T_dna\">.</span><span class=\"A_dna\">.</span><span class=\"G_dna\">.</span><span class=\"C_dna\">C</span><span class=\"A_dna\">.</span><span class=\"C_dna\">.</span><span class=\"A_dna\">.</span><span class=\"T_dna\">.</span><span class=\"A_dna\">.</span><span class=\"T_dna\">.</span><span class=\"G_dna\">.</span><span class=\"A_dna\">.</span><span class=\"A_dna\">.</span><span class=\"A_dna\">.</span><span class=\"C_dna\">.</span><span class=\"C_dna\">C</span><span class=\"A_dna\">.</span><span class=\"A_dna\">.</span><span class=\"A_dna\">.</span><span class=\"T_dna\">.</span><span class=\"C_dna\">.</span><span class=\"A_dna\">.</span><span class=\"A_dna\">.</span><span class=\"A_dna\">.</span><span class=\"T_dna\">.</span><span class=\"A_dna\">.</span><span class=\"A_dna\">.</span><span class=\"C_dna\">.</span><span class=\"A_dna\">.</span><span class=\"A_dna\">.</span><span class=\"A_dna\">.</span><span class=\"C_dna\">.</span><span class=\"C_dna\">.</span><span class=\"C_dna\">.</span><span class=\"G_dna\">.</span><span class=\"C_dna\">.</span><span class=\"C_dna\">C</span><span class=\"T_dna\">.</span><span class=\"A_dna\">.</span><span class=\"C_dna\">.</span><span class=\"C_dna\">.</span><span class=\"A_dna\">.</span><span class=\"C_dna\">.</span><span class=\"A_dna\">.</span><span class=\"G_dna\">.</span><span class=\"T_dna\">.</span><span class=\"C_dna\">.</span><span class=\"A_dna\">.</span><span class=\"G_dna\">G</span><span class=\"A_dna\">.</span><span class=\"G_dna\">.</span><span class=\"A_dna\">.</span><span class=\"G_dna\">.</span><span class=\"T_dna\">.</span><span class=\"G_dna\">.</span><span class=\"T_dna\">.</span><span class=\"A_dna\">A</span><span class=\"G_dna\">.</span><span class=\"T_dna\">.</span><span class=\"A_dna\">.</span></td></tr>\n",
       "<tr><td class=\"label\">Human</td><td><span class=\"T_dna\">.</span><span class=\"A_dna\">.</span><span class=\"G_dna\">.</span><span class=\"A_dna\">.</span><span class=\"A_dna\">.</span><span class=\"C_dna\">.</span><span class=\"A_dna\">.</span><span class=\"T_dna\">.</span><span class=\"A_dna\">.</span><span class=\"T_dna\">.</span><span class=\"G_dna\">.</span><span class=\"A_dna\">.</span><span class=\"A_dna\">.</span><span class=\"A_dna\">.</span><span class=\"C_dna\">.</span><span class=\"A_dna\">.</span><span class=\"A_dna\">.</span><span class=\"A_dna\">.</span><span class=\"A_dna\">.</span><span class=\"T_dna\">.</span><span class=\"C_dna\">.</span><span class=\"A_dna\">.</span><span class=\"A_dna\">.</span><span class=\"A_dna\">.</span><span class=\"T_dna\">.</span><span class=\"A_dna\">.</span><span class=\"A_dna\">.</span><span class=\"C_dna\">.</span><span class=\"A_dna\">.</span><span class=\"A_dna\">.</span><span class=\"A_dna\">.</span><span class=\"C_dna\">.</span><span class=\"C_dna\">.</span><span class=\"C_dna\">.</span><span class=\"G_dna\">.</span><span class=\"C_dna\">.</span><span class=\"A_dna\">.</span><span class=\"T_dna\">.</span><span class=\"A_dna\">.</span><span class=\"C_dna\">.</span><span class=\"C_dna\">.</span><span class=\"A_dna\">.</span><span class=\"C_dna\">.</span><span class=\"A_dna\">.</span><span class=\"G_dna\">.</span><span class=\"T_dna\">.</span><span class=\"C_dna\">.</span><span class=\"A_dna\">.</span><span class=\"A_dna\">.</span><span class=\"A_dna\">.</span><span class=\"G_dna\">.</span><span class=\"A_dna\">.</span><span class=\"G_dna\">.</span><span class=\"T_dna\">.</span><span class=\"G_dna\">.</span><span class=\"T_dna\">.</span><span class=\"T_dna\">.</span><span class=\"G_dna\">.</span><span class=\"T_dna\">.</span><span class=\"A_dna\">.</span></td></tr>\n",
       "<tr><td class=\"label\">Orangutan</td><td><span class=\"T_dna\">.</span><span class=\"A_dna\">.</span><span class=\"G_dna\">.</span><span class=\"A_dna\">.</span><span class=\"A_dna\">.</span><span class=\"C_dna\">.</span><span class=\"A_dna\">.</span><span class=\"T_dna\">.</span><span class=\"A_dna\">.</span><span class=\"T_dna\">.</span><span class=\"G_dna\">.</span><span class=\"A_dna\">.</span><span class=\"A_dna\">.</span><span class=\"A_dna\">.</span><span class=\"C_dna\">.</span><span class=\"A_dna\">.</span><span class=\"A_dna\">.</span><span class=\"A_dna\">.</span><span class=\"A_dna\">.</span><span class=\"T_dna\">.</span><span class=\"C_dna\">.</span><span class=\"A_dna\">.</span><span class=\"A_dna\">.</span><span class=\"A_dna\">.</span><span class=\"T_dna\">.</span><span class=\"A_dna\">.</span><span class=\"A_dna\">.</span><span class=\"C_dna\">.</span><span class=\"A_dna\">.</span><span class=\"A_dna\">.</span><span class=\"A_dna\">.</span><span class=\"C_dna\">.</span><span class=\"C_dna\">.</span><span class=\"C_dna\">.</span><span class=\"G_dna\">.</span><span class=\"C_dna\">.</span><span class=\"A_dna\">.</span><span class=\"T_dna\">.</span><span class=\"A_dna\">.</span><span class=\"C_dna\">.</span><span class=\"C_dna\">.</span><span class=\"A_dna\">.</span><span class=\"C_dna\">.</span><span class=\"A_dna\">.</span><span class=\"G_dna\">.</span><span class=\"T_dna\">.</span><span class=\"C_dna\">.</span><span class=\"A_dna\">.</span><span class=\"A_dna\">.</span><span class=\"A_dna\">.</span><span class=\"G_dna\">.</span><span class=\"A_dna\">.</span><span class=\"G_dna\">.</span><span class=\"T_dna\">.</span><span class=\"G_dna\">.</span><span class=\"T_dna\">.</span><span class=\"T_dna\">.</span><span class=\"G_dna\">.</span><span class=\"T_dna\">.</span><span class=\"A_dna\">.</span></td></tr>\n",
       "<tr><td class=\"label\">Rhesus</td><td><span class=\"T_dna\">.</span><span class=\"A_dna\">.</span><span class=\"G_dna\">.</span><span class=\"A_dna\">.</span><span class=\"A_dna\">.</span><span class=\"C_dna\">.</span><span class=\"A_dna\">.</span><span class=\"T_dna\">.</span><span class=\"A_dna\">.</span><span class=\"T_dna\">.</span><span class=\"G_dna\">.</span><span class=\"A_dna\">.</span><span class=\"A_dna\">.</span><span class=\"A_dna\">.</span><span class=\"C_dna\">.</span><span class=\"A_dna\">.</span><span class=\"A_dna\">.</span><span class=\"A_dna\">.</span><span class=\"A_dna\">.</span><span class=\"T_dna\">.</span><span class=\"C_dna\">.</span><span class=\"A_dna\">.</span><span class=\"A_dna\">.</span><span class=\"A_dna\">.</span><span class=\"T_dna\">.</span><span class=\"A_dna\">.</span><span class=\"A_dna\">.</span><span class=\"C_dna\">.</span><span class=\"A_dna\">.</span><span class=\"A_dna\">.</span><span class=\"A_dna\">.</span><span class=\"C_dna\">.</span><span class=\"C_dna\">.</span><span class=\"C_dna\">.</span><span class=\"G_dna\">.</span><span class=\"C_dna\">.</span><span class=\"A_dna\">.</span><span class=\"T_dna\">.</span><span class=\"A_dna\">.</span><span class=\"C_dna\">.</span><span class=\"C_dna\">.</span><span class=\"A_dna\">.</span><span class=\"C_dna\">.</span><span class=\"A_dna\">.</span><span class=\"G_dna\">.</span><span class=\"T_dna\">.</span><span class=\"C_dna\">.</span><span class=\"A_dna\">.</span><span class=\"G_dna\">G</span><span class=\"A_dna\">.</span><span class=\"G_dna\">.</span><span class=\"A_dna\">.</span><span class=\"G_dna\">.</span><span class=\"T_dna\">.</span><span class=\"G_dna\">.</span><span class=\"T_dna\">.</span><span class=\"T_dna\">.</span><span class=\"G_dna\">.</span><span class=\"T_dna\">.</span><span class=\"A_dna\">.</span></td></tr>\n",
       "</table>\n",
       "<p><i>7 x 60 dna alignment</i></p>\n",
       "</div>"
      ],
      "text/plain": [
       "7 x 60 dna alignment: Chimpanzee[TAGAACATATG...], Galago[TGGAACATATG...], Gorilla[TAGAACATATG...], ..."
      ]
     },
     "execution_count": 36,
     "metadata": {},
     "output_type": "execute_result"
    }
   ],
   "source": [
    "from cogent3 import load_tree, load_aligned_seqs\n",
    "from cogent3.evolve.models import get_model\n",
    "\n",
    "tree = load_tree(\"data/primate_brca1.tree\")\n",
    "aln = load_aligned_seqs(\"data/primate_brca1.fasta\")\n",
    "\n",
    "sm = get_model(\"F81\")\n",
    "lf = sm.make_likelihood_function(tree, digits=3, space=2)\n",
    "lf.set_alignment(aln)\n",
    "lf.set_param_rule(\n",
    "    \"length\",\n",
    "    tip_names=[\"Human\", \"Chimpanzee\"],\n",
    "    outgroup_name=\"Galago\",\n",
    "    clade=True,\n",
    "    is_independent=False,\n",
    ")\n",
    "lf.set_name(\"Null Hypothesis\")\n",
    "lf.optimise(local=True, show_progress=False)\n",
    "sim_aln = lf.simulate_alignment()\n",
    "sim_aln[:60]"
   ]
  },
  {
   "cell_type": "code",
   "execution_count": 37,
   "id": "operational-portable",
   "metadata": {
    "execution": {
     "iopub.execute_input": "2021-09-30T04:31:29.581928Z",
     "iopub.status.busy": "2021-09-30T04:31:29.581455Z",
     "iopub.status.idle": "2021-09-30T04:31:29.904757Z",
     "shell.execute_reply": "2021-09-30T04:31:29.905253Z"
    }
   },
   "outputs": [
    {
     "name": "stdout",
     "output_type": "stream",
     "text": [
      "lo=3.78 ; mle=4.44 ; hi=5.22\n",
      "lo=0.00 ; mle=0.01 ; hi=0.01\n"
     ]
    }
   ],
   "source": [
    "from cogent3 import load_tree, load_aligned_seqs\n",
    "from cogent3.evolve.models import get_model\n",
    "\n",
    "tree = load_tree(\"data/primate_brca1.tree\")\n",
    "aln = load_aligned_seqs(\"data/primate_brca1.fasta\")\n",
    "sm = get_model(\"HKY85\")\n",
    "lf = sm.make_likelihood_function(tree)\n",
    "lf.set_alignment(aln)\n",
    "lf.optimise(local=True, show_progress=False)\n",
    "kappa_lo, kappa_mle, kappa_hi = lf.get_param_interval(\"kappa\")\n",
    "print(f\"lo={kappa_lo:.2f} ; mle={kappa_mle:.2f} ; hi={kappa_hi:.2f}\")\n",
    "human_lo, human_mle, human_hi = lf.get_param_interval(\"length\", \"Human\")\n",
    "print(f\"lo={human_lo:.2f} ; mle={human_mle:.2f} ; hi={human_hi:.2f}\")"
   ]
  },
  {
   "cell_type": "code",
   "execution_count": 38,
   "id": "integrated-audio",
   "metadata": {
    "execution": {
     "iopub.execute_input": "2021-09-30T04:31:29.915681Z",
     "iopub.status.busy": "2021-09-30T04:31:29.914907Z",
     "iopub.status.idle": "2021-09-30T04:31:29.917843Z",
     "shell.execute_reply": "2021-09-30T04:31:29.918242Z"
    }
   },
   "outputs": [
    {
     "data": {
      "text/plain": [
       "'{\"model\": {\"alphabet\": {\"motifset\": [\"T\", \"C\", \"A\", \"G\"], \"g'"
      ]
     },
     "execution_count": 38,
     "metadata": {},
     "output_type": "execute_result"
    }
   ],
   "source": [
    "from cogent3 import load_tree, load_aligned_seqs\n",
    "from cogent3.evolve.models import get_model\n",
    "\n",
    "aln = make_aligned_seqs(data=dict(a=\"ACGG\", b=\"ATAG\", c=\"ATGG\"))\n",
    "tree = make_tree(tip_names=aln.names)\n",
    "sm = get_model(\"F81\")\n",
    "lf = sm.make_likelihood_function(tree)\n",
    "lf.set_alignment(aln)\n",
    "json = lf.to_json()\n",
    "json[:60]  # just truncating the displayed string"
   ]
  },
  {
   "cell_type": "code",
   "execution_count": 39,
   "id": "recovered-hamilton",
   "metadata": {
    "execution": {
     "iopub.execute_input": "2021-09-30T04:31:29.929266Z",
     "iopub.status.busy": "2021-09-30T04:31:29.928590Z",
     "iopub.status.idle": "2021-09-30T04:31:29.931672Z",
     "shell.execute_reply": "2021-09-30T04:31:29.932089Z"
    }
   },
   "outputs": [
    {
     "data": {
      "text/html": [
       "<h4>F81</h4>\n",
       "<p>log-likelihood = -14.2727</p>\n",
       "<p>number of free parameters = 3</p>\n",
       "\n",
       "<div class=\"c3table\">\n",
       "\n",
       "<style>\n",
       ".c3table table {margin: 10px 0;}\n",
       ".c3table tr:last-child {border-bottom: 1px solid #000;} \n",
       ".c3table tr > th {text-align: left; padding: 0 5px;}\n",
       ".c3table tr > td {text-align: left; padding: 5px;}\n",
       ".c3table tr:nth-child(even) {background: #f7f7f7 !important;}\n",
       ".c3table .ellipsis {background: rgba(0, 0, 0, .01);}\n",
       ".c3table .index {background: rgba(161, 195, 209, 0.0); margin: 10px; font-weight: 600;}\n",
       ".c3table .head_cell {background: rgba(161, 195, 209, 0.75); font-weight: bold; text-align: center;}\n",
       ".c3table caption {color: rgb(250, 250, 250); background: rgba(30, 140, 200, 1); padding: 3px; white-space: nowrap; caption-side: top;}\n",
       ".c3table .cell_title {font-weight: bold;}\n",
       ".c3col_left { text-align: left !important; display: block;}\n",
       ".c3col_right { text-align: right !important; display: block;}\n",
       ".c3col_center { text-align: center !important; display: block;}\n",
       "</style>\n",
       "\n",
       "<table>\n",
       "\n",
       "<caption>\n",
       "<span class=\"cell_title\">Edge params</span>\n",
       "</caption>\n",
       "<thead class=\"head_cell\">\n",
       "<th>edge</th><th>parent</th><th>length</th>\n",
       "</thead>\n",
       "<tbody>\n",
       "<tr><td><span class=\"c3col_left\">a</span></td><td><span class=\"c3col_left\">root</span></td><td><span class=\"c3col_right\">1.0000</span></td></tr>\n",
       "<tr><td><span class=\"c3col_left\">b</span></td><td><span class=\"c3col_left\">root</span></td><td><span class=\"c3col_right\">1.0000</span></td></tr>\n",
       "<tr><td><span class=\"c3col_left\">c</span></td><td><span class=\"c3col_left\">root</span></td><td><span class=\"c3col_right\">1.0000</span></td></tr>\n",
       "</tbody>\n",
       "</table>\n",
       "\n",
       "</div>\n",
       "\n",
       "<div class=\"c3table\">\n",
       "\n",
       "<style>\n",
       ".c3table table {margin: 10px 0;}\n",
       ".c3table tr:last-child {border-bottom: 1px solid #000;} \n",
       ".c3table tr > th {text-align: left; padding: 0 5px;}\n",
       ".c3table tr > td {text-align: left; padding: 5px;}\n",
       ".c3table tr:nth-child(even) {background: #f7f7f7 !important;}\n",
       ".c3table .ellipsis {background: rgba(0, 0, 0, .01);}\n",
       ".c3table .index {background: rgba(161, 195, 209, 0.0); margin: 10px; font-weight: 600;}\n",
       ".c3table .head_cell {background: rgba(161, 195, 209, 0.75); font-weight: bold; text-align: center;}\n",
       ".c3table caption {color: rgb(250, 250, 250); background: rgba(30, 140, 200, 1); padding: 3px; white-space: nowrap; caption-side: top;}\n",
       ".c3table .cell_title {font-weight: bold;}\n",
       ".c3col_left { text-align: left !important; display: block;}\n",
       ".c3col_right { text-align: right !important; display: block;}\n",
       ".c3col_center { text-align: center !important; display: block;}\n",
       "</style>\n",
       "\n",
       "<table>\n",
       "\n",
       "<caption>\n",
       "<span class=\"cell_title\">Motif params</span>\n",
       "</caption>\n",
       "<thead class=\"head_cell\">\n",
       "<th>A</th><th>C</th><th>G</th><th>T</th>\n",
       "</thead>\n",
       "<tbody>\n",
       "<tr><td><span class=\"c3col_right\">0.3333</span></td><td><span class=\"c3col_right\">0.0833</span></td><td><span class=\"c3col_right\">0.4167</span></td><td><span class=\"c3col_right\">0.1667</span></td></tr>\n",
       "</tbody>\n",
       "</table>\n",
       "\n",
       "</div>"
      ],
      "text/plain": [
       "F81\n",
       "log-likelihood = -14.2727\n",
       "number of free parameters = 3\n",
       "========================\n",
       "edge    parent    length\n",
       "------------------------\n",
       "a       root      1.0000\n",
       "b       root      1.0000\n",
       "c       root      1.0000\n",
       "------------------------\n",
       "====================================\n",
       "     A         C         G         T\n",
       "------------------------------------\n",
       "0.3333    0.0833    0.4167    0.1667\n",
       "------------------------------------"
      ]
     },
     "execution_count": 39,
     "metadata": {},
     "output_type": "execute_result"
    }
   ],
   "source": [
    "from cogent3.util.deserialise import deserialise_object\n",
    "\n",
    "newlf = deserialise_object(json)\n",
    "newlf"
   ]
  },
  {
   "cell_type": "code",
   "execution_count": 40,
   "id": "elegant-pennsylvania",
   "metadata": {
    "execution": {
     "iopub.execute_input": "2021-09-30T04:31:29.935945Z",
     "iopub.status.busy": "2021-09-30T04:31:29.935346Z",
     "iopub.status.idle": "2021-09-30T04:31:30.125481Z",
     "shell.execute_reply": "2021-09-30T04:31:30.125983Z"
    }
   },
   "outputs": [],
   "source": [
    "from cogent3 import load_tree, load_aligned_seqs\n",
    "from cogent3.evolve.models import get_model\n",
    "\n",
    "tree = load_tree(\"data/primate_brca1.tree\")\n",
    "aln = load_aligned_seqs(\"data/primate_brca1.fasta\")\n",
    "sm = get_model(\"F81\")\n",
    "lf = sm.make_likelihood_function(tree, digits=3, space=2)\n",
    "lf.set_alignment(aln)\n",
    "lf.optimise(show_progress=False)"
   ]
  },
  {
   "cell_type": "code",
   "execution_count": 41,
   "id": "satellite-vatican",
   "metadata": {
    "execution": {
     "iopub.execute_input": "2021-09-30T04:31:30.129981Z",
     "iopub.status.busy": "2021-09-30T04:31:30.129225Z",
     "iopub.status.idle": "2021-09-30T04:31:30.292120Z",
     "shell.execute_reply": "2021-09-30T04:31:30.292462Z"
    }
   },
   "outputs": [
    {
     "data": {
      "text/html": [
       "<style>\n",
       ".c3align td { border: none !important; text-align: left !important; }\n",
       ".c3align tr:not(.num_row) td span {margin: 0 2px;}\n",
       ".c3align tr:nth-child(even) {background: #f7f7f7;}\n",
       ".c3align .num_row {background-color:rgba(161, 195, 209, 0.5) !important; border-top: solid 1px black; }\n",
       ".c3align .label { font-size: 12pt ; text-align: right !important; color: black !important; padding: 0 4px; display: table-cell !important; font-weight: normal !important; }\n",
       ".c3align .T_dna{font-family: \"Lucida Console\",monospace !important; font-size: 12pt !important; color: blue; }\n",
       ".c3align .C_dna{font-family: \"Lucida Console\",monospace !important; font-size: 12pt !important; color: black; }\n",
       ".c3align .A_dna{font-family: \"Lucida Console\",monospace !important; font-size: 12pt !important; color: #FF0102; }\n",
       ".c3align .G_dna{font-family: \"Lucida Console\",monospace !important; font-size: 12pt !important; color: green; }\n",
       ".c3align .terminal_ambig_dna{font-family: \"Lucida Console\",monospace !important; font-size: 12pt !important; color: gray; }\n",
       ".c3align .ambig_dna{font-family: \"Lucida Console\",monospace !important; font-size: 12pt !important; color: gray; }\n",
       "</style>\n",
       "<div class=\"c3align\">\n",
       "<table>\n",
       "<tr class=\"num_row\"><td></td><td><b>0</b></td></tr>\n",
       "<tr><td class=\"label\">edge.0</td><td><span class=\"T_dna\">T</span><span class=\"G_dna\">G</span><span class=\"T_dna\">T</span><span class=\"G_dna\">G</span><span class=\"G_dna\">G</span><span class=\"C_dna\">C</span><span class=\"A_dna\">A</span><span class=\"C_dna\">C</span><span class=\"A_dna\">A</span><span class=\"A_dna\">A</span><span class=\"A_dna\">A</span><span class=\"T_dna\">T</span><span class=\"A_dna\">A</span><span class=\"C_dna\">C</span><span class=\"T_dna\">T</span><span class=\"C_dna\">C</span><span class=\"A_dna\">A</span><span class=\"T_dna\">T</span><span class=\"G_dna\">G</span><span class=\"C_dna\">C</span><span class=\"C_dna\">C</span><span class=\"A_dna\">A</span><span class=\"G_dna\">G</span><span class=\"C_dna\">C</span><span class=\"T_dna\">T</span><span class=\"C_dna\">C</span><span class=\"A_dna\">A</span><span class=\"T_dna\">T</span><span class=\"T_dna\">T</span><span class=\"A_dna\">A</span><span class=\"C_dna\">C</span><span class=\"A_dna\">A</span><span class=\"G_dna\">G</span><span class=\"C_dna\">C</span><span class=\"A_dna\">A</span><span class=\"T_dna\">T</span><span class=\"G_dna\">G</span><span class=\"A_dna\">A</span><span class=\"G_dna\">G</span><span class=\"A_dna\">A</span><span class=\"A_dna\">A</span><span class=\"C_dna\">C</span><span class=\"A_dna\">A</span><span class=\"G_dna\">G</span><span class=\"T_dna\">T</span><span class=\"T_dna\">T</span><span class=\"T_dna\">T</span><span class=\"A_dna\">A</span><span class=\"T_dna\">T</span><span class=\"T_dna\">T</span><span class=\"A_dna\">A</span><span class=\"C_dna\">C</span><span class=\"T_dna\">T</span><span class=\"C_dna\">C</span><span class=\"A_dna\">A</span><span class=\"C_dna\">C</span><span class=\"T_dna\">T</span><span class=\"A_dna\">A</span><span class=\"A_dna\">A</span><span class=\"A_dna\">A</span></td></tr>\n",
       "<tr><td class=\"label\">edge.1</td><td><span class=\"T_dna\">.</span><span class=\"G_dna\">.</span><span class=\"T_dna\">.</span><span class=\"G_dna\">.</span><span class=\"G_dna\">.</span><span class=\"C_dna\">.</span><span class=\"A_dna\">.</span><span class=\"C_dna\">.</span><span class=\"A_dna\">.</span><span class=\"A_dna\">.</span><span class=\"A_dna\">.</span><span class=\"T_dna\">.</span><span class=\"A_dna\">.</span><span class=\"C_dna\">.</span><span class=\"T_dna\">.</span><span class=\"C_dna\">.</span><span class=\"A_dna\">.</span><span class=\"T_dna\">.</span><span class=\"G_dna\">.</span><span class=\"C_dna\">.</span><span class=\"C_dna\">.</span><span class=\"A_dna\">.</span><span class=\"G_dna\">.</span><span class=\"C_dna\">.</span><span class=\"T_dna\">.</span><span class=\"C_dna\">.</span><span class=\"A_dna\">.</span><span class=\"T_dna\">.</span><span class=\"T_dna\">.</span><span class=\"A_dna\">.</span><span class=\"C_dna\">.</span><span class=\"A_dna\">.</span><span class=\"G_dna\">.</span><span class=\"C_dna\">.</span><span class=\"A_dna\">.</span><span class=\"T_dna\">.</span><span class=\"G_dna\">.</span><span class=\"A_dna\">.</span><span class=\"G_dna\">.</span><span class=\"A_dna\">.</span><span class=\"A_dna\">.</span><span class=\"C_dna\">.</span><span class=\"A_dna\">.</span><span class=\"G_dna\">.</span><span class=\"T_dna\">.</span><span class=\"T_dna\">.</span><span class=\"T_dna\">.</span><span class=\"A_dna\">.</span><span class=\"T_dna\">.</span><span class=\"T_dna\">.</span><span class=\"A_dna\">.</span><span class=\"C_dna\">.</span><span class=\"T_dna\">.</span><span class=\"C_dna\">.</span><span class=\"A_dna\">.</span><span class=\"C_dna\">.</span><span class=\"T_dna\">.</span><span class=\"A_dna\">.</span><span class=\"A_dna\">.</span><span class=\"A_dna\">.</span></td></tr>\n",
       "<tr><td class=\"label\">edge.2</td><td><span class=\"T_dna\">.</span><span class=\"G_dna\">.</span><span class=\"T_dna\">.</span><span class=\"G_dna\">.</span><span class=\"G_dna\">.</span><span class=\"C_dna\">.</span><span class=\"A_dna\">.</span><span class=\"C_dna\">.</span><span class=\"A_dna\">.</span><span class=\"A_dna\">.</span><span class=\"A_dna\">.</span><span class=\"T_dna\">.</span><span class=\"A_dna\">.</span><span class=\"C_dna\">.</span><span class=\"T_dna\">.</span><span class=\"C_dna\">.</span><span class=\"A_dna\">.</span><span class=\"T_dna\">.</span><span class=\"G_dna\">.</span><span class=\"C_dna\">.</span><span class=\"C_dna\">.</span><span class=\"A_dna\">.</span><span class=\"G_dna\">.</span><span class=\"C_dna\">.</span><span class=\"T_dna\">.</span><span class=\"C_dna\">.</span><span class=\"A_dna\">.</span><span class=\"T_dna\">.</span><span class=\"T_dna\">.</span><span class=\"A_dna\">.</span><span class=\"C_dna\">.</span><span class=\"A_dna\">.</span><span class=\"G_dna\">.</span><span class=\"C_dna\">.</span><span class=\"A_dna\">.</span><span class=\"T_dna\">.</span><span class=\"G_dna\">.</span><span class=\"A_dna\">.</span><span class=\"G_dna\">.</span><span class=\"A_dna\">.</span><span class=\"A_dna\">.</span><span class=\"C_dna\">.</span><span class=\"A_dna\">.</span><span class=\"G_dna\">.</span><span class=\"T_dna\">.</span><span class=\"T_dna\">.</span><span class=\"T_dna\">.</span><span class=\"A_dna\">.</span><span class=\"T_dna\">.</span><span class=\"T_dna\">.</span><span class=\"A_dna\">.</span><span class=\"C_dna\">.</span><span class=\"T_dna\">.</span><span class=\"C_dna\">.</span><span class=\"A_dna\">.</span><span class=\"C_dna\">.</span><span class=\"T_dna\">.</span><span class=\"A_dna\">.</span><span class=\"A_dna\">.</span><span class=\"A_dna\">.</span></td></tr>\n",
       "<tr><td class=\"label\">edge.3</td><td><span class=\"T_dna\">.</span><span class=\"G_dna\">.</span><span class=\"T_dna\">.</span><span class=\"G_dna\">.</span><span class=\"G_dna\">.</span><span class=\"C_dna\">.</span><span class=\"A_dna\">.</span><span class=\"C_dna\">.</span><span class=\"A_dna\">.</span><span class=\"A_dna\">.</span><span class=\"A_dna\">.</span><span class=\"T_dna\">.</span><span class=\"A_dna\">.</span><span class=\"C_dna\">.</span><span class=\"T_dna\">.</span><span class=\"C_dna\">.</span><span class=\"A_dna\">.</span><span class=\"T_dna\">.</span><span class=\"G_dna\">.</span><span class=\"C_dna\">.</span><span class=\"C_dna\">.</span><span class=\"A_dna\">.</span><span class=\"G_dna\">.</span><span class=\"C_dna\">.</span><span class=\"T_dna\">.</span><span class=\"C_dna\">.</span><span class=\"A_dna\">.</span><span class=\"T_dna\">.</span><span class=\"T_dna\">.</span><span class=\"A_dna\">.</span><span class=\"C_dna\">.</span><span class=\"A_dna\">.</span><span class=\"G_dna\">.</span><span class=\"C_dna\">.</span><span class=\"A_dna\">.</span><span class=\"T_dna\">.</span><span class=\"G_dna\">.</span><span class=\"A_dna\">.</span><span class=\"G_dna\">.</span><span class=\"A_dna\">.</span><span class=\"A_dna\">.</span><span class=\"C_dna\">.</span><span class=\"A_dna\">.</span><span class=\"G_dna\">.</span><span class=\"T_dna\">.</span><span class=\"T_dna\">.</span><span class=\"T_dna\">.</span><span class=\"G_dna\">G</span><span class=\"T_dna\">.</span><span class=\"T_dna\">.</span><span class=\"A_dna\">.</span><span class=\"C_dna\">.</span><span class=\"T_dna\">.</span><span class=\"C_dna\">.</span><span class=\"A_dna\">.</span><span class=\"C_dna\">.</span><span class=\"T_dna\">.</span><span class=\"A_dna\">.</span><span class=\"A_dna\">.</span><span class=\"A_dna\">.</span></td></tr>\n",
       "<tr><td class=\"label\">root</td><td><span class=\"T_dna\">.</span><span class=\"G_dna\">.</span><span class=\"T_dna\">.</span><span class=\"G_dna\">.</span><span class=\"G_dna\">.</span><span class=\"C_dna\">.</span><span class=\"A_dna\">.</span><span class=\"C_dna\">.</span><span class=\"A_dna\">.</span><span class=\"A_dna\">.</span><span class=\"A_dna\">.</span><span class=\"T_dna\">.</span><span class=\"A_dna\">.</span><span class=\"C_dna\">.</span><span class=\"T_dna\">.</span><span class=\"C_dna\">.</span><span class=\"A_dna\">.</span><span class=\"T_dna\">.</span><span class=\"G_dna\">.</span><span class=\"C_dna\">.</span><span class=\"C_dna\">.</span><span class=\"A_dna\">.</span><span class=\"G_dna\">.</span><span class=\"C_dna\">.</span><span class=\"T_dna\">.</span><span class=\"C_dna\">.</span><span class=\"A_dna\">.</span><span class=\"T_dna\">.</span><span class=\"T_dna\">.</span><span class=\"A_dna\">.</span><span class=\"C_dna\">.</span><span class=\"A_dna\">.</span><span class=\"G_dna\">.</span><span class=\"C_dna\">.</span><span class=\"A_dna\">.</span><span class=\"T_dna\">.</span><span class=\"G_dna\">.</span><span class=\"A_dna\">.</span><span class=\"G_dna\">.</span><span class=\"A_dna\">.</span><span class=\"A_dna\">.</span><span class=\"C_dna\">.</span><span class=\"A_dna\">.</span><span class=\"G_dna\">.</span><span class=\"T_dna\">.</span><span class=\"T_dna\">.</span><span class=\"T_dna\">.</span><span class=\"G_dna\">G</span><span class=\"T_dna\">.</span><span class=\"T_dna\">.</span><span class=\"A_dna\">.</span><span class=\"C_dna\">.</span><span class=\"T_dna\">.</span><span class=\"C_dna\">.</span><span class=\"A_dna\">.</span><span class=\"C_dna\">.</span><span class=\"T_dna\">.</span><span class=\"A_dna\">.</span><span class=\"A_dna\">.</span><span class=\"A_dna\">.</span></td></tr>\n",
       "</table>\n",
       "<p><i>5 x 60 dna alignment</i></p>\n",
       "</div>"
      ],
      "text/plain": [
       "5 x 60 dna alignment: edge.0[TGTGGCACAAA...], edge.1[TGTGGCACAAA...], edge.2[TGTGGCACAAA...], ..."
      ]
     },
     "execution_count": 41,
     "metadata": {},
     "output_type": "execute_result"
    }
   ],
   "source": [
    "ancestors = lf.likely_ancestral_seqs()\n",
    "ancestors[:60]"
   ]
  },
  {
   "cell_type": "code",
   "execution_count": 42,
   "id": "static-arabic",
   "metadata": {
    "execution": {
     "iopub.execute_input": "2021-09-30T04:31:30.297351Z",
     "iopub.status.busy": "2021-09-30T04:31:30.296338Z",
     "iopub.status.idle": "2021-09-30T04:31:30.306158Z",
     "shell.execute_reply": "2021-09-30T04:31:30.306494Z"
    }
   },
   "outputs": [
    {
     "data": {
      "text/html": [
       "\n",
       "<div class=\"c3table\">\n",
       "\n",
       "<style>\n",
       ".c3table table {margin: 10px 0;}\n",
       ".c3table tr:last-child {border-bottom: 1px solid #000;} \n",
       ".c3table tr > th {text-align: left; padding: 0 5px;}\n",
       ".c3table tr > td {text-align: left; padding: 5px;}\n",
       ".c3table tr:nth-child(even) {background: #f7f7f7 !important;}\n",
       ".c3table .ellipsis {background: rgba(0, 0, 0, .01);}\n",
       ".c3table .index {background: rgba(161, 195, 209, 0.25); margin: 10px; font-weight: 600;}\n",
       ".c3table .head_cell {background: rgba(161, 195, 209, 0.75); font-weight: bold; text-align: center;}\n",
       ".c3table caption {color: rgb(250, 250, 250); background: rgba(30, 140, 200, 1); padding: 3px; white-space: nowrap; caption-side: top;}\n",
       ".c3table .cell_title {font-weight: bold;}\n",
       ".c3col_left { text-align: left !important; display: block;}\n",
       ".c3col_right { text-align: right !important; display: block;}\n",
       ".c3col_center { text-align: center !important; display: block;}\n",
       "</style>\n",
       "\n",
       "<table>\n",
       "\n",
       "<thead class=\"head_cell\">\n",
       "<th></th><th>T</th><th>C</th><th>A</th><th>G</th>\n",
       "</thead>\n",
       "<tbody>\n",
       "<tr><td class=\"index\"><span class=\"c3col_right\">0</span></td><td><span class=\"c3col_right\">0.1816</span></td><td><span class=\"c3col_right\">0.0000</span></td><td><span class=\"c3col_right\">0.0000</span></td><td><span class=\"c3col_right\">0.0000</span></td></tr>\n",
       "<tr><td class=\"index\"><span class=\"c3col_right\">1</span></td><td><span class=\"c3col_right\">0.0000</span></td><td><span class=\"c3col_right\">0.0000</span></td><td><span class=\"c3col_right\">0.0000</span></td><td><span class=\"c3col_right\">0.1561</span></td></tr>\n",
       "<tr><td class=\"index\"><span class=\"c3col_right\">2</span></td><td><span class=\"c3col_right\">0.1816</span></td><td><span class=\"c3col_right\">0.0000</span></td><td><span class=\"c3col_right\">0.0000</span></td><td><span class=\"c3col_right\">0.0000</span></td></tr>\n",
       "<tr><td class=\"index\"><span class=\"c3col_right\">3</span></td><td><span class=\"c3col_right\">0.0000</span></td><td><span class=\"c3col_right\">0.0000</span></td><td><span class=\"c3col_right\">0.0000</span></td><td><span class=\"c3col_right\">0.1561</span></td></tr>\n",
       "<tr><td class=\"index\"><span class=\"c3col_right\">4</span></td><td><span class=\"c3col_right\">0.0000</span></td><td><span class=\"c3col_right\">0.0000</span></td><td><span class=\"c3col_right\">0.0000</span></td><td><span class=\"c3col_right\">0.1561</span></td></tr>\n",
       "</tbody>\n",
       "</table>\n",
       "\n",
       "</div>"
      ],
      "text/plain": [
       "=========================================\n",
       "          T         C         A         G\n",
       "-----------------------------------------\n",
       "0    0.1816    0.0000    0.0000    0.0000\n",
       "1    0.0000    0.0000    0.0000    0.1561\n",
       "2    0.1816    0.0000    0.0000    0.0000\n",
       "3    0.0000    0.0000    0.0000    0.1561\n",
       "4    0.0000    0.0000    0.0000    0.1561\n",
       "-----------------------------------------"
      ]
     },
     "execution_count": 42,
     "metadata": {},
     "output_type": "execute_result"
    }
   ],
   "source": [
    "ancestral_probs = lf.reconstruct_ancestral_seqs()\n",
    "ancestral_probs[\"root\"][:5]"
   ]
  }
 ],
 "metadata": {
  "kernelspec": {
   "display_name": "Python 3",
   "language": "python",
   "name": "python3"
  },
  "language_info": {
   "codemirror_mode": {
    "name": "ipython",
    "version": 3
   },
   "file_extension": ".py",
   "mimetype": "text/x-python",
   "name": "python",
   "nbconvert_exporter": "python",
   "pygments_lexer": "ipython3",
   "version": "3.9.0"
  }
 },
 "nbformat": 4,
 "nbformat_minor": 5
}