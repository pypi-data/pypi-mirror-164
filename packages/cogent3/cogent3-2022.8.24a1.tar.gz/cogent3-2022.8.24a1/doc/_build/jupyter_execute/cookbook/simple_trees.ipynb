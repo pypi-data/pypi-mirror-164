{
 "cells": [
  {
   "cell_type": "code",
   "execution_count": 1,
   "id": "judicial-america",
   "metadata": {
    "execution": {
     "iopub.execute_input": "2021-09-30T04:31:48.182653Z",
     "iopub.status.busy": "2021-09-30T04:31:48.181994Z",
     "iopub.status.idle": "2021-09-30T04:31:48.453690Z",
     "shell.execute_reply": "2021-09-30T04:31:48.454090Z"
    }
   },
   "outputs": [],
   "source": [
    "import set_working_directory"
   ]
  },
  {
   "cell_type": "code",
   "execution_count": 2,
   "id": "residential-minneapolis",
   "metadata": {
    "execution": {
     "iopub.execute_input": "2021-09-30T04:31:48.457499Z",
     "iopub.status.busy": "2021-09-30T04:31:48.456950Z",
     "iopub.status.idle": "2021-09-30T04:31:49.016241Z",
     "shell.execute_reply": "2021-09-30T04:31:49.016688Z"
    }
   },
   "outputs": [
    {
     "name": "stdout",
     "output_type": "stream",
     "text": [
      "                              /-Human\n",
      "                    /edge.0--|\n",
      "          /edge.1--|          \\-HowlerMon\n",
      "         |         |\n",
      "         |          \\-Mouse\n",
      "-root----|\n",
      "         |--NineBande\n",
      "         |\n",
      "          \\-DogFaced\n"
     ]
    }
   ],
   "source": [
    "from cogent3 import load_tree\n",
    "\n",
    "tr = load_tree(\"data/test.tree\")\n",
    "print(tr.ascii_art())"
   ]
  },
  {
   "cell_type": "code",
   "execution_count": 3,
   "id": "forty-guest",
   "metadata": {
    "execution": {
     "iopub.execute_input": "2021-09-30T04:31:49.019966Z",
     "iopub.status.busy": "2021-09-30T04:31:49.019367Z",
     "iopub.status.idle": "2021-09-30T04:31:49.023128Z",
     "shell.execute_reply": "2021-09-30T04:31:49.023509Z"
    }
   },
   "outputs": [],
   "source": [
    "from cogent3 import load_tree\n",
    "\n",
    "tr = load_tree(\"data/test.tree\")\n",
    "tr.write(\"data/temp.tree\")"
   ]
  },
  {
   "cell_type": "code",
   "execution_count": 4,
   "id": "turned-withdrawal",
   "metadata": {
    "execution": {
     "iopub.execute_input": "2021-09-30T04:31:49.026793Z",
     "iopub.status.busy": "2021-09-30T04:31:49.026199Z",
     "iopub.status.idle": "2021-09-30T04:31:49.034343Z",
     "shell.execute_reply": "2021-09-30T04:31:49.034886Z"
    }
   },
   "outputs": [
    {
     "data": {
      "text/plain": [
       "['root', 'edge.1', 'edge.0', 'Human']"
      ]
     },
     "execution_count": 4,
     "metadata": {},
     "output_type": "execute_result"
    }
   ],
   "source": [
    "from cogent3 import load_tree\n",
    "\n",
    "tr = load_tree(\"data/test.tree\")\n",
    "names = tr.get_node_names()\n",
    "names[:4]"
   ]
  },
  {
   "cell_type": "code",
   "execution_count": 5,
   "id": "answering-deployment",
   "metadata": {
    "execution": {
     "iopub.execute_input": "2021-09-30T04:31:49.038437Z",
     "iopub.status.busy": "2021-09-30T04:31:49.037863Z",
     "iopub.status.idle": "2021-09-30T04:31:49.039879Z",
     "shell.execute_reply": "2021-09-30T04:31:49.040336Z"
    }
   },
   "outputs": [
    {
     "data": {
      "text/plain": [
       "Tree(\"Human;\")"
      ]
     },
     "execution_count": 5,
     "metadata": {},
     "output_type": "execute_result"
    }
   ],
   "source": [
    "names[4:]\n",
    "names_nodes = tr.get_nodes_dict()\n",
    "names_nodes[\"Human\"]"
   ]
  },
  {
   "cell_type": "code",
   "execution_count": 6,
   "id": "administrative-norwegian",
   "metadata": {
    "execution": {
     "iopub.execute_input": "2021-09-30T04:31:49.043805Z",
     "iopub.status.busy": "2021-09-30T04:31:49.042999Z",
     "iopub.status.idle": "2021-09-30T04:31:49.045866Z",
     "shell.execute_reply": "2021-09-30T04:31:49.046337Z"
    }
   },
   "outputs": [
    {
     "data": {
      "text/plain": [
       "Tree(\"Mouse;\")"
      ]
     },
     "execution_count": 6,
     "metadata": {},
     "output_type": "execute_result"
    }
   ],
   "source": [
    "tr.get_node_matching_name(\"Mouse\")"
   ]
  },
  {
   "cell_type": "code",
   "execution_count": 7,
   "id": "pointed-animation",
   "metadata": {
    "execution": {
     "iopub.execute_input": "2021-09-30T04:31:49.049085Z",
     "iopub.status.busy": "2021-09-30T04:31:49.048630Z",
     "iopub.status.idle": "2021-09-30T04:31:49.051984Z",
     "shell.execute_reply": "2021-09-30T04:31:49.052479Z"
    }
   },
   "outputs": [
    {
     "data": {
      "text/plain": [
       "'root'"
      ]
     },
     "execution_count": 7,
     "metadata": {},
     "output_type": "execute_result"
    }
   ],
   "source": [
    "from cogent3 import load_tree\n",
    "\n",
    "tr = load_tree(\"data/test.tree\")\n",
    "hu = tr.get_node_matching_name(\"Human\")\n",
    "tr.name"
   ]
  },
  {
   "cell_type": "code",
   "execution_count": 8,
   "id": "modular-hanging",
   "metadata": {
    "execution": {
     "iopub.execute_input": "2021-09-30T04:31:49.056140Z",
     "iopub.status.busy": "2021-09-30T04:31:49.055609Z",
     "iopub.status.idle": "2021-09-30T04:31:49.057630Z",
     "shell.execute_reply": "2021-09-30T04:31:49.057956Z"
    }
   },
   "outputs": [
    {
     "data": {
      "text/plain": [
       "'Human'"
      ]
     },
     "execution_count": 8,
     "metadata": {},
     "output_type": "execute_result"
    }
   ],
   "source": [
    "hu.name"
   ]
  },
  {
   "cell_type": "code",
   "execution_count": 9,
   "id": "provincial-bidding",
   "metadata": {
    "execution": {
     "iopub.execute_input": "2021-09-30T04:31:49.061269Z",
     "iopub.status.busy": "2021-09-30T04:31:49.060549Z",
     "iopub.status.idle": "2021-09-30T04:31:49.063803Z",
     "shell.execute_reply": "2021-09-30T04:31:49.064225Z"
    }
   },
   "outputs": [
    {
     "data": {
      "text/plain": [
       "cogent3.core.tree.PhyloNode"
      ]
     },
     "execution_count": 9,
     "metadata": {},
     "output_type": "execute_result"
    }
   ],
   "source": [
    "from cogent3 import load_tree\n",
    "\n",
    "tr = load_tree(\"data/test.tree\")\n",
    "nodes = tr.get_nodes_dict()\n",
    "hu = nodes[\"Human\"]\n",
    "type(hu)"
   ]
  },
  {
   "cell_type": "code",
   "execution_count": 10,
   "id": "broadband-telescope",
   "metadata": {
    "execution": {
     "iopub.execute_input": "2021-09-30T04:31:49.067253Z",
     "iopub.status.busy": "2021-09-30T04:31:49.066747Z",
     "iopub.status.idle": "2021-09-30T04:31:49.069192Z",
     "shell.execute_reply": "2021-09-30T04:31:49.069603Z"
    }
   },
   "outputs": [
    {
     "data": {
      "text/plain": [
       "cogent3.core.tree.PhyloNode"
      ]
     },
     "execution_count": 10,
     "metadata": {},
     "output_type": "execute_result"
    }
   ],
   "source": [
    "type(tr)"
   ]
  },
  {
   "cell_type": "code",
   "execution_count": 11,
   "id": "relative-renaissance",
   "metadata": {
    "execution": {
     "iopub.execute_input": "2021-09-30T04:31:49.072922Z",
     "iopub.status.busy": "2021-09-30T04:31:49.072243Z",
     "iopub.status.idle": "2021-09-30T04:31:49.075643Z",
     "shell.execute_reply": "2021-09-30T04:31:49.076005Z"
    }
   },
   "outputs": [
    {
     "name": "stdout",
     "output_type": "stream",
     "text": [
      "('root', Tree(\"(((Human,HowlerMon),Mouse),NineBande,DogFaced);\"))\n",
      "('edge.1', Tree(\"((Human,HowlerMon),Mouse);\"))\n",
      "('edge.0', Tree(\"(Human,HowlerMon);\"))\n",
      "('Human', Tree(\"Human;\"))\n",
      "('HowlerMon', Tree(\"HowlerMon;\"))\n",
      "('Mouse', Tree(\"Mouse;\"))\n",
      "('NineBande', Tree(\"NineBande;\"))\n",
      "('DogFaced', Tree(\"DogFaced;\"))\n"
     ]
    }
   ],
   "source": [
    "from cogent3 import load_tree\n",
    "\n",
    "tr = load_tree(\"data/test.tree\")\n",
    "nodes = tr.get_nodes_dict()\n",
    "for n in nodes.items():\n",
    "    print(n)"
   ]
  },
  {
   "cell_type": "code",
   "execution_count": 12,
   "id": "arabic-costume",
   "metadata": {
    "execution": {
     "iopub.execute_input": "2021-09-30T04:31:49.079470Z",
     "iopub.status.busy": "2021-09-30T04:31:49.078791Z",
     "iopub.status.idle": "2021-09-30T04:31:49.080768Z",
     "shell.execute_reply": "2021-09-30T04:31:49.081240Z"
    }
   },
   "outputs": [
    {
     "name": "stdout",
     "output_type": "stream",
     "text": [
      "Human:0.0311054096183;\n",
      "HowlerMon:0.0415847131449;\n",
      "Mouse:0.277353608988;\n",
      "NineBande:0.0939768158209;\n",
      "DogFaced:0.113211053859;\n"
     ]
    }
   ],
   "source": [
    "for n in tr.iter_tips():\n",
    "    print(n)"
   ]
  },
  {
   "cell_type": "code",
   "execution_count": 13,
   "id": "weekly-vocabulary",
   "metadata": {
    "execution": {
     "iopub.execute_input": "2021-09-30T04:31:49.084481Z",
     "iopub.status.busy": "2021-09-30T04:31:49.083931Z",
     "iopub.status.idle": "2021-09-30T04:31:49.086587Z",
     "shell.execute_reply": "2021-09-30T04:31:49.086966Z"
    }
   },
   "outputs": [
    {
     "name": "stdout",
     "output_type": "stream",
     "text": [
      "((Human,HowlerMon),Mouse);\n",
      "(Human,HowlerMon);\n"
     ]
    }
   ],
   "source": [
    "from cogent3 import load_tree\n",
    "\n",
    "tr = load_tree(\"data/test.tree\")\n",
    "for n in tr.iter_nontips():\n",
    "    print(n.get_newick())"
   ]
  },
  {
   "cell_type": "code",
   "execution_count": 14,
   "id": "worthy-terrain",
   "metadata": {
    "execution": {
     "iopub.execute_input": "2021-09-30T04:31:49.089908Z",
     "iopub.status.busy": "2021-09-30T04:31:49.089396Z",
     "iopub.status.idle": "2021-09-30T04:31:49.091959Z",
     "shell.execute_reply": "2021-09-30T04:31:49.092329Z"
    }
   },
   "outputs": [
    {
     "name": "stdout",
     "output_type": "stream",
     "text": [
      "edge.1\n",
      "edge.0\n",
      "Human\n"
     ]
    }
   ],
   "source": [
    "from cogent3 import load_tree\n",
    "\n",
    "tr = load_tree(\"data/test.tree\")\n",
    "edges = tr.get_connecting_edges(\"edge.1\", \"Human\")\n",
    "for edge in edges:\n",
    "    print(edge.name)"
   ]
  },
  {
   "cell_type": "code",
   "execution_count": 15,
   "id": "opponent-basic",
   "metadata": {
    "execution": {
     "iopub.execute_input": "2021-09-30T04:31:49.095530Z",
     "iopub.status.busy": "2021-09-30T04:31:49.095009Z",
     "iopub.status.idle": "2021-09-30T04:31:49.098022Z",
     "shell.execute_reply": "2021-09-30T04:31:49.098415Z"
    }
   },
   "outputs": [
    {
     "data": {
      "text/plain": [
       "True"
      ]
     },
     "execution_count": 15,
     "metadata": {},
     "output_type": "execute_result"
    }
   ],
   "source": [
    "from cogent3 import load_tree\n",
    "\n",
    "tr = load_tree(\"data/test.tree\")\n",
    "nodes = tr.get_nodes_dict()\n",
    "hu = nodes[\"Human\"]\n",
    "mu = nodes[\"Mouse\"]\n",
    "hu.distance(mu)\n",
    "hu.is_tip()"
   ]
  },
  {
   "cell_type": "code",
   "execution_count": 16,
   "id": "prepared-graph",
   "metadata": {
    "execution": {
     "iopub.execute_input": "2021-09-30T04:31:49.101254Z",
     "iopub.status.busy": "2021-09-30T04:31:49.100738Z",
     "iopub.status.idle": "2021-09-30T04:31:49.103855Z",
     "shell.execute_reply": "2021-09-30T04:31:49.104184Z"
    }
   },
   "outputs": [
    {
     "data": {
      "text/plain": [
       "Tree(\"((Human,HowlerMon),Mouse);\")"
      ]
     },
     "execution_count": 16,
     "metadata": {},
     "output_type": "execute_result"
    }
   ],
   "source": [
    "from cogent3 import load_tree\n",
    "\n",
    "tr = load_tree(\"data/test.tree\")\n",
    "nodes = tr.get_nodes_dict()\n",
    "hu = nodes[\"Human\"]\n",
    "mu = nodes[\"Mouse\"]\n",
    "lca = hu.last_common_ancestor(mu)\n",
    "lca"
   ]
  },
  {
   "cell_type": "code",
   "execution_count": 17,
   "id": "christian-valuation",
   "metadata": {
    "execution": {
     "iopub.execute_input": "2021-09-30T04:31:49.106778Z",
     "iopub.status.busy": "2021-09-30T04:31:49.106272Z",
     "iopub.status.idle": "2021-09-30T04:31:49.108129Z",
     "shell.execute_reply": "2021-09-30T04:31:49.108611Z"
    }
   },
   "outputs": [
    {
     "data": {
      "text/plain": [
       "cogent3.core.tree.PhyloNode"
      ]
     },
     "execution_count": 17,
     "metadata": {},
     "output_type": "execute_result"
    }
   ],
   "source": [
    "type(lca)"
   ]
  },
  {
   "cell_type": "code",
   "execution_count": 18,
   "id": "comprehensive-hygiene",
   "metadata": {
    "execution": {
     "iopub.execute_input": "2021-09-30T04:31:49.111460Z",
     "iopub.status.busy": "2021-09-30T04:31:49.110834Z",
     "iopub.status.idle": "2021-09-30T04:31:49.113267Z",
     "shell.execute_reply": "2021-09-30T04:31:49.113597Z"
    }
   },
   "outputs": [
    {
     "name": "stdout",
     "output_type": "stream",
     "text": [
      "edge.0\n",
      "edge.1\n",
      "root\n"
     ]
    }
   ],
   "source": [
    "from cogent3 import load_tree\n",
    "\n",
    "tr = load_tree(\"data/test.tree\")\n",
    "hu = tr.get_node_matching_name(\"Human\")\n",
    "for a in hu.ancestors():\n",
    "    print(a.name)"
   ]
  },
  {
   "cell_type": "code",
   "execution_count": 19,
   "id": "liberal-ratio",
   "metadata": {
    "execution": {
     "iopub.execute_input": "2021-09-30T04:31:49.116560Z",
     "iopub.status.busy": "2021-09-30T04:31:49.116083Z",
     "iopub.status.idle": "2021-09-30T04:31:49.118509Z",
     "shell.execute_reply": "2021-09-30T04:31:49.118857Z"
    }
   },
   "outputs": [
    {
     "name": "stdout",
     "output_type": "stream",
     "text": [
      "Human\n",
      "HowlerMon\n",
      "Mouse\n",
      "edge.0\n"
     ]
    }
   ],
   "source": [
    "from cogent3 import load_tree\n",
    "\n",
    "tr = load_tree(\"data/test.tree\")\n",
    "node = tr.get_node_matching_name(\"edge.1\")\n",
    "children = list(node.iter_tips()) + list(node.iter_nontips())\n",
    "for child in children:\n",
    "    print(child.name)"
   ]
  },
  {
   "cell_type": "code",
   "execution_count": 20,
   "id": "mathematical-arena",
   "metadata": {
    "execution": {
     "iopub.execute_input": "2021-09-30T04:31:49.121654Z",
     "iopub.status.busy": "2021-09-30T04:31:49.121142Z",
     "iopub.status.idle": "2021-09-30T04:31:49.123149Z",
     "shell.execute_reply": "2021-09-30T04:31:49.123617Z"
    }
   },
   "outputs": [],
   "source": [
    "from cogent3 import load_tree\n",
    "\n",
    "tr = load_tree(\"data/test.tree\")\n",
    "dists = tr.get_distances()"
   ]
  },
  {
   "cell_type": "code",
   "execution_count": 21,
   "id": "infrared-night",
   "metadata": {
    "execution": {
     "iopub.execute_input": "2021-09-30T04:31:49.126488Z",
     "iopub.status.busy": "2021-09-30T04:31:49.126024Z",
     "iopub.status.idle": "2021-09-30T04:31:49.128237Z",
     "shell.execute_reply": "2021-09-30T04:31:49.128558Z"
    }
   },
   "outputs": [
    {
     "name": "stdout",
     "output_type": "stream",
     "text": [
      "('Human', 'HowlerMon') 0.0726901227632\n",
      "('HowlerMon', 'Human') 0.0726901227632\n",
      "('Human', 'Mouse') 0.3467553610937\n",
      "('Mouse', 'Human') 0.3467553610937\n",
      "('Human', 'NineBande') 0.18310641816450002\n",
      "('NineBande', 'Human') 0.18310641816450002\n",
      "('Human', 'DogFaced') 0.2023406562026\n",
      "('DogFaced', 'Human') 0.2023406562026\n"
     ]
    }
   ],
   "source": [
    "human_dists = [names for names in dists if \"Human\" in names]\n",
    "for dist in human_dists:\n",
    "    print(dist, dists[dist])"
   ]
  },
  {
   "cell_type": "code",
   "execution_count": 22,
   "id": "educated-candidate",
   "metadata": {
    "execution": {
     "iopub.execute_input": "2021-09-30T04:31:49.131531Z",
     "iopub.status.busy": "2021-09-30T04:31:49.130993Z",
     "iopub.status.idle": "2021-09-30T04:31:49.134220Z",
     "shell.execute_reply": "2021-09-30T04:31:49.134540Z"
    }
   },
   "outputs": [
    {
     "data": {
      "text/plain": [
       "(0.4102925130849, ('Mouse', 'DogFaced'))"
      ]
     },
     "execution_count": 22,
     "metadata": {},
     "output_type": "execute_result"
    }
   ],
   "source": [
    "from cogent3 import load_tree\n",
    "\n",
    "tr = load_tree(\"data/test.tree\")\n",
    "tr.max_tip_tip_distance()"
   ]
  },
  {
   "cell_type": "code",
   "execution_count": 23,
   "id": "looking-proceeding",
   "metadata": {
    "execution": {
     "iopub.execute_input": "2021-09-30T04:31:49.137643Z",
     "iopub.status.busy": "2021-09-30T04:31:49.136959Z",
     "iopub.status.idle": "2021-09-30T04:31:49.139543Z",
     "shell.execute_reply": "2021-09-30T04:31:49.139932Z"
    }
   },
   "outputs": [
    {
     "name": "stdout",
     "output_type": "stream",
     "text": [
      "HowlerMon:0.0415847131449;\n",
      "NineBande:0.0939768158209;\n"
     ]
    }
   ],
   "source": [
    "from cogent3 import load_tree\n",
    "\n",
    "tr = load_tree(\"data/test.tree\")\n",
    "hu = tr.get_node_matching_name(\"Human\")\n",
    "tips = hu.tips_within_distance(0.2)\n",
    "for t in tips:\n",
    "    print(t)"
   ]
  },
  {
   "cell_type": "code",
   "execution_count": 24,
   "id": "major-interface",
   "metadata": {
    "execution": {
     "iopub.execute_input": "2021-09-30T04:31:49.142730Z",
     "iopub.status.busy": "2021-09-30T04:31:49.142111Z",
     "iopub.status.idle": "2021-09-30T04:31:49.145558Z",
     "shell.execute_reply": "2021-09-30T04:31:49.145875Z"
    }
   },
   "outputs": [
    {
     "name": "stdout",
     "output_type": "stream",
     "text": [
      "          /-Human\n",
      "         |\n",
      "-root----|--HowlerMon\n",
      "         |\n",
      "         |          /-Mouse\n",
      "          \\edge.0--|\n",
      "                   |          /-NineBande\n",
      "                    \\edge.1--|\n",
      "                              \\-DogFaced\n"
     ]
    }
   ],
   "source": [
    "from cogent3 import load_tree\n",
    "\n",
    "tr = load_tree(\"data/test.tree\")\n",
    "print(tr.rooted_at(\"edge.0\").ascii_art())"
   ]
  },
  {
   "cell_type": "code",
   "execution_count": 25,
   "id": "endangered-resort",
   "metadata": {
    "execution": {
     "iopub.execute_input": "2021-09-30T04:31:49.148464Z",
     "iopub.status.busy": "2021-09-30T04:31:49.147960Z",
     "iopub.status.idle": "2021-09-30T04:31:49.150410Z",
     "shell.execute_reply": "2021-09-30T04:31:49.150901Z"
    }
   },
   "outputs": [
    {
     "name": "stdout",
     "output_type": "stream",
     "text": [
      "          /-Mouse\n",
      "         |\n",
      "-root----|                    /-Human\n",
      "         |          /edge.0--|\n",
      "         |         |          \\-HowlerMon\n",
      "          \\edge.0.2|\n",
      "                   |          /-NineBande\n",
      "                    \\edge.1--|\n",
      "                              \\-DogFaced\n"
     ]
    }
   ],
   "source": [
    "from cogent3 import load_tree\n",
    "\n",
    "tr = load_tree(\"data/test.tree\")\n",
    "print(tr.root_at_midpoint().ascii_art())"
   ]
  },
  {
   "cell_type": "code",
   "execution_count": 26,
   "id": "suspended-geneva",
   "metadata": {
    "execution": {
     "iopub.execute_input": "2021-09-30T04:31:49.153713Z",
     "iopub.status.busy": "2021-09-30T04:31:49.153154Z",
     "iopub.status.idle": "2021-09-30T04:31:49.155034Z",
     "shell.execute_reply": "2021-09-30T04:31:49.155352Z"
    }
   },
   "outputs": [
    {
     "name": "stdout",
     "output_type": "stream",
     "text": [
      "                              /-Human\n",
      "                    /edge.0--|\n",
      "          /edge.1--|          \\-HowlerMon\n",
      "         |         |\n",
      "         |          \\-------- /-Mouse\n",
      "-root----|\n",
      "         |--NineBande\n",
      "         |\n",
      "          \\-DogFaced\n"
     ]
    }
   ],
   "source": [
    "print(tr.ascii_art())"
   ]
  },
  {
   "cell_type": "code",
   "execution_count": 27,
   "id": "answering-meeting",
   "metadata": {
    "execution": {
     "iopub.execute_input": "2021-09-30T04:31:49.158057Z",
     "iopub.status.busy": "2021-09-30T04:31:49.157381Z",
     "iopub.status.idle": "2021-09-30T04:31:49.160223Z",
     "shell.execute_reply": "2021-09-30T04:31:49.160612Z"
    }
   },
   "outputs": [
    {
     "name": "stdout",
     "output_type": "stream",
     "text": [
      "                              /-Human\n",
      "                    /edge.0--|\n",
      "          /edge.1--|          \\-HowlerMon\n",
      "         |         |\n",
      "         |          \\-Mouse\n",
      "-root----|\n",
      "         |--NineBande\n",
      "         |\n",
      "          \\-DogFaced\n"
     ]
    }
   ],
   "source": [
    "from cogent3 import load_tree\n",
    "\n",
    "tr = load_tree(\"data/test.tree\")\n",
    "print(tr.ascii_art())"
   ]
  },
  {
   "cell_type": "code",
   "execution_count": 28,
   "id": "intermediate-preliminary",
   "metadata": {
    "execution": {
     "iopub.execute_input": "2021-09-30T04:31:49.163321Z",
     "iopub.status.busy": "2021-09-30T04:31:49.162854Z",
     "iopub.status.idle": "2021-09-30T04:31:49.164463Z",
     "shell.execute_reply": "2021-09-30T04:31:49.164857Z"
    }
   },
   "outputs": [
    {
     "name": "stdout",
     "output_type": "stream",
     "text": [
      "                    /-Human\n",
      "          /edge.0--|\n",
      "         |          \\-HowlerMon\n",
      "         |\n",
      "-root----|--Mouse\n",
      "         |\n",
      "         |          /-NineBande\n",
      "          \\edge.1--|\n",
      "                    \\-DogFaced\n"
     ]
    }
   ],
   "source": [
    "print(tr.rooted_with_tip(\"Mouse\").ascii_art())"
   ]
  },
  {
   "cell_type": "code",
   "execution_count": 29,
   "id": "timely-slovakia",
   "metadata": {
    "execution": {
     "iopub.execute_input": "2021-09-30T04:31:49.167306Z",
     "iopub.status.busy": "2021-09-30T04:31:49.166835Z",
     "iopub.status.idle": "2021-09-30T04:31:49.169954Z",
     "shell.execute_reply": "2021-09-30T04:31:49.170283Z"
    }
   },
   "outputs": [
    {
     "data": {
      "text/plain": [
       "'(((Human,HowlerMon),Mouse),NineBande,DogFaced);'"
      ]
     },
     "execution_count": 29,
     "metadata": {},
     "output_type": "execute_result"
    }
   ],
   "source": [
    "from cogent3 import load_tree\n",
    "\n",
    "tr = load_tree(\"data/test.tree\")\n",
    "tr.get_newick()"
   ]
  },
  {
   "cell_type": "code",
   "execution_count": 30,
   "id": "centered-morgan",
   "metadata": {
    "execution": {
     "iopub.execute_input": "2021-09-30T04:31:49.173342Z",
     "iopub.status.busy": "2021-09-30T04:31:49.172640Z",
     "iopub.status.idle": "2021-09-30T04:31:49.174778Z",
     "shell.execute_reply": "2021-09-30T04:31:49.175109Z"
    }
   },
   "outputs": [
    {
     "data": {
      "text/plain": [
       "'(((Human:0.0311054096183,HowlerMon:0.0415847131449):0.0382963424874,Mouse:0.277353608988):0.0197278502379,NineBande:0.0939768158209,DogFaced:0.113211053859);'"
      ]
     },
     "execution_count": 30,
     "metadata": {},
     "output_type": "execute_result"
    }
   ],
   "source": [
    "tr.get_newick(with_distances=True)"
   ]
  },
  {
   "cell_type": "code",
   "execution_count": 31,
   "id": "documented-slovakia",
   "metadata": {
    "execution": {
     "iopub.execute_input": "2021-09-30T04:31:49.178032Z",
     "iopub.status.busy": "2021-09-30T04:31:49.177344Z",
     "iopub.status.idle": "2021-09-30T04:31:49.180561Z",
     "shell.execute_reply": "2021-09-30T04:31:49.180898Z"
    }
   },
   "outputs": [
    {
     "name": "stdout",
     "output_type": "stream",
     "text": [
      "<?xml version=\"1.0\"?>\n",
      "<clade>\n",
      "  <clade>\n",
      "     <param><name>length</name><value>0.0197278502379</value></param>\n",
      "    <clade>\n",
      "       <param><name>length</name><value>0.0382963424874</value></param>\n",
      "      <clade>\n",
      "         <name>Human</name>\n",
      "         <param><name>length</name><value>0.0311054096183</value></param>\n",
      "      </clade>\n",
      "      <clade>\n",
      "         <name>HowlerMon</name>\n",
      "         <param><name>length</name><value>0.0415847131449</value></param>\n",
      "      </clade>\n",
      "    </clade>\n",
      "    <clade>\n",
      "       <name>Mouse</name>\n",
      "       <param><name>length</name><value>0.277353608988</value></param>\n",
      "    </clade>\n",
      "  </clade>\n",
      "  <clade>\n",
      "     <name>NineBande</name>\n",
      "     <param><name>length</name><value>0.0939768158209</value></param>\n",
      "  </clade>\n",
      "  <clade>\n",
      "     <name>DogFaced</name>\n",
      "     <param><name>length</name><value>0.113211053859</value></param>\n",
      "  </clade>\n",
      "</clade>\n"
     ]
    }
   ],
   "source": [
    "from cogent3 import load_tree\n",
    "\n",
    "tr = load_tree(\"data/test.tree\")\n",
    "xml = tr.get_xml()\n",
    "for line in xml.splitlines():\n",
    "    print(line)"
   ]
  },
  {
   "cell_type": "code",
   "execution_count": 32,
   "id": "designing-flash",
   "metadata": {
    "execution": {
     "iopub.execute_input": "2021-09-30T04:31:49.183551Z",
     "iopub.status.busy": "2021-09-30T04:31:49.182998Z",
     "iopub.status.idle": "2021-09-30T04:31:49.185576Z",
     "shell.execute_reply": "2021-09-30T04:31:49.185953Z"
    }
   },
   "outputs": [
    {
     "name": "stdout",
     "output_type": "stream",
     "text": [
      "                              /-Human\n",
      "                    /edge.0--|\n",
      "          /edge.1--|          \\-HowlerMon\n",
      "         |         |\n",
      "         |          \\-Mouse\n",
      "-root----|\n",
      "         |--NineBande\n",
      "         |\n",
      "          \\-DogFaced\n"
     ]
    }
   ],
   "source": [
    "from cogent3 import load_tree\n",
    "\n",
    "tr = load_tree(\"data/test.tree\")\n",
    "print(tr.ascii_art())"
   ]
  },
  {
   "cell_type": "code",
   "execution_count": 33,
   "id": "static-affairs",
   "metadata": {
    "execution": {
     "iopub.execute_input": "2021-09-30T04:31:49.188752Z",
     "iopub.status.busy": "2021-09-30T04:31:49.188242Z",
     "iopub.status.idle": "2021-09-30T04:31:49.191017Z",
     "shell.execute_reply": "2021-09-30T04:31:49.191379Z"
    }
   },
   "outputs": [
    {
     "name": "stdout",
     "output_type": "stream",
     "text": [
      "(((Human,HowlerMon),Mouse),NineBande,DogFaced);\n",
      "((Human,HowlerMon),Mouse);\n",
      "(Human,HowlerMon);\n",
      "Human;\n",
      "HowlerMon;\n",
      "Mouse;\n",
      "NineBande;\n",
      "DogFaced;\n"
     ]
    }
   ],
   "source": [
    "from cogent3 import load_tree\n",
    "\n",
    "tr = load_tree(\"data/test.tree\")\n",
    "for t in tr.preorder():\n",
    "    print(t.get_newick())"
   ]
  },
  {
   "cell_type": "code",
   "execution_count": 34,
   "id": "worst-spider",
   "metadata": {
    "execution": {
     "iopub.execute_input": "2021-09-30T04:31:49.194457Z",
     "iopub.status.busy": "2021-09-30T04:31:49.193750Z",
     "iopub.status.idle": "2021-09-30T04:31:49.196852Z",
     "shell.execute_reply": "2021-09-30T04:31:49.197175Z"
    }
   },
   "outputs": [
    {
     "name": "stdout",
     "output_type": "stream",
     "text": [
      "Human;\n",
      "HowlerMon;\n",
      "(Human,HowlerMon);\n",
      "Mouse;\n",
      "((Human,HowlerMon),Mouse);\n",
      "NineBande;\n",
      "DogFaced;\n",
      "(((Human,HowlerMon),Mouse),NineBande,DogFaced);\n"
     ]
    }
   ],
   "source": [
    "from cogent3 import load_tree\n",
    "\n",
    "tr = load_tree(\"data/test.tree\")\n",
    "for t in tr.postorder():\n",
    "    print(t.get_newick())"
   ]
  },
  {
   "cell_type": "code",
   "execution_count": 35,
   "id": "going-joshua",
   "metadata": {
    "execution": {
     "iopub.execute_input": "2021-09-30T04:31:49.200223Z",
     "iopub.status.busy": "2021-09-30T04:31:49.199750Z",
     "iopub.status.idle": "2021-09-30T04:31:49.202580Z",
     "shell.execute_reply": "2021-09-30T04:31:49.202968Z"
    }
   },
   "outputs": [
    {
     "name": "stdout",
     "output_type": "stream",
     "text": [
      "['Human', 'HowlerMon', 'Mouse']\n",
      "          /-Human\n",
      "         |\n",
      "-root----|--HowlerMon\n",
      "         |\n",
      "          \\-Mouse\n",
      "['Human', 'HowlerMon']\n",
      "          /-Human\n",
      "-root----|\n",
      "          \\-HowlerMon\n"
     ]
    }
   ],
   "source": [
    "from cogent3 import load_tree\n",
    "\n",
    "tr = load_tree(\"data/test.tree\")\n",
    "for tip in tr.iter_nontips():\n",
    "    tip_names = tip.get_tip_names()\n",
    "    print(tip_names)\n",
    "    sub_tree = tr.get_sub_tree(tip_names)\n",
    "    print(sub_tree.ascii_art())"
   ]
  },
  {
   "cell_type": "code",
   "execution_count": 36,
   "id": "intermediate-engagement",
   "metadata": {
    "execution": {
     "iopub.execute_input": "2021-09-30T04:31:49.205685Z",
     "iopub.status.busy": "2021-09-30T04:31:49.205139Z",
     "iopub.status.idle": "2021-09-30T04:31:49.206920Z",
     "shell.execute_reply": "2021-09-30T04:31:49.207245Z"
    }
   },
   "outputs": [],
   "source": [
    "from cogent3.util.misc import remove_files\n",
    "\n",
    "remove_files([\"data/temp.tree\", \"data/temp.pdf\"], error_on_missing=False)"
   ]
  },
  {
   "cell_type": "code",
   "execution_count": 37,
   "id": "saving-settle",
   "metadata": {
    "execution": {
     "iopub.execute_input": "2021-09-30T04:31:49.210372Z",
     "iopub.status.busy": "2021-09-30T04:31:49.209672Z",
     "iopub.status.idle": "2021-09-30T04:31:49.211969Z",
     "shell.execute_reply": "2021-09-30T04:31:49.212293Z"
    }
   },
   "outputs": [
    {
     "name": "stdout",
     "output_type": "stream",
     "text": [
      "          /-B\n",
      "-F-------|\n",
      "          \\E------- /-D\n"
     ]
    }
   ],
   "source": [
    "from cogent3 import make_tree\n",
    "\n",
    "simple_tree_string = \"(B:0.2,(D:0.4)E:0.5)F;\"\n",
    "simple_tree = make_tree(simple_tree_string)\n",
    "print(simple_tree.ascii_art())"
   ]
  },
  {
   "cell_type": "code",
   "execution_count": 38,
   "id": "sacred-honey",
   "metadata": {
    "execution": {
     "iopub.execute_input": "2021-09-30T04:31:49.214964Z",
     "iopub.status.busy": "2021-09-30T04:31:49.214337Z",
     "iopub.status.idle": "2021-09-30T04:31:49.216868Z",
     "shell.execute_reply": "2021-09-30T04:31:49.217187Z"
    }
   },
   "outputs": [
    {
     "name": "stdout",
     "output_type": "stream",
     "text": [
      "          /-B\n",
      "-F-------|\n",
      "          \\-D"
     ]
    },
    {
     "name": "stdout",
     "output_type": "stream",
     "text": [
      "\n"
     ]
    }
   ],
   "source": [
    "simple_tree.prune()\n",
    "print(simple_tree.ascii_art())"
   ]
  },
  {
   "cell_type": "code",
   "execution_count": 39,
   "id": "spiritual-mailman",
   "metadata": {
    "execution": {
     "iopub.execute_input": "2021-09-30T04:31:49.219854Z",
     "iopub.status.busy": "2021-09-30T04:31:49.219233Z",
     "iopub.status.idle": "2021-09-30T04:31:49.221184Z",
     "shell.execute_reply": "2021-09-30T04:31:49.221541Z"
    }
   },
   "outputs": [
    {
     "name": "stdout",
     "output_type": "stream",
     "text": [
      "(B:0.2,D:0.9)F;\n"
     ]
    }
   ],
   "source": [
    "print(simple_tree)"
   ]
  },
  {
   "cell_type": "code",
   "execution_count": 40,
   "id": "premium-villa",
   "metadata": {
    "execution": {
     "iopub.execute_input": "2021-09-30T04:31:49.224209Z",
     "iopub.status.busy": "2021-09-30T04:31:49.223715Z",
     "iopub.status.idle": "2021-09-30T04:31:49.226099Z",
     "shell.execute_reply": "2021-09-30T04:31:49.226417Z"
    }
   },
   "outputs": [
    {
     "name": "stdout",
     "output_type": "stream",
     "text": [
      "(((Human,HowlerMon),Mouse),NineBande,DogFaced);\n"
     ]
    }
   ],
   "source": [
    "from cogent3 import load_tree\n",
    "\n",
    "tr1 = load_tree(\"data/test.tree\")\n",
    "print(tr1.get_newick())"
   ]
  },
  {
   "cell_type": "code",
   "execution_count": 41,
   "id": "medieval-latex",
   "metadata": {
    "execution": {
     "iopub.execute_input": "2021-09-30T04:31:49.229137Z",
     "iopub.status.busy": "2021-09-30T04:31:49.228679Z",
     "iopub.status.idle": "2021-09-30T04:31:49.230419Z",
     "shell.execute_reply": "2021-09-30T04:31:49.230897Z"
    }
   },
   "outputs": [
    {
     "name": "stdout",
     "output_type": "stream",
     "text": [
      "(((Human,HowlerMon),Mouse),NineBande,DogFaced);\n"
     ]
    }
   ],
   "source": [
    "tr2 = tr1.unrooted_deepcopy()\n",
    "print(tr2.get_newick())"
   ]
  },
  {
   "cell_type": "code",
   "execution_count": 42,
   "id": "legendary-positive",
   "metadata": {
    "execution": {
     "iopub.execute_input": "2021-09-30T04:31:49.233803Z",
     "iopub.status.busy": "2021-09-30T04:31:49.233349Z",
     "iopub.status.idle": "2021-09-30T04:31:49.235375Z",
     "shell.execute_reply": "2021-09-30T04:31:49.235700Z"
    }
   },
   "outputs": [
    {
     "name": "stdout",
     "output_type": "stream",
     "text": [
      "          /-B\n",
      "         |\n",
      "         |--H\n",
      "-G-------|\n",
      "         |          /-C\n",
      "         |         |\n",
      "          \\F-------|--D\n",
      "                   |\n",
      "                    \\-E\n"
     ]
    }
   ],
   "source": [
    "from cogent3 import load_tree\n",
    "\n",
    "tree_string = \"(B:0.2,H:0.2,(C:0.3,D:0.4,E:0.1)F:0.5)G;\"\n",
    "tr = make_tree(tree_string)\n",
    "print(tr.ascii_art())"
   ]
  },
  {
   "cell_type": "code",
   "execution_count": 43,
   "id": "greatest-split",
   "metadata": {
    "execution": {
     "iopub.execute_input": "2021-09-30T04:31:49.238569Z",
     "iopub.status.busy": "2021-09-30T04:31:49.238104Z",
     "iopub.status.idle": "2021-09-30T04:31:49.239723Z",
     "shell.execute_reply": "2021-09-30T04:31:49.240202Z"
    }
   },
   "outputs": [
    {
     "name": "stdout",
     "output_type": "stream",
     "text": [
      "          /-B\n",
      "-G-------|\n",
      "         |          /-H\n",
      "          \\--------|\n",
      "                   |          /-C\n",
      "                    \\F-------|\n",
      "                             |          /-D\n",
      "                              \\--------|\n",
      "                                        \\-E\n"
     ]
    }
   ],
   "source": [
    "print(tr.bifurcating().ascii_art())"
   ]
  },
  {
   "cell_type": "code",
   "execution_count": 44,
   "id": "sufficient-token",
   "metadata": {
    "execution": {
     "iopub.execute_input": "2021-09-30T04:31:49.242909Z",
     "iopub.status.busy": "2021-09-30T04:31:49.242434Z",
     "iopub.status.idle": "2021-09-30T04:31:49.245069Z",
     "shell.execute_reply": "2021-09-30T04:31:49.245462Z"
    }
   },
   "outputs": [
    {
     "name": "stdout",
     "output_type": "stream",
     "text": [
      "                              /-Human\n",
      "                    /edge.0--|\n",
      "          /edge.1--|          \\-HowlerMon\n",
      "         |         |\n",
      "         |          \\-Mouse\n",
      "-root----|\n",
      "         |--NineBande\n",
      "         |\n",
      "          \\-DogFaced\n"
     ]
    }
   ],
   "source": [
    "from cogent3 import load_tree\n",
    "\n",
    "tr = load_tree(\"data/test.tree\")\n",
    "print(tr.ascii_art())"
   ]
  },
  {
   "cell_type": "code",
   "execution_count": 45,
   "id": "bronze-devon",
   "metadata": {
    "execution": {
     "iopub.execute_input": "2021-09-30T04:31:49.248031Z",
     "iopub.status.busy": "2021-09-30T04:31:49.247571Z",
     "iopub.status.idle": "2021-09-30T04:31:49.249255Z",
     "shell.execute_reply": "2021-09-30T04:31:49.249572Z"
    }
   },
   "outputs": [
    {
     "name": "stdout",
     "output_type": "stream",
     "text": [
      "                    /-Human\n",
      "          /edge.0--|\n",
      "         |          \\-HowlerMon\n",
      "         |\n",
      "-root----|--Mouse\n",
      "         |\n",
      "         |          /-NineBande\n",
      "          \\edge.1--|\n",
      "                    \\-DogFaced\n"
     ]
    }
   ],
   "source": [
    "print(tr.balanced().ascii_art())"
   ]
  },
  {
   "cell_type": "code",
   "execution_count": 46,
   "id": "verbal-costs",
   "metadata": {
    "execution": {
     "iopub.execute_input": "2021-09-30T04:31:49.253018Z",
     "iopub.status.busy": "2021-09-30T04:31:49.252484Z",
     "iopub.status.idle": "2021-09-30T04:31:49.254515Z",
     "shell.execute_reply": "2021-09-30T04:31:49.254832Z"
    }
   },
   "outputs": [
    {
     "data": {
      "text/plain": [
       "True"
      ]
     },
     "execution_count": 46,
     "metadata": {},
     "output_type": "execute_result"
    }
   ],
   "source": [
    "from cogent3 import load_tree\n",
    "\n",
    "tr1 = make_tree(\"(B:0.2,(C:0.2,D:0.2)F:0.2)G;\")\n",
    "tr2 = make_tree(\"((C:0.1,D:0.1)F:0.1,B:0.1)G;\")\n",
    "tr1.same_topology(tr2)"
   ]
  },
  {
   "cell_type": "code",
   "execution_count": 47,
   "id": "behavioral-saver",
   "metadata": {
    "execution": {
     "iopub.execute_input": "2021-09-30T04:31:49.257848Z",
     "iopub.status.busy": "2021-09-30T04:31:49.257296Z",
     "iopub.status.idle": "2021-09-30T04:31:49.259519Z",
     "shell.execute_reply": "2021-09-30T04:31:49.259848Z"
    }
   },
   "outputs": [
    {
     "name": "stdout",
     "output_type": "stream",
     "text": [
      "          /-B\n",
      "-G-------|\n",
      "         |          /-C\n",
      "          \\F-------|\n",
      "                    \\-D\n"
     ]
    }
   ],
   "source": [
    "from cogent3 import load_tree\n",
    "\n",
    "tr = make_tree(\"(B:0.2,(C:0.3,D:0.4)F:0.5)G;\")\n",
    "print(tr.ascii_art())"
   ]
  },
  {
   "cell_type": "code",
   "execution_count": 48,
   "id": "aggregate-registration",
   "metadata": {
    "execution": {
     "iopub.execute_input": "2021-09-30T04:31:49.263093Z",
     "iopub.status.busy": "2021-09-30T04:31:49.262616Z",
     "iopub.status.idle": "2021-09-30T04:31:49.264278Z",
     "shell.execute_reply": "2021-09-30T04:31:49.264696Z"
    }
   },
   "outputs": [
    {
     "name": "stdout",
     "output_type": "stream",
     "text": [
      "G 0.9\n",
      "B 0\n",
      "F 0.4\n",
      "C 0\n",
      "D 0\n"
     ]
    }
   ],
   "source": [
    "tr.set_tip_distances()\n",
    "for t in tr.preorder():\n",
    "    print(t.name, t.TipDistance)"
   ]
  },
  {
   "cell_type": "code",
   "execution_count": 49,
   "id": "adapted-requirement",
   "metadata": {
    "execution": {
     "iopub.execute_input": "2021-09-30T04:31:49.268034Z",
     "iopub.status.busy": "2021-09-30T04:31:49.267448Z",
     "iopub.status.idle": "2021-09-30T04:31:49.269484Z",
     "shell.execute_reply": "2021-09-30T04:31:49.269805Z"
    }
   },
   "outputs": [
    {
     "name": "stdout",
     "output_type": "stream",
     "text": [
      "(B:0.2,(C:0.3,D:0.4)F:0.5)G;\n"
     ]
    }
   ],
   "source": [
    "from cogent3 import load_tree\n",
    "\n",
    "tr = make_tree(\"(B:0.2,(C:0.3,D:0.4)F:0.5)G;\")\n",
    "print(tr)"
   ]
  },
  {
   "cell_type": "code",
   "execution_count": 50,
   "id": "personalized-distribution",
   "metadata": {
    "execution": {
     "iopub.execute_input": "2021-09-30T04:31:49.272888Z",
     "iopub.status.busy": "2021-09-30T04:31:49.272274Z",
     "iopub.status.idle": "2021-09-30T04:31:49.274258Z",
     "shell.execute_reply": "2021-09-30T04:31:49.274595Z"
    }
   },
   "outputs": [
    {
     "name": "stdout",
     "output_type": "stream",
     "text": [
      "(B:22,(C:33,D:44)F:56)G;\n"
     ]
    }
   ],
   "source": [
    "tr.scale_branch_lengths()\n",
    "print(tr)"
   ]
  },
  {
   "cell_type": "code",
   "execution_count": 51,
   "id": "juvenile-keeping",
   "metadata": {
    "execution": {
     "iopub.execute_input": "2021-09-30T04:31:49.278471Z",
     "iopub.status.busy": "2021-09-30T04:31:49.277920Z",
     "iopub.status.idle": "2021-09-30T04:31:49.279770Z",
     "shell.execute_reply": "2021-09-30T04:31:49.280098Z"
    }
   },
   "outputs": [
    {
     "name": "stdout",
     "output_type": "stream",
     "text": [
      "B [ 0. 10. 12.]\n",
      "C [10.  0.  6.]\n",
      "D [12.  6.  0.]\n"
     ]
    }
   ],
   "source": [
    "from cogent3 import load_tree\n",
    "\n",
    "tr = make_tree(\"(B:3,(C:2,D:4)F:5)G;\")\n",
    "d, tips = tr.tip_to_tip_distances()\n",
    "for i, t in enumerate(tips):\n",
    "    print(t.name, d[i])"
   ]
  },
  {
   "cell_type": "code",
   "execution_count": 52,
   "id": "interim-treasurer",
   "metadata": {
    "execution": {
     "iopub.execute_input": "2021-09-30T04:31:49.283571Z",
     "iopub.status.busy": "2021-09-30T04:31:49.282975Z",
     "iopub.status.idle": "2021-09-30T04:31:49.285070Z",
     "shell.execute_reply": "2021-09-30T04:31:49.285427Z"
    }
   },
   "outputs": [
    {
     "data": {
      "text/plain": [
       "0.08352668213457076"
      ]
     },
     "execution_count": 52,
     "metadata": {},
     "output_type": "execute_result"
    }
   ],
   "source": [
    "from cogent3 import load_tree\n",
    "\n",
    "tr1 = make_tree(\"(B:2,(C:3,D:4)F:5)G;\")\n",
    "tr2 = make_tree(\"(C:2,(B:3,D:4)F:5)G;\")\n",
    "tr1.compare_by_tip_distances(tr2)"
   ]
  }
 ],
 "metadata": {
  "kernelspec": {
   "display_name": "Python 3",
   "language": "python",
   "name": "python3"
  },
  "language_info": {
   "codemirror_mode": {
    "name": "ipython",
    "version": 3
   },
   "file_extension": ".py",
   "mimetype": "text/x-python",
   "name": "python",
   "nbconvert_exporter": "python",
   "pygments_lexer": "ipython3",
   "version": "3.9.0"
  }
 },
 "nbformat": 4,
 "nbformat_minor": 5
}