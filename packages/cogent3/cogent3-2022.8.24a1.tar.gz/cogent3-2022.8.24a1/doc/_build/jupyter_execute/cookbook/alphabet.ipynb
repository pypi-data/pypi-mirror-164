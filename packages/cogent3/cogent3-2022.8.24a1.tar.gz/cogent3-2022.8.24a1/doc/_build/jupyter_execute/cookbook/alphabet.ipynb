{
 "cells": [
  {
   "cell_type": "code",
   "execution_count": 1,
   "id": "freelance-newcastle",
   "metadata": {
    "execution": {
     "iopub.execute_input": "2021-09-30T04:31:07.711120Z",
     "iopub.status.busy": "2021-09-30T04:31:07.710386Z",
     "iopub.status.idle": "2021-09-30T04:31:08.303535Z",
     "shell.execute_reply": "2021-09-30T04:31:08.303953Z"
    }
   },
   "outputs": [
    {
     "name": "stdout",
     "output_type": "stream",
     "text": [
      "('T', 'C', 'A', 'G')\n",
      "('A', 'C', 'D', 'E', 'F', 'G', 'H', 'I', 'K', 'L', 'M', 'N', 'P', 'Q', 'R', 'S', 'T', 'U', 'V', 'W', 'Y')\n"
     ]
    }
   ],
   "source": [
    "from cogent3 import DNA, PROTEIN\n",
    "\n",
    "print(DNA.alphabet)\n",
    "print(PROTEIN.alphabet)"
   ]
  },
  {
   "cell_type": "code",
   "execution_count": 2,
   "id": "organized-freeware",
   "metadata": {
    "execution": {
     "iopub.execute_input": "2021-09-30T04:31:08.311654Z",
     "iopub.status.busy": "2021-09-30T04:31:08.311019Z",
     "iopub.status.idle": "2021-09-30T04:31:08.313294Z",
     "shell.execute_reply": "2021-09-30T04:31:08.313679Z"
    }
   },
   "outputs": [
    {
     "data": {
      "text/plain": [
       "True"
      ]
     },
     "execution_count": 2,
     "metadata": {},
     "output_type": "execute_result"
    }
   ],
   "source": [
    "PROTEIN.alphabet.moltype == PROTEIN"
   ]
  },
  {
   "cell_type": "code",
   "execution_count": 3,
   "id": "genuine-camel",
   "metadata": {
    "execution": {
     "iopub.execute_input": "2021-09-30T04:31:08.317953Z",
     "iopub.status.busy": "2021-09-30T04:31:08.316981Z",
     "iopub.status.idle": "2021-09-30T04:31:08.319733Z",
     "shell.execute_reply": "2021-09-30T04:31:08.320058Z"
    }
   },
   "outputs": [
    {
     "name": "stdout",
     "output_type": "stream",
     "text": [
      "('TT', 'CT', 'AT', 'GT', 'TC', 'CC', 'AC', 'GC', 'TA', 'CA', 'AA', 'GA', 'TG', 'CG', 'AG', 'GG')\n",
      "('TTT', 'CTT', 'ATT', 'GTT', 'TCT', 'CCT', 'ACT', 'GCT', 'TAT', 'CAT', 'AAT', 'GAT', 'TGT', 'CGT', 'AGT', 'GGT', 'TTC', 'CTC', 'ATC', 'GTC', 'TCC', 'CCC', 'ACC', 'GCC', 'TAC', 'CAC', 'AAC', 'GAC', 'TGC', 'CGC', 'AGC', 'GGC', 'TTA', 'CTA', 'ATA', 'GTA', 'TCA', 'CCA', 'ACA', 'GCA', 'TAA', 'CAA', 'AAA', 'GAA', 'TGA', 'CGA', 'AGA', 'GGA', 'TTG', 'CTG', 'ATG', 'GTG', 'TCG', 'CCG', 'ACG', 'GCG', 'TAG', 'CAG', 'AAG', 'GAG', 'TGG', 'CGG', 'AGG', 'GGG')\n"
     ]
    }
   ],
   "source": [
    "dinuc_alphabet = DNA.alphabet.get_word_alphabet(2)\n",
    "print(dinuc_alphabet)\n",
    "trinuc_alphabet = DNA.alphabet.get_word_alphabet(3)\n",
    "print(trinuc_alphabet)"
   ]
  },
  {
   "cell_type": "code",
   "execution_count": 4,
   "id": "independent-portuguese",
   "metadata": {
    "execution": {
     "iopub.execute_input": "2021-09-30T04:31:08.323342Z",
     "iopub.status.busy": "2021-09-30T04:31:08.322811Z",
     "iopub.status.idle": "2021-09-30T04:31:08.325383Z",
     "shell.execute_reply": "2021-09-30T04:31:08.325754Z"
    }
   },
   "outputs": [
    {
     "data": {
      "text/plain": [
       "[0, 2, 3, 0]"
      ]
     },
     "execution_count": 4,
     "metadata": {},
     "output_type": "execute_result"
    }
   ],
   "source": [
    "seq = \"TAGT\"\n",
    "indices = DNA.alphabet.to_indices(seq)\n",
    "indices"
   ]
  },
  {
   "cell_type": "code",
   "execution_count": 5,
   "id": "measured-eight",
   "metadata": {
    "execution": {
     "iopub.execute_input": "2021-09-30T04:31:08.328875Z",
     "iopub.status.busy": "2021-09-30T04:31:08.328247Z",
     "iopub.status.idle": "2021-09-30T04:31:08.330478Z",
     "shell.execute_reply": "2021-09-30T04:31:08.330812Z"
    }
   },
   "outputs": [
    {
     "data": {
      "text/plain": [
       "['T', 'A', 'G', 'T']"
      ]
     },
     "execution_count": 5,
     "metadata": {},
     "output_type": "execute_result"
    }
   ],
   "source": [
    "seq = DNA.alphabet.from_indices([0, 2, 3, 0])\n",
    "seq"
   ]
  },
  {
   "cell_type": "code",
   "execution_count": 6,
   "id": "expressed-september",
   "metadata": {
    "execution": {
     "iopub.execute_input": "2021-09-30T04:31:08.334256Z",
     "iopub.status.busy": "2021-09-30T04:31:08.333694Z",
     "iopub.status.idle": "2021-09-30T04:31:08.335734Z",
     "shell.execute_reply": "2021-09-30T04:31:08.336122Z"
    }
   },
   "outputs": [
    {
     "data": {
      "text/html": [
       "<style>\n",
       ".c3seq td { border: none !important; text-align: left !important; }\n",
       ".c3seq tr:not(.num_row) td span {margin: 0 2px;}\n",
       ".c3seq tr:nth-child(even) {background: #f7f7f7;}\n",
       ".c3seq .num_row {background-color:rgba(161, 195, 209, 0.5) !important; border-top: solid 1px black; }\n",
       ".c3seq .label { font-size: 12pt ; text-align: right !important; color: black !important; padding: 0 4px; }\n",
       ".c3seq .T_dna{font-family: \"Lucida Console\",monospace !important; font-size: 12pt !important; color: blue; }\n",
       ".c3seq .C_dna{font-family: \"Lucida Console\",monospace !important; font-size: 12pt !important; color: black; }\n",
       ".c3seq .A_dna{font-family: \"Lucida Console\",monospace !important; font-size: 12pt !important; color: #FF0102; }\n",
       ".c3seq .G_dna{font-family: \"Lucida Console\",monospace !important; font-size: 12pt !important; color: green; }\n",
       ".c3seq .terminal_ambig_dna{font-family: \"Lucida Console\",monospace !important; font-size: 12pt !important; color: gray; }\n",
       ".c3seq .ambig_dna{font-family: \"Lucida Console\",monospace !important; font-size: 12pt !important; color: gray; }\n",
       "</style>\n",
       "<div class=\"c3seq\">\n",
       "<table>\n",
       "<tr class=\"num_row\"><td></td><td><b>0</b></td></tr>\n",
       "<tr><td class=\"label\">None</td><td><span class=\"T_dna\">T</span><span class=\"A_dna\">A</span><span class=\"G_dna\">G</span><span class=\"T_dna\">T</span></td></tr>\n",
       "</table>\n",
       "<p><i>4 DnaSequence</i></p>\n",
       "</div>"
      ],
      "text/plain": [
       "DnaSequence(TAGT)"
      ]
     },
     "execution_count": 6,
     "metadata": {},
     "output_type": "execute_result"
    }
   ],
   "source": [
    "seq = DNA.alphabet.from_ordinals_to_seq([0, 2, 3, 0])\n",
    "seq"
   ]
  }
 ],
 "metadata": {
  "kernelspec": {
   "display_name": "Python 3",
   "language": "python",
   "name": "python3"
  },
  "language_info": {
   "codemirror_mode": {
    "name": "ipython",
    "version": 3
   },
   "file_extension": ".py",
   "mimetype": "text/x-python",
   "name": "python",
   "nbconvert_exporter": "python",
   "pygments_lexer": "ipython3",
   "version": "3.9.0"
  }
 },
 "nbformat": 4,
 "nbformat_minor": 5
}