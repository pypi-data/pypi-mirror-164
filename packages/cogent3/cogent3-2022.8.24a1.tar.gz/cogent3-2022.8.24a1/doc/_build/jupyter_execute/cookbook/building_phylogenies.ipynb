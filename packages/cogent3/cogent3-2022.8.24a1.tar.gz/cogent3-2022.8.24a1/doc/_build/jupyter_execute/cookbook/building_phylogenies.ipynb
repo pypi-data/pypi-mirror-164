{
 "cells": [
  {
   "cell_type": "code",
   "execution_count": 1,
   "id": "rocky-perfume",
   "metadata": {
    "execution": {
     "iopub.execute_input": "2021-09-30T04:31:15.447235Z",
     "iopub.status.busy": "2021-09-30T04:31:15.446586Z",
     "iopub.status.idle": "2021-09-30T04:31:15.719817Z",
     "shell.execute_reply": "2021-09-30T04:31:15.720220Z"
    }
   },
   "outputs": [],
   "source": [
    "import set_working_directory"
   ]
  },
  {
   "cell_type": "code",
   "execution_count": 2,
   "id": "sized-alert",
   "metadata": {
    "execution": {
     "iopub.execute_input": "2021-09-30T04:31:15.724000Z",
     "iopub.status.busy": "2021-09-30T04:31:15.723440Z",
     "iopub.status.idle": "2021-09-30T04:31:16.342304Z",
     "shell.execute_reply": "2021-09-30T04:31:16.342720Z"
    }
   },
   "outputs": [
    {
     "name": "stdout",
     "output_type": "stream",
     "text": [
      "          /-Orangutan\n",
      "         |\n",
      "         |          /-Rhesus\n",
      "         |-edge.1--|\n",
      "-root----|         |          /-Galago\n",
      "         |          \\edge.0--|\n",
      "         |                    \\-HowlerMon\n",
      "         |\n",
      "         |          /-Chimpanzee\n",
      "          \\edge.2--|\n",
      "                   |          /-Gorilla\n",
      "                    \\edge.3--|\n",
      "                              \\-Human\n"
     ]
    }
   ],
   "source": [
    "from cogent3 import load_aligned_seqs\n",
    "\n",
    "aln = load_aligned_seqs(\"data/primate_brca1.fasta\", moltype=\"dna\")\n",
    "tree = aln.quick_tree(calc=\"TN93\", show_progress=False)\n",
    "tree = tree.balanced()  # purely for display\n",
    "print(tree.ascii_art())"
   ]
  },
  {
   "cell_type": "code",
   "execution_count": 3,
   "id": "ideal-attribute",
   "metadata": {
    "execution": {
     "iopub.execute_input": "2021-09-30T04:31:16.350077Z",
     "iopub.status.busy": "2021-09-30T04:31:16.349607Z",
     "iopub.status.idle": "2021-09-30T04:31:16.779014Z",
     "shell.execute_reply": "2021-09-30T04:31:16.779468Z"
    }
   },
   "outputs": [],
   "source": [
    "tree = aln.quick_tree(calc=\"TN93\", bootstrap=100, show_progress=False)"
   ]
  },
  {
   "cell_type": "code",
   "execution_count": 4,
   "id": "disciplinary-deployment",
   "metadata": {
    "execution": {
     "iopub.execute_input": "2021-09-30T04:31:16.782776Z",
     "iopub.status.busy": "2021-09-30T04:31:16.782308Z",
     "iopub.status.idle": "2021-09-30T04:31:16.792333Z",
     "shell.execute_reply": "2021-09-30T04:31:16.792662Z"
    }
   },
   "outputs": [
    {
     "name": "stdout",
     "output_type": "stream",
     "text": [
      "          /-Orangutan\n",
      "         |\n",
      "         |          /-Rhesus\n",
      "         |-edge.1--|\n",
      "-root----|         |          /-Galago\n",
      "         |          \\edge.0--|\n",
      "         |                    \\-HowlerMon\n",
      "         |\n",
      "         |          /-Chimpanzee\n",
      "          \\edge.2--|\n",
      "                   |          /-Gorilla\n",
      "                    \\edge.3--|\n",
      "                              \\-Human\n"
     ]
    }
   ],
   "source": [
    "from cogent3 import load_aligned_seqs\n",
    "\n",
    "aln = load_aligned_seqs(\"data/primate_brca1.fasta\", moltype=\"dna\")\n",
    "dists = aln.distance_matrix(calc=\"TN93\")\n",
    "tree = dists.quick_tree(show_progress=False)\n",
    "tree = tree.balanced()  # purely for display\n",
    "print(tree.ascii_art())"
   ]
  },
  {
   "cell_type": "code",
   "execution_count": 5,
   "id": "clean-organization",
   "metadata": {
    "execution": {
     "iopub.execute_input": "2021-09-30T04:31:16.795945Z",
     "iopub.status.busy": "2021-09-30T04:31:16.795473Z",
     "iopub.status.idle": "2021-09-30T04:31:16.804913Z",
     "shell.execute_reply": "2021-09-30T04:31:16.805235Z"
    }
   },
   "outputs": [
    {
     "name": "stdout",
     "output_type": "stream",
     "text": [
      "          /-Orangutan\n",
      "         |\n",
      "         |          /-Rhesus\n",
      "         |-edge.1--|\n",
      "-root----|         |          /-Galago\n",
      "         |          \\edge.0--|\n",
      "         |                    \\-HowlerMon\n",
      "         |\n",
      "         |          /-Chimpanzee\n",
      "          \\edge.2--|\n",
      "                   |          /-Gorilla\n",
      "                    \\edge.3--|\n",
      "                              \\-Human\n"
     ]
    }
   ],
   "source": [
    "from cogent3.phylo import nj\n",
    "from cogent3 import load_aligned_seqs\n",
    "\n",
    "aln = load_aligned_seqs(\"data/primate_brca1.fasta\", moltype=\"dna\")\n",
    "dists = aln.distance_matrix(calc=\"TN93\")\n",
    "tree = nj.nj(dists, show_progress=False)\n",
    "tree = tree.balanced()  # purely for display\n",
    "print(tree.ascii_art())"
   ]
  },
  {
   "cell_type": "code",
   "execution_count": 6,
   "id": "unexpected-turtle",
   "metadata": {
    "execution": {
     "iopub.execute_input": "2021-09-30T04:31:16.808542Z",
     "iopub.status.busy": "2021-09-30T04:31:16.808005Z",
     "iopub.status.idle": "2021-09-30T04:31:16.810536Z",
     "shell.execute_reply": "2021-09-30T04:31:16.810998Z"
    }
   },
   "outputs": [
    {
     "name": "stdout",
     "output_type": "stream",
     "text": [
      "          /-b\n",
      "         |\n",
      "-root----|--a\n",
      "         |\n",
      "          \\-c\n"
     ]
    }
   ],
   "source": [
    "from cogent3.phylo import nj\n",
    "\n",
    "dists = {(\"a\", \"b\"): 2.7, (\"c\", \"b\"): 2.33, (\"c\", \"a\"): 0.73}\n",
    "tree = nj.nj(dists, show_progress=False)\n",
    "print(tree.ascii_art())"
   ]
  },
  {
   "cell_type": "code",
   "execution_count": 7,
   "id": "independent-calcium",
   "metadata": {
    "execution": {
     "iopub.execute_input": "2021-09-30T04:31:16.814364Z",
     "iopub.status.busy": "2021-09-30T04:31:16.813907Z",
     "iopub.status.idle": "2021-09-30T04:31:17.158529Z",
     "shell.execute_reply": "2021-09-30T04:31:17.158934Z"
    }
   },
   "outputs": [],
   "source": [
    "from cogent3.util.deserialise import deserialise_object\n",
    "from cogent3.phylo.least_squares import WLS\n",
    "\n",
    "dists = deserialise_object(\"data/dists_for_phylo.json\")\n",
    "ls = WLS(dists)\n",
    "stat, tree = ls.trex(a=5, k=5, show_progress=False)"
   ]
  },
  {
   "cell_type": "code",
   "execution_count": 8,
   "id": "lasting-photography",
   "metadata": {
    "execution": {
     "iopub.execute_input": "2021-09-30T04:31:17.162745Z",
     "iopub.status.busy": "2021-09-30T04:31:17.162145Z",
     "iopub.status.idle": "2021-09-30T04:31:17.167964Z",
     "shell.execute_reply": "2021-09-30T04:31:17.168372Z"
    }
   },
   "outputs": [],
   "source": [
    "from cogent3 import load_aligned_seqs\n",
    "from cogent3.phylo.maximum_likelihood import ML\n",
    "from cogent3.evolve.models import F81\n",
    "\n",
    "aln = load_aligned_seqs(\"data/primate_brca1.fasta\")\n",
    "ml = ML(F81(), aln)"
   ]
  }
 ],
 "metadata": {
  "kernelspec": {
   "display_name": "Python 3",
   "language": "python",
   "name": "python3"
  },
  "language_info": {
   "codemirror_mode": {
    "name": "ipython",
    "version": 3
   },
   "file_extension": ".py",
   "mimetype": "text/x-python",
   "name": "python",
   "nbconvert_exporter": "python",
   "pygments_lexer": "ipython3",
   "version": "3.9.0"
  }
 },
 "nbformat": 4,
 "nbformat_minor": 5
}