{
 "cells": [
  {
   "cell_type": "code",
   "execution_count": 1,
   "id": "italian-study",
   "metadata": {
    "execution": {
     "iopub.execute_input": "2021-09-30T04:31:12.371587Z",
     "iopub.status.busy": "2021-09-30T04:31:12.370920Z",
     "iopub.status.idle": "2021-09-30T04:31:12.635269Z",
     "shell.execute_reply": "2021-09-30T04:31:12.635652Z"
    }
   },
   "outputs": [],
   "source": [
    "import set_working_directory"
   ]
  },
  {
   "cell_type": "code",
   "execution_count": 2,
   "id": "equal-marine",
   "metadata": {
    "execution": {
     "iopub.execute_input": "2021-09-30T04:31:12.638900Z",
     "iopub.status.busy": "2021-09-30T04:31:12.638352Z",
     "iopub.status.idle": "2021-09-30T04:31:13.202685Z",
     "shell.execute_reply": "2021-09-30T04:31:13.203133Z"
    }
   },
   "outputs": [],
   "source": [
    "from cogent3 import load_unaligned_seqs, make_tree\n",
    "from cogent3.align.progressive import TreeAlign"
   ]
  },
  {
   "cell_type": "code",
   "execution_count": 3,
   "id": "finnish-penetration",
   "metadata": {
    "execution": {
     "iopub.execute_input": "2021-09-30T04:31:13.206650Z",
     "iopub.status.busy": "2021-09-30T04:31:13.206028Z",
     "iopub.status.idle": "2021-09-30T04:31:13.508804Z",
     "shell.execute_reply": "2021-09-30T04:31:13.509325Z"
    }
   },
   "outputs": [
    {
     "data": {
      "text/html": [
       "<style>\n",
       ".c3align td { border: none !important; text-align: left !important; }\n",
       ".c3align tr:not(.num_row) td span {margin: 0 2px;}\n",
       ".c3align tr:nth-child(even) {background: #f7f7f7;}\n",
       ".c3align .num_row {background-color:rgba(161, 195, 209, 0.5) !important; border-top: solid 1px black; }\n",
       ".c3align .label { font-size: 12pt ; text-align: right !important; color: black !important; padding: 0 4px; display: table-cell !important; font-weight: normal !important; }\n",
       ".c3align .T_dna{font-family: \"Lucida Console\",monospace !important; font-size: 12pt !important; color: blue; }\n",
       ".c3align .C_dna{font-family: \"Lucida Console\",monospace !important; font-size: 12pt !important; color: black; }\n",
       ".c3align .A_dna{font-family: \"Lucida Console\",monospace !important; font-size: 12pt !important; color: #FF0102; }\n",
       ".c3align .G_dna{font-family: \"Lucida Console\",monospace !important; font-size: 12pt !important; color: green; }\n",
       ".c3align .terminal_ambig_dna{font-family: \"Lucida Console\",monospace !important; font-size: 12pt !important; color: gray; }\n",
       ".c3align .ambig_dna{font-family: \"Lucida Console\",monospace !important; font-size: 12pt !important; color: gray; }\n",
       "</style>\n",
       "<div class=\"c3align\">\n",
       "<table>\n",
       "<tr class=\"num_row\"><td></td><td><b>0</b></td></tr>\n",
       "<tr><td class=\"label\">DogFaced</td><td><span class=\"G_dna\">G</span><span class=\"C_dna\">C</span><span class=\"A_dna\">A</span><span class=\"A_dna\">A</span><span class=\"G_dna\">G</span><span class=\"G_dna\">G</span><span class=\"A_dna\">A</span><span class=\"G_dna\">G</span><span class=\"C_dna\">C</span><span class=\"C_dna\">C</span><span class=\"A_dna\">A</span><span class=\"G_dna\">G</span><span class=\"C_dna\">C</span><span class=\"A_dna\">A</span><span class=\"G_dna\">G</span><span class=\"A_dna\">A</span><span class=\"A_dna\">A</span><span class=\"C_dna\">C</span><span class=\"A_dna\">A</span><span class=\"G_dna\">G</span><span class=\"A_dna\">A</span><span class=\"T_dna\">T</span><span class=\"G_dna\">G</span><span class=\"G_dna\">G</span><span class=\"G_dna\">G</span><span class=\"T_dna\">T</span><span class=\"T_dna\">T</span><span class=\"G_dna\">G</span><span class=\"A_dna\">A</span><span class=\"A_dna\">A</span><span class=\"A_dna\">A</span><span class=\"C_dna\">C</span><span class=\"T_dna\">T</span><span class=\"A_dna\">A</span><span class=\"A_dna\">A</span><span class=\"G_dna\">G</span><span class=\"G_dna\">G</span><span class=\"A_dna\">A</span><span class=\"A_dna\">A</span><span class=\"A_dna\">A</span><span class=\"C_dna\">C</span><span class=\"A_dna\">A</span><span class=\"T_dna\">T</span><span class=\"G_dna\">G</span><span class=\"T_dna\">T</span><span class=\"A_dna\">A</span><span class=\"A_dna\">A</span><span class=\"T_dna\">T</span><span class=\"G_dna\">G</span><span class=\"A_dna\">A</span><span class=\"T_dna\">T</span><span class=\"A_dna\">A</span><span class=\"G_dna\">G</span><span class=\"G_dna\">G</span><span class=\"C_dna\">C</span><span class=\"A_dna\">A</span><span class=\"G_dna\">G</span><span class=\"A_dna\">A</span><span class=\"C_dna\">C</span><span class=\"T_dna\">T</span></td></tr>\n",
       "<tr><td class=\"label\">Mouse</td><td><span class=\"G_dna\">.</span><span class=\"C_dna\">.</span><span class=\"A_dna\">.</span><span class=\"G_dna\">G</span><span class=\"T_dna\">T</span><span class=\"G_dna\">.</span><span class=\"A_dna\">.</span><span class=\"G_dna\">.</span><span class=\"C_dna\">.</span><span class=\"C_dna\">.</span><span class=\"A_dna\">.</span><span class=\"G_dna\">.</span><span class=\"C_dna\">.</span><span class=\"A_dna\">.</span><span class=\"G_dna\">.</span><span class=\"A_dna\">.</span><span class=\"G_dna\">G</span><span class=\"C_dna\">.</span><span class=\"A_dna\">.</span><span class=\"G_dna\">.</span><span class=\"A_dna\">.</span><span class=\"T_dna\">.</span><span class=\"G_dna\">.</span><span class=\"G_dna\">.</span><span class=\"G_dna\">.</span><span class=\"C_dna\">C</span><span class=\"T_dna\">.</span><span class=\"G_dna\">.</span><span class=\"C_dna\">C</span><span class=\"A_dna\">.</span><span class=\"A_dna\">.</span><span class=\"G_dna\">G</span><span class=\"T_dna\">.</span><span class=\"A_dna\">.</span><span class=\"A_dna\">.</span><span class=\"A_dna\">A</span><span class=\"G_dna\">.</span><span class=\"G_dna\">G</span><span class=\"A_dna\">.</span><span class=\"A_dna\">.</span><span class=\"C_dna\">.</span><span class=\"A_dna\">.</span><span class=\"T_dna\">.</span><span class=\"G_dna\">.</span><span class=\"T_dna\">.</span><span class=\"A_dna\">.</span><span class=\"A_dna\">.</span><span class=\"C_dna\">C</span><span class=\"G_dna\">.</span><span class=\"A_dna\">.</span><span class=\"C_dna\">C</span><span class=\"A_dna\">.</span><span class=\"G_dna\">.</span><span class=\"G_dna\">.</span><span class=\"C_dna\">.</span><span class=\"A_dna\">.</span><span class=\"G_dna\">.</span><span class=\"G_dna\">G</span><span class=\"T_dna\">T</span><span class=\"T_dna\">.</span></td></tr>\n",
       "<tr><td class=\"label\">NineBande</td><td><span class=\"ambig_dna\">-</span><span class=\"C_dna\">.</span><span class=\"ambig_dna\">-</span><span class=\"ambig_dna\">-</span><span class=\"ambig_dna\">-</span><span class=\"ambig_dna\">-</span><span class=\"ambig_dna\">-</span><span class=\"G_dna\">.</span><span class=\"C_dna\">.</span><span class=\"C_dna\">.</span><span class=\"A_dna\">.</span><span class=\"A_dna\">A</span><span class=\"C_dna\">.</span><span class=\"A_dna\">.</span><span class=\"G_dna\">.</span><span class=\"A_dna\">.</span><span class=\"G_dna\">G</span><span class=\"C_dna\">.</span><span class=\"A_dna\">.</span><span class=\"G_dna\">.</span><span class=\"A_dna\">.</span><span class=\"T_dna\">.</span><span class=\"G_dna\">.</span><span class=\"G_dna\">.</span><span class=\"G_dna\">.</span><span class=\"C_dna\">C</span><span class=\"T_dna\">.</span><span class=\"G_dna\">.</span><span class=\"A_dna\">.</span><span class=\"A_dna\">.</span><span class=\"A_dna\">.</span><span class=\"G_dna\">G</span><span class=\"T_dna\">.</span><span class=\"A_dna\">.</span><span class=\"A_dna\">.</span><span class=\"G_dna\">.</span><span class=\"G_dna\">.</span><span class=\"A_dna\">.</span><span class=\"A_dna\">.</span><span class=\"A_dna\">.</span><span class=\"C_dna\">.</span><span class=\"A_dna\">.</span><span class=\"T_dna\">.</span><span class=\"G_dna\">.</span><span class=\"T_dna\">.</span><span class=\"A_dna\">.</span><span class=\"A_dna\">.</span><span class=\"T_dna\">.</span><span class=\"G_dna\">.</span><span class=\"A_dna\">.</span><span class=\"T_dna\">.</span><span class=\"A_dna\">.</span><span class=\"G_dna\">.</span><span class=\"G_dna\">.</span><span class=\"C_dna\">.</span><span class=\"A_dna\">.</span><span class=\"G_dna\">.</span><span class=\"A_dna\">.</span><span class=\"C_dna\">.</span><span class=\"T_dna\">.</span></td></tr>\n",
       "<tr><td class=\"label\">HowlerMon</td><td><span class=\"G_dna\">.</span><span class=\"C_dna\">.</span><span class=\"A_dna\">.</span><span class=\"A_dna\">.</span><span class=\"G_dna\">.</span><span class=\"G_dna\">.</span><span class=\"A_dna\">.</span><span class=\"G_dna\">.</span><span class=\"C_dna\">.</span><span class=\"C_dna\">.</span><span class=\"A_dna\">.</span><span class=\"A_dna\">A</span><span class=\"C_dna\">.</span><span class=\"A_dna\">.</span><span class=\"T_dna\">T</span><span class=\"A_dna\">.</span><span class=\"A_dna\">.</span><span class=\"C_dna\">.</span><span class=\"A_dna\">.</span><span class=\"G_dna\">.</span><span class=\"A_dna\">.</span><span class=\"T_dna\">.</span><span class=\"G_dna\">.</span><span class=\"G_dna\">.</span><span class=\"G_dna\">.</span><span class=\"C_dna\">C</span><span class=\"T_dna\">.</span><span class=\"G_dna\">.</span><span class=\"A_dna\">.</span><span class=\"A_dna\">.</span><span class=\"A_dna\">.</span><span class=\"G_dna\">G</span><span class=\"T_dna\">.</span><span class=\"G_dna\">G</span><span class=\"A_dna\">.</span><span class=\"G_dna\">.</span><span class=\"G_dna\">.</span><span class=\"A_dna\">.</span><span class=\"A_dna\">.</span><span class=\"A_dna\">.</span><span class=\"C_dna\">.</span><span class=\"A_dna\">.</span><span class=\"T_dna\">.</span><span class=\"G_dna\">.</span><span class=\"T_dna\">.</span><span class=\"A_dna\">.</span><span class=\"A_dna\">.</span><span class=\"T_dna\">.</span><span class=\"G_dna\">.</span><span class=\"A_dna\">.</span><span class=\"T_dna\">.</span><span class=\"A_dna\">.</span><span class=\"G_dna\">.</span><span class=\"G_dna\">.</span><span class=\"C_dna\">.</span><span class=\"A_dna\">.</span><span class=\"G_dna\">.</span><span class=\"A_dna\">.</span><span class=\"C_dna\">.</span><span class=\"T_dna\">.</span></td></tr>\n",
       "<tr><td class=\"label\">Human</td><td><span class=\"G_dna\">.</span><span class=\"C_dna\">.</span><span class=\"A_dna\">.</span><span class=\"A_dna\">.</span><span class=\"G_dna\">.</span><span class=\"G_dna\">.</span><span class=\"A_dna\">.</span><span class=\"G_dna\">.</span><span class=\"C_dna\">.</span><span class=\"C_dna\">.</span><span class=\"A_dna\">.</span><span class=\"A_dna\">A</span><span class=\"C_dna\">.</span><span class=\"A_dna\">.</span><span class=\"T_dna\">T</span><span class=\"A_dna\">.</span><span class=\"A_dna\">.</span><span class=\"C_dna\">.</span><span class=\"A_dna\">.</span><span class=\"G_dna\">.</span><span class=\"A_dna\">.</span><span class=\"T_dna\">.</span><span class=\"G_dna\">.</span><span class=\"G_dna\">.</span><span class=\"G_dna\">.</span><span class=\"C_dna\">C</span><span class=\"T_dna\">.</span><span class=\"G_dna\">.</span><span class=\"G_dna\">G</span><span class=\"A_dna\">.</span><span class=\"A_dna\">.</span><span class=\"G_dna\">G</span><span class=\"T_dna\">.</span><span class=\"A_dna\">.</span><span class=\"A_dna\">.</span><span class=\"G_dna\">.</span><span class=\"G_dna\">.</span><span class=\"A_dna\">.</span><span class=\"A_dna\">.</span><span class=\"A_dna\">.</span><span class=\"C_dna\">.</span><span class=\"A_dna\">.</span><span class=\"T_dna\">.</span><span class=\"G_dna\">.</span><span class=\"T_dna\">.</span><span class=\"A_dna\">.</span><span class=\"A_dna\">.</span><span class=\"T_dna\">.</span><span class=\"G_dna\">.</span><span class=\"A_dna\">.</span><span class=\"T_dna\">.</span><span class=\"A_dna\">.</span><span class=\"G_dna\">.</span><span class=\"G_dna\">.</span><span class=\"C_dna\">.</span><span class=\"G_dna\">G</span><span class=\"G_dna\">.</span><span class=\"A_dna\">.</span><span class=\"C_dna\">.</span><span class=\"T_dna\">.</span></td></tr>\n",
       "</table>\n",
       "<p><i>5 x 60 dna alignment</i></p>\n",
       "</div>"
      ],
      "text/plain": [
       "5 x 60 dna alignment: DogFaced[GCAAGGAGCCA...], Mouse[GCAGTGAGCCA...], NineBande[-C-----GCCA...], ..."
      ]
     },
     "execution_count": 3,
     "metadata": {},
     "output_type": "execute_result"
    }
   ],
   "source": [
    "seqs = load_unaligned_seqs(\"data/test2.fasta\", moltype=\"dna\")\n",
    "aln, tree = TreeAlign(\"HKY85\", seqs, show_progress=False)\n",
    "aln"
   ]
  },
  {
   "cell_type": "code",
   "execution_count": 4,
   "id": "angry-interaction",
   "metadata": {
    "execution": {
     "iopub.execute_input": "2021-09-30T04:31:13.522070Z",
     "iopub.status.busy": "2021-09-30T04:31:13.521250Z",
     "iopub.status.idle": "2021-09-30T04:31:13.535494Z",
     "shell.execute_reply": "2021-09-30T04:31:13.536268Z"
    }
   },
   "outputs": [
    {
     "data": {
      "text/html": [
       "<style>\n",
       ".c3align td { border: none !important; text-align: left !important; }\n",
       ".c3align tr:not(.num_row) td span {margin: 0 2px;}\n",
       ".c3align tr:nth-child(even) {background: #f7f7f7;}\n",
       ".c3align .num_row {background-color:rgba(161, 195, 209, 0.5) !important; border-top: solid 1px black; }\n",
       ".c3align .label { font-size: 12pt ; text-align: right !important; color: black !important; padding: 0 4px; display: table-cell !important; font-weight: normal !important; }\n",
       ".c3align .T_dna{font-family: \"Lucida Console\",monospace !important; font-size: 12pt !important; color: blue; }\n",
       ".c3align .C_dna{font-family: \"Lucida Console\",monospace !important; font-size: 12pt !important; color: black; }\n",
       ".c3align .A_dna{font-family: \"Lucida Console\",monospace !important; font-size: 12pt !important; color: #FF0102; }\n",
       ".c3align .G_dna{font-family: \"Lucida Console\",monospace !important; font-size: 12pt !important; color: green; }\n",
       ".c3align .terminal_ambig_dna{font-family: \"Lucida Console\",monospace !important; font-size: 12pt !important; color: gray; }\n",
       ".c3align .ambig_dna{font-family: \"Lucida Console\",monospace !important; font-size: 12pt !important; color: gray; }\n",
       "</style>\n",
       "<div class=\"c3align\">\n",
       "<table>\n",
       "<tr class=\"num_row\"><td></td><td><b>0</b></td></tr>\n",
       "<tr><td class=\"label\">DogFaced</td><td><span class=\"G_dna\">G</span><span class=\"C_dna\">C</span><span class=\"A_dna\">A</span><span class=\"A_dna\">A</span><span class=\"G_dna\">G</span><span class=\"G_dna\">G</span><span class=\"A_dna\">A</span><span class=\"G_dna\">G</span><span class=\"C_dna\">C</span><span class=\"C_dna\">C</span><span class=\"A_dna\">A</span><span class=\"G_dna\">G</span><span class=\"C_dna\">C</span><span class=\"A_dna\">A</span><span class=\"G_dna\">G</span><span class=\"A_dna\">A</span><span class=\"A_dna\">A</span><span class=\"C_dna\">C</span><span class=\"A_dna\">A</span><span class=\"G_dna\">G</span><span class=\"A_dna\">A</span><span class=\"T_dna\">T</span><span class=\"G_dna\">G</span><span class=\"G_dna\">G</span><span class=\"G_dna\">G</span><span class=\"T_dna\">T</span><span class=\"T_dna\">T</span><span class=\"G_dna\">G</span><span class=\"A_dna\">A</span><span class=\"A_dna\">A</span><span class=\"A_dna\">A</span><span class=\"C_dna\">C</span><span class=\"T_dna\">T</span><span class=\"A_dna\">A</span><span class=\"A_dna\">A</span><span class=\"G_dna\">G</span><span class=\"G_dna\">G</span><span class=\"A_dna\">A</span><span class=\"A_dna\">A</span><span class=\"A_dna\">A</span><span class=\"C_dna\">C</span><span class=\"A_dna\">A</span><span class=\"T_dna\">T</span><span class=\"G_dna\">G</span><span class=\"T_dna\">T</span><span class=\"A_dna\">A</span><span class=\"A_dna\">A</span><span class=\"T_dna\">T</span><span class=\"G_dna\">G</span><span class=\"A_dna\">A</span><span class=\"T_dna\">T</span><span class=\"A_dna\">A</span><span class=\"G_dna\">G</span><span class=\"G_dna\">G</span><span class=\"C_dna\">C</span><span class=\"A_dna\">A</span><span class=\"G_dna\">G</span><span class=\"A_dna\">A</span><span class=\"C_dna\">C</span><span class=\"T_dna\">T</span></td></tr>\n",
       "<tr><td class=\"label\">NineBande</td><td><span class=\"ambig_dna\">-</span><span class=\"C_dna\">.</span><span class=\"ambig_dna\">-</span><span class=\"ambig_dna\">-</span><span class=\"ambig_dna\">-</span><span class=\"ambig_dna\">-</span><span class=\"ambig_dna\">-</span><span class=\"G_dna\">.</span><span class=\"C_dna\">.</span><span class=\"C_dna\">.</span><span class=\"A_dna\">.</span><span class=\"A_dna\">A</span><span class=\"C_dna\">.</span><span class=\"A_dna\">.</span><span class=\"G_dna\">.</span><span class=\"A_dna\">.</span><span class=\"G_dna\">G</span><span class=\"C_dna\">.</span><span class=\"A_dna\">.</span><span class=\"G_dna\">.</span><span class=\"A_dna\">.</span><span class=\"T_dna\">.</span><span class=\"G_dna\">.</span><span class=\"G_dna\">.</span><span class=\"G_dna\">.</span><span class=\"C_dna\">C</span><span class=\"T_dna\">.</span><span class=\"G_dna\">.</span><span class=\"A_dna\">.</span><span class=\"A_dna\">.</span><span class=\"A_dna\">.</span><span class=\"G_dna\">G</span><span class=\"T_dna\">.</span><span class=\"A_dna\">.</span><span class=\"A_dna\">.</span><span class=\"G_dna\">.</span><span class=\"G_dna\">.</span><span class=\"A_dna\">.</span><span class=\"A_dna\">.</span><span class=\"A_dna\">.</span><span class=\"C_dna\">.</span><span class=\"A_dna\">.</span><span class=\"T_dna\">.</span><span class=\"G_dna\">.</span><span class=\"T_dna\">.</span><span class=\"A_dna\">.</span><span class=\"A_dna\">.</span><span class=\"T_dna\">.</span><span class=\"G_dna\">.</span><span class=\"A_dna\">.</span><span class=\"T_dna\">.</span><span class=\"A_dna\">.</span><span class=\"G_dna\">.</span><span class=\"G_dna\">.</span><span class=\"C_dna\">.</span><span class=\"A_dna\">.</span><span class=\"G_dna\">.</span><span class=\"A_dna\">.</span><span class=\"C_dna\">.</span><span class=\"T_dna\">.</span></td></tr>\n",
       "<tr><td class=\"label\">Mouse</td><td><span class=\"G_dna\">.</span><span class=\"C_dna\">.</span><span class=\"A_dna\">.</span><span class=\"G_dna\">G</span><span class=\"T_dna\">T</span><span class=\"G_dna\">.</span><span class=\"A_dna\">.</span><span class=\"G_dna\">.</span><span class=\"C_dna\">.</span><span class=\"C_dna\">.</span><span class=\"A_dna\">.</span><span class=\"G_dna\">.</span><span class=\"C_dna\">.</span><span class=\"A_dna\">.</span><span class=\"G_dna\">.</span><span class=\"A_dna\">.</span><span class=\"G_dna\">G</span><span class=\"C_dna\">.</span><span class=\"A_dna\">.</span><span class=\"G_dna\">.</span><span class=\"A_dna\">.</span><span class=\"T_dna\">.</span><span class=\"G_dna\">.</span><span class=\"G_dna\">.</span><span class=\"G_dna\">.</span><span class=\"C_dna\">C</span><span class=\"T_dna\">.</span><span class=\"G_dna\">.</span><span class=\"C_dna\">C</span><span class=\"A_dna\">.</span><span class=\"A_dna\">.</span><span class=\"G_dna\">G</span><span class=\"T_dna\">.</span><span class=\"A_dna\">.</span><span class=\"A_dna\">.</span><span class=\"A_dna\">A</span><span class=\"G_dna\">.</span><span class=\"G_dna\">G</span><span class=\"A_dna\">.</span><span class=\"A_dna\">.</span><span class=\"C_dna\">.</span><span class=\"A_dna\">.</span><span class=\"T_dna\">.</span><span class=\"G_dna\">.</span><span class=\"T_dna\">.</span><span class=\"A_dna\">.</span><span class=\"A_dna\">.</span><span class=\"C_dna\">C</span><span class=\"G_dna\">.</span><span class=\"A_dna\">.</span><span class=\"C_dna\">C</span><span class=\"A_dna\">.</span><span class=\"G_dna\">.</span><span class=\"G_dna\">.</span><span class=\"C_dna\">.</span><span class=\"A_dna\">.</span><span class=\"G_dna\">.</span><span class=\"G_dna\">G</span><span class=\"T_dna\">T</span><span class=\"T_dna\">.</span></td></tr>\n",
       "<tr><td class=\"label\">Human</td><td><span class=\"G_dna\">.</span><span class=\"C_dna\">.</span><span class=\"A_dna\">.</span><span class=\"A_dna\">.</span><span class=\"G_dna\">.</span><span class=\"G_dna\">.</span><span class=\"A_dna\">.</span><span class=\"G_dna\">.</span><span class=\"C_dna\">.</span><span class=\"C_dna\">.</span><span class=\"A_dna\">.</span><span class=\"A_dna\">A</span><span class=\"C_dna\">.</span><span class=\"A_dna\">.</span><span class=\"T_dna\">T</span><span class=\"A_dna\">.</span><span class=\"A_dna\">.</span><span class=\"C_dna\">.</span><span class=\"A_dna\">.</span><span class=\"G_dna\">.</span><span class=\"A_dna\">.</span><span class=\"T_dna\">.</span><span class=\"G_dna\">.</span><span class=\"G_dna\">.</span><span class=\"G_dna\">.</span><span class=\"C_dna\">C</span><span class=\"T_dna\">.</span><span class=\"G_dna\">.</span><span class=\"G_dna\">G</span><span class=\"A_dna\">.</span><span class=\"A_dna\">.</span><span class=\"G_dna\">G</span><span class=\"T_dna\">.</span><span class=\"A_dna\">.</span><span class=\"A_dna\">.</span><span class=\"G_dna\">.</span><span class=\"G_dna\">.</span><span class=\"A_dna\">.</span><span class=\"A_dna\">.</span><span class=\"A_dna\">.</span><span class=\"C_dna\">.</span><span class=\"A_dna\">.</span><span class=\"T_dna\">.</span><span class=\"G_dna\">.</span><span class=\"T_dna\">.</span><span class=\"A_dna\">.</span><span class=\"A_dna\">.</span><span class=\"T_dna\">.</span><span class=\"G_dna\">.</span><span class=\"A_dna\">.</span><span class=\"T_dna\">.</span><span class=\"A_dna\">.</span><span class=\"G_dna\">.</span><span class=\"G_dna\">.</span><span class=\"C_dna\">.</span><span class=\"G_dna\">G</span><span class=\"G_dna\">.</span><span class=\"A_dna\">.</span><span class=\"C_dna\">.</span><span class=\"T_dna\">.</span></td></tr>\n",
       "<tr><td class=\"label\">HowlerMon</td><td><span class=\"G_dna\">.</span><span class=\"C_dna\">.</span><span class=\"A_dna\">.</span><span class=\"A_dna\">.</span><span class=\"G_dna\">.</span><span class=\"G_dna\">.</span><span class=\"A_dna\">.</span><span class=\"G_dna\">.</span><span class=\"C_dna\">.</span><span class=\"C_dna\">.</span><span class=\"A_dna\">.</span><span class=\"A_dna\">A</span><span class=\"C_dna\">.</span><span class=\"A_dna\">.</span><span class=\"T_dna\">T</span><span class=\"A_dna\">.</span><span class=\"A_dna\">.</span><span class=\"C_dna\">.</span><span class=\"A_dna\">.</span><span class=\"G_dna\">.</span><span class=\"A_dna\">.</span><span class=\"T_dna\">.</span><span class=\"G_dna\">.</span><span class=\"G_dna\">.</span><span class=\"G_dna\">.</span><span class=\"C_dna\">C</span><span class=\"T_dna\">.</span><span class=\"G_dna\">.</span><span class=\"A_dna\">.</span><span class=\"A_dna\">.</span><span class=\"A_dna\">.</span><span class=\"G_dna\">G</span><span class=\"T_dna\">.</span><span class=\"G_dna\">G</span><span class=\"A_dna\">.</span><span class=\"G_dna\">.</span><span class=\"G_dna\">.</span><span class=\"A_dna\">.</span><span class=\"A_dna\">.</span><span class=\"A_dna\">.</span><span class=\"C_dna\">.</span><span class=\"A_dna\">.</span><span class=\"T_dna\">.</span><span class=\"G_dna\">.</span><span class=\"T_dna\">.</span><span class=\"A_dna\">.</span><span class=\"A_dna\">.</span><span class=\"T_dna\">.</span><span class=\"G_dna\">.</span><span class=\"A_dna\">.</span><span class=\"T_dna\">.</span><span class=\"A_dna\">.</span><span class=\"G_dna\">.</span><span class=\"G_dna\">.</span><span class=\"C_dna\">.</span><span class=\"A_dna\">.</span><span class=\"G_dna\">.</span><span class=\"A_dna\">.</span><span class=\"C_dna\">.</span><span class=\"T_dna\">.</span></td></tr>\n",
       "</table>\n",
       "<p><i>5 x 60 dna alignment</i></p>\n",
       "</div>"
      ],
      "text/plain": [
       "5 x 60 dna alignment: NineBande[-C-----GCCA...], Mouse[GCAGTGAGCCA...], DogFaced[GCAAGGAGCCA...], ..."
      ]
     },
     "execution_count": 4,
     "metadata": {},
     "output_type": "execute_result"
    }
   ],
   "source": [
    "tree = make_tree(\n",
    "    \"(((NineBande:0.013,Mouse:0.185):0.023,DogFaced:0.046):0.027,Human:0.034,HowlerMon:0.019)\"\n",
    ")\n",
    "params = {\"kappa\": 4.0}\n",
    "aln, tree = TreeAlign(\n",
    "    \"HKY85\", seqs, tree=tree, param_vals=params, show_progress=False\n",
    ")\n",
    "aln"
   ]
  },
  {
   "cell_type": "code",
   "execution_count": 5,
   "id": "ahead-corner",
   "metadata": {
    "execution": {
     "iopub.execute_input": "2021-09-30T04:31:13.540974Z",
     "iopub.status.busy": "2021-09-30T04:31:13.540234Z",
     "iopub.status.idle": "2021-09-30T04:31:14.063940Z",
     "shell.execute_reply": "2021-09-30T04:31:14.064398Z"
    }
   },
   "outputs": [
    {
     "data": {
      "text/html": [
       "<style>\n",
       ".c3align td { border: none !important; text-align: left !important; }\n",
       ".c3align tr:not(.num_row) td span {margin: 0 2px;}\n",
       ".c3align tr:nth-child(even) {background: #f7f7f7;}\n",
       ".c3align .num_row {background-color:rgba(161, 195, 209, 0.5) !important; border-top: solid 1px black; }\n",
       ".c3align .label { font-size: 12pt ; text-align: right !important; color: black !important; padding: 0 4px; display: table-cell !important; font-weight: normal !important; }\n",
       ".c3align .T_dna{font-family: \"Lucida Console\",monospace !important; font-size: 12pt !important; color: blue; }\n",
       ".c3align .C_dna{font-family: \"Lucida Console\",monospace !important; font-size: 12pt !important; color: black; }\n",
       ".c3align .A_dna{font-family: \"Lucida Console\",monospace !important; font-size: 12pt !important; color: #FF0102; }\n",
       ".c3align .G_dna{font-family: \"Lucida Console\",monospace !important; font-size: 12pt !important; color: green; }\n",
       ".c3align .terminal_ambig_dna{font-family: \"Lucida Console\",monospace !important; font-size: 12pt !important; color: gray; }\n",
       ".c3align .ambig_dna{font-family: \"Lucida Console\",monospace !important; font-size: 12pt !important; color: gray; }\n",
       "</style>\n",
       "<div class=\"c3align\">\n",
       "<table>\n",
       "<tr class=\"num_row\"><td></td><td><b>0</b></td></tr>\n",
       "<tr><td class=\"label\">DogFaced</td><td><span class=\"G_dna\">G</span><span class=\"C_dna\">C</span><span class=\"A_dna\">A</span><span class=\"A_dna\">A</span><span class=\"G_dna\">G</span><span class=\"G_dna\">G</span><span class=\"A_dna\">A</span><span class=\"G_dna\">G</span><span class=\"C_dna\">C</span><span class=\"C_dna\">C</span><span class=\"A_dna\">A</span><span class=\"G_dna\">G</span><span class=\"C_dna\">C</span><span class=\"A_dna\">A</span><span class=\"G_dna\">G</span><span class=\"A_dna\">A</span><span class=\"A_dna\">A</span><span class=\"C_dna\">C</span><span class=\"A_dna\">A</span><span class=\"G_dna\">G</span><span class=\"A_dna\">A</span><span class=\"T_dna\">T</span><span class=\"G_dna\">G</span><span class=\"G_dna\">G</span><span class=\"G_dna\">G</span><span class=\"T_dna\">T</span><span class=\"T_dna\">T</span><span class=\"G_dna\">G</span><span class=\"A_dna\">A</span><span class=\"A_dna\">A</span><span class=\"A_dna\">A</span><span class=\"C_dna\">C</span><span class=\"T_dna\">T</span><span class=\"A_dna\">A</span><span class=\"A_dna\">A</span><span class=\"G_dna\">G</span><span class=\"G_dna\">G</span><span class=\"A_dna\">A</span><span class=\"A_dna\">A</span><span class=\"A_dna\">A</span><span class=\"C_dna\">C</span><span class=\"A_dna\">A</span><span class=\"T_dna\">T</span><span class=\"G_dna\">G</span><span class=\"T_dna\">T</span><span class=\"A_dna\">A</span><span class=\"A_dna\">A</span><span class=\"T_dna\">T</span><span class=\"G_dna\">G</span><span class=\"A_dna\">A</span><span class=\"T_dna\">T</span><span class=\"A_dna\">A</span><span class=\"G_dna\">G</span><span class=\"G_dna\">G</span><span class=\"C_dna\">C</span><span class=\"A_dna\">A</span><span class=\"G_dna\">G</span><span class=\"A_dna\">A</span><span class=\"C_dna\">C</span><span class=\"T_dna\">T</span></td></tr>\n",
       "<tr><td class=\"label\">NineBande</td><td><span class=\"ambig_dna\">-</span><span class=\"ambig_dna\">-</span><span class=\"ambig_dna\">-</span><span class=\"ambig_dna\">-</span><span class=\"ambig_dna\">-</span><span class=\"ambig_dna\">-</span><span class=\"C_dna\">C</span><span class=\"G_dna\">.</span><span class=\"C_dna\">.</span><span class=\"C_dna\">.</span><span class=\"A_dna\">.</span><span class=\"A_dna\">A</span><span class=\"C_dna\">.</span><span class=\"A_dna\">.</span><span class=\"G_dna\">.</span><span class=\"A_dna\">.</span><span class=\"G_dna\">G</span><span class=\"C_dna\">.</span><span class=\"A_dna\">.</span><span class=\"G_dna\">.</span><span class=\"A_dna\">.</span><span class=\"T_dna\">.</span><span class=\"G_dna\">.</span><span class=\"G_dna\">.</span><span class=\"G_dna\">.</span><span class=\"C_dna\">C</span><span class=\"T_dna\">.</span><span class=\"G_dna\">.</span><span class=\"A_dna\">.</span><span class=\"A_dna\">.</span><span class=\"A_dna\">.</span><span class=\"G_dna\">G</span><span class=\"T_dna\">.</span><span class=\"A_dna\">.</span><span class=\"A_dna\">.</span><span class=\"G_dna\">.</span><span class=\"G_dna\">.</span><span class=\"A_dna\">.</span><span class=\"A_dna\">.</span><span class=\"A_dna\">.</span><span class=\"C_dna\">.</span><span class=\"A_dna\">.</span><span class=\"T_dna\">.</span><span class=\"G_dna\">.</span><span class=\"T_dna\">.</span><span class=\"A_dna\">.</span><span class=\"A_dna\">.</span><span class=\"T_dna\">.</span><span class=\"G_dna\">.</span><span class=\"A_dna\">.</span><span class=\"T_dna\">.</span><span class=\"A_dna\">.</span><span class=\"G_dna\">.</span><span class=\"G_dna\">.</span><span class=\"C_dna\">.</span><span class=\"A_dna\">.</span><span class=\"G_dna\">.</span><span class=\"A_dna\">.</span><span class=\"C_dna\">.</span><span class=\"T_dna\">.</span></td></tr>\n",
       "<tr><td class=\"label\">Mouse</td><td><span class=\"G_dna\">.</span><span class=\"C_dna\">.</span><span class=\"A_dna\">.</span><span class=\"G_dna\">G</span><span class=\"T_dna\">T</span><span class=\"G_dna\">.</span><span class=\"A_dna\">.</span><span class=\"G_dna\">.</span><span class=\"C_dna\">.</span><span class=\"C_dna\">.</span><span class=\"A_dna\">.</span><span class=\"G_dna\">.</span><span class=\"C_dna\">.</span><span class=\"A_dna\">.</span><span class=\"G_dna\">.</span><span class=\"A_dna\">.</span><span class=\"G_dna\">G</span><span class=\"C_dna\">.</span><span class=\"A_dna\">.</span><span class=\"G_dna\">.</span><span class=\"A_dna\">.</span><span class=\"T_dna\">.</span><span class=\"G_dna\">.</span><span class=\"G_dna\">.</span><span class=\"G_dna\">.</span><span class=\"C_dna\">C</span><span class=\"T_dna\">.</span><span class=\"G_dna\">.</span><span class=\"C_dna\">C</span><span class=\"A_dna\">.</span><span class=\"A_dna\">.</span><span class=\"G_dna\">G</span><span class=\"T_dna\">.</span><span class=\"A_dna\">.</span><span class=\"A_dna\">.</span><span class=\"A_dna\">A</span><span class=\"G_dna\">.</span><span class=\"G_dna\">G</span><span class=\"A_dna\">.</span><span class=\"A_dna\">.</span><span class=\"C_dna\">.</span><span class=\"A_dna\">.</span><span class=\"T_dna\">.</span><span class=\"G_dna\">.</span><span class=\"T_dna\">.</span><span class=\"A_dna\">.</span><span class=\"A_dna\">.</span><span class=\"C_dna\">C</span><span class=\"G_dna\">.</span><span class=\"A_dna\">.</span><span class=\"C_dna\">C</span><span class=\"A_dna\">.</span><span class=\"G_dna\">.</span><span class=\"G_dna\">.</span><span class=\"C_dna\">.</span><span class=\"A_dna\">.</span><span class=\"G_dna\">.</span><span class=\"G_dna\">G</span><span class=\"T_dna\">T</span><span class=\"T_dna\">.</span></td></tr>\n",
       "<tr><td class=\"label\">HowlerMon</td><td><span class=\"G_dna\">.</span><span class=\"C_dna\">.</span><span class=\"A_dna\">.</span><span class=\"A_dna\">.</span><span class=\"G_dna\">.</span><span class=\"G_dna\">.</span><span class=\"A_dna\">.</span><span class=\"G_dna\">.</span><span class=\"C_dna\">.</span><span class=\"C_dna\">.</span><span class=\"A_dna\">.</span><span class=\"A_dna\">A</span><span class=\"C_dna\">.</span><span class=\"A_dna\">.</span><span class=\"T_dna\">T</span><span class=\"A_dna\">.</span><span class=\"A_dna\">.</span><span class=\"C_dna\">.</span><span class=\"A_dna\">.</span><span class=\"G_dna\">.</span><span class=\"A_dna\">.</span><span class=\"T_dna\">.</span><span class=\"G_dna\">.</span><span class=\"G_dna\">.</span><span class=\"G_dna\">.</span><span class=\"C_dna\">C</span><span class=\"T_dna\">.</span><span class=\"G_dna\">.</span><span class=\"A_dna\">.</span><span class=\"A_dna\">.</span><span class=\"A_dna\">.</span><span class=\"G_dna\">G</span><span class=\"T_dna\">.</span><span class=\"G_dna\">G</span><span class=\"A_dna\">.</span><span class=\"G_dna\">.</span><span class=\"G_dna\">.</span><span class=\"A_dna\">.</span><span class=\"A_dna\">.</span><span class=\"A_dna\">.</span><span class=\"C_dna\">.</span><span class=\"A_dna\">.</span><span class=\"T_dna\">.</span><span class=\"G_dna\">.</span><span class=\"T_dna\">.</span><span class=\"A_dna\">.</span><span class=\"A_dna\">.</span><span class=\"T_dna\">.</span><span class=\"G_dna\">.</span><span class=\"A_dna\">.</span><span class=\"T_dna\">.</span><span class=\"A_dna\">.</span><span class=\"G_dna\">.</span><span class=\"G_dna\">.</span><span class=\"C_dna\">.</span><span class=\"A_dna\">.</span><span class=\"G_dna\">.</span><span class=\"A_dna\">.</span><span class=\"C_dna\">.</span><span class=\"T_dna\">.</span></td></tr>\n",
       "<tr><td class=\"label\">Human</td><td><span class=\"G_dna\">.</span><span class=\"C_dna\">.</span><span class=\"A_dna\">.</span><span class=\"A_dna\">.</span><span class=\"G_dna\">.</span><span class=\"G_dna\">.</span><span class=\"A_dna\">.</span><span class=\"G_dna\">.</span><span class=\"C_dna\">.</span><span class=\"C_dna\">.</span><span class=\"A_dna\">.</span><span class=\"A_dna\">A</span><span class=\"C_dna\">.</span><span class=\"A_dna\">.</span><span class=\"T_dna\">T</span><span class=\"A_dna\">.</span><span class=\"A_dna\">.</span><span class=\"C_dna\">.</span><span class=\"A_dna\">.</span><span class=\"G_dna\">.</span><span class=\"A_dna\">.</span><span class=\"T_dna\">.</span><span class=\"G_dna\">.</span><span class=\"G_dna\">.</span><span class=\"G_dna\">.</span><span class=\"C_dna\">C</span><span class=\"T_dna\">.</span><span class=\"G_dna\">.</span><span class=\"G_dna\">G</span><span class=\"A_dna\">.</span><span class=\"A_dna\">.</span><span class=\"G_dna\">G</span><span class=\"T_dna\">.</span><span class=\"A_dna\">.</span><span class=\"A_dna\">.</span><span class=\"G_dna\">.</span><span class=\"G_dna\">.</span><span class=\"A_dna\">.</span><span class=\"A_dna\">.</span><span class=\"A_dna\">.</span><span class=\"C_dna\">.</span><span class=\"A_dna\">.</span><span class=\"T_dna\">.</span><span class=\"G_dna\">.</span><span class=\"T_dna\">.</span><span class=\"A_dna\">.</span><span class=\"A_dna\">.</span><span class=\"T_dna\">.</span><span class=\"G_dna\">.</span><span class=\"A_dna\">.</span><span class=\"T_dna\">.</span><span class=\"A_dna\">.</span><span class=\"G_dna\">.</span><span class=\"G_dna\">.</span><span class=\"C_dna\">.</span><span class=\"G_dna\">G</span><span class=\"G_dna\">.</span><span class=\"A_dna\">.</span><span class=\"C_dna\">.</span><span class=\"T_dna\">.</span></td></tr>\n",
       "</table>\n",
       "<p><i>5 x 60 dna alignment</i></p>\n",
       "</div>"
      ],
      "text/plain": [
       "5 x 60 dna alignment: NineBande[------CGCCA...], Mouse[GCAGTGAGCCA...], DogFaced[GCAAGGAGCCA...], ..."
      ]
     },
     "execution_count": 5,
     "metadata": {},
     "output_type": "execute_result"
    }
   ],
   "source": [
    "from cogent3 import load_unaligned_seqs, make_tree\n",
    "from cogent3.align.progressive import TreeAlign\n",
    "\n",
    "seqs = load_unaligned_seqs(\"data/test2.fasta\", moltype=\"dna\")\n",
    "tree = make_tree(\n",
    "    \"((NineBande:0.058,Mouse:0.595):0.079,DogFaced:0.142,(HowlerMon:0.062,Human:0.103):0.079)\"\n",
    ")\n",
    "params = {\"kappa\": 4.0, \"omega\": 1.3}\n",
    "aln, tree = TreeAlign(\n",
    "    \"MG94HKY\", seqs, tree=tree, param_vals=params, show_progress=False\n",
    ")\n",
    "aln"
   ]
  },
  {
   "cell_type": "code",
   "execution_count": 6,
   "id": "reliable-swift",
   "metadata": {
    "execution": {
     "iopub.execute_input": "2021-09-30T04:31:14.068870Z",
     "iopub.status.busy": "2021-09-30T04:31:14.068179Z",
     "iopub.status.idle": "2021-09-30T04:31:14.070675Z",
     "shell.execute_reply": "2021-09-30T04:31:14.071263Z"
    }
   },
   "outputs": [
    {
     "name": "stdout",
     "output_type": "stream",
     "text": [
      ">hum\n",
      "AAGCAGATCCAGGAAAGCAGCGAGAATGGCAGCCTGGCCGCGCGCCAGGAGAGGCAGGCC\n",
      "CAGGTCAACCTCACT\n",
      ">mus\n",
      "AAGCAGATCCAGGAGAGCGGCGAGAGCGGCAGCCTGGCCGCGCGGCAGGAGAGGCAGGCC\n",
      "CAAGTCAACCTCACG\n",
      ">rat\n",
      "CTGAACAAGCAGCCACTTTCAAACAAGAAA\n",
      "\n"
     ]
    }
   ],
   "source": [
    "from cogent3 import make_unaligned_seqs\n",
    "from cogent3.evolve.models import get_model\n",
    "from cogent3.align.progressive import TreeAlign\n",
    "\n",
    "seqs = [\n",
    "    (\n",
    "        \"hum\",\n",
    "        \"AAGCAGATCCAGGAAAGCAGCGAGAATGGCAGCCTGGCCGCGCGCCAGGAGAGGCAGGCCCAGGTCAACCTCACT\",\n",
    "    ),\n",
    "    (\n",
    "        \"mus\",\n",
    "        \"AAGCAGATCCAGGAGAGCGGCGAGAGCGGCAGCCTGGCCGCGCGGCAGGAGAGGCAGGCCCAAGTCAACCTCACG\",\n",
    "    ),\n",
    "    (\"rat\", \"CTGAACAAGCAGCCACTTTCAAACAAGAAA\"),\n",
    "]\n",
    "unaligned_DNA = make_unaligned_seqs(seqs, moltype=\"dna\")\n",
    "print(unaligned_DNA)"
   ]
  },
  {
   "cell_type": "code",
   "execution_count": 7,
   "id": "perceived-albert",
   "metadata": {
    "execution": {
     "iopub.execute_input": "2021-09-30T04:31:14.075402Z",
     "iopub.status.busy": "2021-09-30T04:31:14.074696Z",
     "iopub.status.idle": "2021-09-30T04:31:14.077113Z",
     "shell.execute_reply": "2021-09-30T04:31:14.077778Z"
    }
   },
   "outputs": [
    {
     "name": "stdout",
     "output_type": "stream",
     "text": [
      ">hum\n",
      "KQIQESSENGSLAARQERQAQVNLT\n",
      ">mus\n",
      "KQIQESGESGSLAARQERQAQVNLT\n",
      ">rat\n",
      "LNKQPLSNKK\n",
      "\n"
     ]
    }
   ],
   "source": [
    "print(unaligned_DNA.get_translation())"
   ]
  },
  {
   "cell_type": "code",
   "execution_count": 8,
   "id": "durable-affiliate",
   "metadata": {
    "execution": {
     "iopub.execute_input": "2021-09-30T04:31:14.081626Z",
     "iopub.status.busy": "2021-09-30T04:31:14.081001Z",
     "iopub.status.idle": "2021-09-30T04:31:14.083698Z",
     "shell.execute_reply": "2021-09-30T04:31:14.083142Z"
    }
   },
   "outputs": [],
   "source": [
    "from cogent3 import make_aligned_seqs\n",
    "\n",
    "aligned_aa_seqs = [\n",
    "    (\"hum\", \"KQIQESSENGSLAARQERQAQVNLT\"),\n",
    "    (\"mus\", \"KQIQESGESGSLAARQERQAQVNLT\"),\n",
    "    (\"rat\", \"LNKQ------PLS---------NKK\"),\n",
    "]\n",
    "aligned_aa = make_aligned_seqs(aligned_aa_seqs, moltype=\"protein\")"
   ]
  },
  {
   "cell_type": "code",
   "execution_count": 9,
   "id": "herbal-security",
   "metadata": {
    "execution": {
     "iopub.execute_input": "2021-09-30T04:31:14.089230Z",
     "iopub.status.busy": "2021-09-30T04:31:14.088524Z",
     "iopub.status.idle": "2021-09-30T04:31:14.091390Z",
     "shell.execute_reply": "2021-09-30T04:31:14.091834Z"
    }
   },
   "outputs": [
    {
     "data": {
      "text/html": [
       "<style>\n",
       ".c3align td { border: none !important; text-align: left !important; }\n",
       ".c3align tr:not(.num_row) td span {margin: 0 2px;}\n",
       ".c3align tr:nth-child(even) {background: #f7f7f7;}\n",
       ".c3align .num_row {background-color:rgba(161, 195, 209, 0.5) !important; border-top: solid 1px black; }\n",
       ".c3align .label { font-size: 12pt ; text-align: right !important; color: black !important; padding: 0 4px; display: table-cell !important; font-weight: normal !important; }\n",
       ".c3align .T_dna{font-family: \"Lucida Console\",monospace !important; font-size: 12pt !important; color: blue; }\n",
       ".c3align .C_dna{font-family: \"Lucida Console\",monospace !important; font-size: 12pt !important; color: black; }\n",
       ".c3align .A_dna{font-family: \"Lucida Console\",monospace !important; font-size: 12pt !important; color: #FF0102; }\n",
       ".c3align .G_dna{font-family: \"Lucida Console\",monospace !important; font-size: 12pt !important; color: green; }\n",
       ".c3align .terminal_ambig_dna{font-family: \"Lucida Console\",monospace !important; font-size: 12pt !important; color: gray; }\n",
       ".c3align .ambig_dna{font-family: \"Lucida Console\",monospace !important; font-size: 12pt !important; color: gray; }\n",
       "</style>\n",
       "<div class=\"c3align\">\n",
       "<table>\n",
       "<tr class=\"num_row\"><td></td><td><b>0</b></td></tr>\n",
       "<tr><td class=\"label\">hum</td><td><span class=\"A_dna\">A</span><span class=\"A_dna\">A</span><span class=\"G_dna\">G</span><span class=\"C_dna\">C</span><span class=\"A_dna\">A</span><span class=\"G_dna\">G</span><span class=\"A_dna\">A</span><span class=\"T_dna\">T</span><span class=\"C_dna\">C</span><span class=\"C_dna\">C</span><span class=\"A_dna\">A</span><span class=\"G_dna\">G</span><span class=\"G_dna\">G</span><span class=\"A_dna\">A</span><span class=\"A_dna\">A</span><span class=\"A_dna\">A</span><span class=\"G_dna\">G</span><span class=\"C_dna\">C</span><span class=\"A_dna\">A</span><span class=\"G_dna\">G</span><span class=\"C_dna\">C</span><span class=\"G_dna\">G</span><span class=\"A_dna\">A</span><span class=\"G_dna\">G</span><span class=\"A_dna\">A</span><span class=\"A_dna\">A</span><span class=\"T_dna\">T</span><span class=\"G_dna\">G</span><span class=\"G_dna\">G</span><span class=\"C_dna\">C</span><span class=\"A_dna\">A</span><span class=\"G_dna\">G</span><span class=\"C_dna\">C</span><span class=\"C_dna\">C</span><span class=\"T_dna\">T</span><span class=\"G_dna\">G</span><span class=\"G_dna\">G</span><span class=\"C_dna\">C</span><span class=\"C_dna\">C</span><span class=\"G_dna\">G</span><span class=\"C_dna\">C</span><span class=\"G_dna\">G</span><span class=\"C_dna\">C</span><span class=\"G_dna\">G</span><span class=\"C_dna\">C</span><span class=\"C_dna\">C</span><span class=\"A_dna\">A</span><span class=\"G_dna\">G</span><span class=\"G_dna\">G</span><span class=\"A_dna\">A</span><span class=\"G_dna\">G</span><span class=\"A_dna\">A</span><span class=\"G_dna\">G</span><span class=\"G_dna\">G</span><span class=\"C_dna\">C</span><span class=\"A_dna\">A</span><span class=\"G_dna\">G</span><span class=\"G_dna\">G</span><span class=\"C_dna\">C</span><span class=\"C_dna\">C</span></td></tr>\n",
       "<tr><td class=\"label\">mus</td><td><span class=\"A_dna\">.</span><span class=\"A_dna\">.</span><span class=\"G_dna\">.</span><span class=\"C_dna\">.</span><span class=\"A_dna\">.</span><span class=\"G_dna\">.</span><span class=\"A_dna\">.</span><span class=\"T_dna\">.</span><span class=\"C_dna\">.</span><span class=\"C_dna\">.</span><span class=\"A_dna\">.</span><span class=\"G_dna\">.</span><span class=\"G_dna\">.</span><span class=\"A_dna\">.</span><span class=\"G_dna\">G</span><span class=\"A_dna\">.</span><span class=\"G_dna\">.</span><span class=\"C_dna\">.</span><span class=\"G_dna\">G</span><span class=\"G_dna\">.</span><span class=\"C_dna\">.</span><span class=\"G_dna\">.</span><span class=\"A_dna\">.</span><span class=\"G_dna\">.</span><span class=\"A_dna\">.</span><span class=\"G_dna\">G</span><span class=\"C_dna\">C</span><span class=\"G_dna\">.</span><span class=\"G_dna\">.</span><span class=\"C_dna\">.</span><span class=\"A_dna\">.</span><span class=\"G_dna\">.</span><span class=\"C_dna\">.</span><span class=\"C_dna\">.</span><span class=\"T_dna\">.</span><span class=\"G_dna\">.</span><span class=\"G_dna\">.</span><span class=\"C_dna\">.</span><span class=\"C_dna\">.</span><span class=\"G_dna\">.</span><span class=\"C_dna\">.</span><span class=\"G_dna\">.</span><span class=\"C_dna\">.</span><span class=\"G_dna\">.</span><span class=\"G_dna\">G</span><span class=\"C_dna\">.</span><span class=\"A_dna\">.</span><span class=\"G_dna\">.</span><span class=\"G_dna\">.</span><span class=\"A_dna\">.</span><span class=\"G_dna\">.</span><span class=\"A_dna\">.</span><span class=\"G_dna\">.</span><span class=\"G_dna\">.</span><span class=\"C_dna\">.</span><span class=\"A_dna\">.</span><span class=\"G_dna\">.</span><span class=\"G_dna\">.</span><span class=\"C_dna\">.</span><span class=\"C_dna\">.</span></td></tr>\n",
       "<tr><td class=\"label\">rat</td><td><span class=\"C_dna\">C</span><span class=\"T_dna\">T</span><span class=\"G_dna\">.</span><span class=\"A_dna\">A</span><span class=\"A_dna\">.</span><span class=\"C_dna\">C</span><span class=\"A_dna\">.</span><span class=\"A_dna\">A</span><span class=\"G_dna\">G</span><span class=\"C_dna\">.</span><span class=\"A_dna\">.</span><span class=\"G_dna\">.</span><span class=\"ambig_dna\">-</span><span class=\"ambig_dna\">-</span><span class=\"ambig_dna\">-</span><span class=\"ambig_dna\">-</span><span class=\"ambig_dna\">-</span><span class=\"ambig_dna\">-</span><span class=\"ambig_dna\">-</span><span class=\"ambig_dna\">-</span><span class=\"ambig_dna\">-</span><span class=\"ambig_dna\">-</span><span class=\"ambig_dna\">-</span><span class=\"ambig_dna\">-</span><span class=\"ambig_dna\">-</span><span class=\"ambig_dna\">-</span><span class=\"ambig_dna\">-</span><span class=\"ambig_dna\">-</span><span class=\"ambig_dna\">-</span><span class=\"ambig_dna\">-</span><span class=\"C_dna\">C</span><span class=\"C_dna\">C</span><span class=\"A_dna\">A</span><span class=\"C_dna\">.</span><span class=\"T_dna\">.</span><span class=\"T_dna\">T</span><span class=\"T_dna\">T</span><span class=\"C_dna\">.</span><span class=\"A_dna\">A</span><span class=\"ambig_dna\">-</span><span class=\"ambig_dna\">-</span><span class=\"ambig_dna\">-</span><span class=\"ambig_dna\">-</span><span class=\"ambig_dna\">-</span><span class=\"ambig_dna\">-</span><span class=\"ambig_dna\">-</span><span class=\"ambig_dna\">-</span><span class=\"ambig_dna\">-</span><span class=\"ambig_dna\">-</span><span class=\"ambig_dna\">-</span><span class=\"ambig_dna\">-</span><span class=\"ambig_dna\">-</span><span class=\"ambig_dna\">-</span><span class=\"ambig_dna\">-</span><span class=\"ambig_dna\">-</span><span class=\"ambig_dna\">-</span><span class=\"ambig_dna\">-</span><span class=\"ambig_dna\">-</span><span class=\"ambig_dna\">-</span><span class=\"ambig_dna\">-</span></td></tr>\n",
       "</table>\n",
       "<p><i>3 x 75 (truncated to 3 x 60) dna alignment</i></p>\n",
       "</div>"
      ],
      "text/plain": [
       "3 x 75 dna alignment: hum[AAGCAGATCCA...], mus[AAGCAGATCCA...], rat[CTGAACAAGCA...]"
      ]
     },
     "execution_count": 9,
     "metadata": {},
     "output_type": "execute_result"
    }
   ],
   "source": [
    "aligned_DNA = aligned_aa.replace_seqs(unaligned_DNA, aa_to_codon=True)\n",
    "aligned_DNA"
   ]
  }
 ],
 "metadata": {
  "kernelspec": {
   "display_name": "Python 3",
   "language": "python",
   "name": "python3"
  },
  "language_info": {
   "codemirror_mode": {
    "name": "ipython",
    "version": 3
   },
   "file_extension": ".py",
   "mimetype": "text/x-python",
   "name": "python",
   "nbconvert_exporter": "python",
   "pygments_lexer": "ipython3",
   "version": "3.9.0"
  }
 },
 "nbformat": 4,
 "nbformat_minor": 5
}