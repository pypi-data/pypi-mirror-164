{
 "cells": [
  {
   "cell_type": "code",
   "execution_count": 1,
   "id": "narrative-invite",
   "metadata": {
    "execution": {
     "iopub.execute_input": "2021-09-30T04:33:52.951017Z",
     "iopub.status.busy": "2021-09-30T04:33:52.950362Z",
     "iopub.status.idle": "2021-09-30T04:33:53.225359Z",
     "shell.execute_reply": "2021-09-30T04:33:53.225757Z"
    }
   },
   "outputs": [],
   "source": [
    "import set_working_directory"
   ]
  },
  {
   "cell_type": "code",
   "execution_count": 2,
   "id": "legislative-policy",
   "metadata": {
    "execution": {
     "iopub.execute_input": "2021-09-30T04:33:53.229206Z",
     "iopub.status.busy": "2021-09-30T04:33:53.228625Z",
     "iopub.status.idle": "2021-09-30T04:33:53.813485Z",
     "shell.execute_reply": "2021-09-30T04:33:53.812885Z"
    }
   },
   "outputs": [],
   "source": [
    "from cogent3 import load_aligned_seqs, load_tree\n",
    "from cogent3.evolve.models import get_model\n",
    "from cogent3.maths import stats"
   ]
  },
  {
   "cell_type": "code",
   "execution_count": 3,
   "id": "military-specification",
   "metadata": {
    "execution": {
     "iopub.execute_input": "2021-09-30T04:33:53.816912Z",
     "iopub.status.busy": "2021-09-30T04:33:53.816289Z",
     "iopub.status.idle": "2021-09-30T04:33:53.822502Z",
     "shell.execute_reply": "2021-09-30T04:33:53.822801Z"
    }
   },
   "outputs": [],
   "source": [
    "aln = load_aligned_seqs(\"data/long_testseqs.fasta\")\n",
    "t = load_tree(filename=\"data/test.tree\")"
   ]
  },
  {
   "cell_type": "code",
   "execution_count": 4,
   "id": "lesbian-acceptance",
   "metadata": {
    "execution": {
     "iopub.execute_input": "2021-09-30T04:33:53.826119Z",
     "iopub.status.busy": "2021-09-30T04:33:53.825644Z",
     "iopub.status.idle": "2021-09-30T04:33:53.827482Z",
     "shell.execute_reply": "2021-09-30T04:33:53.827805Z"
    }
   },
   "outputs": [],
   "source": [
    "sm = get_model(\"HKY85\")"
   ]
  },
  {
   "cell_type": "code",
   "execution_count": 5,
   "id": "floppy-siemens",
   "metadata": {
    "execution": {
     "iopub.execute_input": "2021-09-30T04:33:53.833956Z",
     "iopub.status.busy": "2021-09-30T04:33:53.833066Z",
     "iopub.status.idle": "2021-09-30T04:33:53.835320Z",
     "shell.execute_reply": "2021-09-30T04:33:53.835867Z"
    }
   },
   "outputs": [],
   "source": [
    "lf = sm.make_likelihood_function(t, digits=2, space=3)"
   ]
  },
  {
   "cell_type": "code",
   "execution_count": 6,
   "id": "external-least",
   "metadata": {
    "execution": {
     "iopub.execute_input": "2021-09-30T04:33:53.839324Z",
     "iopub.status.busy": "2021-09-30T04:33:53.838632Z",
     "iopub.status.idle": "2021-09-30T04:33:53.841872Z",
     "shell.execute_reply": "2021-09-30T04:33:53.842306Z"
    }
   },
   "outputs": [
    {
     "name": "stderr",
     "output_type": "stream",
     "text": [
      "/Users/gavin/repos/Cogent3/src/cogent3/evolve/parameter_controller.py:409: UserWarning: Used mean of 2 length values\n",
      "  self.assign_all(\n"
     ]
    }
   ],
   "source": [
    "lf.set_local_clock(\"Human\", \"HowlerMon\")"
   ]
  },
  {
   "cell_type": "code",
   "execution_count": 7,
   "id": "speaking-closing",
   "metadata": {
    "execution": {
     "iopub.execute_input": "2021-09-30T04:33:53.845449Z",
     "iopub.status.busy": "2021-09-30T04:33:53.844858Z",
     "iopub.status.idle": "2021-09-30T04:33:53.871888Z",
     "shell.execute_reply": "2021-09-30T04:33:53.872464Z"
    }
   },
   "outputs": [],
   "source": [
    "lf.set_alignment(aln)"
   ]
  },
  {
   "cell_type": "code",
   "execution_count": 8,
   "id": "complicated-boutique",
   "metadata": {
    "execution": {
     "iopub.execute_input": "2021-09-30T04:33:53.886751Z",
     "iopub.status.busy": "2021-09-30T04:33:53.878616Z",
     "iopub.status.idle": "2021-09-30T04:33:53.995643Z",
     "shell.execute_reply": "2021-09-30T04:33:53.994917Z"
    }
   },
   "outputs": [],
   "source": [
    "lf.optimise(show_progress=False)"
   ]
  },
  {
   "cell_type": "code",
   "execution_count": 9,
   "id": "collaborative-crest",
   "metadata": {
    "execution": {
     "iopub.execute_input": "2021-09-30T04:33:54.006921Z",
     "iopub.status.busy": "2021-09-30T04:33:54.005726Z",
     "iopub.status.idle": "2021-09-30T04:33:54.009582Z",
     "shell.execute_reply": "2021-09-30T04:33:54.009964Z"
    }
   },
   "outputs": [
    {
     "data": {
      "text/html": [
       "<h4>clock</h4>\n",
       "<p>log-likelihood = -8751.9425</p>\n",
       "<p>number of free parameters = 7</p>\n",
       "\n",
       "<div class=\"c3table\">\n",
       "\n",
       "<style>\n",
       ".c3table table {margin: 10px 0;}\n",
       ".c3table tr:last-child {border-bottom: 1px solid #000;} \n",
       ".c3table tr > th {text-align: left; padding: 0 5px;}\n",
       ".c3table tr > td {text-align: left; padding: 5px;}\n",
       ".c3table tr:nth-child(even) {background: #f7f7f7 !important;}\n",
       ".c3table .ellipsis {background: rgba(0, 0, 0, .01);}\n",
       ".c3table .index {background: rgba(161, 195, 209, 0.0); margin: 10px; font-weight: 600;}\n",
       ".c3table .head_cell {background: rgba(161, 195, 209, 0.75); font-weight: bold; text-align: center;}\n",
       ".c3table caption {color: rgb(250, 250, 250); background: rgba(30, 140, 200, 1); padding: 3px; white-space: nowrap; caption-side: top;}\n",
       ".c3table .cell_title {font-weight: bold;}\n",
       ".c3col_left { text-align: left !important; display: block;}\n",
       ".c3col_right { text-align: right !important; display: block;}\n",
       ".c3col_center { text-align: center !important; display: block;}\n",
       "</style>\n",
       "\n",
       "<table>\n",
       "\n",
       "<caption>\n",
       "<span class=\"cell_title\">Global params</span>\n",
       "</caption>\n",
       "<thead class=\"head_cell\">\n",
       "<th>kappa</th>\n",
       "</thead>\n",
       "<tbody>\n",
       "<tr><td><span class=\"c3col_right\">4.10</span></td></tr>\n",
       "</tbody>\n",
       "</table>\n",
       "\n",
       "</div>\n",
       "\n",
       "<div class=\"c3table\">\n",
       "\n",
       "<style>\n",
       ".c3table table {margin: 10px 0;}\n",
       ".c3table tr:last-child {border-bottom: 1px solid #000;} \n",
       ".c3table tr > th {text-align: left; padding: 0 5px;}\n",
       ".c3table tr > td {text-align: left; padding: 5px;}\n",
       ".c3table tr:nth-child(even) {background: #f7f7f7 !important;}\n",
       ".c3table .ellipsis {background: rgba(0, 0, 0, .01);}\n",
       ".c3table .index {background: rgba(161, 195, 209, 0.0); margin: 10px; font-weight: 600;}\n",
       ".c3table .head_cell {background: rgba(161, 195, 209, 0.75); font-weight: bold; text-align: center;}\n",
       ".c3table caption {color: rgb(250, 250, 250); background: rgba(30, 140, 200, 1); padding: 3px; white-space: nowrap; caption-side: top;}\n",
       ".c3table .cell_title {font-weight: bold;}\n",
       ".c3col_left { text-align: left !important; display: block;}\n",
       ".c3col_right { text-align: right !important; display: block;}\n",
       ".c3col_center { text-align: center !important; display: block;}\n",
       "</style>\n",
       "\n",
       "<table>\n",
       "\n",
       "<caption>\n",
       "<span class=\"cell_title\">Edge params</span>\n",
       "</caption>\n",
       "<thead class=\"head_cell\">\n",
       "<th>edge</th><th>parent</th><th>length</th>\n",
       "</thead>\n",
       "<tbody>\n",
       "<tr><td><span class=\"c3col_left\">Human</span></td><td><span class=\"c3col_left\">edge.0</span></td><td><span class=\"c3col_right\">0.04</span></td></tr>\n",
       "<tr><td><span class=\"c3col_left\">HowlerMon</span></td><td><span class=\"c3col_left\">edge.0</span></td><td><span class=\"c3col_right\">0.04</span></td></tr>\n",
       "<tr><td><span class=\"c3col_left\">edge.0</span></td><td><span class=\"c3col_left\">edge.1</span></td><td><span class=\"c3col_right\">0.04</span></td></tr>\n",
       "<tr><td><span class=\"c3col_left\">Mouse</span></td><td><span class=\"c3col_left\">edge.1</span></td><td><span class=\"c3col_right\">0.28</span></td></tr>\n",
       "<tr><td><span class=\"c3col_left\">edge.1</span></td><td><span class=\"c3col_left\">root</span></td><td><span class=\"c3col_right\">0.02</span></td></tr>\n",
       "<tr><td><span class=\"c3col_left\">NineBande</span></td><td><span class=\"c3col_left\">root</span></td><td><span class=\"c3col_right\">0.09</span></td></tr>\n",
       "<tr><td><span class=\"c3col_left\">DogFaced</span></td><td><span class=\"c3col_left\">root</span></td><td><span class=\"c3col_right\">0.11</span></td></tr>\n",
       "</tbody>\n",
       "</table>\n",
       "\n",
       "</div>\n",
       "\n",
       "<div class=\"c3table\">\n",
       "\n",
       "<style>\n",
       ".c3table table {margin: 10px 0;}\n",
       ".c3table tr:last-child {border-bottom: 1px solid #000;} \n",
       ".c3table tr > th {text-align: left; padding: 0 5px;}\n",
       ".c3table tr > td {text-align: left; padding: 5px;}\n",
       ".c3table tr:nth-child(even) {background: #f7f7f7 !important;}\n",
       ".c3table .ellipsis {background: rgba(0, 0, 0, .01);}\n",
       ".c3table .index {background: rgba(161, 195, 209, 0.0); margin: 10px; font-weight: 600;}\n",
       ".c3table .head_cell {background: rgba(161, 195, 209, 0.75); font-weight: bold; text-align: center;}\n",
       ".c3table caption {color: rgb(250, 250, 250); background: rgba(30, 140, 200, 1); padding: 3px; white-space: nowrap; caption-side: top;}\n",
       ".c3table .cell_title {font-weight: bold;}\n",
       ".c3col_left { text-align: left !important; display: block;}\n",
       ".c3col_right { text-align: right !important; display: block;}\n",
       ".c3col_center { text-align: center !important; display: block;}\n",
       "</style>\n",
       "\n",
       "<table>\n",
       "\n",
       "<caption>\n",
       "<span class=\"cell_title\">Motif params</span>\n",
       "</caption>\n",
       "<thead class=\"head_cell\">\n",
       "<th>A</th><th>C</th><th>G</th><th>T</th>\n",
       "</thead>\n",
       "<tbody>\n",
       "<tr><td><span class=\"c3col_right\">0.37</span></td><td><span class=\"c3col_right\">0.19</span></td><td><span class=\"c3col_right\">0.21</span></td><td><span class=\"c3col_right\">0.23</span></td></tr>\n",
       "</tbody>\n",
       "</table>\n",
       "\n",
       "</div>"
      ],
      "text/plain": [
       "clock\n",
       "log-likelihood = -8751.9425\n",
       "number of free parameters = 7\n",
       "=====\n",
       "kappa\n",
       "-----\n",
       " 4.10\n",
       "-----\n",
       "===========================\n",
       "edge        parent   length\n",
       "---------------------------\n",
       "Human       edge.0     0.04\n",
       "HowlerMon   edge.0     0.04\n",
       "edge.0      edge.1     0.04\n",
       "Mouse       edge.1     0.28\n",
       "edge.1      root       0.02\n",
       "NineBande   root       0.09\n",
       "DogFaced    root       0.11\n",
       "---------------------------\n",
       "=========================\n",
       "   A      C      G      T\n",
       "-------------------------\n",
       "0.37   0.19   0.21   0.23\n",
       "-------------------------"
      ]
     },
     "execution_count": 9,
     "metadata": {},
     "output_type": "execute_result"
    }
   ],
   "source": [
    "lf.set_name(\"clock\")\n",
    "lf"
   ]
  },
  {
   "cell_type": "code",
   "execution_count": 10,
   "id": "adult-wichita",
   "metadata": {
    "execution": {
     "iopub.execute_input": "2021-09-30T04:33:54.013867Z",
     "iopub.status.busy": "2021-09-30T04:33:54.013106Z",
     "iopub.status.idle": "2021-09-30T04:33:54.015555Z",
     "shell.execute_reply": "2021-09-30T04:33:54.015063Z"
    }
   },
   "outputs": [],
   "source": [
    "null_lnL = lf.get_log_likelihood()\n",
    "null_nfp = lf.get_num_free_params()"
   ]
  },
  {
   "cell_type": "code",
   "execution_count": 11,
   "id": "periodic-tulsa",
   "metadata": {
    "execution": {
     "iopub.execute_input": "2021-09-30T04:33:54.019095Z",
     "iopub.status.busy": "2021-09-30T04:33:54.018469Z",
     "iopub.status.idle": "2021-09-30T04:33:54.020475Z",
     "shell.execute_reply": "2021-09-30T04:33:54.020855Z"
    }
   },
   "outputs": [],
   "source": [
    "lf.set_param_rule(\"length\", is_independent=True)"
   ]
  },
  {
   "cell_type": "code",
   "execution_count": 12,
   "id": "union-transformation",
   "metadata": {
    "execution": {
     "iopub.execute_input": "2021-09-30T04:33:54.033801Z",
     "iopub.status.busy": "2021-09-30T04:33:54.028062Z",
     "iopub.status.idle": "2021-09-30T04:33:54.119798Z",
     "shell.execute_reply": "2021-09-30T04:33:54.120347Z"
    }
   },
   "outputs": [],
   "source": [
    "lf.optimise(show_progress=False)"
   ]
  },
  {
   "cell_type": "code",
   "execution_count": 13,
   "id": "strange-destiny",
   "metadata": {
    "execution": {
     "iopub.execute_input": "2021-09-30T04:33:54.128004Z",
     "iopub.status.busy": "2021-09-30T04:33:54.126835Z",
     "iopub.status.idle": "2021-09-30T04:33:54.130586Z",
     "shell.execute_reply": "2021-09-30T04:33:54.131184Z"
    }
   },
   "outputs": [
    {
     "data": {
      "text/html": [
       "<h4>non clock</h4>\n",
       "<p>log-likelihood = -8750.5889</p>\n",
       "<p>number of free parameters = 8</p>\n",
       "\n",
       "<div class=\"c3table\">\n",
       "\n",
       "<style>\n",
       ".c3table table {margin: 10px 0;}\n",
       ".c3table tr:last-child {border-bottom: 1px solid #000;} \n",
       ".c3table tr > th {text-align: left; padding: 0 5px;}\n",
       ".c3table tr > td {text-align: left; padding: 5px;}\n",
       ".c3table tr:nth-child(even) {background: #f7f7f7 !important;}\n",
       ".c3table .ellipsis {background: rgba(0, 0, 0, .01);}\n",
       ".c3table .index {background: rgba(161, 195, 209, 0.0); margin: 10px; font-weight: 600;}\n",
       ".c3table .head_cell {background: rgba(161, 195, 209, 0.75); font-weight: bold; text-align: center;}\n",
       ".c3table caption {color: rgb(250, 250, 250); background: rgba(30, 140, 200, 1); padding: 3px; white-space: nowrap; caption-side: top;}\n",
       ".c3table .cell_title {font-weight: bold;}\n",
       ".c3col_left { text-align: left !important; display: block;}\n",
       ".c3col_right { text-align: right !important; display: block;}\n",
       ".c3col_center { text-align: center !important; display: block;}\n",
       "</style>\n",
       "\n",
       "<table>\n",
       "\n",
       "<caption>\n",
       "<span class=\"cell_title\">Global params</span>\n",
       "</caption>\n",
       "<thead class=\"head_cell\">\n",
       "<th>kappa</th>\n",
       "</thead>\n",
       "<tbody>\n",
       "<tr><td><span class=\"c3col_right\">4.10</span></td></tr>\n",
       "</tbody>\n",
       "</table>\n",
       "\n",
       "</div>\n",
       "\n",
       "<div class=\"c3table\">\n",
       "\n",
       "<style>\n",
       ".c3table table {margin: 10px 0;}\n",
       ".c3table tr:last-child {border-bottom: 1px solid #000;} \n",
       ".c3table tr > th {text-align: left; padding: 0 5px;}\n",
       ".c3table tr > td {text-align: left; padding: 5px;}\n",
       ".c3table tr:nth-child(even) {background: #f7f7f7 !important;}\n",
       ".c3table .ellipsis {background: rgba(0, 0, 0, .01);}\n",
       ".c3table .index {background: rgba(161, 195, 209, 0.0); margin: 10px; font-weight: 600;}\n",
       ".c3table .head_cell {background: rgba(161, 195, 209, 0.75); font-weight: bold; text-align: center;}\n",
       ".c3table caption {color: rgb(250, 250, 250); background: rgba(30, 140, 200, 1); padding: 3px; white-space: nowrap; caption-side: top;}\n",
       ".c3table .cell_title {font-weight: bold;}\n",
       ".c3col_left { text-align: left !important; display: block;}\n",
       ".c3col_right { text-align: right !important; display: block;}\n",
       ".c3col_center { text-align: center !important; display: block;}\n",
       "</style>\n",
       "\n",
       "<table>\n",
       "\n",
       "<caption>\n",
       "<span class=\"cell_title\">Edge params</span>\n",
       "</caption>\n",
       "<thead class=\"head_cell\">\n",
       "<th>edge</th><th>parent</th><th>length</th>\n",
       "</thead>\n",
       "<tbody>\n",
       "<tr><td><span class=\"c3col_left\">Human</span></td><td><span class=\"c3col_left\">edge.0</span></td><td><span class=\"c3col_right\">0.03</span></td></tr>\n",
       "<tr><td><span class=\"c3col_left\">HowlerMon</span></td><td><span class=\"c3col_left\">edge.0</span></td><td><span class=\"c3col_right\">0.04</span></td></tr>\n",
       "<tr><td><span class=\"c3col_left\">edge.0</span></td><td><span class=\"c3col_left\">edge.1</span></td><td><span class=\"c3col_right\">0.04</span></td></tr>\n",
       "<tr><td><span class=\"c3col_left\">Mouse</span></td><td><span class=\"c3col_left\">edge.1</span></td><td><span class=\"c3col_right\">0.28</span></td></tr>\n",
       "<tr><td><span class=\"c3col_left\">edge.1</span></td><td><span class=\"c3col_left\">root</span></td><td><span class=\"c3col_right\">0.02</span></td></tr>\n",
       "<tr><td><span class=\"c3col_left\">NineBande</span></td><td><span class=\"c3col_left\">root</span></td><td><span class=\"c3col_right\">0.09</span></td></tr>\n",
       "<tr><td><span class=\"c3col_left\">DogFaced</span></td><td><span class=\"c3col_left\">root</span></td><td><span class=\"c3col_right\">0.11</span></td></tr>\n",
       "</tbody>\n",
       "</table>\n",
       "\n",
       "</div>\n",
       "\n",
       "<div class=\"c3table\">\n",
       "\n",
       "<style>\n",
       ".c3table table {margin: 10px 0;}\n",
       ".c3table tr:last-child {border-bottom: 1px solid #000;} \n",
       ".c3table tr > th {text-align: left; padding: 0 5px;}\n",
       ".c3table tr > td {text-align: left; padding: 5px;}\n",
       ".c3table tr:nth-child(even) {background: #f7f7f7 !important;}\n",
       ".c3table .ellipsis {background: rgba(0, 0, 0, .01);}\n",
       ".c3table .index {background: rgba(161, 195, 209, 0.0); margin: 10px; font-weight: 600;}\n",
       ".c3table .head_cell {background: rgba(161, 195, 209, 0.75); font-weight: bold; text-align: center;}\n",
       ".c3table caption {color: rgb(250, 250, 250); background: rgba(30, 140, 200, 1); padding: 3px; white-space: nowrap; caption-side: top;}\n",
       ".c3table .cell_title {font-weight: bold;}\n",
       ".c3col_left { text-align: left !important; display: block;}\n",
       ".c3col_right { text-align: right !important; display: block;}\n",
       ".c3col_center { text-align: center !important; display: block;}\n",
       "</style>\n",
       "\n",
       "<table>\n",
       "\n",
       "<caption>\n",
       "<span class=\"cell_title\">Motif params</span>\n",
       "</caption>\n",
       "<thead class=\"head_cell\">\n",
       "<th>A</th><th>C</th><th>G</th><th>T</th>\n",
       "</thead>\n",
       "<tbody>\n",
       "<tr><td><span class=\"c3col_right\">0.37</span></td><td><span class=\"c3col_right\">0.19</span></td><td><span class=\"c3col_right\">0.21</span></td><td><span class=\"c3col_right\">0.23</span></td></tr>\n",
       "</tbody>\n",
       "</table>\n",
       "\n",
       "</div>"
      ],
      "text/plain": [
       "non clock\n",
       "log-likelihood = -8750.5889\n",
       "number of free parameters = 8\n",
       "=====\n",
       "kappa\n",
       "-----\n",
       " 4.10\n",
       "-----\n",
       "===========================\n",
       "edge        parent   length\n",
       "---------------------------\n",
       "Human       edge.0     0.03\n",
       "HowlerMon   edge.0     0.04\n",
       "edge.0      edge.1     0.04\n",
       "Mouse       edge.1     0.28\n",
       "edge.1      root       0.02\n",
       "NineBande   root       0.09\n",
       "DogFaced    root       0.11\n",
       "---------------------------\n",
       "=========================\n",
       "   A      C      G      T\n",
       "-------------------------\n",
       "0.37   0.19   0.21   0.23\n",
       "-------------------------"
      ]
     },
     "execution_count": 13,
     "metadata": {},
     "output_type": "execute_result"
    }
   ],
   "source": [
    "lf.set_name(\"non clock\")\n",
    "lf"
   ]
  },
  {
   "cell_type": "code",
   "execution_count": 14,
   "id": "frozen-professor",
   "metadata": {
    "execution": {
     "iopub.execute_input": "2021-09-30T04:33:54.135392Z",
     "iopub.status.busy": "2021-09-30T04:33:54.134723Z",
     "iopub.status.idle": "2021-09-30T04:33:54.136778Z",
     "shell.execute_reply": "2021-09-30T04:33:54.137330Z"
    }
   },
   "outputs": [],
   "source": [
    "LR = 2 * (lf.get_log_likelihood() - null_lnL)\n",
    "df = lf.get_num_free_params() - null_nfp\n",
    "P = stats.chisqprob(LR, df)"
   ]
  },
  {
   "cell_type": "code",
   "execution_count": 15,
   "id": "engaged-israel",
   "metadata": {
    "execution": {
     "iopub.execute_input": "2021-09-30T04:33:54.140984Z",
     "iopub.status.busy": "2021-09-30T04:33:54.140302Z",
     "iopub.status.idle": "2021-09-30T04:33:54.142600Z",
     "shell.execute_reply": "2021-09-30T04:33:54.143072Z"
    }
   },
   "outputs": [
    {
     "name": "stdout",
     "output_type": "stream",
     "text": [
      "Likelihood ratio statistic =  2.7071645284449914\n",
      "degrees-of-freedom =  1\n",
      "probability =  0.09989841176329674\n"
     ]
    }
   ],
   "source": [
    "print(\"Likelihood ratio statistic = \", LR)\n",
    "print(\"degrees-of-freedom = \", df)\n",
    "print(\"probability = \", P)"
   ]
  }
 ],
 "metadata": {
  "kernelspec": {
   "display_name": "Python 3",
   "language": "python",
   "name": "python3"
  },
  "language_info": {
   "codemirror_mode": {
    "name": "ipython",
    "version": 3
   },
   "file_extension": ".py",
   "mimetype": "text/x-python",
   "name": "python",
   "nbconvert_exporter": "python",
   "pygments_lexer": "ipython3",
   "version": "3.9.0"
  }
 },
 "nbformat": 4,
 "nbformat_minor": 5
}