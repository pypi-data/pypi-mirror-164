{
 "cells": [
  {
   "cell_type": "code",
   "execution_count": 1,
   "id": "incomplete-description",
   "metadata": {
    "execution": {
     "iopub.execute_input": "2021-09-30T04:34:04.754331Z",
     "iopub.status.busy": "2021-09-30T04:34:04.753680Z",
     "iopub.status.idle": "2021-09-30T04:34:05.351026Z",
     "shell.execute_reply": "2021-09-30T04:34:05.350501Z"
    }
   },
   "outputs": [],
   "source": [
    "from cogent3 import DNA\n",
    "\n",
    "s = DNA.make_seq(\"aagaagaagacccccaaaaaaaaaattttttttttaaaaaaaaaaaaa\", name=\"Orig\")\n",
    "exon1 = s.add_feature(\"exon\", \"exon1\", [(10, 15)])\n",
    "exon2 = s.add_feature(\"exon\", \"exon2\", [(30, 40)])"
   ]
  },
  {
   "cell_type": "code",
   "execution_count": 2,
   "id": "intelligent-threshold",
   "metadata": {
    "execution": {
     "iopub.execute_input": "2021-09-30T04:34:05.354875Z",
     "iopub.status.busy": "2021-09-30T04:34:05.354243Z",
     "iopub.status.idle": "2021-09-30T04:34:05.356153Z",
     "shell.execute_reply": "2021-09-30T04:34:05.356679Z"
    }
   },
   "outputs": [],
   "source": [
    "from cogent3.core.annotation import Feature\n",
    "\n",
    "s2 = DNA.make_seq(\"aagaagaagacccccaaaaaaaaaattttttttttaaaaaaaaaaaaa\", name=\"Orig2\")\n",
    "exon3 = s2.add_annotation(Feature, \"exon\", \"exon1\", [(35, 40)])"
   ]
  },
  {
   "cell_type": "code",
   "execution_count": 3,
   "id": "neither-request",
   "metadata": {
    "execution": {
     "iopub.execute_input": "2021-09-30T04:34:05.364505Z",
     "iopub.status.busy": "2021-09-30T04:34:05.363715Z",
     "iopub.status.idle": "2021-09-30T04:34:05.366664Z",
     "shell.execute_reply": "2021-09-30T04:34:05.367023Z"
    }
   },
   "outputs": [
    {
     "data": {
      "text/html": [
       "<style>\n",
       ".c3seq td { border: none !important; text-align: left !important; }\n",
       ".c3seq tr:not(.num_row) td span {margin: 0 2px;}\n",
       ".c3seq tr:nth-child(even) {background: #f7f7f7;}\n",
       ".c3seq .num_row {background-color:rgba(161, 195, 209, 0.5) !important; border-top: solid 1px black; }\n",
       ".c3seq .label { font-size: 12pt ; text-align: right !important; color: black !important; padding: 0 4px; }\n",
       ".c3seq .T_dna{font-family: \"Lucida Console\",monospace !important; font-size: 12pt !important; color: blue; }\n",
       ".c3seq .C_dna{font-family: \"Lucida Console\",monospace !important; font-size: 12pt !important; color: black; }\n",
       ".c3seq .A_dna{font-family: \"Lucida Console\",monospace !important; font-size: 12pt !important; color: #FF0102; }\n",
       ".c3seq .G_dna{font-family: \"Lucida Console\",monospace !important; font-size: 12pt !important; color: green; }\n",
       ".c3seq .terminal_ambig_dna{font-family: \"Lucida Console\",monospace !important; font-size: 12pt !important; color: gray; }\n",
       ".c3seq .ambig_dna{font-family: \"Lucida Console\",monospace !important; font-size: 12pt !important; color: gray; }\n",
       "</style>\n",
       "<div class=\"c3seq\">\n",
       "<table>\n",
       "<tr class=\"num_row\"><td></td><td><b>0</b></td></tr>\n",
       "<tr><td class=\"label\">Orig</td><td><span class=\"C_dna\">C</span><span class=\"C_dna\">C</span><span class=\"C_dna\">C</span><span class=\"C_dna\">C</span><span class=\"C_dna\">C</span></td></tr>\n",
       "</table>\n",
       "<p><i>5 DnaSequence</i></p>\n",
       "</div>"
      ],
      "text/plain": [
       "DnaSequence(CCCCC)"
      ]
     },
     "execution_count": 3,
     "metadata": {},
     "output_type": "execute_result"
    }
   ],
   "source": [
    "s[exon1]"
   ]
  },
  {
   "cell_type": "code",
   "execution_count": 4,
   "id": "collective-johnson",
   "metadata": {
    "execution": {
     "iopub.execute_input": "2021-09-30T04:34:05.370694Z",
     "iopub.status.busy": "2021-09-30T04:34:05.370033Z",
     "iopub.status.idle": "2021-09-30T04:34:05.372161Z",
     "shell.execute_reply": "2021-09-30T04:34:05.372709Z"
    }
   },
   "outputs": [
    {
     "name": "stdout",
     "output_type": "stream",
     "text": [
      "[exon \"exon1\" at [10:15]/48, exon \"exon2\" at [30:40]/48]\n"
     ]
    }
   ],
   "source": [
    "exons = s.get_annotations_matching(\"exon\")\n",
    "print(exons)"
   ]
  },
  {
   "cell_type": "code",
   "execution_count": 5,
   "id": "hawaiian-hunter",
   "metadata": {
    "execution": {
     "iopub.execute_input": "2021-09-30T04:34:05.376411Z",
     "iopub.status.busy": "2021-09-30T04:34:05.375854Z",
     "iopub.status.idle": "2021-09-30T04:34:05.378542Z",
     "shell.execute_reply": "2021-09-30T04:34:05.379042Z"
    }
   },
   "outputs": [
    {
     "name": "stdout",
     "output_type": "stream",
     "text": [
      "region \"exon\" at [10:15, 30:40]/48\n"
     ]
    },
    {
     "data": {
      "text/html": [
       "<style>\n",
       ".c3seq td { border: none !important; text-align: left !important; }\n",
       ".c3seq tr:not(.num_row) td span {margin: 0 2px;}\n",
       ".c3seq tr:nth-child(even) {background: #f7f7f7;}\n",
       ".c3seq .num_row {background-color:rgba(161, 195, 209, 0.5) !important; border-top: solid 1px black; }\n",
       ".c3seq .label { font-size: 12pt ; text-align: right !important; color: black !important; padding: 0 4px; }\n",
       ".c3seq .T_dna{font-family: \"Lucida Console\",monospace !important; font-size: 12pt !important; color: blue; }\n",
       ".c3seq .C_dna{font-family: \"Lucida Console\",monospace !important; font-size: 12pt !important; color: black; }\n",
       ".c3seq .A_dna{font-family: \"Lucida Console\",monospace !important; font-size: 12pt !important; color: #FF0102; }\n",
       ".c3seq .G_dna{font-family: \"Lucida Console\",monospace !important; font-size: 12pt !important; color: green; }\n",
       ".c3seq .terminal_ambig_dna{font-family: \"Lucida Console\",monospace !important; font-size: 12pt !important; color: gray; }\n",
       ".c3seq .ambig_dna{font-family: \"Lucida Console\",monospace !important; font-size: 12pt !important; color: gray; }\n",
       "</style>\n",
       "<div class=\"c3seq\">\n",
       "<table>\n",
       "<tr class=\"num_row\"><td></td><td><b>0</b></td></tr>\n",
       "<tr><td class=\"label\">Orig</td><td><span class=\"C_dna\">C</span><span class=\"C_dna\">C</span><span class=\"C_dna\">C</span><span class=\"C_dna\">C</span><span class=\"C_dna\">C</span><span class=\"T_dna\">T</span><span class=\"T_dna\">T</span><span class=\"T_dna\">T</span><span class=\"T_dna\">T</span><span class=\"T_dna\">T</span><span class=\"A_dna\">A</span><span class=\"A_dna\">A</span><span class=\"A_dna\">A</span><span class=\"A_dna\">A</span><span class=\"A_dna\">A</span></td></tr>\n",
       "</table>\n",
       "<p><i>15 DnaSequence</i></p>\n",
       "</div>"
      ],
      "text/plain": [
       "DnaSequence(CCCCCTT... 15)"
      ]
     },
     "execution_count": 5,
     "metadata": {},
     "output_type": "execute_result"
    }
   ],
   "source": [
    "print(s.get_region_covering_all(exons))\n",
    "s.get_region_covering_all(exons).get_slice()"
   ]
  },
  {
   "cell_type": "code",
   "execution_count": 6,
   "id": "urban-syria",
   "metadata": {
    "execution": {
     "iopub.execute_input": "2021-09-30T04:34:05.382383Z",
     "iopub.status.busy": "2021-09-30T04:34:05.381810Z",
     "iopub.status.idle": "2021-09-30T04:34:05.383781Z",
     "shell.execute_reply": "2021-09-30T04:34:05.384249Z"
    }
   },
   "outputs": [
    {
     "name": "stdout",
     "output_type": "stream",
     "text": [
      "AAGAAGAAGAAAAAAAAAAATTTTTAAAAAAAA\n"
     ]
    }
   ],
   "source": [
    "print(s.get_region_covering_all(exons).get_shadow().get_slice())"
   ]
  },
  {
   "cell_type": "code",
   "execution_count": 7,
   "id": "hollow-forwarding",
   "metadata": {
    "execution": {
     "iopub.execute_input": "2021-09-30T04:34:05.388683Z",
     "iopub.status.busy": "2021-09-30T04:34:05.387856Z",
     "iopub.status.idle": "2021-09-30T04:34:05.391169Z",
     "shell.execute_reply": "2021-09-30T04:34:05.390593Z"
    }
   },
   "outputs": [
    {
     "data": {
      "text/html": [
       "<style>\n",
       ".c3seq td { border: none !important; text-align: left !important; }\n",
       ".c3seq tr:not(.num_row) td span {margin: 0 2px;}\n",
       ".c3seq tr:nth-child(even) {background: #f7f7f7;}\n",
       ".c3seq .num_row {background-color:rgba(161, 195, 209, 0.5) !important; border-top: solid 1px black; }\n",
       ".c3seq .label { font-size: 12pt ; text-align: right !important; color: black !important; padding: 0 4px; }\n",
       ".c3seq .T_dna{font-family: \"Lucida Console\",monospace !important; font-size: 12pt !important; color: blue; }\n",
       ".c3seq .C_dna{font-family: \"Lucida Console\",monospace !important; font-size: 12pt !important; color: black; }\n",
       ".c3seq .A_dna{font-family: \"Lucida Console\",monospace !important; font-size: 12pt !important; color: #FF0102; }\n",
       ".c3seq .G_dna{font-family: \"Lucida Console\",monospace !important; font-size: 12pt !important; color: green; }\n",
       ".c3seq .terminal_ambig_dna{font-family: \"Lucida Console\",monospace !important; font-size: 12pt !important; color: gray; }\n",
       ".c3seq .ambig_dna{font-family: \"Lucida Console\",monospace !important; font-size: 12pt !important; color: gray; }\n",
       "</style>\n",
       "<div class=\"c3seq\">\n",
       "<table>\n",
       "<tr class=\"num_row\"><td></td><td><b>0</b></td></tr>\n",
       "<tr><td class=\"label\">Orig</td><td><span class=\"C_dna\">C</span><span class=\"C_dna\">C</span><span class=\"C_dna\">C</span></td></tr>\n",
       "</table>\n",
       "<p><i>3 DnaSequence</i></p>\n",
       "</div>"
      ],
      "text/plain": [
       "DnaSequence(CCC)"
      ]
     },
     "execution_count": 7,
     "metadata": {},
     "output_type": "execute_result"
    }
   ],
   "source": [
    "exon1[0:3].get_slice()"
   ]
  }
 ],
 "metadata": {
  "kernelspec": {
   "display_name": "Python 3",
   "language": "python",
   "name": "python3"
  },
  "language_info": {
   "codemirror_mode": {
    "name": "ipython",
    "version": 3
   },
   "file_extension": ".py",
   "mimetype": "text/x-python",
   "name": "python",
   "nbconvert_exporter": "python",
   "pygments_lexer": "ipython3",
   "version": "3.9.0"
  }
 },
 "nbformat": 4,
 "nbformat_minor": 5
}