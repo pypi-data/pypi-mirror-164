{
 "cells": [
  {
   "cell_type": "code",
   "execution_count": 1,
   "id": "sorted-blade",
   "metadata": {
    "execution": {
     "iopub.execute_input": "2021-09-30T04:33:46.193949Z",
     "iopub.status.busy": "2021-09-30T04:33:46.193386Z",
     "iopub.status.idle": "2021-09-30T04:33:46.504249Z",
     "shell.execute_reply": "2021-09-30T04:33:46.504644Z"
    }
   },
   "outputs": [],
   "source": [
    "import set_working_directory"
   ]
  },
  {
   "cell_type": "code",
   "execution_count": 2,
   "id": "nonprofit-blocking",
   "metadata": {
    "execution": {
     "iopub.execute_input": "2021-09-30T04:33:46.508004Z",
     "iopub.status.busy": "2021-09-30T04:33:46.507443Z",
     "iopub.status.idle": "2021-09-30T04:33:47.138293Z",
     "shell.execute_reply": "2021-09-30T04:33:47.138825Z"
    }
   },
   "outputs": [],
   "source": [
    "from cogent3.evolve.substitution_model import TimeReversibleNucleotide\n",
    "from cogent3 import load_tree"
   ]
  },
  {
   "cell_type": "code",
   "execution_count": 3,
   "id": "simplified-silver",
   "metadata": {
    "execution": {
     "iopub.execute_input": "2021-09-30T04:33:47.143694Z",
     "iopub.status.busy": "2021-09-30T04:33:47.142939Z",
     "iopub.status.idle": "2021-09-30T04:33:49.189491Z",
     "shell.execute_reply": "2021-09-30T04:33:49.189813Z"
    }
   },
   "outputs": [],
   "source": [
    "model = TimeReversibleNucleotide(equal_motif_probs=True)\n",
    "tree = load_tree(\"data/test.tree\")\n",
    "lf = model.make_likelihood_function(tree)\n",
    "lf.set_param_rule(\"length\", value=0.6, is_constant=True)\n",
    "aln1 = lf.simulate_alignment(sequence_length=10000)\n",
    "lf.set_param_rule(\"length\", value=0.2, is_constant=True)\n",
    "aln2 = lf.simulate_alignment(sequence_length=10000)\n",
    "aln3 = aln1 + aln2"
   ]
  },
  {
   "cell_type": "code",
   "execution_count": 4,
   "id": "political-atmosphere",
   "metadata": {
    "execution": {
     "iopub.execute_input": "2021-09-30T04:33:49.198417Z",
     "iopub.status.busy": "2021-09-30T04:33:49.197746Z",
     "iopub.status.idle": "2021-09-30T04:33:49.955231Z",
     "shell.execute_reply": "2021-09-30T04:33:49.955729Z"
    }
   },
   "outputs": [],
   "source": [
    "model = TimeReversibleNucleotide(\n",
    "    equal_motif_probs=True, ordered_param=\"rate\", distribution=\"free\"\n",
    ")\n",
    "lf = model.make_likelihood_function(tree, bins=2, digits=2, space=3)\n",
    "lf.set_alignment(aln3)\n",
    "lf.optimise(local=True, max_restarts=2, show_progress=False)"
   ]
  },
  {
   "cell_type": "code",
   "execution_count": 5,
   "id": "bored-albania",
   "metadata": {
    "execution": {
     "iopub.execute_input": "2021-09-30T04:33:49.966094Z",
     "iopub.status.busy": "2021-09-30T04:33:49.965360Z",
     "iopub.status.idle": "2021-09-30T04:33:49.967931Z",
     "shell.execute_reply": "2021-09-30T04:33:49.968435Z"
    }
   },
   "outputs": [
    {
     "data": {
      "text/html": [
       "\n",
       "<div class=\"c3table\">\n",
       "\n",
       "<style>\n",
       ".c3table table {margin: 10px 0;}\n",
       ".c3table tr:last-child {border-bottom: 1px solid #000;} \n",
       ".c3table tr > th {text-align: left; padding: 0 5px;}\n",
       ".c3table tr > td {text-align: left; padding: 5px;}\n",
       ".c3table tr:nth-child(even) {background: #f7f7f7 !important;}\n",
       ".c3table .ellipsis {background: rgba(0, 0, 0, .01);}\n",
       ".c3table .index {background: rgba(161, 195, 209, 0.0); margin: 10px; font-weight: 600;}\n",
       ".c3table .head_cell {background: rgba(161, 195, 209, 0.75); font-weight: bold; text-align: center;}\n",
       ".c3table caption {color: rgb(250, 250, 250); background: rgba(30, 140, 200, 1); padding: 3px; white-space: nowrap; caption-side: top;}\n",
       ".c3table .cell_title {font-weight: bold;}\n",
       ".c3col_left { text-align: left !important; display: block;}\n",
       ".c3col_right { text-align: right !important; display: block;}\n",
       ".c3col_center { text-align: center !important; display: block;}\n",
       "</style>\n",
       "\n",
       "<table>\n",
       "\n",
       "<caption>\n",
       "<span class=\"cell_title\">bin params</span>\n",
       "</caption>\n",
       "<thead class=\"head_cell\">\n",
       "<th>bin</th><th>bprobs</th><th>rate</th>\n",
       "</thead>\n",
       "<tbody>\n",
       "<tr><td><span class=\"c3col_left\">bin0</span></td><td><span class=\"c3col_right\">0.43</span></td><td><span class=\"c3col_right\">0.47</span></td></tr>\n",
       "<tr><td><span class=\"c3col_left\">bin1</span></td><td><span class=\"c3col_right\">0.57</span></td><td><span class=\"c3col_right\">1.41</span></td></tr>\n",
       "</tbody>\n",
       "</table>\n",
       "<p>\n",
       "2 rows x 3 columns</p>\n",
       "</div>"
      ],
      "text/plain": [
       "bin params\n",
       "====================\n",
       "bin    bprobs   rate\n",
       "--------------------\n",
       "bin0     0.43   0.47\n",
       "bin1     0.57   1.41\n",
       "--------------------\n",
       "\n",
       "2 rows x 3 columns"
      ]
     },
     "execution_count": 5,
     "metadata": {},
     "output_type": "execute_result"
    }
   ],
   "source": [
    "bprobs = [t for t in lf.get_statistics() if \"bin\" in t.title][0]\n",
    "bprobs"
   ]
  },
  {
   "cell_type": "code",
   "execution_count": 6,
   "id": "municipal-shell",
   "metadata": {
    "execution": {
     "iopub.execute_input": "2021-09-30T04:33:50.039094Z",
     "iopub.status.busy": "2021-09-30T04:33:49.995501Z",
     "iopub.status.idle": "2021-09-30T04:33:51.714119Z",
     "shell.execute_reply": "2021-09-30T04:33:51.714555Z"
    }
   },
   "outputs": [],
   "source": [
    "model = TimeReversibleNucleotide(\n",
    "    equal_motif_probs=True, ordered_param=\"rate\", distribution=\"gamma\"\n",
    ")\n",
    "lf = model.make_likelihood_function(tree, bins=4)\n",
    "lf.set_param_rule(\"bprobs\", is_constant=True)\n",
    "lf.set_alignment(aln3)\n",
    "lf.optimise(local=True, max_restarts=2, show_progress=False)"
   ]
  }
 ],
 "metadata": {
  "kernelspec": {
   "display_name": "Python 3",
   "language": "python",
   "name": "python3"
  },
  "language_info": {
   "codemirror_mode": {
    "name": "ipython",
    "version": 3
   },
   "file_extension": ".py",
   "mimetype": "text/x-python",
   "name": "python",
   "nbconvert_exporter": "python",
   "pygments_lexer": "ipython3",
   "version": "3.9.0"
  }
 },
 "nbformat": 4,
 "nbformat_minor": 5
}