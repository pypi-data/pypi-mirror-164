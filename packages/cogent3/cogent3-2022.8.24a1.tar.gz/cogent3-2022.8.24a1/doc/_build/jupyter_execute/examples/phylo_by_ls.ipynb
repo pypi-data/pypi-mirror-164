{
 "cells": [
  {
   "cell_type": "code",
   "execution_count": 1,
   "id": "desperate-humor",
   "metadata": {
    "execution": {
     "iopub.execute_input": "2021-09-30T04:33:43.369911Z",
     "iopub.status.busy": "2021-09-30T04:33:43.369258Z",
     "iopub.status.idle": "2021-09-30T04:33:43.683679Z",
     "shell.execute_reply": "2021-09-30T04:33:43.684226Z"
    }
   },
   "outputs": [],
   "source": [
    "import set_working_directory"
   ]
  },
  {
   "cell_type": "code",
   "execution_count": 2,
   "id": "challenging-turning",
   "metadata": {
    "execution": {
     "iopub.execute_input": "2021-09-30T04:33:43.689406Z",
     "iopub.status.busy": "2021-09-30T04:33:43.688652Z",
     "iopub.status.idle": "2021-09-30T04:33:44.742055Z",
     "shell.execute_reply": "2021-09-30T04:33:44.742612Z"
    }
   },
   "outputs": [],
   "source": [
    "import pickle\n",
    "from cogent3 import load_aligned_seqs\n",
    "from cogent3.evolve import distance\n",
    "from cogent3.evolve.models import HKY85\n",
    "from cogent3.evolve.fast_distance import DistanceMatrix\n",
    "\n",
    "al = load_aligned_seqs(\"data/long_testseqs.fasta\")\n",
    "d = distance.EstimateDistances(al, submodel=HKY85())\n",
    "d.run(show_progress=False)\n",
    "\n",
    "with open(\"dists_for_phylo.pickle\", \"wb\") as f:\n",
    "    pickle.dump(d.get_pairwise_distances(), f)"
   ]
  },
  {
   "cell_type": "code",
   "execution_count": 3,
   "id": "hindu-august",
   "metadata": {
    "execution": {
     "iopub.execute_input": "2021-09-30T04:33:44.746520Z",
     "iopub.status.busy": "2021-09-30T04:33:44.745842Z",
     "iopub.status.idle": "2021-09-30T04:33:44.750408Z",
     "shell.execute_reply": "2021-09-30T04:33:44.750881Z"
    }
   },
   "outputs": [],
   "source": [
    "import pickle\n",
    "from cogent3.phylo import least_squares"
   ]
  },
  {
   "cell_type": "code",
   "execution_count": 4,
   "id": "rotary-average",
   "metadata": {
    "execution": {
     "iopub.execute_input": "2021-09-30T04:33:44.754952Z",
     "iopub.status.busy": "2021-09-30T04:33:44.754233Z",
     "iopub.status.idle": "2021-09-30T04:33:44.756456Z",
     "shell.execute_reply": "2021-09-30T04:33:44.757072Z"
    }
   },
   "outputs": [],
   "source": [
    "with open(\"dists_for_phylo.pickle\", \"rb\") as f:\n",
    "    dists = pickle.load(f)"
   ]
  },
  {
   "cell_type": "code",
   "execution_count": 5,
   "id": "convenient-frequency",
   "metadata": {
    "execution": {
     "iopub.execute_input": "2021-09-30T04:33:44.760510Z",
     "iopub.status.busy": "2021-09-30T04:33:44.759855Z",
     "iopub.status.idle": "2021-09-30T04:33:44.761988Z",
     "shell.execute_reply": "2021-09-30T04:33:44.762410Z"
    }
   },
   "outputs": [],
   "source": [
    "ls = least_squares.WLS(dists)"
   ]
  },
  {
   "cell_type": "code",
   "execution_count": 6,
   "id": "thick-vancouver",
   "metadata": {
    "execution": {
     "iopub.execute_input": "2021-09-30T04:33:44.766210Z",
     "iopub.status.busy": "2021-09-30T04:33:44.765578Z",
     "iopub.status.idle": "2021-09-30T04:33:44.767209Z",
     "shell.execute_reply": "2021-09-30T04:33:44.767870Z"
    }
   },
   "outputs": [],
   "source": [
    "ls_distance_matrix = least_squares.WLS(DistanceMatrix(dists))\n",
    "ls_pairwise_matrix = least_squares.WLS(dists.to_dict())"
   ]
  },
  {
   "cell_type": "code",
   "execution_count": 7,
   "id": "directed-payment",
   "metadata": {
    "execution": {
     "iopub.execute_input": "2021-09-30T04:33:44.771844Z",
     "iopub.status.busy": "2021-09-30T04:33:44.771250Z",
     "iopub.status.idle": "2021-09-30T04:33:44.775486Z",
     "shell.execute_reply": "2021-09-30T04:33:44.774984Z"
    }
   },
   "outputs": [],
   "source": [
    "score, tree = ls.trex(a=5, k=1, show_progress=False)\n",
    "assert score < 1e-4"
   ]
  },
  {
   "cell_type": "code",
   "execution_count": 8,
   "id": "whole-september",
   "metadata": {
    "execution": {
     "iopub.execute_input": "2021-09-30T04:33:44.779236Z",
     "iopub.status.busy": "2021-09-30T04:33:44.778600Z",
     "iopub.status.idle": "2021-09-30T04:33:44.783479Z",
     "shell.execute_reply": "2021-09-30T04:33:44.783013Z"
    }
   },
   "outputs": [],
   "source": [
    "trees = ls.trex(a=5, k=5, return_all=True, show_progress=False)"
   ]
  },
  {
   "cell_type": "code",
   "execution_count": 9,
   "id": "attached-typing",
   "metadata": {
    "execution": {
     "iopub.execute_input": "2021-09-30T04:33:44.786847Z",
     "iopub.status.busy": "2021-09-30T04:33:44.786195Z",
     "iopub.status.idle": "2021-09-30T04:33:44.788520Z",
     "shell.execute_reply": "2021-09-30T04:33:44.788973Z"
    }
   },
   "outputs": [
    {
     "name": "stdout",
     "output_type": "stream",
     "text": [
      "5\n"
     ]
    }
   ],
   "source": [
    "print(len(trees))"
   ]
  },
  {
   "cell_type": "code",
   "execution_count": 10,
   "id": "entitled-young",
   "metadata": {
    "execution": {
     "iopub.execute_input": "2021-09-30T04:33:44.792047Z",
     "iopub.status.busy": "2021-09-30T04:33:44.791469Z",
     "iopub.status.idle": "2021-09-30T04:33:44.793226Z",
     "shell.execute_reply": "2021-09-30T04:33:44.793694Z"
    }
   },
   "outputs": [],
   "source": [
    "wls_stats = [tree[0] for tree in trees]"
   ]
  },
  {
   "cell_type": "code",
   "execution_count": 11,
   "id": "pursuant-guide",
   "metadata": {
    "execution": {
     "iopub.execute_input": "2021-09-30T04:33:44.797403Z",
     "iopub.status.busy": "2021-09-30T04:33:44.796815Z",
     "iopub.status.idle": "2021-09-30T04:33:44.798977Z",
     "shell.execute_reply": "2021-09-30T04:33:44.799388Z"
    }
   },
   "outputs": [
    {
     "name": "stdout",
     "output_type": "stream",
     "text": [
      "          /-Mouse\n",
      "         |\n",
      "         |          /-DogFaced\n",
      "-root----|-edge.0--|\n",
      "         |          \\-NineBande\n",
      "         |\n",
      "         |          /-HowlerMon\n",
      "          \\edge.1--|\n",
      "                    \\-Human\n"
     ]
    }
   ],
   "source": [
    "t1 = trees[0][1].balanced()\n",
    "t2 = trees[1][1].balanced()\n",
    "print(t1.ascii_art())"
   ]
  },
  {
   "cell_type": "code",
   "execution_count": 12,
   "id": "psychological-planning",
   "metadata": {
    "execution": {
     "iopub.execute_input": "2021-09-30T04:33:44.802414Z",
     "iopub.status.busy": "2021-09-30T04:33:44.801828Z",
     "iopub.status.idle": "2021-09-30T04:33:44.803893Z",
     "shell.execute_reply": "2021-09-30T04:33:44.804350Z"
    }
   },
   "outputs": [
    {
     "name": "stdout",
     "output_type": "stream",
     "text": [
      "          /-DogFaced\n",
      "         |\n",
      "         |          /-Mouse\n",
      "-root----|-edge.0--|\n",
      "         |          \\-NineBande\n",
      "         |\n",
      "         |          /-HowlerMon\n",
      "          \\edge.1--|\n",
      "                    \\-Human\n"
     ]
    }
   ],
   "source": [
    "print(t2.ascii_art())"
   ]
  },
  {
   "cell_type": "code",
   "execution_count": 13,
   "id": "wrong-poultry",
   "metadata": {
    "execution": {
     "iopub.execute_input": "2021-09-30T04:33:44.807659Z",
     "iopub.status.busy": "2021-09-30T04:33:44.807042Z",
     "iopub.status.idle": "2021-09-30T04:33:44.808994Z",
     "shell.execute_reply": "2021-09-30T04:33:44.809398Z"
    }
   },
   "outputs": [],
   "source": [
    "from cogent3 import make_tree\n",
    "\n",
    "query_tree = make_tree(\n",
    "    \"((Human:.2,DogFaced:.2):.3,(NineBande:.1, Mouse:.5):.2,HowlerMon:.1)\"\n",
    ")"
   ]
  },
  {
   "cell_type": "code",
   "execution_count": 14,
   "id": "friendly-footwear",
   "metadata": {
    "execution": {
     "iopub.execute_input": "2021-09-30T04:33:44.817568Z",
     "iopub.status.busy": "2021-09-30T04:33:44.816787Z",
     "iopub.status.idle": "2021-09-30T04:33:44.820033Z",
     "shell.execute_reply": "2021-09-30T04:33:44.819480Z"
    }
   },
   "outputs": [
    {
     "data": {
      "text/plain": [
       "2.893810180909291"
      ]
     },
     "execution_count": 14,
     "metadata": {},
     "output_type": "execute_result"
    }
   ],
   "source": [
    "ls.evaluate_tree(query_tree)"
   ]
  },
  {
   "cell_type": "code",
   "execution_count": 15,
   "id": "appointed-partner",
   "metadata": {
    "execution": {
     "iopub.execute_input": "2021-09-30T04:33:44.823993Z",
     "iopub.status.busy": "2021-09-30T04:33:44.823339Z",
     "iopub.status.idle": "2021-09-30T04:33:44.825232Z",
     "shell.execute_reply": "2021-09-30T04:33:44.825660Z"
    }
   },
   "outputs": [],
   "source": [
    "wls, t = ls.evaluate_topology(query_tree)\n",
    "assert \"%.4f\" % wls == \"0.0084\""
   ]
  },
  {
   "cell_type": "code",
   "execution_count": 16,
   "id": "ranging-southwest",
   "metadata": {
    "execution": {
     "iopub.execute_input": "2021-09-30T04:33:44.828780Z",
     "iopub.status.busy": "2021-09-30T04:33:44.828137Z",
     "iopub.status.idle": "2021-09-30T04:33:44.830182Z",
     "shell.execute_reply": "2021-09-30T04:33:44.830596Z"
    }
   },
   "outputs": [],
   "source": [
    "import os\n",
    "\n",
    "os.remove(\"dists_for_phylo.pickle\")"
   ]
  }
 ],
 "metadata": {
  "kernelspec": {
   "display_name": "Python 3",
   "language": "python",
   "name": "python3"
  },
  "language_info": {
   "codemirror_mode": {
    "name": "ipython",
    "version": 3
   },
   "file_extension": ".py",
   "mimetype": "text/x-python",
   "name": "python",
   "nbconvert_exporter": "python",
   "pygments_lexer": "ipython3",
   "version": "3.9.0"
  }
 },
 "nbformat": 4,
 "nbformat_minor": 5
}