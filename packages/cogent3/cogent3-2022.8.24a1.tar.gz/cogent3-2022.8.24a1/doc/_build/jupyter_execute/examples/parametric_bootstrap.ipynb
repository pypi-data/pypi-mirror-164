{
 "cells": [
  {
   "cell_type": "code",
   "execution_count": 1,
   "id": "smaller-proceeding",
   "metadata": {
    "execution": {
     "iopub.execute_input": "2021-09-30T04:33:35.873083Z",
     "iopub.status.busy": "2021-09-30T04:33:35.872358Z",
     "iopub.status.idle": "2021-09-30T04:33:36.158605Z",
     "shell.execute_reply": "2021-09-30T04:33:36.158998Z"
    }
   },
   "outputs": [],
   "source": [
    "import set_working_directory"
   ]
  },
  {
   "cell_type": "code",
   "execution_count": 2,
   "id": "adaptive-range",
   "metadata": {
    "execution": {
     "iopub.execute_input": "2021-09-30T04:33:36.162289Z",
     "iopub.status.busy": "2021-09-30T04:33:36.161740Z",
     "iopub.status.idle": "2021-09-30T04:33:36.760966Z",
     "shell.execute_reply": "2021-09-30T04:33:36.760524Z"
    }
   },
   "outputs": [],
   "source": [
    "from cogent3 import load_aligned_seqs, load_tree\n",
    "from cogent3.evolve import bootstrap\n",
    "from cogent3.evolve.models import HKY85\n",
    "from cogent3.maths import stats"
   ]
  },
  {
   "cell_type": "code",
   "execution_count": 3,
   "id": "documentary-single",
   "metadata": {
    "execution": {
     "iopub.execute_input": "2021-09-30T04:33:36.764626Z",
     "iopub.status.busy": "2021-09-30T04:33:36.763872Z",
     "iopub.status.idle": "2021-09-30T04:33:36.765895Z",
     "shell.execute_reply": "2021-09-30T04:33:36.766318Z"
    }
   },
   "outputs": [],
   "source": [
    "def create_alt_function():\n",
    "    t = load_tree(\"data/test.tree\")\n",
    "    sm = HKY85()\n",
    "    return sm.make_likelihood_function(t)"
   ]
  },
  {
   "cell_type": "code",
   "execution_count": 4,
   "id": "operating-symposium",
   "metadata": {
    "execution": {
     "iopub.execute_input": "2021-09-30T04:33:36.769181Z",
     "iopub.status.busy": "2021-09-30T04:33:36.768623Z",
     "iopub.status.idle": "2021-09-30T04:33:36.770592Z",
     "shell.execute_reply": "2021-09-30T04:33:36.770256Z"
    }
   },
   "outputs": [],
   "source": [
    "def create_null_function():\n",
    "    lf = create_alt_function()\n",
    "    # set the local clock for humans & howler monkey\n",
    "    lf.set_local_clock(\"Human\", \"HowlerMon\")\n",
    "    return lf"
   ]
  },
  {
   "cell_type": "code",
   "execution_count": 5,
   "id": "breathing-criminal",
   "metadata": {
    "execution": {
     "iopub.execute_input": "2021-09-30T04:33:36.773484Z",
     "iopub.status.busy": "2021-09-30T04:33:36.772951Z",
     "iopub.status.idle": "2021-09-30T04:33:36.777112Z",
     "shell.execute_reply": "2021-09-30T04:33:36.777527Z"
    }
   },
   "outputs": [],
   "source": [
    "aln = load_aligned_seqs(\"data/long_testseqs.fasta\")"
   ]
  },
  {
   "cell_type": "code",
   "execution_count": 6,
   "id": "distinguished-palestinian",
   "metadata": {
    "execution": {
     "iopub.execute_input": "2021-09-30T04:33:36.780600Z",
     "iopub.status.busy": "2021-09-30T04:33:36.779860Z",
     "iopub.status.idle": "2021-09-30T04:33:36.790393Z",
     "shell.execute_reply": "2021-09-30T04:33:36.789812Z"
    }
   },
   "outputs": [
    {
     "name": "stderr",
     "output_type": "stream",
     "text": [
      "/Users/gavin/repos/Cogent3/src/cogent3/evolve/parameter_controller.py:409: UserWarning: Used mean of 2 length values\n",
      "  self.assign_all(\n"
     ]
    }
   ],
   "source": [
    "estimateP = bootstrap.EstimateProbability(\n",
    "    create_null_function(), create_alt_function(), aln\n",
    ")"
   ]
  },
  {
   "cell_type": "code",
   "execution_count": 7,
   "id": "amino-scout",
   "metadata": {
    "execution": {
     "iopub.execute_input": "2021-09-30T04:33:36.794043Z",
     "iopub.status.busy": "2021-09-30T04:33:36.793322Z",
     "iopub.status.idle": "2021-09-30T04:33:36.795613Z",
     "shell.execute_reply": "2021-09-30T04:33:36.796061Z"
    }
   },
   "outputs": [],
   "source": [
    "estimateP.set_num_replicates(5)"
   ]
  },
  {
   "cell_type": "code",
   "execution_count": 8,
   "id": "cellular-skiing",
   "metadata": {
    "execution": {
     "iopub.execute_input": "2021-09-30T04:33:36.799544Z",
     "iopub.status.busy": "2021-09-30T04:33:36.798847Z",
     "iopub.status.idle": "2021-09-30T04:33:39.574714Z",
     "shell.execute_reply": "2021-09-30T04:33:39.575257Z"
    }
   },
   "outputs": [
    {
     "name": "stderr",
     "output_type": "stream",
     "text": [
      "/Users/gavin/repos/Cogent3/src/cogent3/maths/optimisers.py:192: UserWarning: Unused arg for local alignment: random_series\n",
      "  warnings.warn(\"Unused arg for local alignment: \" + k)\n"
     ]
    }
   ],
   "source": [
    "estimateP.run(show_progress=False)"
   ]
  },
  {
   "cell_type": "code",
   "execution_count": 9,
   "id": "indoor-reform",
   "metadata": {
    "execution": {
     "iopub.execute_input": "2021-09-30T04:33:39.578729Z",
     "iopub.status.busy": "2021-09-30T04:33:39.578121Z",
     "iopub.status.idle": "2021-09-30T04:33:39.580262Z",
     "shell.execute_reply": "2021-09-30T04:33:39.580660Z"
    }
   },
   "outputs": [],
   "source": [
    "p = estimateP.get_estimated_prob()"
   ]
  },
  {
   "cell_type": "code",
   "execution_count": 10,
   "id": "heated-service",
   "metadata": {
    "execution": {
     "iopub.execute_input": "2021-09-30T04:33:39.583802Z",
     "iopub.status.busy": "2021-09-30T04:33:39.583174Z",
     "iopub.status.idle": "2021-09-30T04:33:39.585288Z",
     "shell.execute_reply": "2021-09-30T04:33:39.585723Z"
    }
   },
   "outputs": [
    {
     "name": "stdout",
     "output_type": "stream",
     "text": [
      "-8751.94, -8750.59\n"
     ]
    }
   ],
   "source": [
    "print(\"%.2f, %.2f\" % estimateP.get_observed_lnL())"
   ]
  }
 ],
 "metadata": {
  "kernelspec": {
   "display_name": "Python 3",
   "language": "python",
   "name": "python3"
  },
  "language_info": {
   "codemirror_mode": {
    "name": "ipython",
    "version": 3
   },
   "file_extension": ".py",
   "mimetype": "text/x-python",
   "name": "python",
   "nbconvert_exporter": "python",
   "pygments_lexer": "ipython3",
   "version": "3.9.0"
  }
 },
 "nbformat": 4,
 "nbformat_minor": 5
}