{
 "cells": [
  {
   "cell_type": "code",
   "execution_count": 1,
   "id": "preceding-nelson",
   "metadata": {
    "execution": {
     "iopub.execute_input": "2021-09-30T04:33:23.718535Z",
     "iopub.status.busy": "2021-09-30T04:33:23.717892Z",
     "iopub.status.idle": "2021-09-30T04:33:23.990720Z",
     "shell.execute_reply": "2021-09-30T04:33:23.991125Z"
    }
   },
   "outputs": [],
   "source": [
    "import set_working_directory"
   ]
  },
  {
   "cell_type": "code",
   "execution_count": 2,
   "id": "violent-defendant",
   "metadata": {
    "execution": {
     "iopub.execute_input": "2021-09-30T04:33:23.994606Z",
     "iopub.status.busy": "2021-09-30T04:33:23.994045Z",
     "iopub.status.idle": "2021-09-30T04:33:24.559974Z",
     "shell.execute_reply": "2021-09-30T04:33:24.560441Z"
    }
   },
   "outputs": [],
   "source": [
    "from cogent3 import load_aligned_seqs, load_tree\n",
    "from cogent3.evolve.models import get_model\n",
    "from cogent3.maths import stats"
   ]
  },
  {
   "cell_type": "code",
   "execution_count": 3,
   "id": "funky-station",
   "metadata": {
    "execution": {
     "iopub.execute_input": "2021-09-30T04:33:24.564073Z",
     "iopub.status.busy": "2021-09-30T04:33:24.563473Z",
     "iopub.status.idle": "2021-09-30T04:33:24.568769Z",
     "shell.execute_reply": "2021-09-30T04:33:24.569295Z"
    }
   },
   "outputs": [],
   "source": [
    "al = load_aligned_seqs(\"data/long_testseqs.fasta\")\n",
    "t = load_tree(\"data/test.tree\")"
   ]
  },
  {
   "cell_type": "code",
   "execution_count": 4,
   "id": "sound-luxembourg",
   "metadata": {
    "execution": {
     "iopub.execute_input": "2021-09-30T04:33:24.575866Z",
     "iopub.status.busy": "2021-09-30T04:33:24.575381Z",
     "iopub.status.idle": "2021-09-30T04:33:25.247452Z",
     "shell.execute_reply": "2021-09-30T04:33:25.247926Z"
    }
   },
   "outputs": [],
   "source": [
    "sm = get_model(\"MG94GTR\")"
   ]
  },
  {
   "cell_type": "code",
   "execution_count": 5,
   "id": "administrative-celebrity",
   "metadata": {
    "execution": {
     "iopub.execute_input": "2021-09-30T04:33:25.254470Z",
     "iopub.status.busy": "2021-09-30T04:33:25.253637Z",
     "iopub.status.idle": "2021-09-30T04:33:25.258126Z",
     "shell.execute_reply": "2021-09-30T04:33:25.258585Z"
    }
   },
   "outputs": [],
   "source": [
    "lf = sm.make_likelihood_function(t, digits=2, space=2)"
   ]
  },
  {
   "cell_type": "code",
   "execution_count": 6,
   "id": "equal-pierre",
   "metadata": {
    "execution": {
     "iopub.execute_input": "2021-09-30T04:33:25.262291Z",
     "iopub.status.busy": "2021-09-30T04:33:25.261594Z",
     "iopub.status.idle": "2021-09-30T04:33:25.289158Z",
     "shell.execute_reply": "2021-09-30T04:33:25.289622Z"
    }
   },
   "outputs": [],
   "source": [
    "lf.set_alignment(al)"
   ]
  },
  {
   "cell_type": "code",
   "execution_count": 7,
   "id": "fifty-cattle",
   "metadata": {
    "execution": {
     "iopub.execute_input": "2021-09-30T04:33:25.293366Z",
     "iopub.status.busy": "2021-09-30T04:33:25.292759Z",
     "iopub.status.idle": "2021-09-30T04:33:27.215368Z",
     "shell.execute_reply": "2021-09-30T04:33:27.215854Z"
    }
   },
   "outputs": [],
   "source": [
    "lf.optimise(global_tolerance=1.0, show_progress=False)"
   ]
  },
  {
   "cell_type": "code",
   "execution_count": 8,
   "id": "russian-spectacular",
   "metadata": {
    "execution": {
     "iopub.execute_input": "2021-09-30T04:33:27.226925Z",
     "iopub.status.busy": "2021-09-30T04:33:27.226227Z",
     "iopub.status.idle": "2021-09-30T04:33:27.228777Z",
     "shell.execute_reply": "2021-09-30T04:33:27.229389Z"
    }
   },
   "outputs": [
    {
     "data": {
      "text/html": [
       "<h4>MG94GTR</h4>\n",
       "<p>log-likelihood = -8636.1801</p>\n",
       "<p>number of free parameters = 13</p>\n",
       "\n",
       "<div class=\"c3table\">\n",
       "\n",
       "<style>\n",
       ".c3table table {margin: 10px 0;}\n",
       ".c3table tr:last-child {border-bottom: 1px solid #000;} \n",
       ".c3table tr > th {text-align: left; padding: 0 5px;}\n",
       ".c3table tr > td {text-align: left; padding: 5px;}\n",
       ".c3table tr:nth-child(even) {background: #f7f7f7 !important;}\n",
       ".c3table .ellipsis {background: rgba(0, 0, 0, .01);}\n",
       ".c3table .index {background: rgba(161, 195, 209, 0.0); margin: 10px; font-weight: 600;}\n",
       ".c3table .head_cell {background: rgba(161, 195, 209, 0.75); font-weight: bold; text-align: center;}\n",
       ".c3table caption {color: rgb(250, 250, 250); background: rgba(30, 140, 200, 1); padding: 3px; white-space: nowrap; caption-side: top;}\n",
       ".c3table .cell_title {font-weight: bold;}\n",
       ".c3col_left { text-align: left !important; display: block;}\n",
       ".c3col_right { text-align: right !important; display: block;}\n",
       ".c3col_center { text-align: center !important; display: block;}\n",
       "</style>\n",
       "\n",
       "<table>\n",
       "\n",
       "<caption>\n",
       "<span class=\"cell_title\">Global params</span>\n",
       "</caption>\n",
       "<thead class=\"head_cell\">\n",
       "<th>A/C</th><th>A/G</th><th>A/T</th><th>C/G</th><th>C/T</th><th>omega</th>\n",
       "</thead>\n",
       "<tbody>\n",
       "<tr><td><span class=\"c3col_right\">1.02</span></td><td><span class=\"c3col_right\">3.36</span></td><td><span class=\"c3col_right\">0.73</span></td><td><span class=\"c3col_right\">0.95</span></td><td><span class=\"c3col_right\">3.71</span></td><td><span class=\"c3col_right\">0.90</span></td></tr>\n",
       "</tbody>\n",
       "</table>\n",
       "\n",
       "</div>\n",
       "\n",
       "<div class=\"c3table\">\n",
       "\n",
       "<style>\n",
       ".c3table table {margin: 10px 0;}\n",
       ".c3table tr:last-child {border-bottom: 1px solid #000;} \n",
       ".c3table tr > th {text-align: left; padding: 0 5px;}\n",
       ".c3table tr > td {text-align: left; padding: 5px;}\n",
       ".c3table tr:nth-child(even) {background: #f7f7f7 !important;}\n",
       ".c3table .ellipsis {background: rgba(0, 0, 0, .01);}\n",
       ".c3table .index {background: rgba(161, 195, 209, 0.0); margin: 10px; font-weight: 600;}\n",
       ".c3table .head_cell {background: rgba(161, 195, 209, 0.75); font-weight: bold; text-align: center;}\n",
       ".c3table caption {color: rgb(250, 250, 250); background: rgba(30, 140, 200, 1); padding: 3px; white-space: nowrap; caption-side: top;}\n",
       ".c3table .cell_title {font-weight: bold;}\n",
       ".c3col_left { text-align: left !important; display: block;}\n",
       ".c3col_right { text-align: right !important; display: block;}\n",
       ".c3col_center { text-align: center !important; display: block;}\n",
       "</style>\n",
       "\n",
       "<table>\n",
       "\n",
       "<caption>\n",
       "<span class=\"cell_title\">Edge params</span>\n",
       "</caption>\n",
       "<thead class=\"head_cell\">\n",
       "<th>edge</th><th>parent</th><th>length</th>\n",
       "</thead>\n",
       "<tbody>\n",
       "<tr><td><span class=\"c3col_left\">Human</span></td><td><span class=\"c3col_left\">edge.0</span></td><td><span class=\"c3col_right\">0.09</span></td></tr>\n",
       "<tr><td><span class=\"c3col_left\">HowlerMon</span></td><td><span class=\"c3col_left\">edge.0</span></td><td><span class=\"c3col_right\">0.12</span></td></tr>\n",
       "<tr><td><span class=\"c3col_left\">edge.0</span></td><td><span class=\"c3col_left\">edge.1</span></td><td><span class=\"c3col_right\">0.12</span></td></tr>\n",
       "<tr><td><span class=\"c3col_left\">Mouse</span></td><td><span class=\"c3col_left\">edge.1</span></td><td><span class=\"c3col_right\">0.84</span></td></tr>\n",
       "<tr><td><span class=\"c3col_left\">edge.1</span></td><td><span class=\"c3col_left\">root</span></td><td><span class=\"c3col_right\">0.06</span></td></tr>\n",
       "<tr><td><span class=\"c3col_left\">NineBande</span></td><td><span class=\"c3col_left\">root</span></td><td><span class=\"c3col_right\">0.28</span></td></tr>\n",
       "<tr><td><span class=\"c3col_left\">DogFaced</span></td><td><span class=\"c3col_left\">root</span></td><td><span class=\"c3col_right\">0.34</span></td></tr>\n",
       "</tbody>\n",
       "</table>\n",
       "\n",
       "</div>\n",
       "\n",
       "<div class=\"c3table\">\n",
       "\n",
       "<style>\n",
       ".c3table table {margin: 10px 0;}\n",
       ".c3table tr:last-child {border-bottom: 1px solid #000;} \n",
       ".c3table tr > th {text-align: left; padding: 0 5px;}\n",
       ".c3table tr > td {text-align: left; padding: 5px;}\n",
       ".c3table tr:nth-child(even) {background: #f7f7f7 !important;}\n",
       ".c3table .ellipsis {background: rgba(0, 0, 0, .01);}\n",
       ".c3table .index {background: rgba(161, 195, 209, 0.0); margin: 10px; font-weight: 600;}\n",
       ".c3table .head_cell {background: rgba(161, 195, 209, 0.75); font-weight: bold; text-align: center;}\n",
       ".c3table caption {color: rgb(250, 250, 250); background: rgba(30, 140, 200, 1); padding: 3px; white-space: nowrap; caption-side: top;}\n",
       ".c3table .cell_title {font-weight: bold;}\n",
       ".c3col_left { text-align: left !important; display: block;}\n",
       ".c3col_right { text-align: right !important; display: block;}\n",
       ".c3col_center { text-align: center !important; display: block;}\n",
       "</style>\n",
       "\n",
       "<table>\n",
       "\n",
       "<caption>\n",
       "<span class=\"cell_title\">Motif params</span>\n",
       "</caption>\n",
       "<thead class=\"head_cell\">\n",
       "<th>A</th><th>C</th><th>G</th><th>T</th>\n",
       "</thead>\n",
       "<tbody>\n",
       "<tr><td><span class=\"c3col_right\">0.37</span></td><td><span class=\"c3col_right\">0.19</span></td><td><span class=\"c3col_right\">0.21</span></td><td><span class=\"c3col_right\">0.23</span></td></tr>\n",
       "</tbody>\n",
       "</table>\n",
       "\n",
       "</div>"
      ],
      "text/plain": [
       "MG94GTR\n",
       "log-likelihood = -8636.1801\n",
       "number of free parameters = 13\n",
       "===================================\n",
       " A/C   A/G   A/T   C/G   C/T  omega\n",
       "-----------------------------------\n",
       "1.02  3.36  0.73  0.95  3.71   0.90\n",
       "-----------------------------------\n",
       "=========================\n",
       "edge       parent  length\n",
       "-------------------------\n",
       "Human      edge.0    0.09\n",
       "HowlerMon  edge.0    0.12\n",
       "edge.0     edge.1    0.12\n",
       "Mouse      edge.1    0.84\n",
       "edge.1     root      0.06\n",
       "NineBande  root      0.28\n",
       "DogFaced   root      0.34\n",
       "-------------------------\n",
       "======================\n",
       "   A     C     G     T\n",
       "----------------------\n",
       "0.37  0.19  0.21  0.23\n",
       "----------------------"
      ]
     },
     "execution_count": 8,
     "metadata": {},
     "output_type": "execute_result"
    }
   ],
   "source": [
    "lf"
   ]
  },
  {
   "cell_type": "code",
   "execution_count": 9,
   "id": "amended-lightweight",
   "metadata": {
    "execution": {
     "iopub.execute_input": "2021-09-30T04:33:27.232690Z",
     "iopub.status.busy": "2021-09-30T04:33:27.232083Z",
     "iopub.status.idle": "2021-09-30T04:33:27.233783Z",
     "shell.execute_reply": "2021-09-30T04:33:27.234195Z"
    }
   },
   "outputs": [],
   "source": [
    "null_lnL = lf.get_log_likelihood()\n",
    "null_nfp = lf.get_num_free_params()"
   ]
  },
  {
   "cell_type": "code",
   "execution_count": 10,
   "id": "relative-toyota",
   "metadata": {
    "execution": {
     "iopub.execute_input": "2021-09-30T04:33:27.238111Z",
     "iopub.status.busy": "2021-09-30T04:33:27.237489Z",
     "iopub.status.idle": "2021-09-30T04:33:27.251783Z",
     "shell.execute_reply": "2021-09-30T04:33:27.251306Z"
    }
   },
   "outputs": [],
   "source": [
    "lf.set_param_rule(\"omega\", is_independent=True)"
   ]
  },
  {
   "cell_type": "code",
   "execution_count": 11,
   "id": "authorized-funds",
   "metadata": {
    "execution": {
     "iopub.execute_input": "2021-09-30T04:33:27.255661Z",
     "iopub.status.busy": "2021-09-30T04:33:27.254970Z",
     "iopub.status.idle": "2021-09-30T04:33:34.525086Z",
     "shell.execute_reply": "2021-09-30T04:33:34.525510Z"
    }
   },
   "outputs": [],
   "source": [
    "lf.optimise(local=True, show_progress=False)"
   ]
  },
  {
   "cell_type": "code",
   "execution_count": 12,
   "id": "blank-customer",
   "metadata": {
    "execution": {
     "iopub.execute_input": "2021-09-30T04:33:34.531473Z",
     "iopub.status.busy": "2021-09-30T04:33:34.530828Z",
     "iopub.status.idle": "2021-09-30T04:33:34.533519Z",
     "shell.execute_reply": "2021-09-30T04:33:34.533962Z"
    }
   },
   "outputs": [
    {
     "data": {
      "text/html": [
       "<h4>MG94GTR</h4>\n",
       "<p>log-likelihood = -8632.1355</p>\n",
       "<p>number of free parameters = 19</p>\n",
       "\n",
       "<div class=\"c3table\">\n",
       "\n",
       "<style>\n",
       ".c3table table {margin: 10px 0;}\n",
       ".c3table tr:last-child {border-bottom: 1px solid #000;} \n",
       ".c3table tr > th {text-align: left; padding: 0 5px;}\n",
       ".c3table tr > td {text-align: left; padding: 5px;}\n",
       ".c3table tr:nth-child(even) {background: #f7f7f7 !important;}\n",
       ".c3table .ellipsis {background: rgba(0, 0, 0, .01);}\n",
       ".c3table .index {background: rgba(161, 195, 209, 0.0); margin: 10px; font-weight: 600;}\n",
       ".c3table .head_cell {background: rgba(161, 195, 209, 0.75); font-weight: bold; text-align: center;}\n",
       ".c3table caption {color: rgb(250, 250, 250); background: rgba(30, 140, 200, 1); padding: 3px; white-space: nowrap; caption-side: top;}\n",
       ".c3table .cell_title {font-weight: bold;}\n",
       ".c3col_left { text-align: left !important; display: block;}\n",
       ".c3col_right { text-align: right !important; display: block;}\n",
       ".c3col_center { text-align: center !important; display: block;}\n",
       "</style>\n",
       "\n",
       "<table>\n",
       "\n",
       "<caption>\n",
       "<span class=\"cell_title\">Global params</span>\n",
       "</caption>\n",
       "<thead class=\"head_cell\">\n",
       "<th>A/C</th><th>A/G</th><th>A/T</th><th>C/G</th><th>C/T</th>\n",
       "</thead>\n",
       "<tbody>\n",
       "<tr><td><span class=\"c3col_right\">1.03</span></td><td><span class=\"c3col_right\">3.38</span></td><td><span class=\"c3col_right\">0.73</span></td><td><span class=\"c3col_right\">0.95</span></td><td><span class=\"c3col_right\">3.72</span></td></tr>\n",
       "</tbody>\n",
       "</table>\n",
       "\n",
       "</div>\n",
       "\n",
       "<div class=\"c3table\">\n",
       "\n",
       "<style>\n",
       ".c3table table {margin: 10px 0;}\n",
       ".c3table tr:last-child {border-bottom: 1px solid #000;} \n",
       ".c3table tr > th {text-align: left; padding: 0 5px;}\n",
       ".c3table tr > td {text-align: left; padding: 5px;}\n",
       ".c3table tr:nth-child(even) {background: #f7f7f7 !important;}\n",
       ".c3table .ellipsis {background: rgba(0, 0, 0, .01);}\n",
       ".c3table .index {background: rgba(161, 195, 209, 0.0); margin: 10px; font-weight: 600;}\n",
       ".c3table .head_cell {background: rgba(161, 195, 209, 0.75); font-weight: bold; text-align: center;}\n",
       ".c3table caption {color: rgb(250, 250, 250); background: rgba(30, 140, 200, 1); padding: 3px; white-space: nowrap; caption-side: top;}\n",
       ".c3table .cell_title {font-weight: bold;}\n",
       ".c3col_left { text-align: left !important; display: block;}\n",
       ".c3col_right { text-align: right !important; display: block;}\n",
       ".c3col_center { text-align: center !important; display: block;}\n",
       "</style>\n",
       "\n",
       "<table>\n",
       "\n",
       "<caption>\n",
       "<span class=\"cell_title\">Edge params</span>\n",
       "</caption>\n",
       "<thead class=\"head_cell\">\n",
       "<th>edge</th><th>parent</th><th>length</th><th>omega</th>\n",
       "</thead>\n",
       "<tbody>\n",
       "<tr><td><span class=\"c3col_left\">Human</span></td><td><span class=\"c3col_left\">edge.0</span></td><td><span class=\"c3col_right\">0.09</span></td><td><span class=\"c3col_right\">0.59</span></td></tr>\n",
       "<tr><td><span class=\"c3col_left\">HowlerMon</span></td><td><span class=\"c3col_left\">edge.0</span></td><td><span class=\"c3col_right\">0.12</span></td><td><span class=\"c3col_right\">0.96</span></td></tr>\n",
       "<tr><td><span class=\"c3col_left\">edge.0</span></td><td><span class=\"c3col_left\">edge.1</span></td><td><span class=\"c3col_right\">0.11</span></td><td><span class=\"c3col_right\">1.13</span></td></tr>\n",
       "<tr><td><span class=\"c3col_left\">Mouse</span></td><td><span class=\"c3col_left\">edge.1</span></td><td><span class=\"c3col_right\">0.83</span></td><td><span class=\"c3col_right\">0.92</span></td></tr>\n",
       "<tr><td><span class=\"c3col_left\">edge.1</span></td><td><span class=\"c3col_left\">root</span></td><td><span class=\"c3col_right\">0.06</span></td><td><span class=\"c3col_right\">0.39</span></td></tr>\n",
       "<tr><td><span class=\"c3col_left\">NineBande</span></td><td><span class=\"c3col_left\">root</span></td><td><span class=\"c3col_right\">0.28</span></td><td><span class=\"c3col_right\">1.28</span></td></tr>\n",
       "<tr><td><span class=\"c3col_left\">DogFaced</span></td><td><span class=\"c3col_left\">root</span></td><td><span class=\"c3col_right\">0.34</span></td><td><span class=\"c3col_right\">0.84</span></td></tr>\n",
       "</tbody>\n",
       "</table>\n",
       "\n",
       "</div>\n",
       "\n",
       "<div class=\"c3table\">\n",
       "\n",
       "<style>\n",
       ".c3table table {margin: 10px 0;}\n",
       ".c3table tr:last-child {border-bottom: 1px solid #000;} \n",
       ".c3table tr > th {text-align: left; padding: 0 5px;}\n",
       ".c3table tr > td {text-align: left; padding: 5px;}\n",
       ".c3table tr:nth-child(even) {background: #f7f7f7 !important;}\n",
       ".c3table .ellipsis {background: rgba(0, 0, 0, .01);}\n",
       ".c3table .index {background: rgba(161, 195, 209, 0.0); margin: 10px; font-weight: 600;}\n",
       ".c3table .head_cell {background: rgba(161, 195, 209, 0.75); font-weight: bold; text-align: center;}\n",
       ".c3table caption {color: rgb(250, 250, 250); background: rgba(30, 140, 200, 1); padding: 3px; white-space: nowrap; caption-side: top;}\n",
       ".c3table .cell_title {font-weight: bold;}\n",
       ".c3col_left { text-align: left !important; display: block;}\n",
       ".c3col_right { text-align: right !important; display: block;}\n",
       ".c3col_center { text-align: center !important; display: block;}\n",
       "</style>\n",
       "\n",
       "<table>\n",
       "\n",
       "<caption>\n",
       "<span class=\"cell_title\">Motif params</span>\n",
       "</caption>\n",
       "<thead class=\"head_cell\">\n",
       "<th>A</th><th>C</th><th>G</th><th>T</th>\n",
       "</thead>\n",
       "<tbody>\n",
       "<tr><td><span class=\"c3col_right\">0.37</span></td><td><span class=\"c3col_right\">0.19</span></td><td><span class=\"c3col_right\">0.21</span></td><td><span class=\"c3col_right\">0.23</span></td></tr>\n",
       "</tbody>\n",
       "</table>\n",
       "\n",
       "</div>"
      ],
      "text/plain": [
       "MG94GTR\n",
       "log-likelihood = -8632.1355\n",
       "number of free parameters = 19\n",
       "============================\n",
       " A/C   A/G   A/T   C/G   C/T\n",
       "----------------------------\n",
       "1.03  3.38  0.73  0.95  3.72\n",
       "----------------------------\n",
       "================================\n",
       "edge       parent  length  omega\n",
       "--------------------------------\n",
       "Human      edge.0    0.09   0.59\n",
       "HowlerMon  edge.0    0.12   0.96\n",
       "edge.0     edge.1    0.11   1.13\n",
       "Mouse      edge.1    0.83   0.92\n",
       "edge.1     root      0.06   0.39\n",
       "NineBande  root      0.28   1.28\n",
       "DogFaced   root      0.34   0.84\n",
       "--------------------------------\n",
       "======================\n",
       "   A     C     G     T\n",
       "----------------------\n",
       "0.37  0.19  0.21  0.23\n",
       "----------------------"
      ]
     },
     "execution_count": 12,
     "metadata": {},
     "output_type": "execute_result"
    }
   ],
   "source": [
    "lf"
   ]
  },
  {
   "cell_type": "code",
   "execution_count": 13,
   "id": "flexible-lecture",
   "metadata": {
    "execution": {
     "iopub.execute_input": "2021-09-30T04:33:34.538599Z",
     "iopub.status.busy": "2021-09-30T04:33:34.538001Z",
     "iopub.status.idle": "2021-09-30T04:33:34.541573Z",
     "shell.execute_reply": "2021-09-30T04:33:34.541986Z"
    }
   },
   "outputs": [],
   "source": [
    "at = lf.get_annotated_tree()"
   ]
  },
  {
   "cell_type": "code",
   "execution_count": 14,
   "id": "sporting-distance",
   "metadata": {
    "execution": {
     "iopub.execute_input": "2021-09-30T04:33:34.545692Z",
     "iopub.status.busy": "2021-09-30T04:33:34.545090Z",
     "iopub.status.idle": "2021-09-30T04:33:34.547023Z",
     "shell.execute_reply": "2021-09-30T04:33:34.547438Z"
    }
   },
   "outputs": [],
   "source": [
    "LR = 2 * (lf.get_log_likelihood() - null_lnL)\n",
    "df = lf.get_num_free_params() - null_nfp\n",
    "P = stats.chisqprob(LR, df)"
   ]
  },
  {
   "cell_type": "code",
   "execution_count": 15,
   "id": "alpine-pillow",
   "metadata": {
    "execution": {
     "iopub.execute_input": "2021-09-30T04:33:34.550591Z",
     "iopub.status.busy": "2021-09-30T04:33:34.550016Z",
     "iopub.status.idle": "2021-09-30T04:33:34.552383Z",
     "shell.execute_reply": "2021-09-30T04:33:34.552817Z"
    }
   },
   "outputs": [
    {
     "name": "stdout",
     "output_type": "stream",
     "text": [
      "Likelihood ratio statistic = 8.0892385599509\n",
      "degrees-of-freedom = 6\n",
      "probability = 0.23163811494185124\n"
     ]
    }
   ],
   "source": [
    "print(f\"Likelihood ratio statistic = {LR}\")\n",
    "print(f\"degrees-of-freedom = {df}\")\n",
    "print(f\"probability = {P}\")"
   ]
  }
 ],
 "metadata": {
  "kernelspec": {
   "display_name": "Python 3",
   "language": "python",
   "name": "python3"
  },
  "language_info": {
   "codemirror_mode": {
    "name": "ipython",
    "version": 3
   },
   "file_extension": ".py",
   "mimetype": "text/x-python",
   "name": "python",
   "nbconvert_exporter": "python",
   "pygments_lexer": "ipython3",
   "version": "3.9.0"
  }
 },
 "nbformat": 4,
 "nbformat_minor": 5
}