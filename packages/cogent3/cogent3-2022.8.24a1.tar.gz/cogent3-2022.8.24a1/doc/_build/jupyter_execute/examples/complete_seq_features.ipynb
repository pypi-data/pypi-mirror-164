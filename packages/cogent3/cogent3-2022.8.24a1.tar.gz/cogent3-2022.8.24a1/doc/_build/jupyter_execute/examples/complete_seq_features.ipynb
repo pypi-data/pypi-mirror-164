{
 "cells": [
  {
   "cell_type": "code",
   "execution_count": 1,
   "id": "collaborative-details",
   "metadata": {
    "execution": {
     "iopub.execute_input": "2021-09-30T04:32:59.116776Z",
     "iopub.status.busy": "2021-09-30T04:32:59.116193Z",
     "iopub.status.idle": "2021-09-30T04:32:59.722575Z",
     "shell.execute_reply": "2021-09-30T04:32:59.723053Z"
    }
   },
   "outputs": [],
   "source": [
    "from cogent3 import DNA\n",
    "from cogent3.core.annotation import Feature\n",
    "\n",
    "s = DNA.make_seq(\"AAGAAGAAGACCCCCAAAAAAAAAATTTTTTTTTTAAAAAAAAAAAAA\", name=\"Orig\")\n",
    "exon1 = s.add_annotation(Feature, \"exon\", \"fred\", [(10, 15)])\n",
    "exon2 = s.add_annotation(Feature, \"exon\", \"trev\", [(30, 40)])"
   ]
  },
  {
   "cell_type": "code",
   "execution_count": 2,
   "id": "certain-creator",
   "metadata": {
    "execution": {
     "iopub.execute_input": "2021-09-30T04:32:59.731715Z",
     "iopub.status.busy": "2021-09-30T04:32:59.731068Z",
     "iopub.status.idle": "2021-09-30T04:32:59.733180Z",
     "shell.execute_reply": "2021-09-30T04:32:59.733725Z"
    }
   },
   "outputs": [
    {
     "data": {
      "text/html": [
       "<style>\n",
       ".c3seq td { border: none !important; text-align: left !important; }\n",
       ".c3seq tr:not(.num_row) td span {margin: 0 2px;}\n",
       ".c3seq tr:nth-child(even) {background: #f7f7f7;}\n",
       ".c3seq .num_row {background-color:rgba(161, 195, 209, 0.5) !important; border-top: solid 1px black; }\n",
       ".c3seq .label { font-size: 12pt ; text-align: right !important; color: black !important; padding: 0 4px; }\n",
       ".c3seq .T_dna{font-family: \"Lucida Console\",monospace !important; font-size: 12pt !important; color: blue; }\n",
       ".c3seq .C_dna{font-family: \"Lucida Console\",monospace !important; font-size: 12pt !important; color: black; }\n",
       ".c3seq .A_dna{font-family: \"Lucida Console\",monospace !important; font-size: 12pt !important; color: #FF0102; }\n",
       ".c3seq .G_dna{font-family: \"Lucida Console\",monospace !important; font-size: 12pt !important; color: green; }\n",
       ".c3seq .terminal_ambig_dna{font-family: \"Lucida Console\",monospace !important; font-size: 12pt !important; color: gray; }\n",
       ".c3seq .ambig_dna{font-family: \"Lucida Console\",monospace !important; font-size: 12pt !important; color: gray; }\n",
       "</style>\n",
       "<div class=\"c3seq\">\n",
       "<table>\n",
       "<tr class=\"num_row\"><td></td><td><b>0</b></td></tr>\n",
       "<tr><td class=\"label\">Orig</td><td><span class=\"C_dna\">C</span><span class=\"C_dna\">C</span><span class=\"C_dna\">C</span><span class=\"C_dna\">C</span><span class=\"C_dna\">C</span></td></tr>\n",
       "</table>\n",
       "<p><i>5 DnaSequence</i></p>\n",
       "</div>"
      ],
      "text/plain": [
       "DnaSequence(CCCCC)"
      ]
     },
     "execution_count": 2,
     "metadata": {},
     "output_type": "execute_result"
    }
   ],
   "source": [
    "s[exon1]\n",
    "exon1.get_slice()"
   ]
  },
  {
   "cell_type": "code",
   "execution_count": 3,
   "id": "disciplinary-custody",
   "metadata": {
    "execution": {
     "iopub.execute_input": "2021-09-30T04:32:59.736814Z",
     "iopub.status.busy": "2021-09-30T04:32:59.736277Z",
     "iopub.status.idle": "2021-09-30T04:32:59.738170Z",
     "shell.execute_reply": "2021-09-30T04:32:59.738608Z"
    }
   },
   "outputs": [
    {
     "name": "stdout",
     "output_type": "stream",
     "text": [
      "[exon \"fred\" at [10:15]/48, exon \"trev\" at [30:40]/48]\n"
     ]
    }
   ],
   "source": [
    "exons = s.get_annotations_matching(\"exon\")\n",
    "print(exons)"
   ]
  },
  {
   "cell_type": "code",
   "execution_count": 4,
   "id": "pretty-crown",
   "metadata": {
    "execution": {
     "iopub.execute_input": "2021-09-30T04:32:59.741957Z",
     "iopub.status.busy": "2021-09-30T04:32:59.741382Z",
     "iopub.status.idle": "2021-09-30T04:32:59.743615Z",
     "shell.execute_reply": "2021-09-30T04:32:59.743991Z"
    }
   },
   "outputs": [
    {
     "data": {
      "text/html": [
       "<style>\n",
       ".c3seq td { border: none !important; text-align: left !important; }\n",
       ".c3seq tr:not(.num_row) td span {margin: 0 2px;}\n",
       ".c3seq tr:nth-child(even) {background: #f7f7f7;}\n",
       ".c3seq .num_row {background-color:rgba(161, 195, 209, 0.5) !important; border-top: solid 1px black; }\n",
       ".c3seq .label { font-size: 12pt ; text-align: right !important; color: black !important; padding: 0 4px; }\n",
       ".c3seq .T_dna{font-family: \"Lucida Console\",monospace !important; font-size: 12pt !important; color: blue; }\n",
       ".c3seq .C_dna{font-family: \"Lucida Console\",monospace !important; font-size: 12pt !important; color: black; }\n",
       ".c3seq .A_dna{font-family: \"Lucida Console\",monospace !important; font-size: 12pt !important; color: #FF0102; }\n",
       ".c3seq .G_dna{font-family: \"Lucida Console\",monospace !important; font-size: 12pt !important; color: green; }\n",
       ".c3seq .terminal_ambig_dna{font-family: \"Lucida Console\",monospace !important; font-size: 12pt !important; color: gray; }\n",
       ".c3seq .ambig_dna{font-family: \"Lucida Console\",monospace !important; font-size: 12pt !important; color: gray; }\n",
       "</style>\n",
       "<div class=\"c3seq\">\n",
       "<table>\n",
       "</table>\n",
       "<p><i>0 DnaSequence</i></p>\n",
       "</div>"
      ],
      "text/plain": [
       "DnaSequence()"
      ]
     },
     "execution_count": 4,
     "metadata": {},
     "output_type": "execute_result"
    }
   ],
   "source": [
    "dont_exist = s.get_annotations_matching(\"dont_exist\")\n",
    "dont_exist\n",
    "s[dont_exist]"
   ]
  },
  {
   "cell_type": "code",
   "execution_count": 5,
   "id": "designing-hampton",
   "metadata": {
    "execution": {
     "iopub.execute_input": "2021-09-30T04:32:59.747186Z",
     "iopub.status.busy": "2021-09-30T04:32:59.746594Z",
     "iopub.status.idle": "2021-09-30T04:32:59.748671Z",
     "shell.execute_reply": "2021-09-30T04:32:59.749043Z"
    }
   },
   "outputs": [
    {
     "name": "stdout",
     "output_type": "stream",
     "text": [
      "region \"exon\" at [10:15, 30:40]/48\n",
      "region \"not exon\" at [0:10, 15:30, 40:48]/48\n"
     ]
    }
   ],
   "source": [
    "print(s.get_region_covering_all(exons))\n",
    "print(s.get_region_covering_all(exons).get_shadow())"
   ]
  },
  {
   "cell_type": "code",
   "execution_count": 6,
   "id": "finished-knight",
   "metadata": {
    "execution": {
     "iopub.execute_input": "2021-09-30T04:32:59.752507Z",
     "iopub.status.busy": "2021-09-30T04:32:59.751932Z",
     "iopub.status.idle": "2021-09-30T04:32:59.754068Z",
     "shell.execute_reply": "2021-09-30T04:32:59.754442Z"
    }
   },
   "outputs": [
    {
     "data": {
      "text/html": [
       "<style>\n",
       ".c3seq td { border: none !important; text-align: left !important; }\n",
       ".c3seq tr:not(.num_row) td span {margin: 0 2px;}\n",
       ".c3seq tr:nth-child(even) {background: #f7f7f7;}\n",
       ".c3seq .num_row {background-color:rgba(161, 195, 209, 0.5) !important; border-top: solid 1px black; }\n",
       ".c3seq .label { font-size: 12pt ; text-align: right !important; color: black !important; padding: 0 4px; }\n",
       ".c3seq .T_dna{font-family: \"Lucida Console\",monospace !important; font-size: 12pt !important; color: blue; }\n",
       ".c3seq .C_dna{font-family: \"Lucida Console\",monospace !important; font-size: 12pt !important; color: black; }\n",
       ".c3seq .A_dna{font-family: \"Lucida Console\",monospace !important; font-size: 12pt !important; color: #FF0102; }\n",
       ".c3seq .G_dna{font-family: \"Lucida Console\",monospace !important; font-size: 12pt !important; color: green; }\n",
       ".c3seq .terminal_ambig_dna{font-family: \"Lucida Console\",monospace !important; font-size: 12pt !important; color: gray; }\n",
       ".c3seq .ambig_dna{font-family: \"Lucida Console\",monospace !important; font-size: 12pt !important; color: gray; }\n",
       "</style>\n",
       "<div class=\"c3seq\">\n",
       "<table>\n",
       "<tr class=\"num_row\"><td></td><td><b>0</b></td></tr>\n",
       "<tr><td class=\"label\">Orig</td><td><span class=\"C_dna\">C</span><span class=\"C_dna\">C</span><span class=\"C_dna\">C</span><span class=\"C_dna\">C</span><span class=\"C_dna\">C</span><span class=\"T_dna\">T</span><span class=\"T_dna\">T</span><span class=\"T_dna\">T</span><span class=\"T_dna\">T</span><span class=\"T_dna\">T</span><span class=\"A_dna\">A</span><span class=\"A_dna\">A</span><span class=\"A_dna\">A</span><span class=\"A_dna\">A</span><span class=\"A_dna\">A</span></td></tr>\n",
       "</table>\n",
       "<p><i>15 DnaSequence</i></p>\n",
       "</div>"
      ],
      "text/plain": [
       "DnaSequence(CCCCCTT... 15)"
      ]
     },
     "execution_count": 6,
     "metadata": {},
     "output_type": "execute_result"
    }
   ],
   "source": [
    "s.get_region_covering_all(exons).get_slice()"
   ]
  },
  {
   "cell_type": "code",
   "execution_count": 7,
   "id": "institutional-assembly",
   "metadata": {
    "execution": {
     "iopub.execute_input": "2021-09-30T04:32:59.757719Z",
     "iopub.status.busy": "2021-09-30T04:32:59.757115Z",
     "iopub.status.idle": "2021-09-30T04:32:59.759321Z",
     "shell.execute_reply": "2021-09-30T04:32:59.759766Z"
    }
   },
   "outputs": [
    {
     "data": {
      "text/html": [
       "<style>\n",
       ".c3seq td { border: none !important; text-align: left !important; }\n",
       ".c3seq tr:not(.num_row) td span {margin: 0 2px;}\n",
       ".c3seq tr:nth-child(even) {background: #f7f7f7;}\n",
       ".c3seq .num_row {background-color:rgba(161, 195, 209, 0.5) !important; border-top: solid 1px black; }\n",
       ".c3seq .label { font-size: 12pt ; text-align: right !important; color: black !important; padding: 0 4px; }\n",
       ".c3seq .T_dna{font-family: \"Lucida Console\",monospace !important; font-size: 12pt !important; color: blue; }\n",
       ".c3seq .C_dna{font-family: \"Lucida Console\",monospace !important; font-size: 12pt !important; color: black; }\n",
       ".c3seq .A_dna{font-family: \"Lucida Console\",monospace !important; font-size: 12pt !important; color: #FF0102; }\n",
       ".c3seq .G_dna{font-family: \"Lucida Console\",monospace !important; font-size: 12pt !important; color: green; }\n",
       ".c3seq .terminal_ambig_dna{font-family: \"Lucida Console\",monospace !important; font-size: 12pt !important; color: gray; }\n",
       ".c3seq .ambig_dna{font-family: \"Lucida Console\",monospace !important; font-size: 12pt !important; color: gray; }\n",
       "</style>\n",
       "<div class=\"c3seq\">\n",
       "<table>\n",
       "<tr class=\"num_row\"><td></td><td><b>0</b></td></tr>\n",
       "<tr><td class=\"label\">Orig</td><td><span class=\"C_dna\">C</span><span class=\"C_dna\">C</span><span class=\"C_dna\">C</span><span class=\"C_dna\">C</span><span class=\"C_dna\">C</span><span class=\"T_dna\">T</span><span class=\"T_dna\">T</span><span class=\"T_dna\">T</span><span class=\"T_dna\">T</span><span class=\"T_dna\">T</span><span class=\"A_dna\">A</span><span class=\"A_dna\">A</span><span class=\"A_dna\">A</span><span class=\"A_dna\">A</span><span class=\"A_dna\">A</span></td></tr>\n",
       "</table>\n",
       "<p><i>15 DnaSequence</i></p>\n",
       "</div>"
      ],
      "text/plain": [
       "DnaSequence(CCCCCTT... 15)"
      ]
     },
     "execution_count": 7,
     "metadata": {},
     "output_type": "execute_result"
    }
   ],
   "source": [
    "s[exon1, exon2]"
   ]
  },
  {
   "cell_type": "code",
   "execution_count": 8,
   "id": "senior-atlantic",
   "metadata": {
    "execution": {
     "iopub.execute_input": "2021-09-30T04:32:59.762879Z",
     "iopub.status.busy": "2021-09-30T04:32:59.762347Z",
     "iopub.status.idle": "2021-09-30T04:32:59.932290Z",
     "shell.execute_reply": "2021-09-30T04:32:59.932746Z"
    }
   },
   "outputs": [
    {
     "name": "stdout",
     "output_type": "stream",
     "text": [
      "region \"exon\" at [10:15, 30:40]/48\n"
     ]
    },
    {
     "ename": "ValueError",
     "evalue": "Uninvertable. Overlap: 10 < 15",
     "output_type": "error",
     "traceback": [
      "\u001b[0;31m---------------------------------------------------------------------------\u001b[0m",
      "\u001b[0;31mValueError\u001b[0m                                Traceback (most recent call last)",
      "\u001b[0;32m<ipython-input-8-d8df5c884759>\u001b[0m in \u001b[0;36m<module>\u001b[0;34m\u001b[0m\n\u001b[1;32m      1\u001b[0m \u001b[0mprint\u001b[0m\u001b[0;34m(\u001b[0m\u001b[0ms\u001b[0m\u001b[0;34m.\u001b[0m\u001b[0mget_region_covering_all\u001b[0m\u001b[0;34m(\u001b[0m\u001b[0mexons\u001b[0m \u001b[0;34m+\u001b[0m \u001b[0mexons\u001b[0m\u001b[0;34m)\u001b[0m\u001b[0;34m)\u001b[0m\u001b[0;34m\u001b[0m\u001b[0;34m\u001b[0m\u001b[0m\n\u001b[0;32m----> 2\u001b[0;31m \u001b[0ms\u001b[0m\u001b[0;34m[\u001b[0m\u001b[0mexon1\u001b[0m\u001b[0;34m,\u001b[0m \u001b[0mexon1\u001b[0m\u001b[0;34m,\u001b[0m \u001b[0mexon1\u001b[0m\u001b[0;34m,\u001b[0m \u001b[0mexon1\u001b[0m\u001b[0;34m,\u001b[0m \u001b[0mexon1\u001b[0m\u001b[0;34m]\u001b[0m\u001b[0;34m\u001b[0m\u001b[0;34m\u001b[0m\u001b[0m\n\u001b[0m",
      "\u001b[0;32m~/repos/Cogent3/src/cogent3/core/annotation.py\u001b[0m in \u001b[0;36m__getitem__\u001b[0;34m(self, index)\u001b[0m\n\u001b[1;32m     88\u001b[0m         \u001b[0mmap\u001b[0m \u001b[0;34m=\u001b[0m \u001b[0mself\u001b[0m\u001b[0;34m.\u001b[0m\u001b[0m_as_map\u001b[0m\u001b[0;34m(\u001b[0m\u001b[0mindex\u001b[0m\u001b[0;34m)\u001b[0m\u001b[0;34m\u001b[0m\u001b[0;34m\u001b[0m\u001b[0m\n\u001b[1;32m     89\u001b[0m         \u001b[0mnew\u001b[0m \u001b[0;34m=\u001b[0m \u001b[0mself\u001b[0m\u001b[0;34m.\u001b[0m\u001b[0m_mapped\u001b[0m\u001b[0;34m(\u001b[0m\u001b[0mmap\u001b[0m\u001b[0;34m)\u001b[0m\u001b[0;34m\u001b[0m\u001b[0;34m\u001b[0m\u001b[0m\n\u001b[0;32m---> 90\u001b[0;31m         \u001b[0msliced_annots\u001b[0m \u001b[0;34m=\u001b[0m \u001b[0mself\u001b[0m\u001b[0;34m.\u001b[0m\u001b[0m_sliced_annotations\u001b[0m\u001b[0;34m(\u001b[0m\u001b[0mnew\u001b[0m\u001b[0;34m,\u001b[0m \u001b[0mmap\u001b[0m\u001b[0;34m)\u001b[0m\u001b[0;34m\u001b[0m\u001b[0;34m\u001b[0m\u001b[0m\n\u001b[0m\u001b[1;32m     91\u001b[0m         \u001b[0mnew\u001b[0m\u001b[0;34m.\u001b[0m\u001b[0mattach_annotations\u001b[0m\u001b[0;34m(\u001b[0m\u001b[0msliced_annots\u001b[0m\u001b[0;34m)\u001b[0m\u001b[0;34m\u001b[0m\u001b[0;34m\u001b[0m\u001b[0m\n\u001b[1;32m     92\u001b[0m         \u001b[0;32mif\u001b[0m \u001b[0mhasattr\u001b[0m\u001b[0;34m(\u001b[0m\u001b[0mself\u001b[0m\u001b[0;34m,\u001b[0m \u001b[0;34m\"_repr_policy\"\u001b[0m\u001b[0;34m)\u001b[0m\u001b[0;34m:\u001b[0m\u001b[0;34m\u001b[0m\u001b[0;34m\u001b[0m\u001b[0m\n",
      "\u001b[0;32m~/repos/Cogent3/src/cogent3/core/annotation.py\u001b[0m in \u001b[0;36m_sliced_annotations\u001b[0;34m(self, new, slice)\u001b[0m\n\u001b[1;32m     34\u001b[0m             \u001b[0mslicemap\u001b[0m \u001b[0;34m=\u001b[0m \u001b[0mself\u001b[0m\u001b[0;34m.\u001b[0m\u001b[0m_as_map\u001b[0m\u001b[0;34m(\u001b[0m\u001b[0mslice\u001b[0m\u001b[0;34m)\u001b[0m\u001b[0;34m\u001b[0m\u001b[0;34m\u001b[0m\u001b[0m\n\u001b[1;32m     35\u001b[0m             \u001b[0;31m# try:\u001b[0m\u001b[0;34m\u001b[0m\u001b[0;34m\u001b[0m\u001b[0;34m\u001b[0m\u001b[0m\n\u001b[0;32m---> 36\u001b[0;31m             \u001b[0mnewmap\u001b[0m \u001b[0;34m=\u001b[0m \u001b[0mslicemap\u001b[0m\u001b[0;34m.\u001b[0m\u001b[0minverse\u001b[0m\u001b[0;34m(\u001b[0m\u001b[0;34m)\u001b[0m\u001b[0;34m\u001b[0m\u001b[0;34m\u001b[0m\u001b[0m\n\u001b[0m\u001b[1;32m     37\u001b[0m             \u001b[0;31m# except ValueError, detail:\u001b[0m\u001b[0;34m\u001b[0m\u001b[0;34m\u001b[0m\u001b[0;34m\u001b[0m\u001b[0m\n\u001b[1;32m     38\u001b[0m             \u001b[0;31m#    print \"Annotations dropped because %s\" % detail\u001b[0m\u001b[0;34m\u001b[0m\u001b[0;34m\u001b[0m\u001b[0;34m\u001b[0m\u001b[0m\n",
      "\u001b[0;32m~/repos/Cogent3/src/cogent3/core/location.py\u001b[0m in \u001b[0;36minverse\u001b[0;34m(self)\u001b[0m\n\u001b[1;32m    757\u001b[0m     \u001b[0;32mdef\u001b[0m \u001b[0minverse\u001b[0m\u001b[0;34m(\u001b[0m\u001b[0mself\u001b[0m\u001b[0;34m)\u001b[0m\u001b[0;34m:\u001b[0m\u001b[0;34m\u001b[0m\u001b[0;34m\u001b[0m\u001b[0m\n\u001b[1;32m    758\u001b[0m         \u001b[0;32mif\u001b[0m \u001b[0mself\u001b[0m\u001b[0;34m.\u001b[0m\u001b[0m__inverse\u001b[0m \u001b[0;32mis\u001b[0m \u001b[0;32mNone\u001b[0m\u001b[0;34m:\u001b[0m\u001b[0;34m\u001b[0m\u001b[0;34m\u001b[0m\u001b[0m\n\u001b[0;32m--> 759\u001b[0;31m             \u001b[0mself\u001b[0m\u001b[0;34m.\u001b[0m\u001b[0m__inverse\u001b[0m \u001b[0;34m=\u001b[0m \u001b[0mself\u001b[0m\u001b[0;34m.\u001b[0m\u001b[0m_inverse\u001b[0m\u001b[0;34m(\u001b[0m\u001b[0;34m)\u001b[0m\u001b[0;34m\u001b[0m\u001b[0;34m\u001b[0m\u001b[0m\n\u001b[0m\u001b[1;32m    760\u001b[0m         \u001b[0;32mreturn\u001b[0m \u001b[0mself\u001b[0m\u001b[0;34m.\u001b[0m\u001b[0m__inverse\u001b[0m\u001b[0;34m\u001b[0m\u001b[0;34m\u001b[0m\u001b[0m\n\u001b[1;32m    761\u001b[0m \u001b[0;34m\u001b[0m\u001b[0m\n",
      "\u001b[0;32m~/repos/Cogent3/src/cogent3/core/location.py\u001b[0m in \u001b[0;36m_inverse\u001b[0;34m(self)\u001b[0m\n\u001b[1;32m    782\u001b[0m                 \u001b[0mnew_spans\u001b[0m\u001b[0;34m.\u001b[0m\u001b[0mappend\u001b[0m\u001b[0;34m(\u001b[0m\u001b[0mLostSpan\u001b[0m\u001b[0;34m(\u001b[0m\u001b[0mlo\u001b[0m \u001b[0;34m-\u001b[0m \u001b[0mlast_hi\u001b[0m\u001b[0;34m)\u001b[0m\u001b[0;34m)\u001b[0m\u001b[0;34m\u001b[0m\u001b[0;34m\u001b[0m\u001b[0m\n\u001b[1;32m    783\u001b[0m             \u001b[0;32melif\u001b[0m \u001b[0mlo\u001b[0m \u001b[0;34m<\u001b[0m \u001b[0mlast_hi\u001b[0m\u001b[0;34m:\u001b[0m\u001b[0;34m\u001b[0m\u001b[0;34m\u001b[0m\u001b[0m\n\u001b[0;32m--> 784\u001b[0;31m                 \u001b[0;32mraise\u001b[0m \u001b[0mValueError\u001b[0m\u001b[0;34m(\u001b[0m\u001b[0;34m\"Uninvertable. Overlap: %s < %s\"\u001b[0m \u001b[0;34m%\u001b[0m \u001b[0;34m(\u001b[0m\u001b[0mlo\u001b[0m\u001b[0;34m,\u001b[0m \u001b[0mlast_hi\u001b[0m\u001b[0;34m)\u001b[0m\u001b[0;34m)\u001b[0m\u001b[0;34m\u001b[0m\u001b[0;34m\u001b[0m\u001b[0m\n\u001b[0m\u001b[1;32m    785\u001b[0m             \u001b[0mnew_spans\u001b[0m\u001b[0;34m.\u001b[0m\u001b[0mappend\u001b[0m\u001b[0;34m(\u001b[0m\u001b[0mSpan\u001b[0m\u001b[0;34m(\u001b[0m\u001b[0mstart\u001b[0m\u001b[0;34m,\u001b[0m \u001b[0mend\u001b[0m\u001b[0;34m,\u001b[0m \u001b[0mreverse\u001b[0m\u001b[0;34m=\u001b[0m\u001b[0mstart\u001b[0m \u001b[0;34m>\u001b[0m \u001b[0mend\u001b[0m\u001b[0;34m)\u001b[0m\u001b[0;34m)\u001b[0m\u001b[0;34m\u001b[0m\u001b[0;34m\u001b[0m\u001b[0m\n\u001b[1;32m    786\u001b[0m             \u001b[0mlast_hi\u001b[0m \u001b[0;34m=\u001b[0m \u001b[0mhi\u001b[0m\u001b[0;34m\u001b[0m\u001b[0;34m\u001b[0m\u001b[0m\n",
      "\u001b[0;31mValueError\u001b[0m: Uninvertable. Overlap: 10 < 15"
     ]
    }
   ],
   "source": [
    "print(s.get_region_covering_all(exons + exons))\n",
    "s[exon1, exon1, exon1, exon1, exon1]"
   ]
  },
  {
   "cell_type": "code",
   "execution_count": 9,
   "id": "verbal-devil",
   "metadata": {
    "execution": {
     "iopub.execute_input": "2021-09-30T04:32:59.935815Z",
     "iopub.status.busy": "2021-09-30T04:32:59.935295Z",
     "iopub.status.idle": "2021-09-30T04:32:59.943455Z",
     "shell.execute_reply": "2021-09-30T04:32:59.944152Z"
    }
   },
   "outputs": [
    {
     "ename": "ValueError",
     "evalue": "Uninvertable. Overlap: 15 < 16",
     "output_type": "error",
     "traceback": [
      "\u001b[0;31m---------------------------------------------------------------------------\u001b[0m",
      "\u001b[0;31mValueError\u001b[0m                                Traceback (most recent call last)",
      "\u001b[0;32m<ipython-input-9-6b064e4301d9>\u001b[0m in \u001b[0;36m<module>\u001b[0;34m\u001b[0m\n\u001b[0;32m----> 1\u001b[0;31m \u001b[0ms\u001b[0m\u001b[0;34m[\u001b[0m\u001b[0;36m15\u001b[0m\u001b[0;34m:\u001b[0m\u001b[0;36m20\u001b[0m\u001b[0;34m,\u001b[0m \u001b[0;36m5\u001b[0m\u001b[0;34m:\u001b[0m\u001b[0;36m16\u001b[0m\u001b[0;34m]\u001b[0m\u001b[0;34m\u001b[0m\u001b[0;34m\u001b[0m\u001b[0m\n\u001b[0m",
      "\u001b[0;32m~/repos/Cogent3/src/cogent3/core/annotation.py\u001b[0m in \u001b[0;36m__getitem__\u001b[0;34m(self, index)\u001b[0m\n\u001b[1;32m     88\u001b[0m         \u001b[0mmap\u001b[0m \u001b[0;34m=\u001b[0m \u001b[0mself\u001b[0m\u001b[0;34m.\u001b[0m\u001b[0m_as_map\u001b[0m\u001b[0;34m(\u001b[0m\u001b[0mindex\u001b[0m\u001b[0;34m)\u001b[0m\u001b[0;34m\u001b[0m\u001b[0;34m\u001b[0m\u001b[0m\n\u001b[1;32m     89\u001b[0m         \u001b[0mnew\u001b[0m \u001b[0;34m=\u001b[0m \u001b[0mself\u001b[0m\u001b[0;34m.\u001b[0m\u001b[0m_mapped\u001b[0m\u001b[0;34m(\u001b[0m\u001b[0mmap\u001b[0m\u001b[0;34m)\u001b[0m\u001b[0;34m\u001b[0m\u001b[0;34m\u001b[0m\u001b[0m\n\u001b[0;32m---> 90\u001b[0;31m         \u001b[0msliced_annots\u001b[0m \u001b[0;34m=\u001b[0m \u001b[0mself\u001b[0m\u001b[0;34m.\u001b[0m\u001b[0m_sliced_annotations\u001b[0m\u001b[0;34m(\u001b[0m\u001b[0mnew\u001b[0m\u001b[0;34m,\u001b[0m \u001b[0mmap\u001b[0m\u001b[0;34m)\u001b[0m\u001b[0;34m\u001b[0m\u001b[0;34m\u001b[0m\u001b[0m\n\u001b[0m\u001b[1;32m     91\u001b[0m         \u001b[0mnew\u001b[0m\u001b[0;34m.\u001b[0m\u001b[0mattach_annotations\u001b[0m\u001b[0;34m(\u001b[0m\u001b[0msliced_annots\u001b[0m\u001b[0;34m)\u001b[0m\u001b[0;34m\u001b[0m\u001b[0;34m\u001b[0m\u001b[0m\n\u001b[1;32m     92\u001b[0m         \u001b[0;32mif\u001b[0m \u001b[0mhasattr\u001b[0m\u001b[0;34m(\u001b[0m\u001b[0mself\u001b[0m\u001b[0;34m,\u001b[0m \u001b[0;34m\"_repr_policy\"\u001b[0m\u001b[0;34m)\u001b[0m\u001b[0;34m:\u001b[0m\u001b[0;34m\u001b[0m\u001b[0;34m\u001b[0m\u001b[0m\n",
      "\u001b[0;32m~/repos/Cogent3/src/cogent3/core/annotation.py\u001b[0m in \u001b[0;36m_sliced_annotations\u001b[0;34m(self, new, slice)\u001b[0m\n\u001b[1;32m     34\u001b[0m             \u001b[0mslicemap\u001b[0m \u001b[0;34m=\u001b[0m \u001b[0mself\u001b[0m\u001b[0;34m.\u001b[0m\u001b[0m_as_map\u001b[0m\u001b[0;34m(\u001b[0m\u001b[0mslice\u001b[0m\u001b[0;34m)\u001b[0m\u001b[0;34m\u001b[0m\u001b[0;34m\u001b[0m\u001b[0m\n\u001b[1;32m     35\u001b[0m             \u001b[0;31m# try:\u001b[0m\u001b[0;34m\u001b[0m\u001b[0;34m\u001b[0m\u001b[0;34m\u001b[0m\u001b[0m\n\u001b[0;32m---> 36\u001b[0;31m             \u001b[0mnewmap\u001b[0m \u001b[0;34m=\u001b[0m \u001b[0mslicemap\u001b[0m\u001b[0;34m.\u001b[0m\u001b[0minverse\u001b[0m\u001b[0;34m(\u001b[0m\u001b[0;34m)\u001b[0m\u001b[0;34m\u001b[0m\u001b[0;34m\u001b[0m\u001b[0m\n\u001b[0m\u001b[1;32m     37\u001b[0m             \u001b[0;31m# except ValueError, detail:\u001b[0m\u001b[0;34m\u001b[0m\u001b[0;34m\u001b[0m\u001b[0;34m\u001b[0m\u001b[0m\n\u001b[1;32m     38\u001b[0m             \u001b[0;31m#    print \"Annotations dropped because %s\" % detail\u001b[0m\u001b[0;34m\u001b[0m\u001b[0;34m\u001b[0m\u001b[0;34m\u001b[0m\u001b[0m\n",
      "\u001b[0;32m~/repos/Cogent3/src/cogent3/core/location.py\u001b[0m in \u001b[0;36minverse\u001b[0;34m(self)\u001b[0m\n\u001b[1;32m    757\u001b[0m     \u001b[0;32mdef\u001b[0m \u001b[0minverse\u001b[0m\u001b[0;34m(\u001b[0m\u001b[0mself\u001b[0m\u001b[0;34m)\u001b[0m\u001b[0;34m:\u001b[0m\u001b[0;34m\u001b[0m\u001b[0;34m\u001b[0m\u001b[0m\n\u001b[1;32m    758\u001b[0m         \u001b[0;32mif\u001b[0m \u001b[0mself\u001b[0m\u001b[0;34m.\u001b[0m\u001b[0m__inverse\u001b[0m \u001b[0;32mis\u001b[0m \u001b[0;32mNone\u001b[0m\u001b[0;34m:\u001b[0m\u001b[0;34m\u001b[0m\u001b[0;34m\u001b[0m\u001b[0m\n\u001b[0;32m--> 759\u001b[0;31m             \u001b[0mself\u001b[0m\u001b[0;34m.\u001b[0m\u001b[0m__inverse\u001b[0m \u001b[0;34m=\u001b[0m \u001b[0mself\u001b[0m\u001b[0;34m.\u001b[0m\u001b[0m_inverse\u001b[0m\u001b[0;34m(\u001b[0m\u001b[0;34m)\u001b[0m\u001b[0;34m\u001b[0m\u001b[0;34m\u001b[0m\u001b[0m\n\u001b[0m\u001b[1;32m    760\u001b[0m         \u001b[0;32mreturn\u001b[0m \u001b[0mself\u001b[0m\u001b[0;34m.\u001b[0m\u001b[0m__inverse\u001b[0m\u001b[0;34m\u001b[0m\u001b[0;34m\u001b[0m\u001b[0m\n\u001b[1;32m    761\u001b[0m \u001b[0;34m\u001b[0m\u001b[0m\n",
      "\u001b[0;32m~/repos/Cogent3/src/cogent3/core/location.py\u001b[0m in \u001b[0;36m_inverse\u001b[0;34m(self)\u001b[0m\n\u001b[1;32m    782\u001b[0m                 \u001b[0mnew_spans\u001b[0m\u001b[0;34m.\u001b[0m\u001b[0mappend\u001b[0m\u001b[0;34m(\u001b[0m\u001b[0mLostSpan\u001b[0m\u001b[0;34m(\u001b[0m\u001b[0mlo\u001b[0m \u001b[0;34m-\u001b[0m \u001b[0mlast_hi\u001b[0m\u001b[0;34m)\u001b[0m\u001b[0;34m)\u001b[0m\u001b[0;34m\u001b[0m\u001b[0;34m\u001b[0m\u001b[0m\n\u001b[1;32m    783\u001b[0m             \u001b[0;32melif\u001b[0m \u001b[0mlo\u001b[0m \u001b[0;34m<\u001b[0m \u001b[0mlast_hi\u001b[0m\u001b[0;34m:\u001b[0m\u001b[0;34m\u001b[0m\u001b[0;34m\u001b[0m\u001b[0m\n\u001b[0;32m--> 784\u001b[0;31m                 \u001b[0;32mraise\u001b[0m \u001b[0mValueError\u001b[0m\u001b[0;34m(\u001b[0m\u001b[0;34m\"Uninvertable. Overlap: %s < %s\"\u001b[0m \u001b[0;34m%\u001b[0m \u001b[0;34m(\u001b[0m\u001b[0mlo\u001b[0m\u001b[0;34m,\u001b[0m \u001b[0mlast_hi\u001b[0m\u001b[0;34m)\u001b[0m\u001b[0;34m)\u001b[0m\u001b[0;34m\u001b[0m\u001b[0;34m\u001b[0m\u001b[0m\n\u001b[0m\u001b[1;32m    785\u001b[0m             \u001b[0mnew_spans\u001b[0m\u001b[0;34m.\u001b[0m\u001b[0mappend\u001b[0m\u001b[0;34m(\u001b[0m\u001b[0mSpan\u001b[0m\u001b[0;34m(\u001b[0m\u001b[0mstart\u001b[0m\u001b[0;34m,\u001b[0m \u001b[0mend\u001b[0m\u001b[0;34m,\u001b[0m \u001b[0mreverse\u001b[0m\u001b[0;34m=\u001b[0m\u001b[0mstart\u001b[0m \u001b[0;34m>\u001b[0m \u001b[0mend\u001b[0m\u001b[0;34m)\u001b[0m\u001b[0;34m)\u001b[0m\u001b[0;34m\u001b[0m\u001b[0;34m\u001b[0m\u001b[0m\n\u001b[1;32m    786\u001b[0m             \u001b[0mlast_hi\u001b[0m \u001b[0;34m=\u001b[0m \u001b[0mhi\u001b[0m\u001b[0;34m\u001b[0m\u001b[0;34m\u001b[0m\u001b[0m\n",
      "\u001b[0;31mValueError\u001b[0m: Uninvertable. Overlap: 15 < 16"
     ]
    }
   ],
   "source": [
    "s[15:20, 5:16]"
   ]
  },
  {
   "cell_type": "code",
   "execution_count": 10,
   "id": "explicit-celtic",
   "metadata": {
    "execution": {
     "iopub.execute_input": "2021-09-30T04:32:59.947583Z",
     "iopub.status.busy": "2021-09-30T04:32:59.946965Z",
     "iopub.status.idle": "2021-09-30T04:32:59.949315Z",
     "shell.execute_reply": "2021-09-30T04:32:59.949689Z"
    }
   },
   "outputs": [
    {
     "data": {
      "text/html": [
       "<style>\n",
       ".c3seq td { border: none !important; text-align: left !important; }\n",
       ".c3seq tr:not(.num_row) td span {margin: 0 2px;}\n",
       ".c3seq tr:nth-child(even) {background: #f7f7f7;}\n",
       ".c3seq .num_row {background-color:rgba(161, 195, 209, 0.5) !important; border-top: solid 1px black; }\n",
       ".c3seq .label { font-size: 12pt ; text-align: right !important; color: black !important; padding: 0 4px; }\n",
       ".c3seq .T_dna{font-family: \"Lucida Console\",monospace !important; font-size: 12pt !important; color: blue; }\n",
       ".c3seq .C_dna{font-family: \"Lucida Console\",monospace !important; font-size: 12pt !important; color: black; }\n",
       ".c3seq .A_dna{font-family: \"Lucida Console\",monospace !important; font-size: 12pt !important; color: #FF0102; }\n",
       ".c3seq .G_dna{font-family: \"Lucida Console\",monospace !important; font-size: 12pt !important; color: green; }\n",
       ".c3seq .terminal_ambig_dna{font-family: \"Lucida Console\",monospace !important; font-size: 12pt !important; color: gray; }\n",
       ".c3seq .ambig_dna{font-family: \"Lucida Console\",monospace !important; font-size: 12pt !important; color: gray; }\n",
       "</style>\n",
       "<div class=\"c3seq\">\n",
       "<table>\n",
       "<tr class=\"num_row\"><td></td><td><b>0</b></td></tr>\n",
       "<tr><td class=\"label\">Orig</td><td><span class=\"C_dna\">C</span><span class=\"C_dna\">C</span><span class=\"C_dna\">C</span></td></tr>\n",
       "</table>\n",
       "<p><i>3 DnaSequence</i></p>\n",
       "</div>"
      ],
      "text/plain": [
       "DnaSequence(CCC)"
      ]
     },
     "execution_count": 10,
     "metadata": {},
     "output_type": "execute_result"
    }
   ],
   "source": [
    "exon1[0:3].get_slice()"
   ]
  },
  {
   "cell_type": "code",
   "execution_count": 11,
   "id": "electronic-phone",
   "metadata": {
    "execution": {
     "iopub.execute_input": "2021-09-30T04:32:59.953250Z",
     "iopub.status.busy": "2021-09-30T04:32:59.952673Z",
     "iopub.status.idle": "2021-09-30T04:32:59.954773Z",
     "shell.execute_reply": "2021-09-30T04:32:59.955189Z"
    }
   },
   "outputs": [
    {
     "name": "stdout",
     "output_type": "stream",
     "text": [
      "49\n",
      "exon \"fred\" at [-4-, 0:1]/49\n",
      "exon \"fred\" at [11:16]/49\n",
      "exon \"trev\" at [31:41]/49\n"
     ]
    }
   ],
   "source": [
    "c = s[exon1[4:]] + s\n",
    "print(len(c))\n",
    "for feat in c.annotations:\n",
    "    print(feat)"
   ]
  },
  {
   "cell_type": "code",
   "execution_count": 12,
   "id": "regular-listing",
   "metadata": {
    "execution": {
     "iopub.execute_input": "2021-09-30T04:32:59.958003Z",
     "iopub.status.busy": "2021-09-30T04:32:59.957435Z",
     "iopub.status.idle": "2021-09-30T04:32:59.963959Z",
     "shell.execute_reply": "2021-09-30T04:32:59.964498Z"
    }
   },
   "outputs": [
    {
     "ename": "ValueError",
     "evalue": "Can't map exon \"fred\" at [10:15]/48 onto DnaSequence(CAAGAAG... 49) via []",
     "output_type": "error",
     "traceback": [
      "\u001b[0;31m---------------------------------------------------------------------------\u001b[0m",
      "\u001b[0;31mValueError\u001b[0m                                Traceback (most recent call last)",
      "\u001b[0;32m<ipython-input-12-2fb4829d1a20>\u001b[0m in \u001b[0;36m<module>\u001b[0;34m\u001b[0m\n\u001b[0;32m----> 1\u001b[0;31m \u001b[0mprint\u001b[0m\u001b[0;34m(\u001b[0m\u001b[0mc\u001b[0m\u001b[0;34m[\u001b[0m\u001b[0mexon1\u001b[0m\u001b[0;34m]\u001b[0m\u001b[0;34m)\u001b[0m\u001b[0;34m\u001b[0m\u001b[0;34m\u001b[0m\u001b[0m\n\u001b[0m",
      "\u001b[0;32m~/repos/Cogent3/src/cogent3/core/annotation.py\u001b[0m in \u001b[0;36m__getitem__\u001b[0;34m(self, index)\u001b[0m\n\u001b[1;32m     86\u001b[0m \u001b[0;34m\u001b[0m\u001b[0m\n\u001b[1;32m     87\u001b[0m     \u001b[0;32mdef\u001b[0m \u001b[0m__getitem__\u001b[0m\u001b[0;34m(\u001b[0m\u001b[0mself\u001b[0m\u001b[0;34m,\u001b[0m \u001b[0mindex\u001b[0m\u001b[0;34m)\u001b[0m\u001b[0;34m:\u001b[0m\u001b[0;34m\u001b[0m\u001b[0;34m\u001b[0m\u001b[0m\n\u001b[0;32m---> 88\u001b[0;31m         \u001b[0mmap\u001b[0m \u001b[0;34m=\u001b[0m \u001b[0mself\u001b[0m\u001b[0;34m.\u001b[0m\u001b[0m_as_map\u001b[0m\u001b[0;34m(\u001b[0m\u001b[0mindex\u001b[0m\u001b[0;34m)\u001b[0m\u001b[0;34m\u001b[0m\u001b[0;34m\u001b[0m\u001b[0m\n\u001b[0m\u001b[1;32m     89\u001b[0m         \u001b[0mnew\u001b[0m \u001b[0;34m=\u001b[0m \u001b[0mself\u001b[0m\u001b[0;34m.\u001b[0m\u001b[0m_mapped\u001b[0m\u001b[0;34m(\u001b[0m\u001b[0mmap\u001b[0m\u001b[0;34m)\u001b[0m\u001b[0;34m\u001b[0m\u001b[0;34m\u001b[0m\u001b[0m\n\u001b[1;32m     90\u001b[0m         \u001b[0msliced_annots\u001b[0m \u001b[0;34m=\u001b[0m \u001b[0mself\u001b[0m\u001b[0;34m.\u001b[0m\u001b[0m_sliced_annotations\u001b[0m\u001b[0;34m(\u001b[0m\u001b[0mnew\u001b[0m\u001b[0;34m,\u001b[0m \u001b[0mmap\u001b[0m\u001b[0;34m)\u001b[0m\u001b[0;34m\u001b[0m\u001b[0;34m\u001b[0m\u001b[0m\n",
      "\u001b[0;32m~/repos/Cogent3/src/cogent3/core/annotation.py\u001b[0m in \u001b[0;36m_as_map\u001b[0;34m(self, index)\u001b[0m\n\u001b[1;32m     76\u001b[0m                 \u001b[0mbase\u001b[0m \u001b[0;34m=\u001b[0m \u001b[0mbase\u001b[0m\u001b[0;34m.\u001b[0m\u001b[0mparent\u001b[0m\u001b[0;34m\u001b[0m\u001b[0;34m\u001b[0m\u001b[0m\n\u001b[1;32m     77\u001b[0m             \u001b[0;32mif\u001b[0m \u001b[0mbase\u001b[0m \u001b[0;32mis\u001b[0m \u001b[0;32mnot\u001b[0m \u001b[0mself\u001b[0m\u001b[0;34m:\u001b[0m\u001b[0;34m\u001b[0m\u001b[0;34m\u001b[0m\u001b[0m\n\u001b[0;32m---> 78\u001b[0;31m                 raise ValueError(\n\u001b[0m\u001b[1;32m     79\u001b[0m                     \u001b[0;34m\"Can't map %s onto %s via %s\"\u001b[0m \u001b[0;34m%\u001b[0m \u001b[0;34m(\u001b[0m\u001b[0mindex\u001b[0m\u001b[0;34m,\u001b[0m \u001b[0mrepr\u001b[0m\u001b[0;34m(\u001b[0m\u001b[0mself\u001b[0m\u001b[0;34m)\u001b[0m\u001b[0;34m,\u001b[0m \u001b[0mcontainers\u001b[0m\u001b[0;34m)\u001b[0m\u001b[0;34m\u001b[0m\u001b[0;34m\u001b[0m\u001b[0m\n\u001b[1;32m     80\u001b[0m                 )\n",
      "\u001b[0;31mValueError\u001b[0m: Can't map exon \"fred\" at [10:15]/48 onto DnaSequence(CAAGAAG... 49) via []"
     ]
    }
   ],
   "source": [
    "print(c[exon1])"
   ]
  },
  {
   "cell_type": "code",
   "execution_count": 13,
   "id": "measured-petroleum",
   "metadata": {
    "execution": {
     "iopub.execute_input": "2021-09-30T04:32:59.968140Z",
     "iopub.status.busy": "2021-09-30T04:32:59.967530Z",
     "iopub.status.idle": "2021-09-30T04:32:59.969692Z",
     "shell.execute_reply": "2021-09-30T04:32:59.970048Z"
    }
   },
   "outputs": [
    {
     "data": {
      "text/plain": [
       "2"
      ]
     },
     "execution_count": 13,
     "metadata": {},
     "output_type": "execute_result"
    }
   ],
   "source": [
    "len(s.annotations)\n",
    "region = s.get_region_covering_all(exons)\n",
    "len(s.annotations)\n",
    "region.attach()\n",
    "len(s.annotations)\n",
    "region.detach()\n",
    "len(s.annotations)"
   ]
  },
  {
   "cell_type": "code",
   "execution_count": 14,
   "id": "outdoor-coral",
   "metadata": {
    "execution": {
     "iopub.execute_input": "2021-09-30T04:32:59.974231Z",
     "iopub.status.busy": "2021-09-30T04:32:59.973708Z",
     "iopub.status.idle": "2021-09-30T04:32:59.975589Z",
     "shell.execute_reply": "2021-09-30T04:32:59.975996Z"
    }
   },
   "outputs": [
    {
     "name": "stdout",
     "output_type": "stream",
     "text": [
      "GGGGCCCCCTTTTTTTTTT\n",
      "GGGGCCCCCTTTTTTTTTT\n"
     ]
    }
   ],
   "source": [
    "plus = DNA.make_seq(\"AAGGGGAAAACCCCCAAAAAAAAAATTTTTTTTTTAAA\", name=\"plus\")\n",
    "plus_cds = plus.add_annotation(Feature, \"CDS\", \"gene\", [(2, 6), (10, 15), (25, 35)])\n",
    "print(plus_cds.get_slice())\n",
    "minus = plus.rc()\n",
    "minus_cds = minus.get_annotations_matching(\"CDS\")[0]\n",
    "print(minus_cds.get_slice())"
   ]
  },
  {
   "cell_type": "code",
   "execution_count": 15,
   "id": "fiscal-profession",
   "metadata": {
    "execution": {
     "iopub.execute_input": "2021-09-30T04:32:59.980280Z",
     "iopub.status.busy": "2021-09-30T04:32:59.979741Z",
     "iopub.status.idle": "2021-09-30T04:32:59.981624Z",
     "shell.execute_reply": "2021-09-30T04:32:59.981979Z"
    }
   },
   "outputs": [
    {
     "name": "stdout",
     "output_type": "stream",
     "text": [
      ">x\n",
      "-AAAAAAAAA\n",
      ">y\n",
      "TTTT--TTTT\n",
      "\n"
     ]
    }
   ],
   "source": [
    "from cogent3 import make_aligned_seqs\n",
    "\n",
    "aln = make_aligned_seqs(\n",
    "    [[\"x\", \"-AAAAAAAAA\"], [\"y\", \"TTTT--TTTT\"]], array_align=False\n",
    ")\n",
    "print(aln)\n",
    "exon = aln.get_seq(\"x\").add_annotation(Feature, \"exon\", \"fred\", [(3, 8)])\n",
    "aln_exons = aln.get_annotations_from_seq(\"x\", \"exon\")\n",
    "aln_exons = aln.get_annotations_from_any_seq(\"exon\")"
   ]
  },
  {
   "cell_type": "code",
   "execution_count": 16,
   "id": "union-midwest",
   "metadata": {
    "execution": {
     "iopub.execute_input": "2021-09-30T04:32:59.985473Z",
     "iopub.status.busy": "2021-09-30T04:32:59.984943Z",
     "iopub.status.idle": "2021-09-30T04:32:59.987363Z",
     "shell.execute_reply": "2021-09-30T04:32:59.987709Z"
    }
   },
   "outputs": [
    {
     "name": "stdout",
     "output_type": "stream",
     "text": [
      "exon \"fred\" at [3:8]/9\n",
      "exon \"fred\" at [4:9]/10\n",
      ">x\n",
      "AAAAA\n",
      ">y\n",
      "--TTT\n",
      "\n"
     ]
    },
    {
     "data": {
      "text/plain": [
       "1"
      ]
     },
     "execution_count": 16,
     "metadata": {},
     "output_type": "execute_result"
    }
   ],
   "source": [
    "print(exon)\n",
    "print(aln_exons[0])\n",
    "print(aln_exons[0].get_slice())\n",
    "aln_exons[0].attach()\n",
    "len(aln.annotations)"
   ]
  },
  {
   "cell_type": "code",
   "execution_count": 17,
   "id": "planned-environment",
   "metadata": {
    "execution": {
     "iopub.execute_input": "2021-09-30T04:32:59.990762Z",
     "iopub.status.busy": "2021-09-30T04:32:59.990205Z",
     "iopub.status.idle": "2021-09-30T04:32:59.991943Z",
     "shell.execute_reply": "2021-09-30T04:32:59.992452Z"
    }
   },
   "outputs": [
    {
     "name": "stdout",
     "output_type": "stream",
     "text": [
      "[exon \"fred\" at [-2-, 4:7]/8]\n",
      "TTT\n"
     ]
    }
   ],
   "source": [
    "exons = aln.get_projected_annotations(\"y\", \"exon\")\n",
    "print(exons)\n",
    "print(aln.get_seq(\"y\")[exons[0].map.without_gaps()])"
   ]
  },
  {
   "cell_type": "code",
   "execution_count": 18,
   "id": "combined-presentation",
   "metadata": {
    "execution": {
     "iopub.execute_input": "2021-09-30T04:32:59.996254Z",
     "iopub.status.busy": "2021-09-30T04:32:59.995749Z",
     "iopub.status.idle": "2021-09-30T04:32:59.997898Z",
     "shell.execute_reply": "2021-09-30T04:32:59.997568Z"
    }
   },
   "outputs": [
    {
     "name": "stdout",
     "output_type": "stream",
     "text": [
      "[exon \"fred\" at [4:9]/10]\n"
     ]
    }
   ],
   "source": [
    "aln = make_aligned_seqs(\n",
    "    [[\"x\", \"-AAAAAAAAA\"], [\"y\", \"TTTT--CCCC\"]], array_align=False\n",
    ")\n",
    "s = DNA.make_seq(\"AAAAAAAAA\", name=\"x\")\n",
    "exon = s.add_annotation(Feature, \"exon\", \"fred\", [(3, 8)])\n",
    "exon = aln.get_seq(\"x\").copy_annotations(s)\n",
    "aln_exons = list(aln.get_annotations_from_seq(\"x\", \"exon\"))\n",
    "print(aln_exons)"
   ]
  },
  {
   "cell_type": "code",
   "execution_count": 19,
   "id": "impaired-collins",
   "metadata": {
    "execution": {
     "iopub.execute_input": "2021-09-30T04:33:00.001126Z",
     "iopub.status.busy": "2021-09-30T04:33:00.000604Z",
     "iopub.status.idle": "2021-09-30T04:33:00.002484Z",
     "shell.execute_reply": "2021-09-30T04:33:00.002831Z"
    }
   },
   "outputs": [
    {
     "name": "stdout",
     "output_type": "stream",
     "text": [
      "[exon \"fred\" at [3:4, 6:10]/10]\n",
      ">x\n",
      "AAAAA\n",
      ">y\n",
      "TCCCC\n",
      "\n"
     ]
    }
   ],
   "source": [
    "exon = aln.get_seq(\"y\").copy_annotations(s)\n",
    "aln_exons = list(aln.get_annotations_from_seq(\"y\", \"exon\"))\n",
    "print(aln_exons)\n",
    "print(aln[aln_exons])"
   ]
  },
  {
   "cell_type": "code",
   "execution_count": 20,
   "id": "medieval-break",
   "metadata": {
    "execution": {
     "iopub.execute_input": "2021-09-30T04:33:00.007831Z",
     "iopub.status.busy": "2021-09-30T04:33:00.007288Z",
     "iopub.status.idle": "2021-09-30T04:33:00.009763Z",
     "shell.execute_reply": "2021-09-30T04:33:00.010113Z"
    }
   },
   "outputs": [
    {
     "data": {
      "text/html": [
       "<style>\n",
       ".c3align td { border: none !important; text-align: left !important; }\n",
       ".c3align tr:not(.num_row) td span {margin: 0 2px;}\n",
       ".c3align tr:nth-child(even) {background: #f7f7f7;}\n",
       ".c3align .num_row {background-color:rgba(161, 195, 209, 0.5) !important; border-top: solid 1px black; }\n",
       ".c3align .label { font-size: 12pt ; text-align: right !important; color: black !important; padding: 0 4px; display: table-cell !important; font-weight: normal !important; }\n",
       ".c3align .a_text{font-family: \"Lucida Console\",monospace !important; font-size: 12pt !important; color: black; }\n",
       ".c3align .b_text{font-family: \"Lucida Console\",monospace !important; font-size: 12pt !important; color: black; }\n",
       ".c3align .c_text{font-family: \"Lucida Console\",monospace !important; font-size: 12pt !important; color: black; }\n",
       ".c3align .d_text{font-family: \"Lucida Console\",monospace !important; font-size: 12pt !important; color: black; }\n",
       ".c3align .e_text{font-family: \"Lucida Console\",monospace !important; font-size: 12pt !important; color: black; }\n",
       ".c3align .f_text{font-family: \"Lucida Console\",monospace !important; font-size: 12pt !important; color: black; }\n",
       ".c3align .g_text{font-family: \"Lucida Console\",monospace !important; font-size: 12pt !important; color: black; }\n",
       ".c3align .h_text{font-family: \"Lucida Console\",monospace !important; font-size: 12pt !important; color: black; }\n",
       ".c3align .i_text{font-family: \"Lucida Console\",monospace !important; font-size: 12pt !important; color: black; }\n",
       ".c3align .j_text{font-family: \"Lucida Console\",monospace !important; font-size: 12pt !important; color: black; }\n",
       ".c3align .k_text{font-family: \"Lucida Console\",monospace !important; font-size: 12pt !important; color: black; }\n",
       ".c3align .l_text{font-family: \"Lucida Console\",monospace !important; font-size: 12pt !important; color: black; }\n",
       ".c3align .m_text{font-family: \"Lucida Console\",monospace !important; font-size: 12pt !important; color: black; }\n",
       ".c3align .n_text{font-family: \"Lucida Console\",monospace !important; font-size: 12pt !important; color: black; }\n",
       ".c3align .o_text{font-family: \"Lucida Console\",monospace !important; font-size: 12pt !important; color: black; }\n",
       ".c3align .p_text{font-family: \"Lucida Console\",monospace !important; font-size: 12pt !important; color: black; }\n",
       ".c3align .q_text{font-family: \"Lucida Console\",monospace !important; font-size: 12pt !important; color: black; }\n",
       ".c3align .r_text{font-family: \"Lucida Console\",monospace !important; font-size: 12pt !important; color: black; }\n",
       ".c3align .s_text{font-family: \"Lucida Console\",monospace !important; font-size: 12pt !important; color: black; }\n",
       ".c3align .t_text{font-family: \"Lucida Console\",monospace !important; font-size: 12pt !important; color: black; }\n",
       ".c3align .u_text{font-family: \"Lucida Console\",monospace !important; font-size: 12pt !important; color: black; }\n",
       ".c3align .v_text{font-family: \"Lucida Console\",monospace !important; font-size: 12pt !important; color: black; }\n",
       ".c3align .w_text{font-family: \"Lucida Console\",monospace !important; font-size: 12pt !important; color: black; }\n",
       ".c3align .x_text{font-family: \"Lucida Console\",monospace !important; font-size: 12pt !important; color: black; }\n",
       ".c3align .y_text{font-family: \"Lucida Console\",monospace !important; font-size: 12pt !important; color: black; }\n",
       ".c3align .z_text{font-family: \"Lucida Console\",monospace !important; font-size: 12pt !important; color: black; }\n",
       ".c3align .A_text{font-family: \"Lucida Console\",monospace !important; font-size: 12pt !important; color: black; }\n",
       ".c3align .B_text{font-family: \"Lucida Console\",monospace !important; font-size: 12pt !important; color: black; }\n",
       ".c3align .C_text{font-family: \"Lucida Console\",monospace !important; font-size: 12pt !important; color: black; }\n",
       ".c3align .D_text{font-family: \"Lucida Console\",monospace !important; font-size: 12pt !important; color: black; }\n",
       ".c3align .E_text{font-family: \"Lucida Console\",monospace !important; font-size: 12pt !important; color: black; }\n",
       ".c3align .F_text{font-family: \"Lucida Console\",monospace !important; font-size: 12pt !important; color: black; }\n",
       ".c3align .G_text{font-family: \"Lucida Console\",monospace !important; font-size: 12pt !important; color: black; }\n",
       ".c3align .H_text{font-family: \"Lucida Console\",monospace !important; font-size: 12pt !important; color: black; }\n",
       ".c3align .I_text{font-family: \"Lucida Console\",monospace !important; font-size: 12pt !important; color: black; }\n",
       ".c3align .J_text{font-family: \"Lucida Console\",monospace !important; font-size: 12pt !important; color: black; }\n",
       ".c3align .K_text{font-family: \"Lucida Console\",monospace !important; font-size: 12pt !important; color: black; }\n",
       ".c3align .L_text{font-family: \"Lucida Console\",monospace !important; font-size: 12pt !important; color: black; }\n",
       ".c3align .M_text{font-family: \"Lucida Console\",monospace !important; font-size: 12pt !important; color: black; }\n",
       ".c3align .N_text{font-family: \"Lucida Console\",monospace !important; font-size: 12pt !important; color: black; }\n",
       ".c3align .O_text{font-family: \"Lucida Console\",monospace !important; font-size: 12pt !important; color: black; }\n",
       ".c3align .P_text{font-family: \"Lucida Console\",monospace !important; font-size: 12pt !important; color: black; }\n",
       ".c3align .Q_text{font-family: \"Lucida Console\",monospace !important; font-size: 12pt !important; color: black; }\n",
       ".c3align .R_text{font-family: \"Lucida Console\",monospace !important; font-size: 12pt !important; color: black; }\n",
       ".c3align .S_text{font-family: \"Lucida Console\",monospace !important; font-size: 12pt !important; color: black; }\n",
       ".c3align .T_text{font-family: \"Lucida Console\",monospace !important; font-size: 12pt !important; color: black; }\n",
       ".c3align .U_text{font-family: \"Lucida Console\",monospace !important; font-size: 12pt !important; color: black; }\n",
       ".c3align .V_text{font-family: \"Lucida Console\",monospace !important; font-size: 12pt !important; color: black; }\n",
       ".c3align .W_text{font-family: \"Lucida Console\",monospace !important; font-size: 12pt !important; color: black; }\n",
       ".c3align .X_text{font-family: \"Lucida Console\",monospace !important; font-size: 12pt !important; color: black; }\n",
       ".c3align .Y_text{font-family: \"Lucida Console\",monospace !important; font-size: 12pt !important; color: black; }\n",
       ".c3align .Z_text{font-family: \"Lucida Console\",monospace !important; font-size: 12pt !important; color: black; }\n",
       ".c3align .terminal_ambig_text{font-family: \"Lucida Console\",monospace !important; font-size: 12pt !important; color: black; }\n",
       ".c3align .ambig_text{font-family: \"Lucida Console\",monospace !important; font-size: 12pt !important; color: black; }\n",
       "</style>\n",
       "<div class=\"c3align\">\n",
       "<table>\n",
       "<tr class=\"num_row\"><td></td><td><b>0</b></td></tr>\n",
       "<tr><td class=\"label\">x</td><td><span class=\"terminal_ambig_text\">-</span><span class=\"terminal_ambig_text\">-</span><span class=\"terminal_ambig_text\">-</span><span class=\"terminal_ambig_text\">-</span></td></tr>\n",
       "<tr><td class=\"label\">y</td><td><span class=\"terminal_ambig_text\">.</span><span class=\"terminal_ambig_text\">.</span><span class=\"terminal_ambig_text\">.</span><span class=\"terminal_ambig_text\">.</span></td></tr>\n",
       "</table>\n",
       "<p><i>2 x 4 text alignment</i></p>\n",
       "</div>"
      ],
      "text/plain": [
       "2 x 4 text alignment: x[----], y[----]"
      ]
     },
     "execution_count": 20,
     "metadata": {},
     "output_type": "execute_result"
    }
   ],
   "source": [
    "aln = make_aligned_seqs([[\"x\", \"-AAAA\"], [\"y\", \"TTTTT\"]], array_align=False)\n",
    "seq = DNA.make_seq(\"CCCCCCCCCCCCCCCCCCCC\", \"x\")\n",
    "exon = seq.add_feature(\"exon\", \"A\", [(5, 8)])\n",
    "aln.get_seq(\"x\").copy_annotations(seq)\n",
    "copied = list(aln.get_annotations_from_seq(\"x\", \"exon\"))\n",
    "copied\n",
    "copied[0].get_slice()"
   ]
  },
  {
   "cell_type": "code",
   "execution_count": 21,
   "id": "persistent-response",
   "metadata": {
    "execution": {
     "iopub.execute_input": "2021-09-30T04:33:00.014814Z",
     "iopub.status.busy": "2021-09-30T04:33:00.014258Z",
     "iopub.status.idle": "2021-09-30T04:33:00.016295Z",
     "shell.execute_reply": "2021-09-30T04:33:00.016801Z"
    }
   },
   "outputs": [
    {
     "data": {
      "text/plain": [
       "[exon \"A\" at [7:10]/10]"
      ]
     },
     "execution_count": 21,
     "metadata": {},
     "output_type": "execute_result"
    }
   ],
   "source": [
    "aln = make_aligned_seqs(\n",
    "    [[\"x\", \"-AAAAAAAAA\"], [\"y\", \"TTTT--TTTT\"]], array_align=False\n",
    ")\n",
    "seq = DNA.make_seq(\"CCCCCCCCCCCCCCCCCCCC\", \"x\")\n",
    "match_exon = seq.add_feature(\"exon\", \"A\", [(5, 8)])\n",
    "aln.get_seq(\"y\").copy_annotations(seq)\n",
    "copied = list(aln.get_annotations_from_seq(\"y\", \"exon\"))\n",
    "copied"
   ]
  },
  {
   "cell_type": "code",
   "execution_count": 22,
   "id": "fiscal-wireless",
   "metadata": {
    "execution": {
     "iopub.execute_input": "2021-09-30T04:33:00.021616Z",
     "iopub.status.busy": "2021-09-30T04:33:00.020769Z",
     "iopub.status.idle": "2021-09-30T04:33:00.023097Z",
     "shell.execute_reply": "2021-09-30T04:33:00.023516Z"
    }
   },
   "outputs": [
    {
     "data": {
      "text/plain": [
       "[repeat \"A\" at [10:10, -6-]/10]"
      ]
     },
     "execution_count": 22,
     "metadata": {},
     "output_type": "execute_result"
    }
   ],
   "source": [
    "aln = make_aligned_seqs(\n",
    "    [[\"x\", \"-AAAAAAAAA\"], [\"y\", \"TTTT--TTTT\"]], array_align=False\n",
    ")\n",
    "diff_len_seq = DNA.make_seq(\"CCCCCCCCCCCCCCCCCCCCCCCCCCCC\", \"x\")\n",
    "nonmatch = diff_len_seq.add_feature(\"repeat\", \"A\", [(12, 14)])\n",
    "aln.get_seq(\"y\").copy_annotations(diff_len_seq)\n",
    "copied = list(aln.get_annotations_from_seq(\"y\", \"repeat\"))\n",
    "copied"
   ]
  },
  {
   "cell_type": "code",
   "execution_count": 23,
   "id": "surprising-practice",
   "metadata": {
    "execution": {
     "iopub.execute_input": "2021-09-30T04:33:00.029255Z",
     "iopub.status.busy": "2021-09-30T04:33:00.028646Z",
     "iopub.status.idle": "2021-09-30T04:33:00.030793Z",
     "shell.execute_reply": "2021-09-30T04:33:00.031148Z"
    }
   },
   "outputs": [
    {
     "name": "stdout",
     "output_type": "stream",
     "text": [
      "[exon \"fred\" at [4:9]/10]\n",
      ">x\n",
      "AAAAA\n",
      ">y\n",
      "--TTT\n",
      "\n",
      ">x\n",
      "AAAAA\n",
      ">y\n",
      "--T--\n",
      "\n"
     ]
    }
   ],
   "source": [
    "aln = make_aligned_seqs(\n",
    "    [[\"x\", \"-AAAAAAAAA\"], [\"y\", \"------TTTT\"]], array_align=False\n",
    ")\n",
    "exon = aln.get_seq(\"x\").add_feature(\"exon\", \"fred\", [(3, 8)])\n",
    "aln_exons = list(aln.get_annotations_from_seq(\"x\", \"exon\"))\n",
    "print(aln_exons)\n",
    "print(aln_exons[0].get_slice())\n",
    "aln = make_aligned_seqs(\n",
    "    [[\"x\", \"-AAAAAAAAA\"], [\"y\", \"TTTT--T---\"]], array_align=False\n",
    ")\n",
    "exon = aln.get_seq(\"x\").add_feature(\"exon\", \"fred\", [(3, 8)])\n",
    "aln_exons = list(aln.get_annotations_from_seq(\"x\", \"exon\"))\n",
    "print(aln_exons[0].get_slice())"
   ]
  },
  {
   "cell_type": "code",
   "execution_count": 24,
   "id": "informal-honey",
   "metadata": {
    "execution": {
     "iopub.execute_input": "2021-09-30T04:33:00.036077Z",
     "iopub.status.busy": "2021-09-30T04:33:00.035483Z",
     "iopub.status.idle": "2021-09-30T04:33:00.037457Z",
     "shell.execute_reply": "2021-09-30T04:33:00.037917Z"
    }
   },
   "outputs": [
    {
     "name": "stdout",
     "output_type": "stream",
     "text": [
      ">x\n",
      "C-CCCAAAAA\n",
      ">y\n",
      "-T----TTTT\n",
      "\n",
      "exon \"ex1\" at [0:4]/9\n",
      "CCCC\n",
      "[exon \"ex1\" at [0:1, 2:5]/10]\n",
      ">x\n",
      "CCCC\n",
      ">y\n",
      "----\n",
      "\n"
     ]
    }
   ],
   "source": [
    "aln = make_aligned_seqs(\n",
    "    [[\"x\", \"C-CCCAAAAA\"], [\"y\", \"-T----TTTT\"]], moltype=\"dna\", array_align=False\n",
    ")\n",
    "print(aln)\n",
    "exon = aln.get_seq(\"x\").add_feature(\"exon\", \"ex1\", [(0, 4)])\n",
    "print(exon)\n",
    "print(exon.get_slice())\n",
    "aln_exons = list(aln.get_annotations_from_seq(\"x\", \"exon\"))\n",
    "print(aln_exons)\n",
    "print(aln_exons[0].get_slice())"
   ]
  },
  {
   "cell_type": "code",
   "execution_count": 25,
   "id": "typical-identifier",
   "metadata": {
    "execution": {
     "iopub.execute_input": "2021-09-30T04:33:00.041241Z",
     "iopub.status.busy": "2021-09-30T04:33:00.040584Z",
     "iopub.status.idle": "2021-09-30T04:33:00.042706Z",
     "shell.execute_reply": "2021-09-30T04:33:00.043052Z"
    }
   },
   "outputs": [
    {
     "name": "stdout",
     "output_type": "stream",
     "text": [
      ">x\n",
      "C-CCC\n",
      ">y\n",
      "-T---\n",
      "\n"
     ]
    }
   ],
   "source": [
    "print(aln_exons[0].as_one_span().get_slice())"
   ]
  },
  {
   "cell_type": "code",
   "execution_count": 26,
   "id": "accompanied-falls",
   "metadata": {
    "execution": {
     "iopub.execute_input": "2021-09-30T04:33:00.046894Z",
     "iopub.status.busy": "2021-09-30T04:33:00.046337Z",
     "iopub.status.idle": "2021-09-30T04:33:00.048440Z",
     "shell.execute_reply": "2021-09-30T04:33:00.048878Z"
    }
   },
   "outputs": [
    {
     "name": "stdout",
     "output_type": "stream",
     "text": [
      ">x\n",
      "CCCC\n",
      ">y\n",
      "----\n",
      "\n",
      ">x\n",
      "C-CCC\n",
      ">y\n",
      "-T---\n",
      "\n"
     ]
    }
   ],
   "source": [
    "aln_rc = aln.rc()\n",
    "rc_exons = list(aln_rc.get_annotations_from_any_seq(\"exon\"))\n",
    "print(aln_rc[rc_exons])  # not using as_one_span, so gap removed from x\n",
    "print(aln_rc[rc_exons[0].as_one_span()])"
   ]
  },
  {
   "cell_type": "code",
   "execution_count": 27,
   "id": "bigger-westminster",
   "metadata": {
    "execution": {
     "iopub.execute_input": "2021-09-30T04:33:00.052029Z",
     "iopub.status.busy": "2021-09-30T04:33:00.051436Z",
     "iopub.status.idle": "2021-09-30T04:33:00.052962Z",
     "shell.execute_reply": "2021-09-30T04:33:00.053489Z"
    }
   },
   "outputs": [],
   "source": [
    "all_exons = aln.get_region_covering_all(aln_exons)\n",
    "coords = all_exons.get_coordinates()\n",
    "assert coords == [(0, 1), (2, 5)]"
   ]
  },
  {
   "cell_type": "code",
   "execution_count": 28,
   "id": "together-replacement",
   "metadata": {
    "execution": {
     "iopub.execute_input": "2021-09-30T04:33:00.058546Z",
     "iopub.status.busy": "2021-09-30T04:33:00.057989Z",
     "iopub.status.idle": "2021-09-30T04:33:00.059870Z",
     "shell.execute_reply": "2021-09-30T04:33:00.060343Z"
    }
   },
   "outputs": [
    {
     "name": "stdout",
     "output_type": "stream",
     "text": [
      ">x\n",
      "C-CCCAAAAAGGGAA\n",
      ">y\n",
      "-T----TTTTG-GTT\n",
      "\n",
      "CCCC\n",
      "GGG\n",
      "GG\n"
     ]
    }
   ],
   "source": [
    "aln = make_aligned_seqs(\n",
    "    [[\"x\", \"C-CCCAAAAAGGGAA\"], [\"y\", \"-T----TTTTG-GTT\"]], array_align=False\n",
    ")\n",
    "print(aln)\n",
    "exon = aln.get_seq(\"x\").add_feature(\"exon\", \"norwegian\", [(0, 4)])\n",
    "print(exon.get_slice())\n",
    "repeat = aln.get_seq(\"x\").add_feature(\"repeat\", \"blue\", [(9, 12)])\n",
    "print(repeat.get_slice())\n",
    "repeat = aln.get_seq(\"y\").add_feature(\"repeat\", \"frog\", [(5, 7)])\n",
    "print(repeat.get_slice())"
   ]
  },
  {
   "cell_type": "code",
   "execution_count": 29,
   "id": "opened-breathing",
   "metadata": {
    "execution": {
     "iopub.execute_input": "2021-09-30T04:33:00.065552Z",
     "iopub.status.busy": "2021-09-30T04:33:00.065012Z",
     "iopub.status.idle": "2021-09-30T04:33:00.066934Z",
     "shell.execute_reply": "2021-09-30T04:33:00.067466Z"
    }
   },
   "outputs": [
    {
     "name": "stdout",
     "output_type": "stream",
     "text": [
      "????AAAAAGGGAA\n",
      "CCCC??????????\n",
      "????AAAAA???AA\n",
      "CCCC?????GGG??\n",
      "TTTTTGGTT\n",
      "TTTTT??TT\n",
      "?????GG??\n"
     ]
    }
   ],
   "source": [
    "print(aln.get_seq(\"x\").with_masked_annotations(\"exon\", mask_char=\"?\"))\n",
    "print(aln.get_seq(\"x\").with_masked_annotations(\"exon\", mask_char=\"?\", shadow=True))\n",
    "print(aln.get_seq(\"x\").with_masked_annotations([\"exon\", \"repeat\"], mask_char=\"?\"))\n",
    "print(\n",
    "    aln.get_seq(\"x\").with_masked_annotations(\n",
    "        [\"exon\", \"repeat\"], mask_char=\"?\", shadow=True\n",
    "    )\n",
    ")\n",
    "print(aln.get_seq(\"y\").with_masked_annotations(\"exon\", mask_char=\"?\"))\n",
    "print(aln.get_seq(\"y\").with_masked_annotations(\"repeat\", mask_char=\"?\"))\n",
    "print(\n",
    "    aln.get_seq(\"y\").with_masked_annotations(\"repeat\", mask_char=\"?\", shadow=True)\n",
    ")"
   ]
  },
  {
   "cell_type": "code",
   "execution_count": 30,
   "id": "packed-remainder",
   "metadata": {
    "execution": {
     "iopub.execute_input": "2021-09-30T04:33:00.073505Z",
     "iopub.status.busy": "2021-09-30T04:33:00.072869Z",
     "iopub.status.idle": "2021-09-30T04:33:00.074923Z",
     "shell.execute_reply": "2021-09-30T04:33:00.075342Z"
    }
   },
   "outputs": [
    {
     "name": "stdout",
     "output_type": "stream",
     "text": [
      ">x\n",
      "?-???AAAAAGGGAA\n",
      ">y\n",
      "-T----TTTTG-GTT\n",
      "\n",
      ">x\n",
      "C-CCC??????????\n",
      ">y\n",
      "-?----?????-???\n",
      "\n",
      ">x\n",
      "C-CCCAAAAA???AA\n",
      ">y\n",
      "-T----TTTT?-?TT\n",
      "\n",
      ">x\n",
      "?-????????GGG??\n",
      ">y\n",
      "-?----????G-G??\n",
      "\n",
      ">x\n",
      "?-???AAAAA???AA\n",
      ">y\n",
      "-T----TTTT?-?TT\n",
      "\n",
      ">x\n",
      "C-CCC?????GGG??\n",
      ">y\n",
      "-?----????G-G??\n",
      "\n"
     ]
    }
   ],
   "source": [
    "print(aln.with_masked_annotations(\"exon\", mask_char=\"?\"))\n",
    "print(aln.with_masked_annotations(\"exon\", mask_char=\"?\", shadow=True))\n",
    "print(aln.with_masked_annotations(\"repeat\", mask_char=\"?\"))\n",
    "print(aln.with_masked_annotations(\"repeat\", mask_char=\"?\", shadow=True))\n",
    "print(aln.with_masked_annotations([\"repeat\", \"exon\"], mask_char=\"?\"))\n",
    "print(aln.with_masked_annotations([\"repeat\", \"exon\"], shadow=True))"
   ]
  },
  {
   "cell_type": "code",
   "execution_count": 31,
   "id": "spatial-plain",
   "metadata": {
    "execution": {
     "iopub.execute_input": "2021-09-30T04:33:00.079074Z",
     "iopub.status.busy": "2021-09-30T04:33:00.078542Z",
     "iopub.status.idle": "2021-09-30T04:33:00.080305Z",
     "shell.execute_reply": "2021-09-30T04:33:00.080765Z"
    }
   },
   "outputs": [],
   "source": [
    "data = [[\"human\", \"CGAAACGTTT\"], [\"mouse\", \"CTAAACGTCG\"]]\n",
    "as_series = make_aligned_seqs(data, array_align=False)\n",
    "as_items = make_aligned_seqs(data, array_align=False)"
   ]
  },
  {
   "cell_type": "code",
   "execution_count": 32,
   "id": "funky-italy",
   "metadata": {
    "execution": {
     "iopub.execute_input": "2021-09-30T04:33:00.084580Z",
     "iopub.status.busy": "2021-09-30T04:33:00.084033Z",
     "iopub.status.idle": "2021-09-30T04:33:00.086179Z",
     "shell.execute_reply": "2021-09-30T04:33:00.086560Z"
    }
   },
   "outputs": [
    {
     "data": {
      "text/plain": [
       "cpgsite \"cpg\" at [5:7, 8:10]/10"
      ]
     },
     "execution_count": 32,
     "metadata": {},
     "output_type": "execute_result"
    }
   ],
   "source": [
    "as_series.get_seq(\"human\").add_feature(\"cpgsite\", \"cpg\", [(0, 2), (5, 7)])\n",
    "as_series.get_seq(\"mouse\").add_feature(\"cpgsite\", \"cpg\", [(5, 7), (8, 10)])"
   ]
  },
  {
   "cell_type": "code",
   "execution_count": 33,
   "id": "brilliant-breath",
   "metadata": {
    "execution": {
     "iopub.execute_input": "2021-09-30T04:33:00.091071Z",
     "iopub.status.busy": "2021-09-30T04:33:00.090459Z",
     "iopub.status.idle": "2021-09-30T04:33:00.092699Z",
     "shell.execute_reply": "2021-09-30T04:33:00.093111Z"
    }
   },
   "outputs": [
    {
     "data": {
      "text/plain": [
       "cpgsite \"cpg\" at [8:10]/10"
      ]
     },
     "execution_count": 33,
     "metadata": {},
     "output_type": "execute_result"
    }
   ],
   "source": [
    "as_items.get_seq(\"human\").add_feature(\"cpgsite\", \"cpg\", [(0, 2)])\n",
    "as_items.get_seq(\"human\").add_feature(\"cpgsite\", \"cpg\", [(5, 7)])\n",
    "as_items.get_seq(\"mouse\").add_feature(\"cpgsite\", \"cpg\", [(5, 7)])\n",
    "as_items.get_seq(\"mouse\").add_feature(\"cpgsite\", \"cpg\", [(8, 10)])"
   ]
  },
  {
   "cell_type": "code",
   "execution_count": 34,
   "id": "joined-literacy",
   "metadata": {
    "execution": {
     "iopub.execute_input": "2021-09-30T04:33:00.096953Z",
     "iopub.status.busy": "2021-09-30T04:33:00.096418Z",
     "iopub.status.idle": "2021-09-30T04:33:00.098409Z",
     "shell.execute_reply": "2021-09-30T04:33:00.098783Z"
    }
   },
   "outputs": [
    {
     "name": "stdout",
     "output_type": "stream",
     "text": [
      ">human\n",
      "??AAA??TTT\n",
      ">mouse\n",
      "CTAAA??T??\n",
      "\n",
      ">human\n",
      "??AAA??TTT\n",
      ">mouse\n",
      "CTAAA??T??\n",
      "\n"
     ]
    }
   ],
   "source": [
    "serial = as_series.with_masked_annotations([\"cpgsite\"])\n",
    "print(serial)\n",
    "itemwise = as_items.with_masked_annotations([\"cpgsite\"])\n",
    "print(itemwise)"
   ]
  },
  {
   "cell_type": "code",
   "execution_count": 35,
   "id": "improving-juvenile",
   "metadata": {
    "execution": {
     "iopub.execute_input": "2021-09-30T04:33:00.101855Z",
     "iopub.status.busy": "2021-09-30T04:33:00.101292Z",
     "iopub.status.idle": "2021-09-30T04:33:00.103261Z",
     "shell.execute_reply": "2021-09-30T04:33:00.103707Z"
    }
   },
   "outputs": [
    {
     "name": "stdout",
     "output_type": "stream",
     "text": [
      "AA????AAAA?????AAAAAAAAAA??????????AAA\n",
      "TTT??????????TTTTTTTTTT?????TTTT????TT\n"
     ]
    }
   ],
   "source": [
    "print(plus.with_masked_annotations(\"CDS\"))\n",
    "print(minus.with_masked_annotations(\"CDS\"))"
   ]
  }
 ],
 "metadata": {
  "kernelspec": {
   "display_name": "Python 3",
   "language": "python",
   "name": "python3"
  },
  "language_info": {
   "codemirror_mode": {
    "name": "ipython",
    "version": 3
   },
   "file_extension": ".py",
   "mimetype": "text/x-python",
   "name": "python",
   "nbconvert_exporter": "python",
   "pygments_lexer": "ipython3",
   "version": "3.9.0"
  }
 },
 "nbformat": 4,
 "nbformat_minor": 5
}