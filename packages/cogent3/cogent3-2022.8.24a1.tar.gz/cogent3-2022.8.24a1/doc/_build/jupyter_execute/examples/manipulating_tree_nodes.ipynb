{
 "cells": [
  {
   "cell_type": "code",
   "execution_count": 1,
   "id": "extraordinary-redhead",
   "metadata": {
    "execution": {
     "iopub.execute_input": "2021-09-30T04:33:21.832761Z",
     "iopub.status.busy": "2021-09-30T04:33:21.832083Z",
     "iopub.status.idle": "2021-09-30T04:33:22.398599Z",
     "shell.execute_reply": "2021-09-30T04:33:22.399136Z"
    }
   },
   "outputs": [],
   "source": [
    "from cogent3.core.tree import PhyloNode\n",
    "from cogent3 import load_tree, make_tree\n",
    "from cogent3.parse.tree import DndParser"
   ]
  },
  {
   "cell_type": "code",
   "execution_count": 2,
   "id": "orange-scotland",
   "metadata": {
    "execution": {
     "iopub.execute_input": "2021-09-30T04:33:22.403248Z",
     "iopub.status.busy": "2021-09-30T04:33:22.402586Z",
     "iopub.status.idle": "2021-09-30T04:33:22.404487Z",
     "shell.execute_reply": "2021-09-30T04:33:22.405100Z"
    }
   },
   "outputs": [],
   "source": [
    "simple_tree_string = \"(B:0.2,(C:0.3,D:0.4)E:0.5)F;\"\n",
    "complex_tree_string = \"(((363564 AB294167.1 Alkalibacterium putridalgicola:0.0028006,55874 AB083411.1 Marinilactibacillus psychrotolerans:0.0022089):0.40998,(15050 Y10772.1 Facklamia hominis:0.32304,(132509 AY707780.1 Aerococcus viridans:0.58815,((143063 AY879307.1 Abiotrophia defectiva:0.5807,83619 AB042060.1 Bacillus schlegelii:0.23569):0.03586,169722 AB275483.1 Fibrobacter succinogenes:0.38272):0.06516):0.03492):0.14265):0.63594,(3589 M62687.1 Fibrobacter intestinalis:0.65866,314063 CP001146.1 Dictyoglomus thermophilum:0.38791):0.32147,276579 EU652053.1 Thermus scotoductus:0.57336);\"\n",
    "simple_tree = make_tree(simple_tree_string)\n",
    "complex_tree = DndParser(complex_tree_string, PhyloNode)"
   ]
  },
  {
   "cell_type": "code",
   "execution_count": 3,
   "id": "thick-alaska",
   "metadata": {
    "execution": {
     "iopub.execute_input": "2021-09-30T04:33:22.408604Z",
     "iopub.status.busy": "2021-09-30T04:33:22.407889Z",
     "iopub.status.idle": "2021-09-30T04:33:22.410616Z",
     "shell.execute_reply": "2021-09-30T04:33:22.410952Z"
    }
   },
   "outputs": [
    {
     "name": "stdout",
     "output_type": "stream",
     "text": [
      "          /-B\n",
      "-F-------|\n",
      "         |          /-C\n",
      "          \\E-------|\n",
      "                    \\-D\n"
     ]
    }
   ],
   "source": [
    "print(simple_tree.ascii_art())"
   ]
  },
  {
   "cell_type": "code",
   "execution_count": 4,
   "id": "corresponding-balance",
   "metadata": {
    "execution": {
     "iopub.execute_input": "2021-09-30T04:33:22.413826Z",
     "iopub.status.busy": "2021-09-30T04:33:22.413250Z",
     "iopub.status.idle": "2021-09-30T04:33:22.414953Z",
     "shell.execute_reply": "2021-09-30T04:33:22.415277Z"
    }
   },
   "outputs": [],
   "source": [
    "A_node = PhyloNode(name=\"A\", Length=0.1)"
   ]
  },
  {
   "cell_type": "code",
   "execution_count": 5,
   "id": "moderate-sample",
   "metadata": {
    "execution": {
     "iopub.execute_input": "2021-09-30T04:33:22.418131Z",
     "iopub.status.busy": "2021-09-30T04:33:22.417398Z",
     "iopub.status.idle": "2021-09-30T04:33:22.419740Z",
     "shell.execute_reply": "2021-09-30T04:33:22.420087Z"
    }
   },
   "outputs": [
    {
     "name": "stdout",
     "output_type": "stream",
     "text": [
      "[Tree(\"B;\"), Tree(\"(C,D)E;\")]\n"
     ]
    }
   ],
   "source": [
    "print(simple_tree.children)"
   ]
  },
  {
   "cell_type": "code",
   "execution_count": 6,
   "id": "responsible-roulette",
   "metadata": {
    "execution": {
     "iopub.execute_input": "2021-09-30T04:33:22.427106Z",
     "iopub.status.busy": "2021-09-30T04:33:22.426396Z",
     "iopub.status.idle": "2021-09-30T04:33:22.428521Z",
     "shell.execute_reply": "2021-09-30T04:33:22.428840Z"
    }
   },
   "outputs": [
    {
     "data": {
      "text/plain": [
       "True"
      ]
     },
     "execution_count": 6,
     "metadata": {},
     "output_type": "execute_result"
    }
   ],
   "source": [
    "simple_tree.children[1].remove(\"C\")"
   ]
  },
  {
   "cell_type": "code",
   "execution_count": 7,
   "id": "valid-launch",
   "metadata": {
    "execution": {
     "iopub.execute_input": "2021-09-30T04:33:22.431723Z",
     "iopub.status.busy": "2021-09-30T04:33:22.430991Z",
     "iopub.status.idle": "2021-09-30T04:33:22.432745Z",
     "shell.execute_reply": "2021-09-30T04:33:22.433064Z"
    }
   },
   "outputs": [],
   "source": [
    "simple_tree.children[1].insert(0, A_node)"
   ]
  },
  {
   "cell_type": "code",
   "execution_count": 8,
   "id": "facial-shield",
   "metadata": {
    "execution": {
     "iopub.execute_input": "2021-09-30T04:33:22.435627Z",
     "iopub.status.busy": "2021-09-30T04:33:22.435053Z",
     "iopub.status.idle": "2021-09-30T04:33:22.437181Z",
     "shell.execute_reply": "2021-09-30T04:33:22.437590Z"
    }
   },
   "outputs": [
    {
     "name": "stdout",
     "output_type": "stream",
     "text": [
      "          /-B\n",
      "-F-------|\n",
      "         |          /-A\n",
      "          \\E-------|\n",
      "                    \\-D\n"
     ]
    }
   ],
   "source": [
    "print(simple_tree.ascii_art())"
   ]
  },
  {
   "cell_type": "code",
   "execution_count": 9,
   "id": "separate-earthquake",
   "metadata": {
    "execution": {
     "iopub.execute_input": "2021-09-30T04:33:22.440454Z",
     "iopub.status.busy": "2021-09-30T04:33:22.439925Z",
     "iopub.status.idle": "2021-09-30T04:33:22.441686Z",
     "shell.execute_reply": "2021-09-30T04:33:22.442008Z"
    }
   },
   "outputs": [
    {
     "name": "stdout",
     "output_type": "stream",
     "text": [
      "          /-B\n",
      "-F-------|\n",
      "          \\E------- /-D\n"
     ]
    }
   ],
   "source": [
    "simple_tree.children[1].remove(\"A\")\n",
    "print(simple_tree.ascii_art())"
   ]
  },
  {
   "cell_type": "code",
   "execution_count": 10,
   "id": "fluid-programming",
   "metadata": {
    "execution": {
     "iopub.execute_input": "2021-09-30T04:33:22.444581Z",
     "iopub.status.busy": "2021-09-30T04:33:22.444119Z",
     "iopub.status.idle": "2021-09-30T04:33:22.446203Z",
     "shell.execute_reply": "2021-09-30T04:33:22.446608Z"
    }
   },
   "outputs": [
    {
     "name": "stdout",
     "output_type": "stream",
     "text": [
      "          /-B\n",
      "-F-------|\n",
      "          \\-D\n"
     ]
    }
   ],
   "source": [
    "simple_tree.prune()\n",
    "print(simple_tree.ascii_art())"
   ]
  },
  {
   "cell_type": "code",
   "execution_count": 11,
   "id": "amateur-reggae",
   "metadata": {
    "execution": {
     "iopub.execute_input": "2021-09-30T04:33:22.450090Z",
     "iopub.status.busy": "2021-09-30T04:33:22.449599Z",
     "iopub.status.idle": "2021-09-30T04:33:22.451344Z",
     "shell.execute_reply": "2021-09-30T04:33:22.451668Z"
    }
   },
   "outputs": [],
   "source": [
    "for n in complex_tree.iter_tips():\n",
    "    n.name = n.name.split()[2] + \" \" + n.name.split()[3]"
   ]
  },
  {
   "cell_type": "code",
   "execution_count": 12,
   "id": "economic-float",
   "metadata": {
    "execution": {
     "iopub.execute_input": "2021-09-30T04:33:22.455356Z",
     "iopub.status.busy": "2021-09-30T04:33:22.454457Z",
     "iopub.status.idle": "2021-09-30T04:33:22.456859Z",
     "shell.execute_reply": "2021-09-30T04:33:22.457183Z"
    }
   },
   "outputs": [
    {
     "name": "stdout",
     "output_type": "stream",
     "text": [
      "                              /-Alkalibacterium putridalgicola\n",
      "                    /--------|\n",
      "                   |          \\-Marinilactibacillus psychrotolerans\n",
      "          /--------|\n",
      "         |         |          /-Facklamia hominis\n",
      "         |         |         |\n",
      "         |          \\--------|          /-Aerococcus viridans\n",
      "         |                   |         |\n",
      "         |                    \\--------|                    /-Abiotrophia defectiva\n",
      "         |                             |          /--------|\n",
      "---------|                              \\--------|          \\-Bacillus schlegelii\n",
      "         |                                       |\n",
      "         |                                        \\-Fibrobacter succinogenes\n",
      "         |\n",
      "         |          /-Fibrobacter intestinalis\n",
      "         |---------|\n",
      "         |          \\-Dictyoglomus thermophilum\n",
      "         |\n",
      "          \\-Thermus scotoductus\n"
     ]
    }
   ],
   "source": [
    "print(complex_tree.ascii_art(show_internal=False))"
   ]
  },
  {
   "cell_type": "code",
   "execution_count": 13,
   "id": "hollow-ukraine",
   "metadata": {
    "execution": {
     "iopub.execute_input": "2021-09-30T04:33:22.459721Z",
     "iopub.status.busy": "2021-09-30T04:33:22.459224Z",
     "iopub.status.idle": "2021-09-30T04:33:22.460876Z",
     "shell.execute_reply": "2021-09-30T04:33:22.461227Z"
    }
   },
   "outputs": [],
   "source": [
    "tips = complex_tree.tips()"
   ]
  },
  {
   "cell_type": "code",
   "execution_count": 14,
   "id": "known-attraction",
   "metadata": {
    "execution": {
     "iopub.execute_input": "2021-09-30T04:33:22.464069Z",
     "iopub.status.busy": "2021-09-30T04:33:22.463607Z",
     "iopub.status.idle": "2021-09-30T04:33:22.465264Z",
     "shell.execute_reply": "2021-09-30T04:33:22.465757Z"
    }
   },
   "outputs": [],
   "source": [
    "tips_to_delete = []\n",
    "AEROCOCCUS_INDEX = 3\n",
    "for n in tips:\n",
    "    if tips[AEROCOCCUS_INDEX].distance(n) > 1.8:\n",
    "        tips_to_delete.append(n)"
   ]
  },
  {
   "cell_type": "code",
   "execution_count": 15,
   "id": "computational-psychology",
   "metadata": {
    "execution": {
     "iopub.execute_input": "2021-09-30T04:33:22.468696Z",
     "iopub.status.busy": "2021-09-30T04:33:22.468179Z",
     "iopub.status.idle": "2021-09-30T04:33:22.470074Z",
     "shell.execute_reply": "2021-09-30T04:33:22.470477Z"
    }
   },
   "outputs": [],
   "source": [
    "for n in tips_to_delete:\n",
    "    n.parent.remove(n)\n",
    "    complex_tree.prune()"
   ]
  },
  {
   "cell_type": "code",
   "execution_count": 16,
   "id": "comparative-james",
   "metadata": {
    "execution": {
     "iopub.execute_input": "2021-09-30T04:33:22.473702Z",
     "iopub.status.busy": "2021-09-30T04:33:22.473100Z",
     "iopub.status.idle": "2021-09-30T04:33:22.474957Z",
     "shell.execute_reply": "2021-09-30T04:33:22.475292Z"
    }
   },
   "outputs": [
    {
     "name": "stdout",
     "output_type": "stream",
     "text": [
      "                              /-Alkalibacterium putridalgicola\n",
      "                    /--------|\n",
      "                   |          \\-Marinilactibacillus psychrotolerans\n",
      "--------- /--------|\n",
      "                   |          /-Facklamia hominis\n",
      "                   |         |\n",
      "                    \\--------|          /-Aerococcus viridans\n",
      "                             |         |\n",
      "                              \\--------|                    /-Abiotrophia defectiva\n",
      "                                       |          /--------|\n",
      "                                        \\--------|          \\-Bacillus schlegelii\n",
      "                                                 |\n",
      "                                                  \\-Fibrobacter succinogenes\n"
     ]
    }
   ],
   "source": [
    "print(complex_tree.ascii_art(show_internal=False))"
   ]
  }
 ],
 "metadata": {
  "kernelspec": {
   "display_name": "Python 3",
   "language": "python",
   "name": "python3"
  },
  "language_info": {
   "codemirror_mode": {
    "name": "ipython",
    "version": 3
   },
   "file_extension": ".py",
   "mimetype": "text/x-python",
   "name": "python",
   "nbconvert_exporter": "python",
   "pygments_lexer": "ipython3",
   "version": "3.9.0"
  }
 },
 "nbformat": 4,
 "nbformat_minor": 5
}