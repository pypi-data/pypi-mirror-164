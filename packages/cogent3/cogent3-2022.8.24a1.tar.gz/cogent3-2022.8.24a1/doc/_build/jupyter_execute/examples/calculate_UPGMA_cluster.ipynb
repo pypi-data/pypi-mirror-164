{
 "cells": [
  {
   "cell_type": "code",
   "execution_count": 1,
   "id": "second-integrity",
   "metadata": {
    "execution": {
     "iopub.execute_input": "2021-09-30T04:32:03.092533Z",
     "iopub.status.busy": "2021-09-30T04:32:03.091877Z",
     "iopub.status.idle": "2021-09-30T04:32:03.351348Z",
     "shell.execute_reply": "2021-09-30T04:32:03.351731Z"
    }
   },
   "outputs": [],
   "source": [
    "import set_working_directory"
   ]
  },
  {
   "cell_type": "code",
   "execution_count": 2,
   "id": "former-qatar",
   "metadata": {
    "execution": {
     "iopub.execute_input": "2021-09-30T04:32:03.354885Z",
     "iopub.status.busy": "2021-09-30T04:32:03.354348Z",
     "iopub.status.idle": "2021-09-30T04:32:03.923110Z",
     "shell.execute_reply": "2021-09-30T04:32:03.923645Z"
    }
   },
   "outputs": [],
   "source": [
    "from cogent3 import load_aligned_seqs\n",
    "from cogent3.evolve import distance\n",
    "from cogent3.cluster.UPGMA import upgma"
   ]
  },
  {
   "cell_type": "code",
   "execution_count": 3,
   "id": "equipped-realtor",
   "metadata": {
    "execution": {
     "iopub.execute_input": "2021-09-30T04:32:03.926895Z",
     "iopub.status.busy": "2021-09-30T04:32:03.926248Z",
     "iopub.status.idle": "2021-09-30T04:32:03.928025Z",
     "shell.execute_reply": "2021-09-30T04:32:03.928526Z"
    }
   },
   "outputs": [],
   "source": [
    "from cogent3.evolve.models import HKY85"
   ]
  },
  {
   "cell_type": "code",
   "execution_count": 4,
   "id": "frank-destruction",
   "metadata": {
    "execution": {
     "iopub.execute_input": "2021-09-30T04:32:03.931847Z",
     "iopub.status.busy": "2021-09-30T04:32:03.931151Z",
     "iopub.status.idle": "2021-09-30T04:32:03.934968Z",
     "shell.execute_reply": "2021-09-30T04:32:03.935351Z"
    }
   },
   "outputs": [],
   "source": [
    "al = load_aligned_seqs(\"data/test.paml\")"
   ]
  },
  {
   "cell_type": "code",
   "execution_count": 5,
   "id": "sized-affect",
   "metadata": {
    "execution": {
     "iopub.execute_input": "2021-09-30T04:32:03.942847Z",
     "iopub.status.busy": "2021-09-30T04:32:03.941972Z",
     "iopub.status.idle": "2021-09-30T04:32:04.181391Z",
     "shell.execute_reply": "2021-09-30T04:32:04.182165Z"
    }
   },
   "outputs": [],
   "source": [
    "d = distance.EstimateDistances(al, submodel=HKY85())\n",
    "d.run(show_progress=False)"
   ]
  },
  {
   "cell_type": "code",
   "execution_count": 6,
   "id": "committed-pierce",
   "metadata": {
    "execution": {
     "iopub.execute_input": "2021-09-30T04:32:04.186989Z",
     "iopub.status.busy": "2021-09-30T04:32:04.186268Z",
     "iopub.status.idle": "2021-09-30T04:32:04.188600Z",
     "shell.execute_reply": "2021-09-30T04:32:04.189094Z"
    }
   },
   "outputs": [
    {
     "name": "stdout",
     "output_type": "stream",
     "text": [
      "                    /-DogFaced\n",
      "                   |\n",
      "          /edge.0--|                    /-HowlerMon\n",
      "         |         |          /edge.2--|\n",
      "         |          \\edge.1--|          \\-Human\n",
      "-root----|                   |\n",
      "         |                    \\-NineBande\n",
      "         |\n",
      "          \\-Mouse\n"
     ]
    }
   ],
   "source": [
    "mycluster = upgma(d.get_pairwise_distances())\n",
    "print(mycluster.ascii_art())"
   ]
  },
  {
   "cell_type": "code",
   "execution_count": 7,
   "id": "mineral-saturn",
   "metadata": {
    "execution": {
     "iopub.execute_input": "2021-09-30T04:32:04.192303Z",
     "iopub.status.busy": "2021-09-30T04:32:04.191699Z",
     "iopub.status.idle": "2021-09-30T04:32:04.194402Z",
     "shell.execute_reply": "2021-09-30T04:32:04.194779Z"
    }
   },
   "outputs": [],
   "source": [
    "mycluster.write(\"test_upgma.tree\")"
   ]
  },
  {
   "cell_type": "code",
   "execution_count": 8,
   "id": "dimensional-breach",
   "metadata": {
    "execution": {
     "iopub.execute_input": "2021-09-30T04:32:04.197694Z",
     "iopub.status.busy": "2021-09-30T04:32:04.197090Z",
     "iopub.status.idle": "2021-09-30T04:32:04.199059Z",
     "shell.execute_reply": "2021-09-30T04:32:04.199473Z"
    }
   },
   "outputs": [],
   "source": [
    "import os\n",
    "\n",
    "os.remove(\"test_upgma.tree\")"
   ]
  }
 ],
 "metadata": {
  "kernelspec": {
   "display_name": "Python 3",
   "language": "python",
   "name": "python3"
  },
  "language_info": {
   "codemirror_mode": {
    "name": "ipython",
    "version": 3
   },
   "file_extension": ".py",
   "mimetype": "text/x-python",
   "name": "python",
   "nbconvert_exporter": "python",
   "pygments_lexer": "ipython3",
   "version": "3.9.0"
  }
 },
 "nbformat": 4,
 "nbformat_minor": 5
}