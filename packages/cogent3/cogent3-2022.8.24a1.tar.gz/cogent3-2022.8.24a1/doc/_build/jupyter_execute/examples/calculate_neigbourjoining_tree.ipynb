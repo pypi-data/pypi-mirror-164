{
 "cells": [
  {
   "cell_type": "code",
   "execution_count": 1,
   "id": "addressed-samba",
   "metadata": {
    "execution": {
     "iopub.execute_input": "2021-09-30T04:32:06.411218Z",
     "iopub.status.busy": "2021-09-30T04:32:06.410557Z",
     "iopub.status.idle": "2021-09-30T04:32:06.681433Z",
     "shell.execute_reply": "2021-09-30T04:32:06.681820Z"
    }
   },
   "outputs": [],
   "source": [
    "import set_working_directory"
   ]
  },
  {
   "cell_type": "code",
   "execution_count": 2,
   "id": "dominant-minutes",
   "metadata": {
    "execution": {
     "iopub.execute_input": "2021-09-30T04:32:06.685105Z",
     "iopub.status.busy": "2021-09-30T04:32:06.684551Z",
     "iopub.status.idle": "2021-09-30T04:32:07.378878Z",
     "shell.execute_reply": "2021-09-30T04:32:07.379312Z"
    }
   },
   "outputs": [],
   "source": [
    "from cogent3 import load_aligned_seqs\n",
    "from cogent3.evolve import distance\n",
    "from cogent3.phylo import nj"
   ]
  },
  {
   "cell_type": "code",
   "execution_count": 3,
   "id": "engaging-capture",
   "metadata": {
    "execution": {
     "iopub.execute_input": "2021-09-30T04:32:07.383594Z",
     "iopub.status.busy": "2021-09-30T04:32:07.382666Z",
     "iopub.status.idle": "2021-09-30T04:32:07.385097Z",
     "shell.execute_reply": "2021-09-30T04:32:07.385650Z"
    }
   },
   "outputs": [],
   "source": [
    "from cogent3.evolve.models import get_model"
   ]
  },
  {
   "cell_type": "code",
   "execution_count": 4,
   "id": "conventional-boulder",
   "metadata": {
    "execution": {
     "iopub.execute_input": "2021-09-30T04:32:07.390312Z",
     "iopub.status.busy": "2021-09-30T04:32:07.389553Z",
     "iopub.status.idle": "2021-09-30T04:32:07.395516Z",
     "shell.execute_reply": "2021-09-30T04:32:07.396062Z"
    }
   },
   "outputs": [],
   "source": [
    "al = load_aligned_seqs(\"data/long_testseqs.fasta\")"
   ]
  },
  {
   "cell_type": "code",
   "execution_count": 5,
   "id": "minute-graph",
   "metadata": {
    "execution": {
     "iopub.execute_input": "2021-09-30T04:32:07.401141Z",
     "iopub.status.busy": "2021-09-30T04:32:07.400487Z",
     "iopub.status.idle": "2021-09-30T04:32:07.830847Z",
     "shell.execute_reply": "2021-09-30T04:32:07.831273Z"
    }
   },
   "outputs": [],
   "source": [
    "d = distance.EstimateDistances(al, submodel=get_model(\"HKY85\"))\n",
    "d.run(show_progress=False)"
   ]
  },
  {
   "cell_type": "code",
   "execution_count": 6,
   "id": "coated-metallic",
   "metadata": {
    "execution": {
     "iopub.execute_input": "2021-09-30T04:32:07.836015Z",
     "iopub.status.busy": "2021-09-30T04:32:07.835268Z",
     "iopub.status.idle": "2021-09-30T04:32:07.837872Z",
     "shell.execute_reply": "2021-09-30T04:32:07.838307Z"
    }
   },
   "outputs": [
    {
     "name": "stdout",
     "output_type": "stream",
     "text": [
      "                    /-HowlerMon\n",
      "          /edge.0--|\n",
      "         |          \\-Human\n",
      "         |\n",
      "-root----|--Mouse\n",
      "         |\n",
      "         |          /-NineBande\n",
      "          \\edge.1--|\n",
      "                    \\-DogFaced\n"
     ]
    }
   ],
   "source": [
    "mytree = nj.nj(d.get_pairwise_distances(), show_progress=False)\n",
    "print(mytree.ascii_art())"
   ]
  },
  {
   "cell_type": "code",
   "execution_count": 7,
   "id": "funny-indonesia",
   "metadata": {
    "execution": {
     "iopub.execute_input": "2021-09-30T04:32:07.841800Z",
     "iopub.status.busy": "2021-09-30T04:32:07.841145Z",
     "iopub.status.idle": "2021-09-30T04:32:07.844267Z",
     "shell.execute_reply": "2021-09-30T04:32:07.844708Z"
    }
   },
   "outputs": [],
   "source": [
    "mytree.write(\"test_nj.tree\")"
   ]
  },
  {
   "cell_type": "code",
   "execution_count": 8,
   "id": "serious-retreat",
   "metadata": {
    "execution": {
     "iopub.execute_input": "2021-09-30T04:32:07.848324Z",
     "iopub.status.busy": "2021-09-30T04:32:07.847589Z",
     "iopub.status.idle": "2021-09-30T04:32:07.850105Z",
     "shell.execute_reply": "2021-09-30T04:32:07.850729Z"
    }
   },
   "outputs": [],
   "source": [
    "import os\n",
    "\n",
    "os.remove(\"test_nj.tree\")"
   ]
  }
 ],
 "metadata": {
  "kernelspec": {
   "display_name": "Python 3",
   "language": "python",
   "name": "python3"
  },
  "language_info": {
   "codemirror_mode": {
    "name": "ipython",
    "version": 3
   },
   "file_extension": ".py",
   "mimetype": "text/x-python",
   "name": "python",
   "nbconvert_exporter": "python",
   "pygments_lexer": "ipython3",
   "version": "3.9.0"
  }
 },
 "nbformat": 4,
 "nbformat_minor": 5
}