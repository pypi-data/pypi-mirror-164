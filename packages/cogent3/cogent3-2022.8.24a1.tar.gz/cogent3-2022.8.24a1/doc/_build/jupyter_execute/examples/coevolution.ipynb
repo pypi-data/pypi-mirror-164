{
 "cells": [
  {
   "cell_type": "code",
   "execution_count": 1,
   "id": "emerging-period",
   "metadata": {
    "execution": {
     "iopub.execute_input": "2021-09-30T04:32:54.984465Z",
     "iopub.status.busy": "2021-09-30T04:32:54.983786Z",
     "iopub.status.idle": "2021-09-30T04:32:55.738894Z",
     "shell.execute_reply": "2021-09-30T04:32:55.739322Z"
    }
   },
   "outputs": [],
   "source": [
    "from cogent3 import make_aligned_seqs\n",
    "from cogent3.core.alignment import ArrayAlignment\n",
    "from cogent3.evolve.coevolution import validate_alignment\n",
    "\n",
    "aln = make_aligned_seqs(\n",
    "    {\"1\": \"GAA\", \"2\": \"CTA\", \"3\": \"CTC\", \"4\": \"-TC\"},\n",
    "    moltype=\"protein\",\n",
    "    array_align=True,\n",
    ")\n",
    "validate_alignment(aln)"
   ]
  },
  {
   "cell_type": "code",
   "execution_count": 2,
   "id": "decent-composite",
   "metadata": {
    "execution": {
     "iopub.execute_input": "2021-09-30T04:32:55.743432Z",
     "iopub.status.busy": "2021-09-30T04:32:55.742792Z",
     "iopub.status.idle": "2021-09-30T04:32:55.744662Z",
     "shell.execute_reply": "2021-09-30T04:32:55.745068Z"
    }
   },
   "outputs": [],
   "source": [
    "from cogent3 import make_aligned_seqs\n",
    "from cogent3.core.alignment import ArrayAlignment\n",
    "\n",
    "aln = make_aligned_seqs(\n",
    "    {\"1\": \"AAA\", \"2\": \"CTA\", \"3\": \"CTC\", \"4\": \"-TC\"},\n",
    "    moltype=\"protein\",\n",
    "    array_align=True,\n",
    ")"
   ]
  },
  {
   "cell_type": "code",
   "execution_count": 3,
   "id": "pressing-count",
   "metadata": {
    "execution": {
     "iopub.execute_input": "2021-09-30T04:32:55.754850Z",
     "iopub.status.busy": "2021-09-30T04:32:55.754206Z",
     "iopub.status.idle": "2021-09-30T04:32:55.756642Z",
     "shell.execute_reply": "2021-09-30T04:32:55.757280Z"
    }
   },
   "outputs": [
    {
     "data": {
      "text/plain": [
       "0.31127812445913294"
      ]
     },
     "execution_count": 3,
     "metadata": {},
     "output_type": "execute_result"
    }
   ],
   "source": [
    "from cogent3.evolve.coevolution import coevolve_pair_functions, coevolve_pair\n",
    "\n",
    "coevolve_pair(coevolve_pair_functions[\"mi\"], aln, pos1=1, pos2=2)"
   ]
  },
  {
   "cell_type": "code",
   "execution_count": 4,
   "id": "pediatric-reliance",
   "metadata": {
    "execution": {
     "iopub.execute_input": "2021-09-30T04:32:55.763485Z",
     "iopub.status.busy": "2021-09-30T04:32:55.762758Z",
     "iopub.status.idle": "2021-09-30T04:32:55.765219Z",
     "shell.execute_reply": "2021-09-30T04:32:55.765695Z"
    }
   },
   "outputs": [
    {
     "data": {
      "text/plain": [
       "0.980536895536287"
      ]
     },
     "execution_count": 4,
     "metadata": {},
     "output_type": "execute_result"
    }
   ],
   "source": [
    "from cogent3.evolve.coevolution import coevolve_pair_functions, coevolve_pair\n",
    "\n",
    "coevolve_pair(coevolve_pair_functions[\"sca\"], aln, pos1=1, pos2=2, cutoff=0.5)"
   ]
  },
  {
   "cell_type": "code",
   "execution_count": 5,
   "id": "editorial-thesaurus",
   "metadata": {
    "execution": {
     "iopub.execute_input": "2021-09-30T04:32:55.770246Z",
     "iopub.status.busy": "2021-09-30T04:32:55.769658Z",
     "iopub.status.idle": "2021-09-30T04:32:55.772024Z",
     "shell.execute_reply": "2021-09-30T04:32:55.772438Z"
    }
   },
   "outputs": [
    {
     "data": {
      "text/plain": [
       "array([       nan, 0.81127812, 0.31127812])"
      ]
     },
     "execution_count": 5,
     "metadata": {},
     "output_type": "execute_result"
    }
   ],
   "source": [
    "from cogent3.evolve.coevolution import (\n",
    "    coevolve_position_functions,\n",
    "    coevolve_position,\n",
    ")\n",
    "\n",
    "coevolve_position(coevolve_position_functions[\"mi\"], aln, position=1)"
   ]
  },
  {
   "cell_type": "code",
   "execution_count": 6,
   "id": "filled-marketing",
   "metadata": {
    "execution": {
     "iopub.execute_input": "2021-09-30T04:32:55.777820Z",
     "iopub.status.busy": "2021-09-30T04:32:55.777161Z",
     "iopub.status.idle": "2021-09-30T04:32:55.779694Z",
     "shell.execute_reply": "2021-09-30T04:32:55.780156Z"
    }
   },
   "outputs": [
    {
     "data": {
      "text/plain": [
       "array([[       nan,        nan,        nan],\n",
       "       [       nan, 0.81127812, 0.31127812],\n",
       "       [       nan, 0.31127812, 1.        ]])"
      ]
     },
     "execution_count": 6,
     "metadata": {},
     "output_type": "execute_result"
    }
   ],
   "source": [
    "from cogent3.evolve.coevolution import (\n",
    "    coevolve_alignment_functions,\n",
    "    coevolve_alignment,\n",
    ")\n",
    "\n",
    "coevolve_alignment(coevolve_alignment_functions[\"mi\"], aln)"
   ]
  },
  {
   "cell_type": "code",
   "execution_count": 7,
   "id": "legitimate-lecture",
   "metadata": {
    "execution": {
     "iopub.execute_input": "2021-09-30T04:32:55.783609Z",
     "iopub.status.busy": "2021-09-30T04:32:55.782971Z",
     "iopub.status.idle": "2021-09-30T04:32:55.785224Z",
     "shell.execute_reply": "2021-09-30T04:32:55.785633Z"
    }
   },
   "outputs": [
    {
     "name": "stdout",
     "output_type": "stream",
     "text": [
      "dict_keys(['mi', 'nmi', 'rmi', 'sca', 'an'])\n"
     ]
    }
   ],
   "source": [
    "print(coevolve_pair_functions.keys())"
   ]
  },
  {
   "cell_type": "code",
   "execution_count": 8,
   "id": "outer-browse",
   "metadata": {
    "execution": {
     "iopub.execute_input": "2021-09-30T04:32:55.793860Z",
     "iopub.status.busy": "2021-09-30T04:32:55.793262Z",
     "iopub.status.idle": "2021-09-30T04:32:55.795654Z",
     "shell.execute_reply": "2021-09-30T04:32:55.796067Z"
    }
   },
   "outputs": [
    {
     "data": {
      "text/plain": [
       "array([[       nan,        nan,        nan],\n",
       "       [       nan, 0.12255625, 0.31127812],\n",
       "       [       nan, 0.31127812, 0.        ],\n",
       "       [       nan, 0.31127812, 0.        ]])"
      ]
     },
     "execution_count": 8,
     "metadata": {},
     "output_type": "execute_result"
    }
   ],
   "source": [
    "from cogent3.evolve.coevolution import (\n",
    "    coevolve_alignment_functions,\n",
    "    coevolve_alignments,\n",
    ")\n",
    "\n",
    "aln1 = make_aligned_seqs(\n",
    "    {\n",
    "        \"human+protein1\": \"AAA\",\n",
    "        \"pig+protein1\": \"CTA\",\n",
    "        \"chicken+protein1\": \"CTC\",\n",
    "        \"echidna+weird_db_identifier\": \"-TC\",\n",
    "    },\n",
    "    moltype=\"protein\",\n",
    "    array_align=True,\n",
    ")\n",
    "aln2 = make_aligned_seqs(\n",
    "    {\n",
    "        \"pig+protein2\": \"AAAY\",\n",
    "        \"chicken+protein2\": \"CTAY\",\n",
    "        \"echidna+protein2\": \"CTCF\",\n",
    "        \"human+protein2\": \"-TCF\",\n",
    "    },\n",
    "    moltype=\"protein\",\n",
    "    array_align=True,\n",
    ")\n",
    "coevolve_alignments(coevolve_alignment_functions[\"mi\"], aln1, aln2)"
   ]
  }
 ],
 "metadata": {
  "kernelspec": {
   "display_name": "Python 3",
   "language": "python",
   "name": "python3"
  },
  "language_info": {
   "codemirror_mode": {
    "name": "ipython",
    "version": 3
   },
   "file_extension": ".py",
   "mimetype": "text/x-python",
   "name": "python",
   "nbconvert_exporter": "python",
   "pygments_lexer": "ipython3",
   "version": "3.9.0"
  }
 },
 "nbformat": 4,
 "nbformat_minor": 5
}