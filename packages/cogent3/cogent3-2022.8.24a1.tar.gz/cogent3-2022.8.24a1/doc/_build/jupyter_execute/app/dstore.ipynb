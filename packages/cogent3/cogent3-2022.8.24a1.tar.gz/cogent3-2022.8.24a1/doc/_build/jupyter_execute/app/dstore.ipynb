{
 "cells": [
  {
   "cell_type": "code",
   "execution_count": 1,
   "id": "listed-courage",
   "metadata": {
    "execution": {
     "iopub.execute_input": "2021-09-30T04:25:00.457544Z",
     "iopub.status.busy": "2021-09-30T04:25:00.456881Z",
     "iopub.status.idle": "2021-09-30T04:25:00.727367Z",
     "shell.execute_reply": "2021-09-30T04:25:00.727773Z"
    }
   },
   "outputs": [],
   "source": [
    "import set_working_directory"
   ]
  },
  {
   "cell_type": "code",
   "execution_count": 2,
   "id": "bronze-midnight",
   "metadata": {
    "execution": {
     "iopub.execute_input": "2021-09-30T04:25:00.731649Z",
     "iopub.status.busy": "2021-09-30T04:25:00.730733Z",
     "iopub.status.idle": "2021-09-30T04:25:01.318515Z",
     "shell.execute_reply": "2021-09-30T04:25:01.318848Z"
    }
   },
   "outputs": [
    {
     "data": {
      "text/plain": [
       "5x member ReadOnlyZippedDataStore(source='/Users/gavin/repos/Cogent3/dist/cogent3-2021.5.7a0/doc/data/raw.zip', members=['/Users/gavin/repos/Cogent3/dist/cogent3-2021.5.7a0/doc/data/raw/ENSG00000157184.fa', '/Users/gavin/repos/Cogent3/dist/cogent3-2021.5.7a0/doc/data/raw/ENSG00000131791.fa', '/Users/gavin/repos/Cogent3/dist/cogent3-2021.5.7a0/doc/data/raw/ENSG00000127054.fa'...)"
      ]
     },
     "execution_count": 2,
     "metadata": {},
     "output_type": "execute_result"
    }
   ],
   "source": [
    "from cogent3.app.io import get_data_store\n",
    "\n",
    "dstore = get_data_store(\"data/raw.zip\", suffix=\"fa*\", limit=5)\n",
    "dstore"
   ]
  },
  {
   "cell_type": "code",
   "execution_count": 3,
   "id": "suited-copyright",
   "metadata": {
    "execution": {
     "iopub.execute_input": "2021-09-30T04:25:01.321776Z",
     "iopub.status.busy": "2021-09-30T04:25:01.321273Z",
     "iopub.status.idle": "2021-09-30T04:25:01.323508Z",
     "shell.execute_reply": "2021-09-30T04:25:01.323831Z"
    }
   },
   "outputs": [
    {
     "data": {
      "text/plain": [
       "'/Users/gavin/repos/Cogent3/dist/cogent3-2021.5.7a0/doc/data/raw/ENSG00000157184.fa'"
      ]
     },
     "execution_count": 3,
     "metadata": {},
     "output_type": "execute_result"
    }
   ],
   "source": [
    "m = dstore[0]\n",
    "m"
   ]
  },
  {
   "cell_type": "code",
   "execution_count": 4,
   "id": "shared-brief",
   "metadata": {
    "execution": {
     "iopub.execute_input": "2021-09-30T04:25:01.326493Z",
     "iopub.status.busy": "2021-09-30T04:25:01.326022Z",
     "iopub.status.idle": "2021-09-30T04:25:01.334677Z",
     "shell.execute_reply": "2021-09-30T04:25:01.335071Z"
    }
   },
   "outputs": [
    {
     "data": {
      "text/plain": [
       "'>Human\\nATGGTGCCCCGCC'"
      ]
     },
     "execution_count": 4,
     "metadata": {},
     "output_type": "execute_result"
    }
   ],
   "source": [
    "m.read()[:20]  # truncating"
   ]
  },
  {
   "cell_type": "code",
   "execution_count": 5,
   "id": "environmental-shade",
   "metadata": {
    "execution": {
     "iopub.execute_input": "2021-09-30T04:25:01.338163Z",
     "iopub.status.busy": "2021-09-30T04:25:01.337560Z",
     "iopub.status.idle": "2021-09-30T04:25:01.339722Z",
     "shell.execute_reply": "2021-09-30T04:25:01.340142Z"
    }
   },
   "outputs": [
    {
     "name": "stdout",
     "output_type": "stream",
     "text": [
      "['/Users/gavin/repos/Cogent3/dist/cogent3-2021.5.7a0/doc/data/raw/ENSG00000157184.fa',\n",
      " '/Users/gavin/repos/Cogent3/dist/cogent3-2021.5.7a0/doc/data/raw/ENSG00000131791.fa',\n",
      " '/Users/gavin/repos/Cogent3/dist/cogent3-2021.5.7a0/doc/data/raw/ENSG00000127054.fa',\n",
      " '/Users/gavin/repos/Cogent3/dist/cogent3-2021.5.7a0/doc/data/raw/ENSG00000067704.fa',\n",
      " '/Users/gavin/repos/Cogent3/dist/cogent3-2021.5.7a0/doc/data/raw/ENSG00000182004.fa']\n"
     ]
    }
   ],
   "source": [
    "dstore.tail()"
   ]
  },
  {
   "cell_type": "code",
   "execution_count": 6,
   "id": "tropical-victoria",
   "metadata": {
    "execution": {
     "iopub.execute_input": "2021-09-30T04:25:01.343370Z",
     "iopub.status.busy": "2021-09-30T04:25:01.342727Z",
     "iopub.status.idle": "2021-09-30T04:25:01.345381Z",
     "shell.execute_reply": "2021-09-30T04:25:01.345706Z"
    }
   },
   "outputs": [
    {
     "data": {
      "text/plain": [
       "['/Users/gavin/repos/Cogent3/dist/cogent3-2021.5.7a0/doc/data/raw/ENSG00000067704.fa']"
      ]
     },
     "execution_count": 6,
     "metadata": {},
     "output_type": "execute_result"
    }
   ],
   "source": [
    "dstore.filtered(\"*ENSG00000067704*\")"
   ]
  },
  {
   "cell_type": "code",
   "execution_count": 7,
   "id": "dense-million",
   "metadata": {
    "execution": {
     "iopub.execute_input": "2021-09-30T04:25:01.348646Z",
     "iopub.status.busy": "2021-09-30T04:25:01.348099Z",
     "iopub.status.idle": "2021-09-30T04:25:01.350210Z",
     "shell.execute_reply": "2021-09-30T04:25:01.350739Z"
    }
   },
   "outputs": [
    {
     "name": "stdout",
     "output_type": "stream",
     "text": [
      "/Users/gavin/repos/Cogent3/dist/cogent3-2021.5.7a0/doc/data/raw/ENSG00000157184.fa\n",
      "/Users/gavin/repos/Cogent3/dist/cogent3-2021.5.7a0/doc/data/raw/ENSG00000131791.fa\n",
      "/Users/gavin/repos/Cogent3/dist/cogent3-2021.5.7a0/doc/data/raw/ENSG00000127054.fa\n",
      "/Users/gavin/repos/Cogent3/dist/cogent3-2021.5.7a0/doc/data/raw/ENSG00000067704.fa\n",
      "/Users/gavin/repos/Cogent3/dist/cogent3-2021.5.7a0/doc/data/raw/ENSG00000182004.fa\n"
     ]
    }
   ],
   "source": [
    "for m in dstore:\n",
    "    print(m)"
   ]
  },
  {
   "cell_type": "code",
   "execution_count": 8,
   "id": "mounted-numbers",
   "metadata": {
    "execution": {
     "iopub.execute_input": "2021-09-30T04:25:01.353205Z",
     "iopub.status.busy": "2021-09-30T04:25:01.352743Z",
     "iopub.status.idle": "2021-09-30T04:25:01.363786Z",
     "shell.execute_reply": "2021-09-30T04:25:01.363469Z"
    }
   },
   "outputs": [
    {
     "data": {
      "text/html": [
       "\n",
       "<div class=\"c3table\">\n",
       "\n",
       "<style>\n",
       ".c3table table {margin: 10px 0;}\n",
       ".c3table tr:last-child {border-bottom: 1px solid #000;} \n",
       ".c3table tr > th {text-align: left; padding: 0 5px;}\n",
       ".c3table tr > td {text-align: left; padding: 5px;}\n",
       ".c3table tr:nth-child(even) {background: #f7f7f7 !important;}\n",
       ".c3table .ellipsis {background: rgba(0, 0, 0, .01);}\n",
       ".c3table .index {background: rgba(161, 195, 209, 0.0); margin: 10px; font-weight: 600;}\n",
       ".c3table .head_cell {background: rgba(161, 195, 209, 0.75); font-weight: bold; text-align: center;}\n",
       ".c3table caption {color: rgb(250, 250, 250); background: rgba(30, 140, 200, 1); padding: 3px; white-space: nowrap; caption-side: top;}\n",
       ".c3table .cell_title {font-weight: bold;}\n",
       ".c3col_left { text-align: left !important; display: block;}\n",
       ".c3col_right { text-align: right !important; display: block;}\n",
       ".c3col_center { text-align: center !important; display: block;}\n",
       "</style>\n",
       "\n",
       "<table>\n",
       "\n",
       "<caption>\n",
       "<span class=\"cell_title\">Unlocked db store.</span>\n",
       "</caption>\n",
       "<thead class=\"head_cell\">\n",
       "<th>record type</th><th>number</th>\n",
       "</thead>\n",
       "<tbody>\n",
       "<tr><td><span class=\"c3col_left\">completed</span></td><td><span class=\"c3col_right\">175</span></td></tr>\n",
       "<tr><td><span class=\"c3col_left\">incomplete</span></td><td><span class=\"c3col_right\">0</span></td></tr>\n",
       "<tr><td><span class=\"c3col_left\">logs</span></td><td><span class=\"c3col_right\">1</span></td></tr>\n",
       "</tbody>\n",
       "</table>\n",
       "<p>\n",
       "3 rows x 2 columns</p>\n",
       "</div>"
      ],
      "text/plain": [
       "Unlocked db store.\n",
       "=====================\n",
       "record type    number\n",
       "---------------------\n",
       "completed         175\n",
       "incomplete          0\n",
       "logs                1\n",
       "---------------------\n",
       "\n",
       "3 rows x 2 columns"
      ]
     },
     "execution_count": 8,
     "metadata": {},
     "output_type": "execute_result"
    }
   ],
   "source": [
    "dstore = get_data_store(\"data/demo-locked.tinydb\")\n",
    "dstore.describe"
   ]
  },
  {
   "cell_type": "code",
   "execution_count": 9,
   "id": "retired-turkish",
   "metadata": {
    "execution": {
     "iopub.execute_input": "2021-09-30T04:25:01.366809Z",
     "iopub.status.busy": "2021-09-30T04:25:01.366345Z",
     "iopub.status.idle": "2021-09-30T04:25:01.368133Z",
     "shell.execute_reply": "2021-09-30T04:25:01.368466Z"
    }
   },
   "outputs": [],
   "source": [
    "dstore.unlock(force=True)"
   ]
  },
  {
   "cell_type": "code",
   "execution_count": 10,
   "id": "prompt-principle",
   "metadata": {
    "execution": {
     "iopub.execute_input": "2021-09-30T04:25:01.372909Z",
     "iopub.status.busy": "2021-09-30T04:25:01.372359Z",
     "iopub.status.idle": "2021-09-30T04:25:01.374524Z",
     "shell.execute_reply": "2021-09-30T04:25:01.374853Z"
    }
   },
   "outputs": [
    {
     "data": {
      "text/html": [
       "\n",
       "<div class=\"c3table\">\n",
       "\n",
       "<style>\n",
       ".c3table table {margin: 10px 0;}\n",
       ".c3table tr:last-child {border-bottom: 1px solid #000;} \n",
       ".c3table tr > th {text-align: left; padding: 0 5px;}\n",
       ".c3table tr > td {text-align: left; padding: 5px;}\n",
       ".c3table tr:nth-child(even) {background: #f7f7f7 !important;}\n",
       ".c3table .ellipsis {background: rgba(0, 0, 0, .01);}\n",
       ".c3table .index {background: rgba(161, 195, 209, 0.0); margin: 10px; font-weight: 600;}\n",
       ".c3table .head_cell {background: rgba(161, 195, 209, 0.75); font-weight: bold; text-align: center;}\n",
       ".c3table caption {color: rgb(250, 250, 250); background: rgba(30, 140, 200, 1); padding: 3px; white-space: nowrap; caption-side: top;}\n",
       ".c3table .cell_title {font-weight: bold;}\n",
       ".c3col_left { text-align: left !important; display: block;}\n",
       ".c3col_right { text-align: right !important; display: block;}\n",
       ".c3col_center { text-align: center !important; display: block;}\n",
       "</style>\n",
       "\n",
       "<table>\n",
       "\n",
       "<caption>\n",
       "<span class=\"cell_title\">summary of log files</span>\n",
       "</caption>\n",
       "<thead class=\"head_cell\">\n",
       "<th>time</th><th>name</th><th>python version</th><th>who</th><th>command</th><th>composable</th>\n",
       "</thead>\n",
       "<tbody>\n",
       "<tr><td><span class=\"c3col_left\">2019-07-24 14:42:56</span></td><td><span class=\"c3col_left\">load_unaligned-progressive_align-write_db-pid8650.log</span></td><td><span class=\"c3col_left\">3.7.3</span></td><td><span class=\"c3col_left\">gavin</span></td><td><span class=\"c3col_left\">/Users/gavin/miniconda3/envs/c3dev/lib/python3.7/site-packages/ipykernel_launcher.py -f /Users/gavin/Library/Jupyter/runtime/kernel-5eb93aeb-f6e0-493e-85d1-d62895201ae2.json</span></td><td><span class=\"c3col_left\">load_unaligned(type='sequences', moltype='dna', format='fasta') + progressive_align(type='sequences', model='HKY85', gc=None, param_vals={'kappa': 3}, guide_tree=None, unique_guides=False, indel_length=0.1, indel_rate=1e-10) + write_db(type='output', data_path='../data/aligned-nt.tinydb', name_callback=None, create=True, if_exists='overwrite', suffix='json')</span></td></tr>\n",
       "</tbody>\n",
       "</table>\n",
       "<p>\n",
       "1 rows x 6 columns</p>\n",
       "</div>"
      ],
      "text/plain": [
       "summary of log files\n",
       "====================================================================================================================================================================================================================================================================================================================================================================================================================================================================================================================================================================================================================================================================\n",
       "time                   name                                                     python version    who      command                                                                                                                                                                          composable                                                                                                                                                                                                                                                                                                                                                              \n",
       "--------------------------------------------------------------------------------------------------------------------------------------------------------------------------------------------------------------------------------------------------------------------------------------------------------------------------------------------------------------------------------------------------------------------------------------------------------------------------------------------------------------------------------------------------------------------------------------------------------------------------------------------------------------------\n",
       "2019-07-24 14:42:56    load_unaligned-progressive_align-write_db-pid8650.log    3.7.3             gavin    /Users/gavin/miniconda3/envs/c3dev/lib/python3.7/site-packages/ipykernel_launcher.py -f /Users/gavin/Library/Jupyter/runtime/kernel-5eb93aeb-f6e0-493e-85d1-d62895201ae2.json    load_unaligned(type='sequences', moltype='dna', format='fasta') + progressive_align(type='sequences', model='HKY85', gc=None, param_vals={'kappa': 3}, guide_tree=None, unique_guides=False, indel_length=0.1, indel_rate=1e-10) + write_db(type='output', data_path='../data/aligned-nt.tinydb', name_callback=None, create=True, if_exists='overwrite', suffix='json')\n",
       "--------------------------------------------------------------------------------------------------------------------------------------------------------------------------------------------------------------------------------------------------------------------------------------------------------------------------------------------------------------------------------------------------------------------------------------------------------------------------------------------------------------------------------------------------------------------------------------------------------------------------------------------------------------------\n",
       "\n",
       "1 rows x 6 columns"
      ]
     },
     "execution_count": 10,
     "metadata": {},
     "output_type": "execute_result"
    }
   ],
   "source": [
    "dstore.summary_logs"
   ]
  },
  {
   "cell_type": "code",
   "execution_count": 11,
   "id": "accessory-overview",
   "metadata": {
    "execution": {
     "iopub.execute_input": "2021-09-30T04:25:01.377725Z",
     "iopub.status.busy": "2021-09-30T04:25:01.377141Z",
     "iopub.status.idle": "2021-09-30T04:25:01.379519Z",
     "shell.execute_reply": "2021-09-30T04:25:01.379852Z"
    }
   },
   "outputs": [
    {
     "data": {
      "text/plain": [
       "['load_unaligned-progressive_align-write_db-pid8650.log']"
      ]
     },
     "execution_count": 11,
     "metadata": {},
     "output_type": "execute_result"
    }
   ],
   "source": [
    "dstore.logs"
   ]
  },
  {
   "cell_type": "code",
   "execution_count": 12,
   "id": "overhead-orientation",
   "metadata": {
    "execution": {
     "iopub.execute_input": "2021-09-30T04:25:01.382621Z",
     "iopub.status.busy": "2021-09-30T04:25:01.382092Z",
     "iopub.status.idle": "2021-09-30T04:25:01.384141Z",
     "shell.execute_reply": "2021-09-30T04:25:01.384531Z"
    }
   },
   "outputs": [
    {
     "name": "stdout",
     "output_type": "stream",
     "text": [
      "2019-07-24 14:42:56\tEratosthenes.local:8650\tINFO\tsystem_details : system=Darwin Kernel Version 18.6.0: Thu Apr 25 23:16:27 PDT 2019; root:xnu-4903.261.4~2/RELEASE_X86_64\n",
      "2019-07-24 14:42:56\tEratosthenes.local:8650\tINFO\tpython\n"
     ]
    }
   ],
   "source": [
    "print(dstore.logs[0].read()[:225])  # truncated for clarity"
   ]
  }
 ],
 "metadata": {
  "kernelspec": {
   "display_name": "Python 3",
   "language": "python",
   "name": "python3"
  },
  "language_info": {
   "codemirror_mode": {
    "name": "ipython",
    "version": 3
   },
   "file_extension": ".py",
   "mimetype": "text/x-python",
   "name": "python",
   "nbconvert_exporter": "python",
   "pygments_lexer": "ipython3",
   "version": "3.9.0"
  }
 },
 "nbformat": 4,
 "nbformat_minor": 5
}