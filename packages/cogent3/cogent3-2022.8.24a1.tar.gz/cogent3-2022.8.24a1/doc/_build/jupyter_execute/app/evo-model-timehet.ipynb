{
 "cells": [
  {
   "cell_type": "code",
   "execution_count": 1,
   "id": "chinese-twelve",
   "metadata": {
    "execution": {
     "iopub.execute_input": "2021-09-30T04:25:31.665086Z",
     "iopub.status.busy": "2021-09-30T04:25:31.664408Z",
     "iopub.status.idle": "2021-09-30T04:25:31.934730Z",
     "shell.execute_reply": "2021-09-30T04:25:31.934282Z"
    }
   },
   "outputs": [],
   "source": [
    "import set_working_directory"
   ]
  },
  {
   "cell_type": "code",
   "execution_count": 2,
   "id": "institutional-identifier",
   "metadata": {
    "execution": {
     "iopub.execute_input": "2021-09-30T04:25:31.938795Z",
     "iopub.status.busy": "2021-09-30T04:25:31.938220Z",
     "iopub.status.idle": "2021-09-30T04:25:33.676169Z",
     "shell.execute_reply": "2021-09-30T04:25:33.676540Z"
    }
   },
   "outputs": [],
   "source": [
    "from cogent3 import load_tree\n",
    "from cogent3.app import io, evo\n",
    "\n",
    "tree = load_tree(\"data/primate_brca1.tree\")\n",
    "fig = tree.get_figure(contemporaneous=True)\n",
    "fig.style_edges(\n",
    "    \"Human\", tip2=\"Orangutan\", outgroup=\"Galago\", line=dict(color=\"red\")\n",
    ")\n",
    "fig.show(width=500, height=500)"
   ]
  },
  {
   "cell_type": "code",
   "execution_count": 3,
   "id": "committed-marsh",
   "metadata": {
    "execution": {
     "iopub.execute_input": "2021-09-30T04:25:33.680409Z",
     "iopub.status.busy": "2021-09-30T04:25:33.679865Z",
     "iopub.status.idle": "2021-09-30T04:25:33.755087Z",
     "shell.execute_reply": "2021-09-30T04:25:33.755457Z"
    }
   },
   "outputs": [],
   "source": [
    "time_het = evo.model(\n",
    "    \"GN\",\n",
    "    tree=tree,\n",
    "    time_het=[dict(tip_names=[\"Human\", \"Orangutan\"], outgroup_name=\"Galago\")],\n",
    ")"
   ]
  },
  {
   "cell_type": "code",
   "execution_count": 4,
   "id": "functioning-tribe",
   "metadata": {
    "execution": {
     "iopub.execute_input": "2021-09-30T04:25:33.758985Z",
     "iopub.status.busy": "2021-09-30T04:25:33.758422Z",
     "iopub.status.idle": "2021-09-30T04:25:38.194089Z",
     "shell.execute_reply": "2021-09-30T04:25:38.194750Z"
    }
   },
   "outputs": [],
   "source": [
    "reader = io.load_aligned(format=\"fasta\")\n",
    "aln = reader(\"data/primate_brca1.fasta\")\n",
    "result = time_het(aln)"
   ]
  },
  {
   "cell_type": "code",
   "execution_count": 5,
   "id": "generous-mainstream",
   "metadata": {
    "execution": {
     "iopub.execute_input": "2021-09-30T04:25:38.209081Z",
     "iopub.status.busy": "2021-09-30T04:25:38.208260Z",
     "iopub.status.idle": "2021-09-30T04:25:38.211257Z",
     "shell.execute_reply": "2021-09-30T04:25:38.211728Z"
    }
   },
   "outputs": [
    {
     "data": {
      "text/html": [
       "<h4>GN</h4>\n",
       "<p>log-likelihood = -6982.2248</p>\n",
       "<p>number of free parameters = 36</p>\n",
       "\n",
       "<div class=\"c3table\">\n",
       "\n",
       "<style>\n",
       ".c3table table {margin: 10px 0;}\n",
       ".c3table tr:last-child {border-bottom: 1px solid #000;} \n",
       ".c3table tr > th {text-align: left; padding: 0 5px;}\n",
       ".c3table tr > td {text-align: left; padding: 5px;}\n",
       ".c3table tr:nth-child(even) {background: #f7f7f7 !important;}\n",
       ".c3table .ellipsis {background: rgba(0, 0, 0, .01);}\n",
       ".c3table .index {background: rgba(161, 195, 209, 0.0); margin: 10px; font-weight: 600;}\n",
       ".c3table .head_cell {background: rgba(161, 195, 209, 0.75); font-weight: bold; text-align: center;}\n",
       ".c3table caption {color: rgb(250, 250, 250); background: rgba(30, 140, 200, 1); padding: 3px; white-space: nowrap; caption-side: top;}\n",
       ".c3table .cell_title {font-weight: bold;}\n",
       ".c3col_left { text-align: left !important; display: block;}\n",
       ".c3col_right { text-align: right !important; display: block;}\n",
       ".c3col_center { text-align: center !important; display: block;}\n",
       "</style>\n",
       "\n",
       "<table>\n",
       "\n",
       "<caption>\n",
       "<span class=\"cell_title\">Edge params</span>\n",
       "</caption>\n",
       "<thead class=\"head_cell\">\n",
       "<th>edge</th><th>parent</th><th>length</th><th>A>C</th><th>A>G</th><th>A>T</th><th>C>A</th><th>C>G</th><th>C>T</th>\n",
       "</thead>\n",
       "<tbody>\n",
       "<tr><td><span class=\"c3col_left\">Galago</span></td><td><span class=\"c3col_left\">root</span></td><td><span class=\"c3col_right\">0.1730</span></td><td><span class=\"c3col_right\">1.0064</span></td><td><span class=\"c3col_right\">3.7858</span></td><td><span class=\"c3col_right\">1.0385</span></td><td><span class=\"c3col_right\">1.7266</span></td><td><span class=\"c3col_right\">2.3267</span></td><td><span class=\"c3col_right\">6.3444</span></td></tr>\n",
       "<tr><td><span class=\"c3col_left\">HowlerMon</span></td><td><span class=\"c3col_left\">root</span></td><td><span class=\"c3col_right\">0.0451</span></td><td><span class=\"c3col_right\">1.0064</span></td><td><span class=\"c3col_right\">3.7858</span></td><td><span class=\"c3col_right\">1.0385</span></td><td><span class=\"c3col_right\">1.7266</span></td><td><span class=\"c3col_right\">2.3267</span></td><td><span class=\"c3col_right\">6.3444</span></td></tr>\n",
       "<tr><td><span class=\"c3col_left\">Rhesus</span></td><td><span class=\"c3col_left\">edge.3</span></td><td><span class=\"c3col_right\">0.0215</span></td><td><span class=\"c3col_right\">1.0064</span></td><td><span class=\"c3col_right\">3.7858</span></td><td><span class=\"c3col_right\">1.0385</span></td><td><span class=\"c3col_right\">1.7266</span></td><td><span class=\"c3col_right\">2.3267</span></td><td><span class=\"c3col_right\">6.3444</span></td></tr>\n",
       "<tr><td><span class=\"c3col_left\">Orangutan</span></td><td><span class=\"c3col_left\">edge.2</span></td><td><span class=\"c3col_right\">0.0077</span></td><td><span class=\"c3col_right\">0.2103</span></td><td><span class=\"c3col_right\">3.5003</span></td><td><span class=\"c3col_right\">0.2093</span></td><td><span class=\"c3col_right\">0.9011</span></td><td><span class=\"c3col_right\">1.3532</span></td><td><span class=\"c3col_right\">4.9557</span></td></tr>\n",
       "<tr><td><span class=\"c3col_left\">Gorilla</span></td><td><span class=\"c3col_left\">edge.1</span></td><td><span class=\"c3col_right\">0.0025</span></td><td><span class=\"c3col_right\">0.2103</span></td><td><span class=\"c3col_right\">3.5003</span></td><td><span class=\"c3col_right\">0.2093</span></td><td><span class=\"c3col_right\">0.9011</span></td><td><span class=\"c3col_right\">1.3532</span></td><td><span class=\"c3col_right\">4.9557</span></td></tr>\n",
       "<tr><td><span class=\"c3col_left\">Human</span></td><td><span class=\"c3col_left\">edge.0</span></td><td><span class=\"c3col_right\">0.0061</span></td><td><span class=\"c3col_right\">0.2103</span></td><td><span class=\"c3col_right\">3.5003</span></td><td><span class=\"c3col_right\">0.2093</span></td><td><span class=\"c3col_right\">0.9011</span></td><td><span class=\"c3col_right\">1.3532</span></td><td><span class=\"c3col_right\">4.9557</span></td></tr>\n",
       "<tr><td><span class=\"c3col_left\">Chimpanzee</span></td><td><span class=\"c3col_left\">edge.0</span></td><td><span class=\"c3col_right\">0.0028</span></td><td><span class=\"c3col_right\">0.2103</span></td><td><span class=\"c3col_right\">3.5003</span></td><td><span class=\"c3col_right\">0.2093</span></td><td><span class=\"c3col_right\">0.9011</span></td><td><span class=\"c3col_right\">1.3532</span></td><td><span class=\"c3col_right\">4.9557</span></td></tr>\n",
       "<tr><td><span class=\"c3col_left\">edge.0</span></td><td><span class=\"c3col_left\">edge.1</span></td><td><span class=\"c3col_right\">0.0000</span></td><td><span class=\"c3col_right\">0.2103</span></td><td><span class=\"c3col_right\">3.5003</span></td><td><span class=\"c3col_right\">0.2093</span></td><td><span class=\"c3col_right\">0.9011</span></td><td><span class=\"c3col_right\">1.3532</span></td><td><span class=\"c3col_right\">4.9557</span></td></tr>\n",
       "<tr><td><span class=\"c3col_left\">edge.1</span></td><td><span class=\"c3col_left\">edge.2</span></td><td><span class=\"c3col_right\">0.0034</span></td><td><span class=\"c3col_right\">0.2103</span></td><td><span class=\"c3col_right\">3.5003</span></td><td><span class=\"c3col_right\">0.2093</span></td><td><span class=\"c3col_right\">0.9011</span></td><td><span class=\"c3col_right\">1.3532</span></td><td><span class=\"c3col_right\">4.9557</span></td></tr>\n",
       "<tr><td><span class=\"c3col_left\">edge.2</span></td><td><span class=\"c3col_left\">edge.3</span></td><td><span class=\"c3col_right\">0.0121</span></td><td><span class=\"c3col_right\">1.0064</span></td><td><span class=\"c3col_right\">3.7858</span></td><td><span class=\"c3col_right\">1.0385</span></td><td><span class=\"c3col_right\">1.7266</span></td><td><span class=\"c3col_right\">2.3267</span></td><td><span class=\"c3col_right\">6.3444</span></td></tr>\n",
       "<tr><td><span class=\"c3col_left\">edge.3</span></td><td><span class=\"c3col_left\">root</span></td><td><span class=\"c3col_right\">0.0076</span></td><td><span class=\"c3col_right\">1.0064</span></td><td><span class=\"c3col_right\">3.7858</span></td><td><span class=\"c3col_right\">1.0385</span></td><td><span class=\"c3col_right\">1.7266</span></td><td><span class=\"c3col_right\">2.3267</span></td><td><span class=\"c3col_right\">6.3444</span></td></tr>\n",
       "</tbody>\n",
       "</table>\n",
       "\n",
       "<table>\n",
       "\n",
       "<caption>\n",
       "<span class=\"cell_title\">continuation</span>\n",
       "</caption>\n",
       "<thead class=\"head_cell\">\n",
       "<th>G>A</th><th>G>C</th><th>G>T</th><th>T>A</th><th>T>C</th>\n",
       "</thead>\n",
       "<tbody>\n",
       "<tr><td><span class=\"c3col_right\">9.0147</span></td><td><span class=\"c3col_right\">1.2463</span></td><td><span class=\"c3col_right\">0.7647</span></td><td><span class=\"c3col_right\">1.4577</span></td><td><span class=\"c3col_right\">3.5710</span></td></tr>\n",
       "<tr><td><span class=\"c3col_right\">9.0147</span></td><td><span class=\"c3col_right\">1.2463</span></td><td><span class=\"c3col_right\">0.7647</span></td><td><span class=\"c3col_right\">1.4577</span></td><td><span class=\"c3col_right\">3.5710</span></td></tr>\n",
       "<tr><td><span class=\"c3col_right\">9.0147</span></td><td><span class=\"c3col_right\">1.2463</span></td><td><span class=\"c3col_right\">0.7647</span></td><td><span class=\"c3col_right\">1.4577</span></td><td><span class=\"c3col_right\">3.5710</span></td></tr>\n",
       "<tr><td><span class=\"c3col_right\">4.6220</span></td><td><span class=\"c3col_right\">1.1147</span></td><td><span class=\"c3col_right\">0.0000</span></td><td><span class=\"c3col_right\">0.3394</span></td><td><span class=\"c3col_right\">2.9907</span></td></tr>\n",
       "<tr><td><span class=\"c3col_right\">4.6220</span></td><td><span class=\"c3col_right\">1.1147</span></td><td><span class=\"c3col_right\">0.0000</span></td><td><span class=\"c3col_right\">0.3394</span></td><td><span class=\"c3col_right\">2.9907</span></td></tr>\n",
       "<tr><td><span class=\"c3col_right\">4.6220</span></td><td><span class=\"c3col_right\">1.1147</span></td><td><span class=\"c3col_right\">0.0000</span></td><td><span class=\"c3col_right\">0.3394</span></td><td><span class=\"c3col_right\">2.9907</span></td></tr>\n",
       "<tr><td><span class=\"c3col_right\">4.6220</span></td><td><span class=\"c3col_right\">1.1147</span></td><td><span class=\"c3col_right\">0.0000</span></td><td><span class=\"c3col_right\">0.3394</span></td><td><span class=\"c3col_right\">2.9907</span></td></tr>\n",
       "<tr><td><span class=\"c3col_right\">4.6220</span></td><td><span class=\"c3col_right\">1.1147</span></td><td><span class=\"c3col_right\">0.0000</span></td><td><span class=\"c3col_right\">0.3394</span></td><td><span class=\"c3col_right\">2.9907</span></td></tr>\n",
       "<tr><td><span class=\"c3col_right\">4.6220</span></td><td><span class=\"c3col_right\">1.1147</span></td><td><span class=\"c3col_right\">0.0000</span></td><td><span class=\"c3col_right\">0.3394</span></td><td><span class=\"c3col_right\">2.9907</span></td></tr>\n",
       "<tr><td><span class=\"c3col_right\">9.0147</span></td><td><span class=\"c3col_right\">1.2463</span></td><td><span class=\"c3col_right\">0.7647</span></td><td><span class=\"c3col_right\">1.4577</span></td><td><span class=\"c3col_right\">3.5710</span></td></tr>\n",
       "<tr><td><span class=\"c3col_right\">9.0147</span></td><td><span class=\"c3col_right\">1.2463</span></td><td><span class=\"c3col_right\">0.7647</span></td><td><span class=\"c3col_right\">1.4577</span></td><td><span class=\"c3col_right\">3.5710</span></td></tr>\n",
       "</tbody>\n",
       "</table>\n",
       "\n",
       "</div>\n",
       "\n",
       "<div class=\"c3table\">\n",
       "\n",
       "<style>\n",
       ".c3table table {margin: 10px 0;}\n",
       ".c3table tr:last-child {border-bottom: 1px solid #000;} \n",
       ".c3table tr > th {text-align: left; padding: 0 5px;}\n",
       ".c3table tr > td {text-align: left; padding: 5px;}\n",
       ".c3table tr:nth-child(even) {background: #f7f7f7 !important;}\n",
       ".c3table .ellipsis {background: rgba(0, 0, 0, .01);}\n",
       ".c3table .index {background: rgba(161, 195, 209, 0.0); margin: 10px; font-weight: 600;}\n",
       ".c3table .head_cell {background: rgba(161, 195, 209, 0.75); font-weight: bold; text-align: center;}\n",
       ".c3table caption {color: rgb(250, 250, 250); background: rgba(30, 140, 200, 1); padding: 3px; white-space: nowrap; caption-side: top;}\n",
       ".c3table .cell_title {font-weight: bold;}\n",
       ".c3col_left { text-align: left !important; display: block;}\n",
       ".c3col_right { text-align: right !important; display: block;}\n",
       ".c3col_center { text-align: center !important; display: block;}\n",
       "</style>\n",
       "\n",
       "<table>\n",
       "\n",
       "<caption>\n",
       "<span class=\"cell_title\">Motif params</span>\n",
       "</caption>\n",
       "<thead class=\"head_cell\">\n",
       "<th>A</th><th>C</th><th>G</th><th>T</th>\n",
       "</thead>\n",
       "<tbody>\n",
       "<tr><td><span class=\"c3col_right\">0.3754</span></td><td><span class=\"c3col_right\">0.1768</span></td><td><span class=\"c3col_right\">0.2080</span></td><td><span class=\"c3col_right\">0.2398</span></td></tr>\n",
       "</tbody>\n",
       "</table>\n",
       "\n",
       "</div>"
      ],
      "text/plain": [
       "GN\n",
       "log-likelihood = -6982.2248\n",
       "number of free parameters = 36\n",
       "======================================================================\n",
       "edge          parent    length       A>C       A>G       A>T       C>A\n",
       "----------------------------------------------------------------------\n",
       "Galago        root      0.1730    1.0064    3.7858    1.0385    1.7266\n",
       "HowlerMon     root      0.0451    1.0064    3.7858    1.0385    1.7266\n",
       "Rhesus        edge.3    0.0215    1.0064    3.7858    1.0385    1.7266\n",
       "Orangutan     edge.2    0.0077    0.2103    3.5003    0.2093    0.9011\n",
       "Gorilla       edge.1    0.0025    0.2103    3.5003    0.2093    0.9011\n",
       "Human         edge.0    0.0061    0.2103    3.5003    0.2093    0.9011\n",
       "Chimpanzee    edge.0    0.0028    0.2103    3.5003    0.2093    0.9011\n",
       "edge.0        edge.1    0.0000    0.2103    3.5003    0.2093    0.9011\n",
       "edge.1        edge.2    0.0034    0.2103    3.5003    0.2093    0.9011\n",
       "edge.2        edge.3    0.0121    1.0064    3.7858    1.0385    1.7266\n",
       "edge.3        root      0.0076    1.0064    3.7858    1.0385    1.7266\n",
       "----------------------------------------------------------------------\n",
       "\n",
       "continued: \n",
       "==================================================================\n",
       "   C>G       C>T       G>A       G>C       G>T       T>A       T>C\n",
       "------------------------------------------------------------------\n",
       "2.3267    6.3444    9.0147    1.2463    0.7647    1.4577    3.5710\n",
       "2.3267    6.3444    9.0147    1.2463    0.7647    1.4577    3.5710\n",
       "2.3267    6.3444    9.0147    1.2463    0.7647    1.4577    3.5710\n",
       "1.3532    4.9557    4.6220    1.1147    0.0000    0.3394    2.9907\n",
       "1.3532    4.9557    4.6220    1.1147    0.0000    0.3394    2.9907\n",
       "1.3532    4.9557    4.6220    1.1147    0.0000    0.3394    2.9907\n",
       "1.3532    4.9557    4.6220    1.1147    0.0000    0.3394    2.9907\n",
       "1.3532    4.9557    4.6220    1.1147    0.0000    0.3394    2.9907\n",
       "1.3532    4.9557    4.6220    1.1147    0.0000    0.3394    2.9907\n",
       "2.3267    6.3444    9.0147    1.2463    0.7647    1.4577    3.5710\n",
       "2.3267    6.3444    9.0147    1.2463    0.7647    1.4577    3.5710\n",
       "------------------------------------------------------------------\n",
       "\n",
       "====================================\n",
       "     A         C         G         T\n",
       "------------------------------------\n",
       "0.3754    0.1768    0.2080    0.2398\n",
       "------------------------------------"
      ]
     },
     "execution_count": 5,
     "metadata": {},
     "output_type": "execute_result"
    }
   ],
   "source": [
    "result.lf"
   ]
  }
 ],
 "metadata": {
  "kernelspec": {
   "display_name": "Python 3",
   "language": "python",
   "name": "python3"
  },
  "language_info": {
   "codemirror_mode": {
    "name": "ipython",
    "version": 3
   },
   "file_extension": ".py",
   "mimetype": "text/x-python",
   "name": "python",
   "nbconvert_exporter": "python",
   "pygments_lexer": "ipython3",
   "version": "3.9.0"
  }
 },
 "nbformat": 4,
 "nbformat_minor": 5
}