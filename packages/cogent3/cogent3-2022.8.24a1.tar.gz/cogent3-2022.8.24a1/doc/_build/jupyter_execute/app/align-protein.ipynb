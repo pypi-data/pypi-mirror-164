{
 "cells": [
  {
   "cell_type": "code",
   "execution_count": 1,
   "id": "middle-nightlife",
   "metadata": {
    "execution": {
     "iopub.execute_input": "2021-09-30T04:24:55.002919Z",
     "iopub.status.busy": "2021-09-30T04:24:55.002144Z",
     "iopub.status.idle": "2021-09-30T04:24:55.286844Z",
     "shell.execute_reply": "2021-09-30T04:24:55.287260Z"
    }
   },
   "outputs": [],
   "source": [
    "import set_working_directory"
   ]
  },
  {
   "cell_type": "code",
   "execution_count": 2,
   "id": "flying-resistance",
   "metadata": {
    "execution": {
     "iopub.execute_input": "2021-09-30T04:24:55.290878Z",
     "iopub.status.busy": "2021-09-30T04:24:55.290308Z",
     "iopub.status.idle": "2021-09-30T04:24:56.039219Z",
     "shell.execute_reply": "2021-09-30T04:24:56.039543Z"
    }
   },
   "outputs": [],
   "source": [
    "from cogent3.app import io, translate\n",
    "\n",
    "reader = io.load_unaligned(format=\"fasta\")\n",
    "to_aa = translate.translate_seqs()\n",
    "process = reader + to_aa\n",
    "seqs = process(\"data/SCA1-cds.fasta\")"
   ]
  },
  {
   "cell_type": "code",
   "execution_count": 3,
   "id": "supreme-secondary",
   "metadata": {
    "execution": {
     "iopub.execute_input": "2021-09-30T04:24:56.042883Z",
     "iopub.status.busy": "2021-09-30T04:24:56.042368Z",
     "iopub.status.idle": "2021-09-30T04:24:56.738344Z",
     "shell.execute_reply": "2021-09-30T04:24:56.737976Z"
    }
   },
   "outputs": [
    {
     "data": {
      "text/html": [
       "<style>\n",
       ".c3align td { border: none !important; text-align: left !important; }\n",
       ".c3align tr:not(.num_row) td span {margin: 0 2px;}\n",
       ".c3align tr:nth-child(even) {background: #f7f7f7;}\n",
       ".c3align .num_row {background-color:rgba(161, 195, 209, 0.5) !important; border-top: solid 1px black; }\n",
       ".c3align .label { font-size: 12pt ; text-align: right !important; color: black !important; padding: 0 4px; display: table-cell !important; font-weight: normal !important; }\n",
       ".c3align .A_protein{font-family: \"Lucida Console\",monospace !important; font-size: 12pt !important; color: #009999; }\n",
       ".c3align .C_protein{font-family: \"Lucida Console\",monospace !important; font-size: 12pt !important; color: orange; }\n",
       ".c3align .D_protein{font-family: \"Lucida Console\",monospace !important; font-size: 12pt !important; color: blue; }\n",
       ".c3align .E_protein{font-family: \"Lucida Console\",monospace !important; font-size: 12pt !important; color: blue; }\n",
       ".c3align .F_protein{font-family: \"Lucida Console\",monospace !important; font-size: 12pt !important; color: #ff6600; }\n",
       ".c3align .G_protein{font-family: \"Lucida Console\",monospace !important; font-size: 12pt !important; color: #009999; }\n",
       ".c3align .H_protein{font-family: \"Lucida Console\",monospace !important; font-size: 12pt !important; color: #FF0102; }\n",
       ".c3align .I_protein{font-family: \"Lucida Console\",monospace !important; font-size: 12pt !important; color: #009999; }\n",
       ".c3align .K_protein{font-family: \"Lucida Console\",monospace !important; font-size: 12pt !important; color: #FF0102; }\n",
       ".c3align .L_protein{font-family: \"Lucida Console\",monospace !important; font-size: 12pt !important; color: #009999; }\n",
       ".c3align .M_protein{font-family: \"Lucida Console\",monospace !important; font-size: 12pt !important; color: orange; }\n",
       ".c3align .N_protein{font-family: \"Lucida Console\",monospace !important; font-size: 12pt !important; color: #993300; }\n",
       ".c3align .P_protein{font-family: \"Lucida Console\",monospace !important; font-size: 12pt !important; color: #cc0099; }\n",
       ".c3align .Q_protein{font-family: \"Lucida Console\",monospace !important; font-size: 12pt !important; color: #993300; }\n",
       ".c3align .R_protein{font-family: \"Lucida Console\",monospace !important; font-size: 12pt !important; color: #FF0102; }\n",
       ".c3align .S_protein{font-family: \"Lucida Console\",monospace !important; font-size: 12pt !important; color: #009900; }\n",
       ".c3align .T_protein{font-family: \"Lucida Console\",monospace !important; font-size: 12pt !important; color: #009900; }\n",
       ".c3align .U_protein{font-family: \"Lucida Console\",monospace !important; font-size: 12pt !important; color: gray; }\n",
       ".c3align .V_protein{font-family: \"Lucida Console\",monospace !important; font-size: 12pt !important; color: #009999; }\n",
       ".c3align .W_protein{font-family: \"Lucida Console\",monospace !important; font-size: 12pt !important; color: #ff6600; }\n",
       ".c3align .Y_protein{font-family: \"Lucida Console\",monospace !important; font-size: 12pt !important; color: #ff6600; }\n",
       ".c3align .terminal_ambig_protein{font-family: \"Lucida Console\",monospace !important; font-size: 12pt !important; color: gray; }\n",
       ".c3align .ambig_protein{font-family: \"Lucida Console\",monospace !important; font-size: 12pt !important; color: gray; }\n",
       "</style>\n",
       "<div class=\"c3align\">\n",
       "<table>\n",
       "<tr class=\"num_row\"><td></td><td><b>0</b></td></tr>\n",
       "<tr><td class=\"label\">Human</td><td><span class=\"M_protein\">M</span><span class=\"K_protein\">K</span><span class=\"S_protein\">S</span><span class=\"N_protein\">N</span><span class=\"Q_protein\">Q</span><span class=\"E_protein\">E</span><span class=\"R_protein\">R</span><span class=\"S_protein\">S</span><span class=\"N_protein\">N</span><span class=\"E_protein\">E</span><span class=\"C_protein\">C</span><span class=\"L_protein\">L</span><span class=\"P_protein\">P</span><span class=\"P_protein\">P</span><span class=\"K_protein\">K</span><span class=\"K_protein\">K</span><span class=\"R_protein\">R</span><span class=\"E_protein\">E</span><span class=\"I_protein\">I</span><span class=\"P_protein\">P</span><span class=\"A_protein\">A</span><span class=\"T_protein\">T</span><span class=\"S_protein\">S</span><span class=\"R_protein\">R</span><span class=\"S_protein\">S</span><span class=\"S_protein\">S</span><span class=\"E_protein\">E</span><span class=\"E_protein\">E</span><span class=\"K_protein\">K</span><span class=\"A_protein\">A</span><span class=\"P_protein\">P</span><span class=\"T_protein\">T</span><span class=\"L_protein\">L</span><span class=\"P_protein\">P</span><span class=\"S_protein\">S</span><span class=\"D_protein\">D</span><span class=\"N_protein\">N</span><span class=\"H_protein\">H</span><span class=\"R_protein\">R</span><span class=\"V_protein\">V</span><span class=\"E_protein\">E</span><span class=\"G_protein\">G</span><span class=\"T_protein\">T</span><span class=\"A_protein\">A</span><span class=\"W_protein\">W</span><span class=\"L_protein\">L</span><span class=\"P_protein\">P</span><span class=\"G_protein\">G</span><span class=\"N_protein\">N</span><span class=\"P_protein\">P</span><span class=\"G_protein\">G</span><span class=\"G_protein\">G</span><span class=\"R_protein\">R</span><span class=\"G_protein\">G</span><span class=\"H_protein\">H</span><span class=\"G_protein\">G</span><span class=\"G_protein\">G</span><span class=\"G_protein\">G</span><span class=\"R_protein\">R</span><span class=\"H_protein\">H</span></td></tr>\n",
       "<tr><td class=\"label\">Macaque</td><td><span class=\"M_protein\">.</span><span class=\"K_protein\">.</span><span class=\"S_protein\">.</span><span class=\"N_protein\">.</span><span class=\"Q_protein\">.</span><span class=\"E_protein\">.</span><span class=\"R_protein\">.</span><span class=\"S_protein\">.</span><span class=\"N_protein\">.</span><span class=\"E_protein\">.</span><span class=\"C_protein\">.</span><span class=\"L_protein\">.</span><span class=\"P_protein\">.</span><span class=\"P_protein\">.</span><span class=\"K_protein\">.</span><span class=\"K_protein\">.</span><span class=\"R_protein\">.</span><span class=\"E_protein\">.</span><span class=\"I_protein\">.</span><span class=\"P_protein\">.</span><span class=\"A_protein\">.</span><span class=\"T_protein\">.</span><span class=\"S_protein\">.</span><span class=\"R_protein\">.</span><span class=\"P_protein\">P</span><span class=\"S_protein\">.</span><span class=\"E_protein\">.</span><span class=\"E_protein\">.</span><span class=\"K_protein\">.</span><span class=\"A_protein\">.</span><span class=\"P_protein\">.</span><span class=\"A_protein\">A</span><span class=\"L_protein\">.</span><span class=\"P_protein\">.</span><span class=\"S_protein\">.</span><span class=\"D_protein\">.</span><span class=\"N_protein\">.</span><span class=\"H_protein\">.</span><span class=\"R_protein\">.</span><span class=\"V_protein\">.</span><span class=\"E_protein\">.</span><span class=\"G_protein\">.</span><span class=\"T_protein\">.</span><span class=\"A_protein\">.</span><span class=\"W_protein\">.</span><span class=\"L_protein\">.</span><span class=\"P_protein\">.</span><span class=\"G_protein\">.</span><span class=\"N_protein\">.</span><span class=\"P_protein\">.</span><span class=\"G_protein\">.</span><span class=\"G_protein\">.</span><span class=\"R_protein\">.</span><span class=\"G_protein\">.</span><span class=\"H_protein\">.</span><span class=\"G_protein\">.</span><span class=\"G_protein\">.</span><span class=\"G_protein\">.</span><span class=\"R_protein\">.</span><span class=\"H_protein\">.</span></td></tr>\n",
       "<tr><td class=\"label\">Chimp</td><td><span class=\"M_protein\">.</span><span class=\"K_protein\">.</span><span class=\"S_protein\">.</span><span class=\"N_protein\">.</span><span class=\"Q_protein\">.</span><span class=\"E_protein\">.</span><span class=\"R_protein\">.</span><span class=\"S_protein\">.</span><span class=\"N_protein\">.</span><span class=\"E_protein\">.</span><span class=\"C_protein\">.</span><span class=\"L_protein\">.</span><span class=\"P_protein\">.</span><span class=\"P_protein\">.</span><span class=\"K_protein\">.</span><span class=\"K_protein\">.</span><span class=\"R_protein\">.</span><span class=\"E_protein\">.</span><span class=\"I_protein\">.</span><span class=\"P_protein\">.</span><span class=\"A_protein\">.</span><span class=\"T_protein\">.</span><span class=\"S_protein\">.</span><span class=\"R_protein\">.</span><span class=\"S_protein\">.</span><span class=\"S_protein\">.</span><span class=\"E_protein\">.</span><span class=\"E_protein\">.</span><span class=\"K_protein\">.</span><span class=\"A_protein\">.</span><span class=\"P_protein\">.</span><span class=\"T_protein\">.</span><span class=\"L_protein\">.</span><span class=\"P_protein\">.</span><span class=\"S_protein\">.</span><span class=\"D_protein\">.</span><span class=\"N_protein\">.</span><span class=\"H_protein\">.</span><span class=\"R_protein\">.</span><span class=\"V_protein\">.</span><span class=\"E_protein\">.</span><span class=\"G_protein\">.</span><span class=\"T_protein\">.</span><span class=\"A_protein\">.</span><span class=\"W_protein\">.</span><span class=\"L_protein\">.</span><span class=\"P_protein\">.</span><span class=\"G_protein\">.</span><span class=\"N_protein\">.</span><span class=\"P_protein\">.</span><span class=\"G_protein\">.</span><span class=\"G_protein\">.</span><span class=\"R_protein\">.</span><span class=\"G_protein\">.</span><span class=\"H_protein\">.</span><span class=\"G_protein\">.</span><span class=\"G_protein\">.</span><span class=\"G_protein\">.</span><span class=\"R_protein\">.</span><span class=\"H_protein\">.</span></td></tr>\n",
       "<tr><td class=\"label\">Rat</td><td><span class=\"M_protein\">.</span><span class=\"K_protein\">.</span><span class=\"S_protein\">.</span><span class=\"N_protein\">.</span><span class=\"Q_protein\">.</span><span class=\"E_protein\">.</span><span class=\"R_protein\">.</span><span class=\"S_protein\">.</span><span class=\"N_protein\">.</span><span class=\"E_protein\">.</span><span class=\"C_protein\">.</span><span class=\"L_protein\">.</span><span class=\"P_protein\">.</span><span class=\"P_protein\">.</span><span class=\"K_protein\">.</span><span class=\"K_protein\">.</span><span class=\"R_protein\">.</span><span class=\"E_protein\">.</span><span class=\"I_protein\">.</span><span class=\"P_protein\">.</span><span class=\"A_protein\">.</span><span class=\"T_protein\">.</span><span class=\"S_protein\">.</span><span class=\"R_protein\">.</span><span class=\"P_protein\">P</span><span class=\"S_protein\">.</span><span class=\"E_protein\">.</span><span class=\"E_protein\">.</span><span class=\"K_protein\">.</span><span class=\"A_protein\">.</span><span class=\"T_protein\">T</span><span class=\"A_protein\">A</span><span class=\"L_protein\">.</span><span class=\"P_protein\">.</span><span class=\"S_protein\">.</span><span class=\"D_protein\">.</span><span class=\"N_protein\">.</span><span class=\"H_protein\">.</span><span class=\"C_protein\">C</span><span class=\"V_protein\">.</span><span class=\"E_protein\">.</span><span class=\"G_protein\">.</span><span class=\"V_protein\">V</span><span class=\"A_protein\">.</span><span class=\"W_protein\">.</span><span class=\"L_protein\">.</span><span class=\"P_protein\">.</span><span class=\"S_protein\">S</span><span class=\"T_protein\">T</span><span class=\"P_protein\">.</span><span class=\"G_protein\">.</span><span class=\"S_protein\">S</span><span class=\"R_protein\">.</span><span class=\"G_protein\">.</span><span class=\"H_protein\">.</span><span class=\"G_protein\">.</span><span class=\"G_protein\">.</span><span class=\"G_protein\">.</span><span class=\"R_protein\">.</span><span class=\"H_protein\">.</span></td></tr>\n",
       "<tr><td class=\"label\">Mouse</td><td><span class=\"M_protein\">.</span><span class=\"K_protein\">.</span><span class=\"S_protein\">.</span><span class=\"N_protein\">.</span><span class=\"Q_protein\">.</span><span class=\"E_protein\">.</span><span class=\"R_protein\">.</span><span class=\"S_protein\">.</span><span class=\"N_protein\">.</span><span class=\"E_protein\">.</span><span class=\"C_protein\">.</span><span class=\"L_protein\">.</span><span class=\"P_protein\">.</span><span class=\"P_protein\">.</span><span class=\"K_protein\">.</span><span class=\"K_protein\">.</span><span class=\"R_protein\">.</span><span class=\"E_protein\">.</span><span class=\"I_protein\">.</span><span class=\"P_protein\">.</span><span class=\"A_protein\">.</span><span class=\"T_protein\">.</span><span class=\"S_protein\">.</span><span class=\"R_protein\">.</span><span class=\"P_protein\">P</span><span class=\"S_protein\">.</span><span class=\"E_protein\">.</span><span class=\"E_protein\">.</span><span class=\"K_protein\">.</span><span class=\"A_protein\">.</span><span class=\"T_protein\">T</span><span class=\"A_protein\">A</span><span class=\"L_protein\">.</span><span class=\"P_protein\">.</span><span class=\"S_protein\">.</span><span class=\"D_protein\">.</span><span class=\"N_protein\">.</span><span class=\"H_protein\">.</span><span class=\"C_protein\">C</span><span class=\"V_protein\">.</span><span class=\"E_protein\">.</span><span class=\"G_protein\">.</span><span class=\"V_protein\">V</span><span class=\"A_protein\">.</span><span class=\"W_protein\">.</span><span class=\"L_protein\">.</span><span class=\"P_protein\">.</span><span class=\"S_protein\">S</span><span class=\"T_protein\">T</span><span class=\"P_protein\">.</span><span class=\"G_protein\">.</span><span class=\"I_protein\">I</span><span class=\"R_protein\">.</span><span class=\"G_protein\">.</span><span class=\"H_protein\">.</span><span class=\"G_protein\">.</span><span class=\"G_protein\">.</span><span class=\"G_protein\">.</span><span class=\"R_protein\">.</span><span class=\"H_protein\">.</span></td></tr>\n",
       "<tr><td class=\"label\">Mouse Lemur</td><td><span class=\"M_protein\">.</span><span class=\"K_protein\">.</span><span class=\"S_protein\">.</span><span class=\"N_protein\">.</span><span class=\"Q_protein\">.</span><span class=\"E_protein\">.</span><span class=\"R_protein\">.</span><span class=\"S_protein\">.</span><span class=\"N_protein\">.</span><span class=\"E_protein\">.</span><span class=\"C_protein\">.</span><span class=\"L_protein\">.</span><span class=\"P_protein\">.</span><span class=\"P_protein\">.</span><span class=\"K_protein\">.</span><span class=\"K_protein\">.</span><span class=\"R_protein\">.</span><span class=\"E_protein\">.</span><span class=\"I_protein\">.</span><span class=\"P_protein\">.</span><span class=\"A_protein\">.</span><span class=\"T_protein\">.</span><span class=\"S_protein\">.</span><span class=\"R_protein\">.</span><span class=\"S_protein\">.</span><span class=\"S_protein\">.</span><span class=\"E_protein\">.</span><span class=\"E_protein\">.</span><span class=\"K_protein\">.</span><span class=\"A_protein\">.</span><span class=\"P_protein\">.</span><span class=\"A_protein\">A</span><span class=\"L_protein\">.</span><span class=\"P_protein\">.</span><span class=\"S_protein\">.</span><span class=\"D_protein\">.</span><span class=\"N_protein\">.</span><span class=\"H_protein\">.</span><span class=\"R_protein\">.</span><span class=\"A_protein\">A</span><span class=\"E_protein\">.</span><span class=\"G_protein\">.</span><span class=\"A_protein\">A</span><span class=\"P_protein\">P</span><span class=\"W_protein\">.</span><span class=\"L_protein\">.</span><span class=\"P_protein\">.</span><span class=\"G_protein\">.</span><span class=\"N_protein\">.</span><span class=\"P_protein\">.</span><span class=\"G_protein\">.</span><span class=\"G_protein\">.</span><span class=\"R_protein\">.</span><span class=\"G_protein\">.</span><span class=\"H_protein\">.</span><span class=\"G_protein\">.</span><span class=\"G_protein\">.</span><span class=\"G_protein\">.</span><span class=\"R_protein\">.</span><span class=\"H_protein\">.</span></td></tr>\n",
       "</table>\n",
       "<p><i>6 x 825 (truncated to 6 x 60) protein alignment</i></p>\n",
       "</div>"
      ],
      "text/plain": [
       "6 x 825 protein alignment: Macaque[MKSNQERSNEC...], Human[MKSNQERSNEC...], Chimp[MKSNQERSNEC...], ..."
      ]
     },
     "execution_count": 3,
     "metadata": {},
     "output_type": "execute_result"
    }
   ],
   "source": [
    "from cogent3.app.align import progressive_align\n",
    "\n",
    "aa_aligner = progressive_align(\"protein\")\n",
    "aligned = aa_aligner(seqs)\n",
    "aligned"
   ]
  },
  {
   "cell_type": "code",
   "execution_count": 4,
   "id": "following-speed",
   "metadata": {
    "execution": {
     "iopub.execute_input": "2021-09-30T04:24:56.741719Z",
     "iopub.status.busy": "2021-09-30T04:24:56.740636Z",
     "iopub.status.idle": "2021-09-30T04:24:57.371160Z",
     "shell.execute_reply": "2021-09-30T04:24:57.371491Z"
    }
   },
   "outputs": [
    {
     "data": {
      "text/html": [
       "<style>\n",
       ".c3align td { border: none !important; text-align: left !important; }\n",
       ".c3align tr:not(.num_row) td span {margin: 0 2px;}\n",
       ".c3align tr:nth-child(even) {background: #f7f7f7;}\n",
       ".c3align .num_row {background-color:rgba(161, 195, 209, 0.5) !important; border-top: solid 1px black; }\n",
       ".c3align .label { font-size: 12pt ; text-align: right !important; color: black !important; padding: 0 4px; display: table-cell !important; font-weight: normal !important; }\n",
       ".c3align .A_protein{font-family: \"Lucida Console\",monospace !important; font-size: 12pt !important; color: #009999; }\n",
       ".c3align .C_protein{font-family: \"Lucida Console\",monospace !important; font-size: 12pt !important; color: orange; }\n",
       ".c3align .D_protein{font-family: \"Lucida Console\",monospace !important; font-size: 12pt !important; color: blue; }\n",
       ".c3align .E_protein{font-family: \"Lucida Console\",monospace !important; font-size: 12pt !important; color: blue; }\n",
       ".c3align .F_protein{font-family: \"Lucida Console\",monospace !important; font-size: 12pt !important; color: #ff6600; }\n",
       ".c3align .G_protein{font-family: \"Lucida Console\",monospace !important; font-size: 12pt !important; color: #009999; }\n",
       ".c3align .H_protein{font-family: \"Lucida Console\",monospace !important; font-size: 12pt !important; color: #FF0102; }\n",
       ".c3align .I_protein{font-family: \"Lucida Console\",monospace !important; font-size: 12pt !important; color: #009999; }\n",
       ".c3align .K_protein{font-family: \"Lucida Console\",monospace !important; font-size: 12pt !important; color: #FF0102; }\n",
       ".c3align .L_protein{font-family: \"Lucida Console\",monospace !important; font-size: 12pt !important; color: #009999; }\n",
       ".c3align .M_protein{font-family: \"Lucida Console\",monospace !important; font-size: 12pt !important; color: orange; }\n",
       ".c3align .N_protein{font-family: \"Lucida Console\",monospace !important; font-size: 12pt !important; color: #993300; }\n",
       ".c3align .P_protein{font-family: \"Lucida Console\",monospace !important; font-size: 12pt !important; color: #cc0099; }\n",
       ".c3align .Q_protein{font-family: \"Lucida Console\",monospace !important; font-size: 12pt !important; color: #993300; }\n",
       ".c3align .R_protein{font-family: \"Lucida Console\",monospace !important; font-size: 12pt !important; color: #FF0102; }\n",
       ".c3align .S_protein{font-family: \"Lucida Console\",monospace !important; font-size: 12pt !important; color: #009900; }\n",
       ".c3align .T_protein{font-family: \"Lucida Console\",monospace !important; font-size: 12pt !important; color: #009900; }\n",
       ".c3align .U_protein{font-family: \"Lucida Console\",monospace !important; font-size: 12pt !important; color: gray; }\n",
       ".c3align .V_protein{font-family: \"Lucida Console\",monospace !important; font-size: 12pt !important; color: #009999; }\n",
       ".c3align .W_protein{font-family: \"Lucida Console\",monospace !important; font-size: 12pt !important; color: #ff6600; }\n",
       ".c3align .Y_protein{font-family: \"Lucida Console\",monospace !important; font-size: 12pt !important; color: #ff6600; }\n",
       ".c3align .terminal_ambig_protein{font-family: \"Lucida Console\",monospace !important; font-size: 12pt !important; color: gray; }\n",
       ".c3align .ambig_protein{font-family: \"Lucida Console\",monospace !important; font-size: 12pt !important; color: gray; }\n",
       "</style>\n",
       "<div class=\"c3align\">\n",
       "<table>\n",
       "<tr class=\"num_row\"><td></td><td><b>0</b></td></tr>\n",
       "<tr><td class=\"label\">Human</td><td><span class=\"M_protein\">M</span><span class=\"K_protein\">K</span><span class=\"S_protein\">S</span><span class=\"N_protein\">N</span><span class=\"Q_protein\">Q</span><span class=\"E_protein\">E</span><span class=\"R_protein\">R</span><span class=\"S_protein\">S</span><span class=\"N_protein\">N</span><span class=\"E_protein\">E</span><span class=\"C_protein\">C</span><span class=\"L_protein\">L</span><span class=\"P_protein\">P</span><span class=\"P_protein\">P</span><span class=\"K_protein\">K</span><span class=\"K_protein\">K</span><span class=\"R_protein\">R</span><span class=\"E_protein\">E</span><span class=\"I_protein\">I</span><span class=\"P_protein\">P</span><span class=\"A_protein\">A</span><span class=\"T_protein\">T</span><span class=\"S_protein\">S</span><span class=\"R_protein\">R</span><span class=\"S_protein\">S</span><span class=\"S_protein\">S</span><span class=\"E_protein\">E</span><span class=\"E_protein\">E</span><span class=\"K_protein\">K</span><span class=\"A_protein\">A</span><span class=\"P_protein\">P</span><span class=\"T_protein\">T</span><span class=\"L_protein\">L</span><span class=\"P_protein\">P</span><span class=\"S_protein\">S</span><span class=\"D_protein\">D</span><span class=\"N_protein\">N</span><span class=\"H_protein\">H</span><span class=\"R_protein\">R</span><span class=\"V_protein\">V</span><span class=\"E_protein\">E</span><span class=\"G_protein\">G</span><span class=\"T_protein\">T</span><span class=\"A_protein\">A</span><span class=\"W_protein\">W</span><span class=\"L_protein\">L</span><span class=\"P_protein\">P</span><span class=\"G_protein\">G</span><span class=\"N_protein\">N</span><span class=\"P_protein\">P</span><span class=\"G_protein\">G</span><span class=\"G_protein\">G</span><span class=\"R_protein\">R</span><span class=\"G_protein\">G</span><span class=\"H_protein\">H</span><span class=\"G_protein\">G</span><span class=\"G_protein\">G</span><span class=\"G_protein\">G</span><span class=\"R_protein\">R</span><span class=\"H_protein\">H</span></td></tr>\n",
       "<tr><td class=\"label\">Mouse</td><td><span class=\"M_protein\">.</span><span class=\"K_protein\">.</span><span class=\"S_protein\">.</span><span class=\"N_protein\">.</span><span class=\"Q_protein\">.</span><span class=\"E_protein\">.</span><span class=\"R_protein\">.</span><span class=\"S_protein\">.</span><span class=\"N_protein\">.</span><span class=\"E_protein\">.</span><span class=\"C_protein\">.</span><span class=\"L_protein\">.</span><span class=\"P_protein\">.</span><span class=\"P_protein\">.</span><span class=\"K_protein\">.</span><span class=\"K_protein\">.</span><span class=\"R_protein\">.</span><span class=\"E_protein\">.</span><span class=\"I_protein\">.</span><span class=\"P_protein\">.</span><span class=\"A_protein\">.</span><span class=\"T_protein\">.</span><span class=\"S_protein\">.</span><span class=\"R_protein\">.</span><span class=\"P_protein\">P</span><span class=\"S_protein\">.</span><span class=\"E_protein\">.</span><span class=\"E_protein\">.</span><span class=\"K_protein\">.</span><span class=\"A_protein\">.</span><span class=\"T_protein\">T</span><span class=\"A_protein\">A</span><span class=\"L_protein\">.</span><span class=\"P_protein\">.</span><span class=\"S_protein\">.</span><span class=\"D_protein\">.</span><span class=\"N_protein\">.</span><span class=\"H_protein\">.</span><span class=\"C_protein\">C</span><span class=\"V_protein\">.</span><span class=\"E_protein\">.</span><span class=\"G_protein\">.</span><span class=\"V_protein\">V</span><span class=\"A_protein\">.</span><span class=\"W_protein\">.</span><span class=\"L_protein\">.</span><span class=\"P_protein\">.</span><span class=\"S_protein\">S</span><span class=\"T_protein\">T</span><span class=\"P_protein\">.</span><span class=\"G_protein\">.</span><span class=\"I_protein\">I</span><span class=\"R_protein\">.</span><span class=\"G_protein\">.</span><span class=\"H_protein\">.</span><span class=\"G_protein\">.</span><span class=\"G_protein\">.</span><span class=\"G_protein\">.</span><span class=\"R_protein\">.</span><span class=\"H_protein\">.</span></td></tr>\n",
       "<tr><td class=\"label\">Rat</td><td><span class=\"M_protein\">.</span><span class=\"K_protein\">.</span><span class=\"S_protein\">.</span><span class=\"N_protein\">.</span><span class=\"Q_protein\">.</span><span class=\"E_protein\">.</span><span class=\"R_protein\">.</span><span class=\"S_protein\">.</span><span class=\"N_protein\">.</span><span class=\"E_protein\">.</span><span class=\"C_protein\">.</span><span class=\"L_protein\">.</span><span class=\"P_protein\">.</span><span class=\"P_protein\">.</span><span class=\"K_protein\">.</span><span class=\"K_protein\">.</span><span class=\"R_protein\">.</span><span class=\"E_protein\">.</span><span class=\"I_protein\">.</span><span class=\"P_protein\">.</span><span class=\"A_protein\">.</span><span class=\"T_protein\">.</span><span class=\"S_protein\">.</span><span class=\"R_protein\">.</span><span class=\"P_protein\">P</span><span class=\"S_protein\">.</span><span class=\"E_protein\">.</span><span class=\"E_protein\">.</span><span class=\"K_protein\">.</span><span class=\"A_protein\">.</span><span class=\"T_protein\">T</span><span class=\"A_protein\">A</span><span class=\"L_protein\">.</span><span class=\"P_protein\">.</span><span class=\"S_protein\">.</span><span class=\"D_protein\">.</span><span class=\"N_protein\">.</span><span class=\"H_protein\">.</span><span class=\"C_protein\">C</span><span class=\"V_protein\">.</span><span class=\"E_protein\">.</span><span class=\"G_protein\">.</span><span class=\"V_protein\">V</span><span class=\"A_protein\">.</span><span class=\"W_protein\">.</span><span class=\"L_protein\">.</span><span class=\"P_protein\">.</span><span class=\"S_protein\">S</span><span class=\"T_protein\">T</span><span class=\"P_protein\">.</span><span class=\"G_protein\">.</span><span class=\"S_protein\">S</span><span class=\"R_protein\">.</span><span class=\"G_protein\">.</span><span class=\"H_protein\">.</span><span class=\"G_protein\">.</span><span class=\"G_protein\">.</span><span class=\"G_protein\">.</span><span class=\"R_protein\">.</span><span class=\"H_protein\">.</span></td></tr>\n",
       "<tr><td class=\"label\">Mouse Lemur</td><td><span class=\"M_protein\">.</span><span class=\"K_protein\">.</span><span class=\"S_protein\">.</span><span class=\"N_protein\">.</span><span class=\"Q_protein\">.</span><span class=\"E_protein\">.</span><span class=\"R_protein\">.</span><span class=\"S_protein\">.</span><span class=\"N_protein\">.</span><span class=\"E_protein\">.</span><span class=\"C_protein\">.</span><span class=\"L_protein\">.</span><span class=\"P_protein\">.</span><span class=\"P_protein\">.</span><span class=\"K_protein\">.</span><span class=\"K_protein\">.</span><span class=\"R_protein\">.</span><span class=\"E_protein\">.</span><span class=\"I_protein\">.</span><span class=\"P_protein\">.</span><span class=\"A_protein\">.</span><span class=\"T_protein\">.</span><span class=\"S_protein\">.</span><span class=\"R_protein\">.</span><span class=\"S_protein\">.</span><span class=\"S_protein\">.</span><span class=\"E_protein\">.</span><span class=\"E_protein\">.</span><span class=\"K_protein\">.</span><span class=\"A_protein\">.</span><span class=\"P_protein\">.</span><span class=\"A_protein\">A</span><span class=\"L_protein\">.</span><span class=\"P_protein\">.</span><span class=\"S_protein\">.</span><span class=\"D_protein\">.</span><span class=\"N_protein\">.</span><span class=\"H_protein\">.</span><span class=\"R_protein\">.</span><span class=\"A_protein\">A</span><span class=\"E_protein\">.</span><span class=\"G_protein\">.</span><span class=\"A_protein\">A</span><span class=\"P_protein\">P</span><span class=\"W_protein\">.</span><span class=\"L_protein\">.</span><span class=\"P_protein\">.</span><span class=\"G_protein\">.</span><span class=\"N_protein\">.</span><span class=\"P_protein\">.</span><span class=\"G_protein\">.</span><span class=\"G_protein\">.</span><span class=\"R_protein\">.</span><span class=\"G_protein\">.</span><span class=\"H_protein\">.</span><span class=\"G_protein\">.</span><span class=\"G_protein\">.</span><span class=\"G_protein\">.</span><span class=\"R_protein\">.</span><span class=\"H_protein\">.</span></td></tr>\n",
       "<tr><td class=\"label\">Macaque</td><td><span class=\"M_protein\">.</span><span class=\"K_protein\">.</span><span class=\"S_protein\">.</span><span class=\"N_protein\">.</span><span class=\"Q_protein\">.</span><span class=\"E_protein\">.</span><span class=\"R_protein\">.</span><span class=\"S_protein\">.</span><span class=\"N_protein\">.</span><span class=\"E_protein\">.</span><span class=\"C_protein\">.</span><span class=\"L_protein\">.</span><span class=\"P_protein\">.</span><span class=\"P_protein\">.</span><span class=\"K_protein\">.</span><span class=\"K_protein\">.</span><span class=\"R_protein\">.</span><span class=\"E_protein\">.</span><span class=\"I_protein\">.</span><span class=\"P_protein\">.</span><span class=\"A_protein\">.</span><span class=\"T_protein\">.</span><span class=\"S_protein\">.</span><span class=\"R_protein\">.</span><span class=\"P_protein\">P</span><span class=\"S_protein\">.</span><span class=\"E_protein\">.</span><span class=\"E_protein\">.</span><span class=\"K_protein\">.</span><span class=\"A_protein\">.</span><span class=\"P_protein\">.</span><span class=\"A_protein\">A</span><span class=\"L_protein\">.</span><span class=\"P_protein\">.</span><span class=\"S_protein\">.</span><span class=\"D_protein\">.</span><span class=\"N_protein\">.</span><span class=\"H_protein\">.</span><span class=\"R_protein\">.</span><span class=\"V_protein\">.</span><span class=\"E_protein\">.</span><span class=\"G_protein\">.</span><span class=\"T_protein\">.</span><span class=\"A_protein\">.</span><span class=\"W_protein\">.</span><span class=\"L_protein\">.</span><span class=\"P_protein\">.</span><span class=\"G_protein\">.</span><span class=\"N_protein\">.</span><span class=\"P_protein\">.</span><span class=\"G_protein\">.</span><span class=\"G_protein\">.</span><span class=\"R_protein\">.</span><span class=\"G_protein\">.</span><span class=\"H_protein\">.</span><span class=\"G_protein\">.</span><span class=\"G_protein\">.</span><span class=\"G_protein\">.</span><span class=\"R_protein\">.</span><span class=\"H_protein\">.</span></td></tr>\n",
       "<tr><td class=\"label\">Chimp</td><td><span class=\"M_protein\">.</span><span class=\"K_protein\">.</span><span class=\"S_protein\">.</span><span class=\"N_protein\">.</span><span class=\"Q_protein\">.</span><span class=\"E_protein\">.</span><span class=\"R_protein\">.</span><span class=\"S_protein\">.</span><span class=\"N_protein\">.</span><span class=\"E_protein\">.</span><span class=\"C_protein\">.</span><span class=\"L_protein\">.</span><span class=\"P_protein\">.</span><span class=\"P_protein\">.</span><span class=\"K_protein\">.</span><span class=\"K_protein\">.</span><span class=\"R_protein\">.</span><span class=\"E_protein\">.</span><span class=\"I_protein\">.</span><span class=\"P_protein\">.</span><span class=\"A_protein\">.</span><span class=\"T_protein\">.</span><span class=\"S_protein\">.</span><span class=\"R_protein\">.</span><span class=\"S_protein\">.</span><span class=\"S_protein\">.</span><span class=\"E_protein\">.</span><span class=\"E_protein\">.</span><span class=\"K_protein\">.</span><span class=\"A_protein\">.</span><span class=\"P_protein\">.</span><span class=\"T_protein\">.</span><span class=\"L_protein\">.</span><span class=\"P_protein\">.</span><span class=\"S_protein\">.</span><span class=\"D_protein\">.</span><span class=\"N_protein\">.</span><span class=\"H_protein\">.</span><span class=\"R_protein\">.</span><span class=\"V_protein\">.</span><span class=\"E_protein\">.</span><span class=\"G_protein\">.</span><span class=\"T_protein\">.</span><span class=\"A_protein\">.</span><span class=\"W_protein\">.</span><span class=\"L_protein\">.</span><span class=\"P_protein\">.</span><span class=\"G_protein\">.</span><span class=\"N_protein\">.</span><span class=\"P_protein\">.</span><span class=\"G_protein\">.</span><span class=\"G_protein\">.</span><span class=\"R_protein\">.</span><span class=\"G_protein\">.</span><span class=\"H_protein\">.</span><span class=\"G_protein\">.</span><span class=\"G_protein\">.</span><span class=\"G_protein\">.</span><span class=\"R_protein\">.</span><span class=\"H_protein\">.</span></td></tr>\n",
       "</table>\n",
       "<p><i>6 x 825 (truncated to 6 x 60) protein alignment</i></p>\n",
       "</div>"
      ],
      "text/plain": [
       "6 x 825 protein alignment: Mouse[MKSNQERSNEC...], Rat[MKSNQERSNEC...], Mouse Lemur[MKSNQERSNEC...], ..."
      ]
     },
     "execution_count": 4,
     "metadata": {},
     "output_type": "execute_result"
    }
   ],
   "source": [
    "aa_aligner = progressive_align(\"protein\", distance=\"paralinear\")\n",
    "aligned = aa_aligner(seqs)\n",
    "aligned"
   ]
  },
  {
   "cell_type": "code",
   "execution_count": 5,
   "id": "activated-poland",
   "metadata": {
    "execution": {
     "iopub.execute_input": "2021-09-30T04:24:57.374836Z",
     "iopub.status.busy": "2021-09-30T04:24:57.374187Z",
     "iopub.status.idle": "2021-09-30T04:24:57.376538Z",
     "shell.execute_reply": "2021-09-30T04:24:57.377000Z"
    }
   },
   "outputs": [
    {
     "data": {
      "text/plain": [
       "{'Refs': {},\n",
       " 'source': 'data/SCA1-cds.fasta',\n",
       " 'align_params': {'indel_length': 0.1,\n",
       "  'indel_rate': 1e-10,\n",
       "  'guide_tree': '(((Mouse:0.011219581285708921,Rat:0.004763355238688913):0.052856143725369786,Mouse_Lemur:0.03580862702845759):0.024351474041303396,Macaque:0.0023127545121458606,(Human:0.00019740149152159842,Chimp:0.008168683695808834):0.0030743103943117536);',\n",
       "  'model': 'JTT92',\n",
       "  'lnL': -3208.522660753258}}"
      ]
     },
     "execution_count": 5,
     "metadata": {},
     "output_type": "execute_result"
    }
   ],
   "source": [
    "aligned.info"
   ]
  }
 ],
 "metadata": {
  "kernelspec": {
   "display_name": "Python 3",
   "language": "python",
   "name": "python3"
  },
  "language_info": {
   "codemirror_mode": {
    "name": "ipython",
    "version": 3
   },
   "file_extension": ".py",
   "mimetype": "text/x-python",
   "name": "python",
   "nbconvert_exporter": "python",
   "pygments_lexer": "ipython3",
   "version": "3.9.0"
  }
 },
 "nbformat": 4,
 "nbformat_minor": 5
}