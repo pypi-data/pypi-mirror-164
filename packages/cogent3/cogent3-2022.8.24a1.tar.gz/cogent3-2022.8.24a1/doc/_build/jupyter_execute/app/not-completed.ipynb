{
 "cells": [
  {
   "cell_type": "code",
   "execution_count": 1,
   "id": "tender-lawrence",
   "metadata": {
    "execution": {
     "iopub.execute_input": "2021-09-30T04:30:54.411391Z",
     "iopub.status.busy": "2021-09-30T04:30:54.410783Z",
     "iopub.status.idle": "2021-09-30T04:30:54.684480Z",
     "shell.execute_reply": "2021-09-30T04:30:54.684838Z"
    }
   },
   "outputs": [],
   "source": [
    "import set_working_directory"
   ]
  },
  {
   "cell_type": "code",
   "execution_count": 2,
   "id": "convertible-bhutan",
   "metadata": {
    "execution": {
     "iopub.execute_input": "2021-09-30T04:30:54.688176Z",
     "iopub.status.busy": "2021-09-30T04:30:54.687688Z",
     "iopub.status.idle": "2021-09-30T04:30:55.415741Z",
     "shell.execute_reply": "2021-09-30T04:30:55.415365Z"
    }
   },
   "outputs": [
    {
     "data": {
      "text/plain": [
       "NotCompleted(type=FALSE, origin=take_named_seqs, source=\"data/primate_brca1.fasta\", message=\"named seq(s) {'Mouse'} not in ['Chimpanzee', 'Galago', 'Gorilla', 'HowlerMon', 'Human', 'Orangutan', 'Rhesus']\")"
      ]
     },
     "execution_count": 2,
     "metadata": {},
     "output_type": "execute_result"
    }
   ],
   "source": [
    "from cogent3.app import io, sample\n",
    "\n",
    "reader = io.load_aligned(format=\"fasta\")\n",
    "select_seqs = sample.take_named_seqs(\"Mouse\", \"Human\")\n",
    "aln = reader(\"data/primate_brca1.fasta\")\n",
    "result = select_seqs(aln)\n",
    "result"
   ]
  },
  {
   "cell_type": "code",
   "execution_count": 3,
   "id": "recognized-narrative",
   "metadata": {
    "execution": {
     "iopub.execute_input": "2021-09-30T04:30:55.418831Z",
     "iopub.status.busy": "2021-09-30T04:30:55.418209Z",
     "iopub.status.idle": "2021-09-30T04:30:55.420452Z",
     "shell.execute_reply": "2021-09-30T04:30:55.420799Z"
    }
   },
   "outputs": [
    {
     "data": {
      "text/plain": [
       "\"named seq(s) {'Mouse'} not in ['Chimpanzee', 'Galago', 'Gorilla', 'HowlerMon', 'Human', 'Orangutan', 'Rhesus']\""
      ]
     },
     "execution_count": 3,
     "metadata": {},
     "output_type": "execute_result"
    }
   ],
   "source": [
    "result == False\n",
    "result.type\n",
    "result.message"
   ]
  },
  {
   "cell_type": "code",
   "execution_count": 4,
   "id": "presidential-uncertainty",
   "metadata": {
    "execution": {
     "iopub.execute_input": "2021-09-30T04:30:55.423483Z",
     "iopub.status.busy": "2021-09-30T04:30:55.422934Z",
     "iopub.status.idle": "2021-09-30T04:30:55.425985Z",
     "shell.execute_reply": "2021-09-30T04:30:55.426394Z"
    }
   },
   "outputs": [
    {
     "data": {
      "text/plain": [
       "NotCompleted(type=ERROR, origin=load_aligned, source=\"primate_brca1.fasta\", message=\"Traceback (most recent call last):\n",
       "  File \"/Users/gavin/repos/Cogent3/src/cogent3/app/composable.py\", line 306, in _trapped_call\n",
       "    val = func(val, *args, **kwargs)\n",
       "  File \"/Users/gavin/repos/Cogent3/src/cogent3/app/io.py\", line 136, in load\n",
       "    path = SingleReadDataStore(path)[0]\n",
       "  File \"/Users/gavin/repos/Cogent3/src/cogent3/app/data_store.py\", line 346, in __init__\n",
       "    assert path.exists() and path.is_file()\n",
       "AssertionError\n",
       "\")"
      ]
     },
     "execution_count": 4,
     "metadata": {},
     "output_type": "execute_result"
    }
   ],
   "source": [
    "result = reader(\"primate_brca1.fasta\")\n",
    "result"
   ]
  },
  {
   "cell_type": "code",
   "execution_count": 5,
   "id": "retained-cornell",
   "metadata": {
    "execution": {
     "iopub.execute_input": "2021-09-30T04:30:55.429133Z",
     "iopub.status.busy": "2021-09-30T04:30:55.428604Z",
     "iopub.status.idle": "2021-09-30T04:30:55.434142Z",
     "shell.execute_reply": "2021-09-30T04:30:55.434554Z"
    }
   },
   "outputs": [
    {
     "data": {
      "text/plain": [
       "NotCompleted(type=FALSE, origin=take_named_seqs, source=\"data/primate_brca1.fasta\", message=\"named seq(s) {'Mouse'} not in ['Chimpanzee', 'Galago', 'Gorilla', 'HowlerMon', 'Human', 'Orangutan', 'Rhesus']\")"
      ]
     },
     "execution_count": 5,
     "metadata": {},
     "output_type": "execute_result"
    }
   ],
   "source": [
    "process = reader + select_seqs\n",
    "result = process(\"data/primate_brca1.fasta\")\n",
    "result"
   ]
  },
  {
   "cell_type": "code",
   "execution_count": 6,
   "id": "prescription-inventory",
   "metadata": {
    "execution": {
     "iopub.execute_input": "2021-09-30T04:30:55.437758Z",
     "iopub.status.busy": "2021-09-30T04:30:55.436950Z",
     "iopub.status.idle": "2021-09-30T04:30:55.440306Z",
     "shell.execute_reply": "2021-09-30T04:30:55.440651Z"
    }
   },
   "outputs": [
    {
     "data": {
      "text/plain": [
       "NotCompleted(type=ERROR, origin=load_aligned, source=\"primate_brca1.fasta\", message=\"Traceback (most recent call last):\n",
       "  File \"/Users/gavin/repos/Cogent3/src/cogent3/app/composable.py\", line 306, in _trapped_call\n",
       "    val = func(val, *args, **kwargs)\n",
       "  File \"/Users/gavin/repos/Cogent3/src/cogent3/app/io.py\", line 136, in load\n",
       "    path = SingleReadDataStore(path)[0]\n",
       "  File \"/Users/gavin/repos/Cogent3/src/cogent3/app/data_store.py\", line 346, in __init__\n",
       "    assert path.exists() and path.is_file()\n",
       "AssertionError\n",
       "\")"
      ]
     },
     "execution_count": 6,
     "metadata": {},
     "output_type": "execute_result"
    }
   ],
   "source": [
    "result = process(\"primate_brca1.fasta\")\n",
    "result"
   ]
  }
 ],
 "metadata": {
  "kernelspec": {
   "display_name": "Python 3",
   "language": "python",
   "name": "python3"
  },
  "language_info": {
   "codemirror_mode": {
    "name": "ipython",
    "version": 3
   },
   "file_extension": ".py",
   "mimetype": "text/x-python",
   "name": "python",
   "nbconvert_exporter": "python",
   "pygments_lexer": "ipython3",
   "version": "3.9.0"
  }
 },
 "nbformat": 4,
 "nbformat_minor": 5
}