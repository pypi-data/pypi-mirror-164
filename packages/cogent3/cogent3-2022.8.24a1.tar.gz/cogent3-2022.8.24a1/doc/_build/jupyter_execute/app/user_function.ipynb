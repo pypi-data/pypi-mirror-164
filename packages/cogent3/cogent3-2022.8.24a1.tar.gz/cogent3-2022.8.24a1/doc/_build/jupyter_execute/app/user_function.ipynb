{
 "cells": [
  {
   "cell_type": "code",
   "execution_count": 1,
   "id": "sharp-significance",
   "metadata": {
    "execution": {
     "iopub.execute_input": "2021-09-30T04:30:58.618361Z",
     "iopub.status.busy": "2021-09-30T04:30:58.617691Z",
     "iopub.status.idle": "2021-09-30T04:30:59.234355Z",
     "shell.execute_reply": "2021-09-30T04:30:59.234748Z"
    }
   },
   "outputs": [],
   "source": [
    "from cogent3.app.composable import ALIGNED_TYPE, appify\n",
    "\n",
    "@appify(ALIGNED_TYPE, ALIGNED_TYPE, data_types=\"Alignment\")\n",
    "def up_to(val, index=4):\n",
    "    return val[:index]"
   ]
  },
  {
   "cell_type": "code",
   "execution_count": 2,
   "id": "willing-fight",
   "metadata": {
    "execution": {
     "iopub.execute_input": "2021-09-30T04:30:59.242654Z",
     "iopub.status.busy": "2021-09-30T04:30:59.242074Z",
     "iopub.status.idle": "2021-09-30T04:30:59.244359Z",
     "shell.execute_reply": "2021-09-30T04:30:59.244805Z"
    }
   },
   "outputs": [
    {
     "data": {
      "text/plain": [
       "<bound method appify._make_app of <cogent3.app.composable.appify object at 0x7fafa831cbb0>>"
      ]
     },
     "execution_count": 2,
     "metadata": {},
     "output_type": "execute_result"
    }
   ],
   "source": [
    "up_to"
   ]
  },
  {
   "cell_type": "code",
   "execution_count": 3,
   "id": "ceramic-promise",
   "metadata": {
    "execution": {
     "iopub.execute_input": "2021-09-30T04:30:59.248075Z",
     "iopub.status.busy": "2021-09-30T04:30:59.247505Z",
     "iopub.status.idle": "2021-09-30T04:30:59.249654Z",
     "shell.execute_reply": "2021-09-30T04:30:59.250071Z"
    }
   },
   "outputs": [
    {
     "data": {
      "text/plain": [
       "user_function(name='up_to', module='__main__')"
      ]
     },
     "execution_count": 3,
     "metadata": {},
     "output_type": "execute_result"
    }
   ],
   "source": [
    "first4 = up_to(index=4)\n",
    "first4"
   ]
  },
  {
   "cell_type": "code",
   "execution_count": 4,
   "id": "optimum-clark",
   "metadata": {
    "execution": {
     "iopub.execute_input": "2021-09-30T04:30:59.255827Z",
     "iopub.status.busy": "2021-09-30T04:30:59.255255Z",
     "iopub.status.idle": "2021-09-30T04:30:59.257408Z",
     "shell.execute_reply": "2021-09-30T04:30:59.257782Z"
    }
   },
   "outputs": [
    {
     "data": {
      "text/html": [
       "<style>\n",
       ".c3align td { border: none !important; text-align: left !important; }\n",
       ".c3align tr:not(.num_row) td span {margin: 0 2px;}\n",
       ".c3align tr:nth-child(even) {background: #f7f7f7;}\n",
       ".c3align .num_row {background-color:rgba(161, 195, 209, 0.5) !important; border-top: solid 1px black; }\n",
       ".c3align .label { font-size: 12pt ; text-align: right !important; color: black !important; padding: 0 4px; display: table-cell !important; font-weight: normal !important; }\n",
       ".c3align .T_dna{font-family: \"Lucida Console\",monospace !important; font-size: 12pt !important; color: blue; }\n",
       ".c3align .C_dna{font-family: \"Lucida Console\",monospace !important; font-size: 12pt !important; color: black; }\n",
       ".c3align .A_dna{font-family: \"Lucida Console\",monospace !important; font-size: 12pt !important; color: #FF0102; }\n",
       ".c3align .G_dna{font-family: \"Lucida Console\",monospace !important; font-size: 12pt !important; color: green; }\n",
       ".c3align .terminal_ambig_dna{font-family: \"Lucida Console\",monospace !important; font-size: 12pt !important; color: gray; }\n",
       ".c3align .ambig_dna{font-family: \"Lucida Console\",monospace !important; font-size: 12pt !important; color: gray; }\n",
       "</style>\n",
       "<div class=\"c3align\">\n",
       "<table>\n",
       "<tr class=\"num_row\"><td></td><td><b>0</b></td></tr>\n",
       "<tr><td class=\"label\">a</td><td><span class=\"G_dna\">G</span><span class=\"C_dna\">C</span><span class=\"A_dna\">A</span><span class=\"A_dna\">A</span></td></tr>\n",
       "<tr><td class=\"label\">b</td><td><span class=\"G_dna\">.</span><span class=\"C_dna\">.</span><span class=\"T_dna\">T</span><span class=\"T_dna\">T</span></td></tr>\n",
       "</table>\n",
       "<p><i>2 x 4 dna alignment</i></p>\n",
       "</div>"
      ],
      "text/plain": [
       "2 x 4 dna alignment: a[GCAA], b[GCTT]"
      ]
     },
     "execution_count": 4,
     "metadata": {},
     "output_type": "execute_result"
    }
   ],
   "source": [
    "from cogent3 import make_aligned_seqs\n",
    "\n",
    "aln = make_aligned_seqs(\n",
    "    data=dict(a=\"GCAAGCGTTTAT\", b=\"GCTTTTGTCAAT\"), array_align=False, moltype=\"dna\"\n",
    ")\n",
    "result = first4(aln)\n",
    "result"
   ]
  },
  {
   "cell_type": "code",
   "execution_count": 5,
   "id": "neural-heath",
   "metadata": {
    "execution": {
     "iopub.execute_input": "2021-09-30T04:30:59.262954Z",
     "iopub.status.busy": "2021-09-30T04:30:59.262331Z",
     "iopub.status.idle": "2021-09-30T04:30:59.264628Z",
     "shell.execute_reply": "2021-09-30T04:30:59.265110Z"
    }
   },
   "outputs": [
    {
     "data": {
      "text/html": [
       "<style>\n",
       ".c3align td { border: none !important; text-align: left !important; }\n",
       ".c3align tr:not(.num_row) td span {margin: 0 2px;}\n",
       ".c3align tr:nth-child(even) {background: #f7f7f7;}\n",
       ".c3align .num_row {background-color:rgba(161, 195, 209, 0.5) !important; border-top: solid 1px black; }\n",
       ".c3align .label { font-size: 12pt ; text-align: right !important; color: black !important; padding: 0 4px; display: table-cell !important; font-weight: normal !important; }\n",
       ".c3align .T_dna{font-family: \"Lucida Console\",monospace !important; font-size: 12pt !important; color: blue; }\n",
       ".c3align .C_dna{font-family: \"Lucida Console\",monospace !important; font-size: 12pt !important; color: black; }\n",
       ".c3align .A_dna{font-family: \"Lucida Console\",monospace !important; font-size: 12pt !important; color: #FF0102; }\n",
       ".c3align .G_dna{font-family: \"Lucida Console\",monospace !important; font-size: 12pt !important; color: green; }\n",
       ".c3align .terminal_ambig_dna{font-family: \"Lucida Console\",monospace !important; font-size: 12pt !important; color: gray; }\n",
       ".c3align .ambig_dna{font-family: \"Lucida Console\",monospace !important; font-size: 12pt !important; color: gray; }\n",
       "</style>\n",
       "<div class=\"c3align\">\n",
       "<table>\n",
       "<tr class=\"num_row\"><td></td><td><b>0</b></td></tr>\n",
       "<tr><td class=\"label\">A</td><td><span class=\"G_dna\">G</span><span class=\"C_dna\">C</span><span class=\"A_dna\">A</span><span class=\"A_dna\">A</span><span class=\"G_dna\">G</span><span class=\"C_dna\">C</span><span class=\"G_dna\">G</span><span class=\"T_dna\">T</span><span class=\"T_dna\">T</span><span class=\"T_dna\">T</span><span class=\"A_dna\">A</span><span class=\"T_dna\">T</span></td></tr>\n",
       "<tr><td class=\"label\">B</td><td><span class=\"G_dna\">.</span><span class=\"C_dna\">.</span><span class=\"T_dna\">T</span><span class=\"T_dna\">T</span><span class=\"T_dna\">T</span><span class=\"T_dna\">T</span><span class=\"G_dna\">.</span><span class=\"T_dna\">.</span><span class=\"C_dna\">C</span><span class=\"A_dna\">A</span><span class=\"A_dna\">.</span><span class=\"T_dna\">.</span></td></tr>\n",
       "</table>\n",
       "<p><i>2 x 12 dna alignment</i></p>\n",
       "</div>"
      ],
      "text/plain": [
       "2 x 12 dna alignment: A[GCAAGCGTTTA...], B[GCTTTTGTCAA...]"
      ]
     },
     "execution_count": 5,
     "metadata": {},
     "output_type": "execute_result"
    }
   ],
   "source": [
    "from cogent3.app.composable import (\n",
    "    ALIGNED_TYPE,\n",
    "    SEQUENCE_TYPE,\n",
    "    SERIALISABLE_TYPE,\n",
    "    appify,\n",
    ")\n",
    "\n",
    "@appify((ALIGNED_TYPE, SEQUENCE_TYPE), SERIALISABLE_TYPE)\n",
    "def rename_seqs(aln):\n",
    "    \"\"\"upper case names\"\"\"\n",
    "    return aln.rename_seqs(lambda x: x.upper())\n",
    "\n",
    "renamer = rename_seqs()\n",
    "result = renamer(aln)\n",
    "result"
   ]
  },
  {
   "cell_type": "code",
   "execution_count": 6,
   "id": "international-clock",
   "metadata": {
    "execution": {
     "iopub.execute_input": "2021-09-30T04:30:59.269372Z",
     "iopub.status.busy": "2021-09-30T04:30:59.268822Z",
     "iopub.status.idle": "2021-09-30T04:30:59.274691Z",
     "shell.execute_reply": "2021-09-30T04:30:59.275142Z"
    }
   },
   "outputs": [
    {
     "data": {
      "text/html": [
       "\n",
       "<div class=\"c3table\">\n",
       "\n",
       "<style>\n",
       ".c3table table {margin: 10px 0;}\n",
       ".c3table tr:last-child {border-bottom: 1px solid #000;} \n",
       ".c3table tr > th {text-align: left; padding: 0 5px;}\n",
       ".c3table tr > td {text-align: left; padding: 5px;}\n",
       ".c3table tr:nth-child(even) {background: #f7f7f7 !important;}\n",
       ".c3table .ellipsis {background: rgba(0, 0, 0, .01);}\n",
       ".c3table .index {background: rgba(161, 195, 209, 0.25); margin: 10px; font-weight: 600;}\n",
       ".c3table .head_cell {background: rgba(161, 195, 209, 0.75); font-weight: bold; text-align: center;}\n",
       ".c3table caption {color: rgb(250, 250, 250); background: rgba(30, 140, 200, 1); padding: 3px; white-space: nowrap; caption-side: top;}\n",
       ".c3table .cell_title {font-weight: bold;}\n",
       ".c3col_left { text-align: left !important; display: block;}\n",
       ".c3col_right { text-align: right !important; display: block;}\n",
       ".c3col_center { text-align: center !important; display: block;}\n",
       "</style>\n",
       "\n",
       "<table>\n",
       "\n",
       "<thead class=\"head_cell\">\n",
       "<th>names</th><th>a</th><th>b</th>\n",
       "</thead>\n",
       "<tbody>\n",
       "<tr><td class=\"index\"><span class=\"c3col_left\">a</span></td><td><span class=\"c3col_right\">0.0000</span></td><td><span class=\"c3col_right\">0.5000</span></td></tr>\n",
       "<tr><td class=\"index\"><span class=\"c3col_left\">b</span></td><td><span class=\"c3col_right\">0.5000</span></td><td><span class=\"c3col_right\">0.0000</span></td></tr>\n",
       "</tbody>\n",
       "</table>\n",
       "\n",
       "</div>"
      ],
      "text/plain": [
       "=========================\n",
       "names         a         b\n",
       "-------------------------\n",
       "a        0.0000    0.5000\n",
       "b        0.5000    0.0000\n",
       "-------------------------"
      ]
     },
     "execution_count": 6,
     "metadata": {},
     "output_type": "execute_result"
    }
   ],
   "source": [
    "from cogent3.app.composable import (\n",
    "    ALIGNED_TYPE,\n",
    "    PAIRWISE_DISTANCE_TYPE,\n",
    "    appify,\n",
    ")\n",
    "\n",
    "@appify(ALIGNED_TYPE, PAIRWISE_DISTANCE_TYPE)\n",
    "def get_dists(aln, calc=\"hamming\"):\n",
    "    return aln.distance_matrix(calc=calc, show_progress=False)\n",
    "\n",
    "percent_dist = get_dists(calc=\"percent\")\n",
    "result = percent_dist(aln)\n",
    "result"
   ]
  }
 ],
 "metadata": {
  "kernelspec": {
   "display_name": "Python 3",
   "language": "python",
   "name": "python3"
  },
  "language_info": {
   "codemirror_mode": {
    "name": "ipython",
    "version": 3
   },
   "file_extension": ".py",
   "mimetype": "text/x-python",
   "name": "python",
   "nbconvert_exporter": "python",
   "pygments_lexer": "ipython3",
   "version": "3.9.0"
  }
 },
 "nbformat": 4,
 "nbformat_minor": 5
}