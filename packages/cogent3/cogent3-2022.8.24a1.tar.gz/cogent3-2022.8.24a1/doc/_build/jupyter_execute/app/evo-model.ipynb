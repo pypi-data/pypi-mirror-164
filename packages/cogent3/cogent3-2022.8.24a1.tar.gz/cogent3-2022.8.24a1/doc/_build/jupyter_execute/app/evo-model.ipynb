{
 "cells": [
  {
   "cell_type": "code",
   "execution_count": 1,
   "id": "significant-conservative",
   "metadata": {
    "execution": {
     "iopub.execute_input": "2021-09-30T04:25:26.150656Z",
     "iopub.status.busy": "2021-09-30T04:25:26.150015Z",
     "iopub.status.idle": "2021-09-30T04:25:26.421645Z",
     "shell.execute_reply": "2021-09-30T04:25:26.422009Z"
    }
   },
   "outputs": [],
   "source": [
    "import set_working_directory"
   ]
  },
  {
   "cell_type": "code",
   "execution_count": 2,
   "id": "weekly-georgia",
   "metadata": {
    "execution": {
     "iopub.execute_input": "2021-09-30T04:25:26.425693Z",
     "iopub.status.busy": "2021-09-30T04:25:26.425131Z",
     "iopub.status.idle": "2021-09-30T04:25:27.156810Z",
     "shell.execute_reply": "2021-09-30T04:25:27.157272Z"
    }
   },
   "outputs": [
    {
     "data": {
      "text/plain": [
       "['Human', 'Rhesus', 'Galago']"
      ]
     },
     "execution_count": 2,
     "metadata": {},
     "output_type": "execute_result"
    }
   ],
   "source": [
    "from cogent3.app import io, sample\n",
    "\n",
    "reader = io.load_aligned(format=\"fasta\", moltype=\"dna\")\n",
    "select_seqs = sample.take_named_seqs(\"Human\", \"Rhesus\", \"Galago\")\n",
    "process = reader + select_seqs\n",
    "aln = process(\"data/primate_brca1.fasta\")\n",
    "aln.names"
   ]
  },
  {
   "cell_type": "code",
   "execution_count": 3,
   "id": "dedicated-guide",
   "metadata": {
    "execution": {
     "iopub.execute_input": "2021-09-30T04:25:27.160180Z",
     "iopub.status.busy": "2021-09-30T04:25:27.159605Z",
     "iopub.status.idle": "2021-09-30T04:25:27.170911Z",
     "shell.execute_reply": "2021-09-30T04:25:27.171397Z"
    }
   },
   "outputs": [
    {
     "data": {
      "text/plain": [
       "model(type='model', sm='GN', tree=None, unique_trees=False, name=None,\n",
       "sm_args=None, lf_args=None, time_het=None, param_rules=None, opt_args=None,\n",
       "split_codons=False, show_progress=False, verbose=False)"
      ]
     },
     "execution_count": 3,
     "metadata": {},
     "output_type": "execute_result"
    }
   ],
   "source": [
    "from cogent3.app import evo\n",
    "\n",
    "gn = evo.model(\"GN\")\n",
    "gn"
   ]
  },
  {
   "cell_type": "code",
   "execution_count": 4,
   "id": "straight-university",
   "metadata": {
    "execution": {
     "iopub.execute_input": "2021-09-30T04:25:27.176526Z",
     "iopub.status.busy": "2021-09-30T04:25:27.175716Z",
     "iopub.status.idle": "2021-09-30T04:25:27.846715Z",
     "shell.execute_reply": "2021-09-30T04:25:27.847132Z"
    }
   },
   "outputs": [
    {
     "data": {
      "text/plain": [
       "cogent3.app.result.model_result"
      ]
     },
     "execution_count": 4,
     "metadata": {},
     "output_type": "execute_result"
    }
   ],
   "source": [
    "fitted = gn(aln)\n",
    "type(fitted)"
   ]
  },
  {
   "cell_type": "code",
   "execution_count": 5,
   "id": "beautiful-class",
   "metadata": {
    "execution": {
     "iopub.execute_input": "2021-09-30T04:25:27.856552Z",
     "iopub.status.busy": "2021-09-30T04:25:27.855389Z",
     "iopub.status.idle": "2021-09-30T04:25:27.859157Z",
     "shell.execute_reply": "2021-09-30T04:25:27.858608Z"
    }
   },
   "outputs": [
    {
     "data": {
      "text/html": [
       "\n",
       "<div class=\"c3table\">\n",
       "\n",
       "<style>\n",
       ".c3table table {margin: 10px 0;}\n",
       ".c3table tr:last-child {border-bottom: 1px solid #000;} \n",
       ".c3table tr > th {text-align: left; padding: 0 5px;}\n",
       ".c3table tr > td {text-align: left; padding: 5px;}\n",
       ".c3table tr:nth-child(even) {background: #f7f7f7 !important;}\n",
       ".c3table .ellipsis {background: rgba(0, 0, 0, .01);}\n",
       ".c3table .index {background: rgba(161, 195, 209, 0.0); margin: 10px; font-weight: 600;}\n",
       ".c3table .head_cell {background: rgba(161, 195, 209, 0.75); font-weight: bold; text-align: center;}\n",
       ".c3table caption {color: rgb(250, 250, 250); background: rgba(30, 140, 200, 1); padding: 3px; white-space: nowrap; caption-side: top;}\n",
       ".c3table .cell_title {font-weight: bold;}\n",
       ".c3col_left { text-align: left !important; display: block;}\n",
       ".c3col_right { text-align: right !important; display: block;}\n",
       ".c3col_center { text-align: center !important; display: block;}\n",
       "</style>\n",
       "\n",
       "<table>\n",
       "\n",
       "<caption>\n",
       "<span class=\"cell_title\">GN</span>\n",
       "</caption>\n",
       "<thead class=\"head_cell\">\n",
       "<th>key</th><th>lnL</th><th>nfp</th><th>DLC</th><th>unique_Q</th>\n",
       "</thead>\n",
       "<tbody>\n",
       "<tr><td><span class=\"c3col_left\">'GN'</span></td><td><span class=\"c3col_right\">-5964.0129</span></td><td><span class=\"c3col_right\">17</span></td><td><span class=\"c3col_left\">True</span></td><td><span class=\"c3col_left\">True</span></td></tr>\n",
       "</tbody>\n",
       "</table>\n",
       "\n",
       "</div>"
      ],
      "text/plain": [
       "GN\n",
       "=============================================\n",
       "key            lnL    nfp    DLC     unique_Q\n",
       "---------------------------------------------\n",
       "'GN'    -5964.0129     17    True    True    \n",
       "---------------------------------------------\n",
       "\n",
       "1 rows x 5 columns"
      ]
     },
     "execution_count": 5,
     "metadata": {},
     "output_type": "execute_result"
    }
   ],
   "source": [
    "fitted"
   ]
  },
  {
   "cell_type": "code",
   "execution_count": 6,
   "id": "ranging-butter",
   "metadata": {
    "execution": {
     "iopub.execute_input": "2021-09-30T04:25:27.866932Z",
     "iopub.status.busy": "2021-09-30T04:25:27.866080Z",
     "iopub.status.idle": "2021-09-30T04:25:27.870205Z",
     "shell.execute_reply": "2021-09-30T04:25:27.869609Z"
    }
   },
   "outputs": [
    {
     "data": {
      "text/html": [
       "<h4>GN</h4>\n",
       "<p>log-likelihood = -5964.0129</p>\n",
       "<p>number of free parameters = 17</p>\n",
       "\n",
       "<div class=\"c3table\">\n",
       "\n",
       "<style>\n",
       ".c3table table {margin: 10px 0;}\n",
       ".c3table tr:last-child {border-bottom: 1px solid #000;} \n",
       ".c3table tr > th {text-align: left; padding: 0 5px;}\n",
       ".c3table tr > td {text-align: left; padding: 5px;}\n",
       ".c3table tr:nth-child(even) {background: #f7f7f7 !important;}\n",
       ".c3table .ellipsis {background: rgba(0, 0, 0, .01);}\n",
       ".c3table .index {background: rgba(161, 195, 209, 0.0); margin: 10px; font-weight: 600;}\n",
       ".c3table .head_cell {background: rgba(161, 195, 209, 0.75); font-weight: bold; text-align: center;}\n",
       ".c3table caption {color: rgb(250, 250, 250); background: rgba(30, 140, 200, 1); padding: 3px; white-space: nowrap; caption-side: top;}\n",
       ".c3table .cell_title {font-weight: bold;}\n",
       ".c3col_left { text-align: left !important; display: block;}\n",
       ".c3col_right { text-align: right !important; display: block;}\n",
       ".c3col_center { text-align: center !important; display: block;}\n",
       "</style>\n",
       "\n",
       "<table>\n",
       "\n",
       "<caption>\n",
       "<span class=\"cell_title\">Global params</span>\n",
       "</caption>\n",
       "<thead class=\"head_cell\">\n",
       "<th>A>C</th><th>A>G</th><th>A>T</th><th>C>A</th><th>C>G</th><th>C>T</th><th>G>A</th><th>G>C</th><th>G>T</th><th>T>A</th>\n",
       "</thead>\n",
       "<tbody>\n",
       "<tr><td><span class=\"c3col_right\">1.0628</span></td><td><span class=\"c3col_right\">3.1833</span></td><td><span class=\"c3col_right\">1.0207</span></td><td><span class=\"c3col_right\">1.7952</span></td><td><span class=\"c3col_right\">2.3276</span></td><td><span class=\"c3col_right\">5.6847</span></td><td><span class=\"c3col_right\">9.0910</span></td><td><span class=\"c3col_right\">1.1136</span></td><td><span class=\"c3col_right\">0.8313</span></td><td><span class=\"c3col_right\">1.4997</span></td></tr>\n",
       "</tbody>\n",
       "</table>\n",
       "\n",
       "<table>\n",
       "\n",
       "<caption>\n",
       "<span class=\"cell_title\">continuation</span>\n",
       "</caption>\n",
       "<thead class=\"head_cell\">\n",
       "<th>T>C</th>\n",
       "</thead>\n",
       "<tbody>\n",
       "<tr><td><span class=\"c3col_right\">3.5575</span></td></tr>\n",
       "</tbody>\n",
       "</table>\n",
       "\n",
       "</div>\n",
       "\n",
       "<div class=\"c3table\">\n",
       "\n",
       "<style>\n",
       ".c3table table {margin: 10px 0;}\n",
       ".c3table tr:last-child {border-bottom: 1px solid #000;} \n",
       ".c3table tr > th {text-align: left; padding: 0 5px;}\n",
       ".c3table tr > td {text-align: left; padding: 5px;}\n",
       ".c3table tr:nth-child(even) {background: #f7f7f7 !important;}\n",
       ".c3table .ellipsis {background: rgba(0, 0, 0, .01);}\n",
       ".c3table .index {background: rgba(161, 195, 209, 0.0); margin: 10px; font-weight: 600;}\n",
       ".c3table .head_cell {background: rgba(161, 195, 209, 0.75); font-weight: bold; text-align: center;}\n",
       ".c3table caption {color: rgb(250, 250, 250); background: rgba(30, 140, 200, 1); padding: 3px; white-space: nowrap; caption-side: top;}\n",
       ".c3table .cell_title {font-weight: bold;}\n",
       ".c3col_left { text-align: left !important; display: block;}\n",
       ".c3col_right { text-align: right !important; display: block;}\n",
       ".c3col_center { text-align: center !important; display: block;}\n",
       "</style>\n",
       "\n",
       "<table>\n",
       "\n",
       "<caption>\n",
       "<span class=\"cell_title\">Edge params</span>\n",
       "</caption>\n",
       "<thead class=\"head_cell\">\n",
       "<th>edge</th><th>parent</th><th>length</th>\n",
       "</thead>\n",
       "<tbody>\n",
       "<tr><td><span class=\"c3col_left\">Human</span></td><td><span class=\"c3col_left\">root</span></td><td><span class=\"c3col_right\">0.0214</span></td></tr>\n",
       "<tr><td><span class=\"c3col_left\">Rhesus</span></td><td><span class=\"c3col_left\">root</span></td><td><span class=\"c3col_right\">0.0208</span></td></tr>\n",
       "<tr><td><span class=\"c3col_left\">Galago</span></td><td><span class=\"c3col_left\">root</span></td><td><span class=\"c3col_right\">0.1781</span></td></tr>\n",
       "</tbody>\n",
       "</table>\n",
       "\n",
       "</div>\n",
       "\n",
       "<div class=\"c3table\">\n",
       "\n",
       "<style>\n",
       ".c3table table {margin: 10px 0;}\n",
       ".c3table tr:last-child {border-bottom: 1px solid #000;} \n",
       ".c3table tr > th {text-align: left; padding: 0 5px;}\n",
       ".c3table tr > td {text-align: left; padding: 5px;}\n",
       ".c3table tr:nth-child(even) {background: #f7f7f7 !important;}\n",
       ".c3table .ellipsis {background: rgba(0, 0, 0, .01);}\n",
       ".c3table .index {background: rgba(161, 195, 209, 0.0); margin: 10px; font-weight: 600;}\n",
       ".c3table .head_cell {background: rgba(161, 195, 209, 0.75); font-weight: bold; text-align: center;}\n",
       ".c3table caption {color: rgb(250, 250, 250); background: rgba(30, 140, 200, 1); padding: 3px; white-space: nowrap; caption-side: top;}\n",
       ".c3table .cell_title {font-weight: bold;}\n",
       ".c3col_left { text-align: left !important; display: block;}\n",
       ".c3col_right { text-align: right !important; display: block;}\n",
       ".c3col_center { text-align: center !important; display: block;}\n",
       "</style>\n",
       "\n",
       "<table>\n",
       "\n",
       "<caption>\n",
       "<span class=\"cell_title\">Motif params</span>\n",
       "</caption>\n",
       "<thead class=\"head_cell\">\n",
       "<th>A</th><th>C</th><th>G</th><th>T</th>\n",
       "</thead>\n",
       "<tbody>\n",
       "<tr><td><span class=\"c3col_right\">0.3740</span></td><td><span class=\"c3col_right\">0.1755</span></td><td><span class=\"c3col_right\">0.2098</span></td><td><span class=\"c3col_right\">0.2408</span></td></tr>\n",
       "</tbody>\n",
       "</table>\n",
       "\n",
       "</div>"
      ],
      "text/plain": [
       "GN\n",
       "log-likelihood = -5964.0129\n",
       "number of free parameters = 17\n",
       "============================================================================\n",
       "   A>C       A>G       A>T       C>A       C>G       C>T       G>A       G>C\n",
       "----------------------------------------------------------------------------\n",
       "1.0628    3.1833    1.0207    1.7952    2.3276    5.6847    9.0910    1.1136\n",
       "----------------------------------------------------------------------------\n",
       "\n",
       "continued: \n",
       "==========================\n",
       "   G>T       T>A       T>C\n",
       "--------------------------\n",
       "0.8313    1.4997    3.5575\n",
       "--------------------------\n",
       "\n",
       "==========================\n",
       "edge      parent    length\n",
       "--------------------------\n",
       "Human     root      0.0214\n",
       "Rhesus    root      0.0208\n",
       "Galago    root      0.1781\n",
       "--------------------------\n",
       "====================================\n",
       "     A         C         G         T\n",
       "------------------------------------\n",
       "0.3740    0.1755    0.2098    0.2408\n",
       "------------------------------------"
      ]
     },
     "execution_count": 6,
     "metadata": {},
     "output_type": "execute_result"
    }
   ],
   "source": [
    "fitted.lf"
   ]
  },
  {
   "cell_type": "code",
   "execution_count": 7,
   "id": "premium-right",
   "metadata": {
    "execution": {
     "iopub.execute_input": "2021-09-30T04:25:27.874015Z",
     "iopub.status.busy": "2021-09-30T04:25:27.873366Z",
     "iopub.status.idle": "2021-09-30T04:25:27.875900Z",
     "shell.execute_reply": "2021-09-30T04:25:27.876394Z"
    }
   },
   "outputs": [
    {
     "data": {
      "text/plain": [
       "(-5964.012906757186, 17)"
      ]
     },
     "execution_count": 7,
     "metadata": {},
     "output_type": "execute_result"
    }
   ],
   "source": [
    "fitted.lnL, fitted.nfp"
   ]
  },
  {
   "cell_type": "code",
   "execution_count": 8,
   "id": "false-minneapolis",
   "metadata": {
    "execution": {
     "iopub.execute_input": "2021-09-30T04:25:27.879847Z",
     "iopub.status.busy": "2021-09-30T04:25:27.879224Z",
     "iopub.status.idle": "2021-09-30T04:25:27.881763Z",
     "shell.execute_reply": "2021-09-30T04:25:27.882213Z"
    }
   },
   "outputs": [
    {
     "data": {
      "text/plain": [
       "'data/primate_brca1.fasta'"
      ]
     },
     "execution_count": 8,
     "metadata": {},
     "output_type": "execute_result"
    }
   ],
   "source": [
    "fitted.source"
   ]
  },
  {
   "cell_type": "code",
   "execution_count": 9,
   "id": "selective-repeat",
   "metadata": {
    "execution": {
     "iopub.execute_input": "2021-09-30T04:25:27.887552Z",
     "iopub.status.busy": "2021-09-30T04:25:27.886937Z",
     "iopub.status.idle": "2021-09-30T04:25:27.889324Z",
     "shell.execute_reply": "2021-09-30T04:25:27.889773Z"
    }
   },
   "outputs": [
    {
     "data": {
      "text/plain": [
       "(Tree(\"(Human,Rhesus,Galago)root;\"),\n",
       " 3 x 2814 dna alignment: Human[TGTGGCACAAA...], Rhesus[TGTGGCACAAA...], Galago[TGTGGCAAAAA...])"
      ]
     },
     "execution_count": 9,
     "metadata": {},
     "output_type": "execute_result"
    }
   ],
   "source": [
    "fitted.tree, fitted.alignment"
   ]
  },
  {
   "cell_type": "code",
   "execution_count": 10,
   "id": "focal-stake",
   "metadata": {
    "execution": {
     "iopub.execute_input": "2021-09-30T04:25:27.894582Z",
     "iopub.status.busy": "2021-09-30T04:25:27.893973Z",
     "iopub.status.idle": "2021-09-30T04:25:27.896351Z",
     "shell.execute_reply": "2021-09-30T04:25:27.896812Z"
    }
   },
   "outputs": [
    {
     "data": {
      "text/plain": [
       "0.9280297235793622"
      ]
     },
     "execution_count": 10,
     "metadata": {},
     "output_type": "execute_result"
    }
   ],
   "source": [
    "fitted.total_length(length_as=\"paralinear\")"
   ]
  },
  {
   "cell_type": "code",
   "execution_count": 11,
   "id": "measured-oriental",
   "metadata": {
    "execution": {
     "iopub.execute_input": "2021-09-30T04:25:27.899971Z",
     "iopub.status.busy": "2021-09-30T04:25:27.899398Z",
     "iopub.status.idle": "2021-09-30T04:25:30.287260Z",
     "shell.execute_reply": "2021-09-30T04:25:30.287731Z"
    }
   },
   "outputs": [
    {
     "data": {
      "text/html": [
       "\n",
       "<div class=\"c3table\">\n",
       "\n",
       "<style>\n",
       ".c3table table {margin: 10px 0;}\n",
       ".c3table tr:last-child {border-bottom: 1px solid #000;} \n",
       ".c3table tr > th {text-align: left; padding: 0 5px;}\n",
       ".c3table tr > td {text-align: left; padding: 5px;}\n",
       ".c3table tr:nth-child(even) {background: #f7f7f7 !important;}\n",
       ".c3table .ellipsis {background: rgba(0, 0, 0, .01);}\n",
       ".c3table .index {background: rgba(161, 195, 209, 0.0); margin: 10px; font-weight: 600;}\n",
       ".c3table .head_cell {background: rgba(161, 195, 209, 0.75); font-weight: bold; text-align: center;}\n",
       ".c3table caption {color: rgb(250, 250, 250); background: rgba(30, 140, 200, 1); padding: 3px; white-space: nowrap; caption-side: top;}\n",
       ".c3table .cell_title {font-weight: bold;}\n",
       ".c3col_left { text-align: left !important; display: block;}\n",
       ".c3col_right { text-align: right !important; display: block;}\n",
       ".c3col_center { text-align: center !important; display: block;}\n",
       "</style>\n",
       "\n",
       "<table>\n",
       "\n",
       "<caption>\n",
       "<span class=\"cell_title\">GN</span>\n",
       "</caption>\n",
       "<thead class=\"head_cell\">\n",
       "<th>key</th><th>lnL</th><th>nfp</th><th>DLC</th><th>unique_Q</th>\n",
       "</thead>\n",
       "<tbody>\n",
       "<tr><td><span class=\"c3col_left\">''</span></td><td><span class=\"c3col_right\">-5866.9371</span></td><td><span class=\"c3col_right\">51</span></td><td><span class=\"c3col_left\">True</span></td><td><span class=\"c3col_left\">True</span></td></tr>\n",
       "<tr><td><span class=\"c3col_left\">1</span></td><td><span class=\"c3col_right\">-1955.5141</span></td><td><span class=\"c3col_right\">17</span></td><td><span class=\"c3col_left\"></span></td><td><span class=\"c3col_left\"></span></td></tr>\n",
       "<tr><td><span class=\"c3col_left\">2</span></td><td><span class=\"c3col_right\">-1934.2598</span></td><td><span class=\"c3col_right\">17</span></td><td><span class=\"c3col_left\"></span></td><td><span class=\"c3col_left\"></span></td></tr>\n",
       "<tr><td><span class=\"c3col_left\">3</span></td><td><span class=\"c3col_right\">-1977.1632</span></td><td><span class=\"c3col_right\">17</span></td><td><span class=\"c3col_left\"></span></td><td><span class=\"c3col_left\"></span></td></tr>\n",
       "</tbody>\n",
       "</table>\n",
       "\n",
       "</div>"
      ],
      "text/plain": [
       "GN\n",
       "===========================================\n",
       "key           lnL    nfp    DLC    unique_Q\n",
       "-------------------------------------------\n",
       "''     -5866.9371     51    1      1       \n",
       "1      -1955.5141     17                   \n",
       "2      -1934.2598     17                   \n",
       "3      -1977.1632     17                   \n",
       "-------------------------------------------\n",
       "\n",
       "4 rows x 5 columns"
      ]
     },
     "execution_count": 11,
     "metadata": {},
     "output_type": "execute_result"
    }
   ],
   "source": [
    "gn = evo.model(\"GN\", split_codons=True)\n",
    "\n",
    "fitted = gn(aln)\n",
    "fitted"
   ]
  },
  {
   "cell_type": "code",
   "execution_count": 12,
   "id": "surface-board",
   "metadata": {
    "execution": {
     "iopub.execute_input": "2021-09-30T04:25:30.295087Z",
     "iopub.status.busy": "2021-09-30T04:25:30.294153Z",
     "iopub.status.idle": "2021-09-30T04:25:30.297826Z",
     "shell.execute_reply": "2021-09-30T04:25:30.298283Z"
    }
   },
   "outputs": [
    {
     "data": {
      "text/html": [
       "<h4>LF id: 3</h4>\n",
       "<p>log-likelihood = -1977.1632</p>\n",
       "<p>number of free parameters = 17</p>\n",
       "\n",
       "<div class=\"c3table\">\n",
       "\n",
       "<style>\n",
       ".c3table table {margin: 10px 0;}\n",
       ".c3table tr:last-child {border-bottom: 1px solid #000;} \n",
       ".c3table tr > th {text-align: left; padding: 0 5px;}\n",
       ".c3table tr > td {text-align: left; padding: 5px;}\n",
       ".c3table tr:nth-child(even) {background: #f7f7f7 !important;}\n",
       ".c3table .ellipsis {background: rgba(0, 0, 0, .01);}\n",
       ".c3table .index {background: rgba(161, 195, 209, 0.0); margin: 10px; font-weight: 600;}\n",
       ".c3table .head_cell {background: rgba(161, 195, 209, 0.75); font-weight: bold; text-align: center;}\n",
       ".c3table caption {color: rgb(250, 250, 250); background: rgba(30, 140, 200, 1); padding: 3px; white-space: nowrap; caption-side: top;}\n",
       ".c3table .cell_title {font-weight: bold;}\n",
       ".c3col_left { text-align: left !important; display: block;}\n",
       ".c3col_right { text-align: right !important; display: block;}\n",
       ".c3col_center { text-align: center !important; display: block;}\n",
       "</style>\n",
       "\n",
       "<table>\n",
       "\n",
       "<caption>\n",
       "<span class=\"cell_title\">Global params</span>\n",
       "</caption>\n",
       "<thead class=\"head_cell\">\n",
       "<th>A>C</th><th>A>G</th><th>A>T</th><th>C>A</th><th>C>G</th><th>C>T</th><th>G>A</th><th>G>C</th><th>G>T</th>\n",
       "</thead>\n",
       "<tbody>\n",
       "<tr><td><span class=\"c3col_right\">1.7484</span></td><td><span class=\"c3col_right\">3.4215</span></td><td><span class=\"c3col_right\">2.4111</span></td><td><span class=\"c3col_right\">2.3729</span></td><td><span class=\"c3col_right\">3.4060</span></td><td><span class=\"c3col_right\">16.1603</span></td><td><span class=\"c3col_right\">16.9889</span></td><td><span class=\"c3col_right\">2.0343</span></td><td><span class=\"c3col_right\">1.7432</span></td></tr>\n",
       "</tbody>\n",
       "</table>\n",
       "\n",
       "<table>\n",
       "\n",
       "<caption>\n",
       "<span class=\"cell_title\">continuation</span>\n",
       "</caption>\n",
       "<thead class=\"head_cell\">\n",
       "<th>T>A</th><th>T>C</th>\n",
       "</thead>\n",
       "<tbody>\n",
       "<tr><td><span class=\"c3col_right\">1.9241</span></td><td><span class=\"c3col_right\">5.2795</span></td></tr>\n",
       "</tbody>\n",
       "</table>\n",
       "\n",
       "</div>\n",
       "\n",
       "<div class=\"c3table\">\n",
       "\n",
       "<style>\n",
       ".c3table table {margin: 10px 0;}\n",
       ".c3table tr:last-child {border-bottom: 1px solid #000;} \n",
       ".c3table tr > th {text-align: left; padding: 0 5px;}\n",
       ".c3table tr > td {text-align: left; padding: 5px;}\n",
       ".c3table tr:nth-child(even) {background: #f7f7f7 !important;}\n",
       ".c3table .ellipsis {background: rgba(0, 0, 0, .01);}\n",
       ".c3table .index {background: rgba(161, 195, 209, 0.0); margin: 10px; font-weight: 600;}\n",
       ".c3table .head_cell {background: rgba(161, 195, 209, 0.75); font-weight: bold; text-align: center;}\n",
       ".c3table caption {color: rgb(250, 250, 250); background: rgba(30, 140, 200, 1); padding: 3px; white-space: nowrap; caption-side: top;}\n",
       ".c3table .cell_title {font-weight: bold;}\n",
       ".c3col_left { text-align: left !important; display: block;}\n",
       ".c3col_right { text-align: right !important; display: block;}\n",
       ".c3col_center { text-align: center !important; display: block;}\n",
       "</style>\n",
       "\n",
       "<table>\n",
       "\n",
       "<caption>\n",
       "<span class=\"cell_title\">Edge params</span>\n",
       "</caption>\n",
       "<thead class=\"head_cell\">\n",
       "<th>edge</th><th>parent</th><th>length</th>\n",
       "</thead>\n",
       "<tbody>\n",
       "<tr><td><span class=\"c3col_left\">Human</span></td><td><span class=\"c3col_left\">root</span></td><td><span class=\"c3col_right\">0.0243</span></td></tr>\n",
       "<tr><td><span class=\"c3col_left\">Rhesus</span></td><td><span class=\"c3col_left\">root</span></td><td><span class=\"c3col_right\">0.0319</span></td></tr>\n",
       "<tr><td><span class=\"c3col_left\">Galago</span></td><td><span class=\"c3col_left\">root</span></td><td><span class=\"c3col_right\">0.1797</span></td></tr>\n",
       "</tbody>\n",
       "</table>\n",
       "\n",
       "</div>\n",
       "\n",
       "<div class=\"c3table\">\n",
       "\n",
       "<style>\n",
       ".c3table table {margin: 10px 0;}\n",
       ".c3table tr:last-child {border-bottom: 1px solid #000;} \n",
       ".c3table tr > th {text-align: left; padding: 0 5px;}\n",
       ".c3table tr > td {text-align: left; padding: 5px;}\n",
       ".c3table tr:nth-child(even) {background: #f7f7f7 !important;}\n",
       ".c3table .ellipsis {background: rgba(0, 0, 0, .01);}\n",
       ".c3table .index {background: rgba(161, 195, 209, 0.0); margin: 10px; font-weight: 600;}\n",
       ".c3table .head_cell {background: rgba(161, 195, 209, 0.75); font-weight: bold; text-align: center;}\n",
       ".c3table caption {color: rgb(250, 250, 250); background: rgba(30, 140, 200, 1); padding: 3px; white-space: nowrap; caption-side: top;}\n",
       ".c3table .cell_title {font-weight: bold;}\n",
       ".c3col_left { text-align: left !important; display: block;}\n",
       ".c3col_right { text-align: right !important; display: block;}\n",
       ".c3col_center { text-align: center !important; display: block;}\n",
       "</style>\n",
       "\n",
       "<table>\n",
       "\n",
       "<caption>\n",
       "<span class=\"cell_title\">Motif params</span>\n",
       "</caption>\n",
       "<thead class=\"head_cell\">\n",
       "<th>A</th><th>C</th><th>G</th><th>T</th>\n",
       "</thead>\n",
       "<tbody>\n",
       "<tr><td><span class=\"c3col_right\">0.3375</span></td><td><span class=\"c3col_right\">0.1395</span></td><td><span class=\"c3col_right\">0.1647</span></td><td><span class=\"c3col_right\">0.3583</span></td></tr>\n",
       "</tbody>\n",
       "</table>\n",
       "\n",
       "</div>"
      ],
      "text/plain": [
       "LF id: 3\n",
       "log-likelihood = -1977.1632\n",
       "number of free parameters = 17\n",
       "====================================================================\n",
       "   A>C       A>G       A>T       C>A       C>G        C>T        G>A\n",
       "--------------------------------------------------------------------\n",
       "1.7484    3.4215    2.4111    2.3729    3.4060    16.1603    16.9889\n",
       "--------------------------------------------------------------------\n",
       "\n",
       "continued: \n",
       "====================================\n",
       "   G>C       G>T       T>A       T>C\n",
       "------------------------------------\n",
       "2.0343    1.7432    1.9241    5.2795\n",
       "------------------------------------\n",
       "\n",
       "==========================\n",
       "edge      parent    length\n",
       "--------------------------\n",
       "Human     root      0.0243\n",
       "Rhesus    root      0.0319\n",
       "Galago    root      0.1797\n",
       "--------------------------\n",
       "====================================\n",
       "     A         C         G         T\n",
       "------------------------------------\n",
       "0.3375    0.1395    0.1647    0.3583\n",
       "------------------------------------"
      ]
     },
     "execution_count": 12,
     "metadata": {},
     "output_type": "execute_result"
    }
   ],
   "source": [
    "fitted[3]"
   ]
  }
 ],
 "metadata": {
  "kernelspec": {
   "display_name": "Python 3",
   "language": "python",
   "name": "python3"
  },
  "language_info": {
   "codemirror_mode": {
    "name": "ipython",
    "version": 3
   },
   "file_extension": ".py",
   "mimetype": "text/x-python",
   "name": "python",
   "nbconvert_exporter": "python",
   "pygments_lexer": "ipython3",
   "version": "3.9.0"
  }
 },
 "nbformat": 4,
 "nbformat_minor": 5
}