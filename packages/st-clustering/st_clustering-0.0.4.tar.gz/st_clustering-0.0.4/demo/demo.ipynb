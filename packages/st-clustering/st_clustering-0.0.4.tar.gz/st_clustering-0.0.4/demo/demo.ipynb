{
 "cells": [
  {
   "cell_type": "markdown",
   "id": "8c2545f3-5597-4078-b62a-acd0904eef64",
   "metadata": {},
   "source": [
    "## Demo of spatio-temporal clustering algorithms"
   ]
  },
  {
   "cell_type": "code",
   "execution_count": 1,
   "id": "7b00d889-7b27-4b21-a36e-62cf7a5db718",
   "metadata": {},
   "outputs": [],
   "source": [
    "import numpy as np \n",
    "import pandas as pd\n",
    "import matplotlib.pyplot as plt\n",
    "import os"
   ]
  },
  {
   "cell_type": "code",
   "execution_count": 2,
   "id": "5396ee93-cbb2-4845-b93c-aaa487c706a1",
   "metadata": {},
   "outputs": [],
   "source": [
    "import st_clustering as stc"
   ]
  },
  {
   "cell_type": "markdown",
   "id": "e283f0b0-2f60-4297-9d3d-dcd7c9eaa19c",
   "metadata": {},
   "source": [
    "### Exemplary data"
   ]
  },
  {
   "cell_type": "code",
   "execution_count": 3,
   "id": "8a7a0d66-0bc6-48eb-adc1-c42a4c84e92f",
   "metadata": {},
   "outputs": [
    {
     "data": {
      "text/html": [
       "<div>\n",
       "<style scoped>\n",
       "    .dataframe tbody tr th:only-of-type {\n",
       "        vertical-align: middle;\n",
       "    }\n",
       "\n",
       "    .dataframe tbody tr th {\n",
       "        vertical-align: top;\n",
       "    }\n",
       "\n",
       "    .dataframe thead th {\n",
       "        text-align: right;\n",
       "    }\n",
       "</style>\n",
       "<table border=\"1\" class=\"dataframe\">\n",
       "  <thead>\n",
       "    <tr style=\"text-align: right;\">\n",
       "      <th></th>\n",
       "      <th>time</th>\n",
       "      <th>animal_id</th>\n",
       "      <th>x</th>\n",
       "      <th>y</th>\n",
       "    </tr>\n",
       "  </thead>\n",
       "  <tbody>\n",
       "    <tr>\n",
       "      <th>0</th>\n",
       "      <td>0</td>\n",
       "      <td>0</td>\n",
       "      <td>201.623002</td>\n",
       "      <td>186.148565</td>\n",
       "    </tr>\n",
       "    <tr>\n",
       "      <th>1</th>\n",
       "      <td>0</td>\n",
       "      <td>1</td>\n",
       "      <td>247.658670</td>\n",
       "      <td>177.650135</td>\n",
       "    </tr>\n",
       "    <tr>\n",
       "      <th>2</th>\n",
       "      <td>0</td>\n",
       "      <td>2</td>\n",
       "      <td>127.457230</td>\n",
       "      <td>20.572136</td>\n",
       "    </tr>\n",
       "    <tr>\n",
       "      <th>3</th>\n",
       "      <td>0</td>\n",
       "      <td>3</td>\n",
       "      <td>231.180722</td>\n",
       "      <td>172.861323</td>\n",
       "    </tr>\n",
       "    <tr>\n",
       "      <th>4</th>\n",
       "      <td>0</td>\n",
       "      <td>4</td>\n",
       "      <td>217.739517</td>\n",
       "      <td>189.203565</td>\n",
       "    </tr>\n",
       "  </tbody>\n",
       "</table>\n",
       "</div>"
      ],
      "text/plain": [
       "   time  animal_id           x           y\n",
       "0     0          0  201.623002  186.148565\n",
       "1     0          1  247.658670  177.650135\n",
       "2     0          2  127.457230   20.572136\n",
       "3     0          3  231.180722  172.861323\n",
       "4     0          4  217.739517  189.203565"
      ]
     },
     "execution_count": 3,
     "metadata": {},
     "output_type": "execute_result"
    }
   ],
   "source": [
    "df = pd.read_csv('test-data.csv')\n",
    "df.head()"
   ]
  },
  {
   "cell_type": "code",
   "execution_count": 4,
   "id": "6ddfcd3f-4a0c-4126-81ae-21689d120fdb",
   "metadata": {},
   "outputs": [],
   "source": [
    "# normalize the data \n",
    "df['x'] = (df['x'] - df['x'].min()) / (df['x'].max() - df['x'].min())\n",
    "df['y'] = (df['y'] - df['y'].min()) / (df['y'].max() - df['y'].min())\n",
    "# transform to numpy array\n",
    "data = df.loc[:, ['time','x','y']].values"
   ]
  },
  {
   "cell_type": "markdown",
   "id": "020c2e14-e9d2-4e17-8572-921bf47a8e09",
   "metadata": {},
   "source": [
    "### Fit"
   ]
  },
  {
   "cell_type": "markdown",
   "id": "8bc81263-667c-4a33-895e-fd8627846a83",
   "metadata": {},
   "source": [
    "The method `st_fit` filters the distance matrix of data points using a temporal distance parameter, `eps2` and then calls the clustering algorithm.\n",
    "\n",
    "For more details, please refer to the original [paper](https://scibib.dbvis.de/uploadedFiles/Cakmak_ST_Clustering_Benchmark.pdf)."
   ]
  },
  {
   "cell_type": "code",
   "execution_count": 5,
   "id": "29972d08-a1a5-4588-9896-7e5a91b3c178",
   "metadata": {},
   "outputs": [],
   "source": [
    "# in this demo, we choose ST_DBSCAN as clustering algorithm\n",
    "st_dbscan = stc.ST_DBSCAN(eps1 = 0.05, eps2 = 10, min_samples = 2)\n",
    "\n",
    "# however, you can also choose: \n",
    "# ST_DBSCAN, ST_Agglomerative, ST_OPTICS, ST_SpectralClustering, ST_AffinityPropagation, ST_HDBSCAN"
   ]
  },
  {
   "cell_type": "code",
   "execution_count": 6,
   "id": "9b15a6eb-ff5b-44d1-9818-820c938ae143",
   "metadata": {},
   "outputs": [
    {
     "name": "stderr",
     "output_type": "stream",
     "text": [
      "/Users/erencakmak/opt/anaconda3/envs/movekit_env/lib/python3.8/site-packages/sklearn/neighbors/_base.py:175: EfficiencyWarning: Precomputed sparse input was not sorted by data.\n",
      "  warnings.warn('Precomputed sparse input was not sorted by data.',\n"
     ]
    },
    {
     "data": {
      "text/plain": [
       "ST_DBSCAN(eps1=0.05, min_samples=2)"
      ]
     },
     "execution_count": 6,
     "metadata": {},
     "output_type": "execute_result"
    }
   ],
   "source": [
    "st_dbscan.st_fit(data)"
   ]
  },
  {
   "cell_type": "code",
   "execution_count": 7,
   "id": "710ef230-bbf0-4b27-b96f-97c4ce2ba679",
   "metadata": {},
   "outputs": [],
   "source": [
    "def plot(data, labels):\n",
    "    colors = ['#a6cee3','#1f78b4','#b2df8a','#33a02c','#fb9a99','#e31a1c','#fdbf6f','#ff7f00','#cab2d6','#6a3d9a']\n",
    "    \n",
    "    for i in range(-1, len(set(labels))):\n",
    "        if i == -1:\n",
    "            col = [0, 0, 0, 1]\n",
    "        else:\n",
    "            col = colors[i % len(colors)]\n",
    "        \n",
    "        clust = data[np.where(labels==i)]\n",
    "        plt.scatter(clust[:,0], clust[:,1], c=[col], s=1)\n",
    "    plt.show()\n",
    "\n",
    "    return None"
   ]
  },
  {
   "cell_type": "code",
   "execution_count": 8,
   "id": "75de5e88-037d-40bc-aa40-595f5dcce560",
   "metadata": {},
   "outputs": [
    {
     "data": {
      "image/png": "[encoded data removed]",
      "text/plain": [
       "<Figure size 432x288 with 1 Axes>"
      ]
     },
     "metadata": {
      "needs_background": "light"
     },
     "output_type": "display_data"
    }
   ],
   "source": [
    "plot(data[:,1:], st_dbscan.labels)"
   ]
  },
  {
   "cell_type": "markdown",
   "id": "41f66444-1541-44d5-b530-c73c83eaaaf6",
   "metadata": {},
   "source": [
    "#### Memory Error"
   ]
  },
  {
   "cell_type": "markdown",
   "id": "69e13b6d-ed8a-4c5a-9474-3f4b975b4030",
   "metadata": {},
   "source": [
    "To process large-scale datasets, use the `st_fit_frame_split` method that splits the dataset into frames and loads them sequentially into memory. Afterwards, the clustering results of these subsets are merged.\n",
    "\n",
    "For more details, please refer to the original [paper](https://scibib.dbvis.de/uploadedFiles/Cakmak_ST_Clustering_Benchmark.pdf)."
   ]
  },
  {
   "cell_type": "code",
   "execution_count": 9,
   "id": "d095a702-6e64-479e-8a14-0d96b1906a0d",
   "metadata": {},
   "outputs": [
    {
     "name": "stderr",
     "output_type": "stream",
     "text": [
      "/Users/erencakmak/opt/anaconda3/envs/movekit_env/lib/python3.8/site-packages/sklearn/neighbors/_base.py:175: EfficiencyWarning: Precomputed sparse input was not sorted by data.\n",
      "  warnings.warn('Precomputed sparse input was not sorted by data.',\n"
     ]
    },
    {
     "data": {
      "text/plain": [
       "ST_DBSCAN(eps1=0.05, min_samples=3)"
      ]
     },
     "execution_count": 9,
     "metadata": {},
     "output_type": "execute_result"
    }
   ],
   "source": [
    "st_dbscan = stc.ST_DBSCAN(eps1 = 0.05, eps2 = 10, min_samples = 3)\n",
    "st_dbscan.st_fit_frame_split(data, frame_size = 50)"
   ]
  },
  {
   "cell_type": "code",
   "execution_count": 10,
   "id": "9e251232-90d4-42e2-a38c-0e7ba3b03807",
   "metadata": {},
   "outputs": [
    {
     "data": {
      "image/png": "[encoded data removed]",
      "text/plain": [
       "<Figure size 432x288 with 1 Axes>"
      ]
     },
     "metadata": {
      "needs_background": "light"
     },
     "output_type": "display_data"
    }
   ],
   "source": [
    "plot(data[:,1:], st_dbscan.labels)"
   ]
  }
 ],
 "metadata": {
  "kernelspec": {
   "display_name": "Python 3 (ipykernel)",
   "language": "python",
   "name": "python3"
  },
  "language_info": {
   "codemirror_mode": {
    "name": "ipython",
    "version": 3
   },
   "file_extension": ".py",
   "mimetype": "text/x-python",
   "name": "python",
   "nbconvert_exporter": "python",
   "pygments_lexer": "ipython3",
   "version": "3.8.12"
  }
 },
 "nbformat": 4,
 "nbformat_minor": 5
}
