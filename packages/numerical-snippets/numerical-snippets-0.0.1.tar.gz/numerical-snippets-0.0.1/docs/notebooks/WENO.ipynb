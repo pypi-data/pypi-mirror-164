{
  "cells": [
    {
      "cell_type": "markdown",
      "metadata": {},
      "source": [
        "# WENO"
      ]
    }
  ],
  "metadata": {
    "accelerator": "GPU",
    "colab": {
      "authorship_tag": "ABX9TyOi54SGs7cII/lmNu4IcR5J",
      "include_colab_link": true,
      "name": "D1V1-BGK.ipynb",
      "provenance": []
    },
    "gpuClass": "standard",
    "kernelspec": {
      "display_name": "Python 3.6.13 ('pytorch19')",
      "language": "python",
      "name": "python3"
    },
    "language_info": {
      "name": "python",
      "version": "3.6.13"
    },
    "vscode": {
      "interpreter": {
        "hash": "3c86ddfe13c89a4f668eaced9788d724b828d3b0d0e8cf4fa616a995c6c42422"
      }
    }
  },
  "nbformat": 4,
  "nbformat_minor": 0
}
