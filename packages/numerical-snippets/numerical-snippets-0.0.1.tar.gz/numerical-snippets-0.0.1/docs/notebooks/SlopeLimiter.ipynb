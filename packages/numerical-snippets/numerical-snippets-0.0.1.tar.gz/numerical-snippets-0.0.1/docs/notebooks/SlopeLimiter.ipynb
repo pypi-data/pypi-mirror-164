{
 "cells": [
  {
   "cell_type": "markdown",
   "metadata": {},
   "source": [
    "# SlopeLimiter"
   ]
  },
  {
   "cell_type": "code",
   "execution_count": 31,
   "metadata": {},
   "outputs": [],
   "source": [
    "import matplotlib.pyplot as plt\n",
    "%config InlineBackend.figure_formats = ['svg']\n",
    "%matplotlib inline\n",
    "import numpy as np"
   ]
  },
  {
   "cell_type": "code",
   "execution_count": 32,
   "metadata": {},
   "outputs": [
    {
     "data": {
      "text/plain": [
       "[<matplotlib.lines.Line2D at 0x7f6472a23a30>]"
      ]
     },
     "execution_count": 32,
     "metadata": {},
     "output_type": "execute_result"
    },
    {
     "data": {
      "image/svg+xml": "<?xml version=\"1.0\" encoding=\"utf-8\" standalone=\"no\"?>\n<!DOCTYPE svg PUBLIC \"-//W3C//DTD SVG 1.1//EN\"\n  \"http://www.w3.org/Graphics/SVG/1.1/DTD/svg11.dtd\">\n<!-- Created with matplotlib (https://matplotlib.org/) -->\n<svg height=\"248.518125pt\" version=\"1.1\" viewBox=\"0 0 372.103125 248.518125\" width=\"372.103125pt\" xmlns=\"http://www.w3.org/2000/svg\" xmlns:xlink=\"http://www.w3.org/1999/xlink\">\n <metadata>\n  <rdf:RDF xmlns:cc=\"http://creativecommons.org/ns#\" xmlns:dc=\"http://purl.org/dc/elements/1.1/\" xmlns:rdf=\"http://www.w3.org/1999/02/22-rdf-syntax-ns#\">\n   <cc:Work>\n    <dc:type rdf:resource=\"http://purl.org/dc/dcmitype/StillImage\"/>\n    <dc:date>2022-08-21T20:48:43.700302</dc:date>\n    <dc:format>image/svg+xml</dc:format>\n    <dc:creator>\n     <cc:Agent>\n      <dc:title>Matplotlib v3.3.2, https://matplotlib.org/</dc:title>\n     </cc:Agent>\n    </dc:creator>\n   </cc:Work>\n  </rdf:RDF>\n </metadata>\n <defs>\n  <style type=\"text/css\">*{stroke-linecap:butt;stroke-linejoin:round;}</style>\n </defs>\n <g id=\"figure_1\">\n  <g id=\"patch_1\">\n   <path d=\"M 0 248.518125 \nL 372.103125 248.518125 \nL 372.103125 0 \nL 0 0 \nz\n\" style=\"fill:none;\"/>\n  </g>\n  <g id=\"axes_1\">\n   <g id=\"patch_2\">\n    <path d=\"M 30.103125 224.64 \nL 364.903125 224.64 \nL 364.903125 7.2 \nL 30.103125 7.2 \nz\n\" style=\"fill:#ffffff;\"/>\n   </g>\n   <g id=\"matplotlib.axis_1\">\n    <g id=\"xtick_1\">\n     <g id=\"line2d_1\">\n      <defs>\n       <path d=\"M 0 0 \nL 0 3.5 \n\" id=\"m0eb5872681\" style=\"stroke:#000000;stroke-width:0.8;\"/>\n      </defs>\n      <g>\n       <use style=\"stroke:#000000;stroke-width:0.8;\" x=\"45.321307\" xlink:href=\"#m0eb5872681\" y=\"224.64\"/>\n      </g>\n     </g>\n     <g id=\"text_1\">\n      <!-- 0.0 -->\n      <g transform=\"translate(37.369744 239.238437)scale(0.1 -0.1)\">\n       <defs>\n        <path d=\"M 31.78125 66.40625 \nQ 24.171875 66.40625 20.328125 58.90625 \nQ 16.5 51.421875 16.5 36.375 \nQ 16.5 21.390625 20.328125 13.890625 \nQ 24.171875 6.390625 31.78125 6.390625 \nQ 39.453125 6.390625 43.28125 13.890625 \nQ 47.125 21.390625 47.125 36.375 \nQ 47.125 51.421875 43.28125 58.90625 \nQ 39.453125 66.40625 31.78125 66.40625 \nz\nM 31.78125 74.21875 \nQ 44.046875 74.21875 50.515625 64.515625 \nQ 56.984375 54.828125 56.984375 36.375 \nQ 56.984375 17.96875 50.515625 8.265625 \nQ 44.046875 -1.421875 31.78125 -1.421875 \nQ 19.53125 -1.421875 13.0625 8.265625 \nQ 6.59375 17.96875 6.59375 36.375 \nQ 6.59375 54.828125 13.0625 64.515625 \nQ 19.53125 74.21875 31.78125 74.21875 \nz\n\" id=\"DejaVuSans-48\"/>\n        <path d=\"M 10.6875 12.40625 \nL 21 12.40625 \nL 21 0 \nL 10.6875 0 \nz\n\" id=\"DejaVuSans-46\"/>\n       </defs>\n       <use xlink:href=\"#DejaVuSans-48\"/>\n       <use x=\"63.623047\" xlink:href=\"#DejaVuSans-46\"/>\n       <use x=\"95.410156\" xlink:href=\"#DejaVuSans-48\"/>\n      </g>\n     </g>\n    </g>\n    <g id=\"xtick_2\">\n     <g id=\"line2d_2\">\n      <g>\n       <use style=\"stroke:#000000;stroke-width:0.8;\" x=\"106.194034\" xlink:href=\"#m0eb5872681\" y=\"224.64\"/>\n      </g>\n     </g>\n     <g id=\"text_2\">\n      <!-- 0.2 -->\n      <g transform=\"translate(98.242472 239.238437)scale(0.1 -0.1)\">\n       <defs>\n        <path d=\"M 19.1875 8.296875 \nL 53.609375 8.296875 \nL 53.609375 0 \nL 7.328125 0 \nL 7.328125 8.296875 \nQ 12.9375 14.109375 22.625 23.890625 \nQ 32.328125 33.6875 34.8125 36.53125 \nQ 39.546875 41.84375 41.421875 45.53125 \nQ 43.3125 49.21875 43.3125 52.78125 \nQ 43.3125 58.59375 39.234375 62.25 \nQ 35.15625 65.921875 28.609375 65.921875 \nQ 23.96875 65.921875 18.8125 64.3125 \nQ 13.671875 62.703125 7.8125 59.421875 \nL 7.8125 69.390625 \nQ 13.765625 71.78125 18.9375 73 \nQ 24.125 74.21875 28.421875 74.21875 \nQ 39.75 74.21875 46.484375 68.546875 \nQ 53.21875 62.890625 53.21875 53.421875 \nQ 53.21875 48.921875 51.53125 44.890625 \nQ 49.859375 40.875 45.40625 35.40625 \nQ 44.1875 33.984375 37.640625 27.21875 \nQ 31.109375 20.453125 19.1875 8.296875 \nz\n\" id=\"DejaVuSans-50\"/>\n       </defs>\n       <use xlink:href=\"#DejaVuSans-48\"/>\n       <use x=\"63.623047\" xlink:href=\"#DejaVuSans-46\"/>\n       <use x=\"95.410156\" xlink:href=\"#DejaVuSans-50\"/>\n      </g>\n     </g>\n    </g>\n    <g id=\"xtick_3\">\n     <g id=\"line2d_3\">\n      <g>\n       <use style=\"stroke:#000000;stroke-width:0.8;\" x=\"167.066761\" xlink:href=\"#m0eb5872681\" y=\"224.64\"/>\n      </g>\n     </g>\n     <g id=\"text_3\">\n      <!-- 0.4 -->\n      <g transform=\"translate(159.115199 239.238437)scale(0.1 -0.1)\">\n       <defs>\n        <path d=\"M 37.796875 64.3125 \nL 12.890625 25.390625 \nL 37.796875 25.390625 \nz\nM 35.203125 72.90625 \nL 47.609375 72.90625 \nL 47.609375 25.390625 \nL 58.015625 25.390625 \nL 58.015625 17.1875 \nL 47.609375 17.1875 \nL 47.609375 0 \nL 37.796875 0 \nL 37.796875 17.1875 \nL 4.890625 17.1875 \nL 4.890625 26.703125 \nz\n\" id=\"DejaVuSans-52\"/>\n       </defs>\n       <use xlink:href=\"#DejaVuSans-48\"/>\n       <use x=\"63.623047\" xlink:href=\"#DejaVuSans-46\"/>\n       <use x=\"95.410156\" xlink:href=\"#DejaVuSans-52\"/>\n      </g>\n     </g>\n    </g>\n    <g id=\"xtick_4\">\n     <g id=\"line2d_4\">\n      <g>\n       <use style=\"stroke:#000000;stroke-width:0.8;\" x=\"227.939489\" xlink:href=\"#m0eb5872681\" y=\"224.64\"/>\n      </g>\n     </g>\n     <g id=\"text_4\">\n      <!-- 0.6 -->\n      <g transform=\"translate(219.987926 239.238437)scale(0.1 -0.1)\">\n       <defs>\n        <path d=\"M 33.015625 40.375 \nQ 26.375 40.375 22.484375 35.828125 \nQ 18.609375 31.296875 18.609375 23.390625 \nQ 18.609375 15.53125 22.484375 10.953125 \nQ 26.375 6.390625 33.015625 6.390625 \nQ 39.65625 6.390625 43.53125 10.953125 \nQ 47.40625 15.53125 47.40625 23.390625 \nQ 47.40625 31.296875 43.53125 35.828125 \nQ 39.65625 40.375 33.015625 40.375 \nz\nM 52.59375 71.296875 \nL 52.59375 62.3125 \nQ 48.875 64.0625 45.09375 64.984375 \nQ 41.3125 65.921875 37.59375 65.921875 \nQ 27.828125 65.921875 22.671875 59.328125 \nQ 17.53125 52.734375 16.796875 39.40625 \nQ 19.671875 43.65625 24.015625 45.921875 \nQ 28.375 48.1875 33.59375 48.1875 \nQ 44.578125 48.1875 50.953125 41.515625 \nQ 57.328125 34.859375 57.328125 23.390625 \nQ 57.328125 12.15625 50.6875 5.359375 \nQ 44.046875 -1.421875 33.015625 -1.421875 \nQ 20.359375 -1.421875 13.671875 8.265625 \nQ 6.984375 17.96875 6.984375 36.375 \nQ 6.984375 53.65625 15.1875 63.9375 \nQ 23.390625 74.21875 37.203125 74.21875 \nQ 40.921875 74.21875 44.703125 73.484375 \nQ 48.484375 72.75 52.59375 71.296875 \nz\n\" id=\"DejaVuSans-54\"/>\n       </defs>\n       <use xlink:href=\"#DejaVuSans-48\"/>\n       <use x=\"63.623047\" xlink:href=\"#DejaVuSans-46\"/>\n       <use x=\"95.410156\" xlink:href=\"#DejaVuSans-54\"/>\n      </g>\n     </g>\n    </g>\n    <g id=\"xtick_5\">\n     <g id=\"line2d_5\">\n      <g>\n       <use style=\"stroke:#000000;stroke-width:0.8;\" x=\"288.812216\" xlink:href=\"#m0eb5872681\" y=\"224.64\"/>\n      </g>\n     </g>\n     <g id=\"text_5\">\n      <!-- 0.8 -->\n      <g transform=\"translate(280.860653 239.238437)scale(0.1 -0.1)\">\n       <defs>\n        <path d=\"M 31.78125 34.625 \nQ 24.75 34.625 20.71875 30.859375 \nQ 16.703125 27.09375 16.703125 20.515625 \nQ 16.703125 13.921875 20.71875 10.15625 \nQ 24.75 6.390625 31.78125 6.390625 \nQ 38.8125 6.390625 42.859375 10.171875 \nQ 46.921875 13.96875 46.921875 20.515625 \nQ 46.921875 27.09375 42.890625 30.859375 \nQ 38.875 34.625 31.78125 34.625 \nz\nM 21.921875 38.8125 \nQ 15.578125 40.375 12.03125 44.71875 \nQ 8.5 49.078125 8.5 55.328125 \nQ 8.5 64.0625 14.71875 69.140625 \nQ 20.953125 74.21875 31.78125 74.21875 \nQ 42.671875 74.21875 48.875 69.140625 \nQ 55.078125 64.0625 55.078125 55.328125 \nQ 55.078125 49.078125 51.53125 44.71875 \nQ 48 40.375 41.703125 38.8125 \nQ 48.828125 37.15625 52.796875 32.3125 \nQ 56.78125 27.484375 56.78125 20.515625 \nQ 56.78125 9.90625 50.3125 4.234375 \nQ 43.84375 -1.421875 31.78125 -1.421875 \nQ 19.734375 -1.421875 13.25 4.234375 \nQ 6.78125 9.90625 6.78125 20.515625 \nQ 6.78125 27.484375 10.78125 32.3125 \nQ 14.796875 37.15625 21.921875 38.8125 \nz\nM 18.3125 54.390625 \nQ 18.3125 48.734375 21.84375 45.5625 \nQ 25.390625 42.390625 31.78125 42.390625 \nQ 38.140625 42.390625 41.71875 45.5625 \nQ 45.3125 48.734375 45.3125 54.390625 \nQ 45.3125 60.0625 41.71875 63.234375 \nQ 38.140625 66.40625 31.78125 66.40625 \nQ 25.390625 66.40625 21.84375 63.234375 \nQ 18.3125 60.0625 18.3125 54.390625 \nz\n\" id=\"DejaVuSans-56\"/>\n       </defs>\n       <use xlink:href=\"#DejaVuSans-48\"/>\n       <use x=\"63.623047\" xlink:href=\"#DejaVuSans-46\"/>\n       <use x=\"95.410156\" xlink:href=\"#DejaVuSans-56\"/>\n      </g>\n     </g>\n    </g>\n    <g id=\"xtick_6\">\n     <g id=\"line2d_6\">\n      <g>\n       <use style=\"stroke:#000000;stroke-width:0.8;\" x=\"349.684943\" xlink:href=\"#m0eb5872681\" y=\"224.64\"/>\n      </g>\n     </g>\n     <g id=\"text_6\">\n      <!-- 1.0 -->\n      <g transform=\"translate(341.733381 239.238437)scale(0.1 -0.1)\">\n       <defs>\n        <path d=\"M 12.40625 8.296875 \nL 28.515625 8.296875 \nL 28.515625 63.921875 \nL 10.984375 60.40625 \nL 10.984375 69.390625 \nL 28.421875 72.90625 \nL 38.28125 72.90625 \nL 38.28125 8.296875 \nL 54.390625 8.296875 \nL 54.390625 0 \nL 12.40625 0 \nz\n\" id=\"DejaVuSans-49\"/>\n       </defs>\n       <use xlink:href=\"#DejaVuSans-49\"/>\n       <use x=\"63.623047\" xlink:href=\"#DejaVuSans-46\"/>\n       <use x=\"95.410156\" xlink:href=\"#DejaVuSans-48\"/>\n      </g>\n     </g>\n    </g>\n   </g>\n   <g id=\"matplotlib.axis_2\">\n    <g id=\"ytick_1\">\n     <g id=\"line2d_7\">\n      <defs>\n       <path d=\"M 0 0 \nL -3.5 0 \n\" id=\"m92dae9ed1f\" style=\"stroke:#000000;stroke-width:0.8;\"/>\n      </defs>\n      <g>\n       <use style=\"stroke:#000000;stroke-width:0.8;\" x=\"30.103125\" xlink:href=\"#m92dae9ed1f\" y=\"214.756364\"/>\n      </g>\n     </g>\n     <g id=\"text_7\">\n      <!-- 0.0 -->\n      <g transform=\"translate(7.2 218.555582)scale(0.1 -0.1)\">\n       <use xlink:href=\"#DejaVuSans-48\"/>\n       <use x=\"63.623047\" xlink:href=\"#DejaVuSans-46\"/>\n       <use x=\"95.410156\" xlink:href=\"#DejaVuSans-48\"/>\n      </g>\n     </g>\n    </g>\n    <g id=\"ytick_2\">\n     <g id=\"line2d_8\">\n      <g>\n       <use style=\"stroke:#000000;stroke-width:0.8;\" x=\"30.103125\" xlink:href=\"#m92dae9ed1f\" y=\"167.773703\"/>\n      </g>\n     </g>\n     <g id=\"text_8\">\n      <!-- 0.2 -->\n      <g transform=\"translate(7.2 171.572922)scale(0.1 -0.1)\">\n       <use xlink:href=\"#DejaVuSans-48\"/>\n       <use x=\"63.623047\" xlink:href=\"#DejaVuSans-46\"/>\n       <use x=\"95.410156\" xlink:href=\"#DejaVuSans-50\"/>\n      </g>\n     </g>\n    </g>\n    <g id=\"ytick_3\">\n     <g id=\"line2d_9\">\n      <g>\n       <use style=\"stroke:#000000;stroke-width:0.8;\" x=\"30.103125\" xlink:href=\"#m92dae9ed1f\" y=\"120.791043\"/>\n      </g>\n     </g>\n     <g id=\"text_9\">\n      <!-- 0.4 -->\n      <g transform=\"translate(7.2 124.590262)scale(0.1 -0.1)\">\n       <use xlink:href=\"#DejaVuSans-48\"/>\n       <use x=\"63.623047\" xlink:href=\"#DejaVuSans-46\"/>\n       <use x=\"95.410156\" xlink:href=\"#DejaVuSans-52\"/>\n      </g>\n     </g>\n    </g>\n    <g id=\"ytick_4\">\n     <g id=\"line2d_10\">\n      <g>\n       <use style=\"stroke:#000000;stroke-width:0.8;\" x=\"30.103125\" xlink:href=\"#m92dae9ed1f\" y=\"73.808383\"/>\n      </g>\n     </g>\n     <g id=\"text_10\">\n      <!-- 0.6 -->\n      <g transform=\"translate(7.2 77.607601)scale(0.1 -0.1)\">\n       <use xlink:href=\"#DejaVuSans-48\"/>\n       <use x=\"63.623047\" xlink:href=\"#DejaVuSans-46\"/>\n       <use x=\"95.410156\" xlink:href=\"#DejaVuSans-54\"/>\n      </g>\n     </g>\n    </g>\n    <g id=\"ytick_5\">\n     <g id=\"line2d_11\">\n      <g>\n       <use style=\"stroke:#000000;stroke-width:0.8;\" x=\"30.103125\" xlink:href=\"#m92dae9ed1f\" y=\"26.825722\"/>\n      </g>\n     </g>\n     <g id=\"text_11\">\n      <!-- 0.8 -->\n      <g transform=\"translate(7.2 30.624941)scale(0.1 -0.1)\">\n       <use xlink:href=\"#DejaVuSans-48\"/>\n       <use x=\"63.623047\" xlink:href=\"#DejaVuSans-46\"/>\n       <use x=\"95.410156\" xlink:href=\"#DejaVuSans-56\"/>\n      </g>\n     </g>\n    </g>\n   </g>\n   <g id=\"line2d_12\">\n    <path clip-path=\"url(#p6da2068dd2)\" d=\"M 45.321307 214.756364 \nL 48.395687 212.383542 \nL 51.470067 210.010963 \nL 54.544447 207.638868 \nL 57.618827 205.267499 \nL 60.693208 202.897099 \nL 63.767588 200.527908 \nL 66.841968 198.160169 \nL 69.916348 195.794123 \nL 72.990728 193.430012 \nL 76.065108 191.068077 \nL 79.139489 188.708559 \nL 82.213869 186.351699 \nL 85.288249 183.997736 \nL 88.362629 181.646912 \nL 91.437009 179.299466 \nL 94.511389 176.955638 \nL 97.58577 174.615667 \nL 100.66015 172.279791 \nL 103.73453 169.948249 \nL 106.80891 167.621278 \nL 109.88329 165.299117 \nL 112.95767 162.982002 \nL 116.032051 160.670169 \nL 119.106431 158.363855 \nL 122.180811 156.063295 \nL 125.255191 153.768723 \nL 128.329571 151.480373 \nL 131.403951 149.19848 \nL 134.478332 146.923275 \nL 137.552712 144.654992 \nL 140.627092 142.39386 \nL 143.701472 140.140112 \nL 146.775852 137.893977 \nL 149.850232 135.655684 \nL 152.924613 133.425462 \nL 155.998993 131.203538 \nL 159.073373 128.990139 \nL 162.147753 126.78549 \nL 165.222133 124.589817 \nL 168.296513 122.403344 \nL 171.370894 120.226294 \nL 174.445274 118.058888 \nL 177.519654 115.901348 \nL 180.594034 113.753895 \nL 183.668414 111.616746 \nL 186.742794 109.490121 \nL 189.817175 107.374237 \nL 192.891555 105.269308 \nL 195.965935 103.17555 \nL 199.040315 101.093177 \nL 202.114695 99.022401 \nL 205.189075 96.963433 \nL 208.263456 94.916484 \nL 211.337836 92.881762 \nL 214.412216 90.859474 \nL 217.486596 88.849828 \nL 220.560976 86.853028 \nL 223.635356 84.869277 \nL 226.709737 82.898779 \nL 229.784117 80.941735 \nL 232.858497 78.998343 \nL 235.932877 77.068803 \nL 239.007257 75.153311 \nL 242.081637 73.252063 \nL 245.156018 71.365252 \nL 248.230398 69.493072 \nL 251.304778 67.635712 \nL 254.379158 65.793363 \nL 257.453538 63.966213 \nL 260.527918 62.154448 \nL 263.602299 60.358253 \nL 266.676679 58.577811 \nL 269.751059 56.813304 \nL 272.825439 55.064911 \nL 275.899819 53.332812 \nL 278.974199 51.617183 \nL 282.04858 49.918199 \nL 285.12296 48.236033 \nL 288.19734 46.570857 \nL 291.27172 44.922841 \nL 294.3461 43.292154 \nL 297.42048 41.67896 \nL 300.494861 40.083426 \nL 303.569241 38.505713 \nL 306.643621 36.945983 \nL 309.718001 35.404395 \nL 312.792381 33.881106 \nL 315.866761 32.376272 \nL 318.941142 30.890046 \nL 322.015522 29.42258 \nL 325.089902 27.974023 \nL 328.164282 26.544524 \nL 331.238662 25.134228 \nL 334.313042 23.743279 \nL 337.387423 22.371819 \nL 340.461803 21.019987 \nL 343.536183 19.687923 \nL 346.610563 18.375761 \nL 349.684943 17.083636 \n\" style=\"fill:none;stroke:#1f77b4;stroke-linecap:square;stroke-width:1.5;\"/>\n   </g>\n   <g id=\"patch_3\">\n    <path d=\"M 30.103125 224.64 \nL 30.103125 7.2 \n\" style=\"fill:none;stroke:#000000;stroke-linecap:square;stroke-linejoin:miter;stroke-width:0.8;\"/>\n   </g>\n   <g id=\"patch_4\">\n    <path d=\"M 364.903125 224.64 \nL 364.903125 7.2 \n\" style=\"fill:none;stroke:#000000;stroke-linecap:square;stroke-linejoin:miter;stroke-width:0.8;\"/>\n   </g>\n   <g id=\"patch_5\">\n    <path d=\"M 30.103125 224.64 \nL 364.903125 224.64 \n\" style=\"fill:none;stroke:#000000;stroke-linecap:square;stroke-linejoin:miter;stroke-width:0.8;\"/>\n   </g>\n   <g id=\"patch_6\">\n    <path d=\"M 30.103125 7.2 \nL 364.903125 7.2 \n\" style=\"fill:none;stroke:#000000;stroke-linecap:square;stroke-linejoin:miter;stroke-width:0.8;\"/>\n   </g>\n  </g>\n </g>\n <defs>\n  <clipPath id=\"p6da2068dd2\">\n   <rect height=\"217.44\" width=\"334.8\" x=\"30.103125\" y=\"7.2\"/>\n  </clipPath>\n </defs>\n</svg>\n",
      "text/plain": [
       "<Figure size 432x288 with 1 Axes>"
      ]
     },
     "metadata": {
      "needs_background": "light"
     },
     "output_type": "display_data"
    }
   ],
   "source": [
    "x=np.linspace(0,1,100)\n",
    "plt.plot(x,np.sin(x))"
   ]
  },
  {
   "cell_type": "code",
   "execution_count": 38,
   "metadata": {},
   "outputs": [
    {
     "name": "stdout",
     "output_type": "stream",
     "text": [
      "3.5\n"
     ]
    },
    {
     "data": {
      "text/plain": [
       "2.5000000000000004"
      ]
     },
     "execution_count": 38,
     "metadata": {},
     "output_type": "execute_result"
    }
   ],
   "source": [
    "vmm=1\n",
    "vm=2\n",
    "v=3\n",
    "vp=4\n",
    "vpp=5\n",
    "\n",
    "# Polynomials\n",
    "p0n = (2*vmm - 7*vm + 11*v)/6\n",
    "p1n = ( -vm  + 5*v  + 2*vp)/6\n",
    "p2n = (2*v   + 5*vp - vpp )/6\n",
    "\n",
    "B0n = 13/12*(vmm-2*vm+v  )**2 + 1/4*(vmm-4*vm+3*v)**2\n",
    "B1n = 13/12*(vm -2*v +vp )**2 + 1/4*(vm-vp)**2\n",
    "B2n = 13/12*(v  -2*vp+vpp)**2 + 1/4*(3*v-4*vp+vpp)**2\n",
    "\n",
    "# Constants\n",
    "d0n = 1/10\n",
    "d1n = 6/10\n",
    "d2n = 3/10\n",
    "epsilon = 1e-6\n",
    "\n",
    "# Alpha weights \n",
    "alpha0n = d0n/(epsilon + B0n)**2\n",
    "alpha1n = d1n/(epsilon + B1n)**2\n",
    "alpha2n = d2n/(epsilon + B2n)**2\n",
    "alphasumn = alpha0n + alpha1n + alpha2n\n",
    "\n",
    "# ENO stencils weigths\n",
    "w0n = alpha0n/alphasumn\n",
    "w1n = alpha1n/alphasumn\n",
    "w2n = alpha2n/alphasumn\n",
    "\n",
    "# Numerical Flux at cell boundary, $u_{i+1/2}**{-}$;\n",
    "hn = w0n*p0n + w1n*p1n + w2n*p2n\n",
    "print(hn)\n",
    "\n",
    "# %% Left Flux \n",
    "# % Choose the negative fluxes, 'u', to compute the left cell boundary flux:\n",
    "# % $u_{i-1/2}**{+}$ \n",
    "umm = vmm\n",
    "um  = vm\n",
    "u=v\n",
    "up  = vp\n",
    "upp = vpp\n",
    "\n",
    "# % Polynomials\n",
    "p0p = ( -umm + 5*um + 2*u  )/6\n",
    "p1p = ( 2*um + 5*u  - up   )/6\n",
    "p2p = (11*u  - 7*up + 2*upp)/6\n",
    "\n",
    "# % Smooth Indicators (Beta factors)\n",
    "B0p = 13/12*(umm-2*um+u  )**2 + 1/4*(umm-4*um+3*u)**2;\n",
    "B1p = 13/12*(um -2*u +up )**2 + 1/4*(um-up)**2;\n",
    "B2p = 13/12*(u  -2*up+upp)**2 + 1/4*(3*u -4*up+upp)**2;\n",
    "\n",
    "# % Constants\n",
    "d0p = 3/10; \n",
    "d1p = 6/10; \n",
    "d2p = 1/10; \n",
    "epsilon = 1e-6;\n",
    "\n",
    "# % Alpha weights \n",
    "alpha0p = d0p/(epsilon + B0p)**2;\n",
    "alpha1p = d1p/(epsilon + B1p)**2;\n",
    "alpha2p = d2p/(epsilon + B2p)**2;\n",
    "alphasump = alpha0p + alpha1p + alpha2p;\n",
    "\n",
    "# % ENO stencils weigths\n",
    "w0p = alpha0p/alphasump;\n",
    "w1p = alpha1p/alphasump;\n",
    "w2p = alpha2p/alphasump;\n",
    "\n",
    "# % Numerical Flux at cell boundary, $u_{i-1/2}**{+}$;\n",
    "hp = w0p*p0p + w1p*p1p + w2p*p2p;\n",
    "\n",
    "# %% Compute finite volume residual term, df/dx.\n",
    "# res = (hp-circshift(hp,[0,1])+hn-circshift(hn,[0,1]))/dx - S(w);\n",
    "hp"
   ]
  },
  {
   "cell_type": "code",
   "execution_count": 36,
   "metadata": {},
   "outputs": [
    {
     "data": {
      "text/plain": [
       "(2.5000000000000004, 3.5)"
      ]
     },
     "execution_count": 36,
     "metadata": {},
     "output_type": "execute_result"
    }
   ],
   "source": [
    "def WENO5_JS(vmm,vm,vo,vp,vpp):\n",
    "    # reconstruction as x_{j-1/2},x_{j+1/2}\n",
    "\n",
    "    # Smooth Indicators (Beta factors)\n",
    "    B0 = 13 / 12 * (vmm - 2 * vm + vo) ** 2 + 1 / 4 * (vmm - 4 * vm + 3 * vo) ** 2\n",
    "    B1 = 13 / 12 * (vm - 2 * vo + vp) ** 2 + 1 / 4 * (vm - vp) ** 2\n",
    "    B2 = 13 / 12 * (vo - 2 * vp + vpp) ** 2 + 1 / 4 * (3 * vo - 4 * vp + vpp) ** 2\n",
    "\n",
    "    # Constants\n",
    "    d0p = 3 / 10\n",
    "    d1p = 6 / 10\n",
    "    d2p = 1 / 10\n",
    "    epsilon = 1e-6\n",
    "\n",
    "    # Alpha weights\n",
    "    alpha0p = d0p / (epsilon + B0) ** 2\n",
    "    alpha1p = d1p / (epsilon + B1) ** 2\n",
    "    alpha2p = d2p / (epsilon + B2) ** 2\n",
    "    alphasump = alpha0p + alpha1p + alpha2p\n",
    "\n",
    "    # ENO stencils weigths\n",
    "    w0p = alpha0p / alphasump\n",
    "    w1p = alpha1p / alphasump\n",
    "    w2p = alpha2p / alphasump\n",
    "\n",
    "    # Numerical Flux at cell boundary, $u_{i+1/2}^{+}$;\n",
    "    fluxL = (\n",
    "        w0p * (-vmm + 5 * vm + 2 * vo) / 6\n",
    "        + w1p * (2 * vm + 5 * vo - vp) / 6\n",
    "        + w2p * (11 * vo - 7 * vp + 2 * vpp) / 6\n",
    "    )\n",
    "\n",
    "    d0n = 1 / 10\n",
    "    d1n = 6 / 10\n",
    "    d2n = 3 / 10\n",
    "    epsilon = 1e-6\n",
    "\n",
    "    # Alpha weights\n",
    "    alpha0n = d0n / (epsilon + B0) ** 2\n",
    "    alpha1n = d1n / (epsilon + B1) ** 2\n",
    "    alpha2n = d2n / (epsilon + B2) ** 2\n",
    "    alphasumn = alpha0n + alpha1n + alpha2n\n",
    "\n",
    "    # ENO stencils weigths\n",
    "    w0n = alpha0n / alphasumn\n",
    "    w1n = alpha1n / alphasumn\n",
    "    w2n = alpha2n / alphasumn\n",
    "\n",
    "    fluxR = (\n",
    "        w0n * (2 * vmm - 7 * vm + 11 * vo) / 6\n",
    "        + w1n * (-vm + 5 * vo + 2 * vp) / 6\n",
    "        + w2n * (2 * vo + 5 * vp - vpp) / 6\n",
    "    )\n",
    "   \n",
    "    return fluxL, fluxR\n",
    "WENO5_JS(1,2,3,4,5)"
   ]
  },
  {
   "cell_type": "code",
   "execution_count": null,
   "metadata": {},
   "outputs": [],
   "source": []
  }
 ],
 "metadata": {
  "kernelspec": {
   "display_name": "Python 3.8.0 ('pytorch171')",
   "language": "python",
   "name": "python3"
  },
  "language_info": {
   "codemirror_mode": {
    "name": "ipython",
    "version": 3
   },
   "file_extension": ".py",
   "mimetype": "text/x-python",
   "name": "python",
   "nbconvert_exporter": "python",
   "pygments_lexer": "ipython3",
   "version": "3.8.0"
  },
  "orig_nbformat": 4,
  "vscode": {
   "interpreter": {
    "hash": "505bbcb6235b807efb296c6e023bea51cdddd0a9981942d9ac840ea62dbaa5c6"
   }
  }
 },
 "nbformat": 4,
 "nbformat_minor": 2
}
