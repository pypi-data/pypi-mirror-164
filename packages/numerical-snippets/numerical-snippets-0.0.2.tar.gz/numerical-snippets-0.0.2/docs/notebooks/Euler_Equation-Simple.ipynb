{
 "cells": [
  {
   "cell_type": "markdown",
   "id": "bce1cebb",
   "metadata": {},
   "source": [
    "# Euler Equation Simple"
   ]
  },
  {
   "cell_type": "markdown",
   "id": "205723e9",
   "metadata": {},
   "source": [
    "[![Open In Colab](https://colab.research.google.com/assets/colab-badge.svg)](https://colab.research.google.com/github/li-positive-one/NumericalSnippets/docs/notebooks/Euler_Equation-Simple.ipynb)"
   ]
  },
  {
   "cell_type": "code",
   "execution_count": null,
   "id": "50d2385f",
   "metadata": {
    "ExecuteTime": {
     "end_time": "2022-08-24T14:41:29.634706Z",
     "start_time": "2022-08-24T14:41:27.797781Z"
    }
   },
   "outputs": [],
   "source": [
    "!pip install sodshock"
   ]
  },
  {
   "cell_type": "code",
   "execution_count": 2,
   "id": "3ca7bd7c",
   "metadata": {
    "ExecuteTime": {
     "end_time": "2022-08-24T14:41:30.717400Z",
     "start_time": "2022-08-24T14:41:29.638767Z"
    }
   },
   "outputs": [],
   "source": [
    "import numpy as np\n",
    "import torch\n",
    "from matplotlib import pyplot as plt\n",
    "from torch.nn import functional as F\n",
    "%matplotlib inline\n",
    "device='cuda'"
   ]
  },
  {
   "cell_type": "markdown",
   "id": "67f415c9",
   "metadata": {},
   "source": [
    "Euler Equation:\n",
    "\n",
    "$$\n",
    "\\begin{split}\\rho_t + (\\rho u)_x & = 0 \\\\\n",
    "(\\rho u)_t + (\\rho u^2 + p)_x & = 0 \\\\\n",
    "E_t + (u (E + p) )_x & = 0.\\end{split}\n",
    "$$\n",
    "\n",
    "relationship of primitives and conservations:\n",
    "\n",
    "\n",
    "$$\n",
    "E=\\frac{p}{\\gamma-1}+\\frac{1}{2}\\rho u^2 \n",
    "$$\n",
    "\n",
    "or\n",
    "\n",
    "$$\n",
    "p=\\rho(\\gamma-1)e=(\\gamma-1)(E-\\frac{1}{2}\\rho u^2)\n",
    "$$"
   ]
  },
  {
   "cell_type": "code",
   "execution_count": 3,
   "id": "a2872a23",
   "metadata": {
    "ExecuteTime": {
     "end_time": "2022-08-24T14:41:30.724917Z",
     "start_time": "2022-08-24T14:41:30.719686Z"
    }
   },
   "outputs": [],
   "source": [
    "def P2C(rho, u, p, gamma=1.4):\n",
    "    return rho, rho*u, p/(gamma-1)+0.5*rho*u**2\n",
    "\n",
    "def C2P(rho, mu, E, gamma=1.4):\n",
    "    return rho,mu/rho,(gamma-1)*(E-0.5*mu**2/rho)\n",
    "\n",
    "def eulerflux(F, gamma=1.4):\n",
    "    rho=F[...,0]\n",
    "    u=F[...,1]/rho\n",
    "    E=F[...,2]\n",
    "    p=(gamma-1)*(E-0.5*rho*u*u)\n",
    "    flux = torch.stack([rho*u,rho*u**2+p,u*(E+p)],-1)\n",
    "    return flux\n",
    "\n",
    "def soundspeed(rho,p,gamma=1.4):\n",
    "    return (gamma*p/rho)**0.5"
   ]
  },
  {
   "cell_type": "markdown",
   "id": "46369fc0",
   "metadata": {},
   "source": [
    "### Sodtube Problem\n",
    "\n",
    "The Sod shock tube is a Riemann problem used as a standard test problem in computational hydrodynamics.\n",
    "\n",
    "reference:\n",
    "\n",
    "https://astrodoo.github.io/pyds_manual/SodShockTube.html\n",
    "\n",
    "https://github.com/ibackus/sod-shocktube\n"
   ]
  },
  {
   "cell_type": "code",
   "execution_count": 4,
   "id": "cd18871f",
   "metadata": {
    "ExecuteTime": {
     "end_time": "2022-08-24T14:41:30.775419Z",
     "start_time": "2022-08-24T14:41:30.728330Z"
    }
   },
   "outputs": [],
   "source": [
    "import numpy as np\n",
    "rho = np.array([1.0, 0.125])\n",
    "u   = np.array([0.0, 0.0])\n",
    "p   = np.array([1.0, 0.1])\n",
    "gamma=1.4\n",
    "_,mu,E=P2C(rho, u, p, gamma=gamma)\n",
    "\n",
    "Nx=1000\n",
    "f0=np.zeros((1,Nx,3))\n",
    "f0[:,:Nx//2,0]=rho[0]\n",
    "f0[:,:Nx//2,1]=mu[0]\n",
    "f0[:,:Nx//2,2]=E[0]\n",
    "f0[:,Nx//2:,0]=rho[1]\n",
    "f0[:,Nx//2:,1]=mu[1]\n",
    "f0[:,Nx//2:,2]=E[1]"
   ]
  },
  {
   "cell_type": "code",
   "execution_count": 5,
   "id": "6c60e437",
   "metadata": {
    "ExecuteTime": {
     "end_time": "2022-08-24T14:41:30.785495Z",
     "start_time": "2022-08-24T14:41:30.778685Z"
    }
   },
   "outputs": [],
   "source": [
    "def Riemann_LF(F,hn,hp,a):\n",
    "    return 0.5*(F(hn)+F(hp)-torch.abs(a)*(hp-hn))\n",
    "    \n",
    "def pad_constant(q):\n",
    "    qpad=F.pad(q.unsqueeze(0),[0,0,1,1],mode='replicate').squeeze(0)\n",
    "    return qpad"
   ]
  },
  {
   "cell_type": "code",
   "execution_count": 6,
   "id": "b889b203",
   "metadata": {
    "ExecuteTime": {
     "end_time": "2022-08-24T14:41:33.822533Z",
     "start_time": "2022-08-24T14:41:30.788221Z"
    }
   },
   "outputs": [
    {
     "name": "stdout",
     "output_type": "stream",
     "text": [
      "CPU times: user 1.91 s, sys: 1.11 s, total: 3.03 s\n",
      "Wall time: 3.02 s\n"
     ]
    }
   ],
   "source": [
    "%%time\n",
    "t=0\n",
    "q=torch.from_numpy(f0).to(device=device)\n",
    "CFL=0.9\n",
    "dx=1/Nx\n",
    "gamma=1.4\n",
    "while t<0.2:\n",
    "    qpad = pad_constant(q)\n",
    "    rho,mu,E = qpad[...,0],qpad[...,1],qpad[...,2]\n",
    "    u=mu/rho\n",
    "    p=(gamma-1)*(E-0.5*rho*u**2)\n",
    "    a0 = (soundspeed(rho,p,gamma)+u.abs()).max()\n",
    "    dt= CFL * dx / a0\n",
    "    f = Riemann_LF(lambda x:eulerflux(x,gamma=gamma),qpad[:,:-1,:],qpad[:,1:,:],a0)\n",
    "    flux= (f[:,:-1,:]-f[:,1:,:])/dx\n",
    "    q = q+flux*dt\n",
    "    t = t+dt\n",
    "q=q.cpu().numpy()\n",
    "rho, u, p=C2P(q[0,...,0],q[0,...,1],q[0,...,2],gamma=1.4)"
   ]
  },
  {
   "cell_type": "code",
   "execution_count": 7,
   "id": "41e13550",
   "metadata": {
    "ExecuteTime": {
     "end_time": "2022-08-24T14:41:34.139588Z",
     "start_time": "2022-08-24T14:41:33.823960Z"
    }
   },
   "outputs": [
    {
     "data": {
      "text/plain": [
       "<matplotlib.legend.Legend at 0x7f1f7db09850>"
      ]
     },
     "execution_count": 7,
     "metadata": {},
     "output_type": "execute_result"
    },
    {
     "data": {
      "image/png": "[encoded data removed]",
      "text/plain": [
       "<Figure size 432x288 with 1 Axes>"
      ]
     },
     "metadata": {
      "needs_background": "light"
     },
     "output_type": "display_data"
    }
   ],
   "source": [
    "plt.plot(np.linspace(0,1,1000),rho,label='rho')\n",
    "plt.plot(np.linspace(0,1,1000),u,label='u')\n",
    "plt.plot(np.linspace(0,1,1000),p,label='p')\n",
    "\n",
    "import sodshock\n",
    "\n",
    "gamma = 1.4\n",
    "dustFrac = 0.0\n",
    "npts = 500\n",
    "t = 0.2\n",
    "left_state = (1,1,0)\n",
    "right_state = (0.1, 0.125, 0.)\n",
    "\n",
    "positions, regions, values = sodshock.solve(left_state=left_state, \\\n",
    "    right_state=right_state, geometry=(0., 1., 0.5), t=t, \n",
    "    gamma=gamma, npts=npts, dustFrac=dustFrac)\n",
    "\n",
    "plt.plot(values['x'], values['rho'], \"--\",label='rho-analytical')\n",
    "plt.plot(values['x'], values['u'], \"--\",label='u-analytical')\n",
    "plt.plot(values['x'], values['p'], \"--\",label='p-analytical')\n",
    "plt.legend()"
   ]
  }
 ],
 "metadata": {
  "kernelspec": {
   "display_name": "Python 3.8.0 ('pytorch171')",
   "language": "python",
   "name": "python3"
  },
  "language_info": {
   "codemirror_mode": {
    "name": "ipython",
    "version": 3
   },
   "file_extension": ".py",
   "mimetype": "text/x-python",
   "name": "python",
   "nbconvert_exporter": "python",
   "pygments_lexer": "ipython3",
   "version": "3.8.0"
  },
  "vscode": {
   "interpreter": {
    "hash": "505bbcb6235b807efb296c6e023bea51cdddd0a9981942d9ac840ea62dbaa5c6"
   }
  }
 },
 "nbformat": 4,
 "nbformat_minor": 5
}
