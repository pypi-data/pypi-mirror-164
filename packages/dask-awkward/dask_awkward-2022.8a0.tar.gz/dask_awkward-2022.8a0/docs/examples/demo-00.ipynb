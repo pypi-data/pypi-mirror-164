{
 "cells": [
  {
   "cell_type": "markdown",
   "id": "9b67ab3e",
   "metadata": {},
   "source": [
    "# dask-awkward Proof-of-Concept: October 2021\n",
    "\n",
    "**_This notebook is using a very alpha version of dask-awkward; this is not a stable notebook! The features shown are also not fully tested._**"
   ]
  },
  {
   "cell_type": "code",
   "execution_count": null,
   "id": "aaf364fa",
   "metadata": {},
   "outputs": [],
   "source": [
    "import awkward as ak\n",
    "import dask_awkward as dak\n",
    "import dask_awkward.data"
   ]
  },
  {
   "cell_type": "markdown",
   "id": "c6b6df8c",
   "metadata": {},
   "source": [
    "## I/O\n",
    "\n",
    "So far we've implemented two very simple readers: JSON and Parquet. The JSON reader partitions the data such that each file or string in a list of sources will be a chunk/partition of the complete `Array` collection. The parquet reader can partition via a user provided `row_groups` argument or by using a list of files. For this small demo we'll use the JSON reader."
   ]
  },
  {
   "cell_type": "markdown",
   "id": "a0767da7",
   "metadata": {},
   "source": [
    "We've created a simple `dask_awkward.data` module to provide some simple JSON data for testing/demoing:"
   ]
  },
  {
   "cell_type": "code",
   "execution_count": null,
   "id": "706cd8ee",
   "metadata": {},
   "outputs": [],
   "source": [
    "data = dask_awkward.data.json_data(\"numbers\")\n",
    "len(data)  # 3 JSON formatted strings"
   ]
  },
  {
   "cell_type": "code",
   "execution_count": null,
   "id": "275a8e4c",
   "metadata": {},
   "outputs": [],
   "source": [
    "# This function is designed to be the dask version of ak.from_json\n",
    "daa = dak.from_json(data)"
   ]
  },
  {
   "cell_type": "markdown",
   "id": "f1620ebc",
   "metadata": {},
   "source": [
    "The `daa` variable will be our Dask awkward array."
   ]
  },
  {
   "cell_type": "code",
   "execution_count": null,
   "id": "4586b10c",
   "metadata": {},
   "outputs": [],
   "source": [
    "# provides a Array collection\n",
    "daa"
   ]
  },
  {
   "cell_type": "code",
   "execution_count": null,
   "id": "de6c37ac",
   "metadata": {},
   "outputs": [],
   "source": [
    "daa.visualize()"
   ]
  },
  {
   "cell_type": "code",
   "execution_count": null,
   "id": "3e9eaadc",
   "metadata": {},
   "outputs": [],
   "source": [
    "# Sanity check; let's compare to the concrete awkward array version\n",
    "a0 = ak.from_json(data[0])\n",
    "a1 = ak.from_json(data[1])\n",
    "a2 = ak.from_json(data[2])"
   ]
  },
  {
   "cell_type": "code",
   "execution_count": null,
   "id": "6829a9b7",
   "metadata": {
    "scrolled": true
   },
   "outputs": [],
   "source": [
    "ak.all(ak.concatenate([a0, a1, a2]) == daa.compute())"
   ]
  },
  {
   "cell_type": "markdown",
   "id": "b2c1ba10",
   "metadata": {},
   "source": [
    "The `caa` variable will be our concrete awkward array"
   ]
  },
  {
   "cell_type": "code",
   "execution_count": null,
   "id": "94295b86",
   "metadata": {},
   "outputs": [],
   "source": [
    "caa = ak.concatenate([a0, a1, a2])"
   ]
  },
  {
   "cell_type": "code",
   "execution_count": null,
   "id": "f9502cf1",
   "metadata": {},
   "outputs": [],
   "source": [
    "ak.min(caa)"
   ]
  },
  {
   "cell_type": "code",
   "execution_count": null,
   "id": "f862a3cf",
   "metadata": {},
   "outputs": [],
   "source": [
    "dak.min(daa)"
   ]
  },
  {
   "cell_type": "markdown",
   "id": "9c3dd4e2",
   "metadata": {},
   "source": [
    "We currently have very minimal metadata support; in the case where `axis=None` is passed to `dak.min`, we know the result will be a scalar. We can see the constructed task graph:"
   ]
  },
  {
   "cell_type": "code",
   "execution_count": null,
   "id": "53489d37",
   "metadata": {},
   "outputs": [],
   "source": [
    "dak.min(daa).visualize()"
   ]
  },
  {
   "cell_type": "code",
   "execution_count": null,
   "id": "ccc55e6e",
   "metadata": {},
   "outputs": [],
   "source": [
    "dak.min(daa).compute()"
   ]
  },
  {
   "cell_type": "markdown",
   "id": "bb3308bd",
   "metadata": {},
   "source": [
    "Now with an axis argument (fewer steps in the graph!):"
   ]
  },
  {
   "cell_type": "code",
   "execution_count": null,
   "id": "431a69c8",
   "metadata": {},
   "outputs": [],
   "source": [
    "dak.min(daa, axis=1).visualize()"
   ]
  },
  {
   "cell_type": "code",
   "execution_count": null,
   "id": "9049f91c",
   "metadata": {},
   "outputs": [],
   "source": [
    "dak.min(daa, axis=1).compute()"
   ]
  },
  {
   "cell_type": "code",
   "execution_count": null,
   "id": "0b816130",
   "metadata": {},
   "outputs": [],
   "source": [
    "ak.all(ak.min(caa, axis=1) == dak.min(daa, axis=1).compute())"
   ]
  },
  {
   "cell_type": "markdown",
   "id": "679ea841",
   "metadata": {},
   "source": [
    "Now we'll look at some data with labels; the data is structured such that each element has an `analysis` record; where inside we have `x{1,2}`, `y{1,2}`, `z{1,2}`, `t{1,2}` records with random different lengths. We'll use this to showcase the attribute access functionality."
   ]
  },
  {
   "cell_type": "code",
   "execution_count": null,
   "id": "fdabd335",
   "metadata": {},
   "outputs": [],
   "source": [
    "daa = dak.from_json(dask_awkward.data.json_data(kind=\"records\"))"
   ]
  },
  {
   "cell_type": "code",
   "execution_count": null,
   "id": "fddb2609",
   "metadata": {},
   "outputs": [],
   "source": [
    "daa"
   ]
  },
  {
   "cell_type": "code",
   "execution_count": null,
   "id": "7ad56cd3",
   "metadata": {},
   "outputs": [],
   "source": [
    "daa.compute().to_list()"
   ]
  },
  {
   "cell_type": "markdown",
   "id": "1a162744",
   "metadata": {},
   "source": [
    "Let's define a function that squares the input:"
   ]
  },
  {
   "cell_type": "code",
   "execution_count": null,
   "id": "ec856b78",
   "metadata": {},
   "outputs": [],
   "source": [
    "def sq(x):\n",
    "    return x * x"
   ]
  },
  {
   "cell_type": "markdown",
   "id": "77e5e2e7",
   "metadata": {},
   "source": [
    "Now square all `x1`'s and all `y1`'s via the collection's `map_partitions` method."
   ]
  },
  {
   "cell_type": "code",
   "execution_count": null,
   "id": "4fc7cb77",
   "metadata": {},
   "outputs": [],
   "source": [
    "x1sq = daa.analysis.x1.map_partitions(sq)\n",
    "y1sq = daa.analysis.y1.map_partitions(sq)"
   ]
  },
  {
   "cell_type": "markdown",
   "id": "c6e25723",
   "metadata": {},
   "source": [
    "Now the module level & more general `map_partitions` function can be used with multiple collections, let's map `np.add` to add all of the squares, then get the max of the result."
   ]
  },
  {
   "cell_type": "code",
   "execution_count": null,
   "id": "2e135df7",
   "metadata": {},
   "outputs": [],
   "source": [
    "import numpy as np\n",
    "\n",
    "calc = dak.map_partitions(np.add, x1sq, y1sq)\n",
    "res = dak.max(calc)"
   ]
  },
  {
   "cell_type": "code",
   "execution_count": null,
   "id": "e87f1087",
   "metadata": {},
   "outputs": [],
   "source": [
    "res.visualize()"
   ]
  },
  {
   "cell_type": "markdown",
   "id": "0694715a",
   "metadata": {},
   "source": [
    "From the task graph visualization we can see all of the steps:\n",
    "- reading the JSON\n",
    "- `getitem` for the `.` access (`.analysis.x1` and `.analysis.y1`)\n",
    "- Our `sq` function\n",
    "- `add` from the last `map_partitions` call\n",
    "- finally, the `max` call - yielding multiple nodes in the graph (calculating max on the partitions followed up with a naïve reduction)."
   ]
  },
  {
   "cell_type": "code",
   "execution_count": null,
   "id": "b9683068",
   "metadata": {},
   "outputs": [],
   "source": [
    "res.compute()"
   ]
  },
  {
   "cell_type": "markdown",
   "id": "d12db6c8-8c98-4eca-95bc-9debda8f5a77",
   "metadata": {},
   "source": [
    "Sanity check (using the simplest form provided by the complete awkward API which we will eventually have in dask-awkward!):"
   ]
  },
  {
   "cell_type": "code",
   "execution_count": null,
   "id": "3e92e8c7",
   "metadata": {},
   "outputs": [],
   "source": [
    "caa = daa.compute()\n",
    "ak.max(caa.analysis.x1 ** 2 + caa.analysis.y1 ** 2)"
   ]
  }
 ],
 "metadata": {
  "kernelspec": {
   "display_name": "Python 3 (ipykernel)",
   "language": "python",
   "name": "python3"
  },
  "language_info": {
   "codemirror_mode": {
    "name": "ipython",
    "version": 3
   },
   "file_extension": ".py",
   "mimetype": "text/x-python",
   "name": "python",
   "nbconvert_exporter": "python",
   "pygments_lexer": "ipython3",
   "version": "3.9.7"
  }
 },
 "nbformat": 4,
 "nbformat_minor": 5
}
