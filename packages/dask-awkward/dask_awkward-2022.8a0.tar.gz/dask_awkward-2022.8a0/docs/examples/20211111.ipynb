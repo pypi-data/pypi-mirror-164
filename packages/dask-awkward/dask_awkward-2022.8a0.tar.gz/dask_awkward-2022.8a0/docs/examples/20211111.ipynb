{
 "cells": [
  {
   "cell_type": "markdown",
   "id": "917acfaa-1a75-4bd0-b102-837f94c9b4ab",
   "metadata": {},
   "source": [
    "# dask-awkward dev demo 2021/11/11\n",
    "\n",
    "- Show type information in basic `__repr__`.\n",
    "- JSON representation.\n",
    "  - Using IPython's builtin support (`display_json`) in the `_ipython_display_` method.\n",
    "  - Also experimented with some 3rd party JS libraries passed to `_ipython_display_`.\n",
    "- Continued `__getitem__` work."
   ]
  },
  {
   "cell_type": "code",
   "execution_count": 15,
   "id": "a4026903-2373-4cb3-97fb-4b89f285b6d0",
   "metadata": {},
   "outputs": [],
   "source": [
    "import dask_awkward as dak\n",
    "import dask_awkward.data as dakd"
   ]
  },
  {
   "cell_type": "code",
   "execution_count": 16,
   "id": "a5e7e3ee-2aa0-46c0-812f-9a5b97899389",
   "metadata": {
    "scrolled": true
   },
   "outputs": [],
   "source": [
    "daa = dakd.load_nested()"
   ]
  },
  {
   "cell_type": "code",
   "execution_count": 17,
   "id": "f3a6d483-13fb-4645-84f2-29073b6a8cb7",
   "metadata": {},
   "outputs": [
    {
     "data": {
      "text/plain": [
       "\"dask.awkward<from-json, npartitions=3, type='var * {analysis: {x1: var * int64, y ... }'>\""
      ]
     },
     "execution_count": 17,
     "metadata": {},
     "output_type": "execute_result"
    }
   ],
   "source": [
    "str(daa)"
   ]
  },
  {
   "cell_type": "markdown",
   "id": "f039f441-827b-45ef-b6e2-47d7175d3c5b",
   "metadata": {},
   "source": [
    "What's happening in the backend:"
   ]
  },
  {
   "cell_type": "code",
   "execution_count": 5,
   "id": "cd3b0f30-0118-41e8-8d0b-8cc87cf93d26",
   "metadata": {},
   "outputs": [
    {
     "data": {
      "application/json": {
       "class": "RecordArray",
       "contents": {
        "analysis": {
         "class": "RecordArray",
         "contents": {
          "t1": {
           "class": "ListOffsetArray",
           "content": {
            "class": "NumpyArray",
            "form_key": null,
            "has_identifier": false,
            "inner_shape": [],
            "parameters": {},
            "primitive": "int64"
           },
           "form_key": null,
           "has_identifier": false,
           "offsets": "i64",
           "parameters": {}
          },
          "t2": {
           "class": "ListOffsetArray",
           "content": {
            "class": "NumpyArray",
            "form_key": null,
            "has_identifier": false,
            "inner_shape": [],
            "parameters": {},
            "primitive": "int64"
           },
           "form_key": null,
           "has_identifier": false,
           "offsets": "i64",
           "parameters": {}
          },
          "x1": {
           "class": "ListOffsetArray",
           "content": {
            "class": "NumpyArray",
            "form_key": null,
            "has_identifier": false,
            "inner_shape": [],
            "parameters": {},
            "primitive": "int64"
           },
           "form_key": null,
           "has_identifier": false,
           "offsets": "i64",
           "parameters": {}
          },
          "x2": {
           "class": "ListOffsetArray",
           "content": {
            "class": "NumpyArray",
            "form_key": null,
            "has_identifier": false,
            "inner_shape": [],
            "parameters": {},
            "primitive": "int64"
           },
           "form_key": null,
           "has_identifier": false,
           "offsets": "i64",
           "parameters": {}
          },
          "y1": {
           "class": "ListOffsetArray",
           "content": {
            "class": "NumpyArray",
            "form_key": null,
            "has_identifier": false,
            "inner_shape": [],
            "parameters": {},
            "primitive": "int64"
           },
           "form_key": null,
           "has_identifier": false,
           "offsets": "i64",
           "parameters": {}
          },
          "y2": {
           "class": "ListOffsetArray",
           "content": {
            "class": "NumpyArray",
            "form_key": null,
            "has_identifier": false,
            "inner_shape": [],
            "parameters": {},
            "primitive": "int64"
           },
           "form_key": null,
           "has_identifier": false,
           "offsets": "i64",
           "parameters": {}
          },
          "z1": {
           "class": "ListOffsetArray",
           "content": {
            "class": "NumpyArray",
            "form_key": null,
            "has_identifier": false,
            "inner_shape": [],
            "parameters": {},
            "primitive": "int64"
           },
           "form_key": null,
           "has_identifier": false,
           "offsets": "i64",
           "parameters": {}
          },
          "z2": {
           "class": "ListOffsetArray",
           "content": {
            "class": "NumpyArray",
            "form_key": null,
            "has_identifier": false,
            "inner_shape": [],
            "parameters": {},
            "primitive": "int64"
           },
           "form_key": null,
           "has_identifier": false,
           "offsets": "i64",
           "parameters": {}
          }
         },
         "form_key": null,
         "has_identifier": false,
         "parameters": {}
        }
       },
       "form_key": null,
       "has_identifier": false,
       "parameters": {}
      }
     },
     "metadata": {},
     "output_type": "display_data"
    }
   ],
   "source": [
    "import json\n",
    "from IPython.display import display_json\n",
    "\n",
    "display_json(json.loads(daa.meta.form.to_json()), raw=True)"
   ]
  },
  {
   "cell_type": "code",
   "execution_count": 6,
   "id": "a787d78c-3a3d-4306-937d-77dc4fdf2cb1",
   "metadata": {},
   "outputs": [
    {
     "data": {
      "image/png": "[encoded data removed]",
      "text/plain": [
       "<IPython.core.display.Image object>"
      ]
     },
     "execution_count": 6,
     "metadata": {},
     "output_type": "execute_result"
    }
   ],
   "source": [
    "daa[\"analysis\", [\"x1\", \"y2\"], 1:3:2].visualize()"
   ]
  },
  {
   "cell_type": "code",
   "execution_count": 7,
   "id": "af6ce5c9-8949-463c-8243-6f5375657d9d",
   "metadata": {},
   "outputs": [],
   "source": [
    "daa = dakd.load_array()"
   ]
  },
  {
   "cell_type": "code",
   "execution_count": 9,
   "id": "e59cd44b-5ff7-412f-bd59-a17a08180a5a",
   "metadata": {},
   "outputs": [
    {
     "data": {
      "application/json": {
       "class": "ListOffsetArray",
       "content": {
        "class": "ListOffsetArray",
        "content": {
         "class": "NumpyArray",
         "form_key": null,
         "has_identifier": false,
         "inner_shape": [],
         "parameters": {},
         "primitive": "int64"
        },
        "form_key": null,
        "has_identifier": false,
        "offsets": "i64",
        "parameters": {}
       },
       "form_key": null,
       "has_identifier": false,
       "offsets": "i64",
       "parameters": {}
      }
     },
     "metadata": {},
     "output_type": "display_data"
    }
   ],
   "source": [
    "daa"
   ]
  },
  {
   "cell_type": "code",
   "execution_count": 11,
   "id": "60c99f9d-892c-49d5-ab13-e0db26916d2e",
   "metadata": {},
   "outputs": [
    {
     "data": {
      "text/plain": [
       "<Array [[3, 2], [1], [5, 4], [6]] type='4 * var * int64'>"
      ]
     },
     "execution_count": 11,
     "metadata": {},
     "output_type": "execute_result"
    }
   ],
   "source": [
    "daa[0].compute()"
   ]
  },
  {
   "cell_type": "code",
   "execution_count": 12,
   "id": "18492bfc-7ab5-4540-ae76-67465a0c0073",
   "metadata": {},
   "outputs": [
    {
     "data": {
      "text/plain": [
       "\u001b[0;31mSignature:\u001b[0m \u001b[0mdaa\u001b[0m\u001b[0;34m.\u001b[0m\u001b[0m__getitem__\u001b[0m\u001b[0;34m(\u001b[0m\u001b[0mkey\u001b[0m\u001b[0;34m:\u001b[0m \u001b[0;34m'Any'\u001b[0m\u001b[0;34m)\u001b[0m \u001b[0;34m->\u001b[0m \u001b[0;34m'Array'\u001b[0m\u001b[0;34m\u001b[0m\u001b[0;34m\u001b[0m\u001b[0m\n",
       "\u001b[0;31mDocstring:\u001b[0m <no docstring>\n",
       "\u001b[0;31mSource:\u001b[0m   \n",
       "    \u001b[0;32mdef\u001b[0m \u001b[0m__getitem__\u001b[0m\u001b[0;34m(\u001b[0m\u001b[0mself\u001b[0m\u001b[0;34m,\u001b[0m \u001b[0mkey\u001b[0m\u001b[0;34m:\u001b[0m \u001b[0mAny\u001b[0m\u001b[0;34m)\u001b[0m \u001b[0;34m->\u001b[0m \u001b[0mArray\u001b[0m\u001b[0;34m:\u001b[0m\u001b[0;34m\u001b[0m\n",
       "\u001b[0;34m\u001b[0m        \u001b[0;32mif\u001b[0m \u001b[0;32mnot\u001b[0m \u001b[0misinstance\u001b[0m\u001b[0;34m(\u001b[0m\u001b[0mkey\u001b[0m\u001b[0;34m,\u001b[0m \u001b[0mtuple\u001b[0m\u001b[0;34m)\u001b[0m\u001b[0;34m:\u001b[0m\u001b[0;34m\u001b[0m\n",
       "\u001b[0;34m\u001b[0m            \u001b[0mkey\u001b[0m \u001b[0;34m=\u001b[0m \u001b[0;34m(\u001b[0m\u001b[0mkey\u001b[0m\u001b[0;34m,\u001b[0m\u001b[0;34m)\u001b[0m\u001b[0;34m\u001b[0m\n",
       "\u001b[0;34m\u001b[0m        \u001b[0;32mif\u001b[0m \u001b[0misinstance\u001b[0m\u001b[0;34m(\u001b[0m\u001b[0mkey\u001b[0m\u001b[0;34m[\u001b[0m\u001b[0;36m0\u001b[0m\u001b[0;34m]\u001b[0m\u001b[0;34m,\u001b[0m \u001b[0mlist\u001b[0m\u001b[0;34m)\u001b[0m\u001b[0;34m:\u001b[0m\u001b[0;34m\u001b[0m\n",
       "\u001b[0;34m\u001b[0m            \u001b[0;32mif\u001b[0m \u001b[0many\u001b[0m\u001b[0;34m(\u001b[0m\u001b[0misinstance\u001b[0m\u001b[0;34m(\u001b[0m\u001b[0mk\u001b[0m\u001b[0;34m,\u001b[0m \u001b[0mint\u001b[0m\u001b[0;34m)\u001b[0m \u001b[0;32mfor\u001b[0m \u001b[0mk\u001b[0m \u001b[0;32min\u001b[0m \u001b[0mkey\u001b[0m\u001b[0;34m[\u001b[0m\u001b[0;36m0\u001b[0m\u001b[0;34m]\u001b[0m\u001b[0;34m)\u001b[0m\u001b[0;34m:\u001b[0m\u001b[0;34m\u001b[0m\n",
       "\u001b[0;34m\u001b[0m                \u001b[0;32mraise\u001b[0m \u001b[0mNotImplementedError\u001b[0m\u001b[0;34m(\u001b[0m\u001b[0;34m\"Lists containing integers not supported.\"\u001b[0m\u001b[0;34m)\u001b[0m\u001b[0;34m\u001b[0m\n",
       "\u001b[0;34m\u001b[0m        \u001b[0;32mif\u001b[0m \u001b[0;34m(\u001b[0m\u001b[0;34m\u001b[0m\n",
       "\u001b[0;34m\u001b[0m            \u001b[0misinstance\u001b[0m\u001b[0;34m(\u001b[0m\u001b[0mkey\u001b[0m\u001b[0;34m[\u001b[0m\u001b[0;36m0\u001b[0m\u001b[0;34m]\u001b[0m\u001b[0;34m,\u001b[0m \u001b[0;34m(\u001b[0m\u001b[0mstr\u001b[0m\u001b[0;34m,\u001b[0m \u001b[0mlist\u001b[0m\u001b[0;34m)\u001b[0m\u001b[0;34m)\u001b[0m\u001b[0;34m\u001b[0m\n",
       "\u001b[0;34m\u001b[0m            \u001b[0;32mor\u001b[0m \u001b[0mkey\u001b[0m\u001b[0;34m[\u001b[0m\u001b[0;36m0\u001b[0m\u001b[0;34m]\u001b[0m \u001b[0;32mis\u001b[0m \u001b[0mEllipsis\u001b[0m\u001b[0;34m\u001b[0m\n",
       "\u001b[0;34m\u001b[0m            \u001b[0;32mor\u001b[0m \u001b[0mkey\u001b[0m\u001b[0;34m[\u001b[0m\u001b[0;36m0\u001b[0m\u001b[0;34m]\u001b[0m \u001b[0;34m==\u001b[0m \u001b[0mslice\u001b[0m\u001b[0;34m(\u001b[0m\u001b[0;32mNone\u001b[0m\u001b[0;34m,\u001b[0m \u001b[0;32mNone\u001b[0m\u001b[0;34m,\u001b[0m \u001b[0;32mNone\u001b[0m\u001b[0;34m)\u001b[0m\u001b[0;34m\u001b[0m\n",
       "\u001b[0;34m\u001b[0m        \u001b[0;34m)\u001b[0m\u001b[0;34m:\u001b[0m\u001b[0;34m\u001b[0m\n",
       "\u001b[0;34m\u001b[0m            \u001b[0;32mreturn\u001b[0m \u001b[0mself\u001b[0m\u001b[0;34m.\u001b[0m\u001b[0m_getitem_inner\u001b[0m\u001b[0;34m(\u001b[0m\u001b[0mkey\u001b[0m\u001b[0;34m=\u001b[0m\u001b[0mkey\u001b[0m\u001b[0;34m)\u001b[0m\u001b[0;34m\u001b[0m\n",
       "\u001b[0;34m\u001b[0m        \u001b[0;32mif\u001b[0m \u001b[0misinstance\u001b[0m\u001b[0;34m(\u001b[0m\u001b[0mkey\u001b[0m\u001b[0;34m[\u001b[0m\u001b[0;36m0\u001b[0m\u001b[0;34m]\u001b[0m\u001b[0;34m,\u001b[0m \u001b[0mslice\u001b[0m\u001b[0;34m)\u001b[0m\u001b[0;34m:\u001b[0m\u001b[0;34m\u001b[0m\n",
       "\u001b[0;34m\u001b[0m            \u001b[0;32mpass\u001b[0m\u001b[0;34m\u001b[0m\n",
       "\u001b[0;34m\u001b[0m        \u001b[0;32mif\u001b[0m \u001b[0misinstance\u001b[0m\u001b[0;34m(\u001b[0m\u001b[0mkey\u001b[0m\u001b[0;34m[\u001b[0m\u001b[0;36m0\u001b[0m\u001b[0;34m]\u001b[0m\u001b[0;34m,\u001b[0m \u001b[0mint\u001b[0m\u001b[0;34m)\u001b[0m \u001b[0;32mand\u001b[0m \u001b[0mlen\u001b[0m\u001b[0;34m(\u001b[0m\u001b[0mkey\u001b[0m\u001b[0;34m)\u001b[0m \u001b[0;34m==\u001b[0m \u001b[0;36m1\u001b[0m\u001b[0;34m:\u001b[0m\u001b[0;34m\u001b[0m\n",
       "\u001b[0;34m\u001b[0m            \u001b[0;32mreturn\u001b[0m \u001b[0mself\u001b[0m\u001b[0;34m.\u001b[0m\u001b[0m_getitem_singleint\u001b[0m\u001b[0;34m(\u001b[0m\u001b[0mkey\u001b[0m\u001b[0;34m=\u001b[0m\u001b[0mkey\u001b[0m\u001b[0;34m[\u001b[0m\u001b[0;36m0\u001b[0m\u001b[0;34m]\u001b[0m\u001b[0;34m)\u001b[0m\u001b[0;34m\u001b[0m\n",
       "\u001b[0;34m\u001b[0m        \u001b[0;32mif\u001b[0m \u001b[0misinstance\u001b[0m\u001b[0;34m(\u001b[0m\u001b[0mkey\u001b[0m\u001b[0;34m[\u001b[0m\u001b[0;36m0\u001b[0m\u001b[0;34m]\u001b[0m\u001b[0;34m,\u001b[0m \u001b[0mint\u001b[0m\u001b[0;34m)\u001b[0m \u001b[0;32mand\u001b[0m \u001b[0mlen\u001b[0m\u001b[0;34m(\u001b[0m\u001b[0mkey\u001b[0m\u001b[0;34m)\u001b[0m \u001b[0;34m>\u001b[0m \u001b[0;36m1\u001b[0m\u001b[0;34m:\u001b[0m\u001b[0;34m\u001b[0m\n",
       "\u001b[0;34m\u001b[0m            \u001b[0;32mpass\u001b[0m\u001b[0;34m\u001b[0m\n",
       "\u001b[0;34m\u001b[0m        \u001b[0;32mreturn\u001b[0m \u001b[0mkey\u001b[0m\u001b[0;34m\u001b[0m\u001b[0;34m\u001b[0m\u001b[0m\n",
       "\u001b[0;31mFile:\u001b[0m      ~/software/repos/dask-awkward/src/dask_awkward/core.py\n",
       "\u001b[0;31mType:\u001b[0m      method\n"
      ]
     },
     "metadata": {},
     "output_type": "display_data"
    }
   ],
   "source": [
    "??daa.__getitem__"
   ]
  },
  {
   "cell_type": "code",
   "execution_count": 13,
   "id": "5e8bf4a7-0169-4e48-823f-0d47065a2e66",
   "metadata": {},
   "outputs": [
    {
     "data": {
      "text/plain": [
       "\u001b[0;31mSignature:\u001b[0m \u001b[0mdaa\u001b[0m\u001b[0;34m.\u001b[0m\u001b[0m_compute_divisions\u001b[0m\u001b[0;34m(\u001b[0m\u001b[0;34m)\u001b[0m \u001b[0;34m->\u001b[0m \u001b[0;34m'None'\u001b[0m\u001b[0;34m\u001b[0m\u001b[0;34m\u001b[0m\u001b[0m\n",
       "\u001b[0;31mDocstring:\u001b[0m <no docstring>\n",
       "\u001b[0;31mSource:\u001b[0m   \n",
       "    \u001b[0;32mdef\u001b[0m \u001b[0m_compute_divisions\u001b[0m\u001b[0;34m(\u001b[0m\u001b[0mself\u001b[0m\u001b[0;34m)\u001b[0m \u001b[0;34m->\u001b[0m \u001b[0;32mNone\u001b[0m\u001b[0;34m:\u001b[0m\u001b[0;34m\u001b[0m\n",
       "\u001b[0;34m\u001b[0m        \u001b[0mself\u001b[0m\u001b[0;34m.\u001b[0m\u001b[0m_divisions\u001b[0m \u001b[0;34m=\u001b[0m \u001b[0mcalculate_known_divisions\u001b[0m\u001b[0;34m(\u001b[0m\u001b[0mself\u001b[0m\u001b[0;34m)\u001b[0m\u001b[0;34m\u001b[0m\u001b[0;34m\u001b[0m\u001b[0m\n",
       "\u001b[0;31mFile:\u001b[0m      ~/software/repos/dask-awkward/src/dask_awkward/core.py\n",
       "\u001b[0;31mType:\u001b[0m      method\n"
      ]
     },
     "metadata": {},
     "output_type": "display_data"
    }
   ],
   "source": [
    "??daa._compute_divisions"
   ]
  },
  {
   "cell_type": "code",
   "execution_count": null,
   "id": "99a7625e-a8f1-456c-8f84-78eba39d5ea7",
   "metadata": {},
   "outputs": [],
   "source": []
  }
 ],
 "metadata": {
  "kernelspec": {
   "display_name": "Python 3 (ipykernel)",
   "language": "python",
   "name": "python3"
  },
  "language_info": {
   "codemirror_mode": {
    "name": "ipython",
    "version": 3
   },
   "file_extension": ".py",
   "mimetype": "text/x-python",
   "name": "python",
   "nbconvert_exporter": "python",
   "pygments_lexer": "ipython3",
   "version": "3.9.8"
  }
 },
 "nbformat": 4,
 "nbformat_minor": 5
}
