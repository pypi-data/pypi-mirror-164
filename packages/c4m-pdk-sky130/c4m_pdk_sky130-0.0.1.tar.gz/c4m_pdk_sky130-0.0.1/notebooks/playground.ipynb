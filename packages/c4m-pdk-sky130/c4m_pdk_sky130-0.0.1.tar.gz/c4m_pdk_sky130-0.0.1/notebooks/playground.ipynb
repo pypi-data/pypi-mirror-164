{
 "cells": [
  {
   "cell_type": "markdown",
   "id": "6e37908c",
   "metadata": {},
   "source": [
    "Playgroud to interactively test things."
   ]
  },
  {
   "cell_type": "code",
   "execution_count": 1,
   "id": "3a82776d-a4fa-4cfa-82bb-2cc7f5806225",
   "metadata": {},
   "outputs": [],
   "source": [
    "from pprint import pprint\n",
    "\n",
    "from c4m.pdk import sky130"
   ]
  }
 ],
 "metadata": {
  "kernelspec": {
   "display_name": "Python 3",
   "language": "python",
   "name": "python3"
  },
  "language_info": {
   "codemirror_mode": {
    "name": "ipython",
    "version": 3
   },
   "file_extension": ".py",
   "mimetype": "text/x-python",
   "name": "python",
   "nbconvert_exporter": "python",
   "pygments_lexer": "ipython3",
   "version": "3.7.11"
  }
 },
 "nbformat": 4,
 "nbformat_minor": 5
}
