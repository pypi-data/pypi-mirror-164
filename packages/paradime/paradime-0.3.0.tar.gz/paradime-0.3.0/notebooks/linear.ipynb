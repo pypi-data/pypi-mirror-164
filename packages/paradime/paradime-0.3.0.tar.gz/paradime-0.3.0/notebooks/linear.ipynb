{
 "cells": [
  {
   "cell_type": "code",
   "execution_count": 23,
   "metadata": {},
   "outputs": [],
   "source": [
    "import numpy as np\n",
    "import torch\n",
    "import sklearn.datasets\n",
    "import sklearn.decomposition\n",
    "import sklearn.manifold\n",
    "from matplotlib import pyplot as plt\n",
    "\n",
    "import sys\n",
    "sys.path.append('../')\n",
    "import paradime.dr\n",
    "import paradime.relations\n",
    "import paradime.transforms\n",
    "import paradime.loss"
   ]
  },
  {
   "cell_type": "code",
   "execution_count": 9,
   "metadata": {},
   "outputs": [],
   "source": [
    "diabetes = sklearn.datasets.load_diabetes()\n",
    "data = diabetes['data']"
   ]
  },
  {
   "cell_type": "code",
   "execution_count": 10,
   "metadata": {},
   "outputs": [
    {
     "data": {
      "text/plain": [
       "PCA()"
      ]
     },
     "execution_count": 10,
     "metadata": {},
     "output_type": "execute_result"
    }
   ],
   "source": [
    "pca = sklearn.decomposition.PCA()\n",
    "pca.fit(data)"
   ]
  },
  {
   "cell_type": "code",
   "execution_count": 14,
   "metadata": {},
   "outputs": [
    {
     "data": {
      "text/plain": [
       "<matplotlib.image.AxesImage at 0x1faafcedc10>"
      ]
     },
     "execution_count": 14,
     "metadata": {},
     "output_type": "execute_result"
    },
    {
     "data": {
      "image/png": "[encoded data removed]",
      "text/plain": [
       "<Figure size 432x288 with 1 Axes>"
      ]
     },
     "metadata": {
      "needs_background": "light"
     },
     "output_type": "display_data"
    }
   ],
   "source": [
    "plt.imshow(pca.components_)"
   ]
  },
  {
   "cell_type": "code",
   "execution_count": 25,
   "metadata": {},
   "outputs": [
    {
     "name": "stdout",
     "output_type": "stream",
     "text": [
      "2022-08-22 17:39:35,757: Registering dataset.\n",
      "2022-08-22 17:39:35,761: Beginning training phase 'None'.\n",
      "2022-08-22 17:39:35,774: Loss after epoch 0: 0.02204506564885378\n",
      "2022-08-22 17:39:35,791: Loss after epoch 2: 0.008364640350919217\n",
      "2022-08-22 17:39:35,807: Loss after epoch 4: 0.003360529663041234\n",
      "2022-08-22 17:39:35,825: Loss after epoch 6: 0.0014532295026583597\n",
      "2022-08-22 17:39:35,841: Loss after epoch 8: 0.0006394702577381395\n",
      "2022-08-22 17:39:35,859: Loss after epoch 10: 0.00031046684307511896\n",
      "2022-08-22 17:39:35,881: Loss after epoch 12: 0.00017441576164856087\n",
      "2022-08-22 17:39:35,899: Loss after epoch 14: 0.00010979739454342052\n",
      "2022-08-22 17:39:35,914: Loss after epoch 16: 7.448280757671455e-05\n",
      "2022-08-22 17:39:35,928: Loss after epoch 18: 5.468014614962158e-05\n"
     ]
    }
   ],
   "source": [
    "pd_pca = paradime.dr.ParametricDR(\n",
    "    model=torch.nn.Linear(10,10,bias=False),\n",
    "    verbose=True,\n",
    ")\n",
    "pd_pca.register_dataset({\n",
    "    'data': torch.tensor(data).float(),\n",
    "    'pca': torch.tensor(pca.transform(data)).float(),\n",
    "})\n",
    "pd_pca.add_training_phase(\n",
    "    epochs=20,\n",
    "    batch_size=50,\n",
    "    loss=paradime.loss.PositionLoss(\n",
    "        position_key='pca',\n",
    "        embedding_method='forward',\n",
    "    ),\n",
    "    report_interval=2,\n",
    ")\n",
    "pd_pca.train()"
   ]
  },
  {
   "cell_type": "code",
   "execution_count": 26,
   "metadata": {},
   "outputs": [
    {
     "data": {
      "text/plain": [
       "<matplotlib.image.AxesImage at 0x1fab3b8fbe0>"
      ]
     },
     "execution_count": 26,
     "metadata": {},
     "output_type": "execute_result"
    },
    {
     "data": {
      "image/png": "[encoded data removed]",
      "text/plain": [
       "<Figure size 432x288 with 1 Axes>"
      ]
     },
     "metadata": {
      "needs_background": "light"
     },
     "output_type": "display_data"
    }
   ],
   "source": [
    "plt.imshow(pd_pca.model.weight.detach().numpy())"
   ]
  },
  {
   "cell_type": "code",
   "execution_count": 28,
   "metadata": {},
   "outputs": [
    {
     "name": "stdout",
     "output_type": "stream",
     "text": [
      "2022-08-22 17:39:51,554: Registering dataset.\n",
      "2022-08-22 17:39:51,556: Computing global relations 'rel'.\n",
      "2022-08-22 17:39:51,556: Calculating pairwise distances.\n",
      "2022-08-22 17:39:51,559: Beginning training phase 'None'.\n",
      "2022-08-22 17:39:51,568: Loss after epoch 0: 0.02156461915001273\n",
      "2022-08-22 17:39:51,584: Loss after epoch 2: 0.007532916672062129\n",
      "2022-08-22 17:39:51,601: Loss after epoch 4: 0.002460842690197751\n",
      "2022-08-22 17:39:51,619: Loss after epoch 6: 0.0009864325329544954\n",
      "2022-08-22 17:39:51,640: Loss after epoch 8: 0.00043546914821490645\n",
      "2022-08-22 17:39:51,659: Loss after epoch 10: 0.00021131278481334448\n",
      "2022-08-22 17:39:51,677: Loss after epoch 12: 0.00011758679647755343\n",
      "2022-08-22 17:39:51,694: Loss after epoch 14: 7.492281383747468e-05\n",
      "2022-08-22 17:39:51,707: Loss after epoch 16: 5.182874883757904e-05\n",
      "2022-08-22 17:39:51,724: Loss after epoch 18: 3.867164969051373e-05\n"
     ]
    }
   ],
   "source": [
    "pd_mds = paradime.dr.ParametricDR(\n",
    "    model=torch.nn.Linear(10,10,bias=False),\n",
    "    global_relations=paradime.relations.PDist(),\n",
    "    batch_relations=paradime.relations.DifferentiablePDist(\n",
    "        transform=paradime.transforms.ToSquareTensor()\n",
    "    ),\n",
    "    verbose=True,\n",
    ")\n",
    "pd_mds.register_dataset({\n",
    "    'data': torch.tensor(data).float(),\n",
    "    'pca': torch.tensor(pca.transform(data)).float(),\n",
    "})\n",
    "pd_mds.add_training_phase(\n",
    "    epochs=20,\n",
    "    batch_size=50,\n",
    "    loss=paradime.loss.PositionLoss(\n",
    "        position_key='pca',\n",
    "        embedding_method='forward',\n",
    "    ),\n",
    "    report_interval=2,\n",
    ")\n",
    "pd_mds.train()"
   ]
  },
  {
   "cell_type": "code",
   "execution_count": 29,
   "metadata": {},
   "outputs": [
    {
     "data": {
      "text/plain": [
       "<matplotlib.image.AxesImage at 0x1fab3c4fcd0>"
      ]
     },
     "execution_count": 29,
     "metadata": {},
     "output_type": "execute_result"
    },
    {
     "data": {
      "image/png": "[encoded data removed]",
      "text/plain": [
       "<Figure size 432x288 with 1 Axes>"
      ]
     },
     "metadata": {
      "needs_background": "light"
     },
     "output_type": "display_data"
    }
   ],
   "source": [
    "plt.imshow(pd_mds.model.weight.detach().numpy())"
   ]
  },
  {
   "cell_type": "code",
   "execution_count": 32,
   "metadata": {},
   "outputs": [
    {
     "data": {
      "text/plain": [
       "<matplotlib.image.AxesImage at 0x1fabbaa5640>"
      ]
     },
     "execution_count": 32,
     "metadata": {},
     "output_type": "execute_result"
    },
    {
     "data": {
      "image/png": "[encoded data removed]",
      "text/plain": [
       "<Figure size 432x288 with 3 Axes>"
      ]
     },
     "metadata": {
      "needs_background": "light"
     },
     "output_type": "display_data"
    }
   ],
   "source": [
    "fig, (ax1, ax2, ax3) = plt.subplots(1, 3)\n",
    "ax1.imshow(pca.components_)\n",
    "ax2.imshow(pd_pca.model.weight.detach().numpy())\n",
    "ax3.imshow(pd_mds.model.weight.detach().numpy())"
   ]
  },
  {
   "cell_type": "code",
   "execution_count": null,
   "metadata": {},
   "outputs": [],
   "source": []
  }
 ],
 "metadata": {
  "kernelspec": {
   "display_name": "Python 3.9.12 ('ml')",
   "language": "python",
   "name": "python3"
  },
  "language_info": {
   "codemirror_mode": {
    "name": "ipython",
    "version": 3
   },
   "file_extension": ".py",
   "mimetype": "text/x-python",
   "name": "python",
   "nbconvert_exporter": "python",
   "pygments_lexer": "ipython3",
   "version": "3.9.12"
  },
  "orig_nbformat": 4,
  "vscode": {
   "interpreter": {
    "hash": "a7c9f3c5c5217e50e8596266617689c08e27d4baf18921dd4598144a1d3a89bf"
   }
  }
 },
 "nbformat": 4,
 "nbformat_minor": 2
}
