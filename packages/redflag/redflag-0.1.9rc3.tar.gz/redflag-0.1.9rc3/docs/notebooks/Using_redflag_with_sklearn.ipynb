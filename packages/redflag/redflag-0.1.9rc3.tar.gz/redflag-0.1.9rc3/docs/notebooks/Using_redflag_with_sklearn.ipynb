{
 "cells": [
  {
   "cell_type": "markdown",
   "metadata": {},
   "source": [
    "# 🚩 Using `redflag` with `sklearn`\n",
    "\n",
    "As well as using `redflag`'s functions directly (see `Basic_usage.ipynb`), `redflag` has some `sklearn` transformers that you can use to detect possible issues in your data. \n",
    "\n",
    "⚠️ **Note that these transformers do not transform your data, they only raise warnings (red flags) if they find issues.**\n",
    "\n",
    "Let's load some example data:"
   ]
  },
  {
   "cell_type": "code",
   "execution_count": 1,
   "metadata": {},
   "outputs": [
    {
     "data": {
      "text/html": [
       "<div>\n",
       "<style scoped>\n",
       "    .dataframe tbody tr th:only-of-type {\n",
       "        vertical-align: middle;\n",
       "    }\n",
       "\n",
       "    .dataframe tbody tr th {\n",
       "        vertical-align: top;\n",
       "    }\n",
       "\n",
       "    .dataframe thead th {\n",
       "        text-align: right;\n",
       "    }\n",
       "</style>\n",
       "<table border=\"1\" class=\"dataframe\">\n",
       "  <thead>\n",
       "    <tr style=\"text-align: right;\">\n",
       "      <th></th>\n",
       "      <th>Well Name</th>\n",
       "      <th>Depth</th>\n",
       "      <th>Formation</th>\n",
       "      <th>RelPos</th>\n",
       "      <th>Marine</th>\n",
       "      <th>GR</th>\n",
       "      <th>ILD</th>\n",
       "      <th>DeltaPHI</th>\n",
       "      <th>PHIND</th>\n",
       "      <th>PE</th>\n",
       "      <th>Facies</th>\n",
       "      <th>LATITUDE</th>\n",
       "      <th>LONGITUDE</th>\n",
       "      <th>ILD_log10</th>\n",
       "      <th>Lithology</th>\n",
       "      <th>RHOB</th>\n",
       "      <th>Mineralogy</th>\n",
       "      <th>Siliciclastic</th>\n",
       "    </tr>\n",
       "  </thead>\n",
       "  <tbody>\n",
       "    <tr>\n",
       "      <th>0</th>\n",
       "      <td>SHRIMPLIN</td>\n",
       "      <td>851.3064</td>\n",
       "      <td>A1 SH</td>\n",
       "      <td>1.000</td>\n",
       "      <td>1</td>\n",
       "      <td>77.45</td>\n",
       "      <td>4.613176</td>\n",
       "      <td>9.9</td>\n",
       "      <td>11.915</td>\n",
       "      <td>4.6</td>\n",
       "      <td>3.0</td>\n",
       "      <td>37.978076</td>\n",
       "      <td>-100.987305</td>\n",
       "      <td>0.664</td>\n",
       "      <td>siltstone</td>\n",
       "      <td>2393.499945</td>\n",
       "      <td>siliciclastic</td>\n",
       "      <td>True</td>\n",
       "    </tr>\n",
       "    <tr>\n",
       "      <th>1</th>\n",
       "      <td>SHRIMPLIN</td>\n",
       "      <td>851.4588</td>\n",
       "      <td>A1 SH</td>\n",
       "      <td>0.979</td>\n",
       "      <td>1</td>\n",
       "      <td>78.26</td>\n",
       "      <td>4.581419</td>\n",
       "      <td>14.2</td>\n",
       "      <td>12.565</td>\n",
       "      <td>4.1</td>\n",
       "      <td>3.0</td>\n",
       "      <td>37.978076</td>\n",
       "      <td>-100.987305</td>\n",
       "      <td>0.661</td>\n",
       "      <td>siltstone</td>\n",
       "      <td>2416.119814</td>\n",
       "      <td>siliciclastic</td>\n",
       "      <td>True</td>\n",
       "    </tr>\n",
       "    <tr>\n",
       "      <th>2</th>\n",
       "      <td>SHRIMPLIN</td>\n",
       "      <td>851.6112</td>\n",
       "      <td>A1 SH</td>\n",
       "      <td>0.957</td>\n",
       "      <td>1</td>\n",
       "      <td>79.05</td>\n",
       "      <td>4.549881</td>\n",
       "      <td>14.8</td>\n",
       "      <td>13.050</td>\n",
       "      <td>3.6</td>\n",
       "      <td>3.0</td>\n",
       "      <td>37.978076</td>\n",
       "      <td>-100.987305</td>\n",
       "      <td>0.658</td>\n",
       "      <td>siltstone</td>\n",
       "      <td>2404.576056</td>\n",
       "      <td>siliciclastic</td>\n",
       "      <td>True</td>\n",
       "    </tr>\n",
       "    <tr>\n",
       "      <th>3</th>\n",
       "      <td>SHRIMPLIN</td>\n",
       "      <td>851.7636</td>\n",
       "      <td>A1 SH</td>\n",
       "      <td>0.936</td>\n",
       "      <td>1</td>\n",
       "      <td>86.10</td>\n",
       "      <td>4.518559</td>\n",
       "      <td>13.9</td>\n",
       "      <td>13.115</td>\n",
       "      <td>3.5</td>\n",
       "      <td>3.0</td>\n",
       "      <td>37.978076</td>\n",
       "      <td>-100.987305</td>\n",
       "      <td>0.655</td>\n",
       "      <td>siltstone</td>\n",
       "      <td>2393.249071</td>\n",
       "      <td>siliciclastic</td>\n",
       "      <td>True</td>\n",
       "    </tr>\n",
       "    <tr>\n",
       "      <th>4</th>\n",
       "      <td>SHRIMPLIN</td>\n",
       "      <td>851.9160</td>\n",
       "      <td>A1 SH</td>\n",
       "      <td>0.915</td>\n",
       "      <td>1</td>\n",
       "      <td>74.58</td>\n",
       "      <td>4.436086</td>\n",
       "      <td>13.5</td>\n",
       "      <td>13.300</td>\n",
       "      <td>3.4</td>\n",
       "      <td>3.0</td>\n",
       "      <td>37.978076</td>\n",
       "      <td>-100.987305</td>\n",
       "      <td>0.647</td>\n",
       "      <td>siltstone</td>\n",
       "      <td>2382.602601</td>\n",
       "      <td>siliciclastic</td>\n",
       "      <td>True</td>\n",
       "    </tr>\n",
       "  </tbody>\n",
       "</table>\n",
       "</div>"
      ],
      "text/plain": [
       "   Well Name     Depth Formation  RelPos  Marine     GR       ILD  DeltaPHI  \\\n",
       "0  SHRIMPLIN  851.3064     A1 SH   1.000       1  77.45  4.613176       9.9   \n",
       "1  SHRIMPLIN  851.4588     A1 SH   0.979       1  78.26  4.581419      14.2   \n",
       "2  SHRIMPLIN  851.6112     A1 SH   0.957       1  79.05  4.549881      14.8   \n",
       "3  SHRIMPLIN  851.7636     A1 SH   0.936       1  86.10  4.518559      13.9   \n",
       "4  SHRIMPLIN  851.9160     A1 SH   0.915       1  74.58  4.436086      13.5   \n",
       "\n",
       "    PHIND   PE  Facies   LATITUDE   LONGITUDE  ILD_log10  Lithology  \\\n",
       "0  11.915  4.6     3.0  37.978076 -100.987305      0.664  siltstone   \n",
       "1  12.565  4.1     3.0  37.978076 -100.987305      0.661  siltstone   \n",
       "2  13.050  3.6     3.0  37.978076 -100.987305      0.658  siltstone   \n",
       "3  13.115  3.5     3.0  37.978076 -100.987305      0.655  siltstone   \n",
       "4  13.300  3.4     3.0  37.978076 -100.987305      0.647  siltstone   \n",
       "\n",
       "          RHOB     Mineralogy  Siliciclastic  \n",
       "0  2393.499945  siliciclastic           True  \n",
       "1  2416.119814  siliciclastic           True  \n",
       "2  2404.576056  siliciclastic           True  \n",
       "3  2393.249071  siliciclastic           True  \n",
       "4  2382.602601  siliciclastic           True  "
      ]
     },
     "execution_count": 1,
     "metadata": {},
     "output_type": "execute_result"
    }
   ],
   "source": [
    "import pandas as pd\n",
    "\n",
    "df = pd.read_csv('https://geocomp.s3.amazonaws.com/data/Panoma_training_data.csv')\n",
    "df.head()"
   ]
  },
  {
   "cell_type": "markdown",
   "metadata": {},
   "source": [
    "Note that the features (e.g. GR, RHOB) are not **independent** records; they are correlated to themselves in depth.\n",
    "\n",
    "Furthermore, some of these features are clipped, e.g. the GR feature is clipped at a max value of 200:"
   ]
  },
  {
   "cell_type": "code",
   "execution_count": 2,
   "metadata": {},
   "outputs": [
    {
     "data": {
      "text/plain": [
       "<AxesSubplot:xlabel='GR', ylabel='Count'>"
      ]
     },
     "execution_count": 2,
     "metadata": {},
     "output_type": "execute_result"
    },
    {
     "data": {
      "image/png": "[encoded data removed]",
      "text/plain": [
       "<Figure size 432x288 with 1 Axes>"
      ]
     },
     "metadata": {
      "needs_background": "light"
     },
     "output_type": "display_data"
    }
   ],
   "source": [
    "import seaborn as sns\n",
    "\n",
    "sns.histplot(df['GR'])"
   ]
  },
  {
   "cell_type": "markdown",
   "metadata": {},
   "source": [
    "We will split this dataset by group (well name):"
   ]
  },
  {
   "cell_type": "code",
   "execution_count": 3,
   "metadata": {},
   "outputs": [],
   "source": [
    "features = ['GR', 'RHOB', 'PE']\n",
    "\n",
    "test_wells = ['CRAWFORD', 'STUART']\n",
    "\n",
    "test_flag = df['Well Name'].isin(test_wells)\n",
    "\n",
    "X_test = df.loc[test_flag, features].values\n",
    "y_test = df.loc[test_flag, 'Lithology'].values\n",
    "\n",
    "X_train = df.loc[~test_flag, features].values\n",
    "y_train = df.loc[~test_flag, 'Lithology'].values"
   ]
  },
  {
   "cell_type": "markdown",
   "metadata": {},
   "source": [
    "## Using the `redflag` pipeline\n",
    "\n",
    "There is a [`sklearn.pipeline.Pipeline`](https://scikit-learn.org/stable/modules/generated/sklearn.pipeline.Pipeline.html) you can use, containing all of the detectors. (At the time of writing, there are three components, but this is set to grow.)"
   ]
  },
  {
   "cell_type": "code",
   "execution_count": 4,
   "metadata": {},
   "outputs": [
    {
     "data": {
      "text/plain": [
       "Pipeline(steps=[('rf.clip', ClipDetector()), ('rf.outlier', OutlierDetector()),\n",
       "                ('rf.correlation', CorrelationDetector()),\n",
       "                ('rf.distributions', DistributionComparator()),\n",
       "                ('rf.imbalance', ImbalanceDetector())])"
      ]
     },
     "execution_count": 4,
     "metadata": {},
     "output_type": "execute_result"
    }
   ],
   "source": [
    "import redflag as rf\n",
    "\n",
    "rf.pipeline"
   ]
  },
  {
   "cell_type": "markdown",
   "metadata": {},
   "source": [
    "We can use this in another pipeline:"
   ]
  },
  {
   "cell_type": "code",
   "execution_count": 5,
   "metadata": {},
   "outputs": [
    {
     "data": {
      "text/plain": [
       "Pipeline(steps=[('standardscaler', StandardScaler()),\n",
       "                ('pipeline',\n",
       "                 Pipeline(steps=[('rf.clip', ClipDetector()),\n",
       "                                 ('rf.outlier', OutlierDetector()),\n",
       "                                 ('rf.correlation', CorrelationDetector()),\n",
       "                                 ('rf.distributions', DistributionComparator()),\n",
       "                                 ('rf.imbalance', ImbalanceDetector())])),\n",
       "                ('svc', SVC())])"
      ]
     },
     "execution_count": 5,
     "metadata": {},
     "output_type": "execute_result"
    }
   ],
   "source": [
    "from sklearn.pipeline import make_pipeline\n",
    "from sklearn.preprocessing import StandardScaler\n",
    "from sklearn.svm import SVC\n",
    "\n",
    "pipe = make_pipeline(StandardScaler(), rf.pipeline, SVC())\n",
    "pipe"
   ]
  },
  {
   "cell_type": "markdown",
   "metadata": {},
   "source": [
    "During the `fit` phase, the `redflag` transformers do three things:\n",
    "\n",
    "- Check the target `y` for imbalance (if it is categorical).\n",
    "- Check the input features `X` for issues like clipping and self-correlation.\n",
    "- Learn the input feature distributions for later comparison."
   ]
  },
  {
   "cell_type": "code",
   "execution_count": 6,
   "metadata": {},
   "outputs": [
    {
     "name": "stderr",
     "output_type": "stream",
     "text": [
      "🚩 Features 0, 1 may have clipped values.\n",
      "🚩 There are more outliers than expected in the training data (349 vs 31).\n",
      "🚩 Features 0, 1, 2 may have correlated values.\n",
      "🚩 The labels are imbalanced by more than the threshold (0.420 > 0.400).\n"
     ]
    },
    {
     "data": {
      "text/plain": [
       "Pipeline(steps=[('standardscaler', StandardScaler()),\n",
       "                ('pipeline',\n",
       "                 Pipeline(steps=[('rf.clip', ClipDetector()),\n",
       "                                 ('rf.outlier',\n",
       "                                  OutlierDetector(threshold=3.3682141715600706)),\n",
       "                                 ('rf.correlation', CorrelationDetector()),\n",
       "                                 ('rf.distributions', DistributionComparator()),\n",
       "                                 ('rf.imbalance', ImbalanceDetector())])),\n",
       "                ('svc', SVC())])"
      ]
     },
     "execution_count": 6,
     "metadata": {},
     "output_type": "execute_result"
    }
   ],
   "source": [
    "pipe.fit(X_train, y_train)"
   ]
  },
  {
   "cell_type": "markdown",
   "metadata": {},
   "source": [
    "When we pass in data for prediction, `redflag` checks the new inputs. There are two categories of check:\n",
    "\n",
    "- Check for first-order issues, e.g. for clipping, or self-correlation.\n",
    "- Compare statistics to the training data, e.g. to compare the distribution of the data or look for outliers."
   ]
  },
  {
   "cell_type": "code",
   "execution_count": 7,
   "metadata": {},
   "outputs": [
    {
     "name": "stderr",
     "output_type": "stream",
     "text": [
      "🚩 Feature 0 may have clipped values.\n",
      "🚩 There are more outliers than expected in the data (30 vs 8).\n",
      "🚩 Features 0, 1, 2 may have correlated values.\n",
      "🚩 Feature 2 has a distribution that is different from training.\n"
     ]
    },
    {
     "data": {
      "text/plain": [
       "array(['siltstone', 'siltstone', 'siltstone', 'siltstone', 'siltstone',\n",
       "       'siltstone', 'siltstone', 'siltstone', 'siltstone', 'siltstone',\n",
       "       'siltstone', 'siltstone', 'siltstone', 'siltstone', 'siltstone',\n",
       "       'siltstone', 'siltstone', 'siltstone', 'siltstone', 'siltstone',\n",
       "       'siltstone', 'siltstone', 'siltstone', 'siltstone', 'wackestone',\n",
       "       'wackestone', 'wackestone', 'siltstone', 'siltstone', 'siltstone',\n",
       "       'siltstone', 'siltstone', 'siltstone', 'siltstone', 'siltstone',\n",
       "       'siltstone', 'siltstone', 'siltstone', 'siltstone', 'siltstone',\n",
       "       'siltstone', 'siltstone', 'wackestone', 'limestone', 'limestone',\n",
       "       'wackestone', 'wackestone', 'wackestone', 'wackestone',\n",
       "       'siltstone', 'siltstone', 'siltstone', 'mudstone', 'mudstone',\n",
       "       'mudstone', 'mudstone', 'mudstone', 'siltstone', 'siltstone',\n",
       "       'siltstone', 'siltstone', 'wackestone', 'siltstone', 'siltstone',\n",
       "       'siltstone', 'siltstone', 'wackestone', 'wackestone', 'wackestone',\n",
       "       'limestone', 'limestone', 'limestone', 'limestone', 'limestone',\n",
       "       'limestone', 'limestone', 'limestone', 'limestone', 'limestone',\n",
       "       'limestone', 'limestone', 'limestone', 'limestone', 'limestone',\n",
       "       'limestone', 'limestone', 'limestone', 'limestone', 'limestone',\n",
       "       'wackestone', 'wackestone', 'wackestone', 'wackestone',\n",
       "       'wackestone', 'wackestone', 'wackestone', 'siltstone', 'siltstone',\n",
       "       'siltstone', 'siltstone', 'siltstone', 'siltstone', 'siltstone',\n",
       "       'siltstone', 'wackestone', 'wackestone', 'wackestone',\n",
       "       'wackestone', 'wackestone', 'limestone', 'wackestone',\n",
       "       'wackestone', 'wackestone', 'wackestone', 'wackestone',\n",
       "       'wackestone', 'siltstone', 'siltstone', 'siltstone', 'siltstone',\n",
       "       'siltstone', 'siltstone', 'siltstone', 'siltstone', 'siltstone',\n",
       "       'siltstone', 'siltstone', 'siltstone', 'siltstone', 'siltstone',\n",
       "       'siltstone', 'siltstone', 'siltstone', 'siltstone', 'siltstone',\n",
       "       'siltstone', 'siltstone', 'siltstone', 'siltstone', 'siltstone',\n",
       "       'siltstone', 'siltstone', 'siltstone', 'siltstone', 'siltstone',\n",
       "       'siltstone', 'siltstone', 'wackestone', 'wackestone', 'wackestone',\n",
       "       'limestone', 'limestone', 'limestone', 'limestone', 'limestone',\n",
       "       'limestone', 'limestone', 'limestone', 'limestone', 'limestone',\n",
       "       'wackestone', 'wackestone', 'siltstone', 'siltstone', 'siltstone',\n",
       "       'wackestone', 'wackestone', 'wackestone', 'wackestone',\n",
       "       'wackestone', 'wackestone', 'wackestone', 'wackestone', 'mudstone',\n",
       "       'wackestone', 'wackestone', 'wackestone', 'wackestone',\n",
       "       'siltstone', 'siltstone', 'siltstone', 'siltstone', 'siltstone',\n",
       "       'siltstone', 'siltstone', 'siltstone', 'siltstone', 'siltstone',\n",
       "       'siltstone', 'siltstone', 'siltstone', 'siltstone', 'siltstone',\n",
       "       'siltstone', 'siltstone', 'siltstone', 'limestone', 'limestone',\n",
       "       'limestone', 'limestone', 'limestone', 'limestone', 'limestone',\n",
       "       'limestone', 'limestone', 'limestone', 'limestone', 'limestone',\n",
       "       'limestone', 'limestone', 'limestone', 'limestone', 'limestone',\n",
       "       'limestone', 'limestone', 'limestone', 'limestone', 'limestone',\n",
       "       'wackestone', 'wackestone', 'wackestone', 'wackestone',\n",
       "       'siltstone', 'siltstone', 'siltstone', 'siltstone', 'siltstone',\n",
       "       'siltstone', 'siltstone', 'siltstone', 'siltstone', 'siltstone',\n",
       "       'siltstone', 'siltstone', 'siltstone', 'siltstone', 'siltstone',\n",
       "       'siltstone', 'siltstone', 'siltstone', 'siltstone', 'siltstone',\n",
       "       'siltstone', 'siltstone', 'limestone', 'limestone', 'limestone',\n",
       "       'limestone', 'limestone', 'limestone', 'limestone', 'limestone',\n",
       "       'limestone', 'wackestone', 'wackestone', 'siltstone', 'siltstone',\n",
       "       'siltstone', 'siltstone', 'siltstone', 'siltstone', 'siltstone',\n",
       "       'siltstone', 'siltstone', 'siltstone', 'siltstone', 'siltstone',\n",
       "       'siltstone', 'siltstone', 'siltstone', 'siltstone', 'siltstone',\n",
       "       'siltstone', 'siltstone', 'siltstone', 'limestone', 'limestone',\n",
       "       'limestone', 'limestone', 'limestone', 'limestone', 'limestone',\n",
       "       'limestone', 'limestone', 'wackestone', 'limestone', 'siltstone',\n",
       "       'siltstone', 'siltstone', 'limestone', 'limestone', 'limestone',\n",
       "       'limestone', 'limestone', 'limestone', 'limestone', 'limestone',\n",
       "       'limestone', 'siltstone', 'siltstone', 'siltstone', 'siltstone',\n",
       "       'siltstone', 'siltstone', 'siltstone', 'wackestone', 'wackestone',\n",
       "       'wackestone', 'wackestone', 'limestone', 'limestone', 'limestone',\n",
       "       'limestone', 'limestone', 'limestone', 'limestone', 'limestone',\n",
       "       'limestone', 'siltstone', 'mudstone', 'mudstone', 'wackestone',\n",
       "       'wackestone', 'wackestone', 'wackestone', 'siltstone', 'siltstone',\n",
       "       'siltstone', 'siltstone', 'siltstone', 'siltstone', 'siltstone',\n",
       "       'siltstone', 'siltstone', 'siltstone', 'siltstone', 'siltstone',\n",
       "       'siltstone', 'siltstone', 'siltstone', 'siltstone', 'siltstone',\n",
       "       'siltstone', 'siltstone', 'siltstone', 'siltstone', 'siltstone',\n",
       "       'siltstone', 'siltstone', 'siltstone', 'siltstone', 'siltstone',\n",
       "       'siltstone', 'siltstone', 'siltstone', 'siltstone', 'siltstone',\n",
       "       'siltstone', 'siltstone', 'siltstone', 'siltstone', 'limestone',\n",
       "       'limestone', 'limestone', 'limestone', 'limestone', 'limestone',\n",
       "       'limestone', 'limestone', 'limestone', 'limestone', 'limestone',\n",
       "       'limestone', 'limestone', 'limestone', 'limestone', 'limestone',\n",
       "       'limestone', 'limestone', 'limestone', 'limestone', 'limestone',\n",
       "       'limestone', 'wackestone', 'wackestone', 'wackestone',\n",
       "       'wackestone', 'wackestone', 'wackestone', 'wackestone',\n",
       "       'wackestone', 'wackestone', 'wackestone', 'wackestone',\n",
       "       'wackestone', 'wackestone', 'wackestone', 'wackestone',\n",
       "       'wackestone', 'wackestone', 'wackestone', 'wackestone',\n",
       "       'wackestone', 'wackestone', 'wackestone', 'wackestone',\n",
       "       'wackestone', 'wackestone', 'wackestone', 'wackestone',\n",
       "       'wackestone', 'wackestone', 'wackestone', 'wackestone',\n",
       "       'wackestone', 'wackestone', 'wackestone', 'wackestone',\n",
       "       'wackestone', 'siltstone', 'siltstone', 'siltstone', 'mudstone',\n",
       "       'mudstone', 'mudstone', 'mudstone', 'mudstone', 'mudstone',\n",
       "       'mudstone', 'siltstone', 'siltstone', 'siltstone', 'siltstone',\n",
       "       'siltstone', 'siltstone', 'wackestone', 'siltstone', 'siltstone',\n",
       "       'siltstone', 'siltstone', 'siltstone', 'siltstone', 'siltstone',\n",
       "       'siltstone', 'siltstone', 'siltstone', 'siltstone', 'siltstone',\n",
       "       'siltstone', 'siltstone', 'siltstone', 'siltstone', 'siltstone',\n",
       "       'siltstone', 'siltstone', 'siltstone', 'siltstone', 'siltstone',\n",
       "       'siltstone', 'siltstone', 'siltstone', 'siltstone', 'wackestone',\n",
       "       'limestone', 'limestone', 'limestone', 'limestone', 'limestone',\n",
       "       'limestone', 'limestone', 'wackestone', 'wackestone', 'sandstone',\n",
       "       'sandstone', 'sandstone', 'siltstone', 'siltstone', 'siltstone',\n",
       "       'siltstone', 'siltstone', 'siltstone', 'siltstone', 'siltstone',\n",
       "       'siltstone', 'siltstone', 'siltstone', 'siltstone', 'siltstone',\n",
       "       'siltstone', 'siltstone', 'siltstone', 'siltstone', 'siltstone',\n",
       "       'siltstone', 'siltstone', 'siltstone', 'wackestone', 'wackestone',\n",
       "       'wackestone', 'siltstone', 'siltstone', 'siltstone', 'siltstone',\n",
       "       'siltstone', 'siltstone', 'wackestone', 'wackestone', 'limestone',\n",
       "       'limestone', 'limestone', 'limestone', 'limestone', 'wackestone',\n",
       "       'wackestone', 'wackestone', 'wackestone', 'wackestone',\n",
       "       'wackestone', 'wackestone', 'wackestone', 'wackestone',\n",
       "       'wackestone', 'wackestone', 'wackestone', 'wackestone',\n",
       "       'wackestone', 'wackestone', 'siltstone', 'siltstone', 'siltstone',\n",
       "       'siltstone', 'siltstone', 'sandstone', 'sandstone', 'sandstone',\n",
       "       'sandstone', 'sandstone', 'sandstone', 'sandstone', 'sandstone',\n",
       "       'sandstone', 'sandstone', 'sandstone', 'sandstone', 'sandstone',\n",
       "       'sandstone', 'sandstone', 'siltstone', 'siltstone', 'wackestone',\n",
       "       'mudstone', 'mudstone', 'mudstone', 'wackestone', 'wackestone',\n",
       "       'wackestone', 'wackestone', 'wackestone', 'wackestone',\n",
       "       'siltstone', 'siltstone', 'siltstone', 'siltstone', 'wackestone',\n",
       "       'wackestone', 'wackestone', 'siltstone', 'siltstone', 'sandstone',\n",
       "       'siltstone', 'limestone', 'limestone', 'limestone', 'limestone',\n",
       "       'limestone', 'limestone', 'limestone', 'limestone', 'limestone',\n",
       "       'limestone', 'limestone', 'limestone', 'limestone', 'wackestone',\n",
       "       'wackestone', 'wackestone', 'wackestone', 'wackestone',\n",
       "       'wackestone', 'wackestone', 'wackestone', 'wackestone',\n",
       "       'wackestone', 'wackestone', 'wackestone', 'wackestone', 'dolomite',\n",
       "       'limestone', 'limestone', 'wackestone', 'wackestone', 'wackestone',\n",
       "       'siltstone', 'siltstone', 'siltstone', 'siltstone', 'siltstone',\n",
       "       'siltstone', 'siltstone', 'siltstone', 'siltstone', 'siltstone',\n",
       "       'siltstone', 'siltstone', 'siltstone', 'siltstone', 'siltstone',\n",
       "       'siltstone', 'siltstone', 'siltstone', 'sandstone', 'siltstone',\n",
       "       'limestone', 'limestone', 'limestone', 'limestone', 'limestone',\n",
       "       'limestone', 'limestone', 'limestone', 'limestone', 'limestone',\n",
       "       'limestone', 'limestone', 'limestone', 'limestone', 'limestone',\n",
       "       'limestone', 'wackestone', 'siltstone', 'sandstone', 'sandstone',\n",
       "       'sandstone', 'limestone', 'siltstone', 'siltstone', 'mudstone',\n",
       "       'mudstone', 'mudstone', 'siltstone', 'siltstone', 'siltstone',\n",
       "       'siltstone', 'siltstone', 'siltstone', 'siltstone', 'siltstone',\n",
       "       'siltstone', 'siltstone', 'siltstone', 'siltstone', 'siltstone',\n",
       "       'siltstone', 'siltstone', 'siltstone', 'siltstone', 'siltstone',\n",
       "       'siltstone', 'siltstone', 'siltstone', 'limestone', 'limestone',\n",
       "       'limestone', 'limestone', 'limestone', 'limestone', 'limestone',\n",
       "       'limestone', 'limestone', 'limestone', 'limestone', 'limestone',\n",
       "       'wackestone', 'wackestone', 'wackestone', 'siltstone', 'siltstone',\n",
       "       'siltstone', 'siltstone', 'siltstone', 'siltstone', 'siltstone',\n",
       "       'siltstone', 'siltstone', 'siltstone', 'siltstone', 'siltstone',\n",
       "       'siltstone', 'siltstone', 'siltstone', 'siltstone', 'siltstone',\n",
       "       'siltstone', 'siltstone', 'siltstone', 'siltstone', 'siltstone',\n",
       "       'limestone', 'limestone', 'limestone', 'limestone', 'limestone',\n",
       "       'limestone', 'limestone', 'limestone', 'wackestone', 'wackestone',\n",
       "       'wackestone', 'wackestone', 'wackestone', 'wackestone',\n",
       "       'siltstone', 'siltstone', 'siltstone', 'siltstone', 'wackestone',\n",
       "       'wackestone', 'wackestone', 'siltstone', 'siltstone', 'siltstone',\n",
       "       'siltstone', 'siltstone', 'limestone', 'limestone', 'limestone',\n",
       "       'limestone', 'limestone', 'limestone', 'wackestone', 'wackestone',\n",
       "       'limestone', 'dolomite', 'dolomite', 'limestone', 'siltstone',\n",
       "       'limestone', 'siltstone', 'siltstone', 'siltstone', 'siltstone',\n",
       "       'siltstone', 'siltstone', 'siltstone', 'siltstone', 'siltstone',\n",
       "       'siltstone', 'siltstone', 'siltstone', 'siltstone', 'limestone',\n",
       "       'limestone', 'wackestone', 'siltstone', 'siltstone', 'siltstone',\n",
       "       'siltstone', 'siltstone', 'siltstone', 'siltstone', 'siltstone',\n",
       "       'siltstone', 'siltstone', 'siltstone', 'siltstone', 'siltstone',\n",
       "       'siltstone', 'siltstone', 'siltstone', 'siltstone', 'mudstone',\n",
       "       'mudstone', 'limestone', 'limestone', 'mudstone', 'siltstone',\n",
       "       'siltstone', 'mudstone', 'siltstone', 'siltstone', 'siltstone',\n",
       "       'siltstone', 'siltstone', 'siltstone', 'siltstone', 'siltstone',\n",
       "       'siltstone', 'siltstone', 'siltstone', 'siltstone', 'siltstone',\n",
       "       'siltstone', 'siltstone', 'siltstone', 'siltstone', 'siltstone',\n",
       "       'siltstone', 'siltstone', 'siltstone'], dtype=object)"
      ]
     },
     "execution_count": 7,
     "metadata": {},
     "output_type": "execute_result"
    }
   ],
   "source": [
    "pipe.predict(X_test)"
   ]
  },
  {
   "cell_type": "markdown",
   "metadata": {},
   "source": [
    "But you can't pass arguments to the `redflag_pipeline` components yet, for example to change the sensitivity of the `DistributionComparator`. To do that, use them separately."
   ]
  },
  {
   "cell_type": "markdown",
   "metadata": {},
   "source": [
    "## Using the 'detector' transformers\n",
    "\n",
    "Let's construct a pipeline from `redflag`'s transformers directly.\n",
    "\n",
    "Let's drop the clipped records of the GR log."
   ]
  },
  {
   "cell_type": "code",
   "execution_count": 8,
   "metadata": {},
   "outputs": [],
   "source": [
    "df = df.loc[df['GR'] < 200]\n",
    "\n",
    "test_flag = df['Well Name'].isin(test_wells)\n",
    "\n",
    "X_test = df.loc[test_flag, features].values\n",
    "y_test = df.loc[test_flag, 'Lithology'].values\n",
    "\n",
    "X_train = df.loc[~test_flag, features].values\n",
    "y_train = df.loc[~test_flag, 'Lithology'].values"
   ]
  },
  {
   "cell_type": "markdown",
   "metadata": {},
   "source": [
    "We know all this data is correlated to itself, so we can leave that check out.\n",
    "\n",
    "We don't think the class imbalance is too troubling, so we raise the threshold on that.\n",
    "\n",
    "We'll lower the confidence level of the outlier detector to 80% (i.e. we expect 20% of the data points will likely qualify as outliers). This might still trigger the detector in the training data.\n",
    "\n",
    "Finally, we'll lower the threshold for the distribution comparison. This is the minimum Wasserstein distance required to trigger the warning.\n",
    "\n",
    "So here's the new pipeline:"
   ]
  },
  {
   "cell_type": "code",
   "execution_count": 9,
   "metadata": {},
   "outputs": [],
   "source": [
    "pipe = make_pipeline(StandardScaler(),\n",
    "                     rf.ImbalanceDetector(threshold=0.5),\n",
    "                     rf.ClipDetector(),\n",
    "                     rf.OutlierDetector(p=0.80),\n",
    "                     rf.DistributionComparator(threshold=0.25),\n",
    "                     SVC())"
   ]
  },
  {
   "cell_type": "markdown",
   "metadata": {},
   "source": [
    "Remember, feature 0 is no longer clipped, and the correlation detection is not being run. So we expect to see only the outlier issue, and the clipping issue with the RHOB column:"
   ]
  },
  {
   "cell_type": "code",
   "execution_count": 10,
   "metadata": {},
   "outputs": [
    {
     "name": "stderr",
     "output_type": "stream",
     "text": [
      "🚩 Feature 1 may have clipped values.\n",
      "🚩 There are more outliers than expected in the training data (839 vs 626).\n"
     ]
    },
    {
     "data": {
      "text/plain": [
       "Pipeline(steps=[('standardscaler', StandardScaler()),\n",
       "                ('imbalancedetector', ImbalanceDetector(threshold=0.5)),\n",
       "                ('clipdetector', ClipDetector()),\n",
       "                ('outlierdetector',\n",
       "                 OutlierDetector(p=0.8, threshold=2.154443705823081)),\n",
       "                ('distributioncomparator',\n",
       "                 DistributionComparator(threshold=0.25)),\n",
       "                ('svc', SVC())])"
      ]
     },
     "execution_count": 10,
     "metadata": {},
     "output_type": "execute_result"
    }
   ],
   "source": [
    "pipe.fit(X_train, y_train)"
   ]
  },
  {
   "cell_type": "markdown",
   "metadata": {},
   "source": [
    "The test dataset does not trigger the higher threshold for outliers. But with the new lower Wasserstein threshold, the distribution comparison fails for all of the features:"
   ]
  },
  {
   "cell_type": "code",
   "execution_count": 11,
   "metadata": {
    "scrolled": false
   },
   "outputs": [
    {
     "name": "stderr",
     "output_type": "stream",
     "text": [
      "🚩 Features 0, 1, 2 have distributions that are different from training.\n"
     ]
    }
   ],
   "source": [
    "y_pred = pipe.predict(X_test)"
   ]
  },
  {
   "cell_type": "markdown",
   "metadata": {},
   "source": [
    "## What to do about the warnings\n",
    "\n",
    "If one of the detectors triggers, what should you do? Here are some ideas:\n",
    "\n",
    "\n",
    "### `ImbalanceDetector`\n",
    "\n",
    "- Check `rf.class_counts(y)` to see the support for each class in the dataset.\n",
    "- Check `rf.minority_classes(y)` to see which classes are considered 'minority'.\n",
    "\n",
    "This detector does not run during `transform`, only during `fit`. Usually, we don't worry about imbalance in data we are predicting on. If this is a concern for you, you can use `fit` on it (and make a GitHub Issue about it, because we could add an option to run during transform as well).\n",
    "\n",
    "\n",
    "### `ClipDetector`\n",
    "\n",
    "- Make sure the clipping values seem reasonable and do not lose a lot of dynamic range in the data (e.g. don't clip daily temperatures for Europe at 0 and 25 deg C).\n",
    "- Check that the clipped data cannot be dealt with in some other way (e.g. you can attenuate very large values with a log transformation, if it makes sense in your data).\n",
    "- Check that the clipped data should not simply be dropped from the dataset (e.g. if there are only a few values out of many, or if the other features also look suspicious for those records).\n",
    "\n",
    "You may or may not be concerned about clipping. You may want to try training your models with and without the clipped records, to see if they make a difference to the model performance. I'm not aware of any research on this.\n",
    "\n",
    "\n",
    "### `CorrelationDetector`\n",
    "\n",
    "If the data is correlated to shifted versions of itself, e.g. because the data points are contiguous in time or space (daily temperature records, spatial measurements of rock properties, etc), then the so-called [IID assumption](https://en.wikipedia.org/wiki/Independent_and_identically_distributed_random_variables) fails. In particular, your records are not independent. One of the big pitfalls with non-independent data is randomly splitting the data into train and test sets &mdash; you must not do this, it will result in information leakage and thus over-optimistic model evaulation. Instead, you should split the data using contiguous groups (date ranges, patient ID, borehole, or similar).\n",
    "\n",
    "\n",
    "### `OutlierDetector`\n",
    "\n",
    "There are a lot of ways of looking for outliers in data. The outlier detector only implements one strategy:\n",
    "\n",
    "- Learn the robust location and covariance of the training data (you can think of these as outlier-insensitive, multi-dimensional analogs to mean and variance in a single random variable).\n",
    "- As with the Gaussian distribution, we expect a certain number of samples to fall far from the centre of this distribution. For example, we expect 99.7% of values to be within 3 standard deviations of the mean.\n",
    "- So, given a confidence level like 99.7%, `redflag` counts how many values are more than 3 SD's away. If there are more than expected (e.g.  we expect 3 samples out of 1000), the detector is triggered.\n",
    "- The default confidence level is 99% (you expect 1% of the data to be noise), but you can change it.\n",
    "\n",
    "So the location and covariance are learned from the training data; the detector then runs on the training data and on future datasets during the prediction phase (test, val, and in production).\n",
    "\n",
    "If the detector is triggered, you should check which samples are considered outliers with `rf.get_outliers(method='mah', p=0.99)` (without your value for `p`). This function returns the _indices_ of the outlier samples. You can also use `rf.expected_outliers(*X.shape, p=0.99)` to check how many outliers you'd expect in the dataset, for a given value of `p`/.\n",
    "\n",
    "You can check other methods, such as `iso` (isolation forest) to see if those also consider those samples to be outliers or not. If you think the samples are okay, you should keep them. If you think they are noise, you could remove them &mdash; but remember your model will not 'know' about these kinds of data points in the future and you should therefore remove them from future datasets too, before making predictions on them.\n",
    "\n",
    "\n",
    "### `DistributionComparator`\n",
    "\n",
    "Here's what this thing does:\n",
    "\n",
    "- When you call `fit` (e.g. during training), the detector learns the empirical, binned distributions of your features, one at a time. No warnings can be emitted during fitting, you are only learning the distributions.\n",
    "- When you call `transform` (e.g. during evaluation, testing, or in production), the detector compares the distributions in the data to those that were learned during fitting.\n",
    "- The comparison uses the [1-Wasserstein distance](https://en.wikipedia.org/wiki/Wasserstein_metric), or \"earth mover's distance\". Each feature is compared in turn; it is not a multivariate treatment. (If you'd like to see wuch a thing, please make a GitHub Issue, or have a crack at implementing it!)\n",
    "- If the distance is more than the threshold, 1 by default, the warning is triggered.\n",
    "\n",
    "If this detector triggers, it's a sign that you may have violated the 'identical  distribution' part of the [IID assumption](https://en.wikipedia.org/wiki/Independent_and_identically_distributed_random_variables). You should examine the distributions of the features in the training data vs the current data that triggered the detector. For example, you can do this visually with something like Seaborn's `displot` or `kdeplot` functions.\n",
    "\n",
    "A small difference, especially on just a few features, might just result from natural variance in the data and you may decide to ignore it. A large difference may be a result of forgetting to scale the data using the scaling parameters learned from the training data. A large difference could also result from trying to apply the model to a new 'domain', e.g. a new geographic location, set of patients, or type of widget. \n",
    "\n",
    "If you're in the model selection phase, it's possible that a different train/test split will give more comparable distributions."
   ]
  }
 ],
 "metadata": {
  "kernelspec": {
   "display_name": "redflag",
   "language": "python",
   "name": "redflag"
  },
  "language_info": {
   "codemirror_mode": {
    "name": "ipython",
    "version": 3
   },
   "file_extension": ".py",
   "mimetype": "text/x-python",
   "name": "python",
   "nbconvert_exporter": "python",
   "pygments_lexer": "ipython3",
   "version": "3.9.7"
  }
 },
 "nbformat": 4,
 "nbformat_minor": 4
}
