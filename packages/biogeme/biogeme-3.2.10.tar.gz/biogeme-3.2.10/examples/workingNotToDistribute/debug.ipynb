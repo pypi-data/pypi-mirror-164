{
  "cells": [
    {
      "cell_type": "code",
      "metadata": {},
      "source": [
        "#%%\n",
        "import biogeme.biogeme as bio\n",
        "import biogeme.database as db\n",
        "import pandas as pd\n",
        "import numpy as np\n",
        "from biogeme.expressions import Beta, Variable, exp\n",
        "import biogeme.messaging as msg\n",
        "logger = msg.bioMessage()\n",
        "logger.setDetailed()\n",
        "\n",
        "df = pd.DataFrame({'Person':[1,1,1,2,2],\n",
        "                   'Exclude':[0,0,1,0,1],\n",
        "                   'Variable1':[1,2,3,4,5],\n",
        "                   'Variable2':[10,20,30,40,50],\n",
        "                   'Choice':[1,2,3,1,2],\n",
        "                   'Av1':[0,1,1,1,1],\n",
        "                   'Av2':[1,1,1,1,1],\n",
        "                   'Av3':[0,1,1,1,1]})\n",
        "myData = db.Database('test', df)\n",
        "\n",
        "\n",
        "Variable1=Variable('Variable1')\n",
        "Variable2=Variable('Variable2')\n",
        "beta1 = Beta('beta1', -1.0, -3, 3, 0)\n",
        "beta2 = Beta('beta2', 2.0, -3, 10, 0)\n",
        "likelihood = -beta1**2 * Variable1 - exp(beta2 * beta1) \\\n",
        "    * Variable2 - beta2**4\n",
        "simul = beta1 / Variable1 + beta2 / Variable2\n",
        "dictOfExpressions = {'loglike': likelihood, \n",
        "                     'beta1': beta1,\n",
        "                     'simul': simul}\n",
        "\n",
        "myBiogeme = bio.BIOGEME(myData, dictOfExpressions)\n",
        "myBiogeme.modelName = 'simpleExample'\n",
        "results = myBiogeme.estimate(bootstrap=10)\n",
        "\n",
        "print('******* HERE: SIMULATE *******')\n",
        "simulationWithDefaultBetas = myBiogeme.simulate()\n",
        "print(simulationWithDefaultBetas)\n",
        "\n",
        "print('******* HERE: VALIDATE *******')\n",
        "\n",
        "validationData = myData.split(slices=5)\n",
        "validation_results = myBiogeme.validate(results, validationData)\n"
      ],
      "outputs": [],
      "execution_count": null
    }
  ],
  "metadata": {
    "anaconda-cloud": {},
    "kernelspec": {
      "display_name": "Python 3",
      "language": "python",
      "name": "python3"
    },
    "language_info": {
      "codemirror_mode": {
        "name": "ipython",
        "version": 3
      },
      "file_extension": ".py",
      "mimetype": "text/x-python",
      "name": "python",
      "nbconvert_exporter": "python",
      "pygments_lexer": "ipython3",
      "version": "3.6.1"
    }
  },
  "nbformat": 4,
  "nbformat_minor": 4
}