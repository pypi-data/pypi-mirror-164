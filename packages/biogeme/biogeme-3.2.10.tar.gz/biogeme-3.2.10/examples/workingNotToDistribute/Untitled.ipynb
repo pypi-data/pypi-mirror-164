{
 "cells": [
  {
   "cell_type": "code",
   "execution_count": 1,
   "id": "33cef975",
   "metadata": {},
   "outputs": [],
   "source": [
    "import abc"
   ]
  },
  {
   "cell_type": "code",
   "execution_count": 2,
   "id": "4a8f152d",
   "metadata": {},
   "outputs": [],
   "source": [
    "class baseClass(metaclass=abc.ABCMeta):\n",
    "    \"\"\"\n",
    "    This is an abstract class defining an element.\n",
    "    \"\"\"\n",
    "    @abc.abstractmethod\n",
    "    def __repr__(self):\n",
    "        pass\n",
    "\n",
    "    def __hash__(self):\n",
    "        return hash(self.__repr__())\n",
    "\n",
    "    def __eq__(self, other):\n",
    "        return self.__repr__() == other.__repr__()\n",
    "\n",
    "    @abc.abstractmethod\n",
    "    def __str__(self):\n",
    "        pass\n",
    "\n"
   ]
  },
  {
   "cell_type": "code",
   "execution_count": 4,
   "id": "15b3596a",
   "metadata": {},
   "outputs": [],
   "source": [
    "class myClass(baseClass):\n",
    "    def __init__(self, data):\n",
    "        super().__init__()\n",
    "        self.data = data\n",
    "        \n",
    "    def __repr__(self):\n",
    "        return str(self.data)\n",
    "\n",
    "    def __str__(self):\n",
    "        return str(self.data)\n",
    "   "
   ]
  },
  {
   "cell_type": "code",
   "execution_count": 8,
   "id": "763750a5",
   "metadata": {},
   "outputs": [],
   "source": [
    "d = [1, 2, 3, 4]\n",
    "obj1 = myClass(d)\n",
    "obj2 = myClass(d)\n",
    "obj3 = myClass([4, 3, 2, 1])"
   ]
  },
  {
   "cell_type": "code",
   "execution_count": 9,
   "id": "fa21515a",
   "metadata": {},
   "outputs": [
    {
     "name": "stdout",
     "output_type": "stream",
     "text": [
      "[1, 2, 3, 4]\n"
     ]
    }
   ],
   "source": [
    "print(obj1)"
   ]
  },
  {
   "cell_type": "code",
   "execution_count": 10,
   "id": "4add428a",
   "metadata": {},
   "outputs": [
    {
     "data": {
      "text/plain": [
       "True"
      ]
     },
     "execution_count": 10,
     "metadata": {},
     "output_type": "execute_result"
    }
   ],
   "source": [
    "obj1 == obj2"
   ]
  },
  {
   "cell_type": "code",
   "execution_count": 11,
   "id": "0af4ce2c",
   "metadata": {},
   "outputs": [
    {
     "data": {
      "text/plain": [
       "False"
      ]
     },
     "execution_count": 11,
     "metadata": {},
     "output_type": "execute_result"
    }
   ],
   "source": [
    "obj1 == obj3"
   ]
  },
  {
   "cell_type": "code",
   "execution_count": 12,
   "id": "a95b55bb",
   "metadata": {},
   "outputs": [],
   "source": [
    "mydict = {}"
   ]
  },
  {
   "cell_type": "code",
   "execution_count": 13,
   "id": "4954a657",
   "metadata": {},
   "outputs": [],
   "source": [
    "mydict[obj1] = 1"
   ]
  },
  {
   "cell_type": "code",
   "execution_count": 21,
   "id": "accd53a5",
   "metadata": {},
   "outputs": [
    {
     "data": {
      "text/plain": [
       "True"
      ]
     },
     "execution_count": 21,
     "metadata": {},
     "output_type": "execute_result"
    }
   ],
   "source": [
    "obj2 in mydict"
   ]
  },
  {
   "cell_type": "code",
   "execution_count": null,
   "id": "98373ebb",
   "metadata": {},
   "outputs": [],
   "source": []
  }
 ],
 "metadata": {
  "kernelspec": {
   "display_name": "Python 3",
   "language": "python",
   "name": "python3"
  },
  "language_info": {
   "codemirror_mode": {
    "name": "ipython",
    "version": 3
   },
   "file_extension": ".py",
   "mimetype": "text/x-python",
   "name": "python",
   "nbconvert_exporter": "python",
   "pygments_lexer": "ipython3",
   "version": "3.8.8"
  }
 },
 "nbformat": 4,
 "nbformat_minor": 5
}
