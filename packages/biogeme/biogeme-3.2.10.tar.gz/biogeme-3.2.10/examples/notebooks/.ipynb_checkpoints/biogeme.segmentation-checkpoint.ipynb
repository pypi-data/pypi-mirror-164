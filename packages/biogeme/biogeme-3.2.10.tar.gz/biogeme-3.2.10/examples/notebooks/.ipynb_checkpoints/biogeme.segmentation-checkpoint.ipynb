{
 "cells": [
  {
   "cell_type": "markdown",
   "id": "9adcd426",
   "metadata": {},
   "source": [
    "# biogeme.segmentation"
   ]
  },
  {
   "cell_type": "markdown",
   "id": "8a913557",
   "metadata": {},
   "source": [
    "## Examples of use"
   ]
  },
  {
   "cell_type": "markdown",
   "id": "206c82e9",
   "metadata": {},
   "source": [
    "This webpage is for programmers who need examples of use of the functions of the module. The examples are designed to illustrate the syntax. They do not correspond to any meaningful model. For examples of models, visit  [biogeme.epfl.ch](http://biogeme.epfl.ch)."
   ]
  },
  {
   "cell_type": "code",
   "execution_count": 1,
   "id": "8cf78e81",
   "metadata": {},
   "outputs": [
    {
     "name": "stdout",
     "output_type": "stream",
     "text": [
      "2022-04-10 18:23:20.201710\n"
     ]
    }
   ],
   "source": [
    "import datetime\n",
    "print(datetime.datetime.now())"
   ]
  },
  {
   "cell_type": "code",
   "execution_count": 2,
   "id": "e34ce231",
   "metadata": {},
   "outputs": [
    {
     "name": "stdout",
     "output_type": "stream",
     "text": [
      "biogeme 3.2.9a [2022-04-10]\n",
      "Version entirely written in Python\n",
      "Home page: http://biogeme.epfl.ch\n",
      "Submit questions to https://groups.google.com/d/forum/biogeme\n",
      "Michel Bierlaire, Transport and Mobility Laboratory, Ecole Polytechnique Fédérale de Lausanne (EPFL)\n",
      "\n"
     ]
    }
   ],
   "source": [
    "import biogeme.version as ver\n",
    "print(ver.getText())"
   ]
  },
  {
   "cell_type": "code",
   "execution_count": 3,
   "id": "c35a2b28",
   "metadata": {},
   "outputs": [],
   "source": [
    "import biogeme.segmentation as seg\n",
    "from biogeme.expressions import Variable, Beta"
   ]
  },
  {
   "cell_type": "code",
   "execution_count": 4,
   "id": "1c079c3c",
   "metadata": {},
   "outputs": [],
   "source": [
    "socio_eco_1 = Variable('socio_eco_1')"
   ]
  },
  {
   "cell_type": "code",
   "execution_count": 5,
   "id": "fab7d1cb",
   "metadata": {},
   "outputs": [],
   "source": [
    "segmentation_1 = seg.SegmentationTuple(\n",
    "    variable=socio_eco_1,\n",
    "    mapping={\n",
    "        1: 'high',\n",
    "        2: 'medium',\n",
    "        3: 'low',\n",
    "    }\n",
    ")"
   ]
  },
  {
   "cell_type": "code",
   "execution_count": 6,
   "id": "c2894cfb",
   "metadata": {},
   "outputs": [],
   "source": [
    "socio_eco_2 = Variable('socio_eco_2')"
   ]
  },
  {
   "cell_type": "code",
   "execution_count": 7,
   "id": "d2ece4cd",
   "metadata": {},
   "outputs": [],
   "source": [
    "segmentation_2 = seg.SegmentationTuple(\n",
    "    variable=socio_eco_2,\n",
    "    mapping={\n",
    "        1: 'level_1',\n",
    "        2: 'level_2',\n",
    "        3: 'level_3',\n",
    "        4: 'level_4',\n",
    "    }\n",
    ")"
   ]
  },
  {
   "cell_type": "code",
   "execution_count": 8,
   "id": "fe62e723",
   "metadata": {},
   "outputs": [],
   "source": [
    "beta_x = Beta('beta_x', 0, None, None, 0)"
   ]
  },
  {
   "cell_type": "code",
   "execution_count": 9,
   "id": "3292b25c",
   "metadata": {},
   "outputs": [
    {
     "data": {
      "text/plain": [
       "{1: beta_x_high(0), 2: beta_x_medium(0), 3: beta_x_low(0)}"
      ]
     },
     "execution_count": 9,
     "metadata": {},
     "output_type": "execute_result"
    }
   ],
   "source": [
    "segmented_parameter = seg.create_segmented_parameter(beta_x, segmentation_1.mapping)\n",
    "segmented_parameter"
   ]
  },
  {
   "cell_type": "code",
   "execution_count": 10,
   "id": "2f3968ab",
   "metadata": {},
   "outputs": [
    {
     "data": {
      "text/plain": [
       "bioMultSum((beta_x_high(0) * (socio_eco_1 == `1`)), (beta_x_medium(0) * (socio_eco_1 == `2`)), (beta_x_low(0) * (socio_eco_1 == `3`)))"
      ]
     },
     "execution_count": 10,
     "metadata": {},
     "output_type": "execute_result"
    }
   ],
   "source": [
    "expr = seg.combine_segmented_expressions(socio_eco_1, segmented_parameter)\n",
    "expr"
   ]
  },
  {
   "cell_type": "code",
   "execution_count": 11,
   "id": "6f681869",
   "metadata": {},
   "outputs": [
    {
     "name": "stdout",
     "output_type": "stream",
     "text": [
      "beta_socio_eco_1_1 = beta * (socio_eco_1 == 1)\n",
      "beta_socio_eco_1_2 = beta * (socio_eco_1 == 2)\n",
      "beta_socio_eco_1_3 = beta * (socio_eco_1 == 3)\n",
      "beta_socio_eco_1 = bioMultSum([beta_socio_eco_1_1, beta_socio_eco_1_2, beta_socio_eco_1_3])\n",
      "\n"
     ]
    }
   ],
   "source": [
    "code = seg.code_to_combine_segmented_expressions(socio_eco_1, segmented_parameter, 'beta')\n",
    "print(code)"
   ]
  },
  {
   "cell_type": "code",
   "execution_count": 12,
   "id": "cd5164f7",
   "metadata": {},
   "outputs": [
    {
     "data": {
      "text/plain": [
       "bioMultSum((bioMultSum((beta_x_level_1_high(0) * (socio_eco_1 == `1`)), (beta_x_level_1_medium(0) * (socio_eco_1 == `2`)), (beta_x_level_1_low(0) * (socio_eco_1 == `3`))) * (socio_eco_2 == `1`)), (bioMultSum((beta_x_level_2_high(0) * (socio_eco_1 == `1`)), (beta_x_level_2_medium(0) * (socio_eco_1 == `2`)), (beta_x_level_2_low(0) * (socio_eco_1 == `3`))) * (socio_eco_2 == `2`)), (bioMultSum((beta_x_level_3_high(0) * (socio_eco_1 == `1`)), (beta_x_level_3_medium(0) * (socio_eco_1 == `2`)), (beta_x_level_3_low(0) * (socio_eco_1 == `3`))) * (socio_eco_2 == `3`)), (bioMultSum((beta_x_level_4_high(0) * (socio_eco_1 == `1`)), (beta_x_level_4_medium(0) * (socio_eco_1 == `2`)), (beta_x_level_4_low(0) * (socio_eco_1 == `3`))) * (socio_eco_2 == `4`)))"
      ]
     },
     "execution_count": 12,
     "metadata": {},
     "output_type": "execute_result"
    }
   ],
   "source": [
    "segmented_parameter_comb = seg.segment_parameter(beta_x, [segmentation_1, segmentation_2], combinatorial=True)\n",
    "segmented_parameter_comb"
   ]
  },
  {
   "cell_type": "code",
   "execution_count": 13,
   "id": "9ce23403",
   "metadata": {},
   "outputs": [
    {
     "ename": "TypeError",
     "evalue": "cannot unpack non-iterable int object",
     "output_type": "error",
     "traceback": [
      "\u001b[0;31m---------------------------------------------------------------------------\u001b[0m",
      "\u001b[0;31mTypeError\u001b[0m                                 Traceback (most recent call last)",
      "\u001b[0;32m/var/folders/rn/zj30sh596k99tv9nkc05_v7h0000gn/T/ipykernel_42119/277981293.py\u001b[0m in \u001b[0;36m<module>\u001b[0;34m\u001b[0m\n\u001b[0;32m----> 1\u001b[0;31m \u001b[0msegmented_parameter_lin\u001b[0m \u001b[0;34m=\u001b[0m \u001b[0mseg\u001b[0m\u001b[0;34m.\u001b[0m\u001b[0msegment_parameter\u001b[0m\u001b[0;34m(\u001b[0m\u001b[0mbeta_x\u001b[0m\u001b[0;34m,\u001b[0m \u001b[0;34m[\u001b[0m\u001b[0msegmentation_1\u001b[0m\u001b[0;34m,\u001b[0m \u001b[0msegmentation_2\u001b[0m\u001b[0;34m]\u001b[0m\u001b[0;34m,\u001b[0m \u001b[0mcombinatorial\u001b[0m\u001b[0;34m=\u001b[0m\u001b[0;32mFalse\u001b[0m\u001b[0;34m)\u001b[0m\u001b[0;34m\u001b[0m\u001b[0;34m\u001b[0m\u001b[0m\n\u001b[0m\u001b[1;32m      2\u001b[0m \u001b[0msegmented_parameter_lin\u001b[0m\u001b[0;34m\u001b[0m\u001b[0;34m\u001b[0m\u001b[0m\n",
      "\u001b[0;32m~/opt/anaconda3/envs/python310/lib/python3.10/site-packages/biogeme-3.2.9a0-py3.10-macosx-10.9-x86_64.egg/biogeme/segmentation.py\u001b[0m in \u001b[0;36msegment_parameter\u001b[0;34m(parameter, list_of_segmentations, combinatorial)\u001b[0m\n\u001b[1;32m    149\u001b[0m \u001b[0;31m#        for s in list_of_segmentations\u001b[0m\u001b[0;34m\u001b[0m\u001b[0;34m\u001b[0m\u001b[0m\n\u001b[1;32m    150\u001b[0m \u001b[0;31m#    ]\u001b[0m\u001b[0;34m\u001b[0m\u001b[0;34m\u001b[0m\u001b[0m\n\u001b[0;32m--> 151\u001b[0;31m     all_segments = [\n\u001b[0m\u001b[1;32m    152\u001b[0m         \u001b[0mexpr\u001b[0m \u001b[0;34m*\u001b[0m \u001b[0;34m(\u001b[0m\u001b[0ms\u001b[0m\u001b[0;34m.\u001b[0m\u001b[0mvariable\u001b[0m \u001b[0;34m==\u001b[0m \u001b[0mvalue\u001b[0m\u001b[0;34m)\u001b[0m\u001b[0;34m\u001b[0m\u001b[0;34m\u001b[0m\u001b[0m\n\u001b[1;32m    153\u001b[0m         \u001b[0;32mfor\u001b[0m \u001b[0ms\u001b[0m \u001b[0;32min\u001b[0m \u001b[0mlist_of_segmentations\u001b[0m\u001b[0;34m\u001b[0m\u001b[0;34m\u001b[0m\u001b[0m\n",
      "\u001b[0;32m~/opt/anaconda3/envs/python310/lib/python3.10/site-packages/biogeme-3.2.9a0-py3.10-macosx-10.9-x86_64.egg/biogeme/segmentation.py\u001b[0m in \u001b[0;36m<listcomp>\u001b[0;34m(.0)\u001b[0m\n\u001b[1;32m    152\u001b[0m         \u001b[0mexpr\u001b[0m \u001b[0;34m*\u001b[0m \u001b[0;34m(\u001b[0m\u001b[0ms\u001b[0m\u001b[0;34m.\u001b[0m\u001b[0mvariable\u001b[0m \u001b[0;34m==\u001b[0m \u001b[0mvalue\u001b[0m\u001b[0;34m)\u001b[0m\u001b[0;34m\u001b[0m\u001b[0;34m\u001b[0m\u001b[0m\n\u001b[1;32m    153\u001b[0m         \u001b[0;32mfor\u001b[0m \u001b[0ms\u001b[0m \u001b[0;32min\u001b[0m \u001b[0mlist_of_segmentations\u001b[0m\u001b[0;34m\u001b[0m\u001b[0;34m\u001b[0m\u001b[0m\n\u001b[0;32m--> 154\u001b[0;31m         \u001b[0;32mfor\u001b[0m \u001b[0mvalue\u001b[0m\u001b[0;34m,\u001b[0m \u001b[0mexpr\u001b[0m \u001b[0;32min\u001b[0m \u001b[0mcreate_segmented_parameter\u001b[0m\u001b[0;34m(\u001b[0m\u001b[0mparameter\u001b[0m\u001b[0;34m,\u001b[0m \u001b[0ms\u001b[0m\u001b[0;34m.\u001b[0m\u001b[0mmapping\u001b[0m\u001b[0;34m)\u001b[0m\u001b[0;34m\u001b[0m\u001b[0;34m\u001b[0m\u001b[0m\n\u001b[0m\u001b[1;32m    155\u001b[0m     ]\n\u001b[1;32m    156\u001b[0m \u001b[0;34m\u001b[0m\u001b[0m\n",
      "\u001b[0;31mTypeError\u001b[0m: cannot unpack non-iterable int object"
     ]
    }
   ],
   "source": [
    "segmented_parameter_lin = seg.segment_parameter(beta_x, [segmentation_1, segmentation_2], combinatorial=False)\n",
    "segmented_parameter_lin"
   ]
  },
  {
   "cell_type": "code",
   "execution_count": null,
   "id": "4542d345",
   "metadata": {},
   "outputs": [],
   "source": []
  }
 ],
 "metadata": {
  "kernelspec": {
   "display_name": "Python 3 (ipykernel)",
   "language": "python",
   "name": "python3"
  },
  "language_info": {
   "codemirror_mode": {
    "name": "ipython",
    "version": 3
   },
   "file_extension": ".py",
   "mimetype": "text/x-python",
   "name": "python",
   "nbconvert_exporter": "python",
   "pygments_lexer": "ipython3",
   "version": "3.10.0"
  }
 },
 "nbformat": 4,
 "nbformat_minor": 5
}
