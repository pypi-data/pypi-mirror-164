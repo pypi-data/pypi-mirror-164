{
  "cells": [
    {
      "cell_type": "code",
      "metadata": {},
      "source": [
        "#%%\n",
        "from biogeme import models\n",
        "from biogeme.expressions import Beta, defineNumberingOfElementaryExpressions\n",
        "import biogeme.cexpressions as ee\n",
        "\n",
        "b1 = Beta('b1', 1, None, None, 0)\n",
        "b2 = Beta('b2', 1, None, None, 0)\n",
        "\n",
        "e1 = b1 + b2\n",
        "e2 = b1 * b2\n",
        "\n",
        "my_expressions = [e1, e2]\n",
        "\n",
        "(\n",
        "    elementaryExpressionIndex,\n",
        "    allFreeBetas,\n",
        "    freeBetaNames,\n",
        "    allFixedBetas,\n",
        "    fixedBetaNames,\n",
        "    allRandomVariables,\n",
        "    randomVariableNames,\n",
        "    allDraws,\n",
        "    drawNames,\n",
        ") = defineNumberingOfElementaryExpressions(\n",
        "    my_expressions,\n",
        "    list(),\n",
        ")\n",
        "\n",
        "the_ee = ee.pyEvaluateExpression()\n",
        "the_ee.setExpressions([e1.getSignature(), e2.getSignature()])\n",
        "\n"
      ],
      "outputs": [],
      "execution_count": null
    }
  ],
  "metadata": {
    "anaconda-cloud": {},
    "kernelspec": {
      "display_name": "Python 3",
      "language": "python",
      "name": "python3"
    },
    "language_info": {
      "codemirror_mode": {
        "name": "ipython",
        "version": 3
      },
      "file_extension": ".py",
      "mimetype": "text/x-python",
      "name": "python",
      "nbconvert_exporter": "python",
      "pygments_lexer": "ipython3",
      "version": "3.6.1"
    }
  },
  "nbformat": 4,
  "nbformat_minor": 4
}