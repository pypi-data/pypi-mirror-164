{
  "cells": [
    {
      "cell_type": "code",
      "metadata": {},
      "source": [
        "#%%\n",
        "from collections import defaultdict\n",
        "\n",
        "class Variable:\n",
        "    def __init__(self, value, local_gradients=()):\n",
        "        self.value = value\n",
        "        self.local_gradients = local_gradients\n",
        "    \n",
        "def add(a, b):\n",
        "    \"Create the variable that results from adding two variables.\"\n",
        "    value = a.value + b.value    \n",
        "    local_gradients = (\n",
        "        (a, 1),  # the local derivative with respect to a is 1\n",
        "        (b, 1)   # the local derivative with respect to b is 1\n",
        "    )\n",
        "    return Variable(value, local_gradients)\n",
        "\n",
        "def mul(a, b):\n",
        "    \"Create the variable that results from multiplying two variables.\"\n",
        "    value = a.value * b.value\n",
        "    local_gradients = (\n",
        "        (a, b.value), # the local derivative with respect to a is b.value\n",
        "        (b, a.value)  # the local derivative with respect to b is a.value\n",
        "    )\n",
        "    return Variable(value, local_gradients)\n",
        "\n",
        "def get_gradients(variable):\n",
        "    \"\"\" Compute the first derivatives of `variable` \n",
        "    with respect to child variables.\n",
        "    \"\"\"\n",
        "    gradients = defaultdict(lambda: 0)\n",
        "    \n",
        "    def compute_gradients(variable, path_value):\n",
        "        for child_variable, local_gradient in variable.local_gradients:\n",
        "            # \"Multiply the edges of a path\":\n",
        "            value_of_path_to_child = path_value * local_gradient\n",
        "            # \"Add together the different paths\":\n",
        "            gradients[child_variable] += value_of_path_to_child\n",
        "            # recurse through graph:\n",
        "            compute_gradients(child_variable, value_of_path_to_child)\n",
        "    \n",
        "    compute_gradients(variable, path_value=1)\n",
        "    # (path_value=1 is from `variable` differentiated w.r.t. itself)\n",
        "    return gradients\n",
        "\n",
        "a = Variable(4)\n",
        "b = Variable(3)\n",
        "c = add(a, b)\n",
        "d = mul(a, c)\n",
        "\n",
        "gradients = get_gradients(d)\n",
        "\n",
        "print(gradients)\n"
      ],
      "outputs": [],
      "execution_count": null
    }
  ],
  "metadata": {
    "anaconda-cloud": {},
    "kernelspec": {
      "display_name": "Python 3",
      "language": "python",
      "name": "python3"
    },
    "language_info": {
      "codemirror_mode": {
        "name": "ipython",
        "version": 3
      },
      "file_extension": ".py",
      "mimetype": "text/x-python",
      "name": "python",
      "nbconvert_exporter": "python",
      "pygments_lexer": "ipython3",
      "version": "3.6.1"
    }
  },
  "nbformat": 4,
  "nbformat_minor": 4
}