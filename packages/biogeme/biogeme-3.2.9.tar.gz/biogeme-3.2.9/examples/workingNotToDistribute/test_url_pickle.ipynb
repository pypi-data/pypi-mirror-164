{
  "cells": [
    {
      "cell_type": "code",
      "metadata": {},
      "source": [
        "#%%\n",
        "import pickle\n",
        "import urllib.request as urlr\n",
        "import urllib.error as urle\n",
        "#from urllib.request import urlopen\n",
        "import biogeme.results as res\n",
        "\n",
        "\n",
        "pickle_file = 'https://courses.edx.org/asset-v1:EPFLx+ChoiceModels2x+3T2021+type@asset+block@02asv.pickle'\n",
        "\n",
        "#pickle_file = 'https://courses.edx.org/asset-v1:EPFLx+ChoiceModels2x+3T2021+type@asset+block@0asv.pickle'\n",
        "\n",
        "\n",
        "try:\n",
        "    with urlr.urlopen(pickle_file) as p:\n",
        "        data = pickle.load(p)\n",
        "except urle.HTTPError:\n",
        "    pass\n",
        "try:\n",
        "    with open(pickle_file, 'rb') as p:\n",
        "        data = pickle.load(p)\n",
        "except FileNotFoundError:\n",
        "    print('FILE NOT FOUND')\n",
        "    \n",
        "results = res.bioResults(data)\n",
        "print(results.printGeneralStatistics())\n",
        "        \n"
      ],
      "outputs": [],
      "execution_count": null
    }
  ],
  "metadata": {
    "anaconda-cloud": {},
    "kernelspec": {
      "display_name": "Python 3",
      "language": "python",
      "name": "python3"
    },
    "language_info": {
      "codemirror_mode": {
        "name": "ipython",
        "version": 3
      },
      "file_extension": ".py",
      "mimetype": "text/x-python",
      "name": "python",
      "nbconvert_exporter": "python",
      "pygments_lexer": "ipython3",
      "version": "3.6.1"
    }
  },
  "nbformat": 4,
  "nbformat_minor": 4
}