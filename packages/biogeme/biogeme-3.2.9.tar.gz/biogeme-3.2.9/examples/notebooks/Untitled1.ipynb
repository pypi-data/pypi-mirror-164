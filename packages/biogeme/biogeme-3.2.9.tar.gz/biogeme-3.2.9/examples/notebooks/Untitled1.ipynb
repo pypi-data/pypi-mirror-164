{
 "cells": [
  {
   "cell_type": "code",
   "execution_count": 1,
   "id": "b9e9d881",
   "metadata": {},
   "outputs": [],
   "source": [
    "from biogeme.expressions import RandomVariable, Integrate"
   ]
  },
  {
   "cell_type": "code",
   "execution_count": 2,
   "id": "600725e5",
   "metadata": {},
   "outputs": [],
   "source": [
    "d1 = RandomVariable('Variable1')\n",
    "d2 = RandomVariable('Variable2')\n"
   ]
  },
  {
   "cell_type": "code",
   "execution_count": 3,
   "id": "682ef4fe",
   "metadata": {},
   "outputs": [
    {
     "data": {
      "text/plain": [
       "(Variable1 + Integrate(`2.0`, \"Variable2\"))"
      ]
     },
     "execution_count": 3,
     "metadata": {},
     "output_type": "execute_result"
    }
   ],
   "source": [
    "result = d1 + Integrate(2, d2)\n",
    "result"
   ]
  },
  {
   "cell_type": "code",
   "execution_count": 4,
   "id": "534dca6d",
   "metadata": {},
   "outputs": [
    {
     "data": {
      "text/plain": [
       "[]"
      ]
     },
     "execution_count": 4,
     "metadata": {},
     "output_type": "execute_result"
    }
   ],
   "source": [
    "result.check_draws()"
   ]
  },
  {
   "cell_type": "code",
   "execution_count": 5,
   "id": "ff6c22e0",
   "metadata": {},
   "outputs": [
    {
     "name": "stdout",
     "output_type": "stream",
     "text": [
      "False\n"
     ]
    }
   ],
   "source": [
    "if result.check_panel_trajectory():\n",
    "    print(True)\n",
    "else:\n",
    "    print(False)"
   ]
  },
  {
   "cell_type": "code",
   "execution_count": null,
   "id": "ed33523b",
   "metadata": {},
   "outputs": [],
   "source": []
  }
 ],
 "metadata": {
  "kernelspec": {
   "display_name": "Python 3 (ipykernel)",
   "language": "python",
   "name": "python3"
  },
  "language_info": {
   "codemirror_mode": {
    "name": "ipython",
    "version": 3
   },
   "file_extension": ".py",
   "mimetype": "text/x-python",
   "name": "python",
   "nbconvert_exporter": "python",
   "pygments_lexer": "ipython3",
   "version": "3.10.4"
  }
 },
 "nbformat": 4,
 "nbformat_minor": 5
}
