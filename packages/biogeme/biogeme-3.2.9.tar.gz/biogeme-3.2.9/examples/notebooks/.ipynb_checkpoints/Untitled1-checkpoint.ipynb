{
 "cells": [
  {
   "cell_type": "code",
   "execution_count": 3,
   "id": "b9e9d881",
   "metadata": {},
   "outputs": [],
   "source": [
    "from biogeme.expressions import Variable, PanelLikelihoodTrajectory"
   ]
  },
  {
   "cell_type": "code",
   "execution_count": 4,
   "id": "600725e5",
   "metadata": {},
   "outputs": [],
   "source": [
    "Variable1 = Variable('Variable1')\n",
    "Variable2 = Variable('Variable2')"
   ]
  },
  {
   "cell_type": "raw",
   "id": "5bed2c6d",
   "metadata": {},
   "source": [
    "result = Variable1 + PanelLikelihoodTrajectory(Variable2)\n",
    "result"
   ]
  },
  {
   "cell_type": "code",
   "execution_count": 4,
   "id": "ff6c22e0",
   "metadata": {},
   "outputs": [
    {
     "data": {
      "text/plain": [
       "((`1.0` - Variable1) - Variable1)"
      ]
     },
     "execution_count": 4,
     "metadata": {},
     "output_type": "execute_result"
    }
   ],
   "source": [
    "second = result - Variable1\n",
    "second"
   ]
  },
  {
   "cell_type": "code",
   "execution_count": 5,
   "id": "37dace3c",
   "metadata": {},
   "outputs": [
    {
     "data": {
      "text/plain": [
       "[(`1.0` - Variable1), ((`1.0` - Variable1) - Variable1)]"
      ]
     },
     "execution_count": 5,
     "metadata": {},
     "output_type": "execute_result"
    }
   ],
   "source": [
    "Variable1.parents"
   ]
  },
  {
   "cell_type": "code",
   "execution_count": 6,
   "id": "1d7fb5f4",
   "metadata": {},
   "outputs": [
    {
     "name": "stdout",
     "output_type": "stream",
     "text": [
      "Compare (`1.0` - Variable1) and Variable1\n",
      "TRUE\n"
     ]
    },
    {
     "data": {
      "text/plain": [
       "True"
      ]
     },
     "execution_count": 6,
     "metadata": {},
     "output_type": "execute_result"
    }
   ],
   "source": [
    "result.is_parent_of(Variable1)"
   ]
  },
  {
   "cell_type": "code",
   "execution_count": null,
   "id": "ed33523b",
   "metadata": {},
   "outputs": [],
   "source": []
  }
 ],
 "metadata": {
  "kernelspec": {
   "display_name": "Python 3 (ipykernel)",
   "language": "python",
   "name": "python3"
  },
  "language_info": {
   "codemirror_mode": {
    "name": "ipython",
    "version": 3
   },
   "file_extension": ".py",
   "mimetype": "text/x-python",
   "name": "python",
   "nbconvert_exporter": "python",
   "pygments_lexer": "ipython3",
   "version": "3.10.4"
  }
 },
 "nbformat": 4,
 "nbformat_minor": 5
}
