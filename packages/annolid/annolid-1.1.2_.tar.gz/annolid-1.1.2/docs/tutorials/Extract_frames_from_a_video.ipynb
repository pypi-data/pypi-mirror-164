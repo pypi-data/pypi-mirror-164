{
  "nbformat": 4,
  "nbformat_minor": 2,
  "metadata": {
    "colab": {
      "name": "Extract frames from a video.ipynb",
      "provenance": [],
      "collapsed_sections": []
    },
    "kernelspec": {
      "name": "python3",
      "display_name": "Python 3"
    }
  },
  "cells": [
    {
      "cell_type": "markdown",
      "source": [
        "<a href=\"http://colab.research.google.com/github/healthonrails/annolid/blob/main/docs/tutorials/Extract_frames_from_a_video.ipynb\" target=\"_blank\">\n",
        "  <img src=\"https://colab.research.google.com/assets/colab-badge.svg\" alt=\"Open In Colab\"/>\n",
        "</a>"
      ],
      "metadata": {
        "id": "TxAFRwRkk824",
        "colab_type": "text"
      }
    },
    {
      "cell_type": "markdown",
      "source": [
        "## Upload a video file"
      ],
      "metadata": {
        "id": "MxEUxKFQgXH2",
        "colab_type": "text"
      }
    },
    {
      "cell_type": "code",
      "execution_count": null,
      "source": [
        "from google.colab import files\n",
        "my_vidoe = files.upload()"
      ],
      "outputs": [],
      "metadata": {
        "id": "of1otpd8gher",
        "colab_type": "code",
        "colab": {}
      }
    },
    {
      "cell_type": "markdown",
      "source": [
        "## Clone and Install Annolid"
      ],
      "metadata": {
        "id": "dkf44S4phXT1",
        "colab_type": "text"
      }
    },
    {
      "cell_type": "code",
      "execution_count": null,
      "source": [
        "# The root folder\n",
        "%cd /content\n",
        "# Clone the repo\n",
        "!git clone --recurse-submodules https://github.com/healthonrails/annolid.git\n"
      ],
      "outputs": [],
      "metadata": {
        "id": "Ukc8U43Kgq7X",
        "colab_type": "code",
        "colab": {}
      }
    },
    {
      "cell_type": "code",
      "execution_count": null,
      "source": [
        "# install annolid\n",
        "%cd /content/annolid/\n",
        "!pip install -e ."
      ],
      "outputs": [],
      "metadata": {
        "id": "SNmoUKrDh0ix",
        "colab_type": "code",
        "colab": {}
      }
    },
    {
      "cell_type": "markdown",
      "source": [
        "# Extract frames from a video"
      ],
      "metadata": {
        "id": "MXqnKffAid95",
        "colab_type": "text"
      }
    },
    {
      "cell_type": "code",
      "execution_count": null,
      "source": [
        "# You can upload a video or use gdown to download video from Google drive\n",
        "# Please change the absolute video path e.g. /content/wbc.mp4\n",
        "!python annolid/main.py -v /content/wbc.mp4 --extract_frames=10 --algo=random"
      ],
      "outputs": [],
      "metadata": {
        "id": "CkYQTznQih67",
        "colab_type": "code",
        "colab": {}
      }
    },
    {
      "cell_type": "markdown",
      "source": [
        "# Zip and Download the extracted frames"
      ],
      "metadata": {
        "id": "x17arPW4zMez",
        "colab_type": "text"
      }
    },
    {
      "cell_type": "code",
      "execution_count": null,
      "source": [
        "# please input the correct absolute folder path for the extracted frames\n",
        "# e.g. /content/wbc\n",
        "!zip -r -D my_extracted_video_frames.zip /content/my_video\n",
        "files.download('my_extracted_video_frames.zip')"
      ],
      "outputs": [],
      "metadata": {
        "id": "EhVkv7P5zRWy",
        "colab_type": "code",
        "colab": {}
      }
    }
  ]
}