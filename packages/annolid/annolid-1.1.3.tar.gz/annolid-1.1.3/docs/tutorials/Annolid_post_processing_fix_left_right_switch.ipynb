{
  "nbformat": 4,
  "nbformat_minor": 2,
  "metadata": {
    "colab": {
      "name": "Annolid_post_processing_fix_left_right_switch.ipynb",
      "provenance": []
    },
    "kernelspec": {
      "name": "python3",
      "display_name": "Python 3"
    },
    "language_info": {
      "name": "python"
    }
  },
  "cells": [
    {
      "cell_type": "markdown",
      "source": [
        "<a href=\"https://colab.research.google.com/github/healthonrails/annolid/blob/main/docs/tutorials/Annolid_post_processing_fix_left_right_switch.ipynb\" target=\"_blank\"><img src=\"https://colab.research.google.com/assets/colab-badge.svg\" alt=\"Open In Colab\"/></a>"
      ],
      "metadata": {
        "id": "ly1dZ78l0cvE"
      }
    },
    {
      "cell_type": "markdown",
      "source": [
        "# Post-processsing of left right switch issues\n"
      ],
      "metadata": {}
    },
    {
      "cell_type": "code",
      "execution_count": null,
      "source": [
        "import pandas as pd\n",
        "import numpy as np\n",
        "import cv2\n",
        "from pycocotools import mask as mask_util\n",
        "import ast\n",
        "import plotly.express as px\n",
        "import plotly.graph_objects as go\n",
        "import warnings\n",
        "from google.colab import files\n",
        "from pathlib import  Path\n",
        "warnings.filterwarnings('ignore')\n",
        "%matplotlib inline"
      ],
      "outputs": [],
      "metadata": {
        "id": "wbOv4oCCz6Jg"
      }
    },
    {
      "cell_type": "code",
      "execution_count": null,
      "source": [
        "TRACKING_CSV_FILE = \"/content/tracking_results_with_segmenation.csv\"\n",
        "df = pd.read_csv(TRACKING_CSV_FILE)"
      ],
      "outputs": [],
      "metadata": {
        "id": "2Z2DABbX0_Bj"
      }
    },
    {
      "cell_type": "code",
      "execution_count": null,
      "source": [
        "df.head()"
      ],
      "outputs": [],
      "metadata": {
        "id": "xit393rZ1Hp5"
      }
    },
    {
      "cell_type": "code",
      "execution_count": null,
      "source": [
        "height, width = ast.literal_eval(df.iloc[0].segmentation)['size']"
      ],
      "outputs": [],
      "metadata": {
        "id": "jsCMxNe-0GJB"
      }
    },
    {
      "cell_type": "markdown",
      "source": [
        "# Calculate the bbox center point x, y locations"
      ],
      "metadata": {
        "id": "2VTO96xKzX6o"
      }
    },
    {
      "cell_type": "code",
      "execution_count": null,
      "source": [
        "cx = (df.x1 + df.x2)/2\n",
        "cy = (df.y1 + df.y2)/2\n",
        "df['cx'] = cx\n",
        "df['cy'] = cy"
      ],
      "outputs": [],
      "metadata": {
        "id": "c3VcLn2F1Ka1"
      }
    },
    {
      "cell_type": "markdown",
      "source": [
        "## Fix the left right switch by checking the middle point of the video width. It works best for non-moving or objects not cross the middle.\n",
        "### We assume your labels have Left and Right in it e.g. LeftZone, RightZone, LeftTeaball, or RightTeaball. "
      ],
      "metadata": {
        "id": "QQFc_nrLzrhE"
      }
    },
    {
      "cell_type": "code",
      "execution_count": null,
      "source": [
        "def switch_left_right(row,width=800):\n",
        "    instance_name = row['instance_name']\n",
        "    if 'cx' in row:\n",
        "        x_val = row['cx']\n",
        "    else:\n",
        "        x_val = row['x1']\n",
        "    if 'Left' in instance_name and x_val >= width / 2:\n",
        "        return instance_name.replace('Left','Right')\n",
        "    elif 'Right' in instance_name and x_val < width / 2:\n",
        "        return instance_name.replace('Right','Left')\n",
        "    return instance_name "
      ],
      "outputs": [],
      "metadata": {
        "id": "SCIKwPKOzqsl"
      }
    },
    {
      "cell_type": "code",
      "execution_count": null,
      "source": [
        "df['instance_name'] = df.apply(lambda row: switch_left_right(row,width),axis=1)"
      ],
      "outputs": [],
      "metadata": {
        "id": "BPUa0VrdzzhO"
      }
    },
    {
      "cell_type": "code",
      "execution_count": null,
      "source": [
        "df.tail()"
      ],
      "outputs": [],
      "metadata": {
        "id": "E8LqvNmCz3Cf"
      }
    },
    {
      "cell_type": "markdown",
      "source": [
        "## Fill the left zone and right zone with mode "
      ],
      "metadata": {
        "id": "r1zzbK3H0VSv"
      }
    },
    {
      "cell_type": "code",
      "execution_count": null,
      "source": [
        "df_leftzone = df[df.instance_name == 'LeftZone'].mode().iloc[0]\n",
        "df_rightzone = df[df.instance_name == 'RightZone'].mode().iloc[0]\n",
        "#Fill missing LeftZone\n",
        "instance_name = 'LeftZone'\n",
        "fill_value = df_leftzone\n",
        "for frame_number in df.frame_number:\n",
        "    instance_names = df[df.frame_number == frame_number].instance_name.to_list()\n",
        "    if instance_name not in instance_names:\n",
        "        fill_value.frame_number = frame_number\n",
        "        df = df.append(fill_value, ignore_index=True)\n",
        "\n",
        "#Fill missing RightZone\n",
        "instance_name = 'RightZone'\n",
        "fill_value = df_rightzone\n",
        "for frame_number in df.frame_number:\n",
        "    instance_names = df[df.frame_number == frame_number].instance_name.to_list()\n",
        "    if instance_name not in instance_names:\n",
        "        fill_value.frame_number = frame_number\n",
        "        df = df.append(fill_value, ignore_index=True)"
      ],
      "outputs": [],
      "metadata": {
        "id": "AdPWOHXI0Q1_"
      }
    },
    {
      "cell_type": "markdown",
      "source": [
        "### Fix missing predicted instances for each frame with in the given moving window."
      ],
      "metadata": {
        "id": "CGvZkqu501O9"
      }
    },
    {
      "cell_type": "code",
      "execution_count": null,
      "source": [
        "#disable false positive warning\n",
        "pd.options.mode.chained_assignment = None\n",
        "moving_window=5\n",
        "all_instance_names = set(df.instance_name.unique())\n",
        "count = 0\n",
        "excluded_instances = set(['Nose','Center','Tailbase','LeftInteract','RightInteract'])\n",
        "# do not fill body parts\n",
        "all_instance_names = all_instance_names - excluded_instances\n",
        "print(\"Fill the instane with name in the list: \", all_instance_names)\n",
        "missing_predictions = []\n",
        "max_frame_number = df.frame_number.max()\n",
        "for frame_number in df.frame_number:\n",
        "    pred_instance = set(\n",
        "        df[df.frame_number==frame_number].instance_name.unique()\n",
        "        )\n",
        "    missing_instance = all_instance_names - pred_instance\n",
        "    for instance_name in missing_instance:\n",
        "        frame_range_end=frame_number + moving_window\n",
        "        if frame_range_end > max_frame_number:\n",
        "            df_instance = df[(df.frame_number.between(max_frame_number-moving_window,\n",
        "                                                      max_frame_number)) &\n",
        "                             (df.instance_name == instance_name)\n",
        "                            ]\n",
        "           \n",
        "        else:\n",
        "            \n",
        "            df_instance = df[\n",
        "                            (df.frame_number.between(frame_number,\n",
        "                                                      frame_range_end))\n",
        "                            & (df.instance_name == instance_name)\n",
        "                            ]\n",
        "        if df_instance.shape[0] >= 1:\n",
        "            fill_value = df_instance.iloc[0]\n",
        "        else:\n",
        "            #(f\"No instances {instance_name} in this window\")\n",
        "            # move to the next frame\n",
        "            continue\n",
        "        fill_value.frame_number = frame_number\n",
        "        missing_predictions.append(fill_value)\n",
        "        count += 1\n",
        "        if count % 1000 == 0:\n",
        "            print(f'Filling {count} missing {instance_name}')\n",
        "df = df.append(missing_predictions, ignore_index=True)"
      ],
      "outputs": [],
      "metadata": {
        "id": "gck9z-DM0ZXm"
      }
    },
    {
      "cell_type": "markdown",
      "source": [
        "## Download the post-processed result CSV file to your local device"
      ],
      "metadata": {
        "id": "GGyaiH8q1NMb"
      }
    },
    {
      "cell_type": "code",
      "execution_count": null,
      "source": [
        "tracking_results_csv = f\"{Path(TRACKING_CSV_FILE).stem}_fixed_left_right_switches.csv\"\n",
        "df.to_csv(tracking_results_csv)\n",
        "files.download(tracking_results_csv)"
      ],
      "outputs": [],
      "metadata": {
        "id": "Ik_FP5Ts1mHf"
      }
    }
  ]
}